{
 "cells": [
  {
   "cell_type": "markdown",
   "id": "19ecb6bb-4c94-424a-990e-94f2c22320a4",
   "metadata": {},
   "source": [
    "# Python Boolean Type"
   ]
  },
  {
   "cell_type": "markdown",
   "id": "aa2cb4cb-f297-47b4-b192-c794537ad82a",
   "metadata": {},
   "source": [
    "In Python, the boolean type is a built-in data type that has two possible values: `True` and `False`. Booleans are used to represent the truth values of logical expressions, and they are often used in conditional statements to control the flow of a program.\n",
    "\n",
    "You can create boolean values using the literals `True` and `False`, or by using expressions that evaluate to boolean values."
   ]
  },
  {
   "cell_type": "code",
   "execution_count": 1,
   "id": "8b39323f-6741-47ac-bcbf-50600bdc4293",
   "metadata": {},
   "outputs": [
    {
     "name": "stdout",
     "output_type": "stream",
     "text": [
      "False\n",
      "True\n"
     ]
    }
   ],
   "source": [
    "a=5\n",
    "b=10\n",
    "c = a>b\n",
    "d = a<b\n",
    "print(c)\n",
    "print(d)"
   ]
  },
  {
   "cell_type": "markdown",
   "id": "37a721ad-6302-455c-a922-44a04d221afe",
   "metadata": {},
   "source": [
    "Boolean values can be combined using logical operators. The most common logical operators are:\n",
    "- `add`: return True if both operands are True, otherwise False.\n",
    "- `or`: return True if either operand is True, otherwise False.\n",
    "- `not`: neglates the value of the operand"
   ]
  },
  {
   "cell_type": "code",
   "execution_count": 5,
   "id": "e34f3fbe-2606-4c51-a56b-248d1cd66f42",
   "metadata": {},
   "outputs": [
    {
     "name": "stdout",
     "output_type": "stream",
     "text": [
      "False\n",
      "True\n",
      "False\n"
     ]
    }
   ],
   "source": [
    "x = True\n",
    "y = False\n",
    "print(x and y)\n",
    "print(x or y)\n",
    "print(not x)"
   ]
  },
  {
   "cell_type": "markdown",
   "id": "eb668c84-c2bf-4f70-b23b-0141f6b6333e",
   "metadata": {},
   "source": [
    "In Python, any `non-zero number`, `non-empty string`, `non-empty list`, `non-empty tuple`, `non-empty dictionary`, or `non-None object` is considered `True`. Zero, empty strings, empty lists, empty tuples, empty dictionaries, and None are considered `False`."
   ]
  },
  {
   "cell_type": "code",
   "execution_count": 6,
   "id": "5f6b68ed-8259-440a-80ae-a633ccba5e63",
   "metadata": {},
   "outputs": [],
   "source": [
    "x = 10\n",
    "y = 0\n",
    "s = \"Hello\"\n",
    "t = \"\"\n",
    "a = []\n",
    "b = [\"Punk\"]\n"
   ]
  },
  {
   "cell_type": "code",
   "execution_count": 7,
   "id": "496f8e8a-e1d4-458c-909d-a44539981059",
   "metadata": {},
   "outputs": [
    {
     "name": "stdout",
     "output_type": "stream",
     "text": [
      "True\n",
      "False\n",
      "True\n",
      "False\n",
      "False\n",
      "True\n"
     ]
    }
   ],
   "source": [
    "print(bool(x))\n",
    "print(bool(y))\n",
    "print(bool(s))\n",
    "print(bool(t))\n",
    "print(bool(a))\n",
    "print(bool(b))"
   ]
  },
  {
   "cell_type": "code",
   "execution_count": 8,
   "id": "4816f9ad-ae35-4464-8561-2c91383c73cb",
   "metadata": {},
   "outputs": [],
   "source": [
    "lst = [1, 2, 3]\n",
    "empty_lst = []\n",
    "dct = {\"a\": 1, \"b\": 2}\n",
    "empty_dct = {}\n",
    "obj = object()\n",
    "none_obj = None"
   ]
  },
  {
   "cell_type": "code",
   "execution_count": 9,
   "id": "ecab5901-a9e1-4120-807f-d4f209f313d3",
   "metadata": {},
   "outputs": [
    {
     "name": "stdout",
     "output_type": "stream",
     "text": [
      "True\n",
      "False\n"
     ]
    }
   ],
   "source": [
    "print(bool(lst))       # True\n",
    "print(bool(empty_lst)) # False"
   ]
  },
  {
   "cell_type": "code",
   "execution_count": 10,
   "id": "8bf24e9b-0a65-4f7c-ac0a-7be17c555337",
   "metadata": {},
   "outputs": [
    {
     "name": "stdout",
     "output_type": "stream",
     "text": [
      "True\n",
      "False\n"
     ]
    }
   ],
   "source": [
    "print(bool(dct))   \n",
    "print(bool(empty_dct))"
   ]
  },
  {
   "cell_type": "code",
   "execution_count": 11,
   "id": "bafe2321-6932-420f-848c-7ed82679b735",
   "metadata": {},
   "outputs": [
    {
     "name": "stdout",
     "output_type": "stream",
     "text": [
      "True\n",
      "False\n"
     ]
    }
   ],
   "source": [
    "print(bool(obj))       \n",
    "print(bool(none_obj)) "
   ]
  },
  {
   "cell_type": "code",
   "execution_count": null,
   "id": "deef2a97-aca5-4ba8-bad3-35726def109b",
   "metadata": {},
   "outputs": [],
   "source": []
  }
 ],
 "metadata": {
  "kernelspec": {
   "display_name": "Python 3 (ipykernel)",
   "language": "python",
   "name": "python3"
  },
  "language_info": {
   "codemirror_mode": {
    "name": "ipython",
    "version": 3
   },
   "file_extension": ".py",
   "mimetype": "text/x-python",
   "name": "python",
   "nbconvert_exporter": "python",
   "pygments_lexer": "ipython3",
   "version": "3.12.2"
  }
 },
 "nbformat": 4,
 "nbformat_minor": 5
}
