{
 "cells": [
  {
   "cell_type": "markdown",
   "id": "921a19db-626d-4db0-94bc-d52c7405210a",
   "metadata": {},
   "source": [
    "# Python"
   ]
  },
  {
   "cell_type": "markdown",
   "id": "9094fc79-78ee-43af-af1b-21f8b150169e",
   "metadata": {},
   "source": [
    "#### 1. What is Python? What are the benefits of using Python?\n",
    "Python is a programming language with objects, modules,  threads, exceptions and automatic memory management. The benefits of pythons are that it is simple and easy, portable, extensible, build-in data structure and it is an open source."
   ]
  },
  {
   "cell_type": "markdown",
   "id": "f05a1768-b26f-47f6-a3f6-f8a213ec4326",
   "metadata": {},
   "source": [
    "#### 2. What is PEP 8?\n",
    "Pep 8 is a coding convention, a set of recommendation, about how to write your Python code more readeable."
   ]
  },
  {
   "cell_type": "markdown",
   "id": "8b5e3e76-89a6-4f7a-84ed-a984083bc388",
   "metadata": {},
   "source": [
    "#### 3. How Python is Interpreted?\n",
    "Python language is an interpreted language. Python program runs directly from the source code. It converts the source code that is written by the programmer into an intermediate language, which is again translated into machine language that has to be executed."
   ]
  },
  {
   "cell_type": "code",
   "execution_count": null,
   "id": "57dfbf3b-565b-409c-a888-a2f49ebc64c0",
   "metadata": {},
   "outputs": [],
   "source": []
  }
 ],
 "metadata": {
  "kernelspec": {
   "display_name": "Python 3 (ipykernel)",
   "language": "python",
   "name": "python3"
  },
  "language_info": {
   "codemirror_mode": {
    "name": "ipython",
    "version": 3
   },
   "file_extension": ".py",
   "mimetype": "text/x-python",
   "name": "python",
   "nbconvert_exporter": "python",
   "pygments_lexer": "ipython3",
   "version": "3.12.2"
  }
 },
 "nbformat": 4,
 "nbformat_minor": 5
}
