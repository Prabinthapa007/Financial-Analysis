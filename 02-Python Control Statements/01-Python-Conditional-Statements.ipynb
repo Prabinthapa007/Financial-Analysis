{
 "cells": [
  {
   "cell_type": "markdown",
   "id": "a037c756-41d8-417e-9140-236363f4c8b7",
   "metadata": {},
   "source": [
    "# Python Control Statements"
   ]
  },
  {
   "cell_type": "markdown",
   "id": "39e1369c-846c-4f92-a026-02dfb9e9b029",
   "metadata": {},
   "source": [
    "Python control statements\n",
    "\n",
    "- direct the flow of execution in a program,\n",
    "- allowing for conditional execution,\n",
    "- repeated execution, and\n",
    "- the selection among different paths."
   ]
  },
  {
   "cell_type": "markdown",
   "id": "fafd02cd-7f7d-431a-8ccb-2a43d51f06dc",
   "metadata": {},
   "source": [
    "##### Python control statements"
   ]
  },
  {
   "cell_type": "markdown",
   "id": "b33d6851-a3aa-4254-b192-2433a8dcd305",
   "metadata": {},
   "source": [
    "- Conditional Statements: if, elif, else\n",
    "- Loop Statements: for, while\n",
    "- Comprehensions: list, dictionary, set"
   ]
  },
  {
   "cell_type": "markdown",
   "id": "6de6048a-7132-4926-b5e8-46f63ebf6eb2",
   "metadata": {},
   "source": [
    "## 01. Conditional Statements"
   ]
  },
  {
   "cell_type": "markdown",
   "id": "98b132df-e88a-4f70-80a9-7ee5be19b7e8",
   "metadata": {},
   "source": [
    "### Python Conditional statements\n",
    "The `if` statement is used in Python to check whether a condition is `True` or `False`, and then perform an action based on that condition. The basic syntax of the `if` statement is as follows:\n",
    "\n",
    "```python\n",
    "if condition:\n",
    "    do something\n",
    "```\n",
    "The `condition` is an expression that returns a boolean value (True or False). If the condition is `True`, then the code block that follows the `if` statement is executed. If the condition is `False`, then the code block is skipped.\n",
    "\n",
    "Here is an example of how to use the `if` statement in Python:"
   ]
  },
  {
   "cell_type": "code",
   "execution_count": 4,
   "id": "3d090917-2c02-4c71-8178-53393789d334",
   "metadata": {},
   "outputs": [
    {
     "name": "stdout",
     "output_type": "stream",
     "text": [
      "Given number is -10\n"
     ]
    }
   ],
   "source": [
    "x = -10\n",
    "if x > 0:\n",
    "    print(\"x is positive\")\n",
    "\n",
    "print(f\"Given number is {x}\")"
   ]
  },
  {
   "cell_type": "markdown",
   "id": "e883f16e-ba93-404a-ba53-4b5e00a04fe9",
   "metadata": {},
   "source": [
    "In this example, the `if` statement checks whether `x` is greater than `0`. If the condition is `True`, then the code block that follows the `if` statement (which is just a print statement) is executed.\n",
    "\n",
    "Multiple conditions can be checked in an `if` statement by using logical operators like `and` and `or`. Here is an example:"
   ]
  },
  {
   "cell_type": "code",
   "execution_count": 2,
   "id": "cebfccb5-627c-47c8-a608-1382be3b6d10",
   "metadata": {},
   "outputs": [
    {
     "name": "stdout",
     "output_type": "stream",
     "text": [
      "Both x and y are positive\n"
     ]
    }
   ],
   "source": [
    "x = 10\n",
    "y = 5\n",
    "\n",
    "if x>0 and y>0:\n",
    "    print(\"Both x and y are positive\")"
   ]
  },
  {
   "cell_type": "markdown",
   "id": "aa66406d-4892-484e-a6b4-fe9e7e5177c5",
   "metadata": {},
   "source": [
    "In this example, the `if` statement checks whether both `x` and `y` are greater than `0`. If the condition is `True`, then the code block that follows the `if` statement is executed.\n",
    "\n",
    "The `if` statement can also be followed by an `else` clause, which is executed if the condition is `False`. Here is an example:"
   ]
  },
  {
   "cell_type": "code",
   "execution_count": 3,
   "id": "4af9862b-39b1-4e76-a25b-4d1891808915",
   "metadata": {},
   "outputs": [
    {
     "name": "stdout",
     "output_type": "stream",
     "text": [
      "x is negative\n"
     ]
    }
   ],
   "source": [
    "x = -10\n",
    "if x > 0:\n",
    "    print(\"x is positive\")\n",
    "else:\n",
    "    print(\"x is negative\")"
   ]
  },
  {
   "cell_type": "markdown",
   "id": "490cd12b-39f8-49b3-8f51-57dddee4d843",
   "metadata": {},
   "source": [
    "In this example, the `if` statement checks whether `x` is greater than `0`. If the condition is `True`, then the first print statement is executed. If the condition is `False`, then the code block that follows the `else` statement (which is the second print statement) is executed.\n",
    "\n",
    "In addition to the `else` clause, the `if` statement can also be followed by an `elif` (short for \"else if\") clause, which allows for multiple conditions to be checked. Here is an example:"
   ]
  },
  {
   "cell_type": "code",
   "execution_count": 5,
   "id": "664a739a-05b2-429f-b890-1c3d21117ff5",
   "metadata": {},
   "outputs": [
    {
     "name": "stdout",
     "output_type": "stream",
     "text": [
      "x is positive\n"
     ]
    }
   ],
   "source": [
    "x = 10 \n",
    "if x < 0:\n",
    "    print(\"x is negative\")\n",
    "elif x == 0:\n",
    "    print(\"x is zero\")\n",
    "else:\n",
    "    print(\"x is positive\")"
   ]
  },
  {
   "cell_type": "markdown",
   "id": "275a0a30-aafe-4e21-8de3-fdf0cbf1143d",
   "metadata": {},
   "source": [
    "We used a single `elif` statement here but it can be followed by multiple other `elif` statements with different possible conditions as:\n",
    "\n",
    "```python\r\n",
    "if condition 1:\r\n",
    "    do something\r\n",
    "elif condition 2:\r\n",
    "    do something\r\n",
    "...\r\n",
    "...\r\n",
    "elif condition n:\r\n",
    "    do something\r\n",
    "else:\r\n",
    "    do something\r\n",
    "```"
   ]
  },
  {
   "cell_type": "markdown",
   "id": "a1d932bc-95d4-4995-93f7-9f0f67c399c1",
   "metadata": {},
   "source": [
    "Question 1: WAP to check if number is positive , negative or zero."
   ]
  },
  {
   "cell_type": "code",
   "execution_count": 2,
   "id": "5af79158-90e7-41c0-88b2-b98845c8a21c",
   "metadata": {},
   "outputs": [
    {
     "name": "stdin",
     "output_type": "stream",
     "text": [
      "Enter a number 0\n"
     ]
    },
    {
     "name": "stdout",
     "output_type": "stream",
     "text": [
      "Given number 0 is zero\n"
     ]
    }
   ],
   "source": [
    "x = int(input(\"Enter a number\"))\n",
    "if x >0:\n",
    "    print(f\"Given number {x} is positive\")\n",
    "    if x>= 100:\n",
    "        print(\"Higher positive number\")\n",
    "    else:\n",
    "        print(\"Lower positive number.\")\n",
    "elif x<0:\n",
    "    print(f\"Given number {x} is negative\")\n",
    "else:\n",
    "    print(f\"Given number {x} is zero\")"
   ]
  },
  {
   "cell_type": "markdown",
   "id": "d75a367d-4d47-48ad-ac8d-c60d1d4ff70c",
   "metadata": {},
   "source": [
    "## Question 2: WAP to grade a number (100-80) Grade A, (80-60) Grade B , (60-40) Grade C and less than 40 Grade D."
   ]
  },
  {
   "cell_type": "code",
   "execution_count": 1,
   "id": "349aff54-0d5f-4e2a-820d-ef3244b81ea4",
   "metadata": {},
   "outputs": [
    {
     "name": "stdin",
     "output_type": "stream",
     "text": [
      "Enter your marks. 0\n"
     ]
    },
    {
     "name": "stdout",
     "output_type": "stream",
     "text": [
      "Grade D\n"
     ]
    }
   ],
   "source": [
    "marks = int(input(\"Enter your marks.\"))\n",
    "\n",
    "if marks <= 100 and marks > 80:    \n",
    "    print(\"Grade A\")\n",
    "    \n",
    "elif marks <= 80 and marks > 60:    \n",
    "    print(\"Grade B\")\n",
    "    \n",
    "elif marks <= 60 and marks> 40:    \n",
    "    print(\"Grade C\") \n",
    "\n",
    "else:\n",
    "    print(\"Grade D\")"
   ]
  },
  {
   "cell_type": "markdown",
   "id": "43f9685d-e20c-4ad0-a87b-fa6df3934c6d",
   "metadata": {},
   "source": [
    "## Python Loop Statements"
   ]
  },
  {
   "cell_type": "markdown",
   "id": "8e6451a5-6c35-4551-81f4-2619e7036b4c",
   "metadata": {},
   "source": [
    "In Python, loops are used to execute a block of code repeatedly. There are two types of loops in Python: for loops and while Loop"
   ]
  },
  {
   "cell_type": "markdown",
   "id": "671347df-2961-4916-8d31-bc0823dcd8be",
   "metadata": {},
   "source": [
    "## 1. Python For Loop\n",
    "\n",
    "The for loop is used in Python to iterate over a sequence of values, such as a list, tuple, string, or range. The basic syntax of a for loop is as follows:\r",
    "```python\n",
    "for variable in sequence:\n",
    "    do something\n",
    "\n",
    "```\n",
    " \n",
    " \n",
    "The new variable that is created with each iteration of the loop, and takes on the value of the next element in the sequence. The code block that follows the for statement is executed for each value in the sequence.\r\n",
    "\r\n",
    "Here's an example of how to use the for loop to iterate over a list:"
   ]
  },
  {
   "cell_type": "code",
   "execution_count": 1,
   "id": "a2e4f93e-6127-49be-9494-afb745eca3ba",
   "metadata": {},
   "outputs": [
    {
     "name": "stdout",
     "output_type": "stream",
     "text": [
      "apple\n",
      "banana\n",
      "cherry\n",
      "pineapple\n"
     ]
    }
   ],
   "source": [
    "fruits = ['apple', 'banana', 'cherry', 'pineapple']\n",
    "for fruit in fruits:\n",
    "    print(fruit)"
   ]
  },
  {
   "cell_type": "markdown",
   "id": "00140192-9a26-45d4-a6bb-07602d0cf739",
   "metadata": {},
   "source": [
    "In this example, the `for` loop iterates over each element in the `fruits` list, and assigns the value of each element to the `fruit` variable. The code block that follows the `for` statement (which is just a print statement in this case) is executed for each element in the list.\n",
    "\n",
    "The `range` function is commonly used in `for` loops to generate a sequence of integers. Here's an example:"
   ]
  },
  {
   "cell_type": "code",
   "execution_count": 2,
   "id": "97f16e86-3415-46f5-bbf8-39283caf0af2",
   "metadata": {},
   "outputs": [
    {
     "name": "stdout",
     "output_type": "stream",
     "text": [
      "0\n",
      "1\n",
      "2\n",
      "3\n",
      "4\n"
     ]
    }
   ],
   "source": [
    "#Example:\n",
    "for i in range(5):\n",
    "    print(i)"
   ]
  },
  {
   "cell_type": "markdown",
   "id": "b39da03e-4d59-46c7-acfc-876ab0f8560c",
   "metadata": {},
   "source": [
    "In this example, the for loop iterates over the sequence of integers generated by the range(5) function (which generates the sequence 0, 1, 2, 3, 4). The i variable takes on the value of each integer in the sequence, and the code block that follows the for statement is executed for each integer.\n",
    "\n",
    "Nested for loops can also be used to iterate over multiple sequences. Here's an example:"
   ]
  }
 ],
 "metadata": {
  "kernelspec": {
   "display_name": "Python 3 (ipykernel)",
   "language": "python",
   "name": "python3"
  },
  "language_info": {
   "codemirror_mode": {
    "name": "ipython",
    "version": 3
   },
   "file_extension": ".py",
   "mimetype": "text/x-python",
   "name": "python",
   "nbconvert_exporter": "python",
   "pygments_lexer": "ipython3",
   "version": "3.12.2"
  }
 },
 "nbformat": 4,
 "nbformat_minor": 5
}
