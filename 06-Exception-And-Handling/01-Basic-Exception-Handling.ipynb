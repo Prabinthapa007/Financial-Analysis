{
 "cells": [
  {
   "cell_type": "markdown",
   "id": "701f0f01-fdba-441d-b788-bffcb4af080e",
   "metadata": {},
   "source": [
    "# Basic Exception Handling in Python"
   ]
  },
  {
   "cell_type": "markdown",
   "id": "d2d0cc20-a73f-41c5-bc0c-357816980d61",
   "metadata": {},
   "source": [
    "In Python, you can use a try-except block to catch exceptions which follows the following syntax:\n",
    "```python\n",
    "try:\n",
    "    # code that may raise an exception\n",
    "except ExceptionType:\n",
    "    # code to handle the exception\n",
    "```\n",
    "\n",
    "Here, the `try` block contains the code that may raise an exception. The `except` block contains the code to handle the exception if it is raised.\n",
    "\n",
    "In this example below, the `try` block takes input from the user and tries to convert it to an iterger. If the input is not an integer, a ` ValueError` exception is raised. The `except` block catches the ValueError exception and prints an error message. Trying giving both numbers and other data types as input."
   ]
  },
  {
   "cell_type": "markdown",
   "id": "9b054637-85f9-4b61-b76a-4634fce446e8",
   "metadata": {},
   "source": [
    "``` python\n",
    "try:\n",
    "    // try block\n",
    "except TypeError:\n",
    "    // error handle\n",
    "except DivideByZero:\n",
    "    // error handle\n",
    "```"
   ]
  },
  {
   "cell_type": "code",
   "execution_count": 2,
   "id": "977d8ac5-69ab-440e-9c53-acb79f562e54",
   "metadata": {},
   "outputs": [
    {
     "name": "stdin",
     "output_type": "stream",
     "text": [
      "Enter a number:  12.1\n"
     ]
    },
    {
     "name": "stdout",
     "output_type": "stream",
     "text": [
      "Invalid input, You should enter a number.\n"
     ]
    }
   ],
   "source": [
    "try:\n",
    "    num = int(input(\"Enter a number: \"))\n",
    "    print(num)\n",
    "except ValueError:\n",
    "    print(\"Invalid input, You should enter a number.\")\n",
    "\n"
   ]
  },
  {
   "cell_type": "markdown",
   "id": "a8226c3f-b8d9-495d-8e04-9168e228e0a6",
   "metadata": {},
   "source": [
    "<br>"
   ]
  },
  {
   "cell_type": "markdown",
   "id": "f38a70fe-d5ab-4292-912f-0088fb585f04",
   "metadata": {},
   "source": [
    "### Catching Multiple Exceptions"
   ]
  },
  {
   "cell_type": "markdown",
   "id": "ce088297-f521-49cc-88b7-600334d3f1af",
   "metadata": {},
   "source": [
    "You can catch multiple exceptions in a `try-except` block. Here's a syntax for your reference.\n",
    "```python\n",
    "try:\n",
    "    # code that may raise an exception\n",
    "except ExceptionType1:\n",
    "    # code to handle  exception1\n",
    "except ExceptionType2:\n",
    "    # code to handle exception2\n",
    "```\n",
    "\n",
    "In this example, the try block may raise two different types of exceptions. The except blocks catch the different types of exceptions and handle them appropriately."
   ]
  },
  {
   "cell_type": "code",
   "execution_count": 3,
   "id": "dfd2c4f1-0e8c-4487-b42f-f0db7a92cca9",
   "metadata": {},
   "outputs": [
    {
     "name": "stdin",
     "output_type": "stream",
     "text": [
      "Enter a number:  22\n",
      "Enter another number:  0\n"
     ]
    },
    {
     "name": "stdout",
     "output_type": "stream",
     "text": [
      "Exception: division by zero\n"
     ]
    }
   ],
   "source": [
    "try:\n",
    "    num1 = int(input(\"Enter a number: \"))\n",
    "    num2 = int(input(\"Enter another number: \"))\n",
    "    result = num1/num2\n",
    "    print(result)\n",
    "except ValueError:\n",
    "    print(\"You provided invalid value\")\n",
    "except Exception as ex:\n",
    "    print(f\"Exception: {ex}\")"
   ]
  },
  {
   "cell_type": "markdown",
   "id": "4390aa4b-e554-4271-a186-175f652c351d",
   "metadata": {},
   "source": [
    "In this example, the `try` block takes input from the user and performs a `division` operation. If the input is not an integer or the division by zero is attempted, the corresponding `except` block is executed\n",
    "\n",
    "You can also use a single `except` block to handle multiple types of exceptions."
   ]
  },
  {
   "cell_type": "code",
   "execution_count": 4,
   "id": "26c754d5-0248-48e9-8353-cf2fbd3a1294",
   "metadata": {},
   "outputs": [
    {
     "name": "stdout",
     "output_type": "stream",
     "text": [
      "Could not convert input to integer.\n"
     ]
    }
   ],
   "source": [
    "num_str = \"abc\"\n",
    "try:\n",
    "    num = int(num_str)\n",
    "    print(num)\n",
    "except (ValueError, TypeError):\n",
    "    print(\"Could not convert input to integer.\")"
   ]
  },
  {
   "cell_type": "markdown",
   "id": "39cec2bd-20f9-43dd-881b-8cda15e23fee",
   "metadata": {},
   "source": [
    "In this example, if either a `ValueError` or `TypeError` exception is raised, the same `except` block will handle both exceptions."
   ]
  },
  {
   "cell_type": "markdown",
   "id": "8f8992b9-19b6-44ac-a72c-d8ca8c055c35",
   "metadata": {},
   "source": [
    "<br>"
   ]
  },
  {
   "cell_type": "markdown",
   "id": "49dcecf8-d9bd-4c60-8e9b-ce25794ea2a8",
   "metadata": {},
   "source": [
    "### The else Block"
   ]
  },
  {
   "cell_type": "markdown",
   "id": "66c21103-ac87-4aa0-8086-497b46c89392",
   "metadata": {},
   "source": [
    "In addition to the `try` and `except` blocks, you can also include an `else` block. The `else` block is executed only if no exception is raised during the execution of the `try` block. This block is used to perform any actions that should be taken only when no exception occurs. For example, if the `try` block includes code that opens a file, the `else` block could be used to close the file."
   ]
  },
  {
   "cell_type": "code",
   "execution_count": 5,
   "id": "bcc1d6cb-8716-4f0a-ba44-c55ac6dbe6a6",
   "metadata": {},
   "outputs": [
    {
     "name": "stdin",
     "output_type": "stream",
     "text": [
      "Enter a number:  2\n",
      "Enter another number:  2\n"
     ]
    },
    {
     "name": "stdout",
     "output_type": "stream",
     "text": [
      "Result is 1.0\n"
     ]
    }
   ],
   "source": [
    "try:\n",
    "    num1 = int(input('Enter a number: '))\n",
    "    num2 = int(input('Enter another number: '))\n",
    "    result = num1 / num2\n",
    "except ZeroDivisionError:\n",
    "    print(\"Cannot divide by zero\")\n",
    "else:\n",
    "    print(\"Result is\", result)\n"
   ]
  },
  {
   "cell_type": "markdown",
   "id": "a9f444c7-f28b-4c77-a30a-9b462c6e847d",
   "metadata": {},
   "source": [
    "<br>"
   ]
  },
  {
   "cell_type": "markdown",
   "id": "4f78a282-7b42-4914-908e-fb9002e19f0c",
   "metadata": {},
   "source": [
    "### The finally Block\n",
    "The `finally` block is always executed, regardless of whether an exception occurred or not. It is optional and comes after the `else` block, if present. The `finally` block is typically used to release resources that were acquired in the `try` block, such as closing a file or a database connection."
   ]
  },
  {
   "cell_type": "code",
   "execution_count": 6,
   "id": "ee25468b-548a-4077-bf39-05f8c7b3d614",
   "metadata": {},
   "outputs": [
    {
     "name": "stdin",
     "output_type": "stream",
     "text": [
      "Enter a number:  2\n",
      "Enter another number:  0\n"
     ]
    },
    {
     "name": "stdout",
     "output_type": "stream",
     "text": [
      "Cannot divide by zero.\n",
      "This block is always executed.\n"
     ]
    }
   ],
   "source": [
    "\n",
    "try:\n",
    "    x = int(input(\"Enter a number: \"))\n",
    "    y = int(input(\"Enter another number: \"))\n",
    "    z = x / y\n",
    "except ZeroDivisionError:\n",
    "    print(\"Cannot divide by zero.\")\n",
    "except Exception as ex:\n",
    "    print(\"Error Happen :\", ex)\n",
    "else:\n",
    "    print(\"The result is:\", z)\n",
    "finally:\n",
    "    print(\"This block is always executed.\")"
   ]
  },
  {
   "cell_type": "markdown",
   "id": "dfb6f3f9-a299-418b-a955-55d7fd326c87",
   "metadata": {},
   "source": [
    "In the above code, the `try` block asks the user to input two numbers and divides them. If a `ZeroDivisionError` occurs, the `except` block prints a message. If no exception occurs, the `else` block is executed and the result is printed. Finally, the `finally` block is always executed."
   ]
  },
  {
   "cell_type": "markdown",
   "id": "921e5fc7-767b-449f-96b3-177e96cd6d2c",
   "metadata": {},
   "source": [
    "<br>"
   ]
  },
  {
   "cell_type": "markdown",
   "id": "e47bda6d-2cc0-4c1c-8676-eb193ea87dbb",
   "metadata": {},
   "source": [
    "### Nested Error Handling"
   ]
  },
  {
   "cell_type": "code",
   "execution_count": 7,
   "id": "4b835168-7a9d-4ae3-8916-947f88c32ed1",
   "metadata": {},
   "outputs": [],
   "source": [
    "def divide(x,y):\n",
    "    '''\n",
    "    The script will add 50 to the list and divide the individual value in the list by 3 and \n",
    "    display the result\n",
    "    '''\n",
    "    try:\n",
    "        value = 50\n",
    "        x.append(value)\n",
    "    except AttributeError as atr_err:\n",
    "        print(atr_err)\n",
    "    else:\n",
    "        try:\n",
    "            result = [i/y for i in x]\n",
    "            print(result)\n",
    "        except ZeroDivisionError:\n",
    "            print(\"Please change 'y' argument to non-zero value\")\n",
    "    finally:\n",
    "        print(\"Thank You!\")\n",
    "        "
   ]
  },
  {
   "cell_type": "code",
   "execution_count": 8,
   "id": "e2f21079-920d-4340-babc-62b3fc30edb6",
   "metadata": {},
   "outputs": [
    {
     "name": "stdout",
     "output_type": "stream",
     "text": [
      "Please change 'y' argument to non-zero value\n",
      "Thank You!\n"
     ]
    }
   ],
   "source": [
    "x = [1, 2, 3, 5, 6]\n",
    "divide(x,0)"
   ]
  },
  {
   "cell_type": "code",
   "execution_count": 9,
   "id": "a27379a8-6cb7-41c0-89de-3520adb12bed",
   "metadata": {},
   "outputs": [
    {
     "name": "stdout",
     "output_type": "stream",
     "text": [
      "[3.3333333333333335, 6.666666666666667, 10.0, 16.666666666666668, 20.0, 16.666666666666668]\n",
      "Thank You!\n"
     ]
    }
   ],
   "source": [
    "x = [10, 20, 30, 50, 60]\n",
    "divide(x,3)"
   ]
  },
  {
   "cell_type": "code",
   "execution_count": null,
   "id": "66a8094c-7047-4ad1-9e47-d7f927fdd3e2",
   "metadata": {},
   "outputs": [],
   "source": []
  }
 ],
 "metadata": {
  "kernelspec": {
   "display_name": "Python 3 (ipykernel)",
   "language": "python",
   "name": "python3"
  },
  "language_info": {
   "codemirror_mode": {
    "name": "ipython",
    "version": 3
   },
   "file_extension": ".py",
   "mimetype": "text/x-python",
   "name": "python",
   "nbconvert_exporter": "python",
   "pygments_lexer": "ipython3",
   "version": "3.12.2"
  }
 },
 "nbformat": 4,
 "nbformat_minor": 5
}
