{
 "cells": [
  {
   "cell_type": "code",
   "execution_count": 1,
   "id": "5bd29922-5a0e-46bb-a0d6-e3b2d0bb29f5",
   "metadata": {},
   "outputs": [],
   "source": [
    "import numpy as np"
   ]
  },
  {
   "cell_type": "code",
   "execution_count": 2,
   "id": "87c7113e-014a-4f22-bf79-e98812f09403",
   "metadata": {},
   "outputs": [
    {
     "name": "stdout",
     "output_type": "stream",
     "text": [
      "[[[33 32 16 44]\n",
      "  [29 14 29 19]\n",
      "  [31 33 49 11]]\n",
      "\n",
      " [[30 26 14 29]\n",
      "  [17 13 39 48]\n",
      "  [13 22 46 37]]\n",
      "\n",
      " [[15 17 25 23]\n",
      "  [21 14 34 13]\n",
      "  [20 37 49 36]]\n",
      "\n",
      " [[38 15 40 40]\n",
      "  [43 48 42 30]\n",
      "  [38 23 21 25]]]\n",
      "\n",
      "dimension\n",
      "3D\n",
      "\n",
      "shape\n",
      "(4, 3, 4)\n"
     ]
    }
   ],
   "source": [
    "array_randint = np.random.randint(low=10, high=50, size=(4, 3, 4))\n",
    "print(array_randint)\n"
   ]
  },
  {
   "cell_type": "markdown",
   "id": "f9567990-cf74-43b8-bb4c-0d2356f96cf8",
   "metadata": {},
   "source": [
    "<br>"
   ]
  },
  {
   "cell_type": "markdown",
   "id": "0fac33d8-0c76-447f-994c-76160c8310cd",
   "metadata": {},
   "source": [
    "## Attributes"
   ]
  },
  {
   "cell_type": "markdown",
   "id": "7d285185-1c43-4097-b985-42132004a4f6",
   "metadata": {},
   "source": [
    "### ndim"
   ]
  },
  {
   "cell_type": "code",
   "execution_count": 3,
   "id": "c38ea3c3-5960-480e-864b-8139e51e8075",
   "metadata": {},
   "outputs": [
    {
     "name": "stdout",
     "output_type": "stream",
     "text": [
      "\n",
      "dimension\n",
      "3D\n"
     ]
    }
   ],
   "source": [
    "#ndim\n",
    "print(\"\\ndimension\")\n",
    "print(f\"{array_randint.ndim}D\")\n"
   ]
  },
  {
   "cell_type": "markdown",
   "id": "449e65ae-965a-4618-925c-d46c30cfb5e0",
   "metadata": {},
   "source": [
    "### shape"
   ]
  },
  {
   "cell_type": "code",
   "execution_count": 4,
   "id": "64e0529c-886f-4ab4-84cf-39f88410d08e",
   "metadata": {},
   "outputs": [
    {
     "name": "stdout",
     "output_type": "stream",
     "text": [
      "\n",
      "shape\n",
      "(4, 3, 4)\n"
     ]
    }
   ],
   "source": [
    "# shape\n",
    "print(\"\\nshape\")\n",
    "print(array_randint.shape)"
   ]
  },
  {
   "cell_type": "markdown",
   "id": "3fb71f0d-02f2-4551-b67b-7b52ba5c5381",
   "metadata": {},
   "source": [
    "### type"
   ]
  },
  {
   "cell_type": "code",
   "execution_count": 5,
   "id": "802984b4-f285-4565-af98-b1ef491bdbe5",
   "metadata": {},
   "outputs": [
    {
     "name": "stdout",
     "output_type": "stream",
     "text": [
      "\n",
      "dtype\n",
      "int32\n"
     ]
    }
   ],
   "source": [
    "# dtype\n",
    "print(\"\\ndtype\")\n",
    "print(array_randint.dtype)"
   ]
  },
  {
   "cell_type": "markdown",
   "id": "52d1b98e-abe5-48c4-8b9c-c39fab20c45f",
   "metadata": {},
   "source": [
    "### size"
   ]
  },
  {
   "cell_type": "code",
   "execution_count": 6,
   "id": "ae251635-fa4e-4f0a-909f-abd77a72ec04",
   "metadata": {},
   "outputs": [
    {
     "name": "stdout",
     "output_type": "stream",
     "text": [
      "\n",
      "size\n",
      "48\n"
     ]
    }
   ],
   "source": [
    "# size\n",
    "print(\"\\nsize\")\n",
    "print(array_randint.size)"
   ]
  },
  {
   "cell_type": "markdown",
   "id": "009b0089-c46d-4b3c-8570-4f119c496b1b",
   "metadata": {},
   "source": [
    "### Transpose"
   ]
  },
  {
   "cell_type": "code",
   "execution_count": 7,
   "id": "3dc3a741-8973-44e7-be82-2df4b0999740",
   "metadata": {},
   "outputs": [
    {
     "name": "stdout",
     "output_type": "stream",
     "text": [
      "\n",
      "Transpose\n",
      "[[[33 30 15 38]\n",
      "  [29 17 21 43]\n",
      "  [31 13 20 38]]\n",
      "\n",
      " [[32 26 17 15]\n",
      "  [14 13 14 48]\n",
      "  [33 22 37 23]]\n",
      "\n",
      " [[16 14 25 40]\n",
      "  [29 39 34 42]\n",
      "  [49 46 49 21]]\n",
      "\n",
      " [[44 29 23 40]\n",
      "  [19 48 13 30]\n",
      "  [11 37 36 25]]]\n"
     ]
    }
   ],
   "source": [
    "# Transpose\n",
    "print(\"\\nTranspose\")\n",
    "print(array_randint.T)"
   ]
  },
  {
   "cell_type": "markdown",
   "id": "1b231d7b-6965-4117-95c6-906cf13901c1",
   "metadata": {},
   "source": [
    "<br>"
   ]
  },
  {
   "cell_type": "markdown",
   "id": "6cdfc76a-e2e7-4a10-a6cd-57dd958ab167",
   "metadata": {},
   "source": [
    "## Array Methods/Operations"
   ]
  },
  {
   "cell_type": "code",
   "execution_count": 8,
   "id": "0210b218-9ac3-4539-9c90-056e81636e42",
   "metadata": {},
   "outputs": [
    {
     "name": "stdout",
     "output_type": "stream",
     "text": [
      "[[34 43 27 33]\n",
      " [28 46 39 44]\n",
      " [32 10 23 49]]\n"
     ]
    }
   ],
   "source": [
    "## Array Methods/ Operations\n",
    "array_randint = np.random.randint(low=10, high=50, size=(3, 4))\n",
    "print(array_randint)"
   ]
  },
  {
   "cell_type": "markdown",
   "id": "12f5f3d2-ed0d-4b20-a3c3-b5763309a6bf",
   "metadata": {},
   "source": [
    "### Addition\n"
   ]
  },
  {
   "cell_type": "code",
   "execution_count": 9,
   "id": "639931b0-89e7-4b2e-8e0f-a41cd50ecac9",
   "metadata": {},
   "outputs": [
    {
     "data": {
      "text/plain": [
       "array([137, 157, 114])"
      ]
     },
     "execution_count": 9,
     "metadata": {},
     "output_type": "execute_result"
    }
   ],
   "source": [
    "array_randint.sum(axis=1) #Rows wise addition"
   ]
  },
  {
   "cell_type": "markdown",
   "id": "26d8c3fc-f5a2-47c0-b511-1933d349d6b4",
   "metadata": {},
   "source": [
    "### Maximum"
   ]
  },
  {
   "cell_type": "code",
   "execution_count": 13,
   "id": "fef1113a-c5b9-478f-a417-5b4da2473b3c",
   "metadata": {},
   "outputs": [
    {
     "data": {
      "text/plain": [
       "array([34, 46, 39, 49])"
      ]
     },
     "execution_count": 13,
     "metadata": {},
     "output_type": "execute_result"
    }
   ],
   "source": [
    "array_randint.max(axis = 0) #Colimn wise finding maximum"
   ]
  },
  {
   "cell_type": "markdown",
   "id": "66986676-ab4a-4e04-bcbb-37020b45a82b",
   "metadata": {},
   "source": [
    "### Index Maximum"
   ]
  },
  {
   "cell_type": "code",
   "execution_count": 14,
   "id": "683842e7-04ea-4eed-99f6-5e5b100afe5e",
   "metadata": {},
   "outputs": [
    {
     "data": {
      "text/plain": [
       "array([1, 1, 3], dtype=int64)"
      ]
     },
     "execution_count": 14,
     "metadata": {},
     "output_type": "execute_result"
    }
   ],
   "source": [
    "array_randint.argmax(axis = 1)"
   ]
  },
  {
   "cell_type": "markdown",
   "id": "4ad2936a-fbe8-4b88-b751-52eb279a1362",
   "metadata": {},
   "source": [
    "### Flatten"
   ]
  },
  {
   "cell_type": "code",
   "execution_count": 16,
   "id": "0148fd0b-48a5-4c32-8bfb-61f1ba01119f",
   "metadata": {},
   "outputs": [
    {
     "data": {
      "text/plain": [
       "array([34, 43, 27, 33, 28, 46, 39, 44, 32, 10, 23, 49])"
      ]
     },
     "execution_count": 16,
     "metadata": {},
     "output_type": "execute_result"
    }
   ],
   "source": [
    "array_randint.flatten() # It will change the multi dimensions into 1D."
   ]
  },
  {
   "cell_type": "markdown",
   "id": "3d481dc7-d2cd-46c6-9e58-f60b449cbf7b",
   "metadata": {},
   "source": [
    "### Shape"
   ]
  },
  {
   "cell_type": "code",
   "execution_count": 31,
   "id": "c507711c-b8ff-4364-94b5-8010580faaac",
   "metadata": {},
   "outputs": [
    {
     "data": {
      "text/plain": [
       "(3, 6)"
      ]
     },
     "execution_count": 31,
     "metadata": {},
     "output_type": "execute_result"
    }
   ],
   "source": [
    "array_randint.shape"
   ]
  },
  {
   "cell_type": "markdown",
   "id": "c56ca148-e61c-431e-8d61-c496ccefa6cb",
   "metadata": {},
   "source": [
    "### Reshape"
   ]
  },
  {
   "cell_type": "code",
   "execution_count": 33,
   "id": "25d3e2ef-bef0-40e2-817b-027bdd1748e3",
   "metadata": {},
   "outputs": [
    {
     "data": {
      "text/plain": [
       "array([[40, 45, 42, 15, 25, 49, 13, 46, 19],\n",
       "       [48, 11, 46, 26, 19, 13, 48, 33, 37]])"
      ]
     },
     "execution_count": 33,
     "metadata": {},
     "output_type": "execute_result"
    }
   ],
   "source": [
    "array_randint.reshape(2,9)"
   ]
  },
  {
   "cell_type": "markdown",
   "id": "60650134-efa5-4420-b658-726b3474b649",
   "metadata": {},
   "source": [
    "### Concatenate"
   ]
  },
  {
   "cell_type": "code",
   "execution_count": 34,
   "id": "dc810a02-650a-4110-b08f-0cbe995097d3",
   "metadata": {},
   "outputs": [
    {
     "name": "stdout",
     "output_type": "stream",
     "text": [
      "[[1 2]\n",
      " [3 4]]\n",
      "--------------------\n",
      "[[5 6]\n",
      " [7 8]]\n"
     ]
    }
   ],
   "source": [
    "#Concat\n",
    "m = np.array([[1, 2], [3, 4]])\n",
    "n = np.array([[5, 6], [7, 8]])\n",
    "\n",
    "print(m)\n",
    "print('-' * 20)\n",
    "print(n)"
   ]
  },
  {
   "cell_type": "code",
   "execution_count": 35,
   "id": "46d0bd1c-f27e-4a9f-bdf1-f13225a8489e",
   "metadata": {},
   "outputs": [
    {
     "data": {
      "text/plain": [
       "array([[1, 2],\n",
       "       [3, 4],\n",
       "       [5, 6],\n",
       "       [7, 8]])"
      ]
     },
     "execution_count": 35,
     "metadata": {},
     "output_type": "execute_result"
    }
   ],
   "source": [
    "np.concatenate((m, n), axis=0)"
   ]
  },
  {
   "cell_type": "code",
   "execution_count": 36,
   "id": "f0b270fd-fc3e-46b7-a3ca-5fed43d123fa",
   "metadata": {},
   "outputs": [
    {
     "data": {
      "text/plain": [
       "array([[1, 2, 5, 6],\n",
       "       [3, 4, 7, 8]])"
      ]
     },
     "execution_count": 36,
     "metadata": {},
     "output_type": "execute_result"
    }
   ],
   "source": [
    "np.concatenate((m, n), axis=1)"
   ]
  },
  {
   "cell_type": "markdown",
   "id": "f2eb46a9-612b-4904-ba8d-6cd260cd3675",
   "metadata": {},
   "source": [
    "<br>"
   ]
  },
  {
   "cell_type": "markdown",
   "id": "57b577c0-b1c4-4f94-8656-0a717b3ec4d3",
   "metadata": {},
   "source": [
    "### Split()"
   ]
  },
  {
   "cell_type": "code",
   "execution_count": 2,
   "id": "f3ad9155-66b6-4b66-87f1-852410d25b4a",
   "metadata": {},
   "outputs": [
    {
     "name": "stdout",
     "output_type": "stream",
     "text": [
      "['Hello', 'how', 'are', 'you']\n"
     ]
    }
   ],
   "source": [
    "# Lets see how it function in list and then in array.\n",
    "string = \"Hello how are you\"\n",
    "print(string.split(\" \"))"
   ]
  },
  {
   "cell_type": "code",
   "execution_count": 38,
   "id": "0c621e03-0b1c-45e5-8ebc-161927b3adb0",
   "metadata": {},
   "outputs": [
    {
     "name": "stdout",
     "output_type": "stream",
     "text": [
      "[[19 22 40 41 13 34]\n",
      " [46 16 33 25 31 38]\n",
      " [11 33 46 25 20 40]]\n"
     ]
    }
   ],
   "source": [
    "#Lets see it split in array\n",
    "array_randint = np.random.randint(low=10, high=50, size=(3, 6))\n",
    "print(array_randint)"
   ]
  },
  {
   "cell_type": "code",
   "execution_count": 39,
   "id": "3f12a98b-0977-4378-a0fd-c37811995bb4",
   "metadata": {},
   "outputs": [
    {
     "data": {
      "text/plain": [
       "[array([[19, 22, 40, 41, 13, 34]]),\n",
       " array([[46, 16, 33, 25, 31, 38]]),\n",
       " array([[11, 33, 46, 25, 20, 40]])]"
      ]
     },
     "execution_count": 39,
     "metadata": {},
     "output_type": "execute_result"
    }
   ],
   "source": [
    "np.split(array_randint, indices_or_sections=3)  #Split as according with indices"
   ]
  },
  {
   "cell_type": "code",
   "execution_count": 50,
   "id": "47f235ba-8d21-42be-9bd5-fa5d65b8b99c",
   "metadata": {},
   "outputs": [
    {
     "name": "stdout",
     "output_type": "stream",
     "text": [
      "[19 22 40 41 13 34 46 16 33 25 31 38 11 33 46 25 20 40]\n"
     ]
    }
   ],
   "source": [
    "array_flatten = array_randint.flatten()\n",
    "print(array_flatten)"
   ]
  },
  {
   "cell_type": "code",
   "execution_count": 52,
   "id": "041abf9e-373b-4f78-93cd-8cd098ca2c33",
   "metadata": {},
   "outputs": [
    {
     "data": {
      "text/plain": [
       "[array([19, 22]),\n",
       " array([40]),\n",
       " array([41, 13, 34, 46, 16, 33, 25]),\n",
       " array([31, 38]),\n",
       " array([11, 33, 46, 25, 20, 40])]"
      ]
     },
     "execution_count": 52,
     "metadata": {},
     "output_type": "execute_result"
    }
   ],
   "source": [
    "np.split(array_flatten, [2, 3, 10, 12]) # Split as according with sections."
   ]
  },
  {
   "cell_type": "markdown",
   "id": "0d192c25-fcaf-4c07-a6a1-0d7d5651b208",
   "metadata": {},
   "source": [
    "<br>"
   ]
  },
  {
   "cell_type": "markdown",
   "id": "72515512-3f74-40b3-aa30-be5bd3c4340e",
   "metadata": {},
   "source": [
    "### np.diag()"
   ]
  },
  {
   "cell_type": "code",
   "execution_count": 6,
   "id": "b30c0f03-c1fe-4ee0-9b49-bff3e34f886f",
   "metadata": {},
   "outputs": [
    {
     "name": "stdout",
     "output_type": "stream",
     "text": [
      "[[ 3 91 81 86  4]\n",
      " [26 58 61 50 35]\n",
      " [38 78 46 78 98]\n",
      " [18 70 19 48 61]\n",
      " [35 41 82 44 41]]\n",
      "\n",
      "Dimension\n",
      "2D\n",
      "\n",
      "Shape\n",
      "(5, 5)\n",
      "\n",
      "Size\n",
      "25\n",
      "\n",
      "Data type\n",
      "int32\n"
     ]
    }
   ],
   "source": [
    "arr = np.random.randint(1, 100, (5,5))\n",
    "print(arr)\n",
    "print(\"\\nDimension\")\n",
    "print(f\"{arr.ndim}D\")\n",
    "print(\"\\nShape\")\n",
    "print(arr.shape)\n",
    "print(\"\\nSize\")\n",
    "print(arr.size)\n",
    "print(\"\\nData type\")\n",
    "print(arr.dtype)\n"
   ]
  },
  {
   "cell_type": "code",
   "execution_count": 5,
   "id": "976f5ee8-8ac4-4bd9-bb01-683b4d452f48",
   "metadata": {},
   "outputs": [
    {
     "data": {
      "text/plain": [
       "array([28, 62, 20, 36, 21])"
      ]
     },
     "execution_count": 5,
     "metadata": {},
     "output_type": "execute_result"
    }
   ],
   "source": [
    "np.diag(arr, k=0) "
   ]
  },
  {
   "cell_type": "markdown",
   "id": "e9661497-60c1-4165-aeca-5857e3289ec7",
   "metadata": {},
   "source": [
    "<br>"
   ]
  },
  {
   "cell_type": "markdown",
   "id": "98e8fe22-2253-4ca9-bd29-72500c3d0d73",
   "metadata": {},
   "source": [
    "### np.fill_diagonal"
   ]
  },
  {
   "cell_type": "code",
   "execution_count": 23,
   "id": "b290b301-16c3-44fb-9bd1-ba75db29f669",
   "metadata": {},
   "outputs": [
    {
     "name": "stdout",
     "output_type": "stream",
     "text": [
      "[[20 71 98 86 58]\n",
      " [13 91 10 66 98]\n",
      " [46 18 83 33  1]\n",
      " [95 89 92 27 38]\n",
      " [50 48  5 17 79]]\n",
      "\n",
      "Dimension\n",
      "2D\n",
      "\n",
      "Shape\n",
      "(5, 5)\n",
      "\n",
      "Size\n",
      "25\n",
      "\n",
      "Data type\n",
      "int32\n"
     ]
    }
   ],
   "source": [
    "arr1 = np.random.randint(1, 100, (5,5))\n",
    "print(arr1)\n",
    "print(\"\\nDimension\")\n",
    "print(f\"{arr1.ndim}D\")\n",
    "print(\"\\nShape\")\n",
    "print(arr1.shape)\n",
    "print(\"\\nSize\")\n",
    "print(arr1.size)\n",
    "print(\"\\nData type\")\n",
    "print(arr1.dtype)\n",
    "\n"
   ]
  },
  {
   "cell_type": "code",
   "execution_count": 29,
   "id": "a94dd400-3dc3-4881-b0cc-2abb852decbe",
   "metadata": {},
   "outputs": [
    {
     "name": "stdout",
     "output_type": "stream",
     "text": [
      "[[ 0 71 98 86 58]\n",
      " [13  0 10 66 98]\n",
      " [46 18  0 33  1]\n",
      " [95 89 92  0 38]\n",
      " [50 48  5 17  0]]\n"
     ]
    }
   ],
   "source": [
    "new_arr1 = np.fill_diagonal(arr1, 0)\n",
    "print(arr1)"
   ]
  },
  {
   "cell_type": "markdown",
   "id": "bebbd517-4dba-48d3-8fa4-29150a5a2a2e",
   "metadata": {},
   "source": [
    "<br>"
   ]
  },
  {
   "cell_type": "markdown",
   "id": "d2f22d06-cc9d-4a1f-a8e1-cb1c724876cf",
   "metadata": {},
   "source": [
    "### np.newaxis()"
   ]
  },
  {
   "cell_type": "code",
   "execution_count": 32,
   "id": "b92951a9-89f6-4234-8988-10cb3814c1d3",
   "metadata": {},
   "outputs": [
    {
     "name": "stdout",
     "output_type": "stream",
     "text": [
      "[0 1 2]\n"
     ]
    },
    {
     "data": {
      "text/plain": [
       "array([[0],\n",
       "       [1],\n",
       "       [2]])"
      ]
     },
     "execution_count": 32,
     "metadata": {},
     "output_type": "execute_result"
    }
   ],
   "source": [
    "x = np.arange(3)\n",
    "print(x)\n",
    "\n",
    "x[:, np.newaxis]"
   ]
  }
 ],
 "metadata": {
  "kernelspec": {
   "display_name": "Python 3 (ipykernel)",
   "language": "python",
   "name": "python3"
  },
  "language_info": {
   "codemirror_mode": {
    "name": "ipython",
    "version": 3
   },
   "file_extension": ".py",
   "mimetype": "text/x-python",
   "name": "python",
   "nbconvert_exporter": "python",
   "pygments_lexer": "ipython3",
   "version": "3.12.2"
  }
 },
 "nbformat": 4,
 "nbformat_minor": 5
}
