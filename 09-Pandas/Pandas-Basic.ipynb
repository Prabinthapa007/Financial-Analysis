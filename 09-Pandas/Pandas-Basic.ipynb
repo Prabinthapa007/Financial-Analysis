{
 "cells": [
  {
   "cell_type": "code",
   "execution_count": 1,
   "id": "94efd93a-ca7a-4d0d-a17f-0f294d0b8ceb",
   "metadata": {},
   "outputs": [],
   "source": [
    "import warnings\n",
    "warnings.filterwarnings('ignore')\n",
    "\n",
    "import pandas as pd\n",
    "import numpy as np\n",
    "import matplotlib.pyplot as plt\n",
    "import seaborn as sns\n"
   ]
  },
  {
   "cell_type": "markdown",
   "id": "0f190000-fe6e-41d2-bdb8-fdba52596b76",
   "metadata": {},
   "source": [
    "# Pandas \n",
    "Pandas in a Python Library used for data manipulation and analysis. Pandas provides a convenient way to analyze and clean data.\n",
    "\n",
    "Pandas works on relationed datasets. "
   ]
  },
  {
   "cell_type": "markdown",
   "id": "adabfd4d-e29d-42d4-8878-01d579be1741",
   "metadata": {},
   "source": [
    "## What is Pandas Used for?\n",
    "- Data Cleaning\n",
    "- Data Transformation\n",
    "- Data Analysis\n",
    "- Machine Learning\n",
    "- Data Visualization"
   ]
  },
  {
   "cell_type": "markdown",
   "id": "9b0f01a8-cf99-4a29-bd2a-f08b231d71cd",
   "metadata": {},
   "source": [
    "## Why Use Pandas?\n",
    "- **Handle Large Data Efficently**: Pandas is designed for handling large datasets. It provides powerful tools that simplify tasks like data filtering, transforming, and merging. \r\n",
    "It also provides built-in functions to work with formats lik**e CSV, JSON, TXT, Excel, a SQL** databases\n",
    "- **Tabular Data Representation**:\n",
    "- **Data Cleaning and Preprocessing**\n",
    "- **Time Series Functionality**\n",
    "- **Free and Open-Source**s."
   ]
  },
  {
   "cell_type": "markdown",
   "id": "365fe3a2-d777-45b8-a1e6-7971de42d350",
   "metadata": {
    "jp-MarkdownHeadingCollapsed": true
   },
   "source": [
    "## Datatypes of Pandas\n",
    "1. **DataFrame**: 2D table with rows and columns\n",
    "2. **Series**: 1D array-like,can hold any datatype such as integers stirngs, floating point number."
   ]
  },
  {
   "cell_type": "code",
   "execution_count": 2,
   "id": "7aa29a16-ccb4-4a1a-9d26-4bd79e8f42c2",
   "metadata": {},
   "outputs": [],
   "source": [
    "# Importing datasets using pandas\n",
    "data = pd.read_csv(\"C:\\\\Users\\\\Prabin\\\\Demographic-Data.csv\")"
   ]
  },
  {
   "cell_type": "code",
   "execution_count": 3,
   "id": "d3c5ad4b-c516-483d-9231-027005e308b2",
   "metadata": {},
   "outputs": [
    {
     "data": {
      "text/plain": [
       "195"
      ]
     },
     "execution_count": 3,
     "metadata": {},
     "output_type": "execute_result"
    }
   ],
   "source": [
    "# KNowing the length of dataset\n",
    "len(data)"
   ]
  },
  {
   "cell_type": "code",
   "execution_count": 4,
   "id": "349420aa-a975-4f8c-9ce5-98d133725ba9",
   "metadata": {},
   "outputs": [
    {
     "data": {
      "text/html": [
       "<div>\n",
       "<style scoped>\n",
       "    .dataframe tbody tr th:only-of-type {\n",
       "        vertical-align: middle;\n",
       "    }\n",
       "\n",
       "    .dataframe tbody tr th {\n",
       "        vertical-align: top;\n",
       "    }\n",
       "\n",
       "    .dataframe thead th {\n",
       "        text-align: right;\n",
       "    }\n",
       "</style>\n",
       "<table border=\"1\" class=\"dataframe\">\n",
       "  <thead>\n",
       "    <tr style=\"text-align: right;\">\n",
       "      <th></th>\n",
       "      <th>Country Name</th>\n",
       "      <th>Country Code</th>\n",
       "      <th>Birth rate</th>\n",
       "      <th>Internet users</th>\n",
       "      <th>Income Group</th>\n",
       "    </tr>\n",
       "  </thead>\n",
       "  <tbody>\n",
       "    <tr>\n",
       "      <th>0</th>\n",
       "      <td>Aruba</td>\n",
       "      <td>ABW</td>\n",
       "      <td>10.244</td>\n",
       "      <td>78.9</td>\n",
       "      <td>High income</td>\n",
       "    </tr>\n",
       "    <tr>\n",
       "      <th>1</th>\n",
       "      <td>Afghanistan</td>\n",
       "      <td>AFG</td>\n",
       "      <td>35.253</td>\n",
       "      <td>5.9</td>\n",
       "      <td>Low income</td>\n",
       "    </tr>\n",
       "    <tr>\n",
       "      <th>2</th>\n",
       "      <td>Angola</td>\n",
       "      <td>AGO</td>\n",
       "      <td>45.985</td>\n",
       "      <td>19.1</td>\n",
       "      <td>Upper middle income</td>\n",
       "    </tr>\n",
       "    <tr>\n",
       "      <th>3</th>\n",
       "      <td>Albania</td>\n",
       "      <td>ALB</td>\n",
       "      <td>12.877</td>\n",
       "      <td>57.2</td>\n",
       "      <td>Upper middle income</td>\n",
       "    </tr>\n",
       "    <tr>\n",
       "      <th>4</th>\n",
       "      <td>United Arab Emirates</td>\n",
       "      <td>ARE</td>\n",
       "      <td>11.044</td>\n",
       "      <td>88.0</td>\n",
       "      <td>High income</td>\n",
       "    </tr>\n",
       "  </tbody>\n",
       "</table>\n",
       "</div>"
      ],
      "text/plain": [
       "           Country Name Country Code  Birth rate  Internet users  \\\n",
       "0                 Aruba          ABW      10.244            78.9   \n",
       "1           Afghanistan          AFG      35.253             5.9   \n",
       "2                Angola          AGO      45.985            19.1   \n",
       "3               Albania          ALB      12.877            57.2   \n",
       "4  United Arab Emirates          ARE      11.044            88.0   \n",
       "\n",
       "          Income Group  \n",
       "0          High income  \n",
       "1           Low income  \n",
       "2  Upper middle income  \n",
       "3  Upper middle income  \n",
       "4          High income  "
      ]
     },
     "execution_count": 4,
     "metadata": {},
     "output_type": "execute_result"
    }
   ],
   "source": [
    "# Knowing Heading of datasets\n",
    "data.head()"
   ]
  },
  {
   "cell_type": "code",
   "execution_count": 5,
   "id": "3fcb818c-9eca-4692-b1bc-a35cc56cec31",
   "metadata": {},
   "outputs": [
    {
     "data": {
      "text/plain": [
       "Index(['Country Name', 'Country Code', 'Birth rate', 'Internet users',\n",
       "       'Income Group'],\n",
       "      dtype='object')"
      ]
     },
     "execution_count": 5,
     "metadata": {},
     "output_type": "execute_result"
    }
   ],
   "source": [
    "# Knowing/seeing column names:\n",
    "data.columns"
   ]
  },
  {
   "cell_type": "code",
   "execution_count": 6,
   "id": "91a0fc1e-4b63-49f7-9ac0-6496a257daa7",
   "metadata": {},
   "outputs": [
    {
     "name": "stdout",
     "output_type": "stream",
     "text": [
      "Index(['Country_Naam', 'Country_Code', 'Birth_Rate', 'Internet_Users',\n",
      "       'Income_Group'],\n",
      "      dtype='object')\n"
     ]
    }
   ],
   "source": [
    "#Renaming the column name\n",
    "data.columns = ['Country_Naam', 'Country_Code', 'Birth_Rate', 'Internet_Users',\n",
    "       'Income_Group']\n",
    "print(data.columns)"
   ]
  },
  {
   "cell_type": "code",
   "execution_count": 7,
   "id": "0f470101-3f5a-40c5-9d2e-fd0f154a059e",
   "metadata": {},
   "outputs": [
    {
     "name": "stdout",
     "output_type": "stream",
     "text": [
      "Index(['Country_Name', 'Country_Code', 'Birth_Rate', 'Internet_Users',\n",
      "       'Income_Group'],\n",
      "      dtype='object')\n"
     ]
    }
   ],
   "source": [
    "# Renaming soecific column name:\n",
    "data.rename(columns={\"Country_Naam\":\"Country_Name\"}, inplace=True)\n",
    "print(data.columns)"
   ]
  },
  {
   "cell_type": "code",
   "execution_count": 8,
   "id": "5bbe4ed8-22e0-4199-b6ce-ef2a7314899f",
   "metadata": {},
   "outputs": [
    {
     "data": {
      "text/html": [
       "<div>\n",
       "<style scoped>\n",
       "    .dataframe tbody tr th:only-of-type {\n",
       "        vertical-align: middle;\n",
       "    }\n",
       "\n",
       "    .dataframe tbody tr th {\n",
       "        vertical-align: top;\n",
       "    }\n",
       "\n",
       "    .dataframe thead th {\n",
       "        text-align: right;\n",
       "    }\n",
       "</style>\n",
       "<table border=\"1\" class=\"dataframe\">\n",
       "  <thead>\n",
       "    <tr style=\"text-align: right;\">\n",
       "      <th></th>\n",
       "      <th>Country_Name</th>\n",
       "      <th>Country_Code</th>\n",
       "      <th>Birth_Rate</th>\n",
       "      <th>Internet_Users</th>\n",
       "      <th>Income_Group</th>\n",
       "    </tr>\n",
       "  </thead>\n",
       "  <tbody>\n",
       "    <tr>\n",
       "      <th>190</th>\n",
       "      <td>Yemen, Rep.</td>\n",
       "      <td>YEM</td>\n",
       "      <td>32.947</td>\n",
       "      <td>20.0</td>\n",
       "      <td>Lower middle income</td>\n",
       "    </tr>\n",
       "    <tr>\n",
       "      <th>191</th>\n",
       "      <td>South Africa</td>\n",
       "      <td>ZAF</td>\n",
       "      <td>20.850</td>\n",
       "      <td>46.5</td>\n",
       "      <td>Upper middle income</td>\n",
       "    </tr>\n",
       "    <tr>\n",
       "      <th>192</th>\n",
       "      <td>Congo, Dem. Rep.</td>\n",
       "      <td>COD</td>\n",
       "      <td>42.394</td>\n",
       "      <td>2.2</td>\n",
       "      <td>Low income</td>\n",
       "    </tr>\n",
       "    <tr>\n",
       "      <th>193</th>\n",
       "      <td>Zambia</td>\n",
       "      <td>ZMB</td>\n",
       "      <td>40.471</td>\n",
       "      <td>15.4</td>\n",
       "      <td>Lower middle income</td>\n",
       "    </tr>\n",
       "    <tr>\n",
       "      <th>194</th>\n",
       "      <td>Zimbabwe</td>\n",
       "      <td>ZWE</td>\n",
       "      <td>35.715</td>\n",
       "      <td>18.5</td>\n",
       "      <td>Low income</td>\n",
       "    </tr>\n",
       "  </tbody>\n",
       "</table>\n",
       "</div>"
      ],
      "text/plain": [
       "         Country_Name Country_Code  Birth_Rate  Internet_Users  \\\n",
       "190       Yemen, Rep.          YEM      32.947            20.0   \n",
       "191      South Africa          ZAF      20.850            46.5   \n",
       "192  Congo, Dem. Rep.          COD      42.394             2.2   \n",
       "193            Zambia          ZMB      40.471            15.4   \n",
       "194          Zimbabwe          ZWE      35.715            18.5   \n",
       "\n",
       "            Income_Group  \n",
       "190  Lower middle income  \n",
       "191  Upper middle income  \n",
       "192           Low income  \n",
       "193  Lower middle income  \n",
       "194           Low income  "
      ]
     },
     "execution_count": 8,
     "metadata": {},
     "output_type": "execute_result"
    }
   ],
   "source": [
    "# How to see the bottom only \n",
    "data.tail()"
   ]
  },
  {
   "cell_type": "code",
   "execution_count": 9,
   "id": "16f21fb7-ed05-48d9-844e-7d1be8ae0ed7",
   "metadata": {},
   "outputs": [
    {
     "name": "stdout",
     "output_type": "stream",
     "text": [
      "<class 'pandas.core.frame.DataFrame'>\n",
      "RangeIndex: 195 entries, 0 to 194\n",
      "Data columns (total 5 columns):\n",
      " #   Column          Non-Null Count  Dtype  \n",
      "---  ------          --------------  -----  \n",
      " 0   Country_Name    195 non-null    object \n",
      " 1   Country_Code    195 non-null    object \n",
      " 2   Birth_Rate      195 non-null    float64\n",
      " 3   Internet_Users  195 non-null    float64\n",
      " 4   Income_Group    195 non-null    object \n",
      "dtypes: float64(2), object(3)\n",
      "memory usage: 7.7+ KB\n"
     ]
    }
   ],
   "source": [
    "# Getting information about the dataframe.\n",
    "data.info()"
   ]
  },
  {
   "cell_type": "code",
   "execution_count": 10,
   "id": "afaf0a26-1c5b-48fa-9233-d8adc16f6d07",
   "metadata": {},
   "outputs": [],
   "source": [
    "# Getting all small details of data\n",
    "description = data.describe()"
   ]
  },
  {
   "cell_type": "code",
   "execution_count": 11,
   "id": "c08fe788-28b2-4f0d-af9a-792ba939797e",
   "metadata": {},
   "outputs": [
    {
     "data": {
      "text/plain": [
       "<bound method DataFrame.transpose of        Birth_Rate  Internet_Users\n",
       "count  195.000000      195.000000\n",
       "mean    21.469928       42.076471\n",
       "std     10.605467       29.030788\n",
       "min      7.900000        0.900000\n",
       "25%     12.120500       14.520000\n",
       "50%     19.680000       41.000000\n",
       "75%     29.759500       66.225000\n",
       "max     49.661000       96.546800>"
      ]
     },
     "execution_count": 11,
     "metadata": {},
     "output_type": "execute_result"
    }
   ],
   "source": [
    "description.transpose"
   ]
  },
  {
   "cell_type": "markdown",
   "id": "58864da2-a2bb-4406-8fce-f868b3f5cb85",
   "metadata": {},
   "source": [
    "### Acessing datas (Subsetting in pandas)\n",
    "There are three ways of subsetting dataframes. They are:\n",
    "1. Subset by Rows\n",
    "2. Subset by Columns\n",
    "3. Combining both"
   ]
  },
  {
   "cell_type": "markdown",
   "id": "bb21eb66-2c6d-496c-a2a2-6ac53dd8c1a7",
   "metadata": {},
   "source": [
    "#### Subsetting with rows:"
   ]
  },
  {
   "cell_type": "code",
   "execution_count": 12,
   "id": "6f3b56ae-1f2f-4763-8afa-fb92676b06b3",
   "metadata": {},
   "outputs": [
    {
     "data": {
      "text/html": [
       "<div>\n",
       "<style scoped>\n",
       "    .dataframe tbody tr th:only-of-type {\n",
       "        vertical-align: middle;\n",
       "    }\n",
       "\n",
       "    .dataframe tbody tr th {\n",
       "        vertical-align: top;\n",
       "    }\n",
       "\n",
       "    .dataframe thead th {\n",
       "        text-align: right;\n",
       "    }\n",
       "</style>\n",
       "<table border=\"1\" class=\"dataframe\">\n",
       "  <thead>\n",
       "    <tr style=\"text-align: right;\">\n",
       "      <th></th>\n",
       "      <th>Country_Name</th>\n",
       "      <th>Country_Code</th>\n",
       "      <th>Birth_Rate</th>\n",
       "      <th>Internet_Users</th>\n",
       "      <th>Income_Group</th>\n",
       "    </tr>\n",
       "  </thead>\n",
       "  <tbody>\n",
       "    <tr>\n",
       "      <th>0</th>\n",
       "      <td>Aruba</td>\n",
       "      <td>ABW</td>\n",
       "      <td>10.244</td>\n",
       "      <td>78.9</td>\n",
       "      <td>High income</td>\n",
       "    </tr>\n",
       "    <tr>\n",
       "      <th>1</th>\n",
       "      <td>Afghanistan</td>\n",
       "      <td>AFG</td>\n",
       "      <td>35.253</td>\n",
       "      <td>5.9</td>\n",
       "      <td>Low income</td>\n",
       "    </tr>\n",
       "    <tr>\n",
       "      <th>2</th>\n",
       "      <td>Angola</td>\n",
       "      <td>AGO</td>\n",
       "      <td>45.985</td>\n",
       "      <td>19.1</td>\n",
       "      <td>Upper middle income</td>\n",
       "    </tr>\n",
       "    <tr>\n",
       "      <th>3</th>\n",
       "      <td>Albania</td>\n",
       "      <td>ALB</td>\n",
       "      <td>12.877</td>\n",
       "      <td>57.2</td>\n",
       "      <td>Upper middle income</td>\n",
       "    </tr>\n",
       "    <tr>\n",
       "      <th>4</th>\n",
       "      <td>United Arab Emirates</td>\n",
       "      <td>ARE</td>\n",
       "      <td>11.044</td>\n",
       "      <td>88.0</td>\n",
       "      <td>High income</td>\n",
       "    </tr>\n",
       "  </tbody>\n",
       "</table>\n",
       "</div>"
      ],
      "text/plain": [
       "           Country_Name Country_Code  Birth_Rate  Internet_Users  \\\n",
       "0                 Aruba          ABW      10.244            78.9   \n",
       "1           Afghanistan          AFG      35.253             5.9   \n",
       "2                Angola          AGO      45.985            19.1   \n",
       "3               Albania          ALB      12.877            57.2   \n",
       "4  United Arab Emirates          ARE      11.044            88.0   \n",
       "\n",
       "          Income_Group  \n",
       "0          High income  \n",
       "1           Low income  \n",
       "2  Upper middle income  \n",
       "3  Upper middle income  \n",
       "4          High income  "
      ]
     },
     "execution_count": 12,
     "metadata": {},
     "output_type": "execute_result"
    }
   ],
   "source": [
    "data.head()"
   ]
  },
  {
   "cell_type": "code",
   "execution_count": 13,
   "id": "2a1bbeb1-9507-4455-8688-6b0348ef38a2",
   "metadata": {},
   "outputs": [
    {
     "data": {
      "text/html": [
       "<div>\n",
       "<style scoped>\n",
       "    .dataframe tbody tr th:only-of-type {\n",
       "        vertical-align: middle;\n",
       "    }\n",
       "\n",
       "    .dataframe tbody tr th {\n",
       "        vertical-align: top;\n",
       "    }\n",
       "\n",
       "    .dataframe thead th {\n",
       "        text-align: right;\n",
       "    }\n",
       "</style>\n",
       "<table border=\"1\" class=\"dataframe\">\n",
       "  <thead>\n",
       "    <tr style=\"text-align: right;\">\n",
       "      <th></th>\n",
       "      <th>Country_Name</th>\n",
       "      <th>Country_Code</th>\n",
       "      <th>Birth_Rate</th>\n",
       "      <th>Internet_Users</th>\n",
       "      <th>Income_Group</th>\n",
       "    </tr>\n",
       "  </thead>\n",
       "  <tbody>\n",
       "    <tr>\n",
       "      <th>0</th>\n",
       "      <td>Aruba</td>\n",
       "      <td>ABW</td>\n",
       "      <td>10.244</td>\n",
       "      <td>78.9000</td>\n",
       "      <td>High income</td>\n",
       "    </tr>\n",
       "    <tr>\n",
       "      <th>2</th>\n",
       "      <td>Angola</td>\n",
       "      <td>AGO</td>\n",
       "      <td>45.985</td>\n",
       "      <td>19.1000</td>\n",
       "      <td>Upper middle income</td>\n",
       "    </tr>\n",
       "    <tr>\n",
       "      <th>4</th>\n",
       "      <td>United Arab Emirates</td>\n",
       "      <td>ARE</td>\n",
       "      <td>11.044</td>\n",
       "      <td>88.0000</td>\n",
       "      <td>High income</td>\n",
       "    </tr>\n",
       "    <tr>\n",
       "      <th>6</th>\n",
       "      <td>Armenia</td>\n",
       "      <td>ARM</td>\n",
       "      <td>13.308</td>\n",
       "      <td>41.9000</td>\n",
       "      <td>Lower middle income</td>\n",
       "    </tr>\n",
       "    <tr>\n",
       "      <th>8</th>\n",
       "      <td>Australia</td>\n",
       "      <td>AUS</td>\n",
       "      <td>13.200</td>\n",
       "      <td>83.0000</td>\n",
       "      <td>High income</td>\n",
       "    </tr>\n",
       "    <tr>\n",
       "      <th>10</th>\n",
       "      <td>Azerbaijan</td>\n",
       "      <td>AZE</td>\n",
       "      <td>18.300</td>\n",
       "      <td>58.7000</td>\n",
       "      <td>Upper middle income</td>\n",
       "    </tr>\n",
       "    <tr>\n",
       "      <th>12</th>\n",
       "      <td>Belgium</td>\n",
       "      <td>BEL</td>\n",
       "      <td>11.200</td>\n",
       "      <td>82.1702</td>\n",
       "      <td>High income</td>\n",
       "    </tr>\n",
       "    <tr>\n",
       "      <th>14</th>\n",
       "      <td>Burkina Faso</td>\n",
       "      <td>BFA</td>\n",
       "      <td>40.551</td>\n",
       "      <td>9.1000</td>\n",
       "      <td>Low income</td>\n",
       "    </tr>\n",
       "    <tr>\n",
       "      <th>16</th>\n",
       "      <td>Bulgaria</td>\n",
       "      <td>BGR</td>\n",
       "      <td>9.200</td>\n",
       "      <td>53.0615</td>\n",
       "      <td>Upper middle income</td>\n",
       "    </tr>\n",
       "    <tr>\n",
       "      <th>18</th>\n",
       "      <td>Bahamas, The</td>\n",
       "      <td>BHS</td>\n",
       "      <td>15.339</td>\n",
       "      <td>72.0000</td>\n",
       "      <td>High income</td>\n",
       "    </tr>\n",
       "  </tbody>\n",
       "</table>\n",
       "</div>"
      ],
      "text/plain": [
       "            Country_Name Country_Code  Birth_Rate  Internet_Users  \\\n",
       "0                  Aruba          ABW      10.244         78.9000   \n",
       "2                 Angola          AGO      45.985         19.1000   \n",
       "4   United Arab Emirates          ARE      11.044         88.0000   \n",
       "6                Armenia          ARM      13.308         41.9000   \n",
       "8              Australia          AUS      13.200         83.0000   \n",
       "10            Azerbaijan          AZE      18.300         58.7000   \n",
       "12               Belgium          BEL      11.200         82.1702   \n",
       "14          Burkina Faso          BFA      40.551          9.1000   \n",
       "16              Bulgaria          BGR       9.200         53.0615   \n",
       "18          Bahamas, The          BHS      15.339         72.0000   \n",
       "\n",
       "           Income_Group  \n",
       "0           High income  \n",
       "2   Upper middle income  \n",
       "4           High income  \n",
       "6   Lower middle income  \n",
       "8           High income  \n",
       "10  Upper middle income  \n",
       "12          High income  \n",
       "14           Low income  \n",
       "16  Upper middle income  \n",
       "18          High income  "
      ]
     },
     "execution_count": 13,
     "metadata": {},
     "output_type": "execute_result"
    }
   ],
   "source": [
    "data[0: 20: 2] # Index 0 is 1st country dekhi 20th country samma difference of 2."
   ]
  },
  {
   "cell_type": "code",
   "execution_count": 14,
   "id": "ab93d7b5-6f6c-4f94-bc38-6e0bcd496127",
   "metadata": {},
   "outputs": [
    {
     "data": {
      "text/html": [
       "<div>\n",
       "<style scoped>\n",
       "    .dataframe tbody tr th:only-of-type {\n",
       "        vertical-align: middle;\n",
       "    }\n",
       "\n",
       "    .dataframe tbody tr th {\n",
       "        vertical-align: top;\n",
       "    }\n",
       "\n",
       "    .dataframe thead th {\n",
       "        text-align: right;\n",
       "    }\n",
       "</style>\n",
       "<table border=\"1\" class=\"dataframe\">\n",
       "  <thead>\n",
       "    <tr style=\"text-align: right;\">\n",
       "      <th></th>\n",
       "      <th>Country_Name</th>\n",
       "      <th>Country_Code</th>\n",
       "      <th>Birth_Rate</th>\n",
       "      <th>Internet_Users</th>\n",
       "      <th>Income_Group</th>\n",
       "    </tr>\n",
       "  </thead>\n",
       "  <tbody>\n",
       "    <tr>\n",
       "      <th>194</th>\n",
       "      <td>Zimbabwe</td>\n",
       "      <td>ZWE</td>\n",
       "      <td>35.715</td>\n",
       "      <td>18.5</td>\n",
       "      <td>Low income</td>\n",
       "    </tr>\n",
       "    <tr>\n",
       "      <th>193</th>\n",
       "      <td>Zambia</td>\n",
       "      <td>ZMB</td>\n",
       "      <td>40.471</td>\n",
       "      <td>15.4</td>\n",
       "      <td>Lower middle income</td>\n",
       "    </tr>\n",
       "    <tr>\n",
       "      <th>192</th>\n",
       "      <td>Congo, Dem. Rep.</td>\n",
       "      <td>COD</td>\n",
       "      <td>42.394</td>\n",
       "      <td>2.2</td>\n",
       "      <td>Low income</td>\n",
       "    </tr>\n",
       "    <tr>\n",
       "      <th>191</th>\n",
       "      <td>South Africa</td>\n",
       "      <td>ZAF</td>\n",
       "      <td>20.850</td>\n",
       "      <td>46.5</td>\n",
       "      <td>Upper middle income</td>\n",
       "    </tr>\n",
       "    <tr>\n",
       "      <th>190</th>\n",
       "      <td>Yemen, Rep.</td>\n",
       "      <td>YEM</td>\n",
       "      <td>32.947</td>\n",
       "      <td>20.0</td>\n",
       "      <td>Lower middle income</td>\n",
       "    </tr>\n",
       "  </tbody>\n",
       "</table>\n",
       "</div>"
      ],
      "text/plain": [
       "         Country_Name Country_Code  Birth_Rate  Internet_Users  \\\n",
       "194          Zimbabwe          ZWE      35.715            18.5   \n",
       "193            Zambia          ZMB      40.471            15.4   \n",
       "192  Congo, Dem. Rep.          COD      42.394             2.2   \n",
       "191      South Africa          ZAF      20.850            46.5   \n",
       "190       Yemen, Rep.          YEM      32.947            20.0   \n",
       "\n",
       "            Income_Group  \n",
       "194           Low income  \n",
       "193  Lower middle income  \n",
       "192           Low income  \n",
       "191  Upper middle income  \n",
       "190  Lower middle income  "
      ]
     },
     "execution_count": 14,
     "metadata": {},
     "output_type": "execute_result"
    }
   ],
   "source": [
    "data[::-1].head() # Reversing all the dataframe"
   ]
  },
  {
   "cell_type": "code",
   "execution_count": 15,
   "id": "a03862e1-f272-489d-981d-a0235fa2190f",
   "metadata": {},
   "outputs": [
    {
     "data": {
      "text/html": [
       "<div>\n",
       "<style scoped>\n",
       "    .dataframe tbody tr th:only-of-type {\n",
       "        vertical-align: middle;\n",
       "    }\n",
       "\n",
       "    .dataframe tbody tr th {\n",
       "        vertical-align: top;\n",
       "    }\n",
       "\n",
       "    .dataframe thead th {\n",
       "        text-align: right;\n",
       "    }\n",
       "</style>\n",
       "<table border=\"1\" class=\"dataframe\">\n",
       "  <thead>\n",
       "    <tr style=\"text-align: right;\">\n",
       "      <th></th>\n",
       "      <th>Country_Name</th>\n",
       "      <th>Country_Code</th>\n",
       "      <th>Birth_Rate</th>\n",
       "      <th>Internet_Users</th>\n",
       "      <th>Income_Group</th>\n",
       "    </tr>\n",
       "  </thead>\n",
       "  <tbody>\n",
       "    <tr>\n",
       "      <th>185</th>\n",
       "      <td>Virgin Islands (U.S.)</td>\n",
       "      <td>VIR</td>\n",
       "      <td>10.700</td>\n",
       "      <td>45.3</td>\n",
       "      <td>High income</td>\n",
       "    </tr>\n",
       "    <tr>\n",
       "      <th>186</th>\n",
       "      <td>Vietnam</td>\n",
       "      <td>VNM</td>\n",
       "      <td>15.537</td>\n",
       "      <td>43.9</td>\n",
       "      <td>Lower middle income</td>\n",
       "    </tr>\n",
       "    <tr>\n",
       "      <th>187</th>\n",
       "      <td>Vanuatu</td>\n",
       "      <td>VUT</td>\n",
       "      <td>26.739</td>\n",
       "      <td>11.3</td>\n",
       "      <td>Lower middle income</td>\n",
       "    </tr>\n",
       "    <tr>\n",
       "      <th>188</th>\n",
       "      <td>West Bank and Gaza</td>\n",
       "      <td>PSE</td>\n",
       "      <td>30.394</td>\n",
       "      <td>46.6</td>\n",
       "      <td>Lower middle income</td>\n",
       "    </tr>\n",
       "    <tr>\n",
       "      <th>189</th>\n",
       "      <td>Samoa</td>\n",
       "      <td>WSM</td>\n",
       "      <td>26.172</td>\n",
       "      <td>15.3</td>\n",
       "      <td>Lower middle income</td>\n",
       "    </tr>\n",
       "  </tbody>\n",
       "</table>\n",
       "</div>"
      ],
      "text/plain": [
       "              Country_Name Country_Code  Birth_Rate  Internet_Users  \\\n",
       "185  Virgin Islands (U.S.)          VIR      10.700            45.3   \n",
       "186                Vietnam          VNM      15.537            43.9   \n",
       "187                Vanuatu          VUT      26.739            11.3   \n",
       "188     West Bank and Gaza          PSE      30.394            46.6   \n",
       "189                  Samoa          WSM      26.172            15.3   \n",
       "\n",
       "            Income_Group  \n",
       "185          High income  \n",
       "186  Lower middle income  \n",
       "187  Lower middle income  \n",
       "188  Lower middle income  \n",
       "189  Lower middle income  "
      ]
     },
     "execution_count": 15,
     "metadata": {},
     "output_type": "execute_result"
    }
   ],
   "source": [
    "data[185: 195].head()"
   ]
  },
  {
   "cell_type": "markdown",
   "id": "73c8832d-631f-4a8c-a5c1-4897d35319d8",
   "metadata": {},
   "source": [
    "<br>"
   ]
  },
  {
   "cell_type": "markdown",
   "id": "5f5b1c14-9aec-4e22-bbc1-3193d639db90",
   "metadata": {},
   "source": [
    "#### Subsetting through column"
   ]
  },
  {
   "cell_type": "code",
   "execution_count": 16,
   "id": "23763e0c-220c-4e22-9ecb-12f08c6035fc",
   "metadata": {},
   "outputs": [
    {
     "data": {
      "text/plain": [
       "0    10.244\n",
       "1    35.253\n",
       "2    45.985\n",
       "3    12.877\n",
       "4    11.044\n",
       "Name: Birth_Rate, dtype: float64"
      ]
     },
     "execution_count": 16,
     "metadata": {},
     "output_type": "execute_result"
    }
   ],
   "source": [
    "data[\"Birth_Rate\"].head()"
   ]
  },
  {
   "cell_type": "code",
   "execution_count": 17,
   "id": "2e77f5fa-7ca2-44ed-b6ba-ebb11ff1bd48",
   "metadata": {},
   "outputs": [
    {
     "data": {
      "text/html": [
       "<div>\n",
       "<style scoped>\n",
       "    .dataframe tbody tr th:only-of-type {\n",
       "        vertical-align: middle;\n",
       "    }\n",
       "\n",
       "    .dataframe tbody tr th {\n",
       "        vertical-align: top;\n",
       "    }\n",
       "\n",
       "    .dataframe thead th {\n",
       "        text-align: right;\n",
       "    }\n",
       "</style>\n",
       "<table border=\"1\" class=\"dataframe\">\n",
       "  <thead>\n",
       "    <tr style=\"text-align: right;\">\n",
       "      <th></th>\n",
       "      <th>Birth_Rate</th>\n",
       "      <th>Income_Group</th>\n",
       "    </tr>\n",
       "  </thead>\n",
       "  <tbody>\n",
       "    <tr>\n",
       "      <th>0</th>\n",
       "      <td>10.244</td>\n",
       "      <td>High income</td>\n",
       "    </tr>\n",
       "    <tr>\n",
       "      <th>1</th>\n",
       "      <td>35.253</td>\n",
       "      <td>Low income</td>\n",
       "    </tr>\n",
       "    <tr>\n",
       "      <th>2</th>\n",
       "      <td>45.985</td>\n",
       "      <td>Upper middle income</td>\n",
       "    </tr>\n",
       "    <tr>\n",
       "      <th>3</th>\n",
       "      <td>12.877</td>\n",
       "      <td>Upper middle income</td>\n",
       "    </tr>\n",
       "    <tr>\n",
       "      <th>4</th>\n",
       "      <td>11.044</td>\n",
       "      <td>High income</td>\n",
       "    </tr>\n",
       "  </tbody>\n",
       "</table>\n",
       "</div>"
      ],
      "text/plain": [
       "   Birth_Rate         Income_Group\n",
       "0      10.244          High income\n",
       "1      35.253           Low income\n",
       "2      45.985  Upper middle income\n",
       "3      12.877  Upper middle income\n",
       "4      11.044          High income"
      ]
     },
     "execution_count": 17,
     "metadata": {},
     "output_type": "execute_result"
    }
   ],
   "source": [
    "data[[\"Birth_Rate\", \"Income_Group\"]].head()"
   ]
  },
  {
   "cell_type": "code",
   "execution_count": 18,
   "id": "bbd537ff-117b-4acc-b0a6-986904fff750",
   "metadata": {},
   "outputs": [
    {
     "data": {
      "text/plain": [
       "0      10.244\n",
       "1      35.253\n",
       "2      45.985\n",
       "3      12.877\n",
       "4      11.044\n",
       "        ...  \n",
       "190    32.947\n",
       "191    20.850\n",
       "192    42.394\n",
       "193    40.471\n",
       "194    35.715\n",
       "Name: Birth_Rate, Length: 195, dtype: float64"
      ]
     },
     "execution_count": 18,
     "metadata": {},
     "output_type": "execute_result"
    }
   ],
   "source": [
    "data.Birth_Rate  #Quick Access method of subsetting for one columns"
   ]
  },
  {
   "cell_type": "markdown",
   "id": "72fd2574-3fa1-46f2-8f44-4b741c59ce09",
   "metadata": {},
   "source": [
    "<br>"
   ]
  },
  {
   "cell_type": "markdown",
   "id": "bf78d047-d344-46fc-b8a7-710c492a4e3b",
   "metadata": {},
   "source": [
    "#### Combining both\n",
    "It is combining both subtting with row and subsetting with columns"
   ]
  },
  {
   "cell_type": "code",
   "execution_count": 19,
   "id": "5380a23a-9039-4573-bb64-b9967016481d",
   "metadata": {},
   "outputs": [
    {
     "data": {
      "text/html": [
       "<div>\n",
       "<style scoped>\n",
       "    .dataframe tbody tr th:only-of-type {\n",
       "        vertical-align: middle;\n",
       "    }\n",
       "\n",
       "    .dataframe tbody tr th {\n",
       "        vertical-align: top;\n",
       "    }\n",
       "\n",
       "    .dataframe thead th {\n",
       "        text-align: right;\n",
       "    }\n",
       "</style>\n",
       "<table border=\"1\" class=\"dataframe\">\n",
       "  <thead>\n",
       "    <tr style=\"text-align: right;\">\n",
       "      <th></th>\n",
       "      <th>Birth_Rate</th>\n",
       "      <th>Internet_Users</th>\n",
       "    </tr>\n",
       "  </thead>\n",
       "  <tbody>\n",
       "    <tr>\n",
       "      <th>0</th>\n",
       "      <td>10.244</td>\n",
       "      <td>78.9000</td>\n",
       "    </tr>\n",
       "    <tr>\n",
       "      <th>2</th>\n",
       "      <td>45.985</td>\n",
       "      <td>19.1000</td>\n",
       "    </tr>\n",
       "    <tr>\n",
       "      <th>4</th>\n",
       "      <td>11.044</td>\n",
       "      <td>88.0000</td>\n",
       "    </tr>\n",
       "    <tr>\n",
       "      <th>6</th>\n",
       "      <td>13.308</td>\n",
       "      <td>41.9000</td>\n",
       "    </tr>\n",
       "    <tr>\n",
       "      <th>8</th>\n",
       "      <td>13.200</td>\n",
       "      <td>83.0000</td>\n",
       "    </tr>\n",
       "    <tr>\n",
       "      <th>10</th>\n",
       "      <td>18.300</td>\n",
       "      <td>58.7000</td>\n",
       "    </tr>\n",
       "    <tr>\n",
       "      <th>12</th>\n",
       "      <td>11.200</td>\n",
       "      <td>82.1702</td>\n",
       "    </tr>\n",
       "    <tr>\n",
       "      <th>14</th>\n",
       "      <td>40.551</td>\n",
       "      <td>9.1000</td>\n",
       "    </tr>\n",
       "    <tr>\n",
       "      <th>16</th>\n",
       "      <td>9.200</td>\n",
       "      <td>53.0615</td>\n",
       "    </tr>\n",
       "    <tr>\n",
       "      <th>18</th>\n",
       "      <td>15.339</td>\n",
       "      <td>72.0000</td>\n",
       "    </tr>\n",
       "    <tr>\n",
       "      <th>20</th>\n",
       "      <td>12.500</td>\n",
       "      <td>54.1700</td>\n",
       "    </tr>\n",
       "  </tbody>\n",
       "</table>\n",
       "</div>"
      ],
      "text/plain": [
       "    Birth_Rate  Internet_Users\n",
       "0       10.244         78.9000\n",
       "2       45.985         19.1000\n",
       "4       11.044         88.0000\n",
       "6       13.308         41.9000\n",
       "8       13.200         83.0000\n",
       "10      18.300         58.7000\n",
       "12      11.200         82.1702\n",
       "14      40.551          9.1000\n",
       "16       9.200         53.0615\n",
       "18      15.339         72.0000\n",
       "20      12.500         54.1700"
      ]
     },
     "execution_count": 19,
     "metadata": {},
     "output_type": "execute_result"
    }
   ],
   "source": [
    "data[0:21:2][[\"Birth_Rate\", \"Internet_Users\"]]"
   ]
  },
  {
   "cell_type": "markdown",
   "id": "f1d7144c-8aae-4e26-b270-a0582669d7f6",
   "metadata": {},
   "source": [
    "<br><br>"
   ]
  },
  {
   "cell_type": "markdown",
   "id": "d685b138-8614-4af3-af9a-6972c87b7d63",
   "metadata": {},
   "source": [
    "### Basic Operations with a DataFrame"
   ]
  },
  {
   "cell_type": "markdown",
   "id": "699c54d2-8d25-43a7-bce4-4d7f9e1a0edf",
   "metadata": {},
   "source": [
    "#### Mathematical Operations:"
   ]
  },
  {
   "cell_type": "code",
   "execution_count": 20,
   "id": "7dc8b926-db0e-4adb-af19-b31f1d09ede3",
   "metadata": {},
   "outputs": [
    {
     "data": {
      "text/plain": [
       "Index(['Country_Name', 'Country_Code', 'Birth_Rate', 'Internet_Users',\n",
       "       'Income_Group'],\n",
       "      dtype='object')"
      ]
     },
     "execution_count": 20,
     "metadata": {},
     "output_type": "execute_result"
    }
   ],
   "source": [
    "data.columns"
   ]
  },
  {
   "cell_type": "code",
   "execution_count": 21,
   "id": "051c0e46-82d9-4799-b950-925c04bf40c3",
   "metadata": {},
   "outputs": [
    {
     "name": "stdout",
     "output_type": "stream",
     "text": [
      "0    808.2516\n",
      "1    207.9927\n",
      "2    878.3135\n",
      "3    736.5644\n",
      "4    971.8720\n",
      "dtype: float64\n"
     ]
    }
   ],
   "source": [
    "result = data[\"Birth_Rate\"] * data[\"Internet_Users\"]\n",
    "print(result.head())"
   ]
  },
  {
   "cell_type": "markdown",
   "id": "2197d116-7453-4479-b965-0c2d6ed82334",
   "metadata": {},
   "source": [
    "#### Add Column in DataFrame:"
   ]
  },
  {
   "cell_type": "code",
   "execution_count": 22,
   "id": "4a2b613c-e2b4-42f3-a36f-42891168dee1",
   "metadata": {},
   "outputs": [
    {
     "name": "stdout",
     "output_type": "stream",
     "text": [
      "\n",
      "Name of Columns\n",
      "Index(['Country_Name', 'Country_Code', 'Birth_Rate', 'Internet_Users',\n",
      "       'Income_Group', 'MyCalc'],\n",
      "      dtype='object')\n",
      "\n",
      "DataSets\n",
      "           Country_Name Country_Code  Birth_Rate  Internet_Users  \\\n",
      "0                 Aruba          ABW      10.244            78.9   \n",
      "1           Afghanistan          AFG      35.253             5.9   \n",
      "2                Angola          AGO      45.985            19.1   \n",
      "3               Albania          ALB      12.877            57.2   \n",
      "4  United Arab Emirates          ARE      11.044            88.0   \n",
      "\n",
      "          Income_Group    MyCalc  \n",
      "0          High income  808.2516  \n",
      "1           Low income  207.9927  \n",
      "2  Upper middle income  878.3135  \n",
      "3  Upper middle income  736.5644  \n",
      "4          High income  971.8720  \n"
     ]
    }
   ],
   "source": [
    "data[\"MyCalc\"] = result\n",
    "print(\"\\nName of Columns\")\n",
    "print(data.columns)\n",
    "print(\"\\nDataSets\")\n",
    "print(data.head())"
   ]
  },
  {
   "cell_type": "markdown",
   "id": "89632482-2271-49ce-af43-65506ded3a36",
   "metadata": {},
   "source": [
    "<br>"
   ]
  },
  {
   "cell_type": "markdown",
   "id": "3a77e744-5c24-4ff6-a9b0-9e7ecd50f04c",
   "metadata": {},
   "source": [
    "#### Removing Columns from DataFrame:"
   ]
  },
  {
   "cell_type": "code",
   "execution_count": 23,
   "id": "f29cc7c7-83ee-4917-9134-7e8067a27b61",
   "metadata": {},
   "outputs": [
    {
     "data": {
      "text/plain": [
       "Index(['Country_Name', 'Country_Code', 'Birth_Rate', 'Internet_Users',\n",
       "       'Income_Group'],\n",
       "      dtype='object')"
      ]
     },
     "execution_count": 23,
     "metadata": {},
     "output_type": "execute_result"
    }
   ],
   "source": [
    "data = data.drop(\"MyCalc\", axis=1) #Here we drop and overwrite data with data variable name.\n",
    "data.columns"
   ]
  },
  {
   "cell_type": "markdown",
   "id": "bfb9d52d-d769-42da-9897-9f48e0131dab",
   "metadata": {},
   "source": [
    "<br><br>"
   ]
  },
  {
   "cell_type": "markdown",
   "id": "f9ec093b-dfde-42d4-958e-3eb776d7ddb1",
   "metadata": {},
   "source": [
    "### Filtering DataFrames:\n",
    "- Filtering dataframes helps to find about the insights.\n",
    "- Filtering is about Rows. We do filtering 90% of time with rows."
   ]
  },
  {
   "cell_type": "markdown",
   "id": "ee6e3f0d-012f-40d9-9747-7dee0949542c",
   "metadata": {},
   "source": [
    "#### 1. Let's see example. Finding out `Internet_Users` less than 2"
   ]
  },
  {
   "cell_type": "code",
   "execution_count": 24,
   "id": "7d70a3ee-8a48-4722-ada2-7ee575a18421",
   "metadata": {},
   "outputs": [
    {
     "name": "stdout",
     "output_type": "stream",
     "text": [
      "0      False\n",
      "1      False\n",
      "2      False\n",
      "3      False\n",
      "4      False\n",
      "       ...  \n",
      "190    False\n",
      "191    False\n",
      "192    False\n",
      "193    False\n",
      "194    False\n",
      "Name: Internet_Users, Length: 195, dtype: bool\n",
      "    Country_Name Country_Code  Birth_Rate  Internet_Users         Income_Group\n",
      "11       Burundi          BDI      44.151             1.3           Low income\n",
      "52       Eritrea          ERI      34.800             0.9           Low income\n",
      "55      Ethiopia          ETH      32.925             1.9           Low income\n",
      "64        Guinea          GIN      37.337             1.6           Low income\n",
      "117      Myanmar          MMR      18.119             1.6  Lower middle income\n"
     ]
    }
   ],
   "source": [
    "filter1 = data[\"Internet_Users\"] < 2\n",
    "print(filter1)\n",
    "mask = filter1\n",
    "print(data[mask].head())"
   ]
  },
  {
   "cell_type": "markdown",
   "id": "83598985-5ef9-44ee-bb8d-3dd812cea139",
   "metadata": {},
   "source": [
    "#### 2. Filtering with multiple data.columns"
   ]
  },
  {
   "cell_type": "code",
   "execution_count": 25,
   "id": "027fa182-8c55-486d-854f-f05aecc0f83b",
   "metadata": {},
   "outputs": [
    {
     "ename": "ValueError",
     "evalue": "The truth value of a Series is ambiguous. Use a.empty, a.bool(), a.item(), a.any() or a.all().",
     "output_type": "error",
     "traceback": [
      "\u001b[1;31m---------------------------------------------------------------------------\u001b[0m",
      "\u001b[1;31mValueError\u001b[0m                                Traceback (most recent call last)",
      "\u001b[1;32m~\\AppData\\Local\\Temp\\ipykernel_7640\\4174842347.py\u001b[0m in \u001b[0;36m?\u001b[1;34m()\u001b[0m\n\u001b[0;32m      1\u001b[0m \u001b[1;31m# Doing two filtering using one code:\u001b[0m\u001b[1;33m\u001b[0m\u001b[1;33m\u001b[0m\u001b[0m\n\u001b[1;32m----> 2\u001b[1;33m \u001b[0mfilter2\u001b[0m\u001b[1;33m=\u001b[0m \u001b[0mdata\u001b[0m\u001b[1;33m[\u001b[0m\u001b[0mdata\u001b[0m\u001b[1;33m.\u001b[0m\u001b[0mBirth_Rate\u001b[0m \u001b[1;33m>\u001b[0m \u001b[1;36m40\u001b[0m \u001b[1;32mand\u001b[0m \u001b[0mdata\u001b[0m\u001b[1;33m.\u001b[0m\u001b[0mInternet_Users\u001b[0m \u001b[1;33m>\u001b[0m\u001b[1;36m20\u001b[0m\u001b[1;33m]\u001b[0m\u001b[1;33m\u001b[0m\u001b[1;33m\u001b[0m\u001b[0m\n\u001b[0m\u001b[0;32m      3\u001b[0m \u001b[1;31m# In R this would run properly but not here why?\u001b[0m\u001b[1;33m\u001b[0m\u001b[1;33m\u001b[0m\u001b[0m\n\u001b[0;32m      4\u001b[0m \u001b[1;31m# In pandas of python we need to use bitwise operators('&', '|' '~') for 'and', 'or', and 'not'.\u001b[0m\u001b[1;33m\u001b[0m\u001b[1;33m\u001b[0m\u001b[0m\n",
      "\u001b[1;32m~\\OneDrive\\Desktop\\Financial-Analysis\\myvenv\\Lib\\site-packages\\pandas\\core\\generic.py\u001b[0m in \u001b[0;36m?\u001b[1;34m(self)\u001b[0m\n\u001b[0;32m   1574\u001b[0m     \u001b[1;33m@\u001b[0m\u001b[0mfinal\u001b[0m\u001b[1;33m\u001b[0m\u001b[1;33m\u001b[0m\u001b[0m\n\u001b[0;32m   1575\u001b[0m     \u001b[1;32mdef\u001b[0m \u001b[0m__nonzero__\u001b[0m\u001b[1;33m(\u001b[0m\u001b[0mself\u001b[0m\u001b[1;33m)\u001b[0m \u001b[1;33m->\u001b[0m \u001b[0mNoReturn\u001b[0m\u001b[1;33m:\u001b[0m\u001b[1;33m\u001b[0m\u001b[1;33m\u001b[0m\u001b[0m\n\u001b[1;32m-> 1576\u001b[1;33m         raise ValueError(\n\u001b[0m\u001b[0;32m   1577\u001b[0m             \u001b[1;33mf\"\u001b[0m\u001b[1;33mThe truth value of a \u001b[0m\u001b[1;33m{\u001b[0m\u001b[0mtype\u001b[0m\u001b[1;33m(\u001b[0m\u001b[0mself\u001b[0m\u001b[1;33m)\u001b[0m\u001b[1;33m.\u001b[0m\u001b[0m__name__\u001b[0m\u001b[1;33m}\u001b[0m\u001b[1;33m is ambiguous. \u001b[0m\u001b[1;33m\"\u001b[0m\u001b[1;33m\u001b[0m\u001b[1;33m\u001b[0m\u001b[0m\n\u001b[0;32m   1578\u001b[0m             \u001b[1;34m\"Use a.empty, a.bool(), a.item(), a.any() or a.all().\"\u001b[0m\u001b[1;33m\u001b[0m\u001b[1;33m\u001b[0m\u001b[0m\n\u001b[0;32m   1579\u001b[0m         \u001b[1;33m)\u001b[0m\u001b[1;33m\u001b[0m\u001b[1;33m\u001b[0m\u001b[0m\n",
      "\u001b[1;31mValueError\u001b[0m: The truth value of a Series is ambiguous. Use a.empty, a.bool(), a.item(), a.any() or a.all()."
     ]
    }
   ],
   "source": [
    "# Doing two filtering using one code:\n",
    "filter2= data[data.Birth_Rate > 40 and data.Internet_Users >20]  \n",
    "# In R this would run properly but not here why?\n",
    "# In pandas of python we need to use bitwise operators('&', '|' '~') for 'and', 'or', and 'not'."
   ]
  },
  {
   "cell_type": "code",
   "execution_count": 26,
   "id": "37eef98c-38a7-4764-8867-910a96f153e9",
   "metadata": {},
   "outputs": [
    {
     "name": "stdout",
     "output_type": "stream",
     "text": [
      "              Country_Name Country_Code  Birth_Rate  Internet_Users  \\\n",
      "2                   Angola          AGO      45.985            19.1   \n",
      "63                   Ghana          GHA      33.131            12.3   \n",
      "65             Gambia, The          GMB      42.525            14.0   \n",
      "67       Equatorial Guinea          GNQ      35.362            16.4   \n",
      "91                   Kenya          KEN      35.194            39.0   \n",
      "128                Nigeria          NGA      40.045            38.0   \n",
      "150                  Sudan          SDN      33.477            22.7   \n",
      "151                Senegal          SEN      38.533            13.1   \n",
      "158            South Sudan          SSD      37.126            14.1   \n",
      "159  Sao Tome and Principe          STP      34.537            23.0   \n",
      "164              Swaziland          SWZ      30.093            24.7   \n",
      "170             Tajikistan          TJK      30.792            16.0   \n",
      "178                 Uganda          UGA      43.474            16.2   \n",
      "188     West Bank and Gaza          PSE      30.394            46.6   \n",
      "190            Yemen, Rep.          YEM      32.947            20.0   \n",
      "193                 Zambia          ZMB      40.471            15.4   \n",
      "194               Zimbabwe          ZWE      35.715            18.5   \n",
      "\n",
      "            Income_Group  \n",
      "2    Upper middle income  \n",
      "63   Lower middle income  \n",
      "65            Low income  \n",
      "67           High income  \n",
      "91   Lower middle income  \n",
      "128  Lower middle income  \n",
      "150  Lower middle income  \n",
      "151  Lower middle income  \n",
      "158           Low income  \n",
      "159  Lower middle income  \n",
      "164  Lower middle income  \n",
      "170  Lower middle income  \n",
      "178           Low income  \n",
      "188  Lower middle income  \n",
      "190  Lower middle income  \n",
      "193  Lower middle income  \n",
      "194           Low income  \n",
      "\n",
      "Number of datas\n",
      "17\n",
      "\n",
      "Dimension\n",
      "2\n"
     ]
    }
   ],
   "source": [
    "filter2 = data[(data[\"Birth_Rate\"]>30) & (data[\"Internet_Users\"]>10)]\n",
    "print(filter2)\n",
    "print(\"\\nNumber of datas\")\n",
    "print(len(filter2))\n",
    "print(\"\\nDimension\")\n",
    "print(filter2.ndim)"
   ]
  },
  {
   "cell_type": "markdown",
   "id": "d825c748-ba0e-436d-847f-6ae21ef0a01a",
   "metadata": {},
   "source": [
    "#### 3. Filter `string<class>` "
   ]
  },
  {
   "cell_type": "code",
   "execution_count": 27,
   "id": "ac4b1d4a-af6f-4b49-8059-5ef7ce8d637e",
   "metadata": {},
   "outputs": [
    {
     "name": "stdout",
     "output_type": "stream",
     "text": [
      "           Country_Name Country_Code  Birth_Rate  Internet_Users Income_Group\n",
      "0                 Aruba          ABW      10.244            78.9  High income\n",
      "4  United Arab Emirates          ARE      11.044            88.0  High income\n",
      "5             Argentina          ARG      17.716            59.9  High income\n",
      "7   Antigua and Barbuda          ATG      16.447            63.4  High income\n",
      "8             Australia          AUS      13.200            83.0  High income\n"
     ]
    }
   ],
   "source": [
    "# How to filter string class groups.\n",
    "filter3 = data[data.Income_Group == \"High income\"]\n",
    "print(filter3.head())"
   ]
  },
  {
   "cell_type": "code",
   "execution_count": 28,
   "id": "3aa5b4dc-f7f9-4cf2-8bfa-564b642daa5f",
   "metadata": {},
   "outputs": [
    {
     "name": "stdout",
     "output_type": "stream",
     "text": [
      "            Country_Name Country_Code  Birth_Rate  Internet_Users Income_Group\n",
      "0                  Aruba          ABW      10.244         78.9000  High income\n",
      "4   United Arab Emirates          ARE      11.044         88.0000  High income\n",
      "8              Australia          AUS      13.200         83.0000  High income\n",
      "9                Austria          AUT       9.400         80.6188  High income\n",
      "12               Belgium          BEL      11.200         82.1702  High income\n",
      "\n",
      "Number of datas\n",
      "39\n"
     ]
    }
   ],
   "source": [
    "filter4 = data[(data.Income_Group == \"High income\") & (data.Internet_Users > 70) & (data[\"Birth_Rate\"] < 18)]\n",
    "print(filter4.head())\n",
    "print(\"\\nNumber of datas\")\n",
    "print(len(filter4))"
   ]
  },
  {
   "cell_type": "code",
   "execution_count": 29,
   "id": "e0b20c5e-0cc7-42f1-bf2a-da01aa25245d",
   "metadata": {},
   "outputs": [
    {
     "data": {
      "text/plain": [
       "array(['High income', 'Low income', 'Upper middle income',\n",
       "       'Lower middle income'], dtype=object)"
      ]
     },
     "execution_count": 29,
     "metadata": {},
     "output_type": "execute_result"
    }
   ],
   "source": [
    "# How do we get what are the unique categories inside any string series of dataframe.\n",
    "data.Income_Group.unique() #It shows what different category inside Income Group\n"
   ]
  },
  {
   "cell_type": "code",
   "execution_count": 30,
   "id": "ad29b635-9085-4df8-a256-8e5fb0730fe6",
   "metadata": {},
   "outputs": [
    {
     "name": "stdout",
     "output_type": "stream",
     "text": [
      "    Country_Name Country_Code  Birth_Rate  Internet_Users Income_Group\n",
      "116        Malta          MLT         9.5         68.9138  High income\n"
     ]
    }
   ],
   "source": [
    "# How do we find a row or data of a certain country.\n",
    "print(data[data.Country_Name == \"Malta\"])"
   ]
  },
  {
   "cell_type": "markdown",
   "id": "083287dc-1ed5-4998-bc4f-07787b7bde48",
   "metadata": {},
   "source": [
    "<br><br>"
   ]
  },
  {
   "cell_type": "markdown",
   "id": "dda26352-302c-43ec-af00-9da9fbf42826",
   "metadata": {},
   "source": [
    "### Accessing Individual Elements\n",
    "Use of `.at[]` and `.iat[]`"
   ]
  },
  {
   "cell_type": "markdown",
   "id": "72a79642-be07-4efd-b000-fb6b3f80f13a",
   "metadata": {},
   "source": [
    "- In `matrices` we can get individal element using slicing .For e.g, data[2,2]\n",
    "- In `pandas` it shows error\n",
    "- It is because `pandas` is trying to intepret [2,2] as label-based index lookup, but it cannot find a row or column with the label(2,2)\n"
   ]
  },
  {
   "cell_type": "markdown",
   "id": "cac74a8e-7f49-49f5-82be-f9e88051cbbb",
   "metadata": {},
   "source": [
    "#### What is `DataFrame.at[]`? \n",
    "- Access a single value for a row/column pair by label.\n",
    "- Answer: `.at[]` is not built-in function like list, tuples, strings. It is used to access specific value in DataFrame, which is `2D labeled data` structure. `.at[]` looks at `label` not `integers`."
   ]
  },
  {
   "cell_type": "code",
   "execution_count": 31,
   "id": "2e2afa22-d9b4-49a0-9bc8-1cdd6320bb6b",
   "metadata": {},
   "outputs": [
    {
     "data": {
      "text/html": [
       "<div>\n",
       "<style scoped>\n",
       "    .dataframe tbody tr th:only-of-type {\n",
       "        vertical-align: middle;\n",
       "    }\n",
       "\n",
       "    .dataframe tbody tr th {\n",
       "        vertical-align: top;\n",
       "    }\n",
       "\n",
       "    .dataframe thead th {\n",
       "        text-align: right;\n",
       "    }\n",
       "</style>\n",
       "<table border=\"1\" class=\"dataframe\">\n",
       "  <thead>\n",
       "    <tr style=\"text-align: right;\">\n",
       "      <th></th>\n",
       "      <th>Country_Name</th>\n",
       "      <th>Country_Code</th>\n",
       "      <th>Birth_Rate</th>\n",
       "      <th>Internet_Users</th>\n",
       "      <th>Income_Group</th>\n",
       "    </tr>\n",
       "  </thead>\n",
       "  <tbody>\n",
       "    <tr>\n",
       "      <th>0</th>\n",
       "      <td>Aruba</td>\n",
       "      <td>ABW</td>\n",
       "      <td>10.244</td>\n",
       "      <td>78.9</td>\n",
       "      <td>High income</td>\n",
       "    </tr>\n",
       "    <tr>\n",
       "      <th>1</th>\n",
       "      <td>Afghanistan</td>\n",
       "      <td>AFG</td>\n",
       "      <td>35.253</td>\n",
       "      <td>5.9</td>\n",
       "      <td>Low income</td>\n",
       "    </tr>\n",
       "    <tr>\n",
       "      <th>2</th>\n",
       "      <td>Angola</td>\n",
       "      <td>AGO</td>\n",
       "      <td>45.985</td>\n",
       "      <td>19.1</td>\n",
       "      <td>Upper middle income</td>\n",
       "    </tr>\n",
       "    <tr>\n",
       "      <th>3</th>\n",
       "      <td>Albania</td>\n",
       "      <td>ALB</td>\n",
       "      <td>12.877</td>\n",
       "      <td>57.2</td>\n",
       "      <td>Upper middle income</td>\n",
       "    </tr>\n",
       "    <tr>\n",
       "      <th>4</th>\n",
       "      <td>United Arab Emirates</td>\n",
       "      <td>ARE</td>\n",
       "      <td>11.044</td>\n",
       "      <td>88.0</td>\n",
       "      <td>High income</td>\n",
       "    </tr>\n",
       "  </tbody>\n",
       "</table>\n",
       "</div>"
      ],
      "text/plain": [
       "           Country_Name Country_Code  Birth_Rate  Internet_Users  \\\n",
       "0                 Aruba          ABW      10.244            78.9   \n",
       "1           Afghanistan          AFG      35.253             5.9   \n",
       "2                Angola          AGO      45.985            19.1   \n",
       "3               Albania          ALB      12.877            57.2   \n",
       "4  United Arab Emirates          ARE      11.044            88.0   \n",
       "\n",
       "          Income_Group  \n",
       "0          High income  \n",
       "1           Low income  \n",
       "2  Upper middle income  \n",
       "3  Upper middle income  \n",
       "4          High income  "
      ]
     },
     "execution_count": 31,
     "metadata": {},
     "output_type": "execute_result"
    }
   ],
   "source": [
    "data.head()"
   ]
  },
  {
   "cell_type": "code",
   "execution_count": 32,
   "id": "fe7dfbc6-8b04-4c0a-aa3d-e8b29de745de",
   "metadata": {},
   "outputs": [
    {
     "data": {
      "text/plain": [
       "11.044"
      ]
     },
     "execution_count": 32,
     "metadata": {},
     "output_type": "execute_result"
    }
   ],
   "source": [
    "## Getting element 11.044?\n",
    "data.at[4, \"Birth_Rate\"]\n"
   ]
  },
  {
   "cell_type": "code",
   "execution_count": 33,
   "id": "9ce47302-679c-4275-8526-2c19970e9452",
   "metadata": {},
   "outputs": [],
   "source": [
    "## Setting element 11.044 = 12\n",
    "data.at[4, \"Birth_Rate\"] = 12"
   ]
  },
  {
   "cell_type": "code",
   "execution_count": 34,
   "id": "33207d18-c8e8-4db8-85b8-3ebe5b01ed1e",
   "metadata": {},
   "outputs": [
    {
     "data": {
      "text/html": [
       "<div>\n",
       "<style scoped>\n",
       "    .dataframe tbody tr th:only-of-type {\n",
       "        vertical-align: middle;\n",
       "    }\n",
       "\n",
       "    .dataframe tbody tr th {\n",
       "        vertical-align: top;\n",
       "    }\n",
       "\n",
       "    .dataframe thead th {\n",
       "        text-align: right;\n",
       "    }\n",
       "</style>\n",
       "<table border=\"1\" class=\"dataframe\">\n",
       "  <thead>\n",
       "    <tr style=\"text-align: right;\">\n",
       "      <th></th>\n",
       "      <th>Country_Name</th>\n",
       "      <th>Country_Code</th>\n",
       "      <th>Birth_Rate</th>\n",
       "      <th>Internet_Users</th>\n",
       "      <th>Income_Group</th>\n",
       "    </tr>\n",
       "  </thead>\n",
       "  <tbody>\n",
       "    <tr>\n",
       "      <th>0</th>\n",
       "      <td>Aruba</td>\n",
       "      <td>ABW</td>\n",
       "      <td>10.244</td>\n",
       "      <td>78.9</td>\n",
       "      <td>High income</td>\n",
       "    </tr>\n",
       "    <tr>\n",
       "      <th>1</th>\n",
       "      <td>Afghanistan</td>\n",
       "      <td>AFG</td>\n",
       "      <td>35.253</td>\n",
       "      <td>5.9</td>\n",
       "      <td>Low income</td>\n",
       "    </tr>\n",
       "    <tr>\n",
       "      <th>2</th>\n",
       "      <td>Angola</td>\n",
       "      <td>AGO</td>\n",
       "      <td>45.985</td>\n",
       "      <td>19.1</td>\n",
       "      <td>Upper middle income</td>\n",
       "    </tr>\n",
       "    <tr>\n",
       "      <th>3</th>\n",
       "      <td>Albania</td>\n",
       "      <td>ALB</td>\n",
       "      <td>12.877</td>\n",
       "      <td>57.2</td>\n",
       "      <td>Upper middle income</td>\n",
       "    </tr>\n",
       "    <tr>\n",
       "      <th>4</th>\n",
       "      <td>United Arab Emirates</td>\n",
       "      <td>ARE</td>\n",
       "      <td>12.000</td>\n",
       "      <td>88.0</td>\n",
       "      <td>High income</td>\n",
       "    </tr>\n",
       "  </tbody>\n",
       "</table>\n",
       "</div>"
      ],
      "text/plain": [
       "           Country_Name Country_Code  Birth_Rate  Internet_Users  \\\n",
       "0                 Aruba          ABW      10.244            78.9   \n",
       "1           Afghanistan          AFG      35.253             5.9   \n",
       "2                Angola          AGO      45.985            19.1   \n",
       "3               Albania          ALB      12.877            57.2   \n",
       "4  United Arab Emirates          ARE      12.000            88.0   \n",
       "\n",
       "          Income_Group  \n",
       "0          High income  \n",
       "1           Low income  \n",
       "2  Upper middle income  \n",
       "3  Upper middle income  \n",
       "4          High income  "
      ]
     },
     "execution_count": 34,
     "metadata": {},
     "output_type": "execute_result"
    }
   ],
   "source": [
    "# Data after setiing BirthRate 12\n",
    "\n",
    "data.head()"
   ]
  },
  {
   "cell_type": "code",
   "execution_count": null,
   "id": "56f8be21-34b8-460d-bada-e3113fb32687",
   "metadata": {},
   "outputs": [],
   "source": []
  },
  {
   "cell_type": "markdown",
   "id": "bc8dc041-5c63-4643-9920-7a96617ab84f",
   "metadata": {},
   "source": [
    "<br>"
   ]
  },
  {
   "cell_type": "markdown",
   "id": "f0174149-3010-42fa-9693-d13802fa6f60",
   "metadata": {},
   "source": [
    "#### What is `DataFrame.iat[]`?\n",
    "- Access a single value for a row/column pair by integer position.\n",
    "- It is used to access scalat vlaue in a DataFrame by integer location."
   ]
  },
  {
   "cell_type": "code",
   "execution_count": 35,
   "id": "158c1498-be00-4765-8826-9846f0065899",
   "metadata": {},
   "outputs": [
    {
     "data": {
      "text/plain": [
       "'Angola'"
      ]
     },
     "execution_count": 35,
     "metadata": {},
     "output_type": "execute_result"
    }
   ],
   "source": [
    "## Example:\n",
    "data.iat[2,0]"
   ]
  },
  {
   "cell_type": "code",
   "execution_count": 36,
   "id": "2e22649b-cc13-486b-a956-25e22f70dbbb",
   "metadata": {},
   "outputs": [
    {
     "data": {
      "text/plain": [
       "'Azerbaijan'"
      ]
     },
     "execution_count": 36,
     "metadata": {},
     "output_type": "execute_result"
    }
   ],
   "source": [
    "data.iat[10,0]"
   ]
  },
  {
   "cell_type": "code",
   "execution_count": 37,
   "id": "c6852087-ea53-4410-9337-3816c838cdc7",
   "metadata": {},
   "outputs": [
    {
     "data": {
      "text/plain": [
       "'Ecuador'"
      ]
     },
     "execution_count": 37,
     "metadata": {},
     "output_type": "execute_result"
    }
   ],
   "source": [
    "subset = data[::10]\n",
    "subset.at[50, \"Country_Name\"] #Which is at 11th row of dataframe."
   ]
  },
  {
   "cell_type": "markdown",
   "id": "0f4b7157-c578-4365-96a5-2b450566b55b",
   "metadata": {},
   "source": [
    "<br>"
   ]
  },
  {
   "cell_type": "markdown",
   "id": "e0b47913-6145-40eb-9ec0-28c3faf1b35a",
   "metadata": {},
   "source": [
    "#### What id `DataFrame.iloc[]`?\n",
    "- Access group of rows and columns by integer position(s).\n",
    "- `.iloc[]` is primarily integer position based (from `0` to `length-1` of the axis), but may also be used with a boolean array."
   ]
  },
  {
   "cell_type": "code",
   "execution_count": 38,
   "id": "57298006-2f60-4499-ba92-62588bfacd92",
   "metadata": {},
   "outputs": [
    {
     "data": {
      "text/html": [
       "<div>\n",
       "<style scoped>\n",
       "    .dataframe tbody tr th:only-of-type {\n",
       "        vertical-align: middle;\n",
       "    }\n",
       "\n",
       "    .dataframe tbody tr th {\n",
       "        vertical-align: top;\n",
       "    }\n",
       "\n",
       "    .dataframe thead th {\n",
       "        text-align: right;\n",
       "    }\n",
       "</style>\n",
       "<table border=\"1\" class=\"dataframe\">\n",
       "  <thead>\n",
       "    <tr style=\"text-align: right;\">\n",
       "      <th></th>\n",
       "      <th>Country_Name</th>\n",
       "      <th>Country_Code</th>\n",
       "      <th>Birth_Rate</th>\n",
       "      <th>Internet_Users</th>\n",
       "      <th>Income_Group</th>\n",
       "    </tr>\n",
       "  </thead>\n",
       "  <tbody>\n",
       "    <tr>\n",
       "      <th>0</th>\n",
       "      <td>Aruba</td>\n",
       "      <td>ABW</td>\n",
       "      <td>10.244</td>\n",
       "      <td>78.9</td>\n",
       "      <td>High income</td>\n",
       "    </tr>\n",
       "    <tr>\n",
       "      <th>1</th>\n",
       "      <td>Afghanistan</td>\n",
       "      <td>AFG</td>\n",
       "      <td>35.253</td>\n",
       "      <td>5.9</td>\n",
       "      <td>Low income</td>\n",
       "    </tr>\n",
       "  </tbody>\n",
       "</table>\n",
       "</div>"
      ],
      "text/plain": [
       "  Country_Name Country_Code  Birth_Rate  Internet_Users Income_Group\n",
       "0        Aruba          ABW      10.244            78.9  High income\n",
       "1  Afghanistan          AFG      35.253             5.9   Low income"
      ]
     },
     "execution_count": 38,
     "metadata": {},
     "output_type": "execute_result"
    }
   ],
   "source": [
    "# Indexing just the rows\n",
    "data.iloc[0:2].head()"
   ]
  },
  {
   "cell_type": "markdown",
   "id": "05ba64b3-cc93-4428-b0b3-794b3f8725b7",
   "metadata": {},
   "source": [
    "<br><br><br>"
   ]
  },
  {
   "cell_type": "markdown",
   "id": "4e5ea3cb-ea3b-4840-bbb1-e4c465847455",
   "metadata": {},
   "source": [
    "## Exploratory Data Analysis"
   ]
  },
  {
   "cell_type": "code",
   "execution_count": 39,
   "id": "8c00e3d5-946b-45cc-9317-c2c713fb7f27",
   "metadata": {},
   "outputs": [
    {
     "data": {
      "text/plain": [
       "Index(['Country_Name', 'Country_Code', 'Birth_Rate', 'Internet_Users',\n",
       "       'Income_Group'],\n",
       "      dtype='object')"
      ]
     },
     "execution_count": 39,
     "metadata": {},
     "output_type": "execute_result"
    }
   ],
   "source": [
    "data.columns"
   ]
  },
  {
   "cell_type": "code",
   "execution_count": 40,
   "id": "e0407b01-60c6-4a56-9e46-2e242933994a",
   "metadata": {},
   "outputs": [
    {
     "data": {
      "text/html": [
       "<div>\n",
       "<style scoped>\n",
       "    .dataframe tbody tr th:only-of-type {\n",
       "        vertical-align: middle;\n",
       "    }\n",
       "\n",
       "    .dataframe tbody tr th {\n",
       "        vertical-align: top;\n",
       "    }\n",
       "\n",
       "    .dataframe thead th {\n",
       "        text-align: right;\n",
       "    }\n",
       "</style>\n",
       "<table border=\"1\" class=\"dataframe\">\n",
       "  <thead>\n",
       "    <tr style=\"text-align: right;\">\n",
       "      <th></th>\n",
       "      <th>Country_Name</th>\n",
       "      <th>Country_Code</th>\n",
       "      <th>Birth_Rate</th>\n",
       "      <th>Internet_Users</th>\n",
       "      <th>Income_Group</th>\n",
       "    </tr>\n",
       "  </thead>\n",
       "  <tbody>\n",
       "    <tr>\n",
       "      <th>0</th>\n",
       "      <td>Aruba</td>\n",
       "      <td>ABW</td>\n",
       "      <td>10.244</td>\n",
       "      <td>78.9</td>\n",
       "      <td>High income</td>\n",
       "    </tr>\n",
       "    <tr>\n",
       "      <th>1</th>\n",
       "      <td>Afghanistan</td>\n",
       "      <td>AFG</td>\n",
       "      <td>35.253</td>\n",
       "      <td>5.9</td>\n",
       "      <td>Low income</td>\n",
       "    </tr>\n",
       "    <tr>\n",
       "      <th>2</th>\n",
       "      <td>Angola</td>\n",
       "      <td>AGO</td>\n",
       "      <td>45.985</td>\n",
       "      <td>19.1</td>\n",
       "      <td>Upper middle income</td>\n",
       "    </tr>\n",
       "    <tr>\n",
       "      <th>3</th>\n",
       "      <td>Albania</td>\n",
       "      <td>ALB</td>\n",
       "      <td>12.877</td>\n",
       "      <td>57.2</td>\n",
       "      <td>Upper middle income</td>\n",
       "    </tr>\n",
       "    <tr>\n",
       "      <th>4</th>\n",
       "      <td>United Arab Emirates</td>\n",
       "      <td>ARE</td>\n",
       "      <td>12.000</td>\n",
       "      <td>88.0</td>\n",
       "      <td>High income</td>\n",
       "    </tr>\n",
       "  </tbody>\n",
       "</table>\n",
       "</div>"
      ],
      "text/plain": [
       "           Country_Name Country_Code  Birth_Rate  Internet_Users  \\\n",
       "0                 Aruba          ABW      10.244            78.9   \n",
       "1           Afghanistan          AFG      35.253             5.9   \n",
       "2                Angola          AGO      45.985            19.1   \n",
       "3               Albania          ALB      12.877            57.2   \n",
       "4  United Arab Emirates          ARE      12.000            88.0   \n",
       "\n",
       "          Income_Group  \n",
       "0          High income  \n",
       "1           Low income  \n",
       "2  Upper middle income  \n",
       "3  Upper middle income  \n",
       "4          High income  "
      ]
     },
     "execution_count": 40,
     "metadata": {},
     "output_type": "execute_result"
    }
   ],
   "source": [
    "data.head()"
   ]
  },
  {
   "cell_type": "code",
   "execution_count": 41,
   "id": "f29cc568-5045-4713-873c-07b24d3dc099",
   "metadata": {},
   "outputs": [
    {
     "data": {
      "text/html": [
       "<div>\n",
       "<style scoped>\n",
       "    .dataframe tbody tr th:only-of-type {\n",
       "        vertical-align: middle;\n",
       "    }\n",
       "\n",
       "    .dataframe tbody tr th {\n",
       "        vertical-align: top;\n",
       "    }\n",
       "\n",
       "    .dataframe thead th {\n",
       "        text-align: right;\n",
       "    }\n",
       "</style>\n",
       "<table border=\"1\" class=\"dataframe\">\n",
       "  <thead>\n",
       "    <tr style=\"text-align: right;\">\n",
       "      <th></th>\n",
       "      <th>Country_Name</th>\n",
       "      <th>Country_Code</th>\n",
       "      <th>Birth_Rate</th>\n",
       "      <th>Internet_Users</th>\n",
       "      <th>Income_Group</th>\n",
       "    </tr>\n",
       "  </thead>\n",
       "  <tbody>\n",
       "    <tr>\n",
       "      <th>190</th>\n",
       "      <td>Yemen, Rep.</td>\n",
       "      <td>YEM</td>\n",
       "      <td>32.947</td>\n",
       "      <td>20.0</td>\n",
       "      <td>Lower middle income</td>\n",
       "    </tr>\n",
       "    <tr>\n",
       "      <th>191</th>\n",
       "      <td>South Africa</td>\n",
       "      <td>ZAF</td>\n",
       "      <td>20.850</td>\n",
       "      <td>46.5</td>\n",
       "      <td>Upper middle income</td>\n",
       "    </tr>\n",
       "    <tr>\n",
       "      <th>192</th>\n",
       "      <td>Congo, Dem. Rep.</td>\n",
       "      <td>COD</td>\n",
       "      <td>42.394</td>\n",
       "      <td>2.2</td>\n",
       "      <td>Low income</td>\n",
       "    </tr>\n",
       "    <tr>\n",
       "      <th>193</th>\n",
       "      <td>Zambia</td>\n",
       "      <td>ZMB</td>\n",
       "      <td>40.471</td>\n",
       "      <td>15.4</td>\n",
       "      <td>Lower middle income</td>\n",
       "    </tr>\n",
       "    <tr>\n",
       "      <th>194</th>\n",
       "      <td>Zimbabwe</td>\n",
       "      <td>ZWE</td>\n",
       "      <td>35.715</td>\n",
       "      <td>18.5</td>\n",
       "      <td>Low income</td>\n",
       "    </tr>\n",
       "  </tbody>\n",
       "</table>\n",
       "</div>"
      ],
      "text/plain": [
       "         Country_Name Country_Code  Birth_Rate  Internet_Users  \\\n",
       "190       Yemen, Rep.          YEM      32.947            20.0   \n",
       "191      South Africa          ZAF      20.850            46.5   \n",
       "192  Congo, Dem. Rep.          COD      42.394             2.2   \n",
       "193            Zambia          ZMB      40.471            15.4   \n",
       "194          Zimbabwe          ZWE      35.715            18.5   \n",
       "\n",
       "            Income_Group  \n",
       "190  Lower middle income  \n",
       "191  Upper middle income  \n",
       "192           Low income  \n",
       "193  Lower middle income  \n",
       "194           Low income  "
      ]
     },
     "execution_count": 41,
     "metadata": {},
     "output_type": "execute_result"
    }
   ],
   "source": [
    "data.tail()"
   ]
  },
  {
   "cell_type": "code",
   "execution_count": 42,
   "id": "d1c94ea9-c720-4c19-acaa-52abb775d29e",
   "metadata": {},
   "outputs": [
    {
     "data": {
      "text/plain": [
       "21.474830769230767"
      ]
     },
     "execution_count": 42,
     "metadata": {},
     "output_type": "execute_result"
    }
   ],
   "source": [
    "data[\"Birth_Rate\"].mean()"
   ]
  },
  {
   "cell_type": "code",
   "execution_count": 44,
   "id": "e20d7038-ab93-4bc0-9a5a-5e5a03f86e1d",
   "metadata": {},
   "outputs": [
    {
     "name": "stdout",
     "output_type": "stream",
     "text": [
      "<class 'pandas.core.frame.DataFrame'>\n",
      "RangeIndex: 195 entries, 0 to 194\n",
      "Data columns (total 5 columns):\n",
      " #   Column          Non-Null Count  Dtype  \n",
      "---  ------          --------------  -----  \n",
      " 0   Country_Name    195 non-null    object \n",
      " 1   Country_Code    195 non-null    object \n",
      " 2   Birth_Rate      195 non-null    float64\n",
      " 3   Internet_Users  195 non-null    float64\n",
      " 4   Income_Group    195 non-null    object \n",
      "dtypes: float64(2), object(3)\n",
      "memory usage: 7.7+ KB\n"
     ]
    }
   ],
   "source": [
    "data.info()\n"
   ]
  },
  {
   "cell_type": "code",
   "execution_count": 46,
   "id": "bf043950-f070-4c22-a427-8b20f3e0ad7d",
   "metadata": {},
   "outputs": [
    {
     "data": {
      "text/plain": [
       "count    195.000000\n",
       "mean      21.474831\n",
       "std       10.600842\n",
       "min        7.900000\n",
       "25%       12.120500\n",
       "50%       19.680000\n",
       "75%       29.759500\n",
       "max       49.661000\n",
       "Name: Birth_Rate, dtype: float64"
      ]
     },
     "execution_count": 46,
     "metadata": {},
     "output_type": "execute_result"
    }
   ],
   "source": [
    "data[\"Birth_Rate\"].describe()"
   ]
  },
  {
   "cell_type": "code",
   "execution_count": 47,
   "id": "f8375014-e242-45d2-9066-db218373d0a7",
   "metadata": {},
   "outputs": [
    {
     "data": {
      "text/html": [
       "<div>\n",
       "<style scoped>\n",
       "    .dataframe tbody tr th:only-of-type {\n",
       "        vertical-align: middle;\n",
       "    }\n",
       "\n",
       "    .dataframe tbody tr th {\n",
       "        vertical-align: top;\n",
       "    }\n",
       "\n",
       "    .dataframe thead th {\n",
       "        text-align: right;\n",
       "    }\n",
       "</style>\n",
       "<table border=\"1\" class=\"dataframe\">\n",
       "  <thead>\n",
       "    <tr style=\"text-align: right;\">\n",
       "      <th></th>\n",
       "      <th>Birth_Rate</th>\n",
       "      <th>Internet_Users</th>\n",
       "    </tr>\n",
       "  </thead>\n",
       "  <tbody>\n",
       "    <tr>\n",
       "      <th>count</th>\n",
       "      <td>195.000000</td>\n",
       "      <td>195.000000</td>\n",
       "    </tr>\n",
       "    <tr>\n",
       "      <th>mean</th>\n",
       "      <td>21.474831</td>\n",
       "      <td>42.076471</td>\n",
       "    </tr>\n",
       "    <tr>\n",
       "      <th>std</th>\n",
       "      <td>10.600842</td>\n",
       "      <td>29.030788</td>\n",
       "    </tr>\n",
       "    <tr>\n",
       "      <th>min</th>\n",
       "      <td>7.900000</td>\n",
       "      <td>0.900000</td>\n",
       "    </tr>\n",
       "    <tr>\n",
       "      <th>25%</th>\n",
       "      <td>12.120500</td>\n",
       "      <td>14.520000</td>\n",
       "    </tr>\n",
       "    <tr>\n",
       "      <th>50%</th>\n",
       "      <td>19.680000</td>\n",
       "      <td>41.000000</td>\n",
       "    </tr>\n",
       "    <tr>\n",
       "      <th>75%</th>\n",
       "      <td>29.759500</td>\n",
       "      <td>66.225000</td>\n",
       "    </tr>\n",
       "    <tr>\n",
       "      <th>max</th>\n",
       "      <td>49.661000</td>\n",
       "      <td>96.546800</td>\n",
       "    </tr>\n",
       "  </tbody>\n",
       "</table>\n",
       "</div>"
      ],
      "text/plain": [
       "       Birth_Rate  Internet_Users\n",
       "count  195.000000      195.000000\n",
       "mean    21.474831       42.076471\n",
       "std     10.600842       29.030788\n",
       "min      7.900000        0.900000\n",
       "25%     12.120500       14.520000\n",
       "50%     19.680000       41.000000\n",
       "75%     29.759500       66.225000\n",
       "max     49.661000       96.546800"
      ]
     },
     "execution_count": 47,
     "metadata": {},
     "output_type": "execute_result"
    }
   ],
   "source": [
    "data.describe()"
   ]
  },
  {
   "cell_type": "code",
   "execution_count": 51,
   "id": "5820938c-3817-4a52-b4ab-fc87416c35fe",
   "metadata": {},
   "outputs": [
    {
     "data": {
      "text/plain": [
       "array(['High income', 'Low income', 'Upper middle income',\n",
       "       'Lower middle income'], dtype=object)"
      ]
     },
     "execution_count": 51,
     "metadata": {},
     "output_type": "execute_result"
    }
   ],
   "source": [
    "data[\"Income_Group\"].unique()"
   ]
  },
  {
   "cell_type": "code",
   "execution_count": 52,
   "id": "d4744a4e-d855-4dee-8e6f-b3ce7e9a3a28",
   "metadata": {},
   "outputs": [
    {
     "data": {
      "text/plain": [
       "Country_Name      195\n",
       "Country_Code      195\n",
       "Birth_Rate        177\n",
       "Internet_Users    181\n",
       "Income_Group        4\n",
       "dtype: int64"
      ]
     },
     "execution_count": 52,
     "metadata": {},
     "output_type": "execute_result"
    }
   ],
   "source": [
    "data.nunique()"
   ]
  },
  {
   "cell_type": "code",
   "execution_count": 55,
   "id": "6a3bc12c-aaf4-496c-a1cf-1640a7572dc3",
   "metadata": {},
   "outputs": [
    {
     "data": {
      "text/plain": [
       "Country_Name  Country_Code  Birth_Rate  Internet_Users  Income_Group\n",
       "False         False         False       False           False           195\n",
       "Name: count, dtype: int64"
      ]
     },
     "execution_count": 55,
     "metadata": {},
     "output_type": "execute_result"
    }
   ],
   "source": [
    "data.isna().value_counts()"
   ]
  },
  {
   "cell_type": "code",
   "execution_count": 57,
   "id": "963a4947-adaf-457e-9f24-fbb9c2793bf4",
   "metadata": {},
   "outputs": [
    {
     "data": {
      "text/plain": [
       "Country_Name      0\n",
       "Country_Code      0\n",
       "Birth_Rate        0\n",
       "Internet_Users    0\n",
       "Income_Group      0\n",
       "dtype: int64"
      ]
     },
     "execution_count": 57,
     "metadata": {},
     "output_type": "execute_result"
    }
   ],
   "source": [
    "data.isnull().sum()"
   ]
  },
  {
   "cell_type": "code",
   "execution_count": 62,
   "id": "b7f827ce-8e4f-4667-a126-7e384c35d1dc",
   "metadata": {},
   "outputs": [
    {
     "data": {
      "text/html": [
       "<div>\n",
       "<style scoped>\n",
       "    .dataframe tbody tr th:only-of-type {\n",
       "        vertical-align: middle;\n",
       "    }\n",
       "\n",
       "    .dataframe tbody tr th {\n",
       "        vertical-align: top;\n",
       "    }\n",
       "\n",
       "    .dataframe thead th {\n",
       "        text-align: right;\n",
       "    }\n",
       "</style>\n",
       "<table border=\"1\" class=\"dataframe\">\n",
       "  <thead>\n",
       "    <tr style=\"text-align: right;\">\n",
       "      <th></th>\n",
       "      <th>Birth_Rate</th>\n",
       "    </tr>\n",
       "    <tr>\n",
       "      <th>Income_Group</th>\n",
       "      <th></th>\n",
       "    </tr>\n",
       "  </thead>\n",
       "  <tbody>\n",
       "    <tr>\n",
       "      <th>High income</th>\n",
       "      <td>12.767701</td>\n",
       "    </tr>\n",
       "    <tr>\n",
       "      <th>Low income</th>\n",
       "      <td>37.238267</td>\n",
       "    </tr>\n",
       "    <tr>\n",
       "      <th>Lower middle income</th>\n",
       "      <td>26.309140</td>\n",
       "    </tr>\n",
       "    <tr>\n",
       "      <th>Upper middle income</th>\n",
       "      <td>18.740646</td>\n",
       "    </tr>\n",
       "  </tbody>\n",
       "</table>\n",
       "</div>"
      ],
      "text/plain": [
       "                     Birth_Rate\n",
       "Income_Group                   \n",
       "High income           12.767701\n",
       "Low income            37.238267\n",
       "Lower middle income   26.309140\n",
       "Upper middle income   18.740646"
      ]
     },
     "execution_count": 62,
     "metadata": {},
     "output_type": "execute_result"
    }
   ],
   "source": [
    "group_by = data[[\"Birth_Rate\", \"Income_Group\"]].groupby(by=\"Income_Group\")\n",
    "group_by.mean()"
   ]
  },
  {
   "cell_type": "code",
   "execution_count": 66,
   "id": "385ae482-645a-47e8-a841-bf995134b685",
   "metadata": {},
   "outputs": [
    {
     "data": {
      "text/plain": [
       "<Axes: >"
      ]
     },
     "execution_count": 66,
     "metadata": {},
     "output_type": "execute_result"
    },
    {
     "data": {
      "image/png": "[encoded data removed]",
      "text/plain": [
       "<Figure size 640x480 with 2 Axes>"
      ]
     },
     "metadata": {},
     "output_type": "display_data"
    }
   ],
   "source": [
    "data_corr = data[[\"Birth_Rate\", \"Internet_Users\"]].corr()\n",
    "sns.heatmap(data=data_corr, annot=True)"
   ]
  },
  {
   "cell_type": "code",
   "execution_count": 69,
   "id": "134c6efb-65e8-4259-ac1a-8cf871eac789",
   "metadata": {},
   "outputs": [
    {
     "data": {
      "text/plain": [
       "<seaborn.axisgrid.FacetGrid at 0x1cb5e8f4110>"
      ]
     },
     "execution_count": 69,
     "metadata": {},
     "output_type": "execute_result"
    },
    {
     "data": {
      "image/png": "[encoded data removed]",
      "text/plain": [
       "<Figure size 500x500 with 1 Axes>"
      ]
     },
     "metadata": {},
     "output_type": "display_data"
    }
   ],
   "source": [
    "sns.lmplot(data=data, x=\"Birth_Rate\", y=\"Internet_Users\")"
   ]
  },
  {
   "cell_type": "code",
   "execution_count": 70,
   "id": "f6ddd441-5fb8-43e9-acf9-219eb5b2ab89",
   "metadata": {},
   "outputs": [
    {
     "data": {
      "text/plain": [
       "Income_Group\n",
       "High income            67\n",
       "Lower middle income    50\n",
       "Upper middle income    48\n",
       "Low income             30\n",
       "Name: count, dtype: int64"
      ]
     },
     "execution_count": 70,
     "metadata": {},
     "output_type": "execute_result"
    }
   ],
   "source": [
    "data[\"Income_Group\"].value_counts()"
   ]
  },
  {
   "cell_type": "code",
   "execution_count": 75,
   "id": "5d3e4362-87d9-4a66-a75e-bba50bfccd81",
   "metadata": {},
   "outputs": [
    {
     "data": {
      "text/plain": [
       "1             Afghanistan\n",
       "2                  Angola\n",
       "3                 Albania\n",
       "4    United Arab Emirates\n",
       "5               Argentina\n",
       "Name: Country_Name, dtype: object"
      ]
     },
     "execution_count": 75,
     "metadata": {},
     "output_type": "execute_result"
    }
   ],
   "source": [
    "data.loc[1:5, \"Country_Name\"]"
   ]
  },
  {
   "cell_type": "code",
   "execution_count": 76,
   "id": "55db41c9-153e-4053-8cd7-a2d613fa2688",
   "metadata": {},
   "outputs": [
    {
     "data": {
      "text/html": [
       "<div>\n",
       "<style scoped>\n",
       "    .dataframe tbody tr th:only-of-type {\n",
       "        vertical-align: middle;\n",
       "    }\n",
       "\n",
       "    .dataframe tbody tr th {\n",
       "        vertical-align: top;\n",
       "    }\n",
       "\n",
       "    .dataframe thead th {\n",
       "        text-align: right;\n",
       "    }\n",
       "</style>\n",
       "<table border=\"1\" class=\"dataframe\">\n",
       "  <thead>\n",
       "    <tr style=\"text-align: right;\">\n",
       "      <th></th>\n",
       "      <th>Country_Name</th>\n",
       "      <th>Country_Code</th>\n",
       "      <th>Birth_Rate</th>\n",
       "      <th>Internet_Users</th>\n",
       "      <th>Income_Group</th>\n",
       "    </tr>\n",
       "  </thead>\n",
       "  <tbody>\n",
       "    <tr>\n",
       "      <th>0</th>\n",
       "      <td>Aruba</td>\n",
       "      <td>ABW</td>\n",
       "      <td>10.244</td>\n",
       "      <td>78.9</td>\n",
       "      <td>High income</td>\n",
       "    </tr>\n",
       "    <tr>\n",
       "      <th>1</th>\n",
       "      <td>Afghanistan</td>\n",
       "      <td>AFG</td>\n",
       "      <td>35.253</td>\n",
       "      <td>5.9</td>\n",
       "      <td>Low income</td>\n",
       "    </tr>\n",
       "    <tr>\n",
       "      <th>2</th>\n",
       "      <td>Angola</td>\n",
       "      <td>AGO</td>\n",
       "      <td>45.985</td>\n",
       "      <td>19.1</td>\n",
       "      <td>Upper middle income</td>\n",
       "    </tr>\n",
       "    <tr>\n",
       "      <th>3</th>\n",
       "      <td>Albania</td>\n",
       "      <td>ALB</td>\n",
       "      <td>12.877</td>\n",
       "      <td>57.2</td>\n",
       "      <td>Upper middle income</td>\n",
       "    </tr>\n",
       "    <tr>\n",
       "      <th>4</th>\n",
       "      <td>United Arab Emirates</td>\n",
       "      <td>ARE</td>\n",
       "      <td>12.000</td>\n",
       "      <td>88.0</td>\n",
       "      <td>High income</td>\n",
       "    </tr>\n",
       "  </tbody>\n",
       "</table>\n",
       "</div>"
      ],
      "text/plain": [
       "           Country_Name Country_Code  Birth_Rate  Internet_Users  \\\n",
       "0                 Aruba          ABW      10.244            78.9   \n",
       "1           Afghanistan          AFG      35.253             5.9   \n",
       "2                Angola          AGO      45.985            19.1   \n",
       "3               Albania          ALB      12.877            57.2   \n",
       "4  United Arab Emirates          ARE      12.000            88.0   \n",
       "\n",
       "          Income_Group  \n",
       "0          High income  \n",
       "1           Low income  \n",
       "2  Upper middle income  \n",
       "3  Upper middle income  \n",
       "4          High income  "
      ]
     },
     "execution_count": 76,
     "metadata": {},
     "output_type": "execute_result"
    }
   ],
   "source": [
    "data.head()"
   ]
  },
  {
   "cell_type": "code",
   "execution_count": 77,
   "id": "4bf0bda0-c3c0-479f-829e-6b7b6247d465",
   "metadata": {},
   "outputs": [
    {
     "data": {
      "text/plain": [
       "'Angola'"
      ]
     },
     "execution_count": 77,
     "metadata": {},
     "output_type": "execute_result"
    }
   ],
   "source": [
    "data.at[2, \"Country_Name\"]"
   ]
  },
  {
   "cell_type": "markdown",
   "id": "3dbdd537-9d3b-4fbf-8f74-282e823c3c1b",
   "metadata": {},
   "source": [
    "<br><br><br>"
   ]
  },
  {
   "cell_type": "markdown",
   "id": "23576d66-f6a5-4b24-beda-09b29a69eb96",
   "metadata": {},
   "source": [
    "## Data Manipulation:"
   ]
  },
  {
   "cell_type": "code",
   "execution_count": 78,
   "id": "832e9aa9-667f-4120-a576-9deae4b2f1d5",
   "metadata": {},
   "outputs": [
    {
     "data": {
      "text/plain": [
       "Index(['Country_Name', 'Country_Code', 'Birth_Rate', 'Internet_Users',\n",
       "       'Income_Group'],\n",
       "      dtype='object')"
      ]
     },
     "execution_count": 78,
     "metadata": {},
     "output_type": "execute_result"
    }
   ],
   "source": [
    "data.columns"
   ]
  },
  {
   "cell_type": "code",
   "execution_count": 79,
   "id": "4539dac3-e7e3-4bca-8042-5d4ccfb1c95a",
   "metadata": {},
   "outputs": [
    {
     "data": {
      "text/plain": [
       "(195, 5)"
      ]
     },
     "execution_count": 79,
     "metadata": {},
     "output_type": "execute_result"
    }
   ],
   "source": [
    "data.shape"
   ]
  },
  {
   "cell_type": "code",
   "execution_count": 86,
   "id": "bc69f011-4f15-4662-a0a5-6361d591c5af",
   "metadata": {},
   "outputs": [
    {
     "data": {
      "text/html": [
       "<div>\n",
       "<style scoped>\n",
       "    .dataframe tbody tr th:only-of-type {\n",
       "        vertical-align: middle;\n",
       "    }\n",
       "\n",
       "    .dataframe tbody tr th {\n",
       "        vertical-align: top;\n",
       "    }\n",
       "\n",
       "    .dataframe thead th {\n",
       "        text-align: right;\n",
       "    }\n",
       "</style>\n",
       "<table border=\"1\" class=\"dataframe\">\n",
       "  <thead>\n",
       "    <tr style=\"text-align: right;\">\n",
       "      <th></th>\n",
       "      <th>Country_Name</th>\n",
       "      <th>Country_Code</th>\n",
       "      <th>Birth_Rate</th>\n",
       "      <th>Internet_Users</th>\n",
       "      <th>Income_Group</th>\n",
       "      <th>Squenctial</th>\n",
       "    </tr>\n",
       "  </thead>\n",
       "  <tbody>\n",
       "    <tr>\n",
       "      <th>0</th>\n",
       "      <td>Aruba</td>\n",
       "      <td>ABW</td>\n",
       "      <td>10.244</td>\n",
       "      <td>78.9</td>\n",
       "      <td>High income</td>\n",
       "      <td>1</td>\n",
       "    </tr>\n",
       "    <tr>\n",
       "      <th>1</th>\n",
       "      <td>Afghanistan</td>\n",
       "      <td>AFG</td>\n",
       "      <td>35.253</td>\n",
       "      <td>5.9</td>\n",
       "      <td>Low income</td>\n",
       "      <td>2</td>\n",
       "    </tr>\n",
       "    <tr>\n",
       "      <th>2</th>\n",
       "      <td>Angola</td>\n",
       "      <td>AGO</td>\n",
       "      <td>45.985</td>\n",
       "      <td>19.1</td>\n",
       "      <td>Upper middle income</td>\n",
       "      <td>3</td>\n",
       "    </tr>\n",
       "    <tr>\n",
       "      <th>3</th>\n",
       "      <td>Albania</td>\n",
       "      <td>ALB</td>\n",
       "      <td>12.877</td>\n",
       "      <td>57.2</td>\n",
       "      <td>Upper middle income</td>\n",
       "      <td>4</td>\n",
       "    </tr>\n",
       "    <tr>\n",
       "      <th>4</th>\n",
       "      <td>United Arab Emirates</td>\n",
       "      <td>ARE</td>\n",
       "      <td>12.000</td>\n",
       "      <td>88.0</td>\n",
       "      <td>High income</td>\n",
       "      <td>5</td>\n",
       "    </tr>\n",
       "  </tbody>\n",
       "</table>\n",
       "</div>"
      ],
      "text/plain": [
       "           Country_Name Country_Code  Birth_Rate  Internet_Users  \\\n",
       "0                 Aruba          ABW      10.244            78.9   \n",
       "1           Afghanistan          AFG      35.253             5.9   \n",
       "2                Angola          AGO      45.985            19.1   \n",
       "3               Albania          ALB      12.877            57.2   \n",
       "4  United Arab Emirates          ARE      12.000            88.0   \n",
       "\n",
       "          Income_Group  Squenctial  \n",
       "0          High income           1  \n",
       "1           Low income           2  \n",
       "2  Upper middle income           3  \n",
       "3  Upper middle income           4  \n",
       "4          High income           5  "
      ]
     },
     "execution_count": 86,
     "metadata": {},
     "output_type": "execute_result"
    }
   ],
   "source": [
    "data[\"Squenctial\"] = np.arange(1, 196)\n",
    "data.head()"
   ]
  },
  {
   "cell_type": "code",
   "execution_count": 87,
   "id": "50d766f5-536c-42ae-993c-877506fbaa14",
   "metadata": {},
   "outputs": [
    {
     "data": {
      "text/html": [
       "<div>\n",
       "<style scoped>\n",
       "    .dataframe tbody tr th:only-of-type {\n",
       "        vertical-align: middle;\n",
       "    }\n",
       "\n",
       "    .dataframe tbody tr th {\n",
       "        vertical-align: top;\n",
       "    }\n",
       "\n",
       "    .dataframe thead th {\n",
       "        text-align: right;\n",
       "    }\n",
       "</style>\n",
       "<table border=\"1\" class=\"dataframe\">\n",
       "  <thead>\n",
       "    <tr style=\"text-align: right;\">\n",
       "      <th></th>\n",
       "      <th>Country_Name</th>\n",
       "      <th>Country_Code</th>\n",
       "      <th>Birth_Rate</th>\n",
       "      <th>Internet_Users</th>\n",
       "      <th>Income_Group</th>\n",
       "    </tr>\n",
       "  </thead>\n",
       "  <tbody>\n",
       "    <tr>\n",
       "      <th>0</th>\n",
       "      <td>Aruba</td>\n",
       "      <td>ABW</td>\n",
       "      <td>10.244</td>\n",
       "      <td>78.9</td>\n",
       "      <td>High income</td>\n",
       "    </tr>\n",
       "    <tr>\n",
       "      <th>1</th>\n",
       "      <td>Afghanistan</td>\n",
       "      <td>AFG</td>\n",
       "      <td>35.253</td>\n",
       "      <td>5.9</td>\n",
       "      <td>Low income</td>\n",
       "    </tr>\n",
       "    <tr>\n",
       "      <th>2</th>\n",
       "      <td>Angola</td>\n",
       "      <td>AGO</td>\n",
       "      <td>45.985</td>\n",
       "      <td>19.1</td>\n",
       "      <td>Upper middle income</td>\n",
       "    </tr>\n",
       "    <tr>\n",
       "      <th>3</th>\n",
       "      <td>Albania</td>\n",
       "      <td>ALB</td>\n",
       "      <td>12.877</td>\n",
       "      <td>57.2</td>\n",
       "      <td>Upper middle income</td>\n",
       "    </tr>\n",
       "    <tr>\n",
       "      <th>4</th>\n",
       "      <td>United Arab Emirates</td>\n",
       "      <td>ARE</td>\n",
       "      <td>12.000</td>\n",
       "      <td>88.0</td>\n",
       "      <td>High income</td>\n",
       "    </tr>\n",
       "  </tbody>\n",
       "</table>\n",
       "</div>"
      ],
      "text/plain": [
       "           Country_Name Country_Code  Birth_Rate  Internet_Users  \\\n",
       "0                 Aruba          ABW      10.244            78.9   \n",
       "1           Afghanistan          AFG      35.253             5.9   \n",
       "2                Angola          AGO      45.985            19.1   \n",
       "3               Albania          ALB      12.877            57.2   \n",
       "4  United Arab Emirates          ARE      12.000            88.0   \n",
       "\n",
       "          Income_Group  \n",
       "0          High income  \n",
       "1           Low income  \n",
       "2  Upper middle income  \n",
       "3  Upper middle income  \n",
       "4          High income  "
      ]
     },
     "execution_count": 87,
     "metadata": {},
     "output_type": "execute_result"
    }
   ],
   "source": [
    "data.drop(\"Squenctial\", axis=1, inplace=True)\n",
    "data.head()"
   ]
  },
  {
   "cell_type": "code",
   "execution_count": 89,
   "id": "c14284aa-c7a2-4320-b840-9db0e23813c1",
   "metadata": {},
   "outputs": [
    {
     "data": {
      "text/html": [
       "<div>\n",
       "<style scoped>\n",
       "    .dataframe tbody tr th:only-of-type {\n",
       "        vertical-align: middle;\n",
       "    }\n",
       "\n",
       "    .dataframe tbody tr th {\n",
       "        vertical-align: top;\n",
       "    }\n",
       "\n",
       "    .dataframe thead th {\n",
       "        text-align: right;\n",
       "    }\n",
       "</style>\n",
       "<table border=\"1\" class=\"dataframe\">\n",
       "  <thead>\n",
       "    <tr style=\"text-align: right;\">\n",
       "      <th></th>\n",
       "      <th>Country_Name</th>\n",
       "      <th>Country_Code</th>\n",
       "      <th>Birth_Rate</th>\n",
       "      <th>Internet_Users</th>\n",
       "      <th>Income_Group</th>\n",
       "    </tr>\n",
       "  </thead>\n",
       "  <tbody>\n",
       "    <tr>\n",
       "      <th>191</th>\n",
       "      <td>South Africa</td>\n",
       "      <td>ZAF</td>\n",
       "      <td>20.850</td>\n",
       "      <td>46.5</td>\n",
       "      <td>Upper middle income</td>\n",
       "    </tr>\n",
       "    <tr>\n",
       "      <th>192</th>\n",
       "      <td>Congo, Dem. Rep.</td>\n",
       "      <td>COD</td>\n",
       "      <td>42.394</td>\n",
       "      <td>2.2</td>\n",
       "      <td>Low income</td>\n",
       "    </tr>\n",
       "    <tr>\n",
       "      <th>193</th>\n",
       "      <td>Zambia</td>\n",
       "      <td>ZMB</td>\n",
       "      <td>40.471</td>\n",
       "      <td>15.4</td>\n",
       "      <td>Lower middle income</td>\n",
       "    </tr>\n",
       "    <tr>\n",
       "      <th>194</th>\n",
       "      <td>Zimbabwe</td>\n",
       "      <td>ZWE</td>\n",
       "      <td>35.715</td>\n",
       "      <td>18.5</td>\n",
       "      <td>Low income</td>\n",
       "    </tr>\n",
       "    <tr>\n",
       "      <th>200</th>\n",
       "      <td>Nepal</td>\n",
       "      <td>NPL</td>\n",
       "      <td>11.110</td>\n",
       "      <td>77.9</td>\n",
       "      <td>Lower middle income</td>\n",
       "    </tr>\n",
       "  </tbody>\n",
       "</table>\n",
       "</div>"
      ],
      "text/plain": [
       "         Country_Name Country_Code  Birth_Rate  Internet_Users  \\\n",
       "191      South Africa          ZAF      20.850            46.5   \n",
       "192  Congo, Dem. Rep.          COD      42.394             2.2   \n",
       "193            Zambia          ZMB      40.471            15.4   \n",
       "194          Zimbabwe          ZWE      35.715            18.5   \n",
       "200             Nepal          NPL      11.110            77.9   \n",
       "\n",
       "            Income_Group  \n",
       "191  Upper middle income  \n",
       "192           Low income  \n",
       "193  Lower middle income  \n",
       "194           Low income  \n",
       "200  Lower middle income  "
      ]
     },
     "execution_count": 89,
     "metadata": {},
     "output_type": "execute_result"
    }
   ],
   "source": [
    "data.loc[200]=[\"Nepal\", \"NPL\", 11.11, 77.9, \"Lower middle income\"]\n",
    "data.tail()"
   ]
  },
  {
   "cell_type": "code",
   "execution_count": 90,
   "id": "9de6131c-3072-456c-9476-ddb1a904397f",
   "metadata": {},
   "outputs": [
    {
     "data": {
      "text/html": [
       "<div>\n",
       "<style scoped>\n",
       "    .dataframe tbody tr th:only-of-type {\n",
       "        vertical-align: middle;\n",
       "    }\n",
       "\n",
       "    .dataframe tbody tr th {\n",
       "        vertical-align: top;\n",
       "    }\n",
       "\n",
       "    .dataframe thead th {\n",
       "        text-align: right;\n",
       "    }\n",
       "</style>\n",
       "<table border=\"1\" class=\"dataframe\">\n",
       "  <thead>\n",
       "    <tr style=\"text-align: right;\">\n",
       "      <th></th>\n",
       "      <th>Country_Name</th>\n",
       "      <th>Country_Code</th>\n",
       "      <th>Birth_Rate</th>\n",
       "      <th>Internet_Users</th>\n",
       "      <th>Income_Group</th>\n",
       "    </tr>\n",
       "  </thead>\n",
       "  <tbody>\n",
       "    <tr>\n",
       "      <th>190</th>\n",
       "      <td>Yemen, Rep.</td>\n",
       "      <td>YEM</td>\n",
       "      <td>32.947</td>\n",
       "      <td>20.0</td>\n",
       "      <td>Lower middle income</td>\n",
       "    </tr>\n",
       "    <tr>\n",
       "      <th>191</th>\n",
       "      <td>South Africa</td>\n",
       "      <td>ZAF</td>\n",
       "      <td>20.850</td>\n",
       "      <td>46.5</td>\n",
       "      <td>Upper middle income</td>\n",
       "    </tr>\n",
       "    <tr>\n",
       "      <th>192</th>\n",
       "      <td>Congo, Dem. Rep.</td>\n",
       "      <td>COD</td>\n",
       "      <td>42.394</td>\n",
       "      <td>2.2</td>\n",
       "      <td>Low income</td>\n",
       "    </tr>\n",
       "    <tr>\n",
       "      <th>193</th>\n",
       "      <td>Zambia</td>\n",
       "      <td>ZMB</td>\n",
       "      <td>40.471</td>\n",
       "      <td>15.4</td>\n",
       "      <td>Lower middle income</td>\n",
       "    </tr>\n",
       "    <tr>\n",
       "      <th>194</th>\n",
       "      <td>Zimbabwe</td>\n",
       "      <td>ZWE</td>\n",
       "      <td>35.715</td>\n",
       "      <td>18.5</td>\n",
       "      <td>Low income</td>\n",
       "    </tr>\n",
       "  </tbody>\n",
       "</table>\n",
       "</div>"
      ],
      "text/plain": [
       "         Country_Name Country_Code  Birth_Rate  Internet_Users  \\\n",
       "190       Yemen, Rep.          YEM      32.947            20.0   \n",
       "191      South Africa          ZAF      20.850            46.5   \n",
       "192  Congo, Dem. Rep.          COD      42.394             2.2   \n",
       "193            Zambia          ZMB      40.471            15.4   \n",
       "194          Zimbabwe          ZWE      35.715            18.5   \n",
       "\n",
       "            Income_Group  \n",
       "190  Lower middle income  \n",
       "191  Upper middle income  \n",
       "192           Low income  \n",
       "193  Lower middle income  \n",
       "194           Low income  "
      ]
     },
     "execution_count": 90,
     "metadata": {},
     "output_type": "execute_result"
    }
   ],
   "source": [
    "data.drop(index=200, axis=0, inplace=True)\n",
    "data.tail()"
   ]
  },
  {
   "cell_type": "code",
   "execution_count": 92,
   "id": "9a86f651-9a35-4ba0-813d-e3b12ad5f4d0",
   "metadata": {},
   "outputs": [
    {
     "data": {
      "text/plain": [
       "(195, 5)"
      ]
     },
     "execution_count": 92,
     "metadata": {},
     "output_type": "execute_result"
    }
   ],
   "source": [
    "data.shape"
   ]
  },
  {
   "cell_type": "code",
   "execution_count": null,
   "id": "50d683b4-bbd6-4c01-8435-355563b50289",
   "metadata": {},
   "outputs": [],
   "source": []
  }
 ],
 "metadata": {
  "kernelspec": {
   "display_name": "Python 3 (ipykernel)",
   "language": "python",
   "name": "python3"
  },
  "language_info": {
   "codemirror_mode": {
    "name": "ipython",
    "version": 3
   },
   "file_extension": ".py",
   "mimetype": "text/x-python",
   "name": "python",
   "nbconvert_exporter": "python",
   "pygments_lexer": "ipython3",
   "version": "3.12.2"
  }
 },
 "nbformat": 4,
 "nbformat_minor": 5
}
