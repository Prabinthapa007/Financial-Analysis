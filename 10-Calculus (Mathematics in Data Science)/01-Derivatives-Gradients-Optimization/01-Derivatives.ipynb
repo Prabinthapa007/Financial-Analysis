{
 "cells": [
  {
   "cell_type": "markdown",
   "id": "c6d39f82-66a3-4111-9dcf-6f479ca166bf",
   "metadata": {},
   "source": [
    "# Differential Calculus\n",
    "\n",
    "Differential calculus is the study of rates at which quantities change. It is concerned with the study of slopes of curves, tangent lines, and the instantaneous rate of change of functions. This tutorial will cover the basic concepts and techniques of differential calculus.\n",
    "\n",
    "## Slope of a Line\n",
    "\n",
    "In the study of differential calculus, the slope of a straight line is an important concept. The slope of a straight line is defined as the ratio of the change in the y-coordinate to the change in the x-coordinate between any two points on the line.\n",
    "\n",
    "If we have two points on the line, (x1, y1) and (x2, y2), then the slope of the line can be calculated using the following formula:\n",
    "\n",
    "\\begin{equation}\n",
    "slope = \\frac{\\Delta y}{\\Delta x} = \\frac{y_2 - y_1}{x_2 - x_1}\n",
    "\\end{equation}\n",
    "\n",
    "This formula gives us the average rate of change of the y-coordinate with respect to the x-coordinate over the interval between the two points. In calculus, we use this concept of slope to study the behavior of functions and their derivatives. For example, the derivative of a function at a point represents the instantaneous rate of change of the function at that point, which can be thought of as the slope of the tangent line to the function at that point.\n",
    "\n",
    "## Differentiability of a Function\n",
    "\n",
    "A function is said to be differentiable at a point if it has a derivative at that point. Geometrically, this means that the graph of the function has a well-defined tangent line at that point.\n",
    "\n",
    "To determine if a function is differentiable at a point, we need to check if the limit of the difference quotient exists as the input approaches that point. The difference quotient is defined as the slope of the secant line between two points on the function, divided by the distance between those points. The limit of the difference quotient as the two points get closer and closer together is the derivative of the function at that point.\n",
    "\n",
    "Formally, a function f(x) is differentiable at a point x = a if the following limit exists:\n",
    "\n",
    "\\begin{equation}\n",
    "f'(a) = \\lim_{h \\to 0} \\frac{f(a+h) - f(a)}{h}\n",
    "\\end{equation}\n",
    "\n",
    "where h is the difference between a and the input x, and the limit is taken as h approaches zero. If this limit exists, then the function is said to be differentiable at the point x = a.\n",
    "\n",
    "If a function is differentiable at a point, it is also continuous at that point, but the converse is not necessarily true. A function may be continuous at a point without being differentiable at that point if the limit of the difference quotient does not exist or if it exists but is not equal to the slope of the tangent line.\n",
    "\n",
    "## Limit of a Function\n",
    "\n",
    "The limit of a function as the independent variable approaches a certain value is the value that the function approaches as the independent variable gets arbitrarily close to that value. Limits are used to define the derivative of a function."
   ]
  },
  {
   "cell_type": "code",
   "execution_count": 3,
   "id": "2dbea30b-97d3-467e-a4f6-a9e4de5be180",
   "metadata": {},
   "outputs": [
    {
     "name": "stdout",
     "output_type": "stream",
     "text": [
      "Collecting sympy\n",
      "  Downloading sympy-1.12.1-py3-none-any.whl.metadata (12 kB)\n",
      "Collecting mpmath<1.4.0,>=1.1.0 (from sympy)\n",
      "  Using cached mpmath-1.3.0-py3-none-any.whl.metadata (8.6 kB)\n",
      "Downloading sympy-1.12.1-py3-none-any.whl (5.7 MB)\n",
      "   ---------------------------------------- 0.0/5.7 MB ? eta -:--:--\n",
      "   ---------------------------------------- 0.0/5.7 MB ? eta -:--:--\n",
      "   ---------------------------------------- 0.0/5.7 MB ? eta -:--:--\n",
      "   ---------------------------------------- 0.0/5.7 MB 330.3 kB/s eta 0:00:18\n",
      "   ---------------------------------------- 0.1/5.7 MB 469.7 kB/s eta 0:00:13\n",
      "    --------------------------------------- 0.1/5.7 MB 525.1 kB/s eta 0:00:11\n",
      "    --------------------------------------- 0.1/5.7 MB 554.9 kB/s eta 0:00:11\n",
      "   - -------------------------------------- 0.2/5.7 MB 655.4 kB/s eta 0:00:09\n",
      "   - -------------------------------------- 0.2/5.7 MB 793.0 kB/s eta 0:00:07\n",
      "   -- ------------------------------------- 0.4/5.7 MB 1.0 MB/s eta 0:00:06\n",
      "   --- ------------------------------------ 0.5/5.7 MB 1.2 MB/s eta 0:00:05\n",
      "   --- ------------------------------------ 0.6/5.7 MB 1.3 MB/s eta 0:00:05\n",
      "   ---- ----------------------------------- 0.6/5.7 MB 1.4 MB/s eta 0:00:04\n",
      "   ----- ---------------------------------- 0.8/5.7 MB 1.5 MB/s eta 0:00:04\n",
      "   ------- -------------------------------- 1.1/5.7 MB 1.8 MB/s eta 0:00:03\n",
      "   -------- ------------------------------- 1.2/5.7 MB 1.9 MB/s eta 0:00:03\n",
      "   --------- ------------------------------ 1.4/5.7 MB 2.0 MB/s eta 0:00:03\n",
      "   --------- ------------------------------ 1.4/5.7 MB 1.9 MB/s eta 0:00:03\n",
      "   ---------- ----------------------------- 1.5/5.7 MB 2.0 MB/s eta 0:00:03\n",
      "   ----------- ---------------------------- 1.6/5.7 MB 2.0 MB/s eta 0:00:03\n",
      "   ------------- -------------------------- 1.9/5.7 MB 2.2 MB/s eta 0:00:02\n",
      "   ------------- -------------------------- 2.0/5.7 MB 2.2 MB/s eta 0:00:02\n",
      "   ------------- -------------------------- 2.0/5.7 MB 2.2 MB/s eta 0:00:02\n",
      "   -------------- ------------------------- 2.2/5.7 MB 2.1 MB/s eta 0:00:02\n",
      "   --------------- ------------------------ 2.3/5.7 MB 2.2 MB/s eta 0:00:02\n",
      "   ---------------- ----------------------- 2.4/5.7 MB 2.1 MB/s eta 0:00:02\n",
      "   ---------------- ----------------------- 2.4/5.7 MB 2.1 MB/s eta 0:00:02\n",
      "   ------------------ --------------------- 2.7/5.7 MB 2.3 MB/s eta 0:00:02\n",
      "   -------------------- ------------------- 2.9/5.7 MB 2.3 MB/s eta 0:00:02\n",
      "   --------------------- ------------------ 3.1/5.7 MB 2.4 MB/s eta 0:00:02\n",
      "   --------------------- ------------------ 3.2/5.7 MB 2.4 MB/s eta 0:00:02\n",
      "   ---------------------- ----------------- 3.2/5.7 MB 2.4 MB/s eta 0:00:02\n",
      "   ----------------------- ---------------- 3.4/5.7 MB 2.4 MB/s eta 0:00:01\n",
      "   ------------------------ --------------- 3.5/5.7 MB 2.4 MB/s eta 0:00:01\n",
      "   ------------------------- -------------- 3.7/5.7 MB 2.4 MB/s eta 0:00:01\n",
      "   ------------------------- -------------- 3.7/5.7 MB 2.4 MB/s eta 0:00:01\n",
      "   --------------------------- ------------ 3.9/5.7 MB 2.4 MB/s eta 0:00:01\n",
      "   --------------------------- ------------ 3.9/5.7 MB 2.4 MB/s eta 0:00:01\n",
      "   ----------------------------- ---------- 4.2/5.7 MB 2.4 MB/s eta 0:00:01\n",
      "   ----------------------------- ---------- 4.2/5.7 MB 2.4 MB/s eta 0:00:01\n",
      "   ------------------------------ --------- 4.3/5.7 MB 2.4 MB/s eta 0:00:01\n",
      "   ------------------------------ --------- 4.4/5.7 MB 2.4 MB/s eta 0:00:01\n",
      "   ------------------------------- -------- 4.5/5.7 MB 2.4 MB/s eta 0:00:01\n",
      "   -------------------------------- ------- 4.7/5.7 MB 2.4 MB/s eta 0:00:01\n",
      "   --------------------------------- ------ 4.8/5.7 MB 2.4 MB/s eta 0:00:01\n",
      "   ---------------------------------- ----- 4.9/5.7 MB 2.4 MB/s eta 0:00:01\n",
      "   ----------------------------------- ---- 5.1/5.7 MB 2.4 MB/s eta 0:00:01\n",
      "   ------------------------------------- -- 5.4/5.7 MB 2.5 MB/s eta 0:00:01\n",
      "   ------------------------------------- -- 5.4/5.7 MB 2.5 MB/s eta 0:00:01\n",
      "   ---------------------------------------  5.7/5.7 MB 2.5 MB/s eta 0:00:01\n",
      "   ---------------------------------------  5.7/5.7 MB 2.5 MB/s eta 0:00:01\n",
      "   ---------------------------------------  5.7/5.7 MB 2.5 MB/s eta 0:00:01\n",
      "   ---------------------------------------  5.7/5.7 MB 2.5 MB/s eta 0:00:01\n",
      "   ---------------------------------------  5.7/5.7 MB 2.5 MB/s eta 0:00:01\n",
      "   ---------------------------------------- 5.7/5.7 MB 2.3 MB/s eta 0:00:00\n",
      "Using cached mpmath-1.3.0-py3-none-any.whl (536 kB)\n",
      "Installing collected packages: mpmath, sympy\n",
      "Successfully installed mpmath-1.3.0 sympy-1.12.1\n"
     ]
    }
   ],
   "source": [
    "!pip install sympy"
   ]
  },
  {
   "cell_type": "code",
   "execution_count": 5,
   "id": "20d0e607-f116-425c-a20c-4278d644f130",
   "metadata": {},
   "outputs": [],
   "source": [
    "import sympy as sp"
   ]
  },
  {
   "cell_type": "code",
   "execution_count": 6,
   "id": "4d9d3bf1-c792-48e1-9a1e-33937089e81c",
   "metadata": {},
   "outputs": [
    {
     "name": "stdout",
     "output_type": "stream",
     "text": [
      "2\n"
     ]
    }
   ],
   "source": [
    "x = sp.symbols('x')\n",
    "f = (x**2-1)/(x-1)\n",
    "limit = sp.limit(f, x, 1)\n",
    "print(limit)"
   ]
  },
  {
   "cell_type": "markdown",
   "id": "f08253f0-9e5a-43c8-a46b-4f33a796a934",
   "metadata": {},
   "source": [
    "This code finds the limit of the function `(x^2 - 1)/(x - 1)` as `x` approaches `1`. The output is `2`."
   ]
  },
  {
   "cell_type": "code",
   "execution_count": 7,
   "id": "c27a5bd4-382c-4171-b486-8ba4e52eea83",
   "metadata": {},
   "outputs": [
    {
     "name": "stdout",
     "output_type": "stream",
     "text": [
      "-oo\n"
     ]
    }
   ],
   "source": [
    "x = sp.symbols('x')\n",
    "f = (x**2-1)/(x)\n",
    "limit = sp.limit(f, x, 0)\n",
    "print(limit)"
   ]
  },
  {
   "cell_type": "markdown",
   "id": "b258578e-df12-4240-9b34-e52caa8da4e7",
   "metadata": {},
   "source": [
    "### Derivative of a Function\n",
    "\n",
    "The derivative of a function is the slope of the tangent line to the function at a given point. The derivative of a function is defined as the limit of the difference quotient as the independent variable approaches a certain value. The derivative of a function `f(x)` is denoted by:\n",
    "\n",
    "\\begin{equation}\n",
    "f'(x) =  \\frac{df(x)}{dx}\n",
    "\\end{equation}"
   ]
  },
  {
   "cell_type": "code",
   "execution_count": 8,
   "id": "541bddb2-a5c0-407f-a8af-a510a5f2ff22",
   "metadata": {},
   "outputs": [
    {
     "name": "stdout",
     "output_type": "stream",
     "text": [
      "cos(x)\n"
     ]
    }
   ],
   "source": [
    "x = sp.symbols('x')\n",
    "f = sp.sin(x)\n",
    "dfdx = sp.diff(f,x)\n",
    "print(dfdx)"
   ]
  },
  {
   "cell_type": "markdown",
   "id": "755f559c-d851-417e-8ea5-46aa868c71a6",
   "metadata": {},
   "source": [
    "This code finds the derivative of the function `sin(x)` with respect to `x`. The output is `cos(x)`.\n"
   ]
  },
  {
   "cell_type": "code",
   "execution_count": 9,
   "id": "57b0c376-c34d-4444-936f-735dc7820ae7",
   "metadata": {},
   "outputs": [
    {
     "name": "stdout",
     "output_type": "stream",
     "text": [
      "-sin(x)\n"
     ]
    }
   ],
   "source": [
    "x = sp.symbols('x')\n",
    "f = sp.cos(x)\n",
    "dfdx = sp.diff(f,x)\n",
    "print(dfdx)"
   ]
  },
  {
   "cell_type": "markdown",
   "id": "87a57418-c816-46c1-9473-6720e1be8aec",
   "metadata": {},
   "source": [
    "\n",
    "## Rules of Differentiation\n",
    "\n",
    "There are several rules of differentiation that make it easier to find derivatives. Let's look into a few of very frequently used ones.\n",
    "\n",
    "| Rules | Functions *f(x)* | Derivatives *f('x)* |\n",
    "| :-: | :-: | :-: |\n",
    "| **Power Rule** | \\begin{equation}x^n\\end{equation} | \\begin{equation}n * x^{n-1}\\end{equation} |\n",
    "| **Sum Rule** | \\begin{equation}g(x) + h(x)\\end{equation} | \\begin{equation}g'(x) + h'(x).\\end{equation} |\n",
    "| **Product Rule** | \\begin{equation}g(x) * h(x)\\end{equation} | \\begin{equation}g'(x) * h(x) + g(x) * h'(x)\\end{equation} |\n",
    "| **Quotient Rule** | \\begin{equation}\\frac{g(x)}{h(x)}\\end{equation} | \\begin{equation}\\frac{g'(x) \\cdot h(x) - g(x) \\cdot h'(x)}{h^2(x)}\\end{equation} |\n",
    "| **Chain Rule** | \\begin{equation}g(h(x))\\end{equation} | \\begin{equation}g'(h(x)) \\cdot h'(x)\\end{equation} |\n",
    "| **Sin Rule** | \\begin{equation}sin(x)\\end{equation} | \\begin{equation}cos(x)\\end{equation} |\n",
    "| **Cos Rule** | \\begin{equation}cos(x)\\end{equation} | \\begin{equation}-sin(x)\\end{equation} |\n",
    "| **Tan Rule** | \\begin{equation}tan(x)\\end{equation} | \\begin{equation}\\frac{1}{cos^2(x)}\\end{equation} |\n",
    "| **Logarithmic Rule** | \\begin{equation}ln(ax)\\end{equation} | \\begin{equation}\\frac{1}{x}\\end{equation} |\n",
    "| **Exponential Rule** | \\begin{equation}e^{ax}\\end{equation} | \\begin{equation}a \\cdot e^{ax}\\end{equation} |\n",
    "\n",
    "## Higher order derivatives\n",
    "\n",
    "The second derivative of a function is the derivative of the first derivative. Higher order derivatives can be found by taking the derivative of the previous derivative. The second derivative is denoted by:\n",
    "\n",
    "\\begin{equation}\n",
    "f''(x) =  \\frac{d^2f(x)}{dx^2}\n",
    "\\end{equation}"
   ]
  },
  {
   "cell_type": "code",
   "execution_count": 10,
   "id": "583c63ce-434d-4b75-80bf-7bead1a94439",
   "metadata": {},
   "outputs": [
    {
     "name": "stdout",
     "output_type": "stream",
     "text": [
      "-sin(x)\n"
     ]
    }
   ],
   "source": [
    "x = sp.symbols('x')\n",
    "f = sp.sin(x)\n",
    "dfdx = sp.diff(f,x)\n",
    "dfdx2= sp.diff(f,x,2)\n",
    "print(dfdx2)"
   ]
  },
  {
   "cell_type": "markdown",
   "id": "2b83692b-def4-416a-a812-e61db7d1c37a",
   "metadata": {},
   "source": [
    "This code finds the second derivative of the function `sin(x)` with respect to `x`. The output is `-sin(x)`."
   ]
  },
  {
   "cell_type": "markdown",
   "id": "ab802cb5-3ece-4dcd-94a2-720724b35c0d",
   "metadata": {},
   "source": [
    "## Implicit differentiation\n",
    "\n",
    "Implicit differentiation is a technique used to find the derivative of a function that is defined implicitly, rather than explicitly. An implicit function is one where the dependent variable is not written in terms of the independent variable, but rather as a relation between the two.\n",
    "\n",
    "To find the derivative of an implicitly defined function `y = f(x)`, we differentiate both sides of the equation with respect to `x`, using the chain rule where necessary. For example, suppose we have the equation:\n",
    "\n",
    "\\begin{equation}\n",
    "x^2 + y^2 = 25\n",
    "\\end{equation}\n",
    "\n",
    "To find `dy/dx`, we differentiate both sides of the equation with respect to `x`:\n",
    "\n",
    "\\begin{equation}\n",
    "\\frac{d(x^2 + y^2)}{dx} = \\frac{d(25)}{dx}\n",
    "\\end{equation}\n",
    "\n",
    "Using the chain rule, we get:\n",
    "\n",
    "\\begin{equation}\n",
    "2x + 2y * \\frac{dy}{dx} = 0\n",
    "\\end{equation}\n",
    "\n",
    "Then, we can solve for `dy/dx`:\n",
    "\n",
    "\\begin{equation}\n",
    "\\frac{dy}{dx} = \\frac{-x}{y}\n",
    "\\end{equation}"
   ]
  },
  {
   "cell_type": "code",
   "execution_count": 11,
   "id": "e3d24ec4-a615-4ee0-922b-79e7295adc86",
   "metadata": {},
   "outputs": [
    {
     "name": "stdout",
     "output_type": "stream",
     "text": [
      "-sin(x)\n"
     ]
    }
   ],
   "source": [
    "import sympy as sp\n",
    "\n",
    "x = sp.symbols('x')\n",
    "f = sp.sin(x)\n",
    "\n",
    "# dfdx = sp.diff(f, x)\n",
    "# d2fdx2 = sp.diff(dfdx, x)\n",
    "\n",
    "d2fdx2 = sp.diff(f,x,2)\n",
    "\n",
    "print(d2fdx2)"
   ]
  },
  {
   "cell_type": "markdown",
   "id": "ad994abb-0546-4068-a871-412e85b778ef",
   "metadata": {},
   "source": [
    "This code finds the derivative of the implicitly defined function `x^2 + y^2 = 4` with respect to `x`. The output is `-x/y`."
   ]
  },
  {
   "cell_type": "markdown",
   "id": "8a9686db-e814-4143-82e4-8b364cd1a93c",
   "metadata": {},
   "source": [
    "\n",
    "\n",
    "## Partial Differentiation\n",
    "\n",
    "Partial differentiation is a technique used to find the partial derivatives of a multivariable function with respect to its independent variables. It is used when a function depends on two or more variables, and we want to know how the function changes as one variable changes while the other variables are held constant.\n",
    "\n",
    "Suppose we have a function `f(x, y)` that depends on two variables `x` and `y`. To find the partial derivative of `f` with respect to `x`, we differentiate `f` with respect to `x` while treating `y` as a constant. We represent this partial derivative as `∂f/∂x`. Similarly, to find the partial derivative of `f` with respect to `y`, we differentiate `f` with respect to `y` while treating `x` as a constant, and represent this partial derivative as `∂f/∂y`.\n",
    "\n",
    "For example, consider the function `f(x, y) = x^2 + 3xy + y^2`. To find the partial derivative of `f` with respect to `x` and `y` are given as:\n",
    "\n",
    "\\begin{equation}\n",
    "\\frac{∂f}{∂x} = \\frac{d(x^2 + 3xy + y^2)}{dx} = 2x + 3y\n",
    "\\end{equation}\n",
    "\n",
    "\\begin{equation}\n",
    "\\frac{∂f}{∂y} = \\frac{d(x^2 + 3xy + y^2)}{dy} = 3x + 2y\n",
    "\\end{equation}"
   ]
  },
  {
   "cell_type": "code",
   "execution_count": 12,
   "id": "1ee5ec28-448c-4fae-b119-43f9b2d6e96f",
   "metadata": {},
   "outputs": [
    {
     "name": "stdout",
     "output_type": "stream",
     "text": [
      "Partial differentiation wrt x: 8\n",
      "Partial differentiation wrt y: 7\n"
     ]
    }
   ],
   "source": [
    "import sympy as sp\n",
    "\n",
    "# Define the function\n",
    "x, y = sp.symbols('x y')\n",
    "f = x**2 + 3*x*y + y**2\n",
    "\n",
    "# Find the partial derivatives\n",
    "df_dx = sp.diff(f, x)\n",
    "df_dy = sp.diff(f, y)\n",
    "\n",
    "# Evaluate the partial derivatives at a point\n",
    "point = {x: 1, y: 2}\n",
    "df_dx_at_point = df_dx.subs(point)\n",
    "df_dy_at_point = df_dy.subs(point)\n",
    "\n",
    "print(\"Partial differentiation wrt x:\", df_dx_at_point)\n",
    "print(\"Partial differentiation wrt y:\", df_dy_at_point)"
   ]
  },
  {
   "cell_type": "markdown",
   "id": "feac24b7-b9c9-4950-963a-7c5b7e1c503e",
   "metadata": {},
   "source": [
    "In this example, we use the `SymPy` library to define a function `f` of two variables `x` and `y`. We then use the `diff` method to find the partial derivatives of `f` with respect to `x` and `y`, respectively. Finally, we evaluate these partial derivatives at a specific point `(1, 2)` using the `subs` method."
   ]
  }
 ],
 "metadata": {
  "kernelspec": {
   "display_name": "Python 3 (ipykernel)",
   "language": "python",
   "name": "python3"
  },
  "language_info": {
   "codemirror_mode": {
    "name": "ipython",
    "version": 3
   },
   "file_extension": ".py",
   "mimetype": "text/x-python",
   "name": "python",
   "nbconvert_exporter": "python",
   "pygments_lexer": "ipython3",
   "version": "3.12.2"
  }
 },
 "nbformat": 4,
 "nbformat_minor": 5
}
