{
 "cells": [
  {
   "cell_type": "markdown",
   "id": "25586b68-6fbd-458e-9dee-eaa676533aa4",
   "metadata": {},
   "source": [
    "# Events\n",
    "\n",
    "Events in probability theory are subsets of a sample space, and can be thought of as outcomes of a random experiment. We can assign probabilities to events, which describe how likely they are to occur.\n",
    "\n",
    "## Elementary Event\n",
    "\n",
    "An elementary event is a single possible outcome of a random experiment. For example, when flipping a coin, the possible elementary events are getting heads or getting tails. Similarly, when rolling a dice, the possible elementary events are getting `1, 2, 3, 4, 5 or 6`.\n",
    "\n",
    "## Compound Event\n",
    "\n",
    "A compound event is a combination of two or more elementary events. For example, in the case of rolling two dice, a compound event could be getting a sum of `7` or getting a sum of `9`. Another example of a compound event could be selecting two cards from a deck of cards and getting both cards of the same suit.\n",
    "\n",
    "## Mutually Exclusive Event\n",
    "\n",
    "Mutually exclusive events are events that cannot happen at the same time. For example, when flipping a coin, getting heads and getting tails are mutually exclusive events because only one of them can happen on a single flip. Similarly, when rolling a dice, getting an odd number and getting an even number are mutually exclusive events.\n",
    "\n",
    "## Independent Event\n",
    "\n",
    "Independent events are events in which the occurrence of one event does not affect the occurrence of the other event. For example, when flipping a coin, getting heads on the first flip and getting heads on the second flip are independent events because the outcome of the first flip does not affect the outcome of the second flip. Similarly, when drawing two cards from a deck of cards, getting a heart on the first draw and getting a spade on the second draw are independent events because the outcome of the first draw does not affect the outcome of the second draw."
   ]
  },
  {
   "cell_type": "code",
   "execution_count": 1,
   "id": "a646f733-8216-4960-a0fd-2090fac99387",
   "metadata": {},
   "outputs": [
    {
     "name": "stdout",
     "output_type": "stream",
     "text": [
      "Coin flip result: Heads\n",
      "Dice roll result: 1\n"
     ]
    }
   ],
   "source": [
    "import random\n",
    "\n",
    "# Elementary events\n",
    "coin_flip = random.choice(['Heads', 'Tails'])\n",
    "print(\"Coin flip result:\", coin_flip)\n",
    "\n",
    "dice_roll = random.randint(1, 6)\n",
    "print(\"Dice roll result:\", dice_roll)"
   ]
  },
  {
   "cell_type": "code",
   "execution_count": 2,
   "id": "2bf71139-76f2-4da4-a027-2a65a0edda28",
   "metadata": {},
   "outputs": [
    {
     "name": "stdout",
     "output_type": "stream",
     "text": [
      "Dice sum result: 8\n",
      "Cards drawn: ['5 of Hearts', 'King of Hearts']\n"
     ]
    }
   ],
   "source": [
    "# Compound events\n",
    "dice_sum = random.randint(1, 6) + random.randint(1, 6)\n",
    "print(\"Dice sum result:\", dice_sum)\n",
    "\n",
    "cards = ['2 of Hearts', '3 of Hearts', '4 of Hearts', '5 of Hearts', '6 of Hearts',\n",
    "         '7 of Hearts', '8 of Hearts', '9 of Hearts', '10 of Hearts', 'Jack of Hearts',\n",
    "         'Queen of Hearts', 'King of Hearts', 'Ace of Hearts']\n",
    "\n",
    "cards_drawn = random.sample(cards, 2)\n",
    "print(\"Cards drawn:\", cards_drawn)"
   ]
  },
  {
   "cell_type": "code",
   "execution_count": 3,
   "id": "4e62d654-45c8-4c9a-a2b4-fa1c91371552",
   "metadata": {},
   "outputs": [
    {
     "name": "stdout",
     "output_type": "stream",
     "text": [
      "Odd number rolled\n"
     ]
    }
   ],
   "source": [
    "# Mutually exclusive events\n",
    "dice_number = random.randint(1, 6)\n",
    "if dice_number % 2 == 0:\n",
    "    print(\"Even number rolled\")\n",
    "else:\n",
    "    print(\"Odd number rolled\")"
   ]
  },
  {
   "cell_type": "code",
   "execution_count": 4,
   "id": "3bef2312-234b-4c04-894d-2cdeeff5c385",
   "metadata": {},
   "outputs": [
    {
     "name": "stdout",
     "output_type": "stream",
     "text": [
      "Coin flip 1 result: Tails\n",
      "Coin flip 2 result: Tails\n"
     ]
    }
   ],
   "source": [
    "# Independent events\n",
    "coin_flip_1 = random.choice(['Heads', 'Tails'])\n",
    "coin_flip_2 = random.choice(['Heads', 'Tails'])\n",
    "print(\"Coin flip 1 result:\", coin_flip_1)\n",
    "print(\"Coin flip 2 result:\", coin_flip_2)"
   ]
  },
  {
   "cell_type": "markdown",
   "id": "929bafec-bf0b-4846-a347-29b2b7ba2d30",
   "metadata": {},
   "source": [
    "## Laws of Probability\n",
    "\n",
    "- **Probability of an event:** The probability of an event `A` is denoted by `P(A)` and is a number between `0` and `1`.\n",
    "- **Complement rule:** The probability of the complement of an event `A` is `1` minus the probability of `A`. That is, `P(not A) = 1 - P(A)`.\n",
    "- **Union rule:** The probability of the union of two events `A` and `B` is given by `P(A or B) = P(A) + P(B) - P(A and B)`.\n",
    "- **Intersection rule:** The probability of the intersection of two events `A` and `B` is given by `P(A and B) = P(A) * P(B|A)`, where `P(B|A)` is the conditional probability of `B` given that `A` has occurred.\n",
    "- **Addition rule:** The addition rule of probability states that the probability of the union of two events `A` and `B` is given by `P(A or B) = P(A) + P(B) - P(A and B)` where `P(A and B)` denotes the probability of the intersection of events `A` and `B`.\n",
    "- **Multiplication rule:** The probability of the joint occurrence of two or more events is given by `P(A and B and C and ...) = P(A) * P(B|A) * P(C|A and B) * ...`, where the conditional probabilities are given by the product rule.\n",
    "- **Conditional probability:** The conditional probability of an event `B` given that an event `A` has occurred is denoted by `P(B|A)` and is given by `P(B|A) = P(A and B) / P(A)`, provided that `P(A) > 0`.\n",
    "- **Law of total probability:** Let `A1, A2, ...`, An be a partition of the sample space. Then, for any event `B`, the probability of `B` is given by the law of total probability: `P(B) = P(B|A1) * P(A1) + P(B|A2) * P(A2) + ... + P(B|An) * P(An)`.\n",
    "\n",
    "## Conditional Probability\n",
    "\n",
    "Conditional probability is the probability of an event occurring given that another event has occurred. It is denoted by `P(A|B)`, which represents the probability of event `A` occurring given that event `B` has occurred.\n",
    "\n",
    "The formula for conditional probability is:\n",
    "\n",
    "\\begin{equation}\n",
    "P(A|B) = \\frac{P(A and B)}{P(B)}\n",
    "\\end{equation}\n",
    "\n",
    "where `P(A and B)` is the probability of both events `A` and `B` occurring together, and `P(B)` is the probability of event `B` occurring.\n",
    "\n",
    "Here's an example to help explain conditional probability:\n",
    "\n",
    "Suppose we have two urns, urn `A` and urn `B`. Urn `A` contains `3` red balls and `2` blue balls, while urn `B` contains `1` red ball and `4` blue balls. We randomly select one urn and then randomly select a ball from that urn. What is the probability that the ball selected is red, given that urn `A` was selected?\n",
    "\n",
    "To solve this problem, we can use conditional probability. Let `A` be the event that a red ball is selected, and let `B` be the event that urn `A` is selected. We want to find `P(A|B)`, the probability of selecting a red ball given that urn `A` is selected.\n",
    "\n",
    "We know that the probability of selecting urn `A` is `1/2`, because there are two urns and we are equally likely to select either one. We also know that the probability of selecting a red ball from urn `A` is `3/5`, because urn `A` contains `3` red balls and `5` total balls. Putting this together, we can use the formula for conditional probability:\n",
    "\n",
    "\\begin{equation}\n",
    "P(A|B) = \\frac{P(A and B)}{P(B)}\n",
    "= \\frac{(3/5 * 1/2)}{(1/2)}\n",
    "= \\frac{3}{5}\n",
    "\\end{equation}\n",
    "\n",
    "Therefore, the probability of selecting a red ball given that urn `A` is selected is `3/5`, or `0.6`."
   ]
  },
  {
   "cell_type": "code",
   "execution_count": 5,
   "id": "3b8b7907-886f-4dbf-8996-dbb65f954c3b",
   "metadata": {},
   "outputs": [
    {
     "name": "stdout",
     "output_type": "stream",
     "text": [
      "The selected ball is not red or urn A was not selected\n"
     ]
    }
   ],
   "source": [
    "import random\n",
    "\n",
    "# Define the urns\n",
    "urn_a = ['red', 'red', 'red', 'blue', 'blue']\n",
    "urn_b = ['red', 'blue', 'blue', 'blue', 'blue']\n",
    "\n",
    "# Randomly select an urn\n",
    "selected_urn = random.choice([urn_a, urn_b])\n",
    "\n",
    "# Randomly select a ball from the selected urn\n",
    "selected_ball = random.choice(selected_urn)\n",
    "\n",
    "# Check if the selected ball is red and the selected urn is urn A\n",
    "if selected_ball == 'red' and selected_urn == urn_a:\n",
    "    print(\"The selected ball is red and urn A was selected\")\n",
    "    conditional_prob = urn_a.count('red') / len(urn_a)\n",
    "    print(\"Conditional probability:\", conditional_prob)\n",
    "else:\n",
    "    print(\"The selected ball is not red or urn A was not selected\")"
   ]
  },
  {
   "cell_type": "code",
   "execution_count": null,
   "id": "86001672-db46-42e7-80a2-7d20c50abe04",
   "metadata": {},
   "outputs": [],
   "source": []
  }
 ],
 "metadata": {
  "kernelspec": {
   "display_name": "Python 3 (ipykernel)",
   "language": "python",
   "name": "python3"
  },
  "language_info": {
   "codemirror_mode": {
    "name": "ipython",
    "version": 3
   },
   "file_extension": ".py",
   "mimetype": "text/x-python",
   "name": "python",
   "nbconvert_exporter": "python",
   "pygments_lexer": "ipython3",
   "version": "3.12.2"
  }
 },
 "nbformat": 4,
 "nbformat_minor": 5
}
