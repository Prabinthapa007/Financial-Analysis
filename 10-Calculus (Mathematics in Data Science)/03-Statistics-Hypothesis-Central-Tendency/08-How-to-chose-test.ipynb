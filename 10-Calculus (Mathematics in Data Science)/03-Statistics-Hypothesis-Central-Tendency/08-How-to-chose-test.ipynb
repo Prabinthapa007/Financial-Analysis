{
 "cells": [
  {
   "cell_type": "markdown",
   "id": "8df1ad5b-2a7d-4e51-a9ab-0a66964a5bd8",
   "metadata": {},
   "source": [
    "# How to choose the correct test statistic?"
   ]
  },
  {
   "cell_type": "markdown",
   "id": "ba899f38-3995-40c0-85e4-e8f0cbf0761b",
   "metadata": {},
   "source": [
    "Choosing the correct test statistic depends on the nature of the hypothesis being tested and the characteristics of the population distribution. Here are some guidelines to help you choose the appropriate test statistic for common hypothesis testing scenarios:"
   ]
  },
  {
   "cell_type": "markdown",
   "id": "e899c8fe-bdfd-4fce-b1df-6e32f948ee6f",
   "metadata": {},
   "source": [
    "## 1. Testing the mean of a single population:"
   ]
  },
  {
   "cell_type": "markdown",
   "id": "f4a87e92-3f83-4a38-88db-ce7f917b179a",
   "metadata": {},
   "source": [
    "- If the population standard deviation is known, use the z-test statistic. Here, $\\bar{X}$ is the sample mean, $\\mu$  is the hypothesized population mean, $\\sigma$ is the population standard deviation, and $n$ is the sample size.\n",
    "\n",
    "\\begin{equation}\n",
    "  z = \\frac{\\bar{X} - \\mu}{\\frac{\\sigma}{\\sqrt{n}}}\n",
    "\\end{equation}\n",
    "\n",
    "\n",
    "\n",
    "- If the population standard deviation is unknown and needs to be estimated from the sample, use the t-test statistic. Here, $s$  is the sample standard deviation\n",
    "\\begin{equation}\n",
    "  t = \\frac{\\bar{X} - \\mu}{\\frac{s}{\\sqrt{n}}}\n",
    "\\end{equation}."
   ]
  },
  {
   "cell_type": "markdown",
   "id": "496b3747-4012-47b3-be01-5624dfbeb278",
   "metadata": {},
   "source": [
    "## 2. Testing the difference between means of two population"
   ]
  },
  {
   "cell_type": "markdown",
   "id": "ac4d46c2-5729-463e-84db-ed61560ddfb2",
   "metadata": {},
   "source": [
    "- If both population standard deviations are known, use the z-test statistic. Here, $\\bar{X}_1$ and $\\bar{X}_2$ are the sample means, $\\sigma_1$ and $\\sigma_2$ are the population standard deviations, $n_1$ and $n_2$ are the sample sizes.\n",
    "\n",
    "\\begin{equation}\n",
    "z = \\frac{{\\bar{X}_1 - \\bar{X}_2}}{{\\sqrt{\\frac{{\\sigma_1^2}}{{n_1}} + \\frac{{\\sigma_2^2}}{{n_2}}}}}\n",
    "\\end{equation}\n",
    "\n",
    "- If the population standard deviations are unknown and assumed to be equal, use the pooled t-test statistic. Here, $s_p$ is the pooled sample standard deviation.\n",
    "\n",
    "\\begin{equation}\n",
    "t = \\frac{{\\bar{X}_1 - \\bar{X}_2}}{{s_p \\sqrt{\\frac{1}{{n_1}} + \\frac{1}{{n_2}}}}}\n",
    "\\end{equation}"
   ]
  },
  {
   "cell_type": "markdown",
   "id": "7b3ec74e-918a-40c6-98ba-f8eb56841c45",
   "metadata": {},
   "source": [
    "## 3. Testing the association between categorical variables:"
   ]
  },
  {
   "cell_type": "markdown",
   "id": "48afeddc-6ab2-43cb-957a-7804d211587f",
   "metadata": {},
   "source": [
    "- For 2x2 contingency tables, use the chi-square test statistic. Here, $O$ is the observed frequency and $E$ is the expected frequency under the null hypothesis.\n",
    "\n",
    "\\begin{equation}\n",
    "\\chi^2 = \\sum{\\frac{{(O - E)^2}}{{E}}}\n",
    "\\end{equation}\n",
    "\n",
    "- For larger contingency tables, consider using the chi-square test of independence or Fisher's exact test."
   ]
  },
  {
   "cell_type": "markdown",
   "id": "23c86a22-8605-4811-a0d1-577564f9b778",
   "metadata": {},
   "source": [
    "## 4. Testing the relationship between categorical and continuous variables:"
   ]
  },
  {
   "cell_type": "markdown",
   "id": "03d02338-cc8d-4a0a-9b59-1f8d5f02a2e4",
   "metadata": {},
   "source": [
    "- Use analysis of variance (ANOVA) or its non-parametric equivalent, Kruskal-Wallis test, when comparing means across multiple groups."
   ]
  },
  {
   "cell_type": "code",
   "execution_count": null,
   "id": "cf219f5d-e5ea-476b-abdf-46378e7c8552",
   "metadata": {},
   "outputs": [],
   "source": []
  }
 ],
 "metadata": {
  "kernelspec": {
   "display_name": "Python 3 (ipykernel)",
   "language": "python",
   "name": "python3"
  },
  "language_info": {
   "codemirror_mode": {
    "name": "ipython",
    "version": 3
   },
   "file_extension": ".py",
   "mimetype": "text/x-python",
   "name": "python",
   "nbconvert_exporter": "python",
   "pygments_lexer": "ipython3",
   "version": "3.12.2"
  }
 },
 "nbformat": 4,
 "nbformat_minor": 5
}
