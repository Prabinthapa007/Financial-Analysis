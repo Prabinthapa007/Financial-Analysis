{
 "cells": [
  {
   "cell_type": "markdown",
   "id": "06938478-9ed0-42ad-836b-d349b821c509",
   "metadata": {},
   "source": [
    "# Hypothesis Testing"
   ]
  },
  {
   "cell_type": "markdown",
   "id": "2f7f0fe6-9ffd-45f0-b8ce-01a20240abef",
   "metadata": {},
   "source": [
    "**Hypothesis** is an idea or assumption that is made based on some evidence for the sake of arguments. so that it can later on be researched to find its viability. It involves formulating two competing hypothesis, the null hypothesis and the alternative hypothesis and using statistical methods to evaluate the evidence in favor of one hypothesis over the other."
   ]
  },
  {
   "cell_type": "markdown",
   "id": "06a6bcf0-6099-4cb0-a66b-a18867583ad6",
   "metadata": {},
   "source": [
    "### Steps of Hypothesis Testing"
   ]
  },
  {
   "cell_type": "markdown",
   "id": "5802c883-d936-49b1-bc84-2a3fe46a69a6",
   "metadata": {},
   "source": [
    "#### Step 1: Formulate the Null and ALternative Hypothesis"
   ]
  },
  {
   "cell_type": "markdown",
   "id": "7dea7cd1-a966-4484-a675-e3e0007a0701",
   "metadata": {},
   "source": [
    "#### Step 2: Choose the significance Level($\\alpha$)\n",
    "This standard or checkpoint we set is called **LEVEL OF SIGNIFICANCE**. It is upon us as a statistical investigator to choose our level of significance. Most often, level of significance of 5% is chosen as a standard practice. However, levels like 1% and 10% can also be chosen."
   ]
  },
  {
   "cell_type": "markdown",
   "id": "6290bdf8-5c24-479f-85ac-6dcd52e77ff4",
   "metadata": {},
   "source": [
    "#### Step 3: Select the Test Statistics\n",
    "Statistical tests are a way of mathematically determining whether two sets of data are significantly different from each other. To do this, statistical tests use several statistical measures, such as the mean, standard deviation, and coefficient of variation. Once the statistical measures are calculated, the statistical test will then compare them to a set of predetermined criteria. If the data meet the criteria, the statistical test will conclude that there is a significant difference between the two sets of data.\n",
    "\n",
    "1. **Parametric Statistical Test**:\n",
    "Parametric statistical tests have precise requirements compared with non-parametric tests. Also, they make a strong inference from the data. Furthermore, they can only be conducted with data that adhere to common assumptions of statistical tests. Some common types of parametric tests are regression tests, comparison tests, and correlation tests.\n",
    " - **Regression Test**: Regression tests determine cause-and-effect relationships. They can be used to estimate the effect of one or more continuous variables on another variable.\n",
    "    - Simple Linear Regression : It is a type of test that describes the relationship between a dependent and an independent variable using a straight line. This test determines the relationship between two quantitative variables.\n",
    "    - Multiple Linear Regression: It measures the relationship between a quantitative dependent variable and two or more independent variables, again using a straight line.\n",
    "    - Logistic Regression: It predicts and classifies the research problem. Logistic regression helps identify data anomalies, which could be predictive fraud.\n",
    "  \n",
    "\n",
    " - **Comparision Tests**: Comparison tests determine the differences among the group means. They can be used to test the effect of a categorical variable on the mean value of other characteristics.\n",
    "    - T-test: One of the most common statistical tests is the t-test, which is used to compare the means of two groups (e.g. the average heights of men and women). You can use the t-test when you are not aware of the population parameters (mean and standard deviation).\n",
    "    - Paired T-test: It tests the difference between two variables from the same population (pre-and post-test scores). For example, measuring the performance score of the trainee before and after the completion of the training program.\n",
    "    - Independent T-test: The independent t-test is also called the two-sample t-test. It is a statistical test that determines whether there is a statistically significant difference between the means in two unrelated groups. For example, comparing cancer patients and pregnant women in a population.\n",
    "    - One Sample T-test: In this test, the mean of a single group is compared with the given mean. For example, determining the increase and decrease in sales in the given average sales.\n",
    "    - ANOVA: ANOVA (Analysis of Variance) analyzes the difference between the means of more than two groups. One-way ANOVAs determine how one factor impacts another, whereas two-way analyses compare samples with different variables. It determines the impact of one or more factors by comparing the means of different samples.\r",
    " \n",
    "    - MANO: MANOVA, which stands for Multivariate Analysis of Variance, provides regression analysis and analysis of variance for multiple dependent variables by one or more factor variables or covariates. Also, it examines the statistical difference between one continuous dependent variable and an independent grouping variable.\n",
    "    - Z-test: It is a statistical test that determines whether two population means are different, provided the variances are known and the sample size is large. st\n",
    " - **Correlation Tests**: Correlation tests check if the variables are related without hypothesizing a cause-and-effect relationship. These tests can be used to check if the two variables you want to use in a multiple regression test are correlated.\n",
    "   - Pearson Correlation Coefficiey."
   ]
  },
  {
   "cell_type": "markdown",
   "id": "b6b24d37-abe5-4d45-886a-9b78509699dd",
   "metadata": {},
   "source": [
    "2. **Non-parametric Statistical Tests**\n",
    "Non-parametric tests do not make as many assumptions about the data  compared to parametric tests. They are useful when one or more of the common statistical assumptions are violated. However, these inferences are not as accurate as with parametric tests.\n",
    "  - Chi-square test: The chi-square test compares two categorical variables. Furthermore, calculating the chi-square statistic value and comparing it with a critical value from the chi-square distribution allows you to assess whether the observed frequency is significantly different from the expected frequency."
   ]
  },
  {
   "cell_type": "markdown",
   "id": "0311ac97-4b38-4d13-a0da-11a1f3b82cf9",
   "metadata": {},
   "source": [
    "#### Step 4: Determine the Rejection Region"
   ]
  },
  {
   "cell_type": "markdown",
   "id": "3e006794-de23-414a-90c2-0679d8cd0328",
   "metadata": {},
   "source": [
    "#### Step 5: Compute the Test Statistics and P-value:"
   ]
  },
  {
   "cell_type": "markdown",
   "id": "c29adeca-494b-46e1-8de0-69b542199e8c",
   "metadata": {},
   "source": [
    "#### Step 6: Make a Decision \n",
    "If the  p\r\n",
    " -value obtained from the ANOVA is less than  α\r\n",
    " , then reject  H0\r\n",
    "  and accept  HA\r\n",
    " ."
   ]
  },
  {
   "cell_type": "markdown",
   "id": "7f4c45e3-34b1-4b23-bb0e-dacdf06c765e",
   "metadata": {},
   "source": [
    "#### Step7: Draw Conclusion"
   ]
  },
  {
   "cell_type": "markdown",
   "id": "af945c84-4c8c-415f-91d0-138c4d96816f",
   "metadata": {},
   "source": [
    "<br>"
   ]
  },
  {
   "cell_type": "markdown",
   "id": "da95b44c-dd66-4c6a-978f-c264a11ae844",
   "metadata": {},
   "source": [
    "### Where to use Hypothesis Testing"
   ]
  },
  {
   "cell_type": "code",
   "execution_count": null,
   "id": "77dc74ec-19c3-4c6b-928e-709ca2f4d114",
   "metadata": {},
   "outputs": [],
   "source": []
  },
  {
   "cell_type": "code",
   "execution_count": null,
   "id": "c0d216df-c85c-461f-a819-b4142a28bb8b",
   "metadata": {},
   "outputs": [],
   "source": []
  },
  {
   "cell_type": "markdown",
   "id": "fd36c13b-5837-4fa4-a93d-ca667b6bb9a0",
   "metadata": {},
   "source": [
    "### What is P-value?\n",
    "The p-value is a probability that measures the strength of evidence against the null hypothesis."
   ]
  },
  {
   "cell_type": "code",
   "execution_count": null,
   "id": "e32c3265-b4a2-4b64-bbe2-54be7c465075",
   "metadata": {},
   "outputs": [],
   "source": []
  },
  {
   "cell_type": "code",
   "execution_count": 1,
   "id": "37a2e855-9a0b-4394-b500-3db05fab3a1d",
   "metadata": {},
   "outputs": [],
   "source": [
    "import numpy as np\n",
    "import matplotlib.pyplot as plt\n",
    "import scipy.stats as stats"
   ]
  },
  {
   "cell_type": "markdown",
   "id": "cc45192c-d7ff-4d24-b057-30ba7d9b6cc5",
   "metadata": {},
   "source": [
    "### Example: Hypothesis testing for mean"
   ]
  },
  {
   "cell_type": "markdown",
   "id": "f83731c3-fe89-46e3-9187-51d232e92ef7",
   "metadata": {},
   "source": [
    "#### Step 1: \n",
    "- Null hypothesis ($H_0$): The mean weight of the population is equal to $\\mu_0$.\n",
    "- Alternative Hypothesis ($H_1$): The mean weight of the population is not equal to $\\mu_0$.\n",
    "\n",
    "#### Step 2:\n",
    "Let's choose a significance level of $\\alpha$ = 0.05\n",
    "\n",
    "#### Step 3:\n",
    "For a two-taoled with a significance level of  $\\alpha$ = 0.05, the rejetion region consitsts of extreme values in both the left and right tails of the standard normal distribution.\n",
    "\n",
    "#### Step 4:\n",
    "Since we have the population standard deviation available, we will use the"
   ]
  },
  {
   "cell_type": "code",
   "execution_count": 22,
   "id": "f6daaf08-a545-4d32-85ce-8ed7767e5d49",
   "metadata": {},
   "outputs": [
    {
     "data": {
      "image/png": "[encoded data removed]",
      "text/plain": [
       "<Figure size 800x600 with 1 Axes>"
      ]
     },
     "metadata": {},
     "output_type": "display_data"
    }
   ],
   "source": [
    "x = np.linspace(-3, 3, 2000)\n",
    "z_critical = stats.norm.ppf(1-0.05/2)\n",
    "plt.figure(figsize=(8, 6))\n",
    "plt.plot(x, stats.norm.pdf(x), 'black', lw=2, label='Standard Normal Distribution')\n",
    "\n",
    "plt.plot(z_score, stats.norm.pdf(z_score), \"cyan\")\n",
    "\n",
    "plt.fill_between(\n",
    "    x, stats.norm.pdf(x), where= (x<= - z_critical) | (x >= z_critical), color='red',\n",
    "    alpha=0.3, label='Rejection Region')\n",
    "plt.title(\"Standard Normal Distribution with Rejection region\")\n",
    "plt.xlabel('Z-Score')\n",
    "plt.ylabel('Density')\n",
    "plt.legend()\n",
    "plt.show()"
   ]
  },
  {
   "cell_type": "markdown",
   "id": "daad69e8-c90f-45d4-a246-d12fcd5b8d27",
   "metadata": {},
   "source": [
    "#### Step 5: Compute the Test Statistics and P-value"
   ]
  },
  {
   "cell_type": "code",
   "execution_count": 19,
   "id": "967f2639-cd24-4f18-898b-e446044149a8",
   "metadata": {},
   "outputs": [
    {
     "name": "stdout",
     "output_type": "stream",
     "text": [
      "1.0\n"
     ]
    }
   ],
   "source": [
    "sample = [150, 160, 170, 180, 155, 165, 175]\n",
    "sample_mean = np.mean(sample)\n",
    "sample_sd = np.std(sample)\n",
    "sample_size= len(sample)\n",
    "\n",
    "mu_0 = 165\n",
    "z_score = ((sample_mean - mu_0)/(sample_sd / np.sqrt(sample_size)))\n",
    "p_value = 2 * (1 - stats.norm.cdf(np.abs(z_score)))\n",
    "\n",
    "print(p_value)"
   ]
  },
  {
   "cell_type": "markdown",
   "id": "08936764-d3ef-411e-be2d-8d6f9a43742c",
   "metadata": {},
   "source": [
    "#### Step 6: Make a Decision"
   ]
  },
  {
   "cell_type": "code",
   "execution_count": 20,
   "id": "5e3c2382-2d31-4a6b-a512-f8f098d0c981",
   "metadata": {},
   "outputs": [
    {
     "name": "stdout",
     "output_type": "stream",
     "text": [
      "Fail to reject H0\n"
     ]
    }
   ],
   "source": [
    "if p_value <= 0.05:\n",
    "    decision = \"Reject H0\"\n",
    "else:\n",
    "    decision = \"Fail to reject H0\"\n",
    "\n",
    "print(decision)"
   ]
  },
  {
   "cell_type": "code",
   "execution_count": null,
   "id": "3571f9ff-0f69-4bb8-b384-1955eaa03ed8",
   "metadata": {},
   "outputs": [],
   "source": [
    "if p_value <= 0.05:\n",
    "    conclusion = \"Reject H0\"\n",
    "else:\n",
    "    decision = \"Fail to reject H0\"\n",
    "\n",
    "print(decision)"
   ]
  },
  {
   "cell_type": "code",
   "execution_count": null,
   "id": "45550616-b28b-445b-87ed-bee58ec0de8a",
   "metadata": {},
   "outputs": [],
   "source": []
  },
  {
   "cell_type": "markdown",
   "id": "d69b86a3-9467-4f1b-a2a6-097ab2321f7c",
   "metadata": {},
   "source": [
    "### Calculating and Interpretating Z-Score"
   ]
  },
  {
   "cell_type": "code",
   "execution_count": 31,
   "id": "4b5c980e-c69d-4b72-aa5a-b2e2906901b2",
   "metadata": {},
   "outputs": [
    {
     "name": "stdout",
     "output_type": "stream",
     "text": [
      "Data point 1, 150 has z-score = -1.500\n",
      "Data point 2, 160 has z-score = -0.500\n",
      "Data point 3, 170 has z-score = 0.500\n",
      "Data point 4, 180 has z-score = 1.500\n",
      "Data point 5, 155 has z-score = -1.000\n",
      "Data point 6, 165 has z-score = 0.000\n",
      "Data point 7, 175 has z-score = 1.000\n"
     ]
    }
   ],
   "source": [
    "sample = [150, 160, 170, 180, 155, 165, 175]\n",
    "\n",
    "sample_mean = np.mean(sample)\n",
    "sample_sd = np.std(sample, ddof=1)\n",
    "\n",
    "z_score = (sample - sample_mean)/(sample_sd)\n",
    "\n",
    "for i, z in enumerate(z_score):\n",
    "    print(f\"Data point {i+1}, {sample[i]} has z-score = {z:.3f}\")"
   ]
  },
  {
   "cell_type": "code",
   "execution_count": null,
   "id": "5b2a5be2-7b2f-49f4-8f69-98e4c85c9839",
   "metadata": {},
   "outputs": [],
   "source": []
  },
  {
   "cell_type": "code",
   "execution_count": null,
   "id": "de431f2a-d5ba-4836-bed0-883a6397e7e2",
   "metadata": {},
   "outputs": [],
   "source": []
  }
 ],
 "metadata": {
  "kernelspec": {
   "display_name": "Python 3 (ipykernel)",
   "language": "python",
   "name": "python3"
  },
  "language_info": {
   "codemirror_mode": {
    "name": "ipython",
    "version": 3
   },
   "file_extension": ".py",
   "mimetype": "text/x-python",
   "name": "python",
   "nbconvert_exporter": "python",
   "pygments_lexer": "ipython3",
   "version": "3.12.2"
  }
 },
 "nbformat": 4,
 "nbformat_minor": 5
}
