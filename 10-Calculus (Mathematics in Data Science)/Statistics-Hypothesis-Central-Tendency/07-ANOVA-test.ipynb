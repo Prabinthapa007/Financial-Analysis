{
 "cells": [
  {
   "cell_type": "code",
   "execution_count": 1,
   "id": "7bb25c1e-91fe-45b8-b24e-f6b743ae5b32",
   "metadata": {},
   "outputs": [],
   "source": [
    "import numpy as np\n",
    "import pandas as pd\n",
    "import scipy.stats as stats"
   ]
  },
  {
   "cell_type": "markdown",
   "id": "936094d4-fc30-4375-8055-0769c6cdfe92",
   "metadata": {},
   "source": [
    "## ANOVA test or f-test"
   ]
  },
  {
   "cell_type": "markdown",
   "id": "c521a5f2-7426-46f1-a594-3bb55c2a3993",
   "metadata": {},
   "source": [
    "The F-test is a statistical test used to compare the variances of two populations or the overall variance across multiple populations. It assesses whether the variances are significantly different or if they can be considered equal.\n",
    "\n",
    "The F-test calculates the test statistic, known as the F-statistic, using the formula:\n",
    "\\begin{equation}\n",
    "    F = \\frac{\\text{Variance\\_within\\_groups}}{{Variance\\_between\\_groups}}\n",
    "\\end{equation}"
   ]
  },
  {
   "cell_type": "markdown",
   "id": "9bc10b48-b39b-4e59-acd6-7b39eb65deef",
   "metadata": {},
   "source": [
    "The F-statistic is the ratio of the mean square between groups to the mean square within groups. It follows an F-distribution, which depends on the degrees of freedom associated with the numerator and denominator of the F-statistic.\n",
    "\n",
    "There are several types of F-tests that are commonly used in statistics. Here are some of the main types:\n",
    "\n",
    "- **ANOVA F-test**: The ANOVA F-test is used to compare the means of three or more groups or factors to determine if there are significant differences among them. It assesses whether there is evidence to reject the null hypothesis that all group means are equal. The ANOVA F-test can be applied in both one-way ANOVA (with a single factor) and two-way ANOVA (with two factors).\n",
    "- **Regression F-test**: In regression analysis, the F-test is used to determine the overall significance of a regression model. It tests whether there is a linear relationship between the independent variables and the dependent variable. It compares the variation explained by the regression model to the unexplained residual variation.\n",
    "- **Lack-of-Fit F-test**: This F-test is used in regression analysis to assess whether a chosen regression model adequately fits the data. It compares the variation explained by the chosen model to the unexplained variation within the model. If the test is significant, it suggests that the chosen model does not adequately capture the underlying relationship.\n",
    "- **Homogeneity of Variance F-test**: This F-test is used to compare the variances of two or more populations or groups. It tests the null hypothesis that the variances are equal across the populations. It is commonly used before performing"
   ]
  },
  {
   "cell_type": "markdown",
   "id": "534749e9-2ced-45d2-8a27-936829ffefa6",
   "metadata": {},
   "source": [
    "### ANOVA\n",
    "ANOVA is a statistical test used to compare the means of three or more groups. It determines whether there are any statistically significant differences between the means and helps identify which groups are significantly different from each other.\n",
    "\n",
    "ANOVA partitions the total variation in the data into two components: the variation between groups and the variation within groups. The test statistic, known as the F-statistic, is calculated by comparing the ratio of the between-group variation to the within-group variation.\n",
    "\n",
    "The F-statistic is calculated using the formula:\n",
    "\\begin{equation}\n",
    "    F = \\frac{\\text{Mean\\_Squares\\_within}}{{Mean\\_Squares\\_Between}}\n",
    "\\end{equation}"
   ]
  },
  {
   "cell_type": "markdown",
   "id": "70aac0b2-8cc3-4fd6-96b6-54a4d9be0db7",
   "metadata": {},
   "source": [
    "where:\n",
    "- $\\text{Mean\\_Squares\\_within}$ is the sum of squares between groups divided by the degrees of freedom between groups.\n",
    "- $\\text{Mean\\_Squares\\_Between}$ is the sum of squares within groups divided by the degrees of freedom within groups.\n",
    "\n",
    "ANOVA can be used for various designs, such as one-way ANOVA for a single factor, two-way ANOVA for two factors, and so on.\n",
    " 1. **One-Way ANOVA F-test**: This F-test is used to compare the means of three or more groups to determine if there are significant differences among them. It assesses whether there is evidence to reject the null hypothesis that all group means are equal.\n",
    " 2. **Two-Way ANOVA F-test**: This F-test is used in the context of a two-way ANOVA, which involves two independent categorical factors. It examines the main effects of each factor as well as the interaction effect between the two factors."
   ]
  },
  {
   "cell_type": "code",
   "execution_count": 4,
   "id": "2a83f753-e3b6-46b6-9a49-9de72c8e90a3",
   "metadata": {},
   "outputs": [],
   "source": [
    "g1 = np.random.randint(5, 10, 5)\n",
    "g2 = np.random.randint(5, 10, 5)\n",
    "g3 = np.random.randint(5, 10, 5)"
   ]
  },
  {
   "cell_type": "code",
   "execution_count": 6,
   "id": "ffe1f19a-cfc5-4ff4-b97a-1f0f53841231",
   "metadata": {},
   "outputs": [
    {
     "name": "stdout",
     "output_type": "stream",
     "text": [
      "[9 9 6 6 5]\n",
      "[5 9 5 8 7]\n",
      "[9 6 6 6 5]\n"
     ]
    }
   ],
   "source": [
    "print(g1)\n",
    "print(g2)\n",
    "print(g3)"
   ]
  },
  {
   "cell_type": "code",
   "execution_count": 7,
   "id": "4989773d-ada8-408a-a89b-267706dd7b36",
   "metadata": {},
   "outputs": [
    {
     "name": "stdout",
     "output_type": "stream",
     "text": [
      "F-satatistics = 0.156\n",
      "P-value = 0.8576\n"
     ]
    }
   ],
   "source": [
    "f_stat, p_value= stats.f_oneway(g1, g2, g3)\n",
    "\n",
    "print(f\"F-satatistics = {f_stat:.3f}\")\n",
    "print(f\"P-value = {p_value:.4f}\")"
   ]
  },
  {
   "cell_type": "markdown",
   "id": "90f4443d-f670-4134-8c22-fdc5725628e3",
   "metadata": {},
   "source": [
    "### Interpreting F-test:\n",
    "- The F-statistic measures the ratio of the variation between groups to the variation within groups. A larger F-statistic indicates greater differences between the group means.\n",
    "- The p-value represents the probability of observing an F-statistic as extreme as the one calculated, assuming the null hypothesis is true. A small p-value (typically below a significance level such as 0.05) suggests rejecting the null hypothesis in favor of the alternative hypothesis."
   ]
  },
  {
   "cell_type": "markdown",
   "id": "e54653c2-7737-449d-9d97-09fcd908a0cc",
   "metadata": {},
   "source": [
    "### Visualizing ANOVA"
   ]
  },
  {
   "cell_type": "code",
   "execution_count": 8,
   "id": "e89a4056-55b3-428c-9971-e00d36f55325",
   "metadata": {},
   "outputs": [
    {
     "data": {
      "image/png": "[encoded data removed]",
      "text/plain": [
       "<Figure size 800x600 with 1 Axes>"
      ]
     },
     "metadata": {},
     "output_type": "display_data"
    }
   ],
   "source": [
    "import matplotlib.pyplot as plt\n",
    "\n",
    "# Combine the data into a single list\n",
    "data = [g1, g2, g3]\n",
    "\n",
    "# Create box plot\n",
    "plt.figure(figsize=(8, 6))\n",
    "plt.boxplot(data, labels=['Group 1', 'Group 2', 'Group 3'])\n",
    "plt.xlabel('Groups')\n",
    "plt.ylabel('Values')\n",
    "plt.title('Box Plot of Data')\n",
    "\n",
    "plt.show()"
   ]
  },
  {
   "cell_type": "code",
   "execution_count": null,
   "id": "29da20bc-38a5-4e17-b79f-e51a2a9927b5",
   "metadata": {},
   "outputs": [],
   "source": []
  }
 ],
 "metadata": {
  "kernelspec": {
   "display_name": "Python 3 (ipykernel)",
   "language": "python",
   "name": "python3"
  },
  "language_info": {
   "codemirror_mode": {
    "name": "ipython",
    "version": 3
   },
   "file_extension": ".py",
   "mimetype": "text/x-python",
   "name": "python",
   "nbconvert_exporter": "python",
   "pygments_lexer": "ipython3",
   "version": "3.12.2"
  }
 },
 "nbformat": 4,
 "nbformat_minor": 5
}
