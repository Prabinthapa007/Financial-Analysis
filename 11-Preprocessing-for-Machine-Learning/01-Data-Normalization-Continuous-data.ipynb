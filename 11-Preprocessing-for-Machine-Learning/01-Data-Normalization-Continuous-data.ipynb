{
 "cells": [
  {
   "cell_type": "code",
   "execution_count": 17,
   "id": "16d8663e-17b9-4363-9d61-8181bcc4037f",
   "metadata": {},
   "outputs": [],
   "source": [
    "import pandas as pd\n",
    "import sklearn\n",
    "from sklearn.preprocessing import (MinMaxScaler, StandardScaler)\n",
    "import numpy as np\n"
   ]
  },
  {
   "cell_type": "markdown",
   "id": "04d87ad9-2f92-4ab1-a369-c2bc9b27e760",
   "metadata": {},
   "source": [
    "**ETL (extract, transform, load) integration**: This involves extracting data from different sources, transforming it to meet the needs of the target system, and loading it into a target database or data warehouse. ETL tools are commonly used to automate this process, making it more efficient and less error-prone. Python has several powerful ETL tools like `Apache Nifi`, `Apache Airflow`, and `Apache Beam`. These tools allow developers to extract data from various sources, perform transformations, and load it into a target database or data warehouse."
   ]
  },
  {
   "cell_type": "markdown",
   "id": "b05ea6ea-2f51-470b-a82c-8595905b57fd",
   "metadata": {},
   "source": [
    "# Handling Data normalization"
   ]
  },
  {
   "cell_type": "markdown",
   "id": "9f43ca9e-a6cc-43f3-9466-60810fdf4ddc",
   "metadata": {},
   "source": [
    "\n",
    "Data normalization is the process of transforming data into a common scale or range, to eliminate differences in magnitude and make the data more comparable and interpretable. Normalization is an important step in data preprocessing, as it can improve the accuracy and performance of machine learning models and other data analysis techniques."
   ]
  },
  {
   "cell_type": "code",
   "execution_count": 2,
   "id": "87a4e32f-e777-435a-903c-b85a00047855",
   "metadata": {},
   "outputs": [],
   "source": [
    "data = pd.read_csv(\"C:\\\\Users\\\\Prabin\\\\clean_data.csv\")"
   ]
  },
  {
   "cell_type": "markdown",
   "id": "fcef5227-f6e6-459d-9c05-ab11402f90e5",
   "metadata": {},
   "source": [
    "## 1. Min-Max Normalization\n",
    "This method scales the data to a fixed range, typically between 0 and 1. The formula for min-max normalization is:\n",
    "\\begin{equation}\r\n",
    "x_{\\text{norm}} = \\frac{x - x_{\\text{min}}}{x_{\\text{max}} - x_{\\text{min}}}\r",
    "end{equation}]\r\n"
   ]
  },
  {
   "cell_type": "code",
   "execution_count": 3,
   "id": "cf707026-001f-4364-aff2-21acd75e90d8",
   "metadata": {},
   "outputs": [],
   "source": [
    "sales_min = data['sales'].min()\n",
    "sales_max = data['sales'].max()"
   ]
  },
  {
   "cell_type": "code",
   "execution_count": 4,
   "id": "f829f575-20b5-44b1-80f0-f17aa3a90007",
   "metadata": {},
   "outputs": [],
   "source": [
    "sales_normalization = (data['sales'] - sales_min) / (sales_max - sales_min)"
   ]
  },
  {
   "cell_type": "code",
   "execution_count": 5,
   "id": "ba8c43c3-263d-4b6b-ab51-d4f2c2ac358a",
   "metadata": {},
   "outputs": [
    {
     "data": {
      "text/plain": [
       "count    85870.000000\n",
       "mean         0.015259\n",
       "std          0.054357\n",
       "min          0.000000\n",
       "25%          0.000738\n",
       "50%          0.003694\n",
       "75%          0.011074\n",
       "max          1.000000\n",
       "Name: sales, dtype: float64"
      ]
     },
     "execution_count": 5,
     "metadata": {},
     "output_type": "execute_result"
    }
   ],
   "source": [
    "sales_normalization.describe()"
   ]
  },
  {
   "cell_type": "code",
   "execution_count": 6,
   "id": "ef1780bc-3185-4adc-8355-15e7c0642fab",
   "metadata": {},
   "outputs": [
    {
     "data": {
      "text/plain": [
       "count     85870.000000\n",
       "mean       5980.048970\n",
       "std       21302.453181\n",
       "min           0.000000\n",
       "25%         289.144572\n",
       "50%        1447.518085\n",
       "75%        4339.950965\n",
       "max      391900.008970\n",
       "Name: sales, dtype: float64"
      ]
     },
     "execution_count": 6,
     "metadata": {},
     "output_type": "execute_result"
    }
   ],
   "source": [
    "data['sales'].describe()"
   ]
  },
  {
   "cell_type": "markdown",
   "id": "451f4b87-e280-4fde-be28-d676a0272280",
   "metadata": {},
   "source": [
    "<br>"
   ]
  },
  {
   "cell_type": "markdown",
   "id": "abc9f8dd-2ef7-4da0-9c52-973b3c92f785",
   "metadata": {},
   "source": [
    "#### Using sklearn\n",
    "```python\n",
    "scaler = MinMaxScaler() \n",
    "scaler.fit(data['sales']) #\n",
    "scaler.transform(data['sales'])\n",
    "```"
   ]
  },
  {
   "cell_type": "code",
   "execution_count": 8,
   "id": "d05a58a0-bd52-498f-8e00-59a1e0aea57c",
   "metadata": {},
   "outputs": [],
   "source": [
    "scaler = MinMaxScaler() \n",
    "norm = scaler.fit_transform(data['sales'].values.reshape(-1, 1))"
   ]
  },
  {
   "cell_type": "code",
   "execution_count": 9,
   "id": "44167003-294f-42d3-8f50-03835f274ae9",
   "metadata": {},
   "outputs": [
    {
     "data": {
      "text/plain": [
       "array([[2.84810425e-03],\n",
       "       [6.30484573e-04],\n",
       "       [1.53688397e-03],\n",
       "       ...,\n",
       "       [3.96281792e-03],\n",
       "       [5.33952966e-03],\n",
       "       [5.06251583e-08]])"
      ]
     },
     "execution_count": 9,
     "metadata": {},
     "output_type": "execute_result"
    }
   ],
   "source": [
    "norm"
   ]
  },
  {
   "cell_type": "code",
   "execution_count": 10,
   "id": "534bb5d0-d92d-4e93-a5f6-e281ea796829",
   "metadata": {},
   "outputs": [
    {
     "name": "stdout",
     "output_type": "stream",
     "text": [
      "0.0\n",
      "1.0\n"
     ]
    }
   ],
   "source": [
    "print(norm.min())\n",
    "print(norm.max())"
   ]
  },
  {
   "cell_type": "markdown",
   "id": "b89584b2-b13b-42d9-b246-8f78d2d26a3a",
   "metadata": {},
   "source": [
    "## 2. Z-score Normalization"
   ]
  },
  {
   "cell_type": "code",
   "execution_count": 11,
   "id": "f2bfa683-9522-4543-a9d6-3ce549678a64",
   "metadata": {},
   "outputs": [
    {
     "data": {
      "text/plain": [
       "count    8.587000e+04\n",
       "mean    -9.681321e-18\n",
       "std      1.000000e+00\n",
       "min     -2.807211e-01\n",
       "25%     -2.671478e-01\n",
       "50%     -2.127704e-01\n",
       "75%     -7.699104e-02\n",
       "max      1.811622e+01\n",
       "Name: sales, dtype: float64"
      ]
     },
     "execution_count": 11,
     "metadata": {},
     "output_type": "execute_result"
    }
   ],
   "source": [
    "x_mean = data['sales'].mean()\n",
    "x_std = data['sales'].std()\n",
    "sales_norm = (data['sales'] - x_mean)/(x_std)\n",
    "sales_norm.describe()"
   ]
  },
  {
   "cell_type": "code",
   "execution_count": null,
   "id": "51e4e5c3-79b6-4957-af7e-fa678e57a335",
   "metadata": {},
   "outputs": [],
   "source": []
  },
  {
   "cell_type": "code",
   "execution_count": 12,
   "id": "e5b3a1ba-39ad-49bb-a32f-457f8bf360df",
   "metadata": {},
   "outputs": [
    {
     "name": "stdout",
     "output_type": "stream",
     "text": [
      "-0.0000\n",
      "1.0000\n"
     ]
    }
   ],
   "source": [
    "# Using Sklearn\n",
    "scaler = StandardScaler() \n",
    "\n",
    "\n",
    "norm = scaler.fit_transform(data['sales'].values.reshape(-1,1))\n",
    "print(f\"{norm.mean():.4f}\")\n",
    "print(f\"{norm.std():.4f}\")"
   ]
  },
  {
   "cell_type": "code",
   "execution_count": null,
   "id": "e6f00329-8327-4a6d-884b-28730054a20b",
   "metadata": {},
   "outputs": [],
   "source": []
  },
  {
   "cell_type": "markdown",
   "id": "221d8b3c-239c-493c-a41b-75d310c81246",
   "metadata": {},
   "source": [
    "## 3. Log transformation"
   ]
  },
  {
   "cell_type": "code",
   "execution_count": 13,
   "id": "838c76a8-d194-4a31-8576-fb5277d66667",
   "metadata": {},
   "outputs": [
    {
     "name": "stderr",
     "output_type": "stream",
     "text": [
      "C:\\Users\\hp\\AppData\\Local\\Programs\\Python\\Python312\\Lib\\site-packages\\pandas\\core\\arraylike.py:399: RuntimeWarning: divide by zero encountered in log\n",
      "  result = getattr(ufunc, method)(*inputs, **kwargs)\n"
     ]
    },
    {
     "data": {
      "text/plain": [
       "0    7.017660\n",
       "1    5.509740\n",
       "2    6.400764\n",
       "3    2.783431\n",
       "4    5.523882\n",
       "Name: sales, dtype: float64"
      ]
     },
     "execution_count": 13,
     "metadata": {},
     "output_type": "execute_result"
    }
   ],
   "source": [
    "norm = np.log(data['sales'])\n",
    "norm.head()"
   ]
  },
  {
   "cell_type": "code",
   "execution_count": null,
   "id": "e8257bf5-665a-4d1d-bef9-2b18d4dd004a",
   "metadata": {},
   "outputs": [],
   "source": []
  },
  {
   "cell_type": "markdown",
   "id": "a8f3284e-76be-4109-93e0-48ab0dcb5c04",
   "metadata": {},
   "source": [
    "## 4. Power Transformation"
   ]
  },
  {
   "cell_type": "code",
   "execution_count": 14,
   "id": "6ba1aaa1-97cf-4f8b-a73f-b188412f7b39",
   "metadata": {},
   "outputs": [],
   "source": [
    "power_factor = 0.5\n",
    "norm = np.sign(data['sales'])*np.power(np.abs(data['sales']), power_factor)\n"
   ]
  },
  {
   "cell_type": "code",
   "execution_count": 16,
   "id": "e92c23ae-19e7-4002-b36c-36be8c7b8aa5",
   "metadata": {},
   "outputs": [
    {
     "data": {
      "text/plain": [
       "count    85870.000000\n",
       "mean        51.291368\n",
       "std         57.872995\n",
       "min          0.000000\n",
       "25%         17.004252\n",
       "50%         38.046262\n",
       "75%         65.878304\n",
       "max        626.019176\n",
       "Name: sales, dtype: float64"
      ]
     },
     "execution_count": 16,
     "metadata": {},
     "output_type": "execute_result"
    }
   ],
   "source": [
    "norm.describe()"
   ]
  },
  {
   "cell_type": "code",
   "execution_count": null,
   "id": "48872b52-571d-4e9f-80fd-cc13d4f65ffc",
   "metadata": {},
   "outputs": [],
   "source": []
  }
 ],
 "metadata": {
  "kernelspec": {
   "display_name": "Python 3 (ipykernel)",
   "language": "python",
   "name": "python3"
  },
  "language_info": {
   "codemirror_mode": {
    "name": "ipython",
    "version": 3
   },
   "file_extension": ".py",
   "mimetype": "text/x-python",
   "name": "python",
   "nbconvert_exporter": "python",
   "pygments_lexer": "ipython3",
   "version": "3.12.2"
  }
 },
 "nbformat": 4,
 "nbformat_minor": 5
}
