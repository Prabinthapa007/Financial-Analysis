{
 "cells": [
  {
   "cell_type": "code",
   "execution_count": 2,
   "id": "db98c4ad-bea9-48a9-b639-b775f37d707c",
   "metadata": {},
   "outputs": [],
   "source": [
    "import pandas as pd"
   ]
  },
  {
   "cell_type": "markdown",
   "id": "4c283b64-94ba-493b-a59b-c222a09c9dd5",
   "metadata": {},
   "source": [
    "# Data Integration"
   ]
  },
  {
   "cell_type": "code",
   "execution_count": null,
   "id": "a1df82cb-581a-4289-9ac4-bd1b1ce34581",
   "metadata": {},
   "outputs": [],
   "source": []
  },
  {
   "cell_type": "markdown",
   "id": "e2d0e2e2-ec81-412d-8baa-7a60f26ff63f",
   "metadata": {},
   "source": [
    "### Concatenation"
   ]
  },
  {
   "cell_type": "code",
   "execution_count": 8,
   "id": "3be4ccfa-d4cc-46ec-b703-ccb3ab2781f4",
   "metadata": {},
   "outputs": [],
   "source": [
    "df1 = pd.DataFrame({\n",
    "    'A' : [1, 4, 8, 12],\n",
    "    'B' : ['a', 'n', 'r', 'o']\n",
    "})\n",
    "df2 = pd.DataFrame({\n",
    "    'A' : [0, 2, 3, 9],\n",
    "    'C' : ['b', 'd', 'e', 'f']\n",
    "})"
   ]
  },
  {
   "cell_type": "markdown",
   "id": "a19c3f94-4bd1-4e90-9c3f-d38cf8b90d4c",
   "metadata": {},
   "source": [
    "#### row wise concatenation"
   ]
  },
  {
   "cell_type": "code",
   "execution_count": 9,
   "id": "221a75d2-f4e4-42dd-9034-fa3b70df1556",
   "metadata": {},
   "outputs": [
    {
     "data": {
      "text/html": [
       "<div>\n",
       "<style scoped>\n",
       "    .dataframe tbody tr th:only-of-type {\n",
       "        vertical-align: middle;\n",
       "    }\n",
       "\n",
       "    .dataframe tbody tr th {\n",
       "        vertical-align: top;\n",
       "    }\n",
       "\n",
       "    .dataframe thead th {\n",
       "        text-align: right;\n",
       "    }\n",
       "</style>\n",
       "<table border=\"1\" class=\"dataframe\">\n",
       "  <thead>\n",
       "    <tr style=\"text-align: right;\">\n",
       "      <th></th>\n",
       "      <th>A</th>\n",
       "      <th>B</th>\n",
       "      <th>C</th>\n",
       "    </tr>\n",
       "  </thead>\n",
       "  <tbody>\n",
       "    <tr>\n",
       "      <th>0</th>\n",
       "      <td>1</td>\n",
       "      <td>a</td>\n",
       "      <td>NaN</td>\n",
       "    </tr>\n",
       "    <tr>\n",
       "      <th>1</th>\n",
       "      <td>4</td>\n",
       "      <td>n</td>\n",
       "      <td>NaN</td>\n",
       "    </tr>\n",
       "    <tr>\n",
       "      <th>2</th>\n",
       "      <td>8</td>\n",
       "      <td>r</td>\n",
       "      <td>NaN</td>\n",
       "    </tr>\n",
       "    <tr>\n",
       "      <th>3</th>\n",
       "      <td>12</td>\n",
       "      <td>o</td>\n",
       "      <td>NaN</td>\n",
       "    </tr>\n",
       "    <tr>\n",
       "      <th>0</th>\n",
       "      <td>0</td>\n",
       "      <td>NaN</td>\n",
       "      <td>b</td>\n",
       "    </tr>\n",
       "    <tr>\n",
       "      <th>1</th>\n",
       "      <td>2</td>\n",
       "      <td>NaN</td>\n",
       "      <td>d</td>\n",
       "    </tr>\n",
       "    <tr>\n",
       "      <th>2</th>\n",
       "      <td>3</td>\n",
       "      <td>NaN</td>\n",
       "      <td>e</td>\n",
       "    </tr>\n",
       "    <tr>\n",
       "      <th>3</th>\n",
       "      <td>9</td>\n",
       "      <td>NaN</td>\n",
       "      <td>f</td>\n",
       "    </tr>\n",
       "  </tbody>\n",
       "</table>\n",
       "</div>"
      ],
      "text/plain": [
       "    A    B    C\n",
       "0   1    a  NaN\n",
       "1   4    n  NaN\n",
       "2   8    r  NaN\n",
       "3  12    o  NaN\n",
       "0   0  NaN    b\n",
       "1   2  NaN    d\n",
       "2   3  NaN    e\n",
       "3   9  NaN    f"
      ]
     },
     "execution_count": 9,
     "metadata": {},
     "output_type": "execute_result"
    }
   ],
   "source": [
    "row_concat = pd.concat([df1, df2], axis = 0)\n",
    "row_concat"
   ]
  },
  {
   "cell_type": "markdown",
   "id": "d7cc0b3f-2132-4be1-9da0-e53e3a54e221",
   "metadata": {},
   "source": [
    "#### column wise concatenation"
   ]
  },
  {
   "cell_type": "code",
   "execution_count": 11,
   "id": "7067a18c-3f4c-4530-9480-33e8c8a3b5fb",
   "metadata": {},
   "outputs": [
    {
     "data": {
      "text/html": [
       "<div>\n",
       "<style scoped>\n",
       "    .dataframe tbody tr th:only-of-type {\n",
       "        vertical-align: middle;\n",
       "    }\n",
       "\n",
       "    .dataframe tbody tr th {\n",
       "        vertical-align: top;\n",
       "    }\n",
       "\n",
       "    .dataframe thead th {\n",
       "        text-align: right;\n",
       "    }\n",
       "</style>\n",
       "<table border=\"1\" class=\"dataframe\">\n",
       "  <thead>\n",
       "    <tr style=\"text-align: right;\">\n",
       "      <th></th>\n",
       "      <th>A</th>\n",
       "      <th>B</th>\n",
       "      <th>A</th>\n",
       "      <th>C</th>\n",
       "    </tr>\n",
       "  </thead>\n",
       "  <tbody>\n",
       "    <tr>\n",
       "      <th>0</th>\n",
       "      <td>1</td>\n",
       "      <td>a</td>\n",
       "      <td>0</td>\n",
       "      <td>b</td>\n",
       "    </tr>\n",
       "    <tr>\n",
       "      <th>1</th>\n",
       "      <td>4</td>\n",
       "      <td>n</td>\n",
       "      <td>2</td>\n",
       "      <td>d</td>\n",
       "    </tr>\n",
       "    <tr>\n",
       "      <th>2</th>\n",
       "      <td>8</td>\n",
       "      <td>r</td>\n",
       "      <td>3</td>\n",
       "      <td>e</td>\n",
       "    </tr>\n",
       "    <tr>\n",
       "      <th>3</th>\n",
       "      <td>12</td>\n",
       "      <td>o</td>\n",
       "      <td>9</td>\n",
       "      <td>f</td>\n",
       "    </tr>\n",
       "  </tbody>\n",
       "</table>\n",
       "</div>"
      ],
      "text/plain": [
       "    A  B  A  C\n",
       "0   1  a  0  b\n",
       "1   4  n  2  d\n",
       "2   8  r  3  e\n",
       "3  12  o  9  f"
      ]
     },
     "execution_count": 11,
     "metadata": {},
     "output_type": "execute_result"
    }
   ],
   "source": [
    "col_concat = pd.concat([df1, df2], axis = 1)\n",
    "col_concat"
   ]
  },
  {
   "cell_type": "markdown",
   "id": "2d06c98d-5168-4b7d-bdfb-30beceae18a3",
   "metadata": {},
   "source": [
    "<br>"
   ]
  },
  {
   "cell_type": "markdown",
   "id": "dcccf7d9-6fb4-44f1-96c6-468f30853cd3",
   "metadata": {},
   "source": [
    "### Merging\n",
    "\n",
    "merge() Syntax in Pandas\n",
    "Basic Syntax\n",
    "```python\n",
    "pd.merge(left_data, right_data, on=None, how='inner', left_on=None, right_on=None, sort=False)\n",
    "```\n",
    "Here, \n",
    "- `left`: specifies the left DataFrame to be merged\n",
    "- `right`: specifies the right DataFrame to be merged\n",
    "- `on` (optional): specifies column(s) to join on\n",
    "- `how` (optional): specifies the type of join to perform\n",
    "- `left_on` (optional): specifies column(s) from the left DataFrame to use as key(s) for merging\n",
    "- `right_on` (optional): specifies column(s) from the right DataFrame to use as key(s) for merging\n",
    "- `sort` (optional): if True, sort the result DataFrame by the join keys"
   ]
  },
  {
   "cell_type": "code",
   "execution_count": 12,
   "id": "674dd2d6-17b0-435b-a467-3f6513db04f5",
   "metadata": {},
   "outputs": [
    {
     "name": "stdout",
     "output_type": "stream",
     "text": [
      "  EmployeeID         Name DeptID1 DeptID2 DeptName\n",
      "0       E001     John Doe    D001    D001    Sales\n",
      "1       E002   Jane Smith    D003    D003    Admin\n",
      "2       E003  Peter Brown    D001    D001    Sales\n",
      "3       E004  Tom Johnson    D002    D002       HR\n"
     ]
    }
   ],
   "source": [
    "data1 = {\n",
    "    'EmployeeID': ['E001', 'E002', 'E003', 'E004', 'E005'],\n",
    "    'Name': ['John Doe', 'Jane Smith', 'Peter Brown', 'Tom Johnson', 'Rita Patel'],\n",
    "    'DeptID1': ['D001', 'D003', 'D001', 'D002', 'D006'],\n",
    "}\n",
    "employees = pd.DataFrame(data1)\n",
    "\n",
    "data2 = {\n",
    "    'DeptID2': ['D001', 'D002', 'D003', 'D004'],\n",
    "    'DeptName': ['Sales', 'HR', 'Admin', 'Marketing']\n",
    "}\n",
    "\n",
    "departments = pd.DataFrame(data2)\n",
    "\n",
    "merged_df = pd.merge(left=employees, right=departments, how='inner', left_on='DeptID1', right_on='DeptID2')\n",
    "print(merged_df)"
   ]
  },
  {
   "cell_type": "code",
   "execution_count": 13,
   "id": "9e27eccf-c4ae-4a51-8aee-8478f58765ae",
   "metadata": {},
   "outputs": [
    {
     "name": "stdout",
     "output_type": "stream",
     "text": [
      "  EmployeeID         Name DeptID1 DeptID2   DeptName\n",
      "0       E001     John Doe    D001    D001      Sales\n",
      "1       E003  Peter Brown    D001    D001      Sales\n",
      "2       E004  Tom Johnson    D002    D002         HR\n",
      "3       E002   Jane Smith    D003    D003      Admin\n",
      "4        NaN          NaN     NaN    D004  Marketing\n",
      "5       E005   Rita Patel    D006     NaN        NaN\n"
     ]
    }
   ],
   "source": [
    "data1 = {\n",
    "    'EmployeeID': ['E001', 'E002', 'E003', 'E004', 'E005'],\n",
    "    'Name': ['John Doe', 'Jane Smith', 'Peter Brown', 'Tom Johnson', 'Rita Patel'],\n",
    "    'DeptID1': ['D001', 'D003', 'D001', 'D002', 'D006'],\n",
    "}\n",
    "employees = pd.DataFrame(data1)\n",
    "\n",
    "data2 = {\n",
    "    'DeptID2': ['D001', 'D002', 'D003', 'D004'],\n",
    "    'DeptName': ['Sales', 'HR', 'Admin', 'Marketing']\n",
    "}\n",
    "\n",
    "departments = pd.DataFrame(data2)\n",
    "\n",
    "\n",
    "merged_df = pd.merge(left=employees, right=departments, how='outer', left_on='DeptID1', right_on='DeptID2')\n",
    "print(merged_df)"
   ]
  },
  {
   "cell_type": "markdown",
   "id": "1f27331c-3366-4d5e-999c-0de95a29f417",
   "metadata": {},
   "source": [
    "<br>"
   ]
  },
  {
   "cell_type": "markdown",
   "id": "aadccdaf-7f32-426e-88bb-e0ed8c735c75",
   "metadata": {},
   "source": [
    "### Join"
   ]
  },
  {
   "cell_type": "code",
   "execution_count": 17,
   "id": "ccbac356-06d6-4f3c-a57f-996bec60de22",
   "metadata": {},
   "outputs": [
    {
     "data": {
      "text/html": [
       "<div>\n",
       "<style scoped>\n",
       "    .dataframe tbody tr th:only-of-type {\n",
       "        vertical-align: middle;\n",
       "    }\n",
       "\n",
       "    .dataframe tbody tr th {\n",
       "        vertical-align: top;\n",
       "    }\n",
       "\n",
       "    .dataframe thead th {\n",
       "        text-align: right;\n",
       "    }\n",
       "</style>\n",
       "<table border=\"1\" class=\"dataframe\">\n",
       "  <thead>\n",
       "    <tr style=\"text-align: right;\">\n",
       "      <th></th>\n",
       "      <th>EmployeeID</th>\n",
       "      <th>Name</th>\n",
       "      <th>DeptID1</th>\n",
       "      <th>DeptID2</th>\n",
       "      <th>DeptName</th>\n",
       "    </tr>\n",
       "  </thead>\n",
       "  <tbody>\n",
       "    <tr>\n",
       "      <th>x</th>\n",
       "      <td>E001</td>\n",
       "      <td>John Doe</td>\n",
       "      <td>D001</td>\n",
       "      <td>D001</td>\n",
       "      <td>Sales</td>\n",
       "    </tr>\n",
       "    <tr>\n",
       "      <th>y</th>\n",
       "      <td>E002</td>\n",
       "      <td>Jane Smith</td>\n",
       "      <td>D003</td>\n",
       "      <td>D002</td>\n",
       "      <td>HR</td>\n",
       "    </tr>\n",
       "    <tr>\n",
       "      <th>z</th>\n",
       "      <td>E003</td>\n",
       "      <td>Peter Brown</td>\n",
       "      <td>D001</td>\n",
       "      <td>D003</td>\n",
       "      <td>Admin</td>\n",
       "    </tr>\n",
       "  </tbody>\n",
       "</table>\n",
       "</div>"
      ],
      "text/plain": [
       "  EmployeeID         Name DeptID1 DeptID2 DeptName\n",
       "x       E001     John Doe    D001    D001    Sales\n",
       "y       E002   Jane Smith    D003    D002       HR\n",
       "z       E003  Peter Brown    D001    D003    Admin"
      ]
     },
     "execution_count": 17,
     "metadata": {},
     "output_type": "execute_result"
    }
   ],
   "source": [
    "data1 = {\n",
    "    'EmployeeID': ['E001', 'E002', 'E003', 'E004', 'E005'],\n",
    "    'Name': ['John Doe', 'Jane Smith', 'Peter Brown', 'Tom Johnson', 'Rita Patel'],\n",
    "    'DeptID1': ['D001', 'D003', 'D001', 'D002', 'D006']}\n",
    "employees = pd.DataFrame(data1,  index=['x', 'y', 'z', 'w', 'e'])\n",
    "\n",
    "data2 = {\n",
    "    'DeptID2': ['D001', 'D002', 'D003', 'D004'],\n",
    "    'DeptName': ['Sales', 'HR', 'Admin', 'Marketing']\n",
    "}\n",
    "\n",
    "departments = pd.DataFrame(data2, index=['x', 'y', 'z', 'a'])\n",
    "\n",
    "joined = employees.join(departments, how='inner')\n",
    "joined"
   ]
  },
  {
   "cell_type": "markdown",
   "id": "a906b631-5ba8-486d-bb37-90cb0c2493e2",
   "metadata": {},
   "source": [
    "<br>"
   ]
  },
  {
   "cell_type": "markdown",
   "id": "0248ed5d-1ca9-452d-a8de-39dcf6d0b8ef",
   "metadata": {},
   "source": [
    "### Stack"
   ]
  },
  {
   "cell_type": "code",
   "execution_count": 19,
   "id": "6b1c0242-1a78-45f1-88bd-2e42ef77bc0e",
   "metadata": {},
   "outputs": [
    {
     "data": {
      "text/plain": [
       "x  EmployeeID           E001\n",
       "   Name             John Doe\n",
       "   DeptID1              D001\n",
       "y  EmployeeID           E002\n",
       "   Name           Jane Smith\n",
       "   DeptID1              D003\n",
       "z  EmployeeID           E003\n",
       "   Name          Peter Brown\n",
       "   DeptID1              D001\n",
       "w  EmployeeID           E004\n",
       "   Name          Tom Johnson\n",
       "   DeptID1              D002\n",
       "e  EmployeeID           E005\n",
       "   Name           Rita Patel\n",
       "   DeptID1              D006\n",
       "dtype: object"
      ]
     },
     "execution_count": 19,
     "metadata": {},
     "output_type": "execute_result"
    }
   ],
   "source": [
    "data1 = {\n",
    "    'EmployeeID': ['E001', 'E002', 'E003', 'E004', 'E005'],\n",
    "    'Name': ['John Doe', 'Jane Smith', 'Peter Brown', 'Tom Johnson', 'Rita Patel'],\n",
    "    'DeptID1': ['D001', 'D003', 'D001', 'D002', 'D006']}\n",
    "employees = pd.DataFrame(data1,  index=['x', 'y', 'z', 'w', 'e'])\n",
    "\n",
    "employees.stack()"
   ]
  },
  {
   "cell_type": "code",
   "execution_count": 25,
   "id": "0b3e70b8-4fa8-47c9-b0cf-982df6c1dad4",
   "metadata": {},
   "outputs": [
    {
     "data": {
      "text/plain": [
       "<Axes: >"
      ]
     },
     "execution_count": 25,
     "metadata": {},
     "output_type": "execute_result"
    },
    {
     "data": {
      "image/png": "[encoded data removed]",
      "text/plain": [
       "<Figure size 640x480 with 1 Axes>"
      ]
     },
     "metadata": {},
     "output_type": "display_data"
    }
   ],
   "source": [
    "data1 = {\n",
    "    'EmployeeID': [1, 2, 3, 4, 5],\n",
    "    'Salary': [2000, 3000, 4000, 5000, 3000],\n",
    "    'bonus' : [1000, 1000, 1000, 1000, 1000]}\n",
    "employees = pd.DataFrame(data1,  index=['x', 'y', 'z', 'w', 'e'])\n",
    "stack = employees.stack()\n",
    "stack.plot.bar()"
   ]
  },
  {
   "cell_type": "code",
   "execution_count": null,
   "id": "0c147d49-3840-44b1-b819-d9ad1b5c61b0",
   "metadata": {},
   "outputs": [],
   "source": []
  }
 ],
 "metadata": {
  "kernelspec": {
   "display_name": "Python 3 (ipykernel)",
   "language": "python",
   "name": "python3"
  },
  "language_info": {
   "codemirror_mode": {
    "name": "ipython",
    "version": 3
   },
   "file_extension": ".py",
   "mimetype": "text/x-python",
   "name": "python",
   "nbconvert_exporter": "python",
   "pygments_lexer": "ipython3",
   "version": "3.12.2"
  }
 },
 "nbformat": 4,
 "nbformat_minor": 5
}
