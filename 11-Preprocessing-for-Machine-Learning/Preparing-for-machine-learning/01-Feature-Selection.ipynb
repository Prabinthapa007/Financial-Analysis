{
 "cells": [
  {
   "cell_type": "code",
   "execution_count": 2,
   "id": "054ef2eb-009d-4dcb-a562-7818613d462e",
   "metadata": {},
   "outputs": [],
   "source": [
    "from sklearn.datasets import make_classification\n",
    "from sklearn.model_selection import train_test_split\n",
    "\n",
    "from sklearn.linear_model import LogisticRegression"
   ]
  },
  {
   "cell_type": "markdown",
   "id": "fdf8f62c-d829-4bc5-b301-98a484d06d0b",
   "metadata": {},
   "source": [
    "# Feature Selection"
   ]
  },
  {
   "cell_type": "markdown",
   "id": "5c54e107-c17b-4990-98ba-e8aa259b2b68",
   "metadata": {},
   "source": [
    "Feature selection is the process of selecting a subset of relevant and informative features from a larger set of available features for use in machine learning algorithms. The aim is to reduce the dimensionality of the data and improve the accuracy and efficiency of the model.\n",
    "\n",
    "There are several techniques of feature selection. Let's take a look into a two most popular techniques."
   ]
  },
  {
   "cell_type": "markdown",
   "id": "31dc8731-b357-40aa-b247-7400a6002d97",
   "metadata": {},
   "source": [
    "## Forward Feature Selection"
   ]
  },
  {
   "cell_type": "markdown",
   "id": "2f932a63-0732-40a9-8f1c-a18c2b307738",
   "metadata": {},
   "source": [
    "Forward feature selection involves starting with an empty set of features and iteratively adding one feature at a time based on their individual performance in predicting the outcome variable. This process continues until a stopping criterion is met, such as reaching a predefined number of features or a specific level of accuracy."
   ]
  },
  {
   "cell_type": "code",
   "execution_count": 3,
   "id": "13e7c1f2-7b87-4c12-9c51-417f642117e1",
   "metadata": {},
   "outputs": [],
   "source": [
    "# Creating custom dataset for testing\n",
    "X, y = make_classification(\n",
    "    n_samples = 800, # total rows\n",
    "    n_features= 10, # total columns\n",
    "    n_informative = 5, # informative features\n",
    "    n_redundant = 0,\n",
    "    random_state = 42\n"
   ]
  },
  {
   "cell_type": "code",
   "execution_count": 4,
   "id": "4801755d-db9f-4e63-ac64-80c85350e1a2",
   "metadata": {},
   "outputs": [],
   "source": [
    "X_train, X_test, y_train, y_test = train_test_split(\n",
    "    X, y, test_size=0.2, stratify=y, random_state=42\n",
    ")"
   ]
  },
  {
   "cell_type": "code",
   "execution_count": 5,
   "id": "8af96fe2-eb6d-4ee4-b47f-52c172735a08",
   "metadata": {},
   "outputs": [
    {
     "data": {
      "text/plain": [
       "array([[-1.36640003, -0.32488362,  0.65893535, ...,  1.0604942 ,\n",
       "        -0.02333372, -0.18402613],\n",
       "       [-0.0462497 , -0.73132461, -0.34477745, ..., -0.0687072 ,\n",
       "        -0.83922872, -0.28752381],\n",
       "       [-1.67506644, -0.89554588, -0.5129346 , ..., -0.49896076,\n",
       "         1.55535909, -0.25275679],\n",
       "       ...,\n",
       "       [ 0.21992435,  1.30540243,  1.29242937, ..., -0.71444768,\n",
       "         1.32562275, -2.1280591 ],\n",
       "       [ 1.46819807, -1.67579178,  0.01398182, ...,  0.86466231,\n",
       "         0.81370229, -1.31381612],\n",
       "       [-1.49779863, -0.16046355,  0.077014  , ..., -0.43002836,\n",
       "         2.33283789, -1.45072092]])"
      ]
     },
     "execution_count": 5,
     "metadata": {},
     "output_type": "execute_result"
    }
   ],
   "source": [
    "X_train"
   ]
  },
  {
   "cell_type": "code",
   "execution_count": 7,
   "id": "7014e697-8714-4627-8ffb-6ac75a2e31da",
   "metadata": {},
   "outputs": [
    {
     "name": "stdout",
     "output_type": "stream",
     "text": [
      "Selected Feature (forward):  [9] | Score:  0.66875\n",
      "Selected Feature (forward):  [9, 0] | Score:  0.6125\n",
      "Selected Feature (forward):  [9, 0, 5] | Score:  0.7375\n",
      "Selected Feature (forward):  [9, 0, 5, 8] | Score:  0.7875\n",
      "Selected Feature (forward):  [9, 0, 5, 8, 0] | Score:  0.775\n",
      "Selected Feature (forward):  [9, 0, 5, 8, 0, 1] | Score:  0.775\n",
      "Selected Feature (forward):  [9, 0, 5, 8, 0, 1, 2] | Score:  0.775\n",
      "Selected Feature (forward):  [9, 0, 5, 8, 0, 1, 2, 3] | Score:  0.76875\n",
      "Selected Feature (forward):  [9, 0, 5, 8, 0, 1, 2, 3, 4] | Score:  0.76875\n",
      "Selected Feature (forward):  [9, 0, 5, 8, 0, 1, 2, 3, 4, 6] | Score:  0.76875\n"
     ]
    }
   ],
   "source": [
    "selected_feature= [] \n",
    "for i in range(X_train.shape[1]):\n",
    "    best_acc = 0\n",
    "    best_feature = None\n",
    "    for j in range(X_train.shape[1]):\n",
    "        if j not in selected_feature:\n",
    "            features = selected_feature + [j]\n",
    "            model = LogisticRegression()\n",
    "            model.fit(X_train[:, features], y_train)\n",
    "            accuracy = model.score(X_test[:, features], y_test)\n",
    "\n",
    "        if accuracy > best_acc:\n",
    "            best_acc = accuracy\n",
    "            best_feature = j\n",
    "    selected_feature.append(best_feature)\n",
    "\n",
    "    print(\"Selected Feature (forward): \", selected_feature, \"| Score: \", accuracy)"
   ]
  },
  {
   "cell_type": "code",
   "execution_count": 39,
   "id": "0ecfc66b-f177-416b-a1b0-9f0bba279b5a",
   "metadata": {},
   "outputs": [
    {
     "data": {
      "text/plain": [
       "array([[ 0.59569725,  3.25494185, -0.01563761,  3.86239664],\n",
       "       [ 0.20289324, -1.9777969 , -3.80487368, -2.75566887],\n",
       "       [ 1.6694547 ,  0.81238553,  2.43884712,  1.37952235],\n",
       "       ...,\n",
       "       [-0.35891874,  0.72486005,  2.77181538,  1.33017686],\n",
       "       [ 1.70220879, -0.02961941,  1.58535027, -1.19160029],\n",
       "       [ 1.49761512,  0.43877996,  2.07032359,  1.46458697]])"
      ]
     },
     "execution_count": 39,
     "metadata": {},
     "output_type": "execute_result"
    }
   ],
   "source": [
    "sliced_array = X[:, [4, 8, 2, 0]]\n",
    "sliced_array"
   ]
  },
  {
   "cell_type": "markdown",
   "id": "c18d9ab1-45ce-456c-ac2d-9fe341eabbde",
   "metadata": {},
   "source": [
    "<br>"
   ]
  },
  {
   "cell_type": "markdown",
   "id": "b4a658f0-094e-49b5-b6e1-7894f5e4c1a7",
   "metadata": {},
   "source": [
    "## Backward Feature Selection"
   ]
  },
  {
   "cell_type": "markdown",
   "id": "302f36d0-5519-4958-9f1c-c8fa4c0e6845",
   "metadata": {},
   "source": [
    "Backward feature selection, on the other hand, starts with all available features and iteratively removes one feature at a time based on their individual performance in predicting the outcome variable. This process continues until a stopping criterion is met, such as reaching a predefined number of features or a specific level of accuracy."
   ]
  },
  {
   "cell_type": "code",
   "execution_count": 33,
   "id": "16226f53-5bff-4acf-8b7f-924fe88429b0",
   "metadata": {},
   "outputs": [],
   "source": [
    "X, y = make_classification(\n",
    "    n_samples=1000, \n",
    "    n_features=10,\n",
    "    n_informative=5,\n",
    "    n_redundant=0,\n",
    "    random_state=42\n",
    ")"
   ]
  },
  {
   "cell_type": "code",
   "execution_count": 34,
   "id": "db457e25-d21d-4006-88b7-4b9d67140ca9",
   "metadata": {},
   "outputs": [],
   "source": [
    "X_train, X_test, y_train, y_test = train_test_split(X, y, test_size=0.2, stratify=y, random_state=42)"
   ]
  },
  {
   "cell_type": "code",
   "execution_count": 35,
   "id": "fbdb9094-2111-4c10-9ff3-ae06e346ee85",
   "metadata": {},
   "outputs": [
    {
     "name": "stdout",
     "output_type": "stream",
     "text": [
      "Selected Feature (Backward):  [0, 1, 3, 4, 5, 6, 7, 8, 9] | Score:  0.825\n",
      "Selected Feature (Backward):  [0, 1, 3, 4, 5, 6, 7, 9] | Score:  0.755\n",
      "Selected Feature (Backward):  [0, 1, 3, 5, 6, 7, 9] | Score:  0.685\n",
      "Selected Feature (Backward):  [0, 1, 3, 5, 6, 9] | Score:  0.62\n",
      "Selected Feature (Backward):  [1, 3, 5, 6, 9] | Score:  0.395\n",
      "Selected Feature (Backward):  [1, 3, 5, 9] | Score:  0.395\n",
      "Selected Feature (Backward):  [1, 3, 5] | Score:  0.36\n",
      "Selected Feature (Backward):  [1, 5] | Score:  0.41\n",
      "Selected Feature (Backward):  [1] | Score:  0.4\n"
     ]
    }
   ],
   "source": [
    "selected_feature= list(range(X_train.shape[1]))\n",
    "for i in range(X_train.shape[1] -1):\n",
    "    worst_acc = 1\n",
    "    worst_feature = None\n",
    "    \n",
    "    for j in selected_feature:\n",
    "        \n",
    "        features = selected_feature.copy()\n",
    "        features.remove(j)\n",
    "        \n",
    "        model = LogisticRegression()\n",
    "        model.fit(X_train[:, features], y_train)\n",
    "        accuracy = model.score(X_test[:, features], y_test)\n",
    "\n",
    "        if accuracy < worst_acc:\n",
    "            worst_acc = accuracy\n",
    "            worst_feature = j\n",
    "            \n",
    "    selected_feature.remove(worst_feature)\n",
    "\n",
    "    print(\"Selected Feature (Backward): \", selected_feature, \"| Score: \", accuracy)"
   ]
  },
  {
   "cell_type": "code",
   "execution_count": null,
   "id": "a209ea71-93af-4bfc-a348-25e94ce4d6be",
   "metadata": {},
   "outputs": [],
   "source": []
  },
  {
   "cell_type": "code",
   "execution_count": null,
   "id": "1c6d0259-0668-42f8-92de-d03e72f744c6",
   "metadata": {},
   "outputs": [],
   "source": []
  }
 ],
 "metadata": {
  "kernelspec": {
   "display_name": "Python 3 (ipykernel)",
   "language": "python",
   "name": "python3"
  },
  "language_info": {
   "codemirror_mode": {
    "name": "ipython",
    "version": 3
   },
   "file_extension": ".py",
   "mimetype": "text/x-python",
   "name": "python",
   "nbconvert_exporter": "python",
   "pygments_lexer": "ipython3",
   "version": "3.12.2"
  }
 },
 "nbformat": 4,
 "nbformat_minor": 5
}
