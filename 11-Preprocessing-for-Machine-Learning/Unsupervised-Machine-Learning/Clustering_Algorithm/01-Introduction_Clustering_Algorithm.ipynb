{
 "cells": [
  {
   "cell_type": "markdown",
   "id": "3895b97c-62f8-4977-ac77-b06d97c73c55",
   "metadata": {},
   "source": [
    "# Introduction to Clustering"
   ]
  },
  {
   "cell_type": "markdown",
   "id": "a2aa5788-8391-4031-ae7d-401de78b6d08",
   "metadata": {},
   "source": [
    "Suppose that Shila is visiting a zoo for the first time, and she does not know much about animals. While observing various animals, she sees some living in water, some with wings, some living in trees, and some underground. Although she does not precisely know what animals they are, she has observed some similarities and differences. With the similarity she noted, she was able to group various animals, as shown in the figure below.\n",
    "\n",
    "<div align=\"center\">\n",
    "    <figure>\n",
    "<p><img src=\"images/f1.jpg\" width=\"300px\"  ></p>\n",
    "     <figcaption>Figure 1: Grouping of animals in zoo</figcaption>\n",
    "    </figure>\n",
    "</div>\n",
    "\n",
    "The task that Shila performed is known as clustering. To formally put it, clustering is the process of partitioning the observations into groups or clusters such that observations in the same cluster tend to be similar, and those in the different clusters tend to be dissimilar."
   ]
  },
  {
   "cell_type": "markdown",
   "id": "7802abf6-f569-4d0e-b232-85c801909bbe",
   "metadata": {},
   "source": [
    "<br>"
   ]
  },
  {
   "cell_type": "markdown",
   "id": "e47e25cc-ad7f-4f07-96c5-5c09a3f751e5",
   "metadata": {},
   "source": [
    "### Clustering is an Unsupervised Learning\n",
    "\n",
    "Clustering seems similar to classification. In both classification and clustering, we categorize a given data point as belonging to some group/class. But unlike classification where we have the true label to guide the model training process, in clustering we do not have the true label to guide or supervise the training. Therefore, clustering is an unsupervised machine learning method."
   ]
  },
  {
   "cell_type": "markdown",
   "id": "058f5c64-233e-4975-8e04-f3e5ba0ff479",
   "metadata": {},
   "source": [
    "### Clustering in Machine Learning\n",
    "\n",
    "<div align=\"center\">\n",
    "    <figure>\n",
    "<p><img src=\"images/f2.png\" width=500px  ></p>\n",
    "     <figcaption>Figure 2: Clustering on a dataset. (a) dataset to apply clustering algorithm. (b) dataset with clusters assigned to each data points.</figcaption>\n",
    "    </figure>\n",
    "</div>\n",
    "\n",
    "The above Figure 2(a) shows how our data looks like before applying any clustering algorithm. Figure 2(b) on the right shows our desired outcome after applying a clustering algorithm. In the next chapter, you will learn to synthesize a dataset, as shown in Figure 2(a), and apply a clustering algorithm on it so that data can be grouped as shown in Figure 2(b).\n",
    "\n",
    "In real-world applications, most of the observations involve a large number of features $(x_1, x_2, \\dots , x_n)$. So it is difficult to plot and visualize the dataset, but the underlying intuition is the same.\n"
   ]
  },
  {
   "cell_type": "markdown",
   "id": "41c68ada-650a-48fa-99ac-1f32102eb504",
   "metadata": {},
   "source": [
    "### Types of Clustering Algorithms\n",
    "\n",
    "Clustering algorithm based on their clustering approaches can be divided into following categories:\n",
    "\n",
    "1. **Partitioning-Based Clustering:**  \n",
    "Partitioning based clustering algorithms work by subdividing the data sets into some number of clusters (_K_). The clusters are generally identified by the centroid points such as the mean. A data point belongs to a cluster whose centroid is closest to it, i.e. centroid with minimum distance. With partition based clustering, the data shown in the Figure 2(a) can be partitioned as,\n",
    "\n",
    "<div align=\"center\">\n",
    "    <figure>\n",
    "\n",
    "\n",
    "<p><img src=\"images/f3.png\"  ></p>\n",
    "     <figcaption>Figure 3: Partition based clustering. Elliptical boundary shows partition of data points into different clusters which is also highlighted with color.</figcaption>\n",
    "    </figure>\n",
    "</div>\n",
    "\n",
    "2. **Hierarchical Clustering:**   \n",
    "Hierarchical clustering is a connectivity-based clustering algorithm where either a bigger cluster is formed by connecting two similar smaller clusters, or two smaller clusters are formed by breaking a bigger cluster. This type of clustering creates a hierarchy of connectivity, hence called hierarchical clustering. Figure below shows a simple dataset where hierarchical clustering is applied.\n",
    "\n",
    "<div align=\"center\">\n",
    "    <figure>\n",
    "\n",
    "\n",
    "<p><img src='images/f4.png' width='700px' ></p>\n",
    "     <figcaption>Figure 4: Hierarchical clustering. (a) dataset to apply clustering. (b) hierarchy of clusters. Clusters near to each other are combined to form a bigger cluster, process shown from bottom to top.</figcaption>\n",
    "    </figure>\n",
    "</div>\n",
    "\n",
    "3. **Density-Based Clustering:**   \n",
    "In density-based clustering, a region of densely connected data points creates clusters. If there is more than one densely connected region, then there is more than one cluster. Density-based clustering does not assume the shape of the clusters. Hence, they can be of any form but separated by a sparse region.\n",
    "\n",
    "<div align=\"center\">\n",
    "    <figure>\n",
    "\n",
    "\n",
    "<p><img src=\"images/f5.png\"  width='700px'></p>\n",
    "     <figcaption>Figure 5: Density based clustering. (a) dataset to apply clustering. (b) cluster assignment with density based clustering alsogithm. Different colors indicates different clusters.</figcaption>\n",
    "    </figure>\n",
    "</div>\n",
    "\n",
    "\n",
    "4. **Distribution-Based Clustering:**   \n",
    "The goal of distribution based clustering is to assign the probability to the data points belonging to some probability distribution.\n",
    "\n",
    "<div align=\"center\">\n",
    "    <figure>\n",
    "\n",
    "\n",
    "<p><img src=\"images/f6.png\"  width='700px'></p>\n",
    "     <figcaption>Figure 6: Distribution based clustering. (a) dataset to apply clustering. (b) fitted two normal distribution on the data.</figcaption>\n",
    "    </figure>\n",
    "</div>\n",
    "\n",
    "Above Figure 6(a) shows one-dimensional data points concentrated at two locations. In Figure 6(b), we have fitted two Gaussian distribution (one for each concentrated region) to represent the data. In density-based clustering, we use these two probability distributions as clusters.\n",
    "\n",
    "5. **Grid-Based Clustering:**   \n",
    "Grid-based clustering divides the data space into a discrete space called grids. Then, the density of the data in each grid is used to classify it as noise or cluster. The clusters are then grouped based on neighboring locations to form the region of clusters and empty regions.\n",
    "\n",
    "<div align=\"center\">\n",
    "    <figure>\n",
    "\n",
    "\n",
    "<p><img src=\"images/f7.png\" width='700px' ></p>\n",
    "     <figcaption>Figure 7: Grid based clustering. (a) data space divided into discrete grids (b) cluster assignment by combining grids with relatively dense data-points</figcaption>\n",
    "    </figure>\n",
    "</div>\n",
    "\n",
    "The above Figure 7(a) shows the dataset divided into grids. After that, highly dense grids are combined to form clusters as shown in Figure 7(b).\n",
    "\n",
    "There are many more clustering algorithms that have been developed until now.\n"
   ]
  },
  {
   "cell_type": "code",
   "execution_count": null,
   "id": "4b59a5d1-a275-46d6-9942-9e61f88d9573",
   "metadata": {},
   "outputs": [],
   "source": []
  }
 ],
 "metadata": {
  "kernelspec": {
   "display_name": "Python 3 (ipykernel)",
   "language": "python",
   "name": "python3"
  },
  "language_info": {
   "codemirror_mode": {
    "name": "ipython",
    "version": 3
   },
   "file_extension": ".py",
   "mimetype": "text/x-python",
   "name": "python",
   "nbconvert_exporter": "python",
   "pygments_lexer": "ipython3",
   "version": "3.12.2"
  }
 },
 "nbformat": 4,
 "nbformat_minor": 5
}
