{
 "cells": [
  {
   "cell_type": "code",
   "execution_count": 12,
   "id": "4f2c00b1-30fa-4466-b15a-c8b5babaa2f4",
   "metadata": {},
   "outputs": [],
   "source": [
    "import numpy as np\n",
    "import tensorflow as tf\n",
    "from tensorflow.keras.preprocessing import image\n",
    "from tensorflow.keras.models import load_model"
   ]
  },
  {
   "cell_type": "code",
   "execution_count": 13,
   "id": "233e29d9-e78a-4397-beef-4416c0c0007d",
   "metadata": {},
   "outputs": [],
   "source": [
    "def inference(image_path, model_path):\n",
    "    # Load model\n",
    "    model = load_model(model_path)\n",
    "    \n",
    "    # Image Preprocessing\n",
    "    new_image = image.load_img(image_path, target_size=(28, 28))\n",
    "    new_image = image.img_to_array(new_image)\n",
    "    # RGB to Grayscale\n",
    "    new_image = tf.image.rgb_to_grayscale(new_image, name=None).numpy()  \n",
    "    \n",
    "    new_image = np.expand_dims(new_image, axis=0)\n",
    "    # Normalization\n",
    "    new_image = new_image / 255.0\n",
    "\n",
    "    # predict\n",
    "    output = model(new_image)\n",
    "\n",
    "    return np.argmax(output)"
   ]
  },
  {
   "cell_type": "code",
   "execution_count": 15,
   "id": "c7d8323d-bd6a-444f-9d4d-22c23d7c1662",
   "metadata": {},
   "outputs": [],
   "source": [
    "result = inference(\n",
    "    'test-1.jpg.jpg',\n",
    "    'mnist.model.keras'\n",
    ")"
   ]
  },
  {
   "cell_type": "code",
   "execution_count": 16,
   "id": "e5f2445e-5c23-42ad-82de-1543b86beed8",
   "metadata": {},
   "outputs": [
    {
     "data": {
      "text/plain": [
       "5"
      ]
     },
     "execution_count": 16,
     "metadata": {},
     "output_type": "execute_result"
    }
   ],
   "source": [
    "result"
   ]
  },
  {
   "cell_type": "code",
   "execution_count": null,
   "id": "a6994063-dd71-4757-ad0d-86c3faee7f08",
   "metadata": {},
   "outputs": [],
   "source": []
  }
 ],
 "metadata": {
  "kernelspec": {
   "display_name": "Python 3 (ipykernel)",
   "language": "python",
   "name": "python3"
  },
  "language_info": {
   "codemirror_mode": {
    "name": "ipython",
    "version": 3
   },
   "file_extension": ".py",
   "mimetype": "text/x-python",
   "name": "python",
   "nbconvert_exporter": "python",
   "pygments_lexer": "ipython3",
   "version": "3.12.2"
  }
 },
 "nbformat": 4,
 "nbformat_minor": 5
}
