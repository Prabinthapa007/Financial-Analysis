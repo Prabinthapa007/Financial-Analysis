{
 "cells": [
  {
   "cell_type": "code",
   "execution_count": 1,
   "id": "9d57797b-0274-4d8a-b9de-78c53a4fc653",
   "metadata": {},
   "outputs": [
    {
     "name": "stdout",
     "output_type": "stream",
     "text": [
      "Access token obtained successfully.\n"
     ]
    }
   ],
   "source": [
    "import requests\n",
    "import base64\n",
    "\n",
    "client_id = \"Your client Id\"\n",
    "client_secret = \"Your client secret\"\n",
    "\n",
    "# Base64 encode the client ID and client secret\n",
    "client_credentials = f\"{client_id}:{client_secret}\"\n",
    "client_credentials_base64 = base64.b64encode(client_credentials.encode())\n",
    "\n",
    "# Request the access token \n",
    "token_url = 'https://accounts.spotify.com/api/token'\n",
    "headers = {\n",
    "    'Authorization': f'Basic {client_credentials_base64.decode()}'\n",
    "}\n",
    "data = {\n",
    "    'grant_type': 'client_credentials'\n",
    "}\n",
    "response = requests.post(token_url, data=data, headers=headers)\n",
    "\n",
    "if response.status_code == 200:\n",
    "    access_token = response.json()['access_token']\n",
    "    print(\"Access token obtained successfully.\")\n",
    "else:\n",
    "    print(\"Error obtaining access token.\")\n",
    "    exit()"
   ]
  },
  {
   "cell_type": "markdown",
   "id": "e3890d59-4edc-4625-9ce7-a2ee6da21248",
   "metadata": {},
   "source": [
    "**I’ll write a function to get music data from any playlist on Spotify.**"
   ]
  },
  {
   "cell_type": "code",
   "execution_count": 2,
   "id": "db20e62f-54a1-406d-a7bf-5beb0b245df7",
   "metadata": {},
   "outputs": [],
   "source": [
    "import pandas as pd\n",
    "import spotipy\n",
    "from spotipy.oauth2 import SpotifyOAuth\n",
    "\n",
    "def get_trending_playlist_data(playlist_id, access_token):\n",
    "    # Set up Spotify with the access token\n",
    "    sp = spotipy.Spotify(auth=access_token)\n",
    "\n",
    "    # Getting the tracks from the playlist\n",
    "    playlist_tracks = sp.playlist_tracks(\n",
    "        playlist_id, \n",
    "        fields='items(track(id, name, artists, album(id, name)))'\n",
    "    )\n",
    "\n",
    "    # Extract relevant information and store in a list of dictionaries\n",
    "    music_data = []\n",
    "    for track_info in playlist_tracks['items']:\n",
    "        track = track_info['track']\n",
    "        track_name = track['name']\n",
    "        artists = ', '.join(artist['name'] for artist in track['artists'])\n",
    "        album_name = track['album']['name']\n",
    "        album_id = track['album']['id']\n",
    "        track_id = track['id']\n",
    "\n",
    "        # Getting audio features for the track\n",
    "        audio_features = sp.audio_features(track_id)[0] if track_id else None\n",
    "\n",
    "        # Getting release date of the album\n",
    "        try:\n",
    "            album_info = sp.album(album_id) if album_id else None\n",
    "            release_date = album_info['release_date'] if album_info else None\n",
    "        except:\n",
    "            release_date = None\n",
    "\n",
    "        # Getting popularity of the track\n",
    "        try:\n",
    "            track_info = sp.track(track_id) if track_id else None\n",
    "            popularity = track_info['popularity'] if track_info else None\n",
    "        except:\n",
    "            popularity = None\n",
    "\n",
    "        # Adding additional track information to the track data\n",
    "        track_data = {\n",
    "            'Track Name' : track_name,\n",
    "            'Artists': artists,\n",
    "            'Album Name': album_name,\n",
    "            'Album ID': album_id,\n",
    "            'Track ID': track_id,\n",
    "            'Popularity': popularity,\n",
    "            'Release Date': release_date,\n",
    "            'Duration (ms)': audio_features['duration_ms'] if audio_features else None,\n",
    "            'Explicit': track_info.get('explicit', None),\n",
    "            'External URLs': track_info.get('external_urls', {}).get('spotify', None),\n",
    "            'Danceability': audio_features['danceability'] if audio_features else None,\n",
    "            'Energy': audio_features['energy'] if audio_features else None,\n",
    "            'Key': audio_features['key'] if audio_features else None,\n",
    "            'Loudness': audio_features['loudness'] if audio_features else None,\n",
    "            'Mode': audio_features['mode'] if audio_features else None,\n",
    "            'Speechiness': audio_features['speechiness'] if audio_features else None,\n",
    "            'Acousticness': audio_features['acousticness'] if audio_features else None,\n",
    "            'Instrumentalness': audio_features['instrumentalness'] if audio_features else None,\n",
    "            'Liveness': audio_features['liveness'] if audio_features else None,\n",
    "            'Valence': audio_features['valence'] if audio_features else None,\n",
    "            'Tempo': audio_features['tempo'] if audio_features else None,\n",
    "        }\n",
    "\n",
    "    # Creating a pandas DataFrame from the list of dictionaries\n",
    "    df = pd.DataFrame(music_data)\n",
    "    return df\n",
    "        \n",
    "        "
   ]
  },
  {
   "cell_type": "markdown",
   "id": "0e4fa624-ce97-4816-82a8-15a284d5aa01",
   "metadata": {},
   "source": [
    "The function begins by initializing the Spotipy client with the provided access_token, which serves as the authentication token to interact with the Spotify Web API. The access_token allows the function to make authorized requests to access Spotify’s resources. The function then uses the Spotipy client to fetch information about the tracks in the specified playlist (identified by its playlist_id). The sp.playlist_tracks method retrieves the playlist tracks. The fields parameter is used to specify the specific track information that is required, such as track ID, name, artists, album ID, and album name.\n",
    "\n",
    "The function then extracts relevant information from the retrieved playlist tracks and stores it in a list of dictionaries called music_data. For each track in the playlist, the function extracts data such as track name, artists (combined into a single string), album name, album ID, track ID, and popularity. The function uses the sp.audio_features method to fetch audio features for each track in the playlist. These audio features include attributes like danceability, energy, key, loudness, speechiness, acousticness, instrumentalness, liveness, valence, tempo, etc. These audio features provide insights into the characteristics of each track.\n",
    "\n",
    "\n",
    "The extracted information for all tracks is stored in the music_data list. The function then creates a DataFrame from the music_data list. The DataFrame organizes the music data in a tabular format, making it easier to analyze and work with the collected information."
   ]
  },
  {
   "cell_type": "markdown",
   "id": "b1d9ea72-d5c4-4387-a3ec-11447440b0a4",
   "metadata": {},
   "source": [
    "**Now, here’s how we can use the function to collect music data from any playlist on Spotify:**"
   ]
  },
  {
   "cell_type": "code",
   "execution_count": 4,
   "id": "7500414a-6c13-428e-9812-417b142571e5",
   "metadata": {},
   "outputs": [
    {
     "name": "stdout",
     "output_type": "stream",
     "text": [
      "Empty DataFrame\n",
      "Columns: []\n",
      "Index: []\n"
     ]
    }
   ],
   "source": [
    "playlist_id = 'Your ID'\n",
    "\n",
    "# Calling the function to get the music data from the playlist and store it in a DataFrame\n",
    "music_df = get_trending_playlist_data(playlist_id, access_token)\n",
    "\n",
    "print(music_df)"
   ]
  },
  {
   "cell_type": "markdown",
   "id": "e0bc5fbd-5e50-41b3-ad66-7fc47ad7eee0",
   "metadata": {},
   "source": [
    "In this code snippet, we used a playlist ID: “37i9dQZF1DX76Wlfdnj7AP”. The code then calls the get_trending_playlist_data function to extract music data from the specified playlist using the provided access_token. The collected music data is stored in a DataFrame named music_df. Finally, the code prints the DataFrame to display the extracted music data.\n",
    "\n",
    "You can also add your playlist id here. If your playlist link is [link](https://open.spotify.com/playlist/37i9dQZF1DX76Wlfdnj7AP), the playlist ID is “37i9dQZF1DX76Wlfdnj7AP”, which is what you would replace with my playlist id within the above code snippet."
   ]
  },
  {
   "cell_type": "code",
   "execution_count": null,
   "id": "b1930815-8f06-45ed-85b2-555156c6d273",
   "metadata": {},
   "outputs": [],
   "source": []
  }
 ],
 "metadata": {
  "kernelspec": {
   "display_name": "Python 3 (ipykernel)",
   "language": "python",
   "name": "python3"
  },
  "language_info": {
   "codemirror_mode": {
    "name": "ipython",
    "version": 3
   },
   "file_extension": ".py",
   "mimetype": "text/x-python",
   "name": "python",
   "nbconvert_exporter": "python",
   "pygments_lexer": "ipython3",
   "version": "3.12.2"
  }
 },
 "nbformat": 4,
 "nbformat_minor": 5
}
