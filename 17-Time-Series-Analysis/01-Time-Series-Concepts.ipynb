{
 "cells": [
  {
   "cell_type": "markdown",
   "id": "442e2e7b-902d-4e8d-a20c-4b8235b0fdb0",
   "metadata": {},
   "source": [
    "# Time Series Analysis"
   ]
  },
  {
   "cell_type": "markdown",
   "id": "d23cf089-6c7a-4782-b658-8922b17f4c8a",
   "metadata": {},
   "source": [
    "## Introdution"
   ]
  },
  {
   "cell_type": "markdown",
   "id": "fbb69dc0-64ec-4e0c-848a-7812fa0dc1be",
   "metadata": {},
   "source": [
    "**Time Series Analysis** is a way of studying the characteristics of the response variable concerning time as the independent variable. To estimate the target variable in predicting or forecasting, use the time variable as the reference point. TSA represents a series of time-based orders, it would be years, months, weeks, days, hours, minutes and seconds. It is an observation from the sequence of discrete time of successive intervals. Some real-world apllication of TSA includes weather forecasting models, stock market predictions, signal processing, and control systems. Since TSA involve producing the set of information in a particular sequence, this makes it distinct from spatial and other analysis. We could predict the future using AR, MR, ARMA, and ARIMA models."
   ]
  },
  {
   "cell_type": "markdown",
   "id": "cdd57d59-7183-4718-8362-61046be3ed48",
   "metadata": {},
   "source": [
    "### What is Time Series Data and Time Series Analysis?\n",
    "1. **Time Series Data**\n",
    "- Time Series Data is a series of data points collected or recorded at specific time intervals, often in equal increments. Examples include daily stock prices, monthly sales data, annual GDP growth rates, etc. The key characteristics of time series data is that the data points are dependent on the time at which they are collected.\n",
    "\n",
    "2. **Time Series Analysis**\n",
    "- Time Series Analysis refers to the set of techniques used to analyze time series data in order to extract meaningful statistics and characteristics about the time series data.\n",
    "- In simple terms, time-series forecasting uses historical and current data to predict future values over a period or at a specific point in the future. By analysing past data, we can make informed decisions, guide business strategy, and understand future trends."
   ]
  },
  {
   "attachments": {
    "2037befa-e4c0-4f14-ad62-8153d705c3d4.png": {
     "image/png": "[encoded data removed]"
    }
   },
   "cell_type": "markdown",
   "id": "8145a38d-643f-4bb9-96c4-f0712b0c940a",
   "metadata": {},
   "source": [
    "### Components of Time Series Analysis\n",
    "![image.png](attachment:2037befa-e4c0-4f14-ad62-8153d705c3d4.png)\n",
    "\n",
    "1. **Trend(T)**:\n",
    "- The long-term movement in the data. It represents the general direction in which the data is moving over a long period of time. Trends can be upward, downward, or flat. It is a smooth. general, long-term, average tendency. The population, agricultural production, items manufactured, number of births and deaths, number of industry or any factory, number of schools or colleges are some of its example showing some kind of tendencies of movement.\n",
    "- **Linear and Non-linear Trend**: If the set of data cluster more or less round a straight line, then the trend is linear otherwise it is non-linear(Curvilinear).\n",
    "\n",
    "2. **Seasonality(S)**:\n",
    "- The repeating short-term cycle in the data. It reflects regular patterns or cycles of behavior that occurs at regular intervals, such as daily, weekly, monthly, or annually. For example, retail sales might peak during the holiday season each year.\n",
    "- The effect of man-made conventions such as some festivals, customs, habits, fashions, and some occasions like marriage is easily noticeable.  They recur themselves year after year. An upswing in a season should not be taken as an indicator of better business conditions.\n",
    "\n",
    "3. **Cyclic Variations(C)**:\n",
    "- The variations in a time series which operates themselves over a span of more than one year are the cyclic variations. This is a oscillations about a trend that occur at irregular intervals. These are often related to economic or business cycles. Unlike seasonality, cyclical patterns do not have a fixed period.\n",
    "- It is a four-phase cycle comprising of the phases of prosperity, recession, depression, and recovery. The cyclic variation may be regular are not periodic. The upswings and the downswings in business depend upon the joint nature of the economic forces and the interaction between them.\n",
    "\n",
    "4. **Random or Irregular Movement(R)**:\n",
    "- The residual fluctuation in the data that cannot be explained by the trend, seasonal, or cyclical components are random or irregular movement. This is the nois or random variation in the data.\n",
    "- These fluctuations are unforeseen, uncontrollable, unpredictable, and are erratic. These forces are earthquakes, Disease outrage, wars, flood, famines, and any other disasters."
   ]
  },
  {
   "cell_type": "markdown",
   "id": "b5ba30c5-b8b1-420d-8ca7-939cb97816b7",
   "metadata": {},
   "source": [
    "### Mathematical Model for Time Series Analysis\n",
    "Mathematically, a time series is given as \n",
    "$$ y_t = f(t)$$\n",
    "\n",
    "Here, $y_t$ is the value of the variable under study at time t. If the population is the variable under study at the various time period $t_1$, $t_2$, $t_3$, … , $t_n$. Then the time series is\n",
    "$$t:t_1, t_2, t_3, ..., t_n$$\n",
    "$$y_t:y_1, y_2, y_3, ..., y_n$$"
   ]
  },
  {
   "cell_type": "markdown",
   "id": "f9565cbd-076d-49ed-8c2a-767c0c74029e",
   "metadata": {},
   "source": [
    "### Additive Model for Time Series Analysis\n",
    "\n",
    "If $y_t$ is the time series value at time $t$, $T_t$, $S_t$, $C_t$, and $R_t$ are the trend value, seasonal, cyclic, and random fluctuations at time $t$ respectively. According to the Additive Model, a time series can be expressed as:\n",
    "\n",
    "$$ y_t = T_t + S_t + C_t + R_t $$\n",
    "\n",
    "This model assumes that all four components of the time series act independently of each other.\n",
    "\n",
    "### Multiplicative Model for Time Series Analysis\n",
    "\n",
    "The multiplicative model assumes that the various components in a time series operate proportionately to each other. According to this model:\n",
    "\n",
    "$$ y_t = T_t \\times S_t \\times C_t \\times R_t $$\n",
    "\n",
    "### Mixed Models\n",
    "\n",
    "Different assumptions lead to different combinations of additive and multiplicative models as:\n",
    "\n",
    "$$ y_t = T_t + S_t + C_t \\times R_t $$\n",
    "\n",
    "The time series analysis can also be done using the models:\n",
    "\n",
    "$$ y_t = T_t + S_t \\times C_t \\times R_t $$\n",
    "\n",
    "or\n",
    "\n",
    "$$ y_t = T_t \\times C_t + S_t \\times R_t $$\n"
   ]
  },
  {
   "cell_type": "markdown",
   "id": "54baa0d3-f993-48cb-bcbe-6121b4b0bebf",
   "metadata": {},
   "source": [
    "### Objectives of Time Series Analysis\n",
    "- To understand how time series works and what factors affect a certain varaible(s) at different points in time.\n",
    "- Time sereis analysis will provide the consequences and insights of the given dataset's future that change over time.\n",
    "- Supporting to drive the predicting the future values of the time series variable.\n",
    "- Assumptions: There is only one assumption in TSA, which is `stationary`, which means that the origin of time does not affect the properties of the process under the statistical factor."
   ]
  },
  {
   "cell_type": "markdown",
   "id": "7b8150ab-6809-497f-86cc-61827f266dd7",
   "metadata": {},
   "source": [
    "### How to Analyze Time Series?\n",
    "To perform the time series analysis, we have to follow the following steps:\n",
    "- Collecting the data and cleaning it\n",
    "- Preparing visualization with respect to time vs key feature\n",
    "- Observing the stationary of the series\n",
    "- Developing charts to understand its nature\n",
    "- Model building - AR, MA, ARMA and ARIMA\n",
    "- Extracting insights from prediction"
   ]
  },
  {
   "cell_type": "markdown",
   "id": "24856915-25de-4258-964d-c2b744c6ea1e",
   "metadata": {},
   "source": [
    "### Significane of Time Series\n",
    "TSA is the backbone fro prediction and forecasting analysis, specific to time-based problem statements.\n",
    "- Analyxing the historical dataset and its patterns\n",
    "- Understanding and matching the current situation with patterns derived from the previous stage.\n",
    "- Understanding the factor or factors infuencing certain variable(s) in different periods.\n",
    "\n",
    "With the help of `Time Sereis`, we can prepare numerous time-based analyses and results.\n",
    "- **Forecasting:** Predicting any value for the future. Predicts future data. This type is based on historical trends. It uses the historical data as a model for future data, predicting scenarios that could happen along future plot points.\n",
    "- **Segmentation:** Grouping similar items together. Splits the data into segments to show the underlying properties of the source information.\n",
    "- **Classification:** Classifying a set of items into given classes.\n",
    "- **Descriptive analysis:** Analysis of a given dataset to find out what is there in it.\n",
    "- **Intervention analysis:** Effect of changing a given variable on the outcome. Studies how an event can change the data.\n",
    "- **Curve fitting**: Plots the data along a curve to study the relationsjips of variables within the data.\n",
    "- **Explanative analysis:** Attempts to understand the data and the relationships within it, as well as cause and effect.\n",
    "- **Exploratory analysis:** Highlights the main charachteristics of the time series data, usually in a visual format."
   ]
  },
  {
   "cell_type": "markdown",
   "id": "3b2eb715-1232-4544-b1ae-d0f89565261c",
   "metadata": {},
   "source": [
    "### What are the limitations of Time Series Analysis?\n",
    "Time series has the following limitations; we have to take care of those during our data analysis.\n",
    "- Similar to other models, the missing values are not supported by TSA\n",
    "- The data points must be linear in their relationship\n",
    "- Data trasnformations are mandatory, so thay are a little expensive.\n",
    "- Models mostly work on Uni-variate data. (Uni-variate data is data that describes only one variable. This type of data is the simplest form of data and is often used in basic statistical analysis.)"
   ]
  },
  {
   "cell_type": "markdown",
   "id": "fc54e01c-549a-4651-95aa-4f60113cac86",
   "metadata": {},
   "source": [
    "### Applications of Time Series Analysis\n",
    "Time series analysis is widely used in various fields such as:\n",
    "\n",
    "- **Finance:** Stock price prediction, risk management.\n",
    "- **Economics:** GDP forecasting, unemployment rates.\n",
    "- **Weather Forecasting:** Predicting temperatures, rainfall.\n",
    "- **Operations Management:** Inventory control, supply chain management.\n",
    "- **Healthcare:** Monitoring and predicting disease outbreaks, patient monitoring."
   ]
  },
  {
   "cell_type": "code",
   "execution_count": null,
   "id": "d30f10bc-96f5-4e94-a52c-b70c6afeb873",
   "metadata": {},
   "outputs": [],
   "source": []
  }
 ],
 "metadata": {
  "kernelspec": {
   "display_name": "Python 3 (ipykernel)",
   "language": "python",
   "name": "python3"
  },
  "language_info": {
   "codemirror_mode": {
    "name": "ipython",
    "version": 3
   },
   "file_extension": ".py",
   "mimetype": "text/x-python",
   "name": "python",
   "nbconvert_exporter": "python",
   "pygments_lexer": "ipython3",
   "version": "3.12.2"
  }
 },
 "nbformat": 4,
 "nbformat_minor": 5
}
