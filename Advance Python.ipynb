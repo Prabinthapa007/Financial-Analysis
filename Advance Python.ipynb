{
 "cells": [
  {
   "cell_type": "markdown",
   "id": "eb436fee-54b7-4928-88b6-6622dac83adf",
   "metadata": {},
   "source": [
    "# Python Decorators"
   ]
  },
  {
   "cell_type": "code",
   "execution_count": 1,
   "id": "e6568f17-93ed-4273-abc9-b9bb6b5d1f6f",
   "metadata": {},
   "outputs": [
    {
     "name": "stdout",
     "output_type": "stream",
     "text": [
      "Before function execution\n",
      "Hello, world!\n",
      "After function execution\n"
     ]
    }
   ],
   "source": [
    "def my_decorator(func):\n",
    "    def wrapper():\n",
    "        print(\"Before function execution\")\n",
    "        func()\n",
    "        print(\"After function execution\")\n",
    "    return wrapper\n",
    "\n",
    "@my_decorator\n",
    "def say_hello():\n",
    "    print(\"Hello, world!\")\n",
    "\n",
    "say_hello()"
   ]
  },
  {
   "cell_type": "markdown",
   "id": "ecd8d1c8-3496-4ef9-9b5c-ebd9f2bb3b37",
   "metadata": {},
   "source": [
    "#### decorators can take arguments."
   ]
  },
  {
   "cell_type": "code",
   "execution_count": 5,
   "id": "d347a058-8c62-4e3b-ae8e-c5c1b9d31ef4",
   "metadata": {},
   "outputs": [
    {
     "name": "stdout",
     "output_type": "stream",
     "text": [
      "It will run 4 times.\n",
      "Hello, Prabin\n",
      "Hello, Prabin\n",
      "Hello, Prabin\n",
      "Hello, Prabin\n"
     ]
    }
   ],
   "source": [
    "def repeat(n):\n",
    "    def decorator(my_func):\n",
    "        def wrapper(*args, **kwargs):\n",
    "            print(f\"It will run {n} times.\")\n",
    "            for i in range(n):\n",
    "                my_func(*args, **kwargs)\n",
    "        return wrapper\n",
    "    return decorator\n",
    "@repeat(4)\n",
    "def say_hello(name):\n",
    "    print(f\"Hello, {name}\")\n",
    "\n",
    "say_hello(\"Prabin\")\n"
   ]
  },
  {
   "cell_type": "markdown",
   "id": "0d68a8b5-f7db-492b-bbd1-67b5ceb96e29",
   "metadata": {},
   "source": [
    "#### check the email id :"
   ]
  },
  {
   "cell_type": "code",
   "execution_count": 7,
   "id": "90289e9f-6410-45ca-8afd-ce27ed7b6e96",
   "metadata": {},
   "outputs": [
    {
     "name": "stdout",
     "output_type": "stream",
     "text": [
      "Logged in successfully\n"
     ]
    }
   ],
   "source": [
    "def validate_email(func):\n",
    "    def wrapper(email):\n",
    "        if email.endswith(\"@gmail.com\"):\n",
    "            func(email)\n",
    "        else:\n",
    "            print(\"We only support google email.\")\n",
    "\n",
    "    return wrapper\n",
    "\n",
    "@validate_email\n",
    "def user_login(email):\n",
    "    print(\"Logged in successfully\")\n",
    "\n",
    "user_login(\"punk@gmail.com\")"
   ]
  },
  {
   "cell_type": "markdown",
   "id": "e43aaa81-69fa-439c-9a7c-2ac1ce821473",
   "metadata": {},
   "source": [
    "#### Q1: Write a decorator that logs the time taken by a function to execute."
   ]
  },
  {
   "cell_type": "code",
   "execution_count": 8,
   "id": "b316cfbd-36d6-4d49-b8fa-15d90325b8d9",
   "metadata": {},
   "outputs": [
    {
     "name": "stdout",
     "output_type": "stream",
     "text": [
      "Function executed\n",
      "Function ex_func took 0.0010 seconds to execute\n"
     ]
    }
   ],
   "source": [
    "import time\n",
    "\n",
    "def timer(func):\n",
    "    def wrapper(*args, **kwargs):\n",
    "        start_time = time.time()\n",
    "        func(*args, **kwargs)\n",
    "        end_time = time.time()\n",
    "        print(f\"Function {func.__name__} took {end_time - start_time:.4f} seconds to execute\")\n",
    "\n",
    "    return wrapper\n",
    "\n",
    "@timer\n",
    "def ex_func():\n",
    "    print(\"Function executed\")\n",
    "\n",
    "ex_func()\n",
    "\n"
   ]
  },
  {
   "cell_type": "markdown",
   "id": "3c3a62d7-90b1-49b7-bdf3-528cfb892910",
   "metadata": {},
   "source": [
    "#### Q2: Create a decorator that caches the result of a function and return the cached result if the input is provided again."
   ]
  },
  {
   "cell_type": "code",
   "execution_count": 17,
   "id": "1fcdbaab-fe5e-469e-9c57-8fc87f4968f3",
   "metadata": {},
   "outputs": [
    {
     "name": "stdout",
     "output_type": "stream",
     "text": [
      "Result retrieved from cache\n",
      "Result retrieved from cache\n",
      "Result retrieved from cache\n",
      "5\n"
     ]
    }
   ],
   "source": [
    "def cache(func):\n",
    "    cached_results = {}\n",
    "    def wrapper(*args):\n",
    "        if args in cached_results:\n",
    "            print(\"Result retrieved from cache\")\n",
    "            return cached_results[args]\n",
    "        result = func(*args)\n",
    "        cached_results[args] = result\n",
    "        return result\n",
    "    return wrapper\n",
    "\n",
    "@cache\n",
    "def fib(n):\n",
    "    if n<=1:\n",
    "        return n\n",
    "    return fib(n-1)+ fib(n-2)\n",
    "\n",
    "print(fib(5))"
   ]
  },
  {
   "cell_type": "code",
   "execution_count": null,
   "id": "0cb848b7-ed1e-447d-ad1d-759372d41a17",
   "metadata": {},
   "outputs": [],
   "source": []
  },
  {
   "cell_type": "raw",
   "id": "a34b3aeb-a228-450d-8384-e71018bbc261",
   "metadata": {},
   "source": [
    "class Product:\n",
    "    def __init__(self, name, price):\n",
    "        self.name = name\n",
    "        self.price = price\n",
    "\n",
    "class User:\n",
    "    def __init__(self, user_name, premium = False):\n",
    "        self.user_name = user_name\n",
    "        self.premium = premium\n",
    "\n",
    "class ShoppingCart:\n",
    "    def __init__(self, user):\n",
    "        self.user = user\n",
    "        self.products = [ ]\n",
    "\n",
    "    def add_product(self, product):\n",
    "        self.products.append(product)\n",
    "        return self.products\n",
    "\n",
    "    def remove_product(self, product_name):\n",
    "        self.product = [p for p in self.products if product_name != self.products]\n",
    "        return self.products\n",
    "\n",
    "    @discount_10_percent\n",
    "    def calculate_total_cost(self):\n",
    "        total_cost = sum(product.price for product in self.products)\n",
    "        return total_cost\n",
    "\n",
    "def discount_10_percent(func):\n",
    "    def wrapper(self, *args, **kwargs):\n",
    "        total_cost = func(self, *args, **kwargs)\n",
    "        if self.user.premium:\n",
    "            total_cost = total_cost*(1-0.1)\n",
    "        return total_cost\n",
    "    return wrapper\n",
    "        \n",
    "\n",
    "user = User(\"Cr7\", True)\n",
    "shirt = Product(\"Shirt\", 200)\n",
    "pant = Product(\"Pant\", 900)\n",
    "flowers = Product(\"Flower\", 150)\n",
    "bag = ShoppingCart(user)\n",
    "bag.add_product(pant)\n",
    "bag.add_product(shirt)\n",
    "bag.add_product(flowers)\n",
    "bag.remove_product(\"Pant\")\n",
    "\n",
    "\n",
    "print(    \"Tax Invoice\")\n",
    "print(f\"   {'-'*50}\")\n",
    "for product in bag.products:\n",
    "    print(f\"{product.name}: {product.price}\")\n",
    "print(\"-\"*50)\n",
    "total_cost = bag.calculate_total_cost()\n",
    "discounte_cost = discount_10_percent(bag.calculate_total_cost)(bag)\n",
    "print(total_cost)\n",
    "print(\"-\"*50)\n",
    "\n",
    "    "
   ]
  },
  {
   "cell_type": "markdown",
   "id": "bc6091bd-1eb8-4078-95ba-b9980afec03b",
   "metadata": {},
   "source": [
    "#### Q3: Wite a decorator function that prints \"Function execution started\" before calling the decorated function and \"Function xecution ended\" after the function returns."
   ]
  },
  {
   "cell_type": "code",
   "execution_count": 56,
   "id": "683c4db7-7cdd-477b-83cd-5111adad294a",
   "metadata": {},
   "outputs": [
    {
     "name": "stdout",
     "output_type": "stream",
     "text": [
      "Function execution started\n",
      "Hello, Prabin\n",
      "Function execution ended\n"
     ]
    }
   ],
   "source": [
    "def decorator(func):\n",
    "    def wrapper(*args, **kwargs):\n",
    "        print(\"Function execution started\")\n",
    "        result = func(*args, **kwargs)\n",
    "        print(\"Function execution ended\")\n",
    "        return result\n",
    "    return wrapper\n",
    "\n",
    "@decorator\n",
    "def say_hello(name, greeting=\"Hello\"):\n",
    "    print(f\"{greeting}, {name}\")\n",
    "\n",
    "say_hello(\"Prabin\")"
   ]
  },
  {
   "cell_type": "markdown",
   "id": "f38bb34e-fc27-4749-9b9f-7b4c964182ac",
   "metadata": {},
   "source": [
    "#### Q4: Create a decorator that times how long a function takes to execute and prints the duration."
   ]
  },
  {
   "cell_type": "code",
   "execution_count": 57,
   "id": "aabfb382-25dc-482a-a4f1-9be9dbe954b4",
   "metadata": {},
   "outputs": [
    {
     "name": "stdout",
     "output_type": "stream",
     "text": [
      "function executed\n",
      "Function ex_function took 2.00070 seconds to execute\n"
     ]
    }
   ],
   "source": [
    "import time\n",
    "\n",
    "def timer(func):\n",
    "    def wrapper(*args, **kwargs):\n",
    "        start = time.time()\n",
    "        result = func(*args, **kwargs)\n",
    "        end = time.time()\n",
    "        duration = end - start\n",
    "        print(f\"Function {func.__name__} took {duration:.5f} seconds to execute\")\n",
    "        return result\n",
    "    return wrapper\n",
    "\n",
    "@timer\n",
    "def ex_function():\n",
    "    time.sleep(2)\n",
    "    print(\"function executed\")\n",
    "\n",
    "ex_function()"
   ]
  },
  {
   "cell_type": "markdown",
   "id": "68029480-383f-434f-a408-4fb8cec91706",
   "metadata": {},
   "source": [
    "#### Q5: Implement a memoization decorator to cache the results of a function to improve performance for repetitive calls with the same arguments."
   ]
  },
  {
   "cell_type": "code",
   "execution_count": 58,
   "id": "0e709761-8734-412d-b5cc-63cc92e4e321",
   "metadata": {},
   "outputs": [
    {
     "name": "stdout",
     "output_type": "stream",
     "text": [
      "120\n",
      "Result found in the cache....\n",
      "3628800\n"
     ]
    }
   ],
   "source": [
    "def cache(func):\n",
    "    cached_memory = {}\n",
    "    def wrapper(*args, **kwargs):\n",
    "        if args in cached_memory:\n",
    "            print(f\"Result found in the cache....\")\n",
    "            return cached_memory[args]\n",
    "        result = func(*args, **kwargs)\n",
    "        cached_memory[args] = result\n",
    "        return result\n",
    "    return wrapper\n",
    "\n",
    "@cache\n",
    "def factorial(n):\n",
    "    if n == 0:\n",
    "        return 1\n",
    "    return n * factorial(n-1)\n",
    "\n",
    "\n",
    "print(factorial(5))  #This will be fast\n",
    "print(factorial(10)) #This will also be fast, due to memoization"
   ]
  },
  {
   "cell_type": "markdown",
   "id": "786228af-b9c0-45a3-b034-0a88c20c3fae",
   "metadata": {},
   "source": [
    "#### Q6: Write a decorator that logs the arguments and return value of a function."
   ]
  },
  {
   "cell_type": "code",
   "execution_count": 59,
   "id": "63343556-040b-4503-b669-45604e51c290",
   "metadata": {},
   "outputs": [
    {
     "name": "stdout",
     "output_type": "stream",
     "text": [
      "Function 'add' called\n",
      " -Arguments: (6, 5), {}\n",
      " -Return value: 11\n",
      " Result : 11\n"
     ]
    }
   ],
   "source": [
    "def log_args_and_return(func):\n",
    "    def wrapper(*args, **kwargs):\n",
    "        #Log the function name\n",
    "        print(f\"Function '{func.__name__}' called\")\n",
    "\n",
    "        #Log the arguments\n",
    "        print(f\" -Arguments: {args}, {kwargs}\")\n",
    "\n",
    "        #Call the original function\n",
    "        result = func(*args, **kwargs)\n",
    "\n",
    "        #Log the return value\n",
    "        print(f\" -Return value: {result}\")\n",
    "\n",
    "        #Return the result\n",
    "        return result\n",
    "    return wrapper\n",
    "\n",
    "#Apply the decorator to a function\n",
    "@log_args_and_return\n",
    "def add(a,b):\n",
    "    return a + b\n",
    "\n",
    "result = add(6, 5)\n",
    "print(f\" Result : {result}\")"
   ]
  },
  {
   "cell_type": "markdown",
   "id": "3b8e5479-a4a9-40de-84b3-8ceebc469b6c",
   "metadata": {},
   "source": [
    "#### Q7:\n",
    "Create a decorator that retries a function a specified number of times if it raises a specific exception."
   ]
  },
  {
   "cell_type": "code",
   "execution_count": 60,
   "id": "19c907b9-7c98-4074-a0fc-b45dca782d50",
   "metadata": {},
   "outputs": [
    {
     "ename": "ZeroDivisionError",
     "evalue": "division by zero",
     "output_type": "error",
     "traceback": [
      "\u001b[1;31m---------------------------------------------------------------------------\u001b[0m",
      "\u001b[1;31mZeroDivisionError\u001b[0m                         Traceback (most recent call last)",
      "Cell \u001b[1;32mIn[60], line 19\u001b[0m\n\u001b[0;32m     15\u001b[0m \u001b[38;5;129m@retry_on_exception\u001b[39m(\u001b[38;5;167;01mValueError\u001b[39;00m, \u001b[38;5;241m3\u001b[39m)\n\u001b[0;32m     16\u001b[0m \u001b[38;5;28;01mdef\u001b[39;00m \u001b[38;5;21mdivide\u001b[39m(a, b):\n\u001b[0;32m     17\u001b[0m     \u001b[38;5;28;01mreturn\u001b[39;00m a \u001b[38;5;241m/\u001b[39m b\n\u001b[1;32m---> 19\u001b[0m result \u001b[38;5;241m=\u001b[39m \u001b[43mdivide\u001b[49m\u001b[43m(\u001b[49m\u001b[38;5;241;43m10\u001b[39;49m\u001b[43m,\u001b[49m\u001b[43m \u001b[49m\u001b[38;5;241;43m0\u001b[39;49m\u001b[43m)\u001b[49m \u001b[38;5;66;03m#This will retry 3 times due to ZeroDivisionError\u001b[39;00m\n\u001b[0;32m     20\u001b[0m \u001b[38;5;28mprint\u001b[39m(result)\n",
      "Cell \u001b[1;32mIn[60], line 6\u001b[0m, in \u001b[0;36mretry_on_exception.<locals>.decorator.<locals>.wrapper\u001b[1;34m(*args, **kwargs)\u001b[0m\n\u001b[0;32m      4\u001b[0m \u001b[38;5;28;01mfor\u001b[39;00m i \u001b[38;5;129;01min\u001b[39;00m \u001b[38;5;28mrange\u001b[39m(times):\n\u001b[0;32m      5\u001b[0m     \u001b[38;5;28;01mtry\u001b[39;00m:\n\u001b[1;32m----> 6\u001b[0m         \u001b[38;5;28;01mreturn\u001b[39;00m \u001b[43mfunc\u001b[49m\u001b[43m(\u001b[49m\u001b[38;5;241;43m*\u001b[39;49m\u001b[43margs\u001b[49m\u001b[43m,\u001b[49m\u001b[43m \u001b[49m\u001b[38;5;241;43m*\u001b[39;49m\u001b[38;5;241;43m*\u001b[39;49m\u001b[43mkwargs\u001b[49m\u001b[43m)\u001b[49m\n\u001b[0;32m      7\u001b[0m     \u001b[38;5;28;01mexcept\u001b[39;00m exception:\n\u001b[0;32m      8\u001b[0m         \u001b[38;5;28;01mif\u001b[39;00m i \u001b[38;5;241m==\u001b[39m times \u001b[38;5;241m-\u001b[39m \u001b[38;5;241m1\u001b[39m:\n",
      "Cell \u001b[1;32mIn[60], line 17\u001b[0m, in \u001b[0;36mdivide\u001b[1;34m(a, b)\u001b[0m\n\u001b[0;32m     15\u001b[0m \u001b[38;5;129m@retry_on_exception\u001b[39m(\u001b[38;5;167;01mValueError\u001b[39;00m, \u001b[38;5;241m3\u001b[39m)\n\u001b[0;32m     16\u001b[0m \u001b[38;5;28;01mdef\u001b[39;00m \u001b[38;5;21mdivide\u001b[39m(a, b):\n\u001b[1;32m---> 17\u001b[0m     \u001b[38;5;28;01mreturn\u001b[39;00m \u001b[43ma\u001b[49m\u001b[43m \u001b[49m\u001b[38;5;241;43m/\u001b[39;49m\u001b[43m \u001b[49m\u001b[43mb\u001b[49m\n",
      "\u001b[1;31mZeroDivisionError\u001b[0m: division by zero"
     ]
    }
   ],
   "source": [
    "def retry_on_exception(exception, times):\n",
    "    def decorator(func):\n",
    "        def wrapper(*args, **kwargs):\n",
    "            for i in range(times):\n",
    "                try:\n",
    "                    return func(*args, **kwargs)\n",
    "                except exception:\n",
    "                    if i == times - 1:\n",
    "                        raise\n",
    "                    else:\n",
    "                        print(f\"Retrying {func.__name__} due to {exception.__name__}\")\n",
    "        return wrapper\n",
    "    return decorator\n",
    "\n",
    "@retry_on_exception(ValueError, 3)\n",
    "def divide(a, b):\n",
    "    return a / b\n",
    "\n",
    "result = divide(10, 0) #This will retry 3 times due to ZeroDivisionError\n",
    "print(result)"
   ]
  },
  {
   "cell_type": "markdown",
   "id": "fe17463b-7ef4-455d-b6ec-9faa0b7fc029",
   "metadata": {},
   "source": [
    "#### Q8:\n",
    "Implement a decorator that checks if a user is logged in before allowing them to execute a function."
   ]
  },
  {
   "cell_type": "code",
   "execution_count": 61,
   "id": "0a270d2f-dd1c-4bee-b504-c175106bf665",
   "metadata": {},
   "outputs": [
    {
     "name": "stdout",
     "output_type": "stream",
     "text": [
      "You are logged in!\n"
     ]
    }
   ],
   "source": [
    "def decorator(func):\n",
    "    def wrapper(*args, **kwargs):\n",
    "        if is_user_logged_in():\n",
    "            return func(*args, **kwargs)\n",
    "        else:\n",
    "            raise PermissionError(\"Login Required\")\n",
    "    return wrapper\n",
    "\n",
    "def is_user_logged_in():\n",
    "    # Assume this fucntion checks if the user is logged in\n",
    "    # This could involve checking a global variabel, session state, etc.\n",
    "    return True #For demonstration purposes, always return True\n",
    "\n",
    "@decorator\n",
    "def secret_func():\n",
    "    return \"You are logged in!\"\n",
    "\n",
    "try:\n",
    "    result = secret_func()\n",
    "    print(result)\n",
    "except PermissionError as e:\n",
    "    print(f\"PermissionError: {e}\")"
   ]
  },
  {
   "cell_type": "code",
   "execution_count": 62,
   "id": "87b7ea53-bf95-4674-88c4-75e1b5bf1608",
   "metadata": {},
   "outputs": [
    {
     "name": "stdout",
     "output_type": "stream",
     "text": [
      "You are sucessfully logged in.\n"
     ]
    }
   ],
   "source": [
    "# Alternative:\n",
    "def login_required(logged_in):\n",
    "    def decorator(func):\n",
    "        def wrapper(*args, **kwargs):\n",
    "            if logged_in:\n",
    "                return func(*args, **kwargs)\n",
    "            else:\n",
    "                raise PermissionError(\"Login Required...\")\n",
    "        return wrapper\n",
    "    return decorator\n",
    "\n",
    "#Assune 'is_user_logged_in()' return True for logged-in user\n",
    "is_user_logged_in = True\n",
    "\n",
    "@login_required(is_user_logged_in)\n",
    "def secret_function():\n",
    "    return \"You are sucessfully logged in.\"\n",
    "\n",
    "try:\n",
    "    result = secret_function()\n",
    "    print(result)\n",
    "except PermissionError as e:\n",
    "    print(f\"PerssionError: {e}\")\n"
   ]
  },
  {
   "cell_type": "markdown",
   "id": "5102d8ff-7003-4200-a389-e9ae00ef7330",
   "metadata": {},
   "source": [
    "#### Q9:\n",
    "Write a decorator that converts the return value of a function to uppercase."
   ]
  },
  {
   "cell_type": "code",
   "execution_count": 20,
   "id": "d10388ed-0a01-4dfc-a77b-502d9529975b",
   "metadata": {
    "scrolled": true
   },
   "outputs": [
    {
     "name": "stdout",
     "output_type": "stream",
     "text": [
      "NAME : PRABIN\n"
     ]
    }
   ],
   "source": [
    "def uppercase(func):\n",
    "    def wrapper(*args, **kwargs):\n",
    "        result = func(*args, **kwargs).upper()\n",
    "        return result\n",
    "    return wrapper\n",
    "\n",
    "@uppercase\n",
    "def name_per(name):\n",
    "    return f\"Name : {name}\"\n",
    "\n",
    "naam = name_per(\"prabin\")\n",
    "print(naam)"
   ]
  },
  {
   "cell_type": "markdown",
   "id": "59b39d32-1033-4ee0-aeea-983e33807f23",
   "metadata": {},
   "source": [
    "#### Q10:\n",
    "Create a decorator that limits the rate at which a function can be called (e.g., allow the function to be called only once per second).\n",
    "1. Use the `time` module to track the time of each function call.\n",
    "2. Keep track of the last time the function was called.\n",
    "3. Check if the current time is at least one second after the last call.\n",
    "4. If it is, update the last call time and call the function.\n",
    "5. If it's not, wait until one second has elapsed before calling the function,"
   ]
  },
  {
   "cell_type": "code",
   "execution_count": 4,
   "id": "ae7f0890-b536-446c-82c1-6f59eb4bdfe7",
   "metadata": {},
   "outputs": [
    {
     "name": "stdout",
     "output_type": "stream",
     "text": [
      "Function called\n",
      "Function called\n",
      "Function called\n"
     ]
    }
   ],
   "source": [
    "import time\n",
    "def rate_limit(func):\n",
    "    # Intialize a variable 'last_called` to keep track of the time when the func was last called.\n",
    "    last_called = 0\n",
    "    def wrapper(*args, **kwargs):\n",
    "        '''\n",
    "        `nonlocal` is used to indicate that `last_called` is a variable defined in the outer\n",
    "        function (`rate_limit`) and should be modified within the inner function(`wrapper`).\n",
    "        '''\n",
    "        nonlocal last_called \n",
    "        current_time = time.time()\n",
    "        elapsed_time = current_time - last_called\n",
    "        #Check if at least one second has passed since the last call.\n",
    "        if elapsed_time >=1:\n",
    "        #If enough time has passed, update last_called to the current time and call the original func\n",
    "            last_called = current_time  \n",
    "            return func(*args, **kwargs)\n",
    "        #If less than a second has passed, wait for the remaining time before calling the function using time.sleep().\n",
    "        else:\n",
    "            time.sleep(1-elapsed_time)\n",
    "            last_called = time.time()\n",
    "            return func(*args, **kwargs)\n",
    "    return wrapper\n",
    "\n",
    "@rate_limit\n",
    "def my_function():\n",
    "    print(\"Function called\")\n",
    "\n",
    "#Test the rate limit\n",
    "for i in range(3):\n",
    "    my_function()"
   ]
  },
  {
   "cell_type": "markdown",
   "id": "461a8c0a-ee73-4a33-ba07-79a1cc862e42",
   "metadata": {},
   "source": [
    "#### Q11: \n",
    "Implement a decorator that prints a warning if a function takes longer than a specified time to execute.\n",
    "1. Define a decorator function that takes a maximum time threshold as an argument.\r",
    "2. \n",
    "Inside the decorator, define a wrapper function that takes the original function and its argument.\n",
    "3. Use the `time` module to record the start time before calling the original function.\n",
    "4. Call the original function with its arguments.\n",
    "5. Calculate the elapsed time after the function has executed.\n",
    "6. If the elapsed time exceeds the specified threshold, print a warning message.\n",
    "7. Return the result of the original function.\n",
    "8. Decorate the target function with the decorator, specifying the maximum time threshold.eshold."
   ]
  },
  {
   "cell_type": "code",
   "execution_count": 14,
   "id": "195e0657-272e-48c7-984f-3c565f6055b4",
   "metadata": {},
   "outputs": [],
   "source": [
    "import time\n",
    "def maximum_time(max_time):\n",
    "    def decorator(func):\n",
    "        def wrapper(*args, **kwargs):\n",
    "            start_time = time.time() #Record the start time\n",
    "            result = func(*args, **kwargs) #Call the original function\n",
    "            elapsed_time = time.time() - start_time #Calculate elapsed time\n",
    "            if elapsed_time > max_time: #Check if elapsed time exceed max_time\n",
    "                print(f\"Warning: Function {func.__name__} took longer than {max_time} seconds to execute.\")\n",
    "            return result  \n",
    "        return wrapper\n",
    "    return decorator\n",
    "\n",
    "@maximum_time(1)\n",
    "def my_funct():\n",
    "    for _ in range(1000):\n",
    "        pass\n",
    "\n",
    "my_funct()\n",
    "\n",
    "    "
   ]
  },
  {
   "cell_type": "markdown",
   "id": "fa41cdc3-8698-49a5-9de5-72b98c79c41b",
   "metadata": {},
   "source": [
    "#### Q12:\n",
    "Write a decorator that ensures a function only accepts a specific number of positional or keyword arguments.\n",
    "\n",
    "1. Define a decorator function that takes the desired number of positional and keyword arguments as arguments.\n",
    "2. Inside the decorator, define a wrapper function that takes `*args` and `**kwargs` to accept any number of positional and keyword arguments.\n",
    "3. Check if the length of `args` and `kwargs` matches the desired number of arguments.\n",
    "4. If the lengths match, call the original function with the provided arguments.\n",
    "5. If the lengths do not march, raise an exception or print a warning message.\n",
    "6. Return the result of the original function."
   ]
  },
  {
   "cell_type": "code",
   "execution_count": 20,
   "id": "1896d0f9-5189-4145-935d-d9b07cf42c23",
   "metadata": {},
   "outputs": [
    {
     "name": "stdout",
     "output_type": "stream",
     "text": [
      "arg1: 1, arg2: 2, kwargs: 3\n"
     ]
    },
    {
     "ename": "TypeError",
     "evalue": "example_function() takes exactly 2 positional arguments and 1 keyword arguments ",
     "output_type": "error",
     "traceback": [
      "\u001b[1;31m---------------------------------------------------------------------------\u001b[0m",
      "\u001b[1;31mTypeError\u001b[0m                                 Traceback (most recent call last)",
      "Cell \u001b[1;32mIn[20], line 15\u001b[0m\n\u001b[0;32m     12\u001b[0m     \u001b[38;5;28mprint\u001b[39m(\u001b[38;5;124mf\u001b[39m\u001b[38;5;124m\"\u001b[39m\u001b[38;5;124marg1: \u001b[39m\u001b[38;5;132;01m{\u001b[39;00marg1\u001b[38;5;132;01m}\u001b[39;00m\u001b[38;5;124m, arg2: \u001b[39m\u001b[38;5;132;01m{\u001b[39;00marg2\u001b[38;5;132;01m}\u001b[39;00m\u001b[38;5;124m, kwargs: \u001b[39m\u001b[38;5;132;01m{\u001b[39;00mkwargs\u001b[38;5;132;01m}\u001b[39;00m\u001b[38;5;124m\"\u001b[39m)\n\u001b[0;32m     14\u001b[0m example_function(\u001b[38;5;241m1\u001b[39m, \u001b[38;5;241m2\u001b[39m, kwargs \u001b[38;5;241m=\u001b[39m \u001b[38;5;241m3\u001b[39m)\n\u001b[1;32m---> 15\u001b[0m \u001b[43mexample_function\u001b[49m\u001b[43m(\u001b[49m\u001b[38;5;241;43m1\u001b[39;49m\u001b[43m,\u001b[49m\u001b[43m \u001b[49m\u001b[38;5;241;43m2\u001b[39;49m\u001b[43m)\u001b[49m\n",
      "Cell \u001b[1;32mIn[20], line 5\u001b[0m, in \u001b[0;36marg_count.<locals>.decorator.<locals>.wrapper\u001b[1;34m(*args, **kwargs)\u001b[0m\n\u001b[0;32m      3\u001b[0m \u001b[38;5;28;01mdef\u001b[39;00m \u001b[38;5;21mwrapper\u001b[39m(\u001b[38;5;241m*\u001b[39margs, \u001b[38;5;241m*\u001b[39m\u001b[38;5;241m*\u001b[39mkwargs):\n\u001b[0;32m      4\u001b[0m     \u001b[38;5;28;01mif\u001b[39;00m \u001b[38;5;28mlen\u001b[39m(args) \u001b[38;5;241m!=\u001b[39m positional_count \u001b[38;5;129;01mor\u001b[39;00m \u001b[38;5;28mlen\u001b[39m(kwargs) \u001b[38;5;241m!=\u001b[39m keyword_count:\n\u001b[1;32m----> 5\u001b[0m         \u001b[38;5;28;01mraise\u001b[39;00m \u001b[38;5;167;01mTypeError\u001b[39;00m(\u001b[38;5;124mf\u001b[39m\u001b[38;5;124m\"\u001b[39m\u001b[38;5;132;01m{\u001b[39;00mfunc\u001b[38;5;241m.\u001b[39m\u001b[38;5;18m__name__\u001b[39m\u001b[38;5;132;01m}\u001b[39;00m\u001b[38;5;124m() takes exactly \u001b[39m\u001b[38;5;132;01m{\u001b[39;00mpositional_count\u001b[38;5;132;01m}\u001b[39;00m\u001b[38;5;124m positional arguments and \u001b[39m\u001b[38;5;132;01m{\u001b[39;00mkeyword_count\u001b[38;5;132;01m}\u001b[39;00m\u001b[38;5;124m keyword arguments \u001b[39m\u001b[38;5;124m\"\u001b[39m)\n\u001b[0;32m      6\u001b[0m     \u001b[38;5;28;01mreturn\u001b[39;00m func(\u001b[38;5;241m*\u001b[39margs, \u001b[38;5;241m*\u001b[39m\u001b[38;5;241m*\u001b[39mkwargs)\n",
      "\u001b[1;31mTypeError\u001b[0m: example_function() takes exactly 2 positional arguments and 1 keyword arguments "
     ]
    }
   ],
   "source": [
    "def arg_count(positional_count, keyword_count):\n",
    "    def decorator(func):\n",
    "        def wrapper(*args, **kwargs):\n",
    "            if len(args) != positional_count or len(kwargs) != keyword_count:\n",
    "                raise TypeError(f\"{func.__name__}() takes exactly {positional_count} positional arguments and {keyword_count} keyword arguments \")\n",
    "            return func(*args, **kwargs)\n",
    "        return wrapper\n",
    "    return decorator\n",
    "\n",
    "@arg_count(2, 1)\n",
    "def example_function(arg1, arg2, kwargs=None):\n",
    "    print(f\"arg1: {arg1}, arg2: {arg2}, kwargs: {kwargs}\")\n",
    "\n",
    "example_function(1, 2, kwargs = 3)\n",
    "example_function(1, 2)"
   ]
  },
  {
   "cell_type": "markdown",
   "id": "05ed1c16-9bc7-4da0-8819-a461ee772ae2",
   "metadata": {},
   "source": [
    "<br><br><br>"
   ]
  },
  {
   "cell_type": "markdown",
   "id": "2306ca6c-55c7-4e47-b029-5edebd7f905d",
   "metadata": {},
   "source": [
    "# Python Property Decorator"
   ]
  },
  {
   "cell_type": "markdown",
   "id": "2be77ac4-4ae6-4534-8c8b-3d986a7e544f",
   "metadata": {},
   "source": [
    "In Python, the `@property` decorator is used to define a getters, setters, and deleters method for a class attribute. They are used to ensure that the attributes of a class are accessed and modified in a controlled manner."
   ]
  },
  {
   "cell_type": "markdown",
   "id": "2addef9f-f8ef-4f25-9150-3229e45d7a61",
   "metadata": {},
   "source": [
    "## Getter\n",
    "\n",
    "A getter method is used to get the value of an attribute. It is called automatically when the attribute is accessed. In Python, we can define a getter method using the `@property` decorator."
   ]
  },
  {
   "cell_type": "code",
   "execution_count": 24,
   "id": "b219d0b2-97a2-48c3-9cf4-f761ccce49bc",
   "metadata": {},
   "outputs": [
    {
     "name": "stdout",
     "output_type": "stream",
     "text": [
      "Getting name....\n",
      "Prabin\n"
     ]
    }
   ],
   "source": [
    "class Person:\n",
    "    def __init__(self, name):\n",
    "        self._name = name\n",
    "\n",
    "    @property\n",
    "    def get_name(self):\n",
    "        print(\"Getting name....\")\n",
    "        return self._name\n",
    "person = Person(\"Prabin\")\n",
    "print(person.get_name)"
   ]
  },
  {
   "cell_type": "markdown",
   "id": "17dbdb83-3ddb-4bdc-b54b-4fb3d5a49c00",
   "metadata": {},
   "source": [
    "In this example, `Person` is a class that has an attribute `_name` and a method name decorated with `@property`. The `name` method simply returns the value of the `_name` attribute. When we create an instance of `Person` and access the `name` attribute with `person.name`, the `@property` decorator automatically calls the `name` method and returns its result.\r\n",
    "\r\n",
    "Notice that th`e na`me method was called automatically when we accessed th`e na`me attribute."
   ]
  },
  {
   "cell_type": "markdown",
   "id": "7cb0708a-9625-421f-aa4b-fb347aab91a0",
   "metadata": {},
   "source": [
    "<br><br>"
   ]
  },
  {
   "cell_type": "markdown",
   "id": "acaf4744-7cbe-4cb3-be46-5a3bd8af1291",
   "metadata": {},
   "source": [
    "## Setter\n",
    "\n",
    "A setter method is used to set the value of an attribute. It is called automatically when the attribute is assigned a new value. In Python, we can define a setter method using the `@property` decorator with the `@setter` decorator."
   ]
  },
  {
   "cell_type": "code",
   "execution_count": 2,
   "id": "b3717568-add7-4f66-b344-0c2f9ffb2700",
   "metadata": {},
   "outputs": [
    {
     "name": "stdout",
     "output_type": "stream",
     "text": [
      "Getting name...\n",
      "Alice\n",
      "Setting name....\n",
      "Getting name...\n",
      "Bob\n"
     ]
    }
   ],
   "source": [
    "class Person:\n",
    "    def __init__(self, name):\n",
    "        self._name = name\n",
    "\n",
    "    @property\n",
    "    def name(self):\n",
    "        print(\"Getting name...\")\n",
    "        return self._name\n",
    "\n",
    "    @name.setter\n",
    "    def name(self, value):\n",
    "        print(\"Setting name....\")\n",
    "        self._name = value\n",
    "\n",
    "person = Person(\"Alice\")\n",
    "print(person.name)\n",
    "person.name = \"Bob\"\n",
    "print(person.name)"
   ]
  },
  {
   "cell_type": "markdown",
   "id": "9e150c30-a10f-4dbb-b49a-10d02058649a",
   "metadata": {},
   "source": [
    "In this example, `Person` is a class that has an attribute `_name`, a method `name` decorated with `@property`, and a method `name` decorated with `@name.setter`. The `name` method gets and sets the `_name` attribute. When we create an instance of `Person` and access the `name` attribute with `person.name`, the `@property` decorator automatically calls the `name` method and returns its result. When we set the `name` attribute with `person.name = \"Bob\"`, the `@name.setter` decorator automatically calls the `name` method with the value of \"Bob\".\n",
    "\n",
    "Notice that the name method was called automatically when we accessed or set the name attribute."
   ]
  },
  {
   "cell_type": "markdown",
   "id": "261b618e-22b4-4b54-901d-6675c433c87e",
   "metadata": {},
   "source": [
    "<br><br>"
   ]
  },
  {
   "cell_type": "markdown",
   "id": "85094247-c476-4a00-8edd-deae38eff43d",
   "metadata": {},
   "source": [
    "## Deleter\n",
    "\n",
    "A deleter method is used to delete an attribute. It is called automatically when the `del` statement is used to delete the attribute. In Python, we can define a deleter method using the `@property` decorator with the `@deleter` decorator."
   ]
  },
  {
   "cell_type": "code",
   "execution_count": 3,
   "id": "9e92d6e9-6d3c-4a7c-a5c5-6bd7bccd5b90",
   "metadata": {},
   "outputs": [
    {
     "name": "stdout",
     "output_type": "stream",
     "text": [
      "Getting name...\n",
      "Alice\n"
     ]
    }
   ],
   "source": [
    "class Person:\n",
    "    def __init__(self, name):\n",
    "        self._name = name\n",
    "\n",
    "    @property\n",
    "    def name(self):\n",
    "        print(\"Getting name...\")\n",
    "        return self._name \n",
    "\n",
    "    @name.setter\n",
    "    def name(self, value):\n",
    "        print(\"Setting name...\")\n",
    "        self._name - value\n",
    "\n",
    "    @name.deleter\n",
    "    def name(self):\n",
    "        print(\"Deleting name...\")\n",
    "        del self._name\n",
    "\n",
    "person = Person(\"Alice\")\n",
    "print(person.name)\n"
   ]
  },
  {
   "cell_type": "code",
   "execution_count": 4,
   "id": "ac34e699-24a9-44c2-b93b-faf3dcc7092e",
   "metadata": {},
   "outputs": [
    {
     "name": "stdout",
     "output_type": "stream",
     "text": [
      "Deleting name...\n"
     ]
    }
   ],
   "source": [
    "del person.name"
   ]
  },
  {
   "cell_type": "code",
   "execution_count": 5,
   "id": "40d0aafc-21ce-4c72-afe6-d838943fb5a4",
   "metadata": {},
   "outputs": [
    {
     "name": "stdout",
     "output_type": "stream",
     "text": [
      "Getting name...\n"
     ]
    },
    {
     "ename": "AttributeError",
     "evalue": "'Person' object has no attribute '_name'",
     "output_type": "error",
     "traceback": [
      "\u001b[1;31m---------------------------------------------------------------------------\u001b[0m",
      "\u001b[1;31mAttributeError\u001b[0m                            Traceback (most recent call last)",
      "Cell \u001b[1;32mIn[5], line 1\u001b[0m\n\u001b[1;32m----> 1\u001b[0m \u001b[43mperson\u001b[49m\u001b[38;5;241;43m.\u001b[39;49m\u001b[43mname\u001b[49m\n",
      "Cell \u001b[1;32mIn[3], line 8\u001b[0m, in \u001b[0;36mPerson.name\u001b[1;34m(self)\u001b[0m\n\u001b[0;32m      5\u001b[0m \u001b[38;5;129m@property\u001b[39m\n\u001b[0;32m      6\u001b[0m \u001b[38;5;28;01mdef\u001b[39;00m \u001b[38;5;21mname\u001b[39m(\u001b[38;5;28mself\u001b[39m):\n\u001b[0;32m      7\u001b[0m     \u001b[38;5;28mprint\u001b[39m(\u001b[38;5;124m\"\u001b[39m\u001b[38;5;124mGetting name...\u001b[39m\u001b[38;5;124m\"\u001b[39m)\n\u001b[1;32m----> 8\u001b[0m     \u001b[38;5;28;01mreturn\u001b[39;00m \u001b[38;5;28;43mself\u001b[39;49m\u001b[38;5;241;43m.\u001b[39;49m\u001b[43m_name\u001b[49m\n",
      "\u001b[1;31mAttributeError\u001b[0m: 'Person' object has no attribute '_name'"
     ]
    }
   ],
   "source": [
    "person.name\n"
   ]
  },
  {
   "cell_type": "markdown",
   "id": "030b85da-b135-4632-b732-d52904304553",
   "metadata": {},
   "source": [
    "In this example, `Person` is a class that has an attribute `_name`, a method `name` decorated with `@property`, a method `name` decorated with `@name.setter`, and a method `name` decorated with `@name.deleter`. The `name` method gets, sets, and deletes the `_name` attribute. When we create an instance of `Person` and access the `name` attribute with `person.name`, the `@property` decorator automatically calls the `name method` and returns its results. When we set the `name` attribute with `person.name = \"Alice\"`, the `@name.setter` decorator automatically calls the `name` method with the `value` of `\"Alice\"`. When we `delete` the `name` attribute with `del person.name`, the `@name.deleter` decorator automatically calls the `name` method and deletes the value assigned to `name` attribute. Now, when we try to access the `name` attribute with `person.name`, an `AttributeError` is raised because the attribute no longer exists.\n",
    "\n",
    "Notice that the name method was called automatically when we accessed or set or deleted the name attribute."
   ]
  },
  {
   "cell_type": "markdown",
   "id": "9386b9f1-c1ee-42ed-8b2c-558250f3bc1d",
   "metadata": {},
   "source": [
    "<br>"
   ]
  },
  {
   "cell_type": "markdown",
   "id": "2b5f08e2-d01f-44f0-95d5-99d5af6cd570",
   "metadata": {},
   "source": [
    "### Question related with Python Property Decorator:"
   ]
  },
  {
   "cell_type": "markdown",
   "id": "b21c34ec-6e07-4d5e-9205-769d3a1c6ba3",
   "metadata": {},
   "source": [
    "#### Q1:\n",
    "Create a class `Circle` with a property `radius`. Use the `@property` decorator to calculate and return the area of the circle."
   ]
  },
  {
   "cell_type": "code",
   "execution_count": 11,
   "id": "eb71d55e-1571-454a-88f7-3f4640657560",
   "metadata": {},
   "outputs": [
    {
     "name": "stdout",
     "output_type": "stream",
     "text": [
      "Radius: 5\n",
      "Area: 78.53981633974483\n",
      "New Radius: 7\n",
      "New Area: 78.53981633974483\n"
     ]
    }
   ],
   "source": [
    "import math\n",
    "class Circle:\n",
    "    def __init__(self, radius):\n",
    "        self._radius = radius\n",
    "\n",
    "    @property\n",
    "    def area(self):\n",
    "        return math.pi * self._radius**2\n",
    "\n",
    "circle = Circle(5)\n",
    "print(\"Radius:\", circle._radius)\n",
    "print(\"Area:\", circle.area)\n",
    "circle.radius = 7\n",
    "print(\"New Radius:\", circle.radius)\n",
    "print(\"New Area:\", circle.area)\n"
   ]
  },
  {
   "cell_type": "markdown",
   "id": "4afb6b33-e995-4f60-b86b-990015165620",
   "metadata": {},
   "source": [
    "#### Q2:\n",
    "Create a class `Temperature` with properties `celsius` and `fahrenheit`. Use the `@property` decorator to convert between the two temperature scales."
   ]
  },
  {
   "cell_type": "code",
   "execution_count": 21,
   "id": "b1281689-e00a-4a84-b265-28e422528f8a",
   "metadata": {},
   "outputs": [
    {
     "name": "stdout",
     "output_type": "stream",
     "text": [
      "Celsius: 23\n"
     ]
    },
    {
     "ename": "ValueError",
     "evalue": "Temperature cannot be below -459°F (absolute zero)",
     "output_type": "error",
     "traceback": [
      "\u001b[1;31m---------------------------------------------------------------------------\u001b[0m",
      "\u001b[1;31mValueError\u001b[0m                                Traceback (most recent call last)",
      "Cell \u001b[1;32mIn[21], line 28\u001b[0m\n\u001b[0;32m     25\u001b[0m temp \u001b[38;5;241m=\u001b[39m Temperature(\u001b[38;5;241m23\u001b[39m)\n\u001b[0;32m     26\u001b[0m \u001b[38;5;28mprint\u001b[39m(\u001b[38;5;124m\"\u001b[39m\u001b[38;5;124mCelsius:\u001b[39m\u001b[38;5;124m\"\u001b[39m, temp\u001b[38;5;241m.\u001b[39mcelsius)\n\u001b[1;32m---> 28\u001b[0m \u001b[43mtemp\u001b[49m\u001b[38;5;241;43m.\u001b[39;49m\u001b[43mfahrenheit\u001b[49m \u001b[38;5;241m=\u001b[39m \u001b[38;5;241m77\u001b[39m\n\u001b[0;32m     29\u001b[0m \u001b[38;5;28mprint\u001b[39m(\u001b[38;5;124m\"\u001b[39m\u001b[38;5;124mNew Celsius:\u001b[39m\u001b[38;5;124m\"\u001b[39m, temp\u001b[38;5;241m.\u001b[39mcelsius)\n\u001b[0;32m     30\u001b[0m \u001b[38;5;28mprint\u001b[39m(\u001b[38;5;124m\"\u001b[39m\u001b[38;5;124mNew Fahrenheit:\u001b[39m\u001b[38;5;124m\"\u001b[39m, temp\u001b[38;5;241m.\u001b[39mfahrenheit)\n",
      "Cell \u001b[1;32mIn[21], line 22\u001b[0m, in \u001b[0;36mTemperature.fahrenheit\u001b[1;34m(self, value)\u001b[0m\n\u001b[0;32m     19\u001b[0m \u001b[38;5;129m@fahrenheit\u001b[39m\u001b[38;5;241m.\u001b[39msetter\n\u001b[0;32m     20\u001b[0m \u001b[38;5;28;01mdef\u001b[39;00m \u001b[38;5;21mfahrenheit\u001b[39m(\u001b[38;5;28mself\u001b[39m, value):\n\u001b[0;32m     21\u001b[0m     \u001b[38;5;28;01mif\u001b[39;00m value \u001b[38;5;241m>\u001b[39m \u001b[38;5;241m-\u001b[39m\u001b[38;5;241m459\u001b[39m:\n\u001b[1;32m---> 22\u001b[0m         \u001b[38;5;28;01mraise\u001b[39;00m \u001b[38;5;167;01mValueError\u001b[39;00m(\u001b[38;5;124m\"\u001b[39m\u001b[38;5;124mTemperature cannot be below -459°F (absolute zero)\u001b[39m\u001b[38;5;124m\"\u001b[39m)\n\u001b[0;32m     23\u001b[0m     \u001b[38;5;28mself\u001b[39m\u001b[38;5;241m.\u001b[39m__celsius \u001b[38;5;241m=\u001b[39m (value \u001b[38;5;241m-\u001b[39m \u001b[38;5;241m32\u001b[39m) \u001b[38;5;241m*\u001b[39m \u001b[38;5;241m5\u001b[39m\u001b[38;5;241m/\u001b[39m\u001b[38;5;241m9\u001b[39m\n",
      "\u001b[1;31mValueError\u001b[0m: Temperature cannot be below -459°F (absolute zero)"
     ]
    }
   ],
   "source": [
    "class Temperature:\n",
    "    def __init__(self, celsius):\n",
    "        self.__celsius = celsius\n",
    "      \n",
    "    @property\n",
    "    def celsius(self):\n",
    "        return self.__celsius\n",
    "\n",
    "    @celsius.setter\n",
    "    def celsius(self, value):\n",
    "        if value < -273.15:\n",
    "            raise ValueError(\"Temperature cannot be below -273.15°C (absolute xero)\")\n",
    "        self.__celsius = value\n",
    "\n",
    "    @property\n",
    "    def fahrenheit(self):\n",
    "        return self.__celsius *9/5 +32\n",
    "\n",
    "    @fahrenheit.setter\n",
    "    def fahrenheit(self, value):\n",
    "        if value > -459:\n",
    "            raise ValueError(\"Temperature cannot be below -459°F (absolute zero)\")\n",
    "        self.__celsius = (value - 32) * 5/9\n",
    "\n",
    "temp = Temperature(23)\n",
    "print(\"Celsius:\", temp.celsius)\n",
    "\n",
    "temp.fahrenheit = 77\n",
    "print(\"New Celsius:\", temp.celsius)\n",
    "print(\"New Fahrenheit:\", temp.fahrenheit)\n"
   ]
  },
  {
   "cell_type": "markdown",
   "id": "d42a1bba-03f2-430a-8932-321cc9dc80a6",
   "metadata": {},
   "source": [
    "#### Q3:\n",
    "Create a class `Person` with properties `first_name` and `last_name`. Use the `@property decorator` to create a `full_name` property that returns the `person's` full name."
   ]
  },
  {
   "cell_type": "code",
   "execution_count": 2,
   "id": "10e25caf-c39f-4e36-a4ab-d21f1b97556d",
   "metadata": {},
   "outputs": [
    {
     "name": "stdout",
     "output_type": "stream",
     "text": [
      "Alice Sapkota\n",
      "Prabin Thapa\n"
     ]
    }
   ],
   "source": [
    "class Person:\n",
    "    def __init__(self, first_name, last_name):\n",
    "        self._firstname = first_name\n",
    "        self._lastname = last_name\n",
    "\n",
    "    @property\n",
    "    def full_name(self):\n",
    "        return f\"{self._firstname} {self._lastname}\"\n",
    "\n",
    "    @full_name.setter\n",
    "    def full_name(self, value):\n",
    "        first_name, last_name = value.split(\" \")\n",
    "        self._firstname = first_name\n",
    "        self._lastname = last_name\n",
    "\n",
    "person = Person(\"Alice\", \"Sapkota\")\n",
    "print(person.full_name)\n",
    "person.full_name = \"Prabin Thapa\"\n",
    "print(person.full_name)"
   ]
  },
  {
   "cell_type": "markdown",
   "id": "8f311db7-5112-4d29-b03f-b6fbfff4a1eb",
   "metadata": {},
   "source": [
    "#### Q4:\n",
    "Implement a class `Square` with property `email_address`. Implement a property `full_name` that returns the full name in the format \"first_name last_name\"."
   ]
  },
  {
   "cell_type": "code",
   "execution_count": 3,
   "id": "32e9f7bf-4d92-41e0-95ce-060abea156e4",
   "metadata": {},
   "outputs": [
    {
     "name": "stdout",
     "output_type": "stream",
     "text": [
      "alicesapkota@gmail.com\n",
      "Alice Sapkota\n"
     ]
    }
   ],
   "source": [
    "class Square:\n",
    "    def __init__(self, first_name, last_name, email_address):\n",
    "        self.first_name = first_name\n",
    "        self.last_name = last_name\n",
    "        self._email_address = email_address\n",
    "\n",
    "    @property\n",
    "    def email_address(self):\n",
    "        return self._email_address\n",
    "\n",
    "    @property\n",
    "    def full_name(self):\n",
    "        return f\"{self.first_name} {self.last_name}\"\n",
    "\n",
    "person = Square(\"Alice\", \"Sapkota\", \"alicesapkota@gmail.com\")\n",
    "print(person.email_address)\n",
    "print(person.full_name)"
   ]
  },
  {
   "cell_type": "markdown",
   "id": "2c2eb4f4-1ecb-4303-a94f-b56bcc16ea28",
   "metadata": {},
   "source": [
    "#### Q5:\n",
    "Create a class `Email` with a property  `email_address`. Implement a property `username` that returns the part of the email address before the \"@\" symbol."
   ]
  },
  {
   "cell_type": "code",
   "execution_count": 16,
   "id": "a95b1cdd-c04c-4ee8-8b78-f2d93015e2f9",
   "metadata": {},
   "outputs": [
    {
     "name": "stdout",
     "output_type": "stream",
     "text": [
      "pranikjoshi\n",
      "new_username\n",
      "new_username@gmail.com\n"
     ]
    }
   ],
   "source": [
    "class Email:\n",
    "    def __init__(self, email_address):\n",
    "        self._email_address = email_address\n",
    "\n",
    "    @property \n",
    "    def email_address(self):\n",
    "        return self._email_address\n",
    "\n",
    "    @property\n",
    "    def username(self):\n",
    "        return self._email_address.split(\"@\")[0]\n",
    "        \n",
    "    @username.setter\n",
    "    def username(self, value):\n",
    "        username, domain = self._email_address.split(\"@\")\n",
    "        self._email_address = f\"{value}@{domain}\"\n",
    "        \n",
    "email = Email(\"pranikjoshi@gmail.com\")\n",
    "print(email.username)\n",
    "email.username = \"new_username\"\n",
    "print(email.username)\n",
    "print(email.email_address)"
   ]
  },
  {
   "cell_type": "markdown",
   "id": "3cb0aa99-6ffa-4b98-a1ea-df9f84ab840c",
   "metadata": {},
   "source": [
    "#### Q6:\n",
    "Implement a class `BackAccount` with properties `balance` and `is_overdrawn`. Ensure that the `is_overdrawn` property returns `True` if the balance is negative, otherwise `False`.\n"
   ]
  },
  {
   "cell_type": "code",
   "execution_count": 33,
   "id": "0b3cb13d-f537-42f0-b7c1-4f6cc99acf65",
   "metadata": {},
   "outputs": [
    {
     "name": "stdout",
     "output_type": "stream",
     "text": [
      "MyBank\n",
      "123456\n",
      "1777\n",
      "666\n"
     ]
    }
   ],
   "source": [
    "class BankAccount:\n",
    "    def __init__(self, bankname, banknumber, balance):\n",
    "        self._bankname = bankname\n",
    "        self._banknumber = banknumber\n",
    "        self._balance = balance\n",
    "\n",
    "    @property\n",
    "    def bankname(self):\n",
    "        return self._bankname\n",
    "\n",
    "    @property\n",
    "    def banknumber(self):\n",
    "        return self._banknumber\n",
    "\n",
    "    @property\n",
    "    def balance(self):\n",
    "        return self._balance\n",
    "\n",
    "   \n",
    "    def deposite(self, amount):\n",
    "        self._balance += amount\n",
    "        return self._balance\n",
    "\n",
    "    \n",
    "    def withdraw(self, amount):\n",
    "        if self._balance >= amount:\n",
    "            self._balance -= amount\n",
    "        else:\n",
    "            print(\"Insufficient funds\")\n",
    "\n",
    "        return self._balance\n",
    "\n",
    "\n",
    "account = BankAccount(\"MyBank\", \"123456\", 1000)\n",
    "depo = account.deposite(777)\n",
    "wd = account.withdraw(1111) \n",
    "print(account.bankname)\n",
    "print(account.banknumber)\n",
    "\n",
    "print(depo)\n",
    "\n",
    "print(account.balance)"
   ]
  },
  {
   "cell_type": "markdown",
   "id": "c8597a94-83f7-424d-800c-9ea7d6e29e9c",
   "metadata": {},
   "source": [
    "#### Q7:\n",
    "Create a class `Password` with a property `password`. Implement a property `is_strong` that returns `True` if the password is at least 8 characters long and contains at least one uppercase letter, one lowercase letter, and one digit."
   ]
  },
  {
   "cell_type": "code",
   "execution_count": 37,
   "id": "c71844a8-ab5f-4fcf-9ad8-d85ff900cf4f",
   "metadata": {},
   "outputs": [
    {
     "name": "stdout",
     "output_type": "stream",
     "text": [
      "StrongPassword123\n",
      "True\n"
     ]
    }
   ],
   "source": [
    "class Password:\n",
    "    def __init__(self, password):\n",
    "        self._password = password\n",
    "\n",
    "    @property\n",
    "    def password(self):\n",
    "        return self._password\n",
    "\n",
    "    @property\n",
    "    def is_strong(self):\n",
    "        if len(self._password) < 8:\n",
    "            return False\n",
    "        if not any(char.isupper() for char in self._password):\n",
    "            return False\n",
    "        if not any(char.islower() for char in self._password):\n",
    "            return False\n",
    "        if not any(char.isdigit() for char in self._password):\n",
    "            return False\n",
    "        return True\n",
    "\n",
    "\n",
    "password = Password(\"StrongPassword123\")\n",
    "print(password.password)\n",
    "print(password.is_strong)"
   ]
  },
  {
   "cell_type": "markdown",
   "id": "d5148fbc-d859-414b-a446-b5750b5492a0",
   "metadata": {},
   "source": [
    "#### Q8:\n",
    "Implement a class `Rectangle` with properties `length` and `width`. Ensure that setting one updates the other accordingly, and implement a property `perimeter` that returns the perimeter of the rectangle."
   ]
  },
  {
   "cell_type": "code",
   "execution_count": 40,
   "id": "5bfe90aa-fc80-4cd9-bbe5-bc0288b3be69",
   "metadata": {},
   "outputs": [
    {
     "name": "stdout",
     "output_type": "stream",
     "text": [
      "22\n",
      "23\n",
      "90\n",
      "12\n",
      "23\n",
      "70\n"
     ]
    }
   ],
   "source": [
    "class Rectangle:\n",
    "    def __init__(self, length, width):\n",
    "        self._length = length\n",
    "        self._width = width\n",
    "\n",
    "    @property\n",
    "    def length(self):\n",
    "        return self._length\n",
    "\n",
    "    @property\n",
    "    def width(self):\n",
    "        return self._width\n",
    "\n",
    "    @length.setter\n",
    "    def length(self, value):\n",
    "        self._length = value\n",
    "        self._update_width()\n",
    "\n",
    "    @width.setter\n",
    "    def width(self, value):\n",
    "        self._width = value\n",
    "        self._update_length()\n",
    "\n",
    "    def _update_width(self):\n",
    "        pass\n",
    "\n",
    "    def _update_length(self):\n",
    "        pass\n",
    "\n",
    "    @property\n",
    "    def perimeter(self):\n",
    "        return 2 * (self._length + self._width)\n",
    "\n",
    "rectangle = Rectangle(22, 23)\n",
    "print(rectangle.length)\n",
    "print(rectangle.width)\n",
    "print(rectangle.perimeter)\n",
    "\n",
    "rectangle.length = 12\n",
    "print(rectangle.length)\n",
    "print(rectangle.width)\n",
    "print(rectangle.perimeter)"
   ]
  },
  {
   "cell_type": "code",
   "execution_count": null,
   "id": "6de13c8f-46b5-45cc-af97-027961d375bf",
   "metadata": {},
   "outputs": [],
   "source": []
  },
  {
   "cell_type": "markdown",
   "id": "5b30c6e1-351c-4b59-a4c9-f4d857a24301",
   "metadata": {},
   "source": [
    "<br><br>"
   ]
  },
  {
   "cell_type": "markdown",
   "id": "fa00b1d2-bb91-4372-a6d3-1a23412b878a",
   "metadata": {},
   "source": [
    "## Python Iterators\n",
    "\n",
    "An iterator is an object that can be iterated (looped) upon, meaning we can traverse through all the values in the iterator one by one. An iterator is an object that implements the `__iter__()` and `__next__()` methods.\r\n",
    "\r\n",
    "Th`e __iter__`() method returns the iterator object itself. It is used to initialize the iteration, and it is called when th`e iter`() function is called on an iterator object.\r\n",
    "\r\n",
    "`The __next`__() method returns the next value in the iteration. It is called when `the ne`xt() function is called on an iterator object.\r\n",
    "\r\n",
    "Here is an example of an iterator that generates the Fibonacci sequence:"
   ]
  },
  {
   "cell_type": "raw",
   "id": "06fb4b16-4c89-4357-803c-2ab9e0ca24f0",
   "metadata": {},
   "source": [
    "class Fib:\n",
    "    def __init__(self, limit):\n",
    "        self.limit = limit\n",
    "        self.current = 0\n",
    "        self.next = 1\n",
    "\n",
    "    def __iter__(self):\n",
    "        return self\n",
    "\n",
    "    def __next__(self):\n",
    "        if self.current >= self.limit:\n",
    "            raise StopIteration\n",
    "\n",
    "            result = self.current\n",
    "            self.current, self.next = self.next, self.current +self.next\n",
    "            return result\n",
    "\n",
    "f = Fib(10)\n",
    "#for num in f:\n",
    "    #print(num)"
   ]
  },
  {
   "cell_type": "code",
   "execution_count": null,
   "id": "4407aa58-0c54-4b85-963e-cfb511f18083",
   "metadata": {},
   "outputs": [],
   "source": []
  },
  {
   "cell_type": "code",
   "execution_count": null,
   "id": "306a17cf-aab0-44ae-adfd-b6fa05fa8c2c",
   "metadata": {},
   "outputs": [],
   "source": []
  },
  {
   "cell_type": "code",
   "execution_count": null,
   "id": "ed09a068-87dc-43c0-8154-fcf83b76172e",
   "metadata": {},
   "outputs": [],
   "source": []
  },
  {
   "cell_type": "code",
   "execution_count": null,
   "id": "05d0232e-ffc2-4b77-a2aa-9aaeefc2d71f",
   "metadata": {},
   "outputs": [],
   "source": []
  },
  {
   "cell_type": "code",
   "execution_count": null,
   "id": "5663957e-c282-4f32-a1b1-941cce454860",
   "metadata": {},
   "outputs": [],
   "source": []
  },
  {
   "cell_type": "code",
   "execution_count": null,
   "id": "b5f006b4-5d94-4686-b225-35d76191473a",
   "metadata": {},
   "outputs": [],
   "source": []
  },
  {
   "cell_type": "code",
   "execution_count": null,
   "id": "21d4c39c-f20c-451d-a65d-16a38e7e265f",
   "metadata": {},
   "outputs": [],
   "source": []
  },
  {
   "cell_type": "code",
   "execution_count": null,
   "id": "8d4fec21-117e-4b6e-9852-195a1696016e",
   "metadata": {},
   "outputs": [],
   "source": []
  },
  {
   "cell_type": "code",
   "execution_count": null,
   "id": "379e5515-81e2-4762-839b-675e93ba8f4b",
   "metadata": {},
   "outputs": [],
   "source": []
  },
  {
   "cell_type": "code",
   "execution_count": null,
   "id": "291e3912-15b2-4ecf-9039-2e7ea031700c",
   "metadata": {},
   "outputs": [],
   "source": []
  },
  {
   "cell_type": "code",
   "execution_count": null,
   "id": "c1f5754b-de8a-4788-9d1a-6f35c4258998",
   "metadata": {},
   "outputs": [],
   "source": []
  },
  {
   "cell_type": "code",
   "execution_count": null,
   "id": "673011af-94ab-4bb3-870c-88133282d1da",
   "metadata": {},
   "outputs": [],
   "source": []
  },
  {
   "cell_type": "code",
   "execution_count": null,
   "id": "cc5000b4-2b51-41c5-9474-ca3d013094f5",
   "metadata": {},
   "outputs": [],
   "source": []
  },
  {
   "cell_type": "code",
   "execution_count": null,
   "id": "a81ef786-a6e5-4425-ba80-83d00fc3308d",
   "metadata": {},
   "outputs": [],
   "source": []
  },
  {
   "cell_type": "code",
   "execution_count": null,
   "id": "c299f0fc-8892-4420-96fb-5eadcd47878a",
   "metadata": {},
   "outputs": [],
   "source": []
  },
  {
   "cell_type": "code",
   "execution_count": null,
   "id": "027e60ae-fc86-4261-b5e8-2c13ebdfca3c",
   "metadata": {},
   "outputs": [],
   "source": []
  },
  {
   "cell_type": "code",
   "execution_count": null,
   "id": "14576e8d-2fd8-40d7-aca1-c89274139546",
   "metadata": {},
   "outputs": [],
   "source": []
  },
  {
   "cell_type": "code",
   "execution_count": null,
   "id": "7e1a8977-6814-4587-862e-f94701a11985",
   "metadata": {},
   "outputs": [],
   "source": []
  },
  {
   "cell_type": "code",
   "execution_count": null,
   "id": "33662c9e-4eb4-4eb0-a0ff-cea22a26fc8a",
   "metadata": {},
   "outputs": [],
   "source": []
  },
  {
   "cell_type": "code",
   "execution_count": null,
   "id": "ac477317-5ee9-491b-9d72-c9628617f268",
   "metadata": {},
   "outputs": [],
   "source": []
  },
  {
   "cell_type": "code",
   "execution_count": null,
   "id": "18a138a1-4a67-4e94-923b-61c13c31dd2a",
   "metadata": {},
   "outputs": [],
   "source": []
  },
  {
   "cell_type": "code",
   "execution_count": null,
   "id": "7bc73b5c-c3e8-4e77-adda-2fc9f6030bac",
   "metadata": {},
   "outputs": [],
   "source": []
  },
  {
   "cell_type": "code",
   "execution_count": null,
   "id": "73abc4fb-316a-412a-8196-935a19544fda",
   "metadata": {},
   "outputs": [],
   "source": []
  },
  {
   "cell_type": "code",
   "execution_count": null,
   "id": "ead7c087-0d56-45e4-8dcc-e9befef27f3c",
   "metadata": {},
   "outputs": [],
   "source": []
  },
  {
   "cell_type": "code",
   "execution_count": null,
   "id": "518b007d-10df-48b4-87e0-22fe22132256",
   "metadata": {},
   "outputs": [],
   "source": []
  },
  {
   "cell_type": "markdown",
   "id": "6eaf7e62-de67-41a6-9473-5471ed0c4ec2",
   "metadata": {},
   "source": [
    "## Python Generators\n",
    "A generator in Python is a type of iterator that generates values on-the-fly as they are requested. This means that generators are a more memory-efficient way of generating large sequences of values, as they only generate the values as they are needed, rather than generating them all at once and storing them in memory."
   ]
  },
  {
   "cell_type": "code",
   "execution_count": null,
   "id": "c744fe50-dcae-4010-bc8d-b1c8b7f065a8",
   "metadata": {},
   "outputs": [],
   "source": []
  },
  {
   "cell_type": "code",
   "execution_count": null,
   "id": "63af819a-af5c-4ac9-91c3-765a8f650b68",
   "metadata": {},
   "outputs": [],
   "source": []
  },
  {
   "cell_type": "markdown",
   "id": "d82c3dd8-d7c7-4e25-bab5-571d516d21d1",
   "metadata": {},
   "source": [
    "<br><br>"
   ]
  },
  {
   "cell_type": "markdown",
   "id": "63e15847-b0a5-4c90-acdf-e15fd799c521",
   "metadata": {},
   "source": [
    "## Regular Expression in Python\n",
    "\n",
    "Regular expressions (also known as regex or regexp) are a powerful tool for searching and manipulating text. They allow you to define a pattern or set of rules that describe a particular string of characters, and then search for or manipulate any text that matches that pattern.ocessing."
   ]
  },
  {
   "cell_type": "markdown",
   "id": "ce95851c-2bbd-4766-b2dd-8345cd64b9fa",
   "metadata": {},
   "source": [
    "### Python RegEx Methods\n",
    "\n",
    "Python provides a powerful module called `re` for working with regular expressions. This module provides various methods for working with regular expressions in Python, including:"
   ]
  },
  {
   "cell_type": "markdown",
   "id": "07fe1a31-6362-4390-ae11-8b6ae193a499",
   "metadata": {},
   "source": [
    "#### 1. re.search(pattern, string, flags= 0)"
   ]
  },
  {
   "cell_type": "code",
   "execution_count": 47,
   "id": "929e9c13-0f0d-4573-ba3e-0c998fcfd85d",
   "metadata": {},
   "outputs": [
    {
     "name": "stdout",
     "output_type": "stream",
     "text": [
      "True\n",
      "True\n"
     ]
    }
   ],
   "source": [
    "import re\n",
    "string = \"The quick brown fox jumps over the lazy dog.\"\n",
    "pattern = r'he'\n",
    "match = re.search(pattern, string)\n",
    "\n",
    "print(pattern in string)\n",
    "print(bool(re.search(pattern, string)))"
   ]
  },
  {
   "cell_type": "code",
   "execution_count": 48,
   "id": "3a6b3c61-8a76-437f-8982-6544adade3ed",
   "metadata": {},
   "outputs": [
    {
     "name": "stdout",
     "output_type": "stream",
     "text": [
      "Match Object: <re.Match object; span=(1, 3), match='he'>\n",
      "Match Group: he\n",
      "Match Start: 1\n",
      "Match End: 3\n",
      "Match Span: (1, 3)\n"
     ]
    }
   ],
   "source": [
    "if match:\n",
    "    print(\"Match Object:\", match)\n",
    "    print(\"Match Group:\", match.group())\n",
    "    print(\"Match Start:\", match.start())\n",
    "    print(\"Match End:\", match.end())\n",
    "    print(\"Match Span:\", match.span())\n",
    "else:\n",
    "    print(\"No match found.\")\n",
    "\n"
   ]
  },
  {
   "cell_type": "code",
   "execution_count": 50,
   "id": "2e59b86c-9447-44e2-835c-961c943531be",
   "metadata": {},
   "outputs": [
    {
     "name": "stdout",
     "output_type": "stream",
     "text": [
      "Match span: he from index 1 to 3\n"
     ]
    }
   ],
   "source": [
    "match = re.search(pattern, string)\n",
    "if match:\n",
    "    start, end = match.span()\n",
    "    print(f\"Match span: {string[start:end]} from index {start} to {end}\")"
   ]
  },
  {
   "cell_type": "markdown",
   "id": "914399ec-b99c-480b-8120-956bc133751d",
   "metadata": {},
   "source": [
    "- The `span()` method of the `match` object is used to retrive the starting and ending indices of the match,\n",
    "- In this case, the match span is `\"he\"`, which starts at index 1 ( the second character of the string,  'h') and ends at index 3 (the fourth character of the string, 'e')"
   ]
  },
  {
   "cell_type": "code",
   "execution_count": 51,
   "id": "634a1d27-9924-4aa3-9426-c9a2a3f30b35",
   "metadata": {},
   "outputs": [
    {
     "name": "stdout",
     "output_type": "stream",
     "text": [
      "Match span: 123 from index 0 to 3\n"
     ]
    }
   ],
   "source": [
    "## About Match Span\n",
    "\n",
    "import re\n",
    "pattern = r'\\d+'  #'\\d' represents a digit character (equivalent to `[0-9]`)\n",
    "text = \"123abc456def\"\n",
    "match = re.search(pattern,text)\n",
    "if match:\n",
    "    start, end = match.span()\n",
    "    print(f\"Match span: {text[start:end]} from index {start} to {end}\")"
   ]
  },
  {
   "cell_type": "code",
   "execution_count": 52,
   "id": "d900bcdb-0dd2-4aa7-9806-4f714bf9d2af",
   "metadata": {},
   "outputs": [
    {
     "name": "stdout",
     "output_type": "stream",
     "text": [
      "Match span: abc from index 3 to 6\n"
     ]
    }
   ],
   "source": [
    "import re\n",
    "pattern = r'\\D+'\n",
    "text = \"123abc456def\"\n",
    "match = re.search(pattern, text, flags=0)\n",
    "if match:\n",
    "    start, end = match.span()\n",
    "    print(f\"Match span: {text[start:end]} from index {start} to {end}\")"
   ]
  },
  {
   "cell_type": "markdown",
   "id": "30feebf7-420d-4430-b74e-090b780e2056",
   "metadata": {},
   "source": [
    "<br>"
   ]
  },
  {
   "cell_type": "markdown",
   "id": "479cf735-02af-4c1c-93c3-3da7dab899e0",
   "metadata": {},
   "source": [
    "### 2. re.findall(pattern, string, flags=0)\n",
    "\n",
    "The `re.findall()` function is used to find all occurrences of a regular expression pattern in a string. All the parameters are same as that used with `re.search()`. The result of `re.findall()` is a list of all the matches found. The result in the example below is quite simple, we will discuss the pattern design later to draw more insights on the upcoming topic."
   ]
  },
  {
   "cell_type": "code",
   "execution_count": 53,
   "id": "654dada9-48ec-4031-b4d9-9267e676cd71",
   "metadata": {},
   "outputs": [
    {
     "name": "stdout",
     "output_type": "stream",
     "text": [
      "['the', 'the']\n"
     ]
    }
   ],
   "source": [
    "import re\n",
    "string = \"The white hourse with the horn is regarded as one of the enchanment of Lord Buddha.\"\n",
    "pattern = r'the'\n",
    "match = re.findall(pattern, string)\n",
    "print(match)"
   ]
  },
  {
   "cell_type": "markdown",
   "id": "c9b91d07-f358-4ab1-9d80-05e7c5d32cc0",
   "metadata": {},
   "source": [
    "What you will do to find all `the` with capital and small letter from the string.\n",
    "example:"
   ]
  },
  {
   "cell_type": "code",
   "execution_count": 55,
   "id": "7f69e013-8c22-4f8e-9e40-41e14f47402a",
   "metadata": {},
   "outputs": [
    {
     "name": "stdout",
     "output_type": "stream",
     "text": [
      "['The', 'the', 'the']\n"
     ]
    }
   ],
   "source": [
    "import re\n",
    "string = \"The white hourse with the horn is regarded as one of the enchanment of Lord Buddha.\"\n",
    "pattern = r'the'\n",
    "match = re.findall(pattern, string, re.IGNORECASE)\n",
    "print(match)"
   ]
  },
  {
   "cell_type": "markdown",
   "id": "60eea68c-9572-4151-ade6-4c31bdcbcc7a",
   "metadata": {},
   "source": [
    "<br>"
   ]
  },
  {
   "cell_type": "markdown",
   "id": "01f597bb-0a09-4390-8199-1c388ab493d8",
   "metadata": {},
   "source": [
    "### 3. re.match(pattern, string, flags=0)\n",
    "\n",
    "`re.match()` is a method that searches for a pattern in the beginning of a string. It returns a match object if it finds a match, and None if it does not. All the parameters are same as that used with `re.search()` and `re.findall()`. Similar to `re.search()` object, `re.match()` object also has methods like `group()`, `start()`, `end()`, `span()`."
   ]
  },
  {
   "cell_type": "code",
   "execution_count": 60,
   "id": "a463bc64-ebbe-4ef5-9d98-b26a478c18cc",
   "metadata": {},
   "outputs": [
    {
     "name": "stdout",
     "output_type": "stream",
     "text": [
      "Match Object: <re.Match object; span=(0, 3), match='The'>\n",
      "Match Group: The\n",
      "Match Start: 0\n",
      "Match End: 3\n",
      "Match Span: (0, 3)\n"
     ]
    }
   ],
   "source": [
    "import re\n",
    "string = \"The white hourse with the horn is regarded as one of the enchanment of Lord Buddha.\"\n",
    "pattern = r'the'\n",
    "match = re.match(pattern, string, re.IGNORECASE)\n",
    "\n",
    "if match:\n",
    "    print(\"Match Object:\", match)\n",
    "    print(\"Match Group:\", match.group())\n",
    "    print(\"Match Start:\", match.start())\n",
    "    print(\"Match End:\", match.end())\n",
    "    print(\"Match Span:\", match.span())\n",
    "else:\n",
    "    print(\"No match found.\")"
   ]
  },
  {
   "cell_type": "markdown",
   "id": "eddf6c52-21a5-4298-8561-223db4e0733d",
   "metadata": {},
   "source": [
    "#### Difference between re.search() and re.match()\n",
    "\n",
    "`re.search()` and `re.match()` are both functions provided by Python's `re` module for pattern matching with regular expressions, but they have slightly different behaviours.\n",
    "\n",
    "1. `re.search()`: This function searches for a pattern anywhere in the string.\n",
    "2. `re.match()`: This function checks for a match only at the beginning of the string."
   ]
  },
  {
   "cell_type": "markdown",
   "id": "6486d4fa-0484-48ab-8593-1a77e2d798fc",
   "metadata": {},
   "source": [
    "### 4. re.sub(pattern, repl, string, count=0, flags=0)\n",
    "\n",
    "\n",
    "`re.sub()` is a method that is used to replace occurrences of a pattern in a string with a replacement string. It returns a new string with the replacements made. Here are the parameters used:\r\n",
    "- `pattern`: The regular expression pattern to search for\n",
    "- `repl`: replacement string that you want to use in place of matched pattern\n",
    "- `string`: The string to search in\n",
    "- `count`: Maximum number of replacements to make\n",
    "- `flags (optional)`: A set of flags that modify the behaviour of the searchsearch"
   ]
  },
  {
   "cell_type": "code",
   "execution_count": 64,
   "id": "ab2fc6b4-ed9b-4cd3-852c-43ccfc2b29e4",
   "metadata": {},
   "outputs": [
    {
     "name": "stdout",
     "output_type": "stream",
     "text": [
      "THE white horse with the horn is regarded as one of the enchanment of Lord Buddha.\n"
     ]
    }
   ],
   "source": [
    "import re\n",
    "string = \"The white horse with the horn is regarded as one of the enchanment of Lord Buddha.\"\n",
    "pattern = r'he'\n",
    "repl= 'HE'\n",
    "count = 1\n",
    "match = re.sub(pattern, repl, string, count)\n",
    "print(match)"
   ]
  },
  {
   "cell_type": "markdown",
   "id": "bffa0f2c-d549-4a05-9dbc-98c053709afe",
   "metadata": {},
   "source": [
    "<br>"
   ]
  },
  {
   "cell_type": "markdown",
   "id": "6387d2e2-2b9d-4d88-a2bc-82d04e0085b7",
   "metadata": {},
   "source": [
    "### 5. re.split(pattern, string, maxsplit=0, flags=0)\n",
    "\n",
    "`re.split()` is a method that is used to split a string into a list of substrings based on a regular expression pattern. It returns a list of the substrings. It is similar to Python's `split()` method use with Python `str` objects. Let's see how each parameter works:\n",
    "\n",
    "- `pattern`: The regular expression pattern to search for\n",
    "- `string`: The string to search in\n",
    "- `maxsplit`: Maximum number of splits to make\n",
    "- `flags (optional)`: A set of flags that modify the behaviour of the search"
   ]
  },
  {
   "cell_type": "code",
   "execution_count": 67,
   "id": "e39cb93d-7643-4c7a-8278-0524e4e5a5d4",
   "metadata": {},
   "outputs": [
    {
     "name": "stdout",
     "output_type": "stream",
     "text": [
      "['The', 'white', 'horse', 'with the horn is regarded as one of the enchanment of Lord Buddha.']\n"
     ]
    }
   ],
   "source": [
    "import re\n",
    "string = \"The white horse with the horn is regarded as one of the enchanment of Lord Buddha.\"\n",
    "pattern = r' '\n",
    "count = 3\n",
    "segments = re.split(pattern, string, count)\n",
    "print(segments)"
   ]
  },
  {
   "cell_type": "markdown",
   "id": "f7e55cca-e1e3-4dd8-8c33-a81b17166e73",
   "metadata": {},
   "source": [
    "<br>"
   ]
  },
  {
   "cell_type": "markdown",
   "id": "3cc8ef04-dcfd-4357-910a-10304ec129ec",
   "metadata": {},
   "source": [
    "### 6. re.compile(pattern, flags=0)\n",
    "`re.compile()` is a method that is used to compile a regular expression pattern into a regular expression object. This regular expression object can then be used for matching, searching, or replacing patterns in strings.\n",
    "\n",
    "`re.compile()` is used to compile a regular expression pattern into a regular expression object, which can then be used for matching operations. Compiling the regular expression pattern in advance can improve performance if the pattern will be used multiple times.\n",
    "\n",
    "**Is it worth compiling regular expression patterns?**\n",
    "Here are some reasons why defining a regular expression pattern with re.compile might be worth it:\n",
    "\n",
    "- `Improved performance`: When a pattern is compiled using `re.compile`, the regular expression engine performs some optimizations to the pattern that can improve the performance of matching, searching, or replacing operations. The compiled pattern can be reused multiple times, which can be faster than recompiling the pattern each time it is used.\n",
    "- `Easier debugging`: If you have a regular expression pattern that is not working as expected, defining the pattern using `re.compile` can make it easier to debug your code. You can print the compiled pattern to see what it looks like, and you can also inspect the regular expression object to see its attributes and methods\n"
   ]
  },
  {
   "cell_type": "code",
   "execution_count": 69,
   "id": "024b0996-4e2c-413a-acc4-d0f64d0e31f6",
   "metadata": {},
   "outputs": [
    {
     "name": "stdout",
     "output_type": "stream",
     "text": [
      "re.compile('he')\n",
      "['__class__', '__class_getitem__', '__copy__', '__deepcopy__', '__delattr__', '__dir__', '__doc__', '__eq__', '__format__', '__ge__', '__getattribute__', '__getstate__', '__gt__', '__hash__', '__init__', '__init_subclass__', '__le__', '__lt__', '__module__', '__ne__', '__new__', '__reduce__', '__reduce_ex__', '__repr__', '__setattr__', '__sizeof__', '__str__', '__subclasshook__', 'findall', 'finditer', 'flags', 'fullmatch', 'groupindex', 'groups', 'match', 'pattern', 'scanner', 'search', 'split', 'sub', 'subn']\n"
     ]
    }
   ],
   "source": [
    "import re\n",
    "string = \"The white horse with the horn is regarded as one of the enchanment of Lord Buddha.\"\n",
    "pattern = r'he'\n",
    "result = re.compile(pattern)\n",
    "\n",
    "print(result)\n",
    "print(dir(result))"
   ]
  },
  {
   "cell_type": "code",
   "execution_count": 71,
   "id": "57ad5568-c5a0-4387-8e53-225a392bede2",
   "metadata": {},
   "outputs": [
    {
     "name": "stdout",
     "output_type": "stream",
     "text": [
      "email@example.com\n",
      "support@example.com\n"
     ]
    }
   ],
   "source": [
    "import re\n",
    "\n",
    "pattern = r'\\b[a-zA-Z0-9._%+-]+@[a-zA-Z0-9.-]+\\.[a-zA-Z]{2,}\\b'\n",
    "text= \"Contact us at email@example.com or support@example.com\"\n",
    "result = re.compile(pattern)\n",
    "matches = result.findall(text)\n",
    "\n",
    "for match in matches:\n",
    "    print(match)"
   ]
  },
  {
   "cell_type": "markdown",
   "id": "f7989505-de63-437c-94a1-68aabde4d189",
   "metadata": {},
   "source": [
    "Explaining this `pattern= r'\\b[a-zA-Z0-9._%+-]+@[a-zA-Z0-9.-]+\\.[a-zA-Z]{2,}\\b'`\n",
    "1. `\\b`: This is a word boundary anchor, which matches the position between a word character(alphanumeric or underscore) and a non-word character.\n",
    "2. `[a-zA-Z0-9._%+-]+`: This matches one or more occurences of any alphanumeric character. This part matches the local part of the email address before the \"@\" symbol.\n",
    "3. `@`: This matches the \"@\" symbol in the email address.\n",
    "4. `[a-zA-Z0-9.-]+`: This matches one or more occurrences of any alphanumeric character (`a-zA-Z0-9`), dot (`.`), or hyphen (`-`). This part matches the domain name (without the top-level domain) after the \"@\" symbol.\n",
    "5. `\\.`: This matches a literal dot(`.`). It is used to separate the domain name from the top-level domain.\n",
    "6. `[a-zA-Z]{2,}`: This matches two or more occurrences of any uppercase or lowercase letter. It matches the top-level domain(eg., com,org, net).\n",
    "7. `\\b`: This is another word boundary anchor, similar to the one at the beginning of the pattern. It ensures that the match ends at a word boundary."
   ]
  },
  {
   "cell_type": "markdown",
   "id": "a75529c6-fc11-4f55-8c22-aea9ca2398d6",
   "metadata": {},
   "source": [
    "### Metacharacters\n",
    "Metacharacters are special characters in regular expressions that have a special meaning and are used to match specific patterns in a string, Here are some of the most commonly used metacharacters in Pythons's `re` module:\n",
    "\n",
    "- `. (dot)`: Matches any single character except newline.\n",
    "- `^ (caret)`: Matches the beginning of a string.\n",
    "- `$ (dollar)`: Matches the end of string.\n",
    "- `* (asterisk)`: Matches zero or more occurrences of the preceding character,\n",
    "- `+ (plus)`: Matches one or more occurences of the preceding character.\n",
    "- `? (question mark)`: Matches zero or one occurence of the preceding character.\n",
    "- `{m} (curly braces)`: Matches exactly m occurrences of the preceding character.\n",
    "- `{m,n} (curly braces)`: Matches between m and n occurences of the preceding character.\n",
    "- `[] (squre brackets)`: Matches any one of the characters enclosed in the brackets.\n",
    "- `| (pipe)`: Matches either the expression before or after the pipe.\n",
    "- `\\ (backslash)`: Used to escape metacharacters and match literal characters. For example,. matches a period and \\ matches a backslash.\n",
    "\n",
    "here are some examples of how to use metacharacters in regular expressions."
   ]
  },
  {
   "cell_type": "code",
   "execution_count": 72,
   "id": "111825ef-14b5-4c3c-862e-cd4f2d1255ef",
   "metadata": {},
   "outputs": [
    {
     "name": "stdout",
     "output_type": "stream",
     "text": [
      "hello\n",
      "world\n",
      "python\n",
      "aabbb\n",
      "cat\n",
      "http://\n"
     ]
    }
   ],
   "source": [
    "import re\n",
    "\n",
    "# Matches any string that starts with 'hello'\n",
    "pattern = r'^hello'\n",
    "string = 'hello world'\n",
    "match = re.match(pattern, string)\n",
    "print(match.group())\n",
    "\n",
    "# Matches any string that ends with 'world'\n",
    "pattern = r'world$'\n",
    "string = 'hello world'\n",
    "match = re.search(pattern, string)\n",
    "print(match.group())\n",
    "\n",
    "# Matches any string that contains 'python'\n",
    "pattern = r'python'\n",
    "string = 'I love python'\n",
    "match = re.search(pattern, string)\n",
    "print(match.group())\n",
    "\n",
    "# Matches any string that starts with 'a' followed by zero or more 'b's\n",
    "pattern = r'^a*b*'\n",
    "string = 'aabbb'\n",
    "match = re.match(pattern, string)\n",
    "print(match.group())\n",
    "\n",
    "# Matches any string that contains 'cat' or 'dog'\n",
    "pattern = r'cat|dog'\n",
    "string = 'I have a cat and a dog'\n",
    "match = re.search(pattern, string)\n",
    "print(match.group())\n",
    "\n",
    "# Matches any string that starts with 'http://' or 'https://'\n",
    "pattern = r'^https?://'\n",
    "string = 'http://www.google.com'\n",
    "match = re.match(pattern, string)\n",
    "print(match.group())"
   ]
  },
  {
   "cell_type": "markdown",
   "id": "fea4ae53-d41d-43ca-80e9-80ba94c80650",
   "metadata": {},
   "source": [
    "<br>"
   ]
  },
  {
   "cell_type": "markdown",
   "id": "690a32de-387b-4370-89d6-20206c25f085",
   "metadata": {},
   "source": [
    "### Sepecial Sequences\n",
    "Special sequences in Python's `re` module are sequences of character that represent a special type of pattern. Here are some of the most commonly used special sequences:"
   ]
  },
  {
   "cell_type": "markdown",
   "id": "0078d82d-5caa-4fee-b05c-42f24bfbb303",
   "metadata": {},
   "source": [
    "- `\\d`: Matches any digit (0-9).\n",
    "- `\\D`: Matches any non-digit character.\n",
    "- `\\s`: Matches any whitespace character (space, tab, newline, etc.).\n",
    "- `\\S`: Matches any non-whitespace character.\n",
    "- `\\w`: Matches any alphanumeric character (a-z, A-Z, 0-9, _).\n",
    "- `\\W`: Matches any non-alphanumeric character.\n",
    "- `\\b`: Matches the boundary between a word character and a non-word character.\n",
    "- `\\B`: Matches the boundary between two word characters or two non-word characters.\n",
    "- `\\A`: Matches the beginning of the string. It works the same as the caret (^) metacharacter.\n",
    "- `\\Z`: Matches the end of the string. It works the same as the dollar ($) metacharacter."
   ]
  },
  {
   "cell_type": "code",
   "execution_count": null,
   "id": "ad89e59a-b93a-461a-99b4-1ff95b7e5cce",
   "metadata": {},
   "outputs": [],
   "source": []
  }
 ],
 "metadata": {
  "kernelspec": {
   "display_name": "Python 3 (ipykernel)",
   "language": "python",
   "name": "python3"
  },
  "language_info": {
   "codemirror_mode": {
    "name": "ipython",
    "version": 3
   },
   "file_extension": ".py",
   "mimetype": "text/x-python",
   "name": "python",
   "nbconvert_exporter": "python",
   "pygments_lexer": "ipython3",
   "version": "3.12.2"
  }
 },
 "nbformat": 4,
 "nbformat_minor": 5
}
