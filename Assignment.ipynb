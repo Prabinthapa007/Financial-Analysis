{
 "cells": [
  {
   "cell_type": "raw",
   "id": "d1ff90fd-538d-4a53-a600-3831c2e15ff1",
   "metadata": {},
   "source": [
    "Coding Scenario: Personal Profile and Preferences\n",
    "\n",
    "*Objective:* You are tasked with creating a Python script to represent and process personal profile information and preferences. This scenario will test your knowledge of strings, integers, lists, tuples, dictionaries, and boolean data types in Python.\n",
    "\n",
    " Scenario Description:\n",
    "Imagine you are designing a simple profile for a social media application. Each user profile contains basic personal information, a list of favorite hobbies, preferred screen dimensions for viewing the app, and a brief description of their pet.\n",
    "\n",
    " Task Instructions:\n",
    "1. **Personal Information**\n",
    "   - Create a variable `name` (str) to store the user's name.\n",
    "   - Create a variable `age` (int) to store the user's age.\n",
    "   - Print a greeting message using these variables, e.g., `\"Hello, my name is Alice and I am 30 years old.\"`\n",
    "\n",
    "2. **Favorite Hobbies**\n",
    "   - Create a list `favorite_hobbies` containing at least three hobbies as strings.\n",
    "   - Add another hobby to this list and print the updated list.\n",
    "\n",
    "3. **Screen Dimensions**\n",
    "   - Define a tuple `screen_dimensions` with two integers representing the width and height of the user's preferred screen size for the app.\n",
    "   - Attempt to modify one of the values in the tuple to simulate an attempt to change screen preferences and comment on the outcome.\n",
    "\n",
    "4. **Pet Description**\n",
    "   - Create a dictionary `pet` to describe the user's pet. It should include keys for `type`, `name`, `age`, and later, `color`.\n",
    "   - Add a `color` key to the `pet` dictionary with an appropriate value and print the pet's name and color.\n",
    "\n",
    "5. **Adult Status**\n",
    "   - Determine if the user is an adult with a boolean variable `is_adult`. Consider someone an adult if they are 18 years old or more.\n",
    "   - Using conditional logic, print `\"I am an adult.\"` if true, and `\"I am not an adult.\"` if false"
   ]
  },
  {
   "cell_type": "markdown",
   "id": "eea63f8a-99ad-478c-8c76-f4320b6f2cf1",
   "metadata": {},
   "source": [
    "#### 1. Personal Information:"
   ]
  },
  {
   "cell_type": "code",
   "execution_count": 9,
   "id": "aaf50c06-3854-4084-a89d-8daea981b980",
   "metadata": {},
   "outputs": [
    {
     "name": "stdout",
     "output_type": "stream",
     "text": [
      "Hello, my name is Prabin Thapa and I am 25 years old.\n"
     ]
    }
   ],
   "source": [
    "name = \"Prabin Thapa\"\n",
    "age = 25\n",
    "print(f\"Hello, my name is {name} and I am {age} years old.\")"
   ]
  },
  {
   "cell_type": "markdown",
   "id": "d18b1cdf-f22e-4ebd-afd1-654d1bfc5cb3",
   "metadata": {},
   "source": [
    "#### 2. Favorite Hobbies:"
   ]
  },
  {
   "cell_type": "code",
   "execution_count": 10,
   "id": "23476b98-b6a3-45ca-a4a0-0e7719b1d3ad",
   "metadata": {},
   "outputs": [
    {
     "name": "stdout",
     "output_type": "stream",
     "text": [
      "['Singing', 'Dancing', 'Football', 'Playing Guitar']\n"
     ]
    }
   ],
   "source": [
    "favourite_hobbies = [\"Singing\", \"Dancing\", \"Football\"]\n",
    "favourite_hobbies.append(\"Playing Guitar\")\n",
    "print(favourite_hobbies)"
   ]
  },
  {
   "cell_type": "markdown",
   "id": "6889e0d5-c654-4b96-9433-ae2a4e9232eb",
   "metadata": {},
   "source": [
    "#### 3. Screen Dimensions:"
   ]
  },
  {
   "cell_type": "code",
   "execution_count": 11,
   "id": "8e141e88-a57e-444b-aae2-57c011288882",
   "metadata": {},
   "outputs": [],
   "source": [
    "screen_dimensions = (1080, 768)\n",
    "#screen_dimensions.append(769) When trying to modify there is attribute error. It is because, tuple is immutable. Mostly tuple is used for variables with fixed values.\n",
    "#print(screen_dimensions)\n"
   ]
  },
  {
   "cell_type": "markdown",
   "id": "0d6747ae-a4b8-4341-a6bf-442255947098",
   "metadata": {},
   "source": [
    "#### 4. Pet Description:"
   ]
  },
  {
   "cell_type": "code",
   "execution_count": 12,
   "id": "49414d87-449d-40d4-81a1-6ef81c08362b",
   "metadata": {},
   "outputs": [
    {
     "name": "stdout",
     "output_type": "stream",
     "text": [
      "My pet name is Chelsea and it's color is Black.\n"
     ]
    }
   ],
   "source": [
    "pet = {\"type\" : \"Dog\", \"name\": \"Chelsea\", \"age\": 3}\n",
    "pet[\"color\"] = \"Black\"\n",
    "print(f\"My pet name is {pet['name']} and it's color is {pet['color']}.\")"
   ]
  },
  {
   "cell_type": "markdown",
   "id": "f264e0ed-4d8c-4726-85f7-74e020137f6c",
   "metadata": {},
   "source": [
    "#### 5. Adult Status:"
   ]
  },
  {
   "cell_type": "code",
   "execution_count": 13,
   "id": "3b35cb59-1c5d-44cf-8e4b-d8b11a3e418d",
   "metadata": {},
   "outputs": [
    {
     "name": "stdin",
     "output_type": "stream",
     "text": [
      "Enter your age:  20\n"
     ]
    },
    {
     "name": "stdout",
     "output_type": "stream",
     "text": [
      "I am an adult.\n"
     ]
    }
   ],
   "source": [
    "user_age = int(input(\"Enter your age: \"))\n",
    "is_adult = user_age>=18\n",
    "if is_adult:\n",
    "    print(\"I am an adult.\")\n",
    "else:\n",
    "    print(\"I am not an adult.\")"
   ]
  },
  {
   "cell_type": "code",
   "execution_count": null,
   "id": "48d58c0b-3ce9-4c1f-94e5-5e2cc1841221",
   "metadata": {},
   "outputs": [],
   "source": []
  }
 ],
 "metadata": {
  "kernelspec": {
   "display_name": "Python 3 (ipykernel)",
   "language": "python",
   "name": "python3"
  },
  "language_info": {
   "codemirror_mode": {
    "name": "ipython",
    "version": 3
   },
   "file_extension": ".py",
   "mimetype": "text/x-python",
   "name": "python",
   "nbconvert_exporter": "python",
   "pygments_lexer": "ipython3",
   "version": "3.12.2"
  }
 },
 "nbformat": 4,
 "nbformat_minor": 5
}
