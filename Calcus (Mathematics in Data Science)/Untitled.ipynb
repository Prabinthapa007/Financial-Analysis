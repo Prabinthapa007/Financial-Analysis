{
 "cells": [
  {
   "cell_type": "code",
   "execution_count": null,
   "id": "80636e2f-885c-459f-8ce9-7484d1064767",
   "metadata": {},
   "outputs": [],
   "source": []
  },
  {
   "cell_type": "code",
   "execution_count": null,
   "id": "fb4d3179-2e32-4204-8948-7fe8a951d16a",
   "metadata": {},
   "outputs": [],
   "source": []
  },
  {
   "cell_type": "code",
   "execution_count": null,
   "id": "f85f7a04-a889-412c-bb83-e79a5e7a9c7a",
   "metadata": {},
   "outputs": [],
   "source": []
  },
  {
   "cell_type": "code",
   "execution_count": null,
   "id": "ef1d0d3b-04c5-41ac-bb0f-bebb602b083d",
   "metadata": {},
   "outputs": [],
   "source": []
  },
  {
   "cell_type": "code",
   "execution_count": null,
   "id": "ffd1990e-5bb8-4f92-a878-0bee472e8282",
   "metadata": {},
   "outputs": [],
   "source": []
  },
  {
   "cell_type": "code",
   "execution_count": null,
   "id": "ed068d60-050c-4166-896a-7e25c24af43e",
   "metadata": {},
   "outputs": [],
   "source": []
  },
  {
   "cell_type": "code",
   "execution_count": null,
   "id": "56703bc3-fa62-4505-8519-fd16dbaf8e63",
   "metadata": {},
   "outputs": [],
   "source": []
  },
  {
   "cell_type": "code",
   "execution_count": null,
   "id": "f92d8301-db75-4961-9474-a35aef68030e",
   "metadata": {},
   "outputs": [],
   "source": []
  },
  {
   "cell_type": "markdown",
   "id": "62af7f30-965e-4b6a-a4ba-c821949de03a",
   "metadata": {},
   "source": [
    "## Limit of a Function\n",
    "`limit()`"
   ]
  },
  {
   "cell_type": "code",
   "execution_count": 5,
   "id": "20d0e607-f116-425c-a20c-4278d644f130",
   "metadata": {},
   "outputs": [],
   "source": [
    "import sympy as sp"
   ]
  },
  {
   "cell_type": "code",
   "execution_count": 6,
   "id": "4d9d3bf1-c792-48e1-9a1e-33937089e81c",
   "metadata": {},
   "outputs": [
    {
     "name": "stdout",
     "output_type": "stream",
     "text": [
      "2\n"
     ]
    }
   ],
   "source": [
    "x = sp.symbols('x')\n",
    "f = (x**2-1)/(x-1)\n",
    "limit = sp.limit(f, x, 1)\n",
    "print(limit)"
   ]
  },
  {
   "cell_type": "code",
   "execution_count": 7,
   "id": "c27a5bd4-382c-4171-b486-8ba4e52eea83",
   "metadata": {},
   "outputs": [
    {
     "name": "stdout",
     "output_type": "stream",
     "text": [
      "-oo\n"
     ]
    }
   ],
   "source": [
    "x = sp.symbols('x')\n",
    "f = (x**2-1)/(x)\n",
    "limit = sp.limit(f, x, 0)\n",
    "print(limit)"
   ]
  },
  {
   "cell_type": "markdown",
   "id": "b258578e-df12-4240-9b34-e52caa8da4e7",
   "metadata": {},
   "source": [
    "## Derivative of a Function\n",
    "`diff()`"
   ]
  },
  {
   "cell_type": "code",
   "execution_count": 8,
   "id": "541bddb2-a5c0-407f-a8af-a510a5f2ff22",
   "metadata": {},
   "outputs": [
    {
     "name": "stdout",
     "output_type": "stream",
     "text": [
      "cos(x)\n"
     ]
    }
   ],
   "source": [
    "x = sp.symbols('x')\n",
    "f = sp.sin(x)\n",
    "dfdx = sp.diff(f,x)\n",
    "print(dfdx)"
   ]
  },
  {
   "cell_type": "code",
   "execution_count": 9,
   "id": "57b0c376-c34d-4444-936f-735dc7820ae7",
   "metadata": {},
   "outputs": [
    {
     "name": "stdout",
     "output_type": "stream",
     "text": [
      "-sin(x)\n"
     ]
    }
   ],
   "source": [
    "x = sp.symbols('x')\n",
    "f = sp.cos(x)\n",
    "dfdx = sp.diff(f,x)\n",
    "print(dfdx)"
   ]
  },
  {
   "cell_type": "markdown",
   "id": "0456387e-abec-43aa-a902-78c00143c0f9",
   "metadata": {},
   "source": [
    "## Higher Order Derivatives"
   ]
  },
  {
   "cell_type": "code",
   "execution_count": 10,
   "id": "583c63ce-434d-4b75-80bf-7bead1a94439",
   "metadata": {},
   "outputs": [
    {
     "name": "stdout",
     "output_type": "stream",
     "text": [
      "-sin(x)\n"
     ]
    }
   ],
   "source": [
    "x = sp.symbols('x')\n",
    "f = sp.sin(x)\n",
    "dfdx = sp.diff(f,x)\n",
    "dfdx2= sp.diff(f,x,2)\n",
    "print(dfdx2)"
   ]
  },
  {
   "cell_type": "markdown",
   "id": "ab802cb5-3ece-4dcd-94a2-720724b35c0d",
   "metadata": {},
   "source": [
    "## Implicit Differentation"
   ]
  },
  {
   "cell_type": "code",
   "execution_count": null,
   "id": "d722e2b9-1d17-4925-8fb2-41ed6851c5bd",
   "metadata": {},
   "outputs": [],
   "source": []
  },
  {
   "cell_type": "code",
   "execution_count": null,
   "id": "51155787-ca84-4984-94a6-3be9d7854b5a",
   "metadata": {},
   "outputs": [],
   "source": []
  },
  {
   "cell_type": "code",
   "execution_count": null,
   "id": "d530207d-4a9b-469d-bb61-01f119537eaa",
   "metadata": {},
   "outputs": [],
   "source": []
  },
  {
   "cell_type": "code",
   "execution_count": 11,
   "id": "e3d24ec4-a615-4ee0-922b-79e7295adc86",
   "metadata": {},
   "outputs": [
    {
     "ename": "ModuleNotFoundError",
     "evalue": "No module named 'simpy'",
     "output_type": "error",
     "traceback": [
      "\u001b[1;31m------------------------------------------------------------------------\u001b[0m",
      "\u001b[1;31mModuleNotFoundError\u001b[0m                    Traceback (most recent call last)",
      "Cell \u001b[1;32mIn[11], line 1\u001b[0m\n\u001b[1;32m----> 1\u001b[0m \u001b[38;5;28;01mimport\u001b[39;00m \u001b[38;5;21;01msimpy\u001b[39;00m \u001b[38;5;28;01mas\u001b[39;00m \u001b[38;5;21;01msp\u001b[39;00m\n\u001b[0;32m      2\u001b[0m x, y \u001b[38;5;241m=\u001b[39m sp\u001b[38;5;241m.\u001b[39msymbol(\u001b[38;5;124m'\u001b[39m\u001b[38;5;124mx y\u001b[39m\u001b[38;5;124m'\u001b[39m)\n",
      "\u001b[1;31mModuleNotFoundError\u001b[0m: No module named 'simpy'"
     ]
    }
   ],
   "source": [
    "import simpy as sp\n",
    "x, y = sp.symbol('x y')"
   ]
  },
  {
   "cell_type": "code",
   "execution_count": null,
   "id": "f2954ae0-c924-4e33-8157-2eba25c1da84",
   "metadata": {},
   "outputs": [],
   "source": []
  },
  {
   "cell_type": "markdown",
   "id": "8a9686db-e814-4143-82e4-8b364cd1a93c",
   "metadata": {},
   "source": [
    "## Partial Differentiation"
   ]
  },
  {
   "cell_type": "code",
   "execution_count": null,
   "id": "1ee5ec28-448c-4fae-b119-43f9b2d6e96f",
   "metadata": {},
   "outputs": [],
   "source": []
  }
 ],
 "metadata": {
  "kernelspec": {
   "display_name": "Python 3 (ipykernel)",
   "language": "python",
   "name": "python3"
  },
  "language_info": {
   "codemirror_mode": {
    "name": "ipython",
    "version": 3
   },
   "file_extension": ".py",
   "mimetype": "text/x-python",
   "name": "python",
   "nbconvert_exporter": "python",
   "pygments_lexer": "ipython3",
   "version": "3.12.2"
  }
 },
 "nbformat": 4,
 "nbformat_minor": 5
}
