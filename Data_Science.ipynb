{
 "cells": [
  {
   "cell_type": "code",
   "execution_count": 3,
   "id": "c59370fe-1831-4ddf-850f-f196e1fb1c97",
   "metadata": {},
   "outputs": [],
   "source": [
    "#Scenario: You are a Data Scientist working for a consulting firm. One of your  colleagues from the Auditing department has asked you to help them assess the financial statement of organisation X.\n",
    "#You have been supplied with two lists of data: monthly revenue and monthly expenses for the financial year in question. Your task is to calculate the following \n",
    "#financial metrics:\n",
    "#- profit for each month\n",
    "#- profit after tax for each month (the tax rate is 30%)\n",
    "#- profit margin for each month - equals to profit after tax divided by revenue\n",
    "#- good months - where the profit after tax was greater than the mean for the year\n",
    "#- bad months - where the profit after tax was less than the mean for the year\n",
    "#- the best month - where the profit after tax was max for the year\n",
    "#- the worst month - where the profit after tax was min for the year\n",
    "#All results need to be presented as lists.\n",
    "##presented in Units of $1,000 (i.e. 1k) with no decimal points.\n",
    "#Results for the profit margin ratio need to be presented in units of % with no decimal points.\n",
    "#Note: Your colleague has warned you that it is okay for tax for any given month to be negative (in accounting terms, negative tax translates into a deferred tax asset).\n",
    "        "
   ]
  },
  {
   "cell_type": "code",
   "execution_count": 4,
   "id": "a2bcd573-caf7-4179-9eea-b43472f9993c",
   "metadata": {},
   "outputs": [],
   "source": [
    "revenue = [{'Jan': 14574.49, 'Feb': 7606.46, 'March': 8611.41, 'April': 9175.41, 'May': 8058.65, 'June': 8105.44, 'July': 11496.28, 'August': 9766.09, 'Sept': 10305.32, 'Oct': 14379.96, 'Nov': 10713.97, 'Dec': 15433.50}]\n",
    "expenses = [{'Jan': 12051.82, 'Feb': 5695.07, 'March': 12319.20, 'April': 12089.72, 'May': 8658.57,'June': 840.20, 'July': 3285.73, 'August': 5821.12, 'Sept': 6976.93, 'Oct': 16618.61,'Nov': 10054.37, 'Dec':  3803.96}]\n",
    "months = ['Jan', 'Feb', 'March', 'April', 'May', 'June', 'July', 'August', 'Sept', 'Oct', 'Nov', 'Dec']"
   ]
  },
  {
   "cell_type": "code",
   "execution_count": 6,
   "id": "3e1c79e6-9340-47e5-abc5-b3d0dd2ce57e",
   "metadata": {},
   "outputs": [],
   "source": [
    "import numpy as np "
   ]
  },
  {
   "cell_type": "code",
   "execution_count": 7,
   "id": "b293c660-2564-471a-9740-5c49333110b0",
   "metadata": {},
   "outputs": [
    {
     "name": "stdout",
     "output_type": "stream",
     "text": [
      "[14574.49, 7606.46, 8611.41, 9175.41, 8058.65, 8105.44, 11496.28, 9766.09, 10305.32, 14379.96, 10713.97, 15433.5]\n"
     ]
    }
   ],
   "source": [
    "revenue_array = np.array(revenue)\n",
    "print(revenue)"
   ]
  },
  {
   "cell_type": "code",
   "execution_count": 9,
   "id": "dd045c4d-225f-4ec8-92ca-c72a678eb959",
   "metadata": {},
   "outputs": [
    {
     "name": "stdout",
     "output_type": "stream",
     "text": [
      "[12051.82  5695.07 12319.2  12089.72  8658.57   840.2   3285.73  5821.12\n",
      "  6976.93 16618.61 10054.37  3803.96]\n"
     ]
    }
   ],
   "source": [
    "expenses_array = np.array(expenses)\n",
    "print(expenses_array)"
   ]
  },
  {
   "cell_type": "code",
   "execution_count": 12,
   "id": "9352fbab-8b24-43f6-b453-91f9c1010722",
   "metadata": {},
   "outputs": [
    {
     "name": "stdout",
     "output_type": "stream",
     "text": [
      "[2522.67, 1911.39, -3707.79, -2914.31, -599.92, 7265.24, 8210.55, 3944.97, 3328.39, -2238.65, 659.6, 11629.54]\n"
     ]
    }
   ],
   "source": [
    "profit = []\n",
    "for i in range(0, len(revenue)):\n",
    "    profit.append(round(revenue[i] - expenses[i], 2))\n",
    "print(profit)"
   ]
  },
  {
   "cell_type": "code",
   "execution_count": 26,
   "id": "641cc761-43ec-491b-9232-457a6e3c7d8c",
   "metadata": {},
   "outputs": [],
   "source": [
    "profit_after_tax = [round(p * (1-0.3), 2) for p in profit]\n"
   ]
  },
  {
   "cell_type": "code",
   "execution_count": 29,
   "id": "aa070719-a92f-437e-af05-5bf12b9e9fb1",
   "metadata": {},
   "outputs": [],
   "source": [
    "profit_margin = [round(pat / r, 3) * 100 for pat, r in zip(profit_after_tax, revenue)] "
   ]
  },
  {
   "cell_type": "code",
   "execution_count": 31,
   "id": "dc2979a2-bfcc-42d5-97ea-a51eab1f51f8",
   "metadata": {},
   "outputs": [],
   "source": [
    "mean = sum(profit_after_tax)/len(profit_after_tax)\n"
   ]
  },
  {
   "cell_type": "code",
   "execution_count": 42,
   "id": "242c498a-20f1-4af7-8188-47cc189d9008",
   "metadata": {},
   "outputs": [],
   "source": [
    "good_months = [month + 0 for month, profit_after_tax in enumerate(profit_after_tax) if profit_after_tax > mean]"
   ]
  },
  {
   "cell_type": "code",
   "execution_count": 43,
   "id": "7f5b3007-20b3-4e90-b00c-e5784b921924",
   "metadata": {},
   "outputs": [
    {
     "data": {
      "text/plain": [
       "[1, 2, 3, 4, 9, 10]"
      ]
     },
     "execution_count": 43,
     "metadata": {},
     "output_type": "execute_result"
    }
   ],
   "source": [
    "bad_months = [month + 0 for month, profit_after_tax in enumerate(profit_after_tax) if profit_after_tax < mean]\n",
    "bad_months"
   ]
  },
  {
   "cell_type": "code",
   "execution_count": 45,
   "id": "3796fbd5-f1cb-4025-a134-56a03028aba6",
   "metadata": {},
   "outputs": [
    {
     "data": {
      "text/plain": [
       "[11]"
      ]
     },
     "execution_count": 45,
     "metadata": {},
     "output_type": "execute_result"
    }
   ],
   "source": [
    "The_Best_Month = [profit_after_tax.index(max(profit_after_tax))]"
   ]
  },
  {
   "cell_type": "code",
   "execution_count": 46,
   "id": "e36bc227-2449-44dc-b688-5211869eb9f0",
   "metadata": {},
   "outputs": [
    {
     "data": {
      "text/plain": [
       "[2]"
      ]
     },
     "execution_count": 46,
     "metadata": {},
     "output_type": "execute_result"
    }
   ],
   "source": [
    "The_Worst_Month = [profit_after_tax.index(min(profit_after_tax))]"
   ]
  },
  {
   "cell_type": "code",
   "execution_count": 47,
   "id": "12ae4bcf-9c1c-45fb-8544-3d64fa0ed1ed",
   "metadata": {},
   "outputs": [],
   "source": [
    "import matplotlib.pyplot as plt\n",
    "import seaborn as sns\n",
    "import warnings \n",
    "warnings.filterwarnings('ignore')"
   ]
  },
  {
   "cell_type": "code",
   "execution_count": 71,
   "id": "3c27a74e-9236-4912-895a-4675748dd0fe",
   "metadata": {},
   "outputs": [
    {
     "data": {
      "image/png": "[encoded data removed]",
      "text/plain": [
       "<Figure size 640x480 with 2 Axes>"
      ]
     },
     "metadata": {},
     "output_type": "display_data"
    }
   ],
   "source": [
    "f, ax1 = plt.subplots()\n",
    "ax1.bar(months, profit, color='Red')\n",
    "ax1.set_xlabel('Months')\n",
    "ax1.set_ylabel('Profit', color='Red')\n",
    "ax1.tick_params(axis = 'y', labelcolor='Red')\n",
    "ax2 = ax1.twinx()\n",
    "ax2.plot(months, profit_margin, marker='o', color='Blue')\n",
    "ax2.set_ylabel('Profit_Margin (%)', color='Blue')\n",
    "plt.title('Monthly Profit and Profit Margin')\n",
    "plt.show()\n"
   ]
  },
  {
   "cell_type": "code",
   "execution_count": null,
   "id": "e8b307d6-1dc8-4b4f-91de-06b272a3beac",
   "metadata": {},
   "outputs": [],
   "source": []
  },
  {
   "cell_type": "code",
   "execution_count": null,
   "id": "ff18fb14-d080-4f87-8cfe-00d3bda80b0e",
   "metadata": {},
   "outputs": [],
   "source": []
  }
 ],
 "metadata": {
  "kernelspec": {
   "display_name": "Python 3 (ipykernel)",
   "language": "python",
   "name": "python3"
  },
  "language_info": {
   "codemirror_mode": {
    "name": "ipython",
    "version": 3
   },
   "file_extension": ".py",
   "mimetype": "text/x-python",
   "name": "python",
   "nbconvert_exporter": "python",
   "pygments_lexer": "ipython3",
   "version": "3.12.2"
  }
 },
 "nbformat": 4,
 "nbformat_minor": 5
}
