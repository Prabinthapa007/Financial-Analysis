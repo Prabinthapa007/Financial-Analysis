{
 "cells": [
  {
   "cell_type": "markdown",
   "id": "0097e4e2-d5cd-4d59-aaa2-856d90c6d913",
   "metadata": {},
   "source": [
    "# Python Built-in Function:"
   ]
  },
  {
   "cell_type": "raw",
   "id": "c23f29c5-73ec-41ff-ad7f-ced6b91aa665",
   "metadata": {},
   "source": [
    "In Python, the print() function is used to output text or values to the console. It can be used to display text messages, variable values, or the results of calculations, among other things. In addition to this print() function can be customized with various arguments like:\n",
    "\n",
    "sep: Used to specify the separator between multiple items being printed. The default separator is a space character. For example, print(\"x\", \"y\", sep=\"-\") would output x-y.\n",
    "end: Used to specify the string that should be printed at the end of the line. The default is a newline character (\"\\n\"). For example, print(\"x\", end=\".\") would output x. without moving to the next line.\n",
    "file: Used to specify the file object where the output should be directed. By default, the output is sent to the console. For example, print(\"x\", file=my_file) would write the output to the my_file file object.\n",
    "Here are some examples of how to use the print() function in Python:"
   ]
  },
  {
   "cell_type": "markdown",
   "id": "db054591-1b77-4bbd-86d7-f6fbc9ee7e3a",
   "metadata": {},
   "source": [
    "### 1.print()"
   ]
  },
  {
   "cell_type": "code",
   "execution_count": 1,
   "id": "ffa866ad-3155-4fe3-ad0f-38802b80ddf0",
   "metadata": {},
   "outputs": [
    {
     "name": "stdout",
     "output_type": "stream",
     "text": [
      "The value of y is 7\n"
     ]
    }
   ],
   "source": [
    "x = 5\n",
    "y = x + 2\n",
    "print(\"The value of y is\", y)"
   ]
  },
  {
   "cell_type": "markdown",
   "id": "dcbadc70-3d57-4e33-a83d-f95d5f855e3b",
   "metadata": {},
   "source": [
    "### 2. type()"
   ]
  },
  {
   "cell_type": "markdown",
   "id": "8bcb7821-7faf-49f7-aaeb-7d7bf5c4cd6c",
   "metadata": {},
   "source": [
    "In Python, the type() function is used to find the data type of a variable or expression. It returns the type of the object as a string.\n",
    "\n",
    "Here are some examples of how to use the type() function in Python:"
   ]
  },
  {
   "cell_type": "code",
   "execution_count": 3,
   "id": "fe21ad0e-dfa0-4116-b065-3a671b85bd1d",
   "metadata": {},
   "outputs": [
    {
     "name": "stdout",
     "output_type": "stream",
     "text": [
      "<class 'int'>\n",
      "<class 'float'>\n",
      "<class 'str'>\n",
      "<class 'list'>\n"
     ]
    }
   ],
   "source": [
    "print(type(1))\n",
    "print(type(1.5))\n",
    "print(type(\"str\"))\n",
    "print(type([1, 2, 3]))"
   ]
  },
  {
   "cell_type": "markdown",
   "id": "6f78ea30-ca3d-4779-b82e-4da8ee4597f2",
   "metadata": {},
   "source": [
    "### 3. input()\n",
    "In Python, the input() function is used to accept input from the user. It prompts the user to enter a value, and then returns the entered value as a string.\r\n",
    "\r\n",
    "Note that the input() function always returns a string, so you may need to convert the entered value to another data type if you need to use it as a number or other data type. For example, if you want to accept a number as input, you can convert the entered value to an integer using the int() function:"
   ]
  },
  {
   "cell_type": "code",
   "execution_count": 4,
   "id": "e11976cf-a87a-4e03-8dd4-0117d5f5c66a",
   "metadata": {},
   "outputs": [
    {
     "name": "stdin",
     "output_type": "stream",
     "text": [
      "Enter your name:  Shyam   \n"
     ]
    },
    {
     "name": "stdout",
     "output_type": "stream",
     "text": [
      "Your name is Shyam   .\n"
     ]
    }
   ],
   "source": [
    "user_name = input(\"Enter your name: \")\n",
    "print(f\"Your name is {user_name}.\")"
   ]
  },
  {
   "cell_type": "code",
   "execution_count": 5,
   "id": "30e5d93e-5206-46ea-a9fa-4f94af3a7658",
   "metadata": {},
   "outputs": [
    {
     "name": "stdin",
     "output_type": "stream",
     "text": [
      "Enter your age:  22\n"
     ]
    },
    {
     "name": "stdout",
     "output_type": "stream",
     "text": [
      "Your age is 22.\n"
     ]
    }
   ],
   "source": [
    "user_age = int(input(\"Enter your age: \"))\n",
    "print(f\"Your age is {user_age}.\")"
   ]
  },
  {
   "cell_type": "markdown",
   "id": "fe6dcecb-e14b-48df-ac4b-a7a15e7833ef",
   "metadata": {},
   "source": [
    "### 4. len()\n",
    "In Python, the len() function is used to get the length of a sequence or collection, such as a str, list, tuple, or dict. It returns the number of elements or characters in the sequence.\r\n",
    "\r\n",
    "Note that the len() function only works with sequences and collections that have a defined length. It cannot be used with other types of data, such as numbers or booleans."
   ]
  },
  {
   "cell_type": "code",
   "execution_count": 6,
   "id": "08908863-80f7-4474-93bc-cf2ea6e7440c",
   "metadata": {},
   "outputs": [
    {
     "name": "stdout",
     "output_type": "stream",
     "text": [
      "13\n",
      "5\n",
      "5\n",
      "2\n"
     ]
    }
   ],
   "source": [
    "my_string = \"Hello, world!\"  # Get the length of a string\n",
    "print(len(my_string))      \n",
    "\n",
    "my_list = [1, 2, 3, 4, 5]    # Get the length of a list\n",
    "print(len(my_list))       \n",
    "\n",
    "my_tuple = (1, 2, 3, 4, 5)   # Get the length of a tuple\n",
    "print(len(my_tuple))         \n",
    "\n",
    "my_dict = {\"apple\": 1, \"banana\": 2}  # Get the length of a dictionary\n",
    "print(len(my_dict))                  "
   ]
  },
  {
   "cell_type": "markdown",
   "id": "4b8b0da8-e0bc-4d5f-aec7-86ddc2faf9c7",
   "metadata": {},
   "source": [
    "### 5. open()\n",
    "In Python, the open() function is used to open a file and return a file object. This file object can be used to read or write data to the file. Once the file is open, the read() function is called on the file object to read the contents of the file into a string variable, by specifying the mode as \"r\" (read). It's important to remember to close the file after you're done working with it. This is done using the close() function on the file object."
   ]
  },
  {
   "cell_type": "code",
   "execution_count": 7,
   "id": "1f6af177-c628-465d-9f0a-dc2941e48d3c",
   "metadata": {},
   "outputs": [
    {
     "name": "stdout",
     "output_type": "stream",
     "text": [
      "# Financial-Analysis\n",
      "It includes Financial analysis of a certain company\n",
      "\n"
     ]
    }
   ],
   "source": [
    "file = open(\"README.md\", \"r\") #Open a file for reading\n",
    "contents = file.read()\n",
    "print(contents)\n",
    "file.close()"
   ]
  },
  {
   "cell_type": "markdown",
   "id": "20063e72-87cd-4032-b663-b027ba30f1c1",
   "metadata": {},
   "source": [
    "You can also use the open() function to open a file for writing, by specifying the mode as \"w\" (write), or for both reading and writing, by specifying the mode as \"r+\" or \"w+\". In addition, you can specify the encoding of the file by adding the encoding parameter to the open() function.\n",
    "\n",
    "Here are a few different modes for opening a file:\n",
    "\n"
   ]
  },
  {
   "cell_type": "raw",
   "id": "91751f08-cff9-46d3-bcb4-a5423926345b",
   "metadata": {},
   "source": [
    "There are 6 access modes in Python:\n",
    "1. Read only(\"r\") : Open the text file for reading. The handle is positioned at the beginning of the file. If the file does not exist raises the I/O error. This is also the default mode in which a file is opened.\n",
    "\n",
    "2. Read and Write(\"r+\") : Open the file for reading and writing. The handle is positioned at the beginning of the file. If the file does not exist raises the I/O error.\n",
    "\n",
    "3. Write only(\"w\") : Open the file for witing. For the existing files, the data is truncated and over-written. The handle is positioned at the beginning of the file.\n",
    "\n",
    "4. Write and Read(\"w+\") : Open the filr for reading and writing. For an existing file, the data is truncated and over-written. The handle is positioned at the beginning of the file.\n",
    "\n",
    "5. Append Only (\"a\") : Open the filr for writing. The file is created if it does not exist. The handle is positioned at the end of the file. The data being witten will be inserted at the end, after the existing data.\n",
    "\n",
    "5. Append and Read (\"a+\") : Open the filr for writing and reading. The file is created if it does not exist. The handle is positioned at the end of the file. The data being witten will be inserted at the end, after the existing data."
   ]
  },
  {
   "cell_type": "code",
   "execution_count": 8,
   "id": "b85acc20-0f63-45c5-a763-c03cb5f1f4e0",
   "metadata": {},
   "outputs": [],
   "source": [
    "file = open(\"write.txt\", \"w\")\n",
    "file.write(\"This is a test for writing content into a file!\")\n",
    "file.close()"
   ]
  },
  {
   "cell_type": "markdown",
   "id": "9b272c75-308e-4bda-b813-bcf4b4fa5f54",
   "metadata": {},
   "source": [
    "### 6. dir()\n",
    "In Python, the dir() function is used to list all the attributes and methods of an object. It returns a sorted list of names in the given object."
   ]
  },
  {
   "cell_type": "code",
   "execution_count": 11,
   "id": "ba3c4a41-4172-4e87-9582-5f2262fce601",
   "metadata": {},
   "outputs": [
    {
     "name": "stdout",
     "output_type": "stream",
     "text": [
      "['__add__', '__class__', '__contains__', '__delattr__', '__dir__', '__doc__', '__eq__', '__format__', '__ge__', '__getattribute__', '__getitem__', '__getnewargs__', '__getstate__', '__gt__', '__hash__', '__init__', '__init_subclass__', '__iter__', '__le__', '__len__', '__lt__', '__mod__', '__mul__', '__ne__', '__new__', '__reduce__', '__reduce_ex__', '__repr__', '__rmod__', '__rmul__', '__setattr__', '__sizeof__', '__str__', '__subclasshook__', 'capitalize', 'casefold', 'center', 'count', 'encode', 'endswith', 'expandtabs', 'find', 'format', 'format_map', 'index', 'isalnum', 'isalpha', 'isascii', 'isdecimal', 'isdigit', 'isidentifier', 'islower', 'isnumeric', 'isprintable', 'isspace', 'istitle', 'isupper', 'join', 'ljust', 'lower', 'lstrip', 'maketrans', 'partition', 'removeprefix', 'removesuffix', 'replace', 'rfind', 'rindex', 'rjust', 'rpartition', 'rsplit', 'rstrip', 'split', 'splitlines', 'startswith', 'strip', 'swapcase', 'title', 'translate', 'upper', 'zfill']\n"
     ]
    }
   ],
   "source": [
    "x = \"Hello\"\n",
    "print(dir(x))"
   ]
  },
  {
   "cell_type": "code",
   "execution_count": 15,
   "id": "39bdcaa9-1095-4f23-b7f7-419085f248da",
   "metadata": {},
   "outputs": [
    {
     "data": {
      "text/plain": [
       "'hello'"
      ]
     },
     "execution_count": 15,
     "metadata": {},
     "output_type": "execute_result"
    }
   ],
   "source": [
    "x.casefold()"
   ]
  },
  {
   "cell_type": "markdown",
   "id": "d8914933-cbe4-450a-96dd-27c171ff770b",
   "metadata": {},
   "source": [
    "### 7. enumerate()\n",
    "In Python, the enumerate() function used to iterate over a sequence (such as a list or tuple) and return a sequence of tuples containing the index and value of each element in the original sequence."
   ]
  },
  {
   "cell_type": "code",
   "execution_count": 19,
   "id": "eb6a3d0f-1a62-4414-a6b4-9e2a84f80d2a",
   "metadata": {},
   "outputs": [
    {
     "name": "stdout",
     "output_type": "stream",
     "text": [
      "1 Alice\n",
      "2 Bob\n"
     ]
    }
   ],
   "source": [
    "names = [\"Alice\", \"Bob\"]\n",
    "for i, name in enumerate(names, 1):\n",
    "    print(i, name)"
   ]
  },
  {
   "cell_type": "code",
   "execution_count": 20,
   "id": "1df9fa8c-51d8-4aa5-9fc7-47786b43a593",
   "metadata": {},
   "outputs": [
    {
     "data": {
      "text/plain": [
       "[(0, 'Alice'), (1, 'Bob')]"
      ]
     },
     "execution_count": 20,
     "metadata": {},
     "output_type": "execute_result"
    }
   ],
   "source": [
    "list(enumerate(names))"
   ]
  },
  {
   "cell_type": "markdown",
   "id": "36a73096-4560-4003-81af-b7df62c6f65d",
   "metadata": {},
   "source": [
    "### 8. zip()\n",
    "The zip() function in Python is used to combine two or more iterables (e.g., lists or tuples) into a single iterable that returns tuples containing the corresponding elements from each input iterable.\n",
    "\n",
    "The general syntax for zip() is:\n",
    "\n",
    "zip(iterable1, iterable2, ...)\n",
    "where iterable1, iterable2, etc. are the iterables to be zipped. The zip() function returns an iterator of tuples, where the i-th tuple contains the i-th element from each of the input iterables. The resulting iterator has as many elements as the shortest input iterable."
   ]
  },
  {
   "cell_type": "code",
   "execution_count": 2,
   "id": "ff6dc1b2-3802-444d-8b39-8d0ec3852753",
   "metadata": {},
   "outputs": [
    {
     "name": "stdout",
     "output_type": "stream",
     "text": [
      "[('a', 1), ('b', 2)]\n"
     ]
    }
   ],
   "source": [
    "lst1 = [\"a\", \"b\"]\n",
    "lst2 = [1, 2, 3]\n",
    "zipped_list = list(zip(lst1, lst2))\n",
    "print(zipped_list)"
   ]
  },
  {
   "cell_type": "code",
   "execution_count": 3,
   "id": "e2353bc2-b147-4550-87a6-4b18d2b70e56",
   "metadata": {},
   "outputs": [
    {
     "name": "stdout",
     "output_type": "stream",
     "text": [
      "a 1\n",
      "b 2\n"
     ]
    }
   ],
   "source": [
    "for l1, l2 in zip(lst1, lst2):\n",
    "    print(l1, l2, sep= \" \") "
   ]
  },
  {
   "cell_type": "markdown",
   "id": "e69f255c-ce13-4d31-ad43-75390b1da566",
   "metadata": {},
   "source": [
    "### 9. map()\n",
    "The map() function in Python applies a given function to each item of an iterable (e.g., a list or a tuple) and returns a new iterable with the transformed items.\r\n",
    "\r\n",
    "The general syntax for map() is:\r\n",
    "\r\n",
    "map(function, iterable)\r\n",
    "where function is the function to be applied to each item in the iterable, and iterable is the object to be mapped. The map() function returns a map object, which is an iterable of the transformed items. To get a list of the transformed items, you can convert the map object to a list using the list() function."
   ]
  },
  {
   "cell_type": "code",
   "execution_count": 22,
   "id": "503e5abd-a2bf-469b-9745-88cdce8e1b21",
   "metadata": {},
   "outputs": [
    {
     "name": "stdout",
     "output_type": "stream",
     "text": [
      "[2, 4, 6, 8, 10]\n"
     ]
    }
   ],
   "source": [
    "my_list = [1, 2, 3, 4, 5]\n",
    "doubled_list = list(map(lambda x: x* 2, my_list))\n",
    "print(doubled_list)"
   ]
  },
  {
   "cell_type": "markdown",
   "id": "9326e4ab-da63-446b-b7bf-7e6f4581e31d",
   "metadata": {},
   "source": [
    "In this example, we define a lambda function (we'll discuss it in later notebook within the sameMethods and Function topic). that doubles each number in the list, and then we pass the lambda function and the list to the map() function. The map() function applies the lambda function to each item in the list and returns a new iterable with the doubled values. Finally, we convert the iterable to a list using the list() function.\n",
    "\n",
    "Here's another example that demonstrates how to use map() to convert a list of strings to a list of integers:"
   ]
  },
  {
   "cell_type": "code",
   "execution_count": 23,
   "id": "fcbc26ee-0068-4fa8-8e57-55a8b3ccf4e9",
   "metadata": {},
   "outputs": [
    {
     "name": "stdout",
     "output_type": "stream",
     "text": [
      "[1, 2, 3, 4, 5]\n"
     ]
    }
   ],
   "source": [
    "string_list = [\"1\", \"2\", \"3\", \"4\", \"5\"]\n",
    "int_list = list(map(int, string_list))\n",
    "print(int_list)"
   ]
  },
  {
   "cell_type": "markdown",
   "id": "4f33f742-4f3d-4f04-98c6-3153354ae619",
   "metadata": {},
   "source": [
    "### 10. reduce()\n",
    "The reduce() function in Python is used to apply a given function to the items of an iterable (e.g., a list or a tuple) in a cumulative way, that is, it applies the function to the first two elements, then to the result and the next element, and so on, until all the items have been processed. The general syntax for reduce() is:\n",
    "\n",
    "`reduce(function, iterable[, initializer])`\n",
    "where function is the function to be applied cumulatively to the items of the iterable, and initializer is an optional initial value to be used as the starting point of the cumulative computation. If initializer is not provided, the first two elements of the iterable are used as the initial values.\n",
    "\n",
    "Here's an example that demonstrates how to use reduce() to compute the product of all the elements in a list:"
   ]
  },
  {
   "cell_type": "code",
   "execution_count": 24,
   "id": "dbffe233-bcdd-42ae-9603-3b195aa5ea85",
   "metadata": {},
   "outputs": [
    {
     "name": "stdout",
     "output_type": "stream",
     "text": [
      "120\n"
     ]
    }
   ],
   "source": [
    "from functools import reduce\n",
    "\n",
    "my_list = [1, 2, 3, 4, 5]\n",
    "product = reduce(lambda x, y: x * y, my_list)\n",
    "print(product)"
   ]
  },
  {
   "cell_type": "code",
   "execution_count": 27,
   "id": "d21e7efc-d267-47f7-9583-d7d5bd5bc770",
   "metadata": {},
   "outputs": [
    {
     "name": "stdout",
     "output_type": "stream",
     "text": [
      "11520\n"
     ]
    }
   ],
   "source": [
    "from functools import reduce\n",
    "\n",
    "my_list = [2, 3, 4, 6, 8]\n",
    "initial_value = 10\n",
    "product = reduce(lambda x, y: x*y, my_list, initial_value)\n",
    "print(product)"
   ]
  },
  {
   "cell_type": "markdown",
   "id": "ab27d9c6-30d0-4eba-923e-0c5fa0ded3ed",
   "metadata": {},
   "source": [
    "### 11. filter()"
   ]
  },
  {
   "cell_type": "raw",
   "id": "7b685179-cc33-419a-878b-d03b68368309",
   "metadata": {},
   "source": [
    "The filter() function in Python is used to filter an iterable (e.g, a list or a tuple) based on a given condition. It takes two arguments: a function that specifies the condition and an iterable to be filterd.\n",
    "\n",
    "The function return an iterator that contains the elements from the iterable that satisfy the condition specified by the function. The general syntax for filter() is:\n",
    "    filter(function, iterable)\n",
    "\n",
    "Here's an example that demonstrates how to yse filter() to filter out the odd numbers from a list of integers:"
   ]
  },
  {
   "cell_type": "code",
   "execution_count": 1,
   "id": "4e444f0e-1f48-4444-90b0-cde614a5d5b5",
   "metadata": {},
   "outputs": [
    {
     "name": "stdout",
     "output_type": "stream",
     "text": [
      "[2, 4, 6, 8]\n"
     ]
    }
   ],
   "source": [
    "my_list = [1, 2, 3, 4, 5, 6, 7, 8, 9]\n",
    "filtered_list = list(filter(lambda x: x % 2 ==0, my_list))\n",
    "print(filtered_list)"
   ]
  },
  {
   "cell_type": "raw",
   "id": "d476db5a-06cc-48da-b70c-4cc3fc6a0404",
   "metadata": {},
   "source": [
    "In this example, we pass a lambda function that checks if its argument is even to the filter() function along with a list of numbers. The filter() function applies the lambda function to each element of the list and returns an iterator that contains only the even numbers. Finally, we convert the iterator to a list using the list() function.\n",
    "\n",
    "Here's another example that demonstrates how to use filter() to filter out the empty strings from a list of strings:"
   ]
  },
  {
   "cell_type": "code",
   "execution_count": 3,
   "id": "8ad7b7b2-5f6d-478e-8cdd-9f13da9e0fa2",
   "metadata": {},
   "outputs": [
    {
     "name": "stdout",
     "output_type": "stream",
     "text": [
      "['spam', 'eggs', 'spam']\n"
     ]
    }
   ],
   "source": [
    "my_list = ['', 'spam', '', 'eggs', '', 'spam']\n",
    "filterd_list = list(filter(lambda x: x != '', my_list))\n",
    "print(filterd_list)"
   ]
  },
  {
   "cell_type": "markdown",
   "id": "054b42d9-33a4-4324-8551-26f1e222ba94",
   "metadata": {},
   "source": [
    "# Python User-Defined Function:"
   ]
  },
  {
   "cell_type": "markdown",
   "id": "2991aff9-1ced-48aa-b69c-d994853852e6",
   "metadata": {},
   "source": [
    "A function is a block of reusable code that performs a specific task. A function can take one or more arguments as input, perform some operations on the input, and then return a value as output. Here's the general syntax for defining a function in Python:\n",
    "\n",
    "```python \n",
    "def function_name(parameter1, parameter2, ...):\n",
    "    # Function body\n",
    "    return output_value\n",
    "\n",
    "```\n",
    "\n",
    "In this syntax, def is the keyword used to define a function, function_name is the name of the function, and parameter1, parameter2, etc. are the input parameters of the function. The return keyword is used to specify the output value of the function.\n",
    "\n",
    "Here's an example that demonstrates how to define a function that computes the sum of two numbers:"
   ]
  },
  {
   "cell_type": "code",
   "execution_count": 31,
   "id": "a11c1592-c682-4329-992b-93203b54df55",
   "metadata": {},
   "outputs": [
    {
     "name": "stdout",
     "output_type": "stream",
     "text": [
      "8\n"
     ]
    }
   ],
   "source": [
    "def add_number(a, b):\n",
    "    sum = a + b\n",
    "    return sum\n",
    "\n",
    "print(add_number(2,6))"
   ]
  },
  {
   "cell_type": "markdown",
   "id": "2dba756a-c64b-433b-8f40-0cd7074e5626",
   "metadata": {},
   "source": [
    "In this example, we define a function called add_numbers that takes two input parameters a and b, computes their sum, and returns the result. We then call the function with arguments 3 and 5 and store the result in a variable called result. Finally, we print the value of result.\n",
    "\n",
    "Functions in Python can also have optional parameters with default values, which allows the caller to omit certain arguments if they are not needed. Here's an example that demonstrates how to define a function with optional parameters:"
   ]
  },
  {
   "cell_type": "code",
   "execution_count": 11,
   "id": "79e8e213-33c8-46a2-9dec-6db03ae15489",
   "metadata": {},
   "outputs": [
    {
     "name": "stdout",
     "output_type": "stream",
     "text": [
      "Vechile | Volvo\n",
      "This is this\n"
     ]
    }
   ],
   "source": [
    "def asset_categories(asset_type, asset_name, **kwargs):\n",
    "\n",
    "    asset_size = kwargs.get('size', None)\n",
    "    print(f\"{asset_type} | {asset_name}\")\n",
    "\n",
    "    if asset_size is not None:\n",
    "        if asset_size > 100:\n",
    "            print(\"This is a large asset\")\n",
    "        else:\n",
    "            print(\"This is a small or medium asset\")\n",
    "    else:\n",
    "        print(\"This is this\")\n",
    "\n",
    "building = asset_categories(\"Vechile\", \"Volvo\")\n",
    "\n",
    "        "
   ]
  },
  {
   "cell_type": "code",
   "execution_count": null,
   "id": "8b974d1f-4bf1-4c55-9a60-80fcb553cea4",
   "metadata": {},
   "outputs": [],
   "source": []
  },
  {
   "cell_type": "code",
   "execution_count": 34,
   "id": "0ed82828-0e74-4b81-94c8-6df3394b1716",
   "metadata": {},
   "outputs": [
    {
     "name": "stdout",
     "output_type": "stream",
     "text": [
      "Hello Prabin\n",
      "Hi Sushma\n"
     ]
    }
   ],
   "source": [
    "def greet(name, greetings = \"Hello\"):\n",
    "    return f\"{greetings} {name}\"\n",
    "\n",
    "print(greet(\"Prabin\")) #By default hello will be printed\n",
    "\n",
    "print(greet(\"Sushma\", \"Hi\")) #As user assigned the greeting then it will be printed."
   ]
  },
  {
   "cell_type": "markdown",
   "id": "6013e921-1c8e-4eda-b1eb-a7ac5a860446",
   "metadata": {},
   "source": [
    "Functions in Python can also have variable-length argument lists. These are called *args and **kwargs, and they allow the function to accept any number of arguments and keyword arguments, respectively. Here's an example that demonstrates how to define a function with variable-length argument lists:"
   ]
  },
  {
   "cell_type": "code",
   "execution_count": 38,
   "id": "d9faf1d3-69a0-41b1-b1f6-af41be742d60",
   "metadata": {},
   "outputs": [
    {
     "name": "stdout",
     "output_type": "stream",
     "text": [
      "Positional Arguments\n",
      "1\n",
      "Shyam\n",
      "Ram\n",
      "-------------------------\n",
      "KeyWord Arguments\n",
      "name :  Hari\n",
      "age :  33\n",
      "gender :  male\n"
     ]
    }
   ],
   "source": [
    "def print_arguments(*args, **kwargs):\n",
    "    print(\"Positional Arguments\")\n",
    "    for arg in args:\n",
    "        print(arg)\n",
    "\n",
    "    print(\"-\" *25)\n",
    "\n",
    "    print(\"KeyWord Arguments\")\n",
    "    for key, value in kwargs.items():\n",
    "        print(key, \": \", value)\n",
    "\n",
    "(print_arguments(1, \"Shyam\", \"Ram\", name=\"Hari\", age=33, gender=\"male\"))"
   ]
  },
  {
   "cell_type": "markdown",
   "id": "b45237f9-9ed1-409c-8d23-102652a691f6",
   "metadata": {},
   "source": [
    "## Documentation in Function:"
   ]
  },
  {
   "cell_type": "raw",
   "id": "e7c2ea6d-b4a6-4980-868a-87530f234bba",
   "metadata": {},
   "source": [
    "Python docstrings are the string literals that appear right after the definition of a function, method, class, or module. Let's take an example."
   ]
  },
  {
   "cell_type": "code",
   "execution_count": 42,
   "id": "c9de80d5-3298-4603-b177-9c50392a6d4c",
   "metadata": {},
   "outputs": [
    {
     "name": "stdout",
     "output_type": "stream",
     "text": [
      "\n",
      "    Takes in a number n, returns the square of n\n",
      "\n",
      "    Argument:\n",
      "        n (int) : User input number\n",
      "    \n"
     ]
    }
   ],
   "source": [
    "def square(n):\n",
    "    '''\n",
    "    Takes in a number n, returns the square of n\n",
    "\n",
    "    Argument:\n",
    "        n (int) : User input number\n",
    "    '''\n",
    "    return n**2\n",
    "\n",
    "print(square.__doc__)"
   ]
  },
  {
   "cell_type": "markdown",
   "id": "91227a70-073b-43cb-9517-8b8f82c960a4",
   "metadata": {},
   "source": [
    "### Question: Default Parameter Values\n",
    "Write a Program to Define a Function power that takes two arguments, base and exp. The function should return base raised to the power of exp.\n",
    "\n",
    "If exp is not provided, it should default to 2. Call this function with and without the second argument and print the results."
   ]
  },
  {
   "cell_type": "code",
   "execution_count": 44,
   "id": "3699ced7-52dd-4f4a-836c-c348e0d26fb1",
   "metadata": {},
   "outputs": [
    {
     "name": "stdout",
     "output_type": "stream",
     "text": [
      "9\n",
      "81\n"
     ]
    }
   ],
   "source": [
    "def power(base, exp=2):\n",
    "    power_exp = base ** exp\n",
    "    return power_exp\n",
    "\n",
    "print(power(3))\n",
    "print(power(3, 4))"
   ]
  },
  {
   "cell_type": "markdown",
   "id": "36d73a11-0cc8-4916-9a84-c460ca6ff63e",
   "metadata": {},
   "source": [
    "### Question : Variable-length Arguments (*args and **kwargs)\n",
    "Write a Program to Define a Function describe_pet that accepts a variable number of keyword arguments (**kwargs).\n",
    "\n",
    "The function should print the details of these keyword arguments as \"property: value\". Call this function with pet details like name, age, and type"
   ]
  },
  {
   "cell_type": "code",
   "execution_count": 45,
   "id": "46b48825-a8c8-4ec3-8e87-30c57a78cd1f",
   "metadata": {},
   "outputs": [
    {
     "name": "stdout",
     "output_type": "stream",
     "text": [
      "name: Rex\n",
      "age: 8\n",
      "type: Dog\n"
     ]
    }
   ],
   "source": [
    "def describe_pet(**kwrgs):\n",
    "    for key, value in kwrgs.items():\n",
    "        print(f\"{key}: {value}\")\n",
    "\n",
    "describe_pet(name=\"Rex\", age=8, type=\"Dog\")"
   ]
  },
  {
   "cell_type": "markdown",
   "id": "140ad189-16ec-4428-be38-f492cdb5957d",
   "metadata": {},
   "source": [
    "### Question : Calculate Std. Deviation of given list.\n"
   ]
  },
  {
   "cell_type": "code",
   "execution_count": 49,
   "id": "6d0a1348-9b8e-4bdd-8384-1eae669c814c",
   "metadata": {},
   "outputs": [
    {
     "name": "stdout",
     "output_type": "stream",
     "text": [
      "3.3105890714493698\n"
     ]
    }
   ],
   "source": [
    "from math import sqrt\n",
    "def std_deviation(value):\n",
    "    '''\n",
    "    Find N: N = len(value)\n",
    "    x_bar = sum(value)/ N\n",
    "    summation = (x = x_bar)**2/N\n",
    "    sqrt = sqrt.squares\n",
    "    '''\n",
    "    N = len(value)\n",
    "    x_bar = sum(value)/N\n",
    "    summation = sum([(x - x_bar)**2 / N for x in value])\n",
    "    result = sqrt(summation)\n",
    "    return result\n",
    "\n",
    "print(std_deviation([1, 4, 7, 9, 10]))"
   ]
  },
  {
   "cell_type": "code",
   "execution_count": 50,
   "id": "586536e3-00dc-4292-93d5-a0141e98c84e",
   "metadata": {},
   "outputs": [
    {
     "data": {
      "text/plain": [
       "'\\n    Find N: N = len(value)\\n    x_bar = sum(value)/ N\\n    summation = (x = x_bar)**2/N\\n    sqrt = sqrt.squares\\n    '"
      ]
     },
     "execution_count": 50,
     "metadata": {},
     "output_type": "execute_result"
    }
   ],
   "source": [
    "std_deviation.__doc__"
   ]
  },
  {
   "cell_type": "markdown",
   "id": "e75ff881-c85e-4913-8168-252e11436619",
   "metadata": {},
   "source": [
    "### Question: Recursive Function\n",
    "Write a Program to Define a Recursive Function fibonacci that takes a number n as an argument and returns the nth number in the Fibonacci sequence.\n",
    "\n",
    "Recall that the Fibonacci sequence is defined as fib(n) = fib(n-1) + fib(n-2) with base cases fib(0) = 0 and fib(1) = 1. Call this function with n = 5 and print the result."
   ]
  },
  {
   "cell_type": "code",
   "execution_count": 20,
   "id": "64c6b32d-5d0a-4be7-a7c3-bf720a408c9d",
   "metadata": {},
   "outputs": [
    {
     "name": "stdout",
     "output_type": "stream",
     "text": [
      "5\n"
     ]
    }
   ],
   "source": [
    "def fibonacci(n):\n",
    "    if n <= 1:\n",
    "        return n\n",
    "    else:\n",
    "        return fibonacci(n-1) + fibonacci(n-2)\n",
    "\n",
    "print(fibonacci(5))"
   ]
  },
  {
   "cell_type": "markdown",
   "id": "22160a80-508d-4935-ad4b-a86b3154de96",
   "metadata": {},
   "source": [
    "# Python lambda Expression:"
   ]
  },
  {
   "cell_type": "raw",
   "id": "dbb7065e-ff75-4424-b249-2418da09e5bf",
   "metadata": {},
   "source": [
    "In Python, a lambda expression is a way to create a small, anonymous function without using the def keyword. Lambda expressions are useful for writing simple functions that can be passed as arguments to other functions. The general syntax for a lambda expression is as follows:\n",
    "\n",
    "lambda arguments: expression\n",
    "\n",
    "In this syntax, arguments is a comma-separated list of input arguments, and expression is a single expression that is evaluated and returned as the output of the function. The resulting lambda function can be assigned to a variable, or passed as an argument to another function.\n",
    "\n",
    "Here's an example that demonstrates how to define a lambda function that takes two arguments and returns their sum:"
   ]
  },
  {
   "cell_type": "code",
   "execution_count": 53,
   "id": "5f56712d-031b-423a-865b-a01412b7589f",
   "metadata": {},
   "outputs": [
    {
     "name": "stdout",
     "output_type": "stream",
     "text": [
      "8\n"
     ]
    }
   ],
   "source": [
    "sum = lambda a, b : a+b\n",
    "result = sum(2,6)\n",
    "print(result)"
   ]
  },
  {
   "cell_type": "markdown",
   "id": "06e1067e-fbdd-4e22-85ed-cb55e58a8a3a",
   "metadata": {},
   "source": [
    "Lambda expressions are often used in combination with other built-in functions such as map(), filter(), and reduce(). For example, here's how we can use a lambda expression with the map() function to compute the square of each element in a list:"
   ]
  },
  {
   "cell_type": "code",
   "execution_count": 54,
   "id": "fb7d8560-3f2c-4aab-a988-789588683902",
   "metadata": {},
   "outputs": [
    {
     "name": "stdout",
     "output_type": "stream",
     "text": [
      "576\n"
     ]
    }
   ],
   "source": [
    "area = lambda l, h, b: 2*(l+b)*h\n",
    "result = area(10, 12, 14)\n",
    "print(result)"
   ]
  },
  {
   "cell_type": "markdown",
   "id": "72162738-6d69-4b06-9a41-377d80faed5b",
   "metadata": {},
   "source": [
    "# Examples for functions:"
   ]
  },
  {
   "cell_type": "markdown",
   "id": "054b4eae-f760-4c51-922c-c3cf41332717",
   "metadata": {},
   "source": [
    "#### Q1: A simple Python function to check whether x is even or odd."
   ]
  },
  {
   "cell_type": "code",
   "execution_count": 2,
   "id": "dd399033-c476-415e-b707-6cb0826b4345",
   "metadata": {},
   "outputs": [
    {
     "name": "stdout",
     "output_type": "stream",
     "text": [
      "even\n",
      "None\n"
     ]
    }
   ],
   "source": [
    "def evenOdd(x):\n",
    "    if x%2==0:\n",
    "        print(\"even\")\n",
    "    else:\n",
    "        print(\"odd\")\n",
    "\n",
    "print(evenOdd(2))"
   ]
  },
  {
   "cell_type": "markdown",
   "id": "b520a373-1863-4276-b9f3-eb4f0627f255",
   "metadata": {},
   "source": [
    "#### Q2: Write a code that includes default parameters inside it:"
   ]
  },
  {
   "cell_type": "code",
   "execution_count": 4,
   "id": "ba0a35b0-1940-439f-a03e-e7d3a360a03b",
   "metadata": {},
   "outputs": [
    {
     "name": "stdout",
     "output_type": "stream",
     "text": [
      "x:  22\n",
      "y:  25\n"
     ]
    }
   ],
   "source": [
    "def myFun(x, y=25):\n",
    "    print(\"x: \", x)\n",
    "    print(\"y: \", y)\n",
    "\n",
    "myFun(22)"
   ]
  },
  {
   "cell_type": "markdown",
   "id": "c722852b-652b-4dbd-a043-9609b33026bd",
   "metadata": {},
   "source": [
    "#### Q3: Write a program to create a function that takes two arguments, name and age, and print thier value."
   ]
  },
  {
   "cell_type": "code",
   "execution_count": 5,
   "id": "8e8dc2be-d1e9-416f-9200-aff9cee8d997",
   "metadata": {},
   "outputs": [
    {
     "name": "stdout",
     "output_type": "stream",
     "text": [
      "This person name is Sushma and he is 25 years old.\n"
     ]
    }
   ],
   "source": [
    "def person(name, age):\n",
    "    print(f\"This person name is {name} and he is {age} years old.\")\n",
    "\n",
    "person(\"Sushma\", 25)"
   ]
  },
  {
   "cell_type": "markdown",
   "id": "d7a99b21-f8b7-4174-973f-602ba685b144",
   "metadata": {},
   "source": [
    "#### Q4: Create a function func1() to acceot a variable length of arguments and print their value."
   ]
  },
  {
   "cell_type": "code",
   "execution_count": 16,
   "id": "883e7894-ef60-4771-a6b4-286eacb40301",
   "metadata": {},
   "outputs": [
    {
     "data": {
      "text/plain": [
       "12.0"
      ]
     },
     "execution_count": 16,
     "metadata": {},
     "output_type": "execute_result"
    }
   ],
   "source": [
    "def func1(*args, **kwrgs):\n",
    "    sum=0\n",
    "    for arg in args:\n",
    "        sum += arg\n",
    "    avg =sum/ len(args)\n",
    "    return avg\n",
    "func1(11, 12, 13)      "
   ]
  },
  {
   "cell_type": "markdown",
   "id": "79025632-51c1-455d-affb-051b310c440e",
   "metadata": {},
   "source": [
    "#### Q5: Return multiplication value also it must return addition and subtraction:"
   ]
  },
  {
   "cell_type": "code",
   "execution_count": 5,
   "id": "0ad1bcb9-c51a-4f2f-89e7-694eca2f4903",
   "metadata": {},
   "outputs": [
    {
     "data": {
      "text/plain": [
       "('Sum:', 13, 'Subtract:', -3, 'Multiply:', 40)"
      ]
     },
     "execution_count": 5,
     "metadata": {},
     "output_type": "execute_result"
    }
   ],
   "source": [
    "def calculator(a, b):\n",
    "    '''\n",
    "    this function return summation, subtraction, and multiplication for provided values.\n",
    "    '''\n",
    "    sum = a + b\n",
    "    subtract = a - b\n",
    "    multiply = a * b\n",
    "    return (\"Sum:\", sum, \"Subtract:\", subtract, \"Multiply:\",multiply)\n",
    "\n",
    "calculator(5, 8)"
   ]
  },
  {
   "cell_type": "markdown",
   "id": "c5df5aa9-ef92-43b0-bd03-a8c0c112b38b",
   "metadata": {},
   "source": [
    "#### Q6: Create a recursive function"
   ]
  },
  {
   "cell_type": "code",
   "execution_count": 19,
   "id": "7a628003-b240-4228-a1d4-8ae7bf499b60",
   "metadata": {},
   "outputs": [
    {
     "name": "stdout",
     "output_type": "stream",
     "text": [
      "55\n"
     ]
    }
   ],
   "source": [
    "def recurs(num):\n",
    "    if num:\n",
    "        return num + recurs(num -1)\n",
    "    else:\n",
    "        return 0\n",
    "\n",
    "res = recurs(10)\n",
    "print(res)"
   ]
  },
  {
   "cell_type": "markdown",
   "id": "f3be5684-4684-4385-83f8-1ec83c1b01a7",
   "metadata": {},
   "source": [
    "#### Q7: Assign different name to function and call it through the new name:"
   ]
  },
  {
   "cell_type": "code",
   "execution_count": 14,
   "id": "0b3f54a9-7dbd-4d5d-af52-5f3208a4eb0b",
   "metadata": {},
   "outputs": [
    {
     "data": {
      "text/plain": [
       "'Prabin is 25 years old.'"
      ]
     },
     "execution_count": 14,
     "metadata": {},
     "output_type": "execute_result"
    }
   ],
   "source": [
    "def student(name, age):\n",
    "    return f\"{name} is {age} years old.\"\n",
    "\n",
    "showstudent = student\n",
    "showstudent(\"Prabin\", 25)"
   ]
  },
  {
   "cell_type": "markdown",
   "id": "b4c5bfc3-f481-4d23-88fb-e69c6d340422",
   "metadata": {},
   "source": [
    "#### Q8: Generate a Python list of all the even numbers beween 4 to 30?"
   ]
  },
  {
   "cell_type": "code",
   "execution_count": 15,
   "id": "7e173e69-6155-4c70-a469-d5f731077cb7",
   "metadata": {},
   "outputs": [
    {
     "name": "stdout",
     "output_type": "stream",
     "text": [
      "[4, 6, 8, 10, 12, 14, 16, 18, 20, 22, 24, 26, 28, 30]\n"
     ]
    }
   ],
   "source": [
    "print(list(range(4, 31, 2)))\n",
    "        "
   ]
  },
  {
   "cell_type": "markdown",
   "id": "53d4dd02-1a64-4118-9b55-17240e734b0c",
   "metadata": {},
   "source": [
    "#### Q9: How do you define a simple function that takes no arguments and print \"Hello, world!\" when called?"
   ]
  },
  {
   "cell_type": "code",
   "execution_count": 2,
   "id": "31ac2d88-d61a-4d3f-8308-3d207e8abfe2",
   "metadata": {},
   "outputs": [
    {
     "name": "stdout",
     "output_type": "stream",
     "text": [
      "Hello, world!\n"
     ]
    }
   ],
   "source": [
    "def greetings():\n",
    "    return \"Hello, world!\"\n",
    "\n",
    "print(greetings())"
   ]
  },
  {
   "cell_type": "markdown",
   "id": "62c0dc06-b806-474d-b4bd-b858296bbab3",
   "metadata": {},
   "source": [
    "#### Q10: Write a function that takes two parameters and returns their sum."
   ]
  },
  {
   "cell_type": "code",
   "execution_count": 3,
   "id": "a94992b0-528c-439b-ad7a-8b559b348cc8",
   "metadata": {},
   "outputs": [
    {
     "data": {
      "text/plain": [
       "7"
      ]
     },
     "execution_count": 3,
     "metadata": {},
     "output_type": "execute_result"
    }
   ],
   "source": [
    "def addition(a, b):\n",
    "    sum = a + b\n",
    "    return sum\n",
    "\n",
    "addition(2, 5)"
   ]
  },
  {
   "cell_type": "markdown",
   "id": "75cbd7a0-1fb0-4854-9a80-788c6a6b168f",
   "metadata": {},
   "source": [
    "#### Q11: Create a function that calculates the factorial of a number recursively."
   ]
  },
  {
   "cell_type": "code",
   "execution_count": 8,
   "id": "537f17f6-020f-43a0-af2f-1c0b945d45dc",
   "metadata": {},
   "outputs": [
    {
     "data": {
      "text/plain": [
       "120"
      ]
     },
     "execution_count": 8,
     "metadata": {},
     "output_type": "execute_result"
    }
   ],
   "source": [
    "def factorial(n):\n",
    "    if n == 0:\n",
    "        return 1\n",
    "    else:\n",
    "        return n * factorial(n-1)\n",
    "\n",
    "factorial(5)\n",
    "        "
   ]
  },
  {
   "cell_type": "markdown",
   "id": "25cb0bb3-6310-4d09-9c61-99c18bde8152",
   "metadata": {},
   "source": [
    "#### Q12: Write a function that checks if a number is prime.\n"
   ]
  },
  {
   "cell_type": "code",
   "execution_count": 11,
   "id": "2f1d24cd-c942-4382-9e28-1aed3e89d647",
   "metadata": {},
   "outputs": [
    {
     "name": "stdout",
     "output_type": "stream",
     "text": [
      "False\n",
      "True\n"
     ]
    }
   ],
   "source": [
    "def prime_num(num):\n",
    "    if num <= 1:\n",
    "        return False\n",
    "    for i in range(2, int(num**0.5) + 1):\n",
    "        if num%i == 0:\n",
    "            return False\n",
    "    return True\n",
    "\n",
    "print(prime_num(22))\n",
    "print(prime_num(23))\n",
    "    "
   ]
  },
  {
   "cell_type": "markdown",
   "id": "d7f90e77-ddb0-45d0-a16a-2e51b080baf1",
   "metadata": {},
   "source": [
    "#### Q13. Create a function that takes a list of numbers and return the sum of all even numbers in the list"
   ]
  },
  {
   "cell_type": "code",
   "execution_count": 28,
   "id": "42bbb716-a913-4b74-9cd0-db067654fe56",
   "metadata": {},
   "outputs": [
    {
     "data": {
      "text/plain": [
       "6"
      ]
     },
     "execution_count": 28,
     "metadata": {},
     "output_type": "execute_result"
    }
   ],
   "source": [
    "def even_sum(num):\n",
    "    total = 0\n",
    "    for i in num:\n",
    "        if i%2 == 0:\n",
    "            total += i\n",
    "    return total\n",
    "\n",
    "even_sum([1, 2, 3, 4, 5])"
   ]
  },
  {
   "cell_type": "code",
   "execution_count": 30,
   "id": "fa05471c-3591-4b57-9027-5dded02a7fef",
   "metadata": {},
   "outputs": [
    {
     "name": "stdout",
     "output_type": "stream",
     "text": [
      "6\n"
     ]
    }
   ],
   "source": [
    "#Alternatively:\n",
    "def even_sum(num):\n",
    "    return sum(n for n in num if n%2==0)\n",
    "\n",
    "print(even_sum([1, 2, 3, 4, 5]))"
   ]
  },
  {
   "cell_type": "markdown",
   "id": "d5639416-61ea-4dcb-bc6a-67e187a5e9ed",
   "metadata": {},
   "source": [
    "#### Q14: Write a function that takes a string as input and returns the string reversed."
   ]
  },
  {
   "cell_type": "code",
   "execution_count": 34,
   "id": "2a30e1ce-692a-44a3-95d5-8dbac2f2427f",
   "metadata": {},
   "outputs": [
    {
     "name": "stdin",
     "output_type": "stream",
     "text": [
      "Enter your name:  Prabin\n"
     ]
    },
    {
     "data": {
      "text/plain": [
       "'nibarP'"
      ]
     },
     "execution_count": 34,
     "metadata": {},
     "output_type": "execute_result"
    }
   ],
   "source": [
    "user_name = input(\"Enter your name: \")\n",
    "def reverse_str(user_name):\n",
    "    reverse = user_name[::-1]\n",
    "    return reverse\n",
    "reverse_str(user_name)   "
   ]
  },
  {
   "cell_type": "markdown",
   "id": "d6021886-ed92-4973-be97-d487af5e57f8",
   "metadata": {},
   "source": [
    "#### Q15: Create a function that takes a list of integers and returns a new_list with only the unique elements."
   ]
  },
  {
   "cell_type": "code",
   "execution_count": 40,
   "id": "5f55aeee-bf93-4c9f-8f93-fd4d9aefdb7b",
   "metadata": {},
   "outputs": [
    {
     "name": "stdout",
     "output_type": "stream",
     "text": [
      "[1, 3, 5, 6, 7, 8]\n",
      "[1, 3, 5, 6, 7, 8]\n"
     ]
    }
   ],
   "source": [
    "def unique_lst(lst):\n",
    "    new_list = list(set(lst))\n",
    "    return new_list\n",
    "\n",
    "print(unique_lst([1, 3, 5, 6, 6, 7, 8, 7]))\n",
    "\n",
    "\n",
    "#Alternatively:\n",
    "def unique_lst(lst):\n",
    "    new_list = [ ]\n",
    "    for i in lst:\n",
    "        if i not in new_list:      #It drives new elements which is not already in the new list\n",
    "            new_list.append(i)\n",
    "    return new_list\n",
    "\n",
    "print(unique_lst([1, 3, 5, 6, 6, 7, 8, 7]))"
   ]
  },
  {
   "cell_type": "markdown",
   "id": "8602df46-262d-4720-a493-093813fad7c6",
   "metadata": {},
   "source": [
    "#### Q16: Write a function that takes a dictionary as input and returns a list of keys sorted in descending order by their values."
   ]
  },
  {
   "cell_type": "code",
   "execution_count": 42,
   "id": "2422833e-5325-43c7-99ab-f534874e0750",
   "metadata": {},
   "outputs": [
    {
     "data": {
      "text/plain": [
       "['b', 'a', 'c']"
      ]
     },
     "execution_count": 42,
     "metadata": {},
     "output_type": "execute_result"
    }
   ],
   "source": [
    "def descending_order(dictionary):\n",
    "    return sorted(dictionary, key=lambda x: dictionary[x], reverse=True)\n",
    "\n",
    "descending_order({'a':10, 'b': 12, 'c': 5})"
   ]
  },
  {
   "cell_type": "code",
   "execution_count": 43,
   "id": "da078f84-bf42-4364-af13-54c7a1afff37",
   "metadata": {},
   "outputs": [
    {
     "name": "stdout",
     "output_type": "stream",
     "text": [
      "['c', 'd', 'a', 'b']\n"
     ]
    }
   ],
   "source": [
    "#Alternative way:\n",
    "def sort_dict_keys_desc(dictionary):\n",
    "    sorted_keys = sorted(dictionary, key=lambda x: dictionary[x], reverse=True)\n",
    "    return sorted_keys\n",
    "\n",
    "# Example usage\n",
    "my_dict = {'a': 10, 'b': 5, 'c': 20, 'd': 15}\n",
    "sorted_keys = sort_dict_keys_desc(my_dict)\n",
    "print(sorted_keys)"
   ]
  },
  {
   "cell_type": "markdown",
   "id": "3800173a-f07f-447d-b95a-5771e3a48396",
   "metadata": {},
   "source": [
    "#### Q17: Create a function that calculates the area of a circle given its radius."
   ]
  },
  {
   "cell_type": "code",
   "execution_count": 47,
   "id": "d925b7f1-47cb-40c8-bad8-82b92225c11f",
   "metadata": {},
   "outputs": [
    {
     "data": {
      "text/plain": [
       "452.38896"
      ]
     },
     "execution_count": 47,
     "metadata": {},
     "output_type": "execute_result"
    }
   ],
   "source": [
    "def area_circle(radius):\n",
    "    pi = 3.14159\n",
    "    area = pi * radius**2\n",
    "    return area\n",
    "\n",
    "area_circle(12)"
   ]
  },
  {
   "cell_type": "code",
   "execution_count": 46,
   "id": "de2f155e-e045-432e-b4bd-eda382a65ff7",
   "metadata": {},
   "outputs": [
    {
     "name": "stdout",
     "output_type": "stream",
     "text": [
      "452.3893421169302\n"
     ]
    }
   ],
   "source": [
    "#Alternative way:\n",
    "import math\n",
    "\n",
    "def area_circle(radius):\n",
    "    return math.pi * radius**2\n",
    "\n",
    "area = area_circle(12)\n",
    "print(area)"
   ]
  },
  {
   "cell_type": "markdown",
   "id": "cf25e4a0-f325-4451-988a-544dc2d20f11",
   "metadata": {},
   "source": [
    "#### Q18: Write a function that takes a list of strings and returns the longest string."
   ]
  },
  {
   "cell_type": "code",
   "execution_count": 55,
   "id": "5e689e8d-98f6-4fc7-9c87-5147b85f74ca",
   "metadata": {},
   "outputs": [
    {
     "name": "stdout",
     "output_type": "stream",
     "text": [
      "['Technology']\n",
      "Technology\n"
     ]
    }
   ],
   "source": [
    "def longest_str(lst_str):\n",
    "    max_length = max(len(word) for word in lst_str)\n",
    "    return [(word) for word in lst_str if len(word) == max_length]\n",
    "\n",
    "result = longest_str([\"Data\", \"Science\", \"Python\", \"Technology\"])\n",
    "print(result)\n",
    "\n",
    "# Alternatvely:\n",
    "def longest_str(strings):\n",
    "    longest = \" \"\n",
    "    for string in strings:\n",
    "        if len(string) > len(longest):\n",
    "            longest = string\n",
    "    return longest\n",
    "\n",
    "result = longest_str([\"Data\", \"Science\", \"Python\", \"Technology\"])\n",
    "print(result)"
   ]
  },
  {
   "cell_type": "markdown",
   "id": "da385921-6585-44b7-857b-b1ca516dc277",
   "metadata": {},
   "source": [
    "#### Q19: Create a function that takes a list of numbers and returns a new lsit with each number squared,"
   ]
  },
  {
   "cell_type": "code",
   "execution_count": 65,
   "id": "fe943cdf-cd3f-4a8e-9b64-5a74bbcae33e",
   "metadata": {},
   "outputs": [
    {
     "name": "stdout",
     "output_type": "stream",
     "text": [
      "[4, 25, 36, 49]\n"
     ]
    }
   ],
   "source": [
    "def squared(lst):\n",
    "    square = [ ]\n",
    "    for i in lst:\n",
    "        \n",
    "        square.append(i**2)\n",
    "    return square\n",
    "\n",
    "result = squared([2, 5, 6, 7])\n",
    "print(result)"
   ]
  },
  {
   "cell_type": "markdown",
   "id": "db27b57f-781b-4281-95d7-d82c446d1653",
   "metadata": {},
   "source": [
    "#### Q20: Write a function that takes a string and returns the number of vowels in the string:"
   ]
  },
  {
   "cell_type": "code",
   "execution_count": 77,
   "id": "e1374240-68a8-42f9-984a-cfb127b503da",
   "metadata": {},
   "outputs": [
    {
     "name": "stdout",
     "output_type": "stream",
     "text": [
      "Number of vowels: 3\n",
      "Number of vowels: 3\n"
     ]
    }
   ],
   "source": [
    "def vowel_only(strings):\n",
    "    vowels = 'aeiouAEIOU'\n",
    "    count = 0\n",
    "    for char in strings:\n",
    "        if char in vowels:\n",
    "            count += 1\n",
    "    return count\n",
    "\n",
    "strings = \"Hello, World!\"\n",
    "print(\"Number of vowels:\", vowel_only(strings))\n",
    "\n",
    "#Alternatively:\n",
    "def count_vowels(string):\n",
    "    vowels = \"aeiouAEIOU\"\n",
    "    return sum(1 for char in string if char in vowels)\n",
    "\n",
    "# Example usage\n",
    "string = \"Hello, World!\"\n",
    "print(\"Number of vowels:\", count_vowels(string))\n",
    "    "
   ]
  },
  {
   "cell_type": "code",
   "execution_count": null,
   "id": "6acfc24e-cf98-47bc-b393-cd64379c3682",
   "metadata": {},
   "outputs": [],
   "source": []
  }
 ],
 "metadata": {
  "kernelspec": {
   "display_name": "Python 3 (ipykernel)",
   "language": "python",
   "name": "python3"
  },
  "language_info": {
   "codemirror_mode": {
    "name": "ipython",
    "version": 3
   },
   "file_extension": ".py",
   "mimetype": "text/x-python",
   "name": "python",
   "nbconvert_exporter": "python",
   "pygments_lexer": "ipython3",
   "version": "3.12.2"
  }
 },
 "nbformat": 4,
 "nbformat_minor": 5
}
