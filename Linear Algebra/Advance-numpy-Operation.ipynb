{
 "cells": [
  {
   "cell_type": "code",
   "execution_count": 1,
   "id": "b71bf6f8-4885-4bbb-ac0a-c04e92fe18eb",
   "metadata": {},
   "outputs": [],
   "source": [
    "import numpy as np\n"
   ]
  },
  {
   "cell_type": "markdown",
   "id": "f36c75e8-a1f3-42cf-aa17-2db39f610f1f",
   "metadata": {},
   "source": [
    "# Advance NumPy Operations:"
   ]
  },
  {
   "cell_type": "markdown",
   "id": "11a09c31-0fdd-4ff3-83b1-5b083cad35cc",
   "metadata": {},
   "source": [
    "## Numpy Broadcasting:"
   ]
  },
  {
   "cell_type": "markdown",
   "id": "a2290e00-048b-4ed2-b6fa-b0c26452c204",
   "metadata": {},
   "source": [
    "In `NumPy`, we can perform mathematical operations an arrays of different shapes. An array with a smaller shape is expanded to match the shape of a larger one. This is called broadcasting.\n",
    "\n",
    "Let's see example:"
   ]
  },
  {
   "cell_type": "code",
   "execution_count": null,
   "id": "d1c12d8a-e407-40e8-890b-c6df1b6b30d5",
   "metadata": {},
   "outputs": [],
   "source": []
  },
  {
   "cell_type": "code",
   "execution_count": null,
   "id": "23c09956-8ca7-48d9-a455-6369abf02c0a",
   "metadata": {},
   "outputs": [],
   "source": []
  },
  {
   "cell_type": "code",
   "execution_count": null,
   "id": "4de54db1-c256-4020-ba76-0cb49cae2bb2",
   "metadata": {},
   "outputs": [],
   "source": []
  },
  {
   "cell_type": "code",
   "execution_count": null,
   "id": "fcccfe76-e6b9-4737-9885-6d2102e07702",
   "metadata": {},
   "outputs": [],
   "source": []
  },
  {
   "cell_type": "code",
   "execution_count": null,
   "id": "ed3af9be-21a7-4f95-9de8-5319b13ea32d",
   "metadata": {},
   "outputs": [],
   "source": []
  },
  {
   "cell_type": "code",
   "execution_count": null,
   "id": "dfa1516d-b9bd-4a20-bfaa-efff79461c69",
   "metadata": {},
   "outputs": [],
   "source": []
  },
  {
   "cell_type": "code",
   "execution_count": null,
   "id": "9f6ddda3-b4cf-4785-91da-5fe3e1724780",
   "metadata": {},
   "outputs": [],
   "source": []
  },
  {
   "cell_type": "code",
   "execution_count": null,
   "id": "1f9e08ed-ab82-4c7b-875d-4cb698fd3920",
   "metadata": {},
   "outputs": [],
   "source": []
  },
  {
   "cell_type": "code",
   "execution_count": null,
   "id": "2c75fa1e-6ea9-40e0-b37c-e9d5bee94a84",
   "metadata": {},
   "outputs": [],
   "source": []
  },
  {
   "cell_type": "code",
   "execution_count": null,
   "id": "ee4958f6-dc67-4246-8603-e14ee4fd2d29",
   "metadata": {},
   "outputs": [],
   "source": []
  },
  {
   "cell_type": "markdown",
   "id": "55aa291d-1a07-49e8-8178-8bbd8166027b",
   "metadata": {},
   "source": [
    "## NumPy Boolean Indexing:"
   ]
  },
  {
   "cell_type": "markdown",
   "id": "b195b388-6621-4429-9937-44bac8829953",
   "metadata": {},
   "source": [
    "#### 1D"
   ]
  },
  {
   "cell_type": "code",
   "execution_count": 3,
   "id": "512bfe12-9ec5-49e4-8d18-dab2074d39e8",
   "metadata": {},
   "outputs": [
    {
     "name": "stdout",
     "output_type": "stream",
     "text": [
      "[False False False False False  True  True  True  True]\n"
     ]
    }
   ],
   "source": [
    "arr1 = np.array([1, 2, 3, 4, 5, 7, 8, 9, 7])\n",
    "mask = arr1>5\n",
    "print(mask)\n"
   ]
  },
  {
   "cell_type": "code",
   "execution_count": 5,
   "id": "a0bf54c8-a925-4261-ac5d-feaf90fa80dc",
   "metadata": {},
   "outputs": [
    {
     "name": "stdout",
     "output_type": "stream",
     "text": [
      "[7 8 9 7]\n"
     ]
    }
   ],
   "source": [
    "# Lets find out number more than 5.\n",
    "print(arr1[mask])\n"
   ]
  },
  {
   "cell_type": "markdown",
   "id": "9b179167-aa8a-4c27-aa4d-45956ed2f762",
   "metadata": {},
   "source": [
    "<br>"
   ]
  },
  {
   "cell_type": "markdown",
   "id": "64bcccc0-c46d-4281-bb27-4b459590def7",
   "metadata": {},
   "source": [
    "#### 2D"
   ]
  },
  {
   "cell_type": "code",
   "execution_count": 8,
   "id": "51358100-c997-42e0-a6a4-89f0dc91b9b4",
   "metadata": {},
   "outputs": [
    {
     "name": "stdout",
     "output_type": "stream",
     "text": [
      "[[1 4]\n",
      " [2 4]\n",
      " [5 6]\n",
      " [7 8]]\n"
     ]
    }
   ],
   "source": [
    "arr2 = np.array([[1,4], [2, 4], [5, 6], [7, 8]])\n",
    "print(arr2)"
   ]
  },
  {
   "cell_type": "code",
   "execution_count": 9,
   "id": "09d38485-ed17-4d5f-8fe8-25f77a5e10ff",
   "metadata": {},
   "outputs": [
    {
     "name": "stdout",
     "output_type": "stream",
     "text": [
      "[[False  True]\n",
      " [ True  True]\n",
      " [False  True]\n",
      " [False  True]]\n"
     ]
    }
   ],
   "source": [
    "mask = arr2 % 2== 0\n",
    "print(mask)"
   ]
  },
  {
   "cell_type": "code",
   "execution_count": 12,
   "id": "6ac6d3f1-49ac-401a-9d46-8f4520417676",
   "metadata": {},
   "outputs": [
    {
     "name": "stdout",
     "output_type": "stream",
     "text": [
      "4\n",
      "2\n",
      "4\n",
      "6\n",
      "8\n"
     ]
    }
   ],
   "source": [
    "# Print the elements of arr2 when mask is True\n",
    "for i in range(mask.shape[0]):\n",
    "    for j in range(mask.shape[1]):\n",
    "        if mask[i, j]:\n",
    "            print(arr2[i, j])"
   ]
  },
  {
   "cell_type": "code",
   "execution_count": null,
   "id": "7c4e0605-49a6-455e-88e5-fd057d31257a",
   "metadata": {},
   "outputs": [],
   "source": []
  }
 ],
 "metadata": {
  "kernelspec": {
   "display_name": "Python 3 (ipykernel)",
   "language": "python",
   "name": "python3"
  },
  "language_info": {
   "codemirror_mode": {
    "name": "ipython",
    "version": 3
   },
   "file_extension": ".py",
   "mimetype": "text/x-python",
   "name": "python",
   "nbconvert_exporter": "python",
   "pygments_lexer": "ipython3",
   "version": "3.12.2"
  }
 },
 "nbformat": 4,
 "nbformat_minor": 5
}
