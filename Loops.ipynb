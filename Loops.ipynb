{
 "cells": [
  {
   "cell_type": "markdown",
   "id": "4f421e16-682e-4957-a335-80f2391dc311",
   "metadata": {},
   "source": [
    "## For Loops Question:"
   ]
  },
  {
   "cell_type": "raw",
   "id": "28ed5aa0-649c-4290-a8a0-8f62a1b82961",
   "metadata": {},
   "source": [
    "The basic syntax of a list comprehension is as follows:\n",
    "\n",
    "new_list = [expression for item in iterable if condition]\n",
    "In this syntax, expression is the operation to be performed on each item in the iterable, item is the variable that represents each element in the iterable, and condition is an optional filter that can be applied to select only certain elements from the iterable.\n",
    "\n",
    "Here is an example that creates a new list of squared numbers from an existing list:"
   ]
  },
  {
   "cell_type": "markdown",
   "id": "089261ba-32ab-4146-9581-26b52da8de6e",
   "metadata": {},
   "source": [
    "#### Question 1: Write a program to print first 10 natural number."
   ]
  },
  {
   "cell_type": "code",
   "execution_count": 1,
   "id": "5ba7513c-0d35-4dd8-b601-51b3f7ba68f5",
   "metadata": {},
   "outputs": [
    {
     "name": "stdout",
     "output_type": "stream",
     "text": [
      "1\n",
      "2\n",
      "3\n",
      "4\n",
      "5\n",
      "6\n",
      "7\n",
      "8\n",
      "9\n",
      "10\n"
     ]
    }
   ],
   "source": [
    "for i in range(1, 11):\n",
    "    print(i)"
   ]
  },
  {
   "cell_type": "markdown",
   "id": "0c92cc6a-edda-46ed-9160-37c7281fe810",
   "metadata": {},
   "source": [
    "#### Question 2: Write a program to print first 10 even numbers."
   ]
  },
  {
   "cell_type": "code",
   "execution_count": 2,
   "id": "0c8ec666-b084-4ab7-aeaa-3cd69b62a810",
   "metadata": {},
   "outputs": [
    {
     "name": "stdout",
     "output_type": "stream",
     "text": [
      "2 is an even number.\n",
      "4 is an even number.\n",
      "6 is an even number.\n",
      "8 is an even number.\n",
      "10 is an even number.\n",
      "12 is an even number.\n",
      "14 is an even number.\n",
      "16 is an even number.\n",
      "18 is an even number.\n",
      "20 is an even number.\n",
      "2\n",
      "4\n",
      "6\n",
      "8\n",
      "10\n",
      "12\n",
      "14\n",
      "16\n",
      "18\n",
      "20\n"
     ]
    }
   ],
   "source": [
    "for i in range(1, 21):\n",
    "    if i%2 == 0:\n",
    "        print(f\"{i} is an even number.\")\n",
    "\n",
    "#Alternatively\n",
    "for i in range(2,22,2):\n",
    "    print(i)"
   ]
  },
  {
   "cell_type": "markdown",
   "id": "528d0039-4a68-4173-92d4-1e2d5b2f7054",
   "metadata": {},
   "source": [
    "#### Question 3: Write a program to print first 10 odd numbers."
   ]
  },
  {
   "cell_type": "code",
   "execution_count": 3,
   "id": "2083e2c2-769a-4fb9-b7fa-ba669d456826",
   "metadata": {},
   "outputs": [
    {
     "name": "stdout",
     "output_type": "stream",
     "text": [
      "1 is an odd number.\n",
      "3 is an odd number.\n",
      "5 is an odd number.\n",
      "7 is an odd number.\n",
      "9 is an odd number.\n",
      "11 is an odd number.\n",
      "13 is an odd number.\n",
      "15 is an odd number.\n",
      "17 is an odd number.\n",
      "19 is an odd number.\n",
      "1\n",
      "3\n",
      "5\n",
      "7\n",
      "9\n",
      "11\n",
      "13\n",
      "15\n",
      "17\n",
      "19\n"
     ]
    }
   ],
   "source": [
    "for i in range(1, 21):\n",
    "    if i%2==1:\n",
    "        print(f\"{i} is an odd number.\") \n",
    "\n",
    "#Alternatively\n",
    "for i in range(1,21,2):\n",
    "    print(i)"
   ]
  },
  {
   "cell_type": "markdown",
   "id": "f8dcf7d4-139a-4cb2-80b1-48119baee9aa",
   "metadata": {},
   "source": [
    "#### Question 4: Write a program to print first 10 even numbers in reverse order.\n"
   ]
  },
  {
   "cell_type": "code",
   "execution_count": 4,
   "id": "079cd28b-5fb3-4bed-a243-8d6411564d0c",
   "metadata": {},
   "outputs": [
    {
     "name": "stdout",
     "output_type": "stream",
     "text": [
      "20\n",
      "18\n",
      "16\n",
      "14\n",
      "12\n",
      "10\n",
      "8\n",
      "6\n",
      "4\n",
      "2\n"
     ]
    }
   ],
   "source": [
    "for i in range(20,0,-2):\n",
    "    print(i)\n"
   ]
  },
  {
   "cell_type": "markdown",
   "id": "5f02a20d-910a-4ce0-815d-06a50ab69369",
   "metadata": {},
   "source": [
    "#### Question 5: Write a program to print table of a number accepted from user."
   ]
  },
  {
   "cell_type": "code",
   "execution_count": 5,
   "id": "1fd4b3da-dd1f-4434-bf26-64f660698d28",
   "metadata": {},
   "outputs": [
    {
     "name": "stdin",
     "output_type": "stream",
     "text": [
      "Enter any natural number:  10\n"
     ]
    },
    {
     "name": "stdout",
     "output_type": "stream",
     "text": [
      "10*1 = 10\n",
      "10*2 = 20\n",
      "10*3 = 30\n",
      "10*4 = 40\n",
      "10*5 = 50\n",
      "10*6 = 60\n",
      "10*7 = 70\n",
      "10*8 = 80\n",
      "10*9 = 90\n",
      "10*10 = 100\n"
     ]
    }
   ],
   "source": [
    "num = int(input(\"Enter any natural number: \"))\n",
    "for i in range(1, 11):\n",
    "    result= num * i\n",
    "    print(f\"{num}*{i} = {result}\")"
   ]
  },
  {
   "cell_type": "markdown",
   "id": "ebaa43f6-857d-44e3-9928-e7d645f9317c",
   "metadata": {},
   "source": [
    "#### Question 6: Write a program to display product of the digits of a number accepted from the user."
   ]
  },
  {
   "cell_type": "code",
   "execution_count": null,
   "id": "1662d9a6-db5b-49a9-8e13-388f2582024c",
   "metadata": {},
   "outputs": [],
   "source": []
  },
  {
   "cell_type": "markdown",
   "id": "cef0dec2-2445-4849-bc75-8964582901ce",
   "metadata": {},
   "source": [
    "#### Quesion 7: Print the following pattern:"
   ]
  },
  {
   "cell_type": "raw",
   "id": "e6bea1af-260d-4505-b933-38b71d18969b",
   "metadata": {},
   "source": [
    "1\n",
    "1 2 \n",
    "1 2 3 \n",
    "1 2 3 4"
   ]
  },
  {
   "cell_type": "code",
   "execution_count": 6,
   "id": "447b991b-bf80-4f27-97db-4932701718a5",
   "metadata": {},
   "outputs": [
    {
     "name": "stdout",
     "output_type": "stream",
     "text": [
      "1 \n",
      "1 2 \n",
      "1 2 3 \n",
      "1 2 3 4 \n"
     ]
    }
   ],
   "source": [
    "for i in range(1, 5):\n",
    "    for j in range(1, i+1):\n",
    "        print(j, end= ' ')\n",
    "    print(\"\")\n",
    "        "
   ]
  },
  {
   "cell_type": "markdown",
   "id": "ad79861a-a8d7-4263-b952-d16c2d938ece",
   "metadata": {},
   "source": [
    "#### Question 8: Print a rectangle Pattern with 5 rows and 3 columns of stars."
   ]
  },
  {
   "cell_type": "code",
   "execution_count": 7,
   "id": "5da9d7e9-ac13-4e76-adbc-71db407f1f35",
   "metadata": {},
   "outputs": [
    {
     "name": "stdout",
     "output_type": "stream",
     "text": [
      "* * * \n",
      "* * * \n",
      "* * * \n",
      "* * * \n",
      "* * * \n"
     ]
    }
   ],
   "source": [
    "for i in range(1,6):\n",
    "    for j in range(1, 4):\n",
    "        print('*', end=' ')\n",
    "    print('')\n"
   ]
  },
  {
   "cell_type": "markdown",
   "id": "c15cfdb9-4112-4acb-b32d-bc35aed47544",
   "metadata": {},
   "source": [
    "#### Question 9: Print a 90 degree trangle with 6 rows  and columns using stars."
   ]
  },
  {
   "cell_type": "code",
   "execution_count": 8,
   "id": "343e3c2c-b9ad-4107-b786-97a2ac7c7ee4",
   "metadata": {},
   "outputs": [
    {
     "name": "stdout",
     "output_type": "stream",
     "text": [
      "* \n",
      "* * \n",
      "* * * \n",
      "* * * * \n",
      "* * * * * \n",
      "* * * * * * \n"
     ]
    }
   ],
   "source": [
    "for i in range(1, 7):\n",
    "    for j in range(1, i+1):\n",
    "        print('*', end=' ')\n",
    "    print('')"
   ]
  },
  {
   "cell_type": "markdown",
   "id": "2d9a7bfc-a22e-404d-8dbc-7242b6645b7d",
   "metadata": {},
   "source": [
    "#### Question 10: Calculate the sum of all numbers from 1 to what user provide number?"
   ]
  },
  {
   "cell_type": "code",
   "execution_count": 9,
   "id": "abf5e0a5-ccbf-421a-9153-ddf50191d209",
   "metadata": {},
   "outputs": [
    {
     "name": "stdin",
     "output_type": "stream",
     "text": [
      "Enter a number:  18\n"
     ]
    },
    {
     "name": "stdout",
     "output_type": "stream",
     "text": [
      "171\n"
     ]
    }
   ],
   "source": [
    "num = int(input(\"Enter a number: \"))\n",
    "sum = 0\n",
    "for i in range(num + 1):\n",
    "    sum += i \n",
    "print(sum)\n"
   ]
  },
  {
   "cell_type": "markdown",
   "id": "46302768-3b54-457b-ad18-80c0e07ab6d9",
   "metadata": {},
   "source": [
    "#### Question 11: Write a program to print multiplication table if a number provided by user?"
   ]
  },
  {
   "cell_type": "code",
   "execution_count": 10,
   "id": "cf7ef030-5722-4010-a13a-f77391dd0f35",
   "metadata": {},
   "outputs": [
    {
     "name": "stdin",
     "output_type": "stream",
     "text": [
      "Enter a number:  18\n"
     ]
    },
    {
     "name": "stdout",
     "output_type": "stream",
     "text": [
      "18 x 1 = 18\n",
      "18 x 2 = 36\n",
      "18 x 3 = 54\n",
      "18 x 4 = 72\n",
      "18 x 5 = 90\n",
      "18 x 6 = 108\n",
      "18 x 7 = 126\n",
      "18 x 8 = 144\n",
      "18 x 9 = 162\n",
      "18 x 10 = 180\n"
     ]
    }
   ],
   "source": [
    "num = int(input(\"Enter a number: \"))\n",
    "for i in range(1, 11):\n",
    "    result = num * i\n",
    "    print(f\"{num} x {i} = {result}\")"
   ]
  },
  {
   "cell_type": "markdown",
   "id": "0bd2859a-ed07-432b-9d9b-12d2a5ed1c01",
   "metadata": {},
   "source": [
    "#### Question 12: Display numbers from a list using loop?"
   ]
  },
  {
   "cell_type": "code",
   "execution_count": 11,
   "id": "974c4c3b-ffa9-4b7d-9d6d-8000d34b9e4f",
   "metadata": {},
   "outputs": [
    {
     "name": "stdout",
     "output_type": "stream",
     "text": [
      "15\n",
      "30\n",
      "45\n",
      "60\n",
      "75\n",
      "90\n"
     ]
    }
   ],
   "source": [
    "for i in list(range(1, 101)):\n",
    "    if i%3 == 0 and i%5 == 0:\n",
    "        print(i)"
   ]
  },
  {
   "cell_type": "markdown",
   "id": "5ba95f62-5d5f-4c1e-b792-8f11e917067a",
   "metadata": {},
   "source": [
    "#### Question 13: Display numbers from the following list using loop?"
   ]
  },
  {
   "cell_type": "code",
   "execution_count": 12,
   "id": "20bb0163-a004-40bc-b083-d1048d9a93e8",
   "metadata": {},
   "outputs": [
    {
     "name": "stdout",
     "output_type": "stream",
     "text": [
      "75\n",
      "150\n",
      "145\n"
     ]
    }
   ],
   "source": [
    "#Conditions\n",
    "#The number must be divisible by five\n",
    "#If the number is greater than 150, then skip to the next number.\n",
    "#If the number is greater than 500, stop or break the loop.\n",
    "\n",
    "numbers = [12, 75, 150, 180, 145, 525, 50]\n",
    "for i in numbers:\n",
    "    if i > 500:\n",
    "        break\n",
    "    elif i >150:\n",
    "        continue\n",
    "    elif i%5==0:\n",
    "        print(i)\n",
    "    \n",
    "        "
   ]
  },
  {
   "cell_type": "markdown",
   "id": "c900d02c-411e-4083-b532-66a18a393df3",
   "metadata": {},
   "source": [
    "#### Question 14: Print the following pattern:"
   ]
  },
  {
   "cell_type": "raw",
   "id": "8c42433e-63bf-4052-b4a5-4134a9b112da",
   "metadata": {},
   "source": [
    "5 4 3 2 1\n",
    "4 3 2 1\n",
    "3 2 1\n",
    "2 1\n",
    "1"
   ]
  },
  {
   "cell_type": "code",
   "execution_count": 13,
   "id": "b29dd069-4d02-4a7f-8d6f-008cb0a34c21",
   "metadata": {},
   "outputs": [
    {
     "name": "stdout",
     "output_type": "stream",
     "text": [
      "5 4 3 2 1  \n",
      "4 3 2 1  \n",
      "3 2 1  \n",
      "2 1  \n",
      "1  \n",
      " \n"
     ]
    }
   ],
   "source": [
    "\n",
    "k = 5\n",
    "for i in range(0, 6,1):\n",
    "    for j in range(k-i, 0, -1):\n",
    "        print(j, end = ' ')\n",
    "    print(' ')"
   ]
  },
  {
   "cell_type": "markdown",
   "id": "e4cec70d-f02b-4413-9a0b-7ddcfe7e6d63",
   "metadata": {},
   "source": [
    "#### Question 15: Print list in reverse order using a loop:"
   ]
  },
  {
   "cell_type": "code",
   "execution_count": 14,
   "id": "3145ff7e-7bd7-498e-87b1-257ebb4e8f73",
   "metadata": {},
   "outputs": [
    {
     "name": "stdout",
     "output_type": "stream",
     "text": [
      "50\n",
      "40\n",
      "30\n",
      "20\n",
      "10\n"
     ]
    }
   ],
   "source": [
    "list = [10, 20, 30, 40, 50]\n",
    "new_list = reversed(list)\n",
    "for i in new_list:\n",
    "    print(i)\n",
    "    \n"
   ]
  },
  {
   "cell_type": "markdown",
   "id": "83bfacd6-437a-4c3d-a682-05809eac3665",
   "metadata": {},
   "source": [
    "#### Question 16: Display numbers from -10 to -1 using For Loop:"
   ]
  },
  {
   "cell_type": "code",
   "execution_count": 15,
   "id": "20aad7bc-01d5-4549-9a5d-181b1315274c",
   "metadata": {},
   "outputs": [
    {
     "name": "stdout",
     "output_type": "stream",
     "text": [
      "-10\n",
      "-9\n",
      "-8\n",
      "-7\n",
      "-6\n",
      "-5\n",
      "-4\n",
      "-3\n",
      "-2\n",
      "-1\n"
     ]
    }
   ],
   "source": [
    "for i in range(-10, 0,1):\n",
    "    print(i)"
   ]
  },
  {
   "cell_type": "markdown",
   "id": "4860a5e9-27e0-47b6-bd31-b54628ef2013",
   "metadata": {},
   "source": [
    "#### Question 17: Write a program to display all prime number within a range:"
   ]
  },
  {
   "cell_type": "code",
   "execution_count": 16,
   "id": "01297b83-0247-49de-b15a-944e8d53c203",
   "metadata": {},
   "outputs": [
    {
     "name": "stdout",
     "output_type": "stream",
     "text": [
      "29\n",
      "31\n",
      "37\n",
      "41\n",
      "43\n",
      "47\n"
     ]
    }
   ],
   "source": [
    "for i in range(25, 50+1):\n",
    "    if i>1:\n",
    "        for n in range(2, i):\n",
    "            if(i%n)==0:\n",
    "                break\n",
    "        else:\n",
    "            print(i)\n",
    "        "
   ]
  },
  {
   "cell_type": "code",
   "execution_count": 17,
   "id": "da8e1fcd-31e5-4b27-a882-350c3728c95f",
   "metadata": {},
   "outputs": [
    {
     "name": "stdout",
     "output_type": "stream",
     "text": [
      "29\n",
      "31\n",
      "37\n",
      "41\n",
      "43\n",
      "47\n"
     ]
    }
   ],
   "source": [
    "for i in range(25, 50+1):\n",
    "    for n in range(2, i):\n",
    "        if i%n == 0:\n",
    "            break\n",
    "    else:\n",
    "        print(i)"
   ]
  },
  {
   "cell_type": "markdown",
   "id": "18f356cd-e2ce-4ed1-ba77-66ce289f3179",
   "metadata": {},
   "source": [
    "#### Question 18: Display Fibonacci series up to 10 terms."
   ]
  },
  {
   "cell_type": "code",
   "execution_count": 18,
   "id": "660ef1f0-c181-4752-a43b-2ed9336b0d9a",
   "metadata": {},
   "outputs": [
    {
     "name": "stdout",
     "output_type": "stream",
     "text": [
      "0 1 1 2 3 5 8 13 21 34 9\n"
     ]
    }
   ],
   "source": [
    "#Fibonacci Sequence is a series of a numbers the next number is found by adding up two numbers before it. The first two numbers are 0 and 1.\n",
    "num1, num2 = 0, 1\n",
    "for i in range(10):\n",
    "    print(num1, end=' ')\n",
    "    num1, num2 = num2, num1 + num2\n",
    "print(i)\n",
    "    "
   ]
  },
  {
   "cell_type": "markdown",
   "id": "715444a6-933f-420d-bc7c-130b00bef3cd",
   "metadata": {},
   "source": [
    "## While Loops"
   ]
  },
  {
   "cell_type": "code",
   "execution_count": null,
   "id": "5b087939-704a-4a46-b729-cd83141d39ea",
   "metadata": {},
   "outputs": [],
   "source": [
    "# Ques 1: Print string \"Hello world!\" using while loop.\n",
    "# Ques 2:  Print string \"Hello world!\" using while loop and use break after printing 2 lines.\n",
    "# Ques 3: Print multiple table from the number provided by user.\n",
    "# Ques 4: Reverse a number provided by user using while loop\n",
    "# Ques 5: Print the square of a number using while loop.\n",
    "# Ques 6: Finding the average of 5 numbers using while loop.\n",
    "# Ques 7: Write a Program to calculate the sum of the first N Natural Number:"
   ]
  },
  {
   "cell_type": "markdown",
   "id": "ceee522b-cfd1-400e-85ae-1b7775d7569e",
   "metadata": {},
   "source": [
    "#### Ques 1: Print string \"Hello world!\" using while loop."
   ]
  },
  {
   "cell_type": "code",
   "execution_count": 20,
   "id": "e46c93ad-05d3-490b-9574-e13087f7bed0",
   "metadata": {},
   "outputs": [
    {
     "name": "stdout",
     "output_type": "stream",
     "text": [
      "Hello World\n",
      "Hello World\n",
      "Hello World\n",
      "Hello World\n"
     ]
    }
   ],
   "source": [
    "n = 1\n",
    "while n< 5:\n",
    "    print(\"Hello World\")\n",
    "    n += 1"
   ]
  },
  {
   "cell_type": "markdown",
   "id": "b3457cfa-7616-4038-89fe-706f3b38bd5d",
   "metadata": {},
   "source": [
    "#### Ques 2:  Print string \"Hello world!\" using while loop and use break after printing 2 lines."
   ]
  },
  {
   "cell_type": "code",
   "execution_count": 2,
   "id": "3658e689-eafd-4db4-baa1-ea054f101b3c",
   "metadata": {},
   "outputs": [
    {
     "name": "stdout",
     "output_type": "stream",
     "text": [
      "Hello world\n",
      "Hello world\n"
     ]
    }
   ],
   "source": [
    "n = 1\n",
    "while n < 5:\n",
    "    print(\"Hello world\")\n",
    "    n += 1\n",
    "    if n==3:\n",
    "        break"
   ]
  },
  {
   "cell_type": "markdown",
   "id": "b75247c8-b026-4706-ad00-5fc6f4536e05",
   "metadata": {},
   "source": [
    "#### Ques 3: Print multiple table from the number provided by user."
   ]
  },
  {
   "cell_type": "code",
   "execution_count": 4,
   "id": "347ccaa7-04f4-4744-a8d9-9a2b169e9654",
   "metadata": {},
   "outputs": [
    {
     "name": "stdin",
     "output_type": "stream",
     "text": [
      "Enter a number:  11\n"
     ]
    },
    {
     "name": "stdout",
     "output_type": "stream",
     "text": [
      "11 x 1 = 11\n",
      "11 x 2 = 22\n",
      "11 x 3 = 33\n",
      "11 x 4 = 44\n",
      "11 x 5 = 55\n",
      "11 x 6 = 66\n",
      "11 x 7 = 77\n",
      "11 x 8 = 88\n",
      "11 x 9 = 99\n",
      "11 x 10 = 110\n"
     ]
    }
   ],
   "source": [
    "num = int(input(\"Enter a number: \"))\n",
    "n = 1\n",
    "while n <=10:\n",
    "    mul = num * n\n",
    "    print(f\"{num} x {n} = {mul}\")\n",
    "    n +=1\n"
   ]
  },
  {
   "cell_type": "markdown",
   "id": "7950d19d-f20b-44a4-820d-0a89c6dd5d3b",
   "metadata": {},
   "source": [
    "#### Ques 4: Reverse a number provided by user using while loop."
   ]
  },
  {
   "cell_type": "code",
   "execution_count": 4,
   "id": "fef82aec-d9f5-47be-9153-d267ca21c10b",
   "metadata": {},
   "outputs": [
    {
     "name": "stdin",
     "output_type": "stream",
     "text": [
      "Enter a two or three digit number:  123\n"
     ]
    },
    {
     "name": "stdout",
     "output_type": "stream",
     "text": [
      "Revesed number: 321\n"
     ]
    }
   ],
   "source": [
    "n = int(input(\"Enter a two or three digit number: \"))\n",
    "rev = 0\n",
    "while n != 0:\n",
    "    r = n%10  #3\n",
    "    rev = rev * 10 + r #3\n",
    "    n = n//10  #12\n",
    "print('Revesed number:', rev)"
   ]
  },
  {
   "cell_type": "markdown",
   "id": "9f83e751-462f-4eb5-bec5-494e0e545c39",
   "metadata": {},
   "source": [
    "#### Ques 5: Print the square of a number using while loop."
   ]
  },
  {
   "cell_type": "code",
   "execution_count": 2,
   "id": "0d4c9c9f-028e-4898-9d00-cbfd53d0108a",
   "metadata": {},
   "outputs": [
    {
     "name": "stdin",
     "output_type": "stream",
     "text": [
      "Enter a number:  3\n"
     ]
    },
    {
     "name": "stdout",
     "output_type": "stream",
     "text": [
      "9\n",
      "16\n",
      "25\n"
     ]
    }
   ],
   "source": [
    "num = int(input(\"Enter a number: \"))\n",
    "while num <= 5:\n",
    "    squ = num ** 2\n",
    "    print(squ)\n",
    "    num += 1"
   ]
  },
  {
   "cell_type": "markdown",
   "id": "1902adbd-1677-4eaa-863a-f12b3b0b28ee",
   "metadata": {},
   "source": [
    "#### Ques 6: Finding the average of 5 numbers using while loop."
   ]
  },
  {
   "cell_type": "code",
   "execution_count": 7,
   "id": "8c56fa41-d708-48b2-bc13-ac8e7292b664",
   "metadata": {},
   "outputs": [
    {
     "name": "stdin",
     "output_type": "stream",
     "text": [
      "Enter a number:  22\n",
      "Enter a number:  23\n",
      "Enter a number:  22\n",
      "Enter a number:  24\n",
      "Enter a number:  22\n"
     ]
    },
    {
     "name": "stdout",
     "output_type": "stream",
     "text": [
      "22.6\n"
     ]
    }
   ],
   "source": [
    "p = 5\n",
    "sum = 0\n",
    "len = 0\n",
    "while p > 0:\n",
    "    len += 1\n",
    "    num = int(input(\"Enter a number: \"))\n",
    "    sum += num\n",
    "    p -= 1 \n",
    "    \n",
    "\n",
    "average = sum/len\n",
    "print(average)"
   ]
  },
  {
   "cell_type": "markdown",
   "id": "2f3885fa-a993-4efd-b4c4-d7c9f03807ab",
   "metadata": {},
   "source": [
    "#### Ques 7: Write a Program to calculate the sum of the first N Natural Number:"
   ]
  },
  {
   "cell_type": "code",
   "execution_count": 1,
   "id": "b9a99496-0356-428f-b2c9-1fdc3bc8a33f",
   "metadata": {},
   "outputs": [
    {
     "name": "stdin",
     "output_type": "stream",
     "text": [
      "Enter a number:  11\n"
     ]
    },
    {
     "name": "stdout",
     "output_type": "stream",
     "text": [
      "132\n"
     ]
    }
   ],
   "source": [
    "num = int(input(\"Enter a number: \"))\n",
    "sum = 0 \n",
    "i = 0\n",
    "while i <= num:\n",
    "    sum += num\n",
    "    i += 1\n",
    "print(sum)"
   ]
  },
  {
   "cell_type": "markdown",
   "id": "86483dc1-011e-42c2-8d65-f40f41b24e4e",
   "metadata": {},
   "source": [
    "## List Comprehensions: \n",
    "Basic Syntax of list comprehension:\n",
    "[expression for item in list if condition == True]"
   ]
  },
  {
   "cell_type": "markdown",
   "id": "4fc0ff34-4c04-48e4-91b4-58948da8a552",
   "metadata": {},
   "source": [
    "#### Quest 1: Square the given list, numbers = [1, 2, 3, 4, 5]:"
   ]
  },
  {
   "cell_type": "code",
   "execution_count": 2,
   "id": "3f8aca87-a0c7-4fd5-93da-733e75a2b5b2",
   "metadata": {},
   "outputs": [
    {
     "data": {
      "text/plain": [
       "[1, 4, 9, 16, 25]"
      ]
     },
     "execution_count": 2,
     "metadata": {},
     "output_type": "execute_result"
    }
   ],
   "source": [
    "numbers = [1, 2, 3, 4, 5]\n",
    "squared = [num**2 for num in numbers]\n",
    "squared"
   ]
  },
  {
   "cell_type": "markdown",
   "id": "21504b8d-6244-41e3-8e2a-d09d32e80148",
   "metadata": {},
   "source": [
    "#### Quest 2: Find the length of each word in words = ['data', 'science', 'machine', 'learning']:"
   ]
  },
  {
   "cell_type": "code",
   "execution_count": 3,
   "id": "f83fcbc0-04a9-4c5a-968c-819c11227637",
   "metadata": {},
   "outputs": [
    {
     "name": "stdout",
     "output_type": "stream",
     "text": [
      "[4, 7, 7, 8]\n"
     ]
    }
   ],
   "source": [
    "words = ['data', 'science', 'machine', 'learning']\n",
    "word_len = [len(word) for word in words]\n",
    "print(word_len)"
   ]
  },
  {
   "cell_type": "markdown",
   "id": "61052964-8da7-4898-b579-ee9f5e005594",
   "metadata": {},
   "source": [
    "#### Quest 3: Print odd ages only from ages = [23, 22, 25, 27]:"
   ]
  },
  {
   "cell_type": "code",
   "execution_count": 5,
   "id": "c6bc0cec-de07-4993-8df9-f3355b45a5f9",
   "metadata": {},
   "outputs": [
    {
     "name": "stdout",
     "output_type": "stream",
     "text": [
      "[23, 25, 27]\n"
     ]
    }
   ],
   "source": [
    "ages = [23, 22, 25, 27]\n",
    "odd_ages = [age for age in ages if age%2==1]\n",
    "print(odd_ages)"
   ]
  },
  {
   "cell_type": "markdown",
   "id": "c3e3b530-f059-4669-911b-722496a8f136",
   "metadata": {},
   "source": [
    "#### Quest 4: Print any one nested list comprehension:"
   ]
  },
  {
   "cell_type": "code",
   "execution_count": 9,
   "id": "8c09acb1-7391-450b-8b16-43740e6fcaec",
   "metadata": {},
   "outputs": [
    {
     "name": "stdout",
     "output_type": "stream",
     "text": [
      "[('a', 1), ('a', 2), ('a', 3), ('b', 1), ('b', 2), ('b', 3), ('c', 1), ('c', 2), ('c', 3)]\n"
     ]
    }
   ],
   "source": [
    "letters = ['a', 'b', 'c']\n",
    "numbers = [1, 2, 3]\n",
    "nested = [(letter, number) for letter in letters for number in numbers]\n",
    "print(nested)"
   ]
  },
  {
   "cell_type": "markdown",
   "id": "307de990-ac1d-48ab-a146-275e54dfbeb3",
   "metadata": {},
   "source": [
    "#### Quest 5: Write a Python program that uses list comprehension to create a list containing the double of all positive numbers from the following list: [-2, -1, 0, 1, 2, 3, 4]. Print the final list."
   ]
  },
  {
   "cell_type": "code",
   "execution_count": 14,
   "id": "65d06238-4839-4b33-a38c-bae455620b70",
   "metadata": {},
   "outputs": [
    {
     "name": "stdout",
     "output_type": "stream",
     "text": [
      "[2, 4, 6, 8]\n"
     ]
    }
   ],
   "source": [
    "list = [-2, -1, 0, 1, 2, 3, 4]\n",
    "positive_double_list = [li * 2 for li in list if li > 0]\n",
    "print(positive_double_list)"
   ]
  },
  {
   "cell_type": "markdown",
   "id": "939fbc9d-12f4-4a4e-8f1a-20cac8bd6b92",
   "metadata": {},
   "source": [
    "#### Quest 6: Find vowel in the string \"Python\""
   ]
  },
  {
   "cell_type": "code",
   "execution_count": 16,
   "id": "f164540c-4203-4e49-97ba-72f380be2e4a",
   "metadata": {},
   "outputs": [
    {
     "name": "stdout",
     "output_type": "stream",
     "text": [
      "['o']\n"
     ]
    }
   ],
   "source": [
    "word = \"Python\"\n",
    "vowel = \"aeiou\"\n",
    "result = [char for char in word if char in vowel]\n",
    "print(result)"
   ]
  },
  {
   "cell_type": "markdown",
   "id": "93b87eb7-ecbd-4953-832e-78d6da54d4a4",
   "metadata": {},
   "source": [
    "#### Quest 7: Write a multiplication table of 2, 3, and 4. #nested loop comprehension:"
   ]
  },
  {
   "cell_type": "code",
   "execution_count": 19,
   "id": "7d1e6807-8f5b-4949-bb17-de17d3e80785",
   "metadata": {},
   "outputs": [
    {
     "name": "stdout",
     "output_type": "stream",
     "text": [
      "[[2, 4, 6, 8, 10, 12, 14, 16, 18, 20], [3, 6, 9, 12, 15, 18, 21, 24, 27, 30], [4, 8, 12, 16, 20, 24, 28, 32, 36, 40]]\n",
      "[2, 4, 6, 8, 10, 12, 14, 16, 18, 20, 3, 6, 9, 12, 15, 18, 21, 24, 27, 30, 4, 8, 12, 16, 20, 24, 28, 32, 36, 40]\n"
     ]
    }
   ],
   "source": [
    "multiplication = [[i * j for j in range(1, 11)] for i in range(2,5)]\n",
    "print(multiplication)\n",
    "multiplication = [(i*j) for i in range(2,5) for j in range(1,11)]\n",
    "print(multiplication)"
   ]
  },
  {
   "cell_type": "markdown",
   "id": "d149283e-0e45-4d64-8cfe-dc0a74c0f57c",
   "metadata": {},
   "source": [
    "#### Quest 8: Find even numbers from given list:"
   ]
  },
  {
   "cell_type": "code",
   "execution_count": 5,
   "id": "6686e826-b024-4161-bba1-c87cd0724cef",
   "metadata": {},
   "outputs": [
    {
     "name": "stdout",
     "output_type": "stream",
     "text": [
      "['Odd', 'Even', 'Odd', 'Even', 'Odd', 'Even', 'Odd']\n"
     ]
    }
   ],
   "source": [
    "numbers = [1, 2, 3, 4, 5, 6, 7]\n",
    "even_odd_numbers = [\"Even\" if num%2==0 else \"Odd\" for num in numbers] #Expression for items in list\n",
    "print(even_odd_numbers)"
   ]
  },
  {
   "cell_type": "markdown",
   "id": "7f29174f-7e9e-47d2-93ad-a3fd079da2b3",
   "metadata": {},
   "source": [
    "#### Q9: Find even numbers that are divisible by 5:"
   ]
  },
  {
   "cell_type": "code",
   "execution_count": 7,
   "id": "75399301-b64f-4ab3-b784-23a8221054ce",
   "metadata": {},
   "outputs": [
    {
     "name": "stdout",
     "output_type": "stream",
     "text": [
      "[0, 10, 20, 30, 40, 50, 60, 70, 80, 90, 100]\n"
     ]
    }
   ],
   "source": [
    "num_list = [y for y in range(101) if y%2==0 if y%5==0]\n",
    "print(num_list)"
   ]
  },
  {
   "cell_type": "markdown",
   "id": "d76f59c9-c5eb-48aa-b1ed-b849a00d500c",
   "metadata": {},
   "source": [
    "#### Q10: Count the number of spaces in a string sentence:"
   ]
  },
  {
   "cell_type": "code",
   "execution_count": 10,
   "id": "134e12cb-1185-45eb-b4bd-954b15a867c2",
   "metadata": {},
   "outputs": [
    {
     "name": "stdout",
     "output_type": "stream",
     "text": [
      "8\n"
     ]
    }
   ],
   "source": [
    "String1 = \"Hellp Prabin today we are going to Kathmandy valley.\"\n",
    "spaces = [s for s in String1 if s == ' ']\n",
    "print(len(spaces))"
   ]
  },
  {
   "cell_type": "markdown",
   "id": "ca09b446-ed59-41b8-a0dc-3160e7d43461",
   "metadata": {},
   "source": [
    "#### Q11:Create a list of all the consonants in the string “Yellow Yaks like yelling and yawning and yesturday they yodled while eating yuky yams”"
   ]
  },
  {
   "cell_type": "code",
   "execution_count": 13,
   "id": "c88903b3-5ada-4e3e-9e25-b59d52500436",
   "metadata": {},
   "outputs": [
    {
     "name": "stdout",
     "output_type": "stream",
     "text": [
      "['Y', 'e', 'l', 'l', 'o', 'w', ' ', 'Y', 'a', 'k', 's', ' ', 'l', 'i', 'k', 'e', ' ', 'y', 'e', 'l', 'l', 'i', 'n', 'g', ' ', 'a', 'n', 'd', ' ', 'y', 'a', 'w', 'n', 'i', 'n', 'g', ' ', 'a', 'n', 'd', ' ', 'y', 'e', 's', 't', 'e', 'r', 'd', 'a', 'y', ' ', 't', 'h', 'e', 'y', ' ', 'y', 'o', 'd', 'l', 'e', 'd', ' ', 'w', 'h', 'i', 'l', 'e', ' ', 'e', 'a', 't', 'i', 'n', 'g', ' ', 'y', 'u', 'k', 'y', ' ', 'y', 'a', 'm', 's']\n"
     ]
    }
   ],
   "source": [
    "String2 = \"Yellow Yaks like yelling and yawning and yesterday they yodled while eating yuky yams\"\n",
    "vowel = \"aeiou\"\n",
    "consonants = [s for s in String2 if s != vowel]\n",
    "print(consonants)"
   ]
  },
  {
   "cell_type": "markdown",
   "id": "113377b1-72b4-4610-9e2b-7baaf3e7b225",
   "metadata": {},
   "source": [
    "#### Q12: Get the index and the value as a tuple for items in the list “hi”, 4, 8.99, ‘apple’, (‘t,b’,’n’). Result would look like (index, value), (index, value)\n"
   ]
  },
  {
   "cell_type": "code",
   "execution_count": 14,
   "id": "8ce6469e-5ea8-4c5d-97a9-5fa6b79a07ac",
   "metadata": {},
   "outputs": [
    {
     "name": "stdout",
     "output_type": "stream",
     "text": [
      "[(0, 'hi'), (1, 4), (2, 8.99), (3, 'apple'), (4, ('t,b', 'n'))]\n"
     ]
    }
   ],
   "source": [
    "items = [\"hi\", 4, 8.99, \"apple\", (\"t,b\", \"n\")]\n",
    "result = [(index, item) for index, item in enumerate(items)]\n",
    "print(result)"
   ]
  },
  {
   "cell_type": "markdown",
   "id": "1853d2ff-e994-42e2-9890-5263a5553558",
   "metadata": {},
   "source": [
    "#### Q13: Find the common numbers in two lists (without using a tuple or set) list_a = 1, 2, 3, 4, list_b = 2, 3, 4, 5"
   ]
  },
  {
   "cell_type": "code",
   "execution_count": 22,
   "id": "f9ac5993-e38a-4c40-a7a7-f1df2c05a498",
   "metadata": {},
   "outputs": [
    {
     "name": "stdout",
     "output_type": "stream",
     "text": [
      "[2, 3, 4]\n"
     ]
    }
   ],
   "source": [
    "list_a = [1, 2, 3, 4]\n",
    "list_b = [2,3, 4, 5]\n",
    "common_number = [c for c in list_a if c in list_b]\n",
    "print(common_number)"
   ]
  },
  {
   "cell_type": "markdown",
   "id": "59585a24-ef71-4390-bf95-ecb4e5d0bb4e",
   "metadata": {},
   "source": [
    "#### Q14: Given numbers = range(20), produce a list containing the word ‘even’ if a number in the numbers is even, and the word ‘odd’ if the number is odd. Result would look like ‘odd’,’odd’, ‘even’"
   ]
  },
  {
   "cell_type": "code",
   "execution_count": 23,
   "id": "76a80f3f-7784-42cd-82d3-033ea7ccdbd7",
   "metadata": {},
   "outputs": [
    {
     "name": "stdout",
     "output_type": "stream",
     "text": [
      "['Even', 'Odd', 'Even', 'Odd', 'Even', 'Odd', 'Even', 'Odd', 'Even', 'Odd', 'Even', 'Odd', 'Even', 'Odd', 'Even', 'Odd', 'Even', 'Odd', 'Even', 'Odd']\n"
     ]
    }
   ],
   "source": [
    "even_odd_numbers = [\"Even\" if num%2==0 else \"Odd\" for num in range(20)]\n",
    "print(even_odd_numbers)"
   ]
  },
  {
   "cell_type": "markdown",
   "id": "1b0e2039-3f9b-4847-ac55-5ea0bd022a93",
   "metadata": {},
   "source": [
    "#### Q15: Produce a list of tuples consisting of only the matching numbers in these lists list_a = 1, 2, 3,4,5,6,7,8,9, list_b = 2, 7, 1, 12. Result would look like (4,4), (12,12)"
   ]
  },
  {
   "cell_type": "code",
   "execution_count": 31,
   "id": "b00796f0-6e38-445d-94cc-b016fa2891c5",
   "metadata": {},
   "outputs": [
    {
     "name": "stdout",
     "output_type": "stream",
     "text": [
      "[(1, 1), (2, 2), (7, 7)]\n"
     ]
    }
   ],
   "source": [
    "list_a = [1, 2, 3, 4, 5, 6, 7, 8, 9]\n",
    "list_b = [2, 7, 1, 12]\n",
    "common_in_tuple = [(a,b) for a in list_a for b in list_b if a == b ]\n",
    "print(common_in_tuple)"
   ]
  },
  {
   "cell_type": "markdown",
   "id": "94083db9-c97e-4b1d-b10e-ecc94ef3e8e7",
   "metadata": {},
   "source": [
    "#### Q16: Find all of the words in a string that are less than 4 letters"
   ]
  },
  {
   "cell_type": "code",
   "execution_count": 36,
   "id": "65213cd4-af70-4c2a-acfe-3f7549c956d9",
   "metadata": {},
   "outputs": [
    {
     "name": "stdout",
     "output_type": "stream",
     "text": [
      "['On', 'a', 'summer', 'day', 'somner', 'smith', 'went', 'swimming', 'in', 'the', 'sun', 'and', 'his', 'red', 'skin', 'sting']\n",
      "['On', 'a', 'day', 'went', 'in', 'the', 'sun', 'and', 'his', 'red', 'skin']\n"
     ]
    }
   ],
   "source": [
    "sentence = \"On a summer day somner smith went swimming in the sun and his red skin sting\"\n",
    "examine = sentence.split()\n",
    "print(examine)\n",
    "word_len= [word for word in examine if len(word)<=4]\n",
    "print(word_len)"
   ]
  },
  {
   "cell_type": "markdown",
   "id": "6e3b00af-7b1b-42b4-a8cf-4d0d571bb9c5",
   "metadata": {},
   "source": [
    "#### Q17: Use a nested list comprehension to find all of the numbers from 1-100 that are divisible by any single digit besides 1 (2-9)"
   ]
  },
  {
   "cell_type": "code",
   "execution_count": 39,
   "id": "b4c66418-a9fc-47fa-9050-53338dfc87fb",
   "metadata": {},
   "outputs": [
    {
     "name": "stdout",
     "output_type": "stream",
     "text": [
      "[2, 3, 4, 5, 6, 7, 8, 9, 10, 12, 14, 15, 16, 18, 20, 21, 22, 24, 25, 26, 27, 28, 30, 32, 33, 34, 35, 36, 38, 39, 40, 42, 44, 45, 46, 48, 49, 50, 51, 52, 54, 55, 56, 57, 58, 60, 62, 63, 64, 65, 66, 68, 69, 70, 72, 74, 75, 76, 77, 78, 80, 81, 82, 84, 85, 86, 87, 88, 90, 91, 92, 93, 94, 95, 96, 98, 99]\n",
      "[2, 3, 4, 5, 6, 7, 8, 9, 10, 12, 14, 15, 16, 18, 20, 21, 22, 24, 25, 26, 27, 28, 30, 32, 33, 34, 35, 36, 38, 39, 40, 42, 44, 45, 46, 48, 49, 50, 51, 52, 54, 55, 56, 57, 58, 60, 62, 63, 64, 65, 66, 68, 69, 70, 72, 74, 75, 76, 77, 78, 80, 81, 82, 84, 85, 86, 87, 88, 90, 91, 92, 93, 94, 95, 96, 98, 99, 100]\n"
     ]
    }
   ],
   "source": [
    "result = [num for num in range(1,100) if True in [True for x in range(2,10) if num % x ==0]]\n",
    "print(result)\n",
    "numbers = list(range(1,101))\n",
    "divisors = list(range(2,10))\n",
    "ans = [n for n in numbers if any([n%d==0 for d in divisors])]\n",
    "print(ans)"
   ]
  },
  {
   "cell_type": "code",
   "execution_count": null,
   "id": "30375446-1a36-457e-b979-6866dd80066c",
   "metadata": {},
   "outputs": [],
   "source": []
  },
  {
   "cell_type": "code",
   "execution_count": null,
   "id": "fc48b7d6-2c79-4496-8700-7257e5005165",
   "metadata": {},
   "outputs": [],
   "source": []
  },
  {
   "cell_type": "markdown",
   "id": "6ba8dbfd-041e-4c2b-9ab7-152b34d36fbf",
   "metadata": {},
   "source": [
    "## Dictionary Comprehension:"
   ]
  },
  {
   "cell_type": "markdown",
   "id": "0e7a7e7d-0fc5-40f0-b86d-3787d6bd7861",
   "metadata": {},
   "source": [
    "In Python, dictionary comprehension is a concise way to create a new dictionary by transforming an existing iterable (such as a list or tuple) into key-value pairs. It provides a compact syntax for mapping a given iterable to a new dictionary by applying a specific expression to each element in the iterable.\n",
    "\n",
    "The basic syntax of a dictionary comprehension is as follows:\n",
    "\n",
    "new_dict = {key_expression: value_expression for item in iterable if condition}"
   ]
  },
  {
   "cell_type": "markdown",
   "id": "4563a1b3-97e9-45ae-9469-159185a4ca8d",
   "metadata": {},
   "source": [
    "#### Q1: Create dictionary of square number from above nunmbers:"
   ]
  },
  {
   "cell_type": "code",
   "execution_count": 40,
   "id": "163ef7bf-e74b-481d-a7ed-2f3d5618f8e0",
   "metadata": {},
   "outputs": [
    {
     "name": "stdout",
     "output_type": "stream",
     "text": [
      "{1: 1, 2: 4, 3: 9, 4: 16, 5: 25}\n"
     ]
    }
   ],
   "source": [
    "numbers = [1, 2, 3, 4, 5]\n",
    "square_dict = {num : num**2 for num in numbers}      \n",
    "print(square_dict)"
   ]
  },
  {
   "cell_type": "markdown",
   "id": "2e1b0678-84bd-470e-993a-245fc99e77f7",
   "metadata": {},
   "source": [
    "#### Q2: Create a dict of odd numbers only:"
   ]
  },
  {
   "cell_type": "code",
   "execution_count": 41,
   "id": "78d425c9-3145-47e3-a19f-592b45f550ba",
   "metadata": {},
   "outputs": [
    {
     "name": "stdout",
     "output_type": "stream",
     "text": [
      "{1: 1, 2: 2, 3: 3, 4: 4, 5: 5, 6: 6, 7: 7}\n"
     ]
    }
   ],
   "source": [
    "numbers = [1, 2, 3, 4, 5, 6, 7]\n",
    "odd_dict = {num: num for num in numbers if n%2==1}\n",
    "print(odd_dict)"
   ]
  },
  {
   "cell_type": "markdown",
   "id": "b4dab094-8116-48fc-8d81-ba04082b3696",
   "metadata": {},
   "source": [
    "#### Q3: Create a dict for a letter count:"
   ]
  },
  {
   "cell_type": "code",
   "execution_count": 44,
   "id": "ebd764e1-f6eb-45ea-8760-c90e6f7622f8",
   "metadata": {},
   "outputs": [
    {
     "name": "stdout",
     "output_type": "stream",
     "text": [
      "{'L': 1, 'e': 2, 't': 2, 'r': 1}\n"
     ]
    }
   ],
   "source": [
    "word = \"Letter\"\n",
    "word_count = {letter: word.count(letter) for letter in word}\n",
    "print(word_count)"
   ]
  },
  {
   "cell_type": "markdown",
   "id": "74e9ed10-9158-4b4c-aaba-957334951d23",
   "metadata": {},
   "source": [
    "#### Q4: Find Length of each word in words = ['data', 'science', 'machine', 'learning', 'Deep', 'Python', 'dict'] and store as {word:length .... }.\n",
    "Also, add a condition to show words that have length 5 or greater."
   ]
  },
  {
   "cell_type": "code",
   "execution_count": 48,
   "id": "8a4dd466-493f-4d86-ad78-4ce1c9bdb4b1",
   "metadata": {},
   "outputs": [
    {
     "name": "stdout",
     "output_type": "stream",
     "text": [
      "{'data': 4, 'science': 7, 'machine': 7, 'learning': 8, 'Deep': 4, 'Python': 6, 'dict': 4}\n",
      "{'science': 7, 'machine': 7, 'learning': 8, 'Python': 6}\n"
     ]
    }
   ],
   "source": [
    "words = [\"data\", \"science\", \"machine\", \"learning\", \"Deep\", \"Python\", \"dict\"]\n",
    "word_with_len = {word: len(word) for word in words}\n",
    "print(word_with_len)\n",
    "\n",
    "wordlen_cond = {word: len(word) for word in words if len(word)>=5}\n",
    "print(wordlen_cond)"
   ]
  },
  {
   "cell_type": "markdown",
   "id": "90876b64-cbbd-4a95-8d87-0de6773397eb",
   "metadata": {},
   "source": [
    "#### Q5: Merge two Python dict into one:"
   ]
  },
  {
   "cell_type": "code",
   "execution_count": 51,
   "id": "2099c441-441c-41b5-89c2-ecb0cc174033",
   "metadata": {},
   "outputs": [
    {
     "name": "stdout",
     "output_type": "stream",
     "text": [
      "{'Ten': 10, 'Twenty': 20, 'Thirty': 30}\n"
     ]
    }
   ],
   "source": [
    "dict1 = {'Ten': 10, 'Twenty':20}\n",
    "dict2 = {'Thirty':30, 'Twenty':20}\n",
    "dict1.update(dict2)  #Merging two dict\n",
    "print(dict1)"
   ]
  },
  {
   "cell_type": "markdown",
   "id": "3f11b617-7cc8-4722-9713-f4b900ad3b0c",
   "metadata": {},
   "source": [
    "#### Q6: Merge two list into a dict:"
   ]
  },
  {
   "cell_type": "code",
   "execution_count": 56,
   "id": "d6d8b6e3-01fa-4514-bb0f-a3faf8c1aff7",
   "metadata": {},
   "outputs": [
    {
     "name": "stdout",
     "output_type": "stream",
     "text": [
      "{'Ten': 10, 'Twenty': 20}\n"
     ]
    }
   ],
   "source": [
    "keys = ['Ten', 'Twenty']\n",
    "values = [10, 20]\n",
    "print(dict(zip(keys, values)))"
   ]
  },
  {
   "cell_type": "markdown",
   "id": "94bf4490-9394-47f5-a95c-8ad1770aea5f",
   "metadata": {},
   "source": [
    "#### Q7: Create a dictionary by extracting the keys from a given dictionary:"
   ]
  },
  {
   "cell_type": "code",
   "execution_count": 60,
   "id": "5298323c-3b86-4526-954d-54dade447d04",
   "metadata": {},
   "outputs": [
    {
     "name": "stdout",
     "output_type": "stream",
     "text": [
      "{'name': 'Kelly', 'age': 23, 'salary': 8000, 'city': 'NY'}\n"
     ]
    }
   ],
   "source": [
    "sample_dict = {\n",
    "    \"name\" : \"Kelly\",\n",
    "    \"age\" : 23,\n",
    "    \"salary\" : 8000, \n",
    "    \"city\": \"NY\"}\n",
    "new_dict = {k: sample_dict[k] for k in sample_dict}\n",
    "print(new_dict)\n"
   ]
  },
  {
   "cell_type": "markdown",
   "id": "0c58be57-2b5a-4158-8ee5-1011300622ec",
   "metadata": {},
   "source": [
    "#### Q8: We have two list convert it into a dict by using dict comprehension:"
   ]
  },
  {
   "cell_type": "code",
   "execution_count": 61,
   "id": "00d6577f-470b-497e-adc3-e89d0ebcc861",
   "metadata": {},
   "outputs": [
    {
     "name": "stdout",
     "output_type": "stream",
     "text": [
      "{'a': 1, 'b': 2, 'c': 3, 'd': 4, 'e': 5}\n"
     ]
    }
   ],
   "source": [
    "keys = ['a', 'b', 'c', 'd', 'e']\n",
    "values = [1, 2, 3, 4, 5]\n",
    "mydict = {k:v for (k,v) in zip(keys, values)}\n",
    "print(mydict)"
   ]
  },
  {
   "cell_type": "markdown",
   "id": "aa2ba2a1-dc58-43f2-b3f5-901ceb3b7445",
   "metadata": {},
   "source": [
    "#### Q9: Find the numbers to their cubes that are not divisible by 4:"
   ]
  },
  {
   "cell_type": "code",
   "execution_count": 63,
   "id": "caab28c6-23be-415b-ba86-bb9fe4861579",
   "metadata": {},
   "outputs": [
    {
     "name": "stdout",
     "output_type": "stream",
     "text": [
      "{0: 0, 2: 8, 4: 64, 6: 216, 8: 512}\n"
     ]
    }
   ],
   "source": [
    "mydict = {x:x**3 for x in range(10) if x**3 %4 == 0}\n",
    "print(mydict)"
   ]
  },
  {
   "cell_type": "markdown",
   "id": "494d545b-4396-4285-806a-2d43d04785b5",
   "metadata": {},
   "source": [
    "#### Q10: Nested dictionary"
   ]
  },
  {
   "cell_type": "code",
   "execution_count": 64,
   "id": "b79be744-8dff-4686-92e6-dfa067fbb61d",
   "metadata": {},
   "outputs": [
    {
     "name": "stdout",
     "output_type": "stream",
     "text": [
      "{'G': {'G': 'GG', 'F': 'GF'}, 'F': {'G': 'FG', 'F': 'FF'}}\n"
     ]
    }
   ],
   "source": [
    "l =\"GFG\"\n",
    "dict = {\n",
    "    x: {y:x+y for y in l} for x in l\n",
    "}\n",
    "print(dict)"
   ]
  },
  {
   "cell_type": "code",
   "execution_count": null,
   "id": "0be04914-2290-4cb8-8284-6c9ee18e4cc4",
   "metadata": {},
   "outputs": [],
   "source": [
    "\n",
    "    "
   ]
  }
 ],
 "metadata": {
  "kernelspec": {
   "display_name": "Python 3 (ipykernel)",
   "language": "python",
   "name": "python3"
  },
  "language_info": {
   "codemirror_mode": {
    "name": "ipython",
    "version": 3
   },
   "file_extension": ".py",
   "mimetype": "text/x-python",
   "name": "python",
   "nbconvert_exporter": "python",
   "pygments_lexer": "ipython3",
   "version": "3.12.2"
  }
 },
 "nbformat": 4,
 "nbformat_minor": 5
}
