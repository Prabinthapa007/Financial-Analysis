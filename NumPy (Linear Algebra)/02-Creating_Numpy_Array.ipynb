{
 "cells": [
  {
   "cell_type": "markdown",
   "id": "a123fe48-b4db-4aa5-9c4f-21942751bce3",
   "metadata": {},
   "source": [
    "`NumPy` is the fundamental package for scientific computing in Python. It is a python library that provides a multidimensional array object, various derived objects (such as masked arrays and matrices), and an assortment of routines for fast operations on arrays, including mathematical, logical, shape manipulation, sorting, selecting, discrete Fourier trasforms, and much more."
   ]
  },
  {
   "cell_type": "code",
   "execution_count": 1,
   "id": "4bd4e173-46d0-41e7-9bce-8a26d6d47e7e",
   "metadata": {},
   "outputs": [],
   "source": [
    "import numpy as np"
   ]
  },
  {
   "cell_type": "code",
   "execution_count": 2,
   "id": "222fb779-5d37-4883-8995-287cda604758",
   "metadata": {},
   "outputs": [
    {
     "data": {
      "text/plain": [
       "[33, 34, 23, 12]"
      ]
     },
     "execution_count": 2,
     "metadata": {},
     "output_type": "execute_result"
    }
   ],
   "source": [
    "list1 = [33, 34, 23, 12] #In here there are 4 dimensional if we look closely. \n",
    "list1"
   ]
  },
  {
   "cell_type": "markdown",
   "id": "cf4224ec-8672-49eb-86c1-eb583945ae53",
   "metadata": {},
   "source": [
    "# Creating Numpy array:"
   ]
  },
  {
   "cell_type": "code",
   "execution_count": 3,
   "id": "ec962c60-1ee5-49df-b52f-05f4006d468d",
   "metadata": {},
   "outputs": [
    {
     "name": "stdout",
     "output_type": "stream",
     "text": [
      "\n",
      "Type of array\n",
      "<class 'numpy.ndarray'>\n",
      "\n",
      "array\n",
      "[11  2  4]\n"
     ]
    }
   ],
   "source": [
    "# np.array()\n",
    "list1 = [11, 2, 4]\n",
    "array1 = np.array(list1)\n",
    "\n",
    "print(\"\\nType of array\")\n",
    "print(type(array1))\n",
    "\n",
    "print(\"\\narray\")\n",
    "print(array1)"
   ]
  },
  {
   "cell_type": "code",
   "execution_count": 4,
   "id": "83f9ebad-03cd-404e-afd6-7af1a2bd7a93",
   "metadata": {},
   "outputs": [
    {
     "data": {
      "text/plain": [
       "['T',\n",
       " '__abs__',\n",
       " '__add__',\n",
       " '__and__',\n",
       " '__array__',\n",
       " '__array_finalize__',\n",
       " '__array_function__',\n",
       " '__array_interface__',\n",
       " '__array_prepare__',\n",
       " '__array_priority__',\n",
       " '__array_struct__',\n",
       " '__array_ufunc__',\n",
       " '__array_wrap__',\n",
       " '__bool__',\n",
       " '__buffer__',\n",
       " '__class__',\n",
       " '__class_getitem__',\n",
       " '__complex__',\n",
       " '__contains__',\n",
       " '__copy__',\n",
       " '__deepcopy__',\n",
       " '__delattr__',\n",
       " '__delitem__',\n",
       " '__dir__',\n",
       " '__divmod__',\n",
       " '__dlpack__',\n",
       " '__dlpack_device__',\n",
       " '__doc__',\n",
       " '__eq__',\n",
       " '__float__',\n",
       " '__floordiv__',\n",
       " '__format__',\n",
       " '__ge__',\n",
       " '__getattribute__',\n",
       " '__getitem__',\n",
       " '__getstate__',\n",
       " '__gt__',\n",
       " '__hash__',\n",
       " '__iadd__',\n",
       " '__iand__',\n",
       " '__ifloordiv__',\n",
       " '__ilshift__',\n",
       " '__imatmul__',\n",
       " '__imod__',\n",
       " '__imul__',\n",
       " '__index__',\n",
       " '__init__',\n",
       " '__init_subclass__',\n",
       " '__int__',\n",
       " '__invert__',\n",
       " '__ior__',\n",
       " '__ipow__',\n",
       " '__irshift__',\n",
       " '__isub__',\n",
       " '__iter__',\n",
       " '__itruediv__',\n",
       " '__ixor__',\n",
       " '__le__',\n",
       " '__len__',\n",
       " '__lshift__',\n",
       " '__lt__',\n",
       " '__matmul__',\n",
       " '__mod__',\n",
       " '__mul__',\n",
       " '__ne__',\n",
       " '__neg__',\n",
       " '__new__',\n",
       " '__or__',\n",
       " '__pos__',\n",
       " '__pow__',\n",
       " '__radd__',\n",
       " '__rand__',\n",
       " '__rdivmod__',\n",
       " '__reduce__',\n",
       " '__reduce_ex__',\n",
       " '__repr__',\n",
       " '__rfloordiv__',\n",
       " '__rlshift__',\n",
       " '__rmatmul__',\n",
       " '__rmod__',\n",
       " '__rmul__',\n",
       " '__ror__',\n",
       " '__rpow__',\n",
       " '__rrshift__',\n",
       " '__rshift__',\n",
       " '__rsub__',\n",
       " '__rtruediv__',\n",
       " '__rxor__',\n",
       " '__setattr__',\n",
       " '__setitem__',\n",
       " '__setstate__',\n",
       " '__sizeof__',\n",
       " '__str__',\n",
       " '__sub__',\n",
       " '__subclasshook__',\n",
       " '__truediv__',\n",
       " '__xor__',\n",
       " 'all',\n",
       " 'any',\n",
       " 'argmax',\n",
       " 'argmin',\n",
       " 'argpartition',\n",
       " 'argsort',\n",
       " 'astype',\n",
       " 'base',\n",
       " 'byteswap',\n",
       " 'choose',\n",
       " 'clip',\n",
       " 'compress',\n",
       " 'conj',\n",
       " 'conjugate',\n",
       " 'copy',\n",
       " 'ctypes',\n",
       " 'cumprod',\n",
       " 'cumsum',\n",
       " 'data',\n",
       " 'diagonal',\n",
       " 'dot',\n",
       " 'dtype',\n",
       " 'dump',\n",
       " 'dumps',\n",
       " 'fill',\n",
       " 'flags',\n",
       " 'flat',\n",
       " 'flatten',\n",
       " 'getfield',\n",
       " 'imag',\n",
       " 'item',\n",
       " 'itemset',\n",
       " 'itemsize',\n",
       " 'max',\n",
       " 'mean',\n",
       " 'min',\n",
       " 'nbytes',\n",
       " 'ndim',\n",
       " 'newbyteorder',\n",
       " 'nonzero',\n",
       " 'partition',\n",
       " 'prod',\n",
       " 'ptp',\n",
       " 'put',\n",
       " 'ravel',\n",
       " 'real',\n",
       " 'repeat',\n",
       " 'reshape',\n",
       " 'resize',\n",
       " 'round',\n",
       " 'searchsorted',\n",
       " 'setfield',\n",
       " 'setflags',\n",
       " 'shape',\n",
       " 'size',\n",
       " 'sort',\n",
       " 'squeeze',\n",
       " 'std',\n",
       " 'strides',\n",
       " 'sum',\n",
       " 'swapaxes',\n",
       " 'take',\n",
       " 'tobytes',\n",
       " 'tofile',\n",
       " 'tolist',\n",
       " 'tostring',\n",
       " 'trace',\n",
       " 'transpose',\n",
       " 'var',\n",
       " 'view']"
      ]
     },
     "execution_count": 4,
     "metadata": {},
     "output_type": "execute_result"
    }
   ],
   "source": [
    "dir(array1) "
   ]
  },
  {
   "cell_type": "code",
   "execution_count": 5,
   "id": "11a6b390-03fe-4072-ac52-8e589323be40",
   "metadata": {},
   "outputs": [
    {
     "data": {
      "text/plain": [
       "1"
      ]
     },
     "execution_count": 5,
     "metadata": {},
     "output_type": "execute_result"
    }
   ],
   "source": [
    "# How can we see the dimensions of the array:\n",
    "array1.ndim"
   ]
  },
  {
   "cell_type": "code",
   "execution_count": 6,
   "id": "374a0cd0-e78f-44ee-aae8-285024575662",
   "metadata": {},
   "outputs": [
    {
     "name": "stdout",
     "output_type": "stream",
     "text": [
      "[[1 2 3]\n",
      " [4 5 6]]\n",
      "<class 'numpy.ndarray'>\n",
      "2\n"
     ]
    }
   ],
   "source": [
    "# How can we see the 2 dimensional array:\n",
    "list2 = [[1,2,3],[4,5,6]]\n",
    "array2 = np.array(list2)\n",
    "print(array2)\n",
    "print(type(array2))\n",
    "print(array2.ndim)"
   ]
  },
  {
   "cell_type": "code",
   "execution_count": 7,
   "id": "e0fe5e95-f284-4022-af24-3cb37b02e21b",
   "metadata": {},
   "outputs": [
    {
     "name": "stdout",
     "output_type": "stream",
     "text": [
      "[[1 2 3 4]\n",
      " [4 5 6 7]\n",
      " [7 8 9 5]\n",
      " [7 8 9 5]]\n",
      "<class 'numpy.ndarray'>\n",
      "2\n"
     ]
    }
   ],
   "source": [
    "list3 = [[1,2,3,4],[4,5,6,7],[7,8,9,5], [7,8,9,5]]\n",
    "array3 = np.array(list3)\n",
    "print(array3)\n",
    "print(type(array3))\n",
    "print(array3.ndim)"
   ]
  },
  {
   "cell_type": "markdown",
   "id": "408592e8-a063-4fa7-baf9-c183f69acf98",
   "metadata": {},
   "source": [
    "## Some of the array objects."
   ]
  },
  {
   "cell_type": "markdown",
   "id": "186597da-19c1-41af-9a30-6bbd3952d08b",
   "metadata": {},
   "source": [
    "### 1. np.zeros(shape, dtype=float, order='C' )\n",
    "It is mostly used for the sum in array"
   ]
  },
  {
   "cell_type": "code",
   "execution_count": 8,
   "id": "dc71a536-0892-4b90-becf-f27e4d14effd",
   "metadata": {},
   "outputs": [
    {
     "name": "stdout",
     "output_type": "stream",
     "text": [
      "[0. 0. 0. 0. 0.]\n"
     ]
    }
   ],
   "source": [
    "array_zero = np.zeros(5)\n",
    "print(array_zero)"
   ]
  },
  {
   "cell_type": "code",
   "execution_count": 9,
   "id": "857f5f84-cdb1-4209-8a48-4a36b99a2e75",
   "metadata": {},
   "outputs": [
    {
     "name": "stdout",
     "output_type": "stream",
     "text": [
      "[[0. 0. 0.]\n",
      " [0. 0. 0.]]\n"
     ]
    }
   ],
   "source": [
    "array_zero2 = np.zeros((2,3))\n",
    "print(array_zero2)"
   ]
  },
  {
   "cell_type": "markdown",
   "id": "6f66974c-965f-4fdf-ade2-3149befa4d56",
   "metadata": {},
   "source": [
    "<br>"
   ]
  },
  {
   "cell_type": "markdown",
   "id": "123074ad-3231-4589-826c-574f40878ea4",
   "metadata": {},
   "source": [
    "### 2. np.ones(shape, dtype=float, order='C')"
   ]
  },
  {
   "cell_type": "code",
   "execution_count": 10,
   "id": "4c5f167b-7edc-4ecc-a557-b858165f29d3",
   "metadata": {},
   "outputs": [
    {
     "name": "stdout",
     "output_type": "stream",
     "text": [
      "[1. 1. 1. 1. 1.]\n"
     ]
    }
   ],
   "source": [
    "#1D\n",
    "array_one = np.ones(5)\n",
    "print(array_one)"
   ]
  },
  {
   "cell_type": "code",
   "execution_count": 11,
   "id": "237cfb35-a870-4a62-9129-d000d0fe4711",
   "metadata": {},
   "outputs": [
    {
     "name": "stdout",
     "output_type": "stream",
     "text": [
      "[[1. 1. 1.]\n",
      " [1. 1. 1.]]\n"
     ]
    }
   ],
   "source": [
    "array_one = np.ones((2,3))\n",
    "print(array_one)"
   ]
  },
  {
   "cell_type": "markdown",
   "id": "ef7e7c13-2ef2-4c7a-9184-4946a59d04f1",
   "metadata": {},
   "source": [
    "<br>"
   ]
  },
  {
   "cell_type": "markdown",
   "id": "4174ed3a-1bfa-4d2d-961b-ae89fb7d6bf2",
   "metadata": {},
   "source": [
    "### 3. np.full(shape, fill_value, dtype=None, order='C', *, like=None)"
   ]
  },
  {
   "cell_type": "code",
   "execution_count": 12,
   "id": "b4107acf-ced3-49be-b082-157af93e29ea",
   "metadata": {},
   "outputs": [
    {
     "name": "stdout",
     "output_type": "stream",
     "text": [
      "[3.2 3.2 3.2 3.2 3.2]\n"
     ]
    }
   ],
   "source": [
    "#1D\n",
    "array_full = np.full(shape=5, fill_value=3.2)\n",
    "print(array_full)"
   ]
  },
  {
   "cell_type": "code",
   "execution_count": 13,
   "id": "825113c4-ad9c-4fda-8d23-c7506fe5e2d8",
   "metadata": {},
   "outputs": [
    {
     "name": "stdout",
     "output_type": "stream",
     "text": [
      "float64\n"
     ]
    }
   ],
   "source": [
    "print(array_full.dtype)"
   ]
  },
  {
   "cell_type": "code",
   "execution_count": 14,
   "id": "3d4eeaff-52a5-40aa-8ca2-fe9c540b1a05",
   "metadata": {},
   "outputs": [
    {
     "name": "stdout",
     "output_type": "stream",
     "text": [
      "[[4 4 4]\n",
      " [4 4 4]]\n"
     ]
    }
   ],
   "source": [
    "array_full = np.full(shape=(2,3), fill_value=4)\n",
    "print(array_full)"
   ]
  },
  {
   "cell_type": "code",
   "execution_count": 15,
   "id": "4b8a987e-422c-40f7-95e9-4ad4dd43823a",
   "metadata": {},
   "outputs": [
    {
     "name": "stdout",
     "output_type": "stream",
     "text": [
      "int32\n"
     ]
    }
   ],
   "source": [
    "print(array_full.dtype)"
   ]
  },
  {
   "cell_type": "code",
   "execution_count": 16,
   "id": "aa34762f-d35d-4cf6-8571-edf9a8d41c6b",
   "metadata": {},
   "outputs": [
    {
     "name": "stdout",
     "output_type": "stream",
     "text": [
      "(2, 3)\n"
     ]
    }
   ],
   "source": [
    "# how to see the shape of the datatype\n",
    "print(array_full.shape)"
   ]
  },
  {
   "cell_type": "markdown",
   "id": "c32721e2-60cb-4589-9c76-25dfec924ab7",
   "metadata": {},
   "source": [
    "<br>"
   ]
  },
  {
   "cell_type": "markdown",
   "id": "62c752f1-1d34-4a84-906c-2c27f178dfd0",
   "metadata": {},
   "source": [
    "### 4. np.arange() "
   ]
  },
  {
   "cell_type": "code",
   "execution_count": 17,
   "id": "ef68647d-5aca-4c2d-bac0-6d6bf566052b",
   "metadata": {},
   "outputs": [
    {
     "name": "stdout",
     "output_type": "stream",
     "text": [
      "[ 0  1  2  3  4  5  6  7  8  9 10 11 12 13 14 15 16 17 18 19]\n",
      "\n",
      "Dimension\n",
      "1\n"
     ]
    }
   ],
   "source": [
    "mydata = np.arange(0,20)\n",
    "print(mydata)\n",
    "print(\"\\nDimension\")\n",
    "print(mydata.ndim)"
   ]
  },
  {
   "cell_type": "markdown",
   "id": "83148574-8248-4ea6-9ad5-ec9229a31eb9",
   "metadata": {},
   "source": [
    "<br>"
   ]
  },
  {
   "cell_type": "markdown",
   "id": "f38a7025-855b-44c8-8c20-7eb583af5461",
   "metadata": {},
   "source": [
    "### 5. np.reshape(array_like, newshape, order)"
   ]
  },
  {
   "cell_type": "code",
   "execution_count": 18,
   "id": "ad401ede-c6d1-4aa9-86f9-36c1729d6104",
   "metadata": {},
   "outputs": [
    {
     "name": "stdout",
     "output_type": "stream",
     "text": [
      "[[ 0  1  2  3  4]\n",
      " [ 5  6  7  8  9]\n",
      " [10 11 12 13 14]\n",
      " [15 16 17 18 19]]\n",
      "\n",
      "Dimension\n",
      "2\n",
      "\n",
      "Datatype\n",
      "int32\n"
     ]
    }
   ],
   "source": [
    "mydata_reshaped = np.reshape(mydata, (4,5), order='C')\n",
    "print(mydata_reshaped)\n",
    "print(\"\\nDimension\")\n",
    "print(mydata_reshaped.ndim)\n",
    "\n",
    "print(\"\\nDatatype\")\n",
    "print(mydata_reshaped.dtype)"
   ]
  },
  {
   "cell_type": "markdown",
   "id": "f3971824-7acc-4e36-b3ee-e515a6c0af09",
   "metadata": {},
   "source": [
    "<br>"
   ]
  },
  {
   "cell_type": "markdown",
   "id": "39c1c6c2-2b9c-4a64-8c7c-0c2fb46058d8",
   "metadata": {},
   "source": [
    "### 6. np.linspace(start=array_like, stop=array_like, num=.., endpoint=True, retstep=False, dtype=None, axis=0)"
   ]
  },
  {
   "cell_type": "code",
   "execution_count": 19,
   "id": "b5fbfb62-a8f0-43f8-8ffa-65c347f21afb",
   "metadata": {},
   "outputs": [
    {
     "name": "stdout",
     "output_type": "stream",
     "text": [
      "[0. 2. 4. 6. 8.]\n"
     ]
    }
   ],
   "source": [
    "array_linspace = np.linspace(start=0, stop=10, num=5, endpoint=False)\n",
    "print(array_linspace)  "
   ]
  },
  {
   "cell_type": "markdown",
   "id": "e703a85a-632f-4743-ad81-463000b6310c",
   "metadata": {},
   "source": [
    "Here, `endpoint=False` represents that we should not take last number that is 10 we take only upto 9\n",
    "\n",
    "Now lets take `start = array_like` and `end = array_like` and see how `axis` works in `np.linspace`"
   ]
  },
  {
   "cell_type": "code",
   "execution_count": 20,
   "id": "0649f872-4656-42eb-ae0a-b46608cf4f8b",
   "metadata": {},
   "outputs": [
    {
     "name": "stdout",
     "output_type": "stream",
     "text": [
      "[[ 2.         10.        ]\n",
      " [ 3.         13.33333333]\n",
      " [ 4.         16.66666667]\n",
      " [ 5.         20.        ]]\n"
     ]
    }
   ],
   "source": [
    "array_linspace2 = np.linspace(start=(2, 10), stop=(5, 20), num=4, axis=0)\n",
    "print(array_linspace2)"
   ]
  },
  {
   "cell_type": "markdown",
   "id": "0ce60c2a-586c-41dd-bc6c-0508f944186d",
   "metadata": {},
   "source": [
    "If we change `axis =1` it will change in row wise."
   ]
  },
  {
   "cell_type": "markdown",
   "id": "52e32779-e668-4b77-b29c-5c2c23cc8f26",
   "metadata": {},
   "source": [
    "<br>"
   ]
  },
  {
   "cell_type": "markdown",
   "id": "2d2af22d-4ccc-4ad8-835d-2b467b07da10",
   "metadata": {},
   "source": [
    "### 7. np.diag(v=array_like, k=0)"
   ]
  },
  {
   "cell_type": "code",
   "execution_count": 21,
   "id": "b21692ad-1359-4673-8c58-099521c82b7f",
   "metadata": {},
   "outputs": [
    {
     "name": "stdout",
     "output_type": "stream",
     "text": [
      "[[4 0 0 0]\n",
      " [0 5 0 0]\n",
      " [0 0 6 0]\n",
      " [0 0 0 7]]\n",
      "\n",
      "Datatype\n",
      "int32\n"
     ]
    }
   ],
   "source": [
    "diag_array1 = np.diag(v=[4, 5, 6, 7], k=0)\n",
    "print(diag_array1)\n",
    "print(\"\\nDatatype\")\n",
    "print(diag_array1.dtype)\n"
   ]
  },
  {
   "cell_type": "code",
   "execution_count": 22,
   "id": "b4f0a944-ad97-48c2-9beb-323044070593",
   "metadata": {},
   "outputs": [
    {
     "name": "stdout",
     "output_type": "stream",
     "text": [
      "[[0 4 0 0 0]\n",
      " [0 0 5 0 0]\n",
      " [0 0 0 6 0]\n",
      " [0 0 0 0 7]\n",
      " [0 0 0 0 0]]\n"
     ]
    }
   ],
   "source": [
    "diag_array2 = np.diag([4, 5, 6, 7], k=1)\n",
    "print(diag_array2)"
   ]
  },
  {
   "cell_type": "markdown",
   "id": "df8a3c5a-11fd-41d6-baab-f1ee0078ceb6",
   "metadata": {},
   "source": [
    "<br>"
   ]
  },
  {
   "cell_type": "markdown",
   "id": "88125c59-c7ce-40d9-baac-353a6e7ce45f",
   "metadata": {},
   "source": [
    "### 8. np.eye(N, M=None, k=0, dtype=<class 'float'> order='C', *, like=None)"
   ]
  },
  {
   "cell_type": "code",
   "execution_count": 23,
   "id": "f582357a-23cc-41c8-92e1-68b618b0f5c7",
   "metadata": {},
   "outputs": [
    {
     "name": "stdout",
     "output_type": "stream",
     "text": [
      "[[0. 1. 0. 0. 0.]\n",
      " [0. 0. 1. 0. 0.]\n",
      " [0. 0. 0. 1. 0.]\n",
      " [0. 0. 0. 0. 1.]\n",
      " [0. 0. 0. 0. 0.]]\n"
     ]
    }
   ],
   "source": [
    "array_eye = np.eye(N=5, M=5, k=1)\n",
    "print(array_eye)"
   ]
  },
  {
   "cell_type": "markdown",
   "id": "841b9f15-5319-4034-b2ce-250b5fc1fde0",
   "metadata": {},
   "source": [
    "<br>"
   ]
  },
  {
   "cell_type": "markdown",
   "id": "3ae4c764-b629-49c8-9c53-a8c6faba8a30",
   "metadata": {},
   "source": [
    "### 9. np.identity(n, dtype=None, *, like=None)"
   ]
  },
  {
   "cell_type": "code",
   "execution_count": 24,
   "id": "7c552271-a5ae-45af-bbbb-39caa4ea7a6d",
   "metadata": {},
   "outputs": [
    {
     "name": "stdout",
     "output_type": "stream",
     "text": [
      "[[1. 0. 0. 0. 0.]\n",
      " [0. 1. 0. 0. 0.]\n",
      " [0. 0. 1. 0. 0.]\n",
      " [0. 0. 0. 1. 0.]\n",
      " [0. 0. 0. 0. 1.]]\n"
     ]
    }
   ],
   "source": [
    "# diagonal matrix with 1 > identity matrix\n",
    "# less used in industry\n",
    "array_identity = np.identity(5)\n",
    "print(array_identity)"
   ]
  },
  {
   "cell_type": "markdown",
   "id": "8cc4070d-a50a-4cb4-9f72-55e3507f2cf9",
   "metadata": {},
   "source": [
    "<br>"
   ]
  },
  {
   "cell_type": "markdown",
   "id": "1fbf2804-271b-4551-8092-4af230b91e89",
   "metadata": {},
   "source": [
    "### 10. np.random()"
   ]
  },
  {
   "cell_type": "code",
   "execution_count": 25,
   "id": "9d03416b-b59b-4e6b-82a0-45ee1f3bda0f",
   "metadata": {},
   "outputs": [
    {
     "name": "stdout",
     "output_type": "stream",
     "text": [
      "[[0.1200904  0.06876135 0.03266058]\n",
      " [0.53781739 0.28731287 0.93937041]]\n",
      "\n",
      "dimension\n",
      "2D\n"
     ]
    }
   ],
   "source": [
    "# Here we see 2 dimensions datatype\n",
    "array_random_rand = np.random.rand(2, 3)\n",
    "print(array_random_rand)\n",
    "print(\"\\ndimension\")\n",
    "print(f\"{array_random_rand.ndim}D\")"
   ]
  },
  {
   "cell_type": "code",
   "execution_count": 26,
   "id": "dcf26c63-f122-4f80-b95b-8a21886d45c9",
   "metadata": {},
   "outputs": [
    {
     "name": "stdout",
     "output_type": "stream",
     "text": [
      "[[[0.4308519  0.10245161 0.33457829 0.10772768 0.39392976]\n",
      "  [0.66927756 0.37658523 0.66108183 0.53148867 0.08662397]\n",
      "  [0.08592426 0.26406283 0.43763778 0.93586355 0.74005117]]\n",
      "\n",
      " [[0.27684139 0.27922388 0.94270599 0.07650751 0.90062022]\n",
      "  [0.18887993 0.10047528 0.17657112 0.52656722 0.20950693]\n",
      "  [0.36352952 0.39449677 0.24562009 0.83773061 0.26234377]]]\n",
      "\n",
      "dimension\n",
      "3D\n"
     ]
    }
   ],
   "source": [
    "#np.random.rand\n",
    "# here we see 3 dimensional datasets.\n",
    "array_rand = np.random.rand(2, 3, 5)\n",
    "print(array_rand)\n",
    "print(\"\\ndimension\")\n",
    "print(f\"{array_rand.ndim}D\")"
   ]
  },
  {
   "cell_type": "markdown",
   "id": "a7e56407-0ac0-4a70-9f5b-078dcc0e0ecc",
   "metadata": {},
   "source": [
    "In this example we see `three dimensions (3D)` model of data which means there are `5 elements` in `2 rows` of `3 different rows`."
   ]
  },
  {
   "cell_type": "code",
   "execution_count": 27,
   "id": "ffb3fc29-e41c-4753-8349-4ca1a098ee99",
   "metadata": {},
   "outputs": [
    {
     "name": "stdout",
     "output_type": "stream",
     "text": [
      "[[[22 27 22 16 17]\n",
      "  [21 16 18 42 14]\n",
      "  [42 33 39 27 17]]\n",
      "\n",
      " [[30 20 25 44 14]\n",
      "  [12 37 47 21 31]\n",
      "  [46 47 21 18 48]]]\n",
      "\n",
      "dimension\n",
      "3D\n",
      "\n",
      "shape\n",
      "(2, 3, 5)\n"
     ]
    }
   ],
   "source": [
    "# np.random.randint\n",
    "array_randint = np.random.randint(low=10, high=50, size=(2, 3, 5))\n",
    "print(array_randint)\n",
    "print(\"\\ndimension\")\n",
    "print(f\"{array_randint.ndim}D\")\n",
    "print(\"\\nshape\")\n",
    "print(array_randint.shape)"
   ]
  },
  {
   "cell_type": "code",
   "execution_count": null,
   "id": "88e46e93-0864-4cd2-92c4-488bd31cb97e",
   "metadata": {},
   "outputs": [],
   "source": []
  },
  {
   "cell_type": "code",
   "execution_count": null,
   "id": "e92a3d71-21fd-4e6a-8062-86353d12fb3c",
   "metadata": {},
   "outputs": [],
   "source": []
  }
 ],
 "metadata": {
  "kernelspec": {
   "display_name": "Python 3 (ipykernel)",
   "language": "python",
   "name": "python3"
  },
  "language_info": {
   "codemirror_mode": {
    "name": "ipython",
    "version": 3
   },
   "file_extension": ".py",
   "mimetype": "text/x-python",
   "name": "python",
   "nbconvert_exporter": "python",
   "pygments_lexer": "ipython3",
   "version": "3.12.2"
  }
 },
 "nbformat": 4,
 "nbformat_minor": 5
}
