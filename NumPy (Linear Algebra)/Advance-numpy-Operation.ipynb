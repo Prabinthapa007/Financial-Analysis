{
 "cells": [
  {
   "cell_type": "code",
   "execution_count": 33,
   "id": "b71bf6f8-4885-4bbb-ac0a-c04e92fe18eb",
   "metadata": {},
   "outputs": [],
   "source": [
    "import numpy as np\n"
   ]
  },
  {
   "cell_type": "markdown",
   "id": "f36c75e8-a1f3-42cf-aa17-2db39f610f1f",
   "metadata": {},
   "source": [
    "# Advance NumPy Operations:"
   ]
  },
  {
   "cell_type": "markdown",
   "id": "11a09c31-0fdd-4ff3-83b1-5b083cad35cc",
   "metadata": {
    "jp-MarkdownHeadingCollapsed": true
   },
   "source": [
    "## Numpy Broadcasting:"
   ]
  },
  {
   "cell_type": "markdown",
   "id": "a2290e00-048b-4ed2-b6fa-b0c26452c204",
   "metadata": {},
   "source": [
    "In `NumPy`, we can perform mathematical operations an arrays of different shapes. An array with a smaller shape is expanded to match the shape of a larger one. This is called broadcasting.\n",
    "\n",
    "Let's see example:"
   ]
  },
  {
   "cell_type": "code",
   "execution_count": 13,
   "id": "d1c12d8a-e407-40e8-890b-c6df1b6b30d5",
   "metadata": {},
   "outputs": [
    {
     "name": "stdout",
     "output_type": "stream",
     "text": [
      "\n",
      "Array 1\n",
      "[1 2 3]\n",
      "\n",
      "Array 2\n",
      "[[1]\n",
      " [2]\n",
      " [3]]\n",
      "--------------------\n",
      "[[2 3 4]\n",
      " [3 4 5]\n",
      " [4 5 6]]\n"
     ]
    }
   ],
   "source": [
    "array1 = np.array([1,2,3]) # Create 1D array\n",
    "array2 = np.array([[1], [2], [3]]) # Create 2D array\n",
    "print(\"\\nArray 1\")\n",
    "print(array1)\n",
    "print(\"\\nArray 2\")\n",
    "print(array2)\n",
    "print(\"-\" * 20)\n",
    "result = array1 + array2 # size of array1 expands to match with array2\n",
    "print(result)"
   ]
  },
  {
   "cell_type": "markdown",
   "id": "e322ddab-8106-433c-8134-2272f53cddc8",
   "metadata": {},
   "source": [
    "<br>"
   ]
  },
  {
   "cell_type": "markdown",
   "id": "135f23cc-518f-47fe-849e-af651c443e11",
   "metadata": {},
   "source": [
    "### Compatibility Rules for Broadcasting\n",
    "- Broadcasting only works with compatible arrays. NumPy compares a set of array dimensions from right to left.\n",
    "- Every set of dimensions must be compatible with the arrays to be broadcastable. A set of demensions lengths is compatible when\n",
    "  1. one of them has a length of 1 or\n",
    "  2. they are equal"
   ]
  },
  {
   "cell_type": "code",
   "execution_count": 14,
   "id": "fcccfe76-e6b9-4737-9885-6d2102e07702",
   "metadata": {},
   "outputs": [
    {
     "name": "stdout",
     "output_type": "stream",
     "text": [
      "\n",
      " Array1 Shape\n",
      "(3,)\n",
      "\n",
      " Array2 Shape\n",
      "(3, 1)\n"
     ]
    }
   ],
   "source": [
    "# Example:\n",
    "print(\"\\n Array1 Shape\")\n",
    "print(array1.shape)\n",
    "print(\"\\n Array2 Shape\")\n",
    "print(array2.shape)"
   ]
  },
  {
   "cell_type": "markdown",
   "id": "3ccc22d0-53ca-408f-bbf4-002c8e6f132d",
   "metadata": {},
   "source": [
    "- Here `array1` and `array2` are arrays with different shape `(3, )` and `(3,1)` respectively.\n",
    "- The dimension length 0 and 1 are compatible because one of them is 1.\n",
    "- Similarly **3** and **3** are compatible since they are the same.\n",
    "- As both sets of dimensions are compatible, the arrays are broadcastable."
   ]
  },
  {
   "cell_type": "code",
   "execution_count": 19,
   "id": "dfa1516d-b9bd-4a20-bfaa-efff79461c69",
   "metadata": {},
   "outputs": [
    {
     "ename": "ValueError",
     "evalue": "operands could not be broadcast together with shapes (3,1) (4,2) ",
     "output_type": "error",
     "traceback": [
      "\u001b[1;31m---------------------------------------------------------------------------\u001b[0m",
      "\u001b[1;31mValueError\u001b[0m                                Traceback (most recent call last)",
      "Cell \u001b[1;32mIn[19], line 3\u001b[0m\n\u001b[0;32m      1\u001b[0m array1 \u001b[38;5;241m=\u001b[39m np\u001b[38;5;241m.\u001b[39mrandom\u001b[38;5;241m.\u001b[39mrand(\u001b[38;5;241m3\u001b[39m, \u001b[38;5;241m1\u001b[39m)\n\u001b[0;32m      2\u001b[0m array2 \u001b[38;5;241m=\u001b[39m np\u001b[38;5;241m.\u001b[39mrandom\u001b[38;5;241m.\u001b[39mrand(\u001b[38;5;241m4\u001b[39m,\u001b[38;5;241m2\u001b[39m)\n\u001b[1;32m----> 3\u001b[0m result \u001b[38;5;241m=\u001b[39m \u001b[43marray1\u001b[49m\u001b[43m \u001b[49m\u001b[38;5;241;43m+\u001b[39;49m\u001b[43m \u001b[49m\u001b[43marray2\u001b[49m\n\u001b[0;32m      4\u001b[0m \u001b[38;5;28mprint\u001b[39m(result)\n",
      "\u001b[1;31mValueError\u001b[0m: operands could not be broadcast together with shapes (3,1) (4,2) "
     ]
    }
   ],
   "source": [
    "array1 = np.random.rand(3, 1)\n",
    "array2 = np.random.rand(4,2)\n",
    "result = array1 + array2\n",
    "print(result)"
   ]
  },
  {
   "cell_type": "markdown",
   "id": "f7002c1b-0c91-4bf4-9c22-4638b8b300e1",
   "metadata": {},
   "source": [
    "In this example `array1` and `array2` are arrays with different shapes `(3,1)` and `(4,2)` respectively. The length `1` and `2` are compatible because one of them is `1`. But it cannot be broadcastable because they are not same i.e., `3` and `4` and are not compatible."
   ]
  },
  {
   "cell_type": "code",
   "execution_count": 22,
   "id": "1f9e08ed-ab82-4c7b-875d-4cb698fd3920",
   "metadata": {},
   "outputs": [
    {
     "name": "stdout",
     "output_type": "stream",
     "text": [
      "[[1.25910876 1.20019668]\n",
      " [1.50650565 0.8992265 ]\n",
      " [0.51413895 1.1908823 ]]\n"
     ]
    }
   ],
   "source": [
    "# Lets make this compatible and broadcastable.\n",
    "array1 = np.random.rand(3, 1)\n",
    "array2 = np.random.rand(3,2)\n",
    "result = array1 + array2\n",
    "print(result)"
   ]
  },
  {
   "cell_type": "markdown",
   "id": "133ee4d0-d136-42c5-8e2a-8e8a805240e5",
   "metadata": {},
   "source": [
    "<br>"
   ]
  },
  {
   "cell_type": "markdown",
   "id": "56395fe0-a886-4f56-b05b-6efb0cd916a5",
   "metadata": {},
   "source": [
    "### Broadcasting with Scalars\n",
    "We can also perform mathematical operations between arrays and scalars(single values). For exanple,"
   ]
  },
  {
   "cell_type": "code",
   "execution_count": 24,
   "id": "d6e38889-5480-410f-9f8c-74d167c877d4",
   "metadata": {},
   "outputs": [
    {
     "name": "stdout",
     "output_type": "stream",
     "text": [
      "[6 7 8]\n"
     ]
    }
   ],
   "source": [
    "# 1-D array\n",
    "array1 = np.array([1,2,3])\n",
    "\n",
    "# scalar\n",
    "num = 5\n",
    "\n",
    "#add scalar and 1-D array\n",
    "sum = array1 + num\n",
    "print(sum)"
   ]
  },
  {
   "cell_type": "code",
   "execution_count": 32,
   "id": "0e3b2973-56cb-4cea-b057-9ba0080f8c91",
   "metadata": {},
   "outputs": [
    {
     "name": "stdout",
     "output_type": "stream",
     "text": [
      "[[[[5.40654386 5.67389736]\n",
      "   [5.73329824 5.90889493]]\n",
      "\n",
      "  [[5.8866882  5.08682771]\n",
      "   [5.27944093 5.68810201]]]\n",
      "\n",
      "\n",
      " [[[5.89764341 5.80855757]\n",
      "   [5.89635246 5.06524823]]\n",
      "\n",
      "  [[5.20011623 5.39944054]\n",
      "   [5.1685635  5.01525665]]]]\n"
     ]
    }
   ],
   "source": [
    "array1 =np.random.rand(2,2,2,2)\n",
    "num = 5\n",
    "print(array1 + num)"
   ]
  },
  {
   "cell_type": "markdown",
   "id": "d04016f2-01c7-4987-978f-2595fd0d3047",
   "metadata": {},
   "source": [
    "<br><br>"
   ]
  },
  {
   "cell_type": "markdown",
   "id": "55aa291d-1a07-49e8-8178-8bbd8166027b",
   "metadata": {
    "jp-MarkdownHeadingCollapsed": true
   },
   "source": [
    "## NumPy Boolean Indexing:\n",
    "\n",
    "- In NumPy, boolean indexing allows us to filter elements from an array based on a specific condition.\n",
    "- We use boolean masks to specify the condition."
   ]
  },
  {
   "cell_type": "markdown",
   "id": "a7b158d1-3da0-4d39-b105-50dec9fd839b",
   "metadata": {},
   "source": [
    "#### What is Boolean Masks in NumPy?\n",
    "Boolean mask in a numpy array containing truth values(True/False) that correspond to each element in the array."
   ]
  },
  {
   "cell_type": "markdown",
   "id": "b195b388-6621-4429-9937-44bac8829953",
   "metadata": {},
   "source": [
    "#### 1D"
   ]
  },
  {
   "cell_type": "code",
   "execution_count": 34,
   "id": "512bfe12-9ec5-49e4-8d18-dab2074d39e8",
   "metadata": {},
   "outputs": [
    {
     "name": "stdout",
     "output_type": "stream",
     "text": [
      "[False False False False False  True  True  True  True]\n"
     ]
    }
   ],
   "source": [
    "arr1 = np.array([1, 2, 3, 4, 5, 7, 8, 9, 7])\n",
    "mask = arr1>5\n",
    "print(mask)\n"
   ]
  },
  {
   "cell_type": "code",
   "execution_count": 35,
   "id": "a0bf54c8-a925-4261-ac5d-feaf90fa80dc",
   "metadata": {},
   "outputs": [
    {
     "name": "stdout",
     "output_type": "stream",
     "text": [
      "[7 8 9 7]\n"
     ]
    }
   ],
   "source": [
    "# Lets find out number more than 5.\n",
    "print(arr1[mask])\n"
   ]
  },
  {
   "cell_type": "code",
   "execution_count": 36,
   "id": "4b31d1e4-412c-4b54-b892-2540dbd2c10e",
   "metadata": {},
   "outputs": [
    {
     "name": "stdout",
     "output_type": "stream",
     "text": [
      "[ 1  3  5  7  8 51 52 47]\n"
     ]
    }
   ],
   "source": [
    "# Create an array of integers\n",
    "array1 = np.array([1, 3, 5, 7, 8, 16, 22, 24, 25, 26, 28, 51, 52, 47])\n",
    "\n",
    "# Create a boolean mask using combined logical operators\n",
    "boolean_mask = (array1 < 10) | (array1 > 40)\n",
    "\n",
    "# Apply the boolean mask to the array\n",
    "result = array1[boolean_mask]\n",
    "print(result)"
   ]
  },
  {
   "cell_type": "markdown",
   "id": "cf52c6b0-64f6-44d4-a59d-a381ee595d9b",
   "metadata": {},
   "source": [
    "#### Modify Elements Using Boolean Indexing.\n",
    "In numpy, we can use boolean indexing to modify elements of the array. For example:"
   ]
  },
  {
   "cell_type": "code",
   "execution_count": 37,
   "id": "3c199169-2d83-4a4d-9ce6-f9f141d5b808",
   "metadata": {},
   "outputs": [
    {
     "name": "stdout",
     "output_type": "stream",
     "text": [
      "[1 3 5 0 7 0 9 0]\n"
     ]
    }
   ],
   "source": [
    "import numpy as np\n",
    "\n",
    "# Create an array of numbers\n",
    "numbers = np.array([1, 3, 5, 10, 7, 8, 9, 6])\n",
    "\n",
    "# make a copy of the array\n",
    "number_copy = numbers.copy()\n",
    "\n",
    "# Change all even numbers to O in the copy\n",
    "number_copy[numbers % 2==0] = 0\n",
    "\n",
    "# Print the modified copy\n",
    "print(number_copy)"
   ]
  },
  {
   "cell_type": "code",
   "execution_count": null,
   "id": "1d40f1f8-e224-4d07-91da-9c959af20d03",
   "metadata": {},
   "outputs": [],
   "source": []
  },
  {
   "cell_type": "markdown",
   "id": "9b179167-aa8a-4c27-aa4d-45956ed2f762",
   "metadata": {},
   "source": [
    "<br>"
   ]
  },
  {
   "cell_type": "markdown",
   "id": "64bcccc0-c46d-4281-bb27-4b459590def7",
   "metadata": {},
   "source": [
    "#### 2D"
   ]
  },
  {
   "cell_type": "code",
   "execution_count": 40,
   "id": "51358100-c997-42e0-a6a4-89f0dc91b9b4",
   "metadata": {},
   "outputs": [
    {
     "name": "stdout",
     "output_type": "stream",
     "text": [
      "[[1 4]\n",
      " [2 4]\n",
      " [5 6]\n",
      " [7 8]]\n"
     ]
    }
   ],
   "source": [
    "arr2 = np.array([[1,4], [2, 4], [5, 6], [7, 8]])\n",
    "print(arr2)"
   ]
  },
  {
   "cell_type": "code",
   "execution_count": 42,
   "id": "09d38485-ed17-4d5f-8fe8-25f77a5e10ff",
   "metadata": {},
   "outputs": [
    {
     "name": "stdout",
     "output_type": "stream",
     "text": [
      "[[False  True]\n",
      " [ True  True]\n",
      " [False  True]\n",
      " [False  True]]\n",
      "\n",
      "Elemensts out of arr2 when mask is True\n",
      "[4 2 4 6 8]\n"
     ]
    }
   ],
   "source": [
    "mask = arr2 % 2== 0\n",
    "print(mask)\n",
    "print(\"\\nElemensts out of arr2 when mask is True\")\n",
    "print(arr2[mask])"
   ]
  },
  {
   "cell_type": "code",
   "execution_count": 12,
   "id": "6ac6d3f1-49ac-401a-9d46-8f4520417676",
   "metadata": {},
   "outputs": [
    {
     "name": "stdout",
     "output_type": "stream",
     "text": [
      "4\n",
      "2\n",
      "4\n",
      "6\n",
      "8\n"
     ]
    }
   ],
   "source": [
    "# Print the elements of arr2 when mask is True\n",
    "for i in range(mask.shape[0]):\n",
    "    for j in range(mask.shape[1]):\n",
    "        if mask[i, j]:\n",
    "            print(arr2[i, j])"
   ]
  },
  {
   "cell_type": "code",
   "execution_count": 38,
   "id": "7c4e0605-49a6-455e-88e5-fd057d31257a",
   "metadata": {},
   "outputs": [
    {
     "name": "stdout",
     "output_type": "stream",
     "text": [
      "[ 9  9 10 12 14 19]\n"
     ]
    }
   ],
   "source": [
    "# Create a 2D array\n",
    "array1 = np.array([[1, 7, 9],\n",
    "                   [8, 9, 10],\n",
    "                   [12, 14, 19]])\n",
    "\n",
    "# Create a boolean mask based on the condition that elements are greater than 8\n",
    "boolean_mask = array1>8\n",
    "\n",
    "# Select only the elements that satisfy the condition:\n",
    "print(array1[boolean_mask])"
   ]
  },
  {
   "cell_type": "markdown",
   "id": "e047805c-f653-48b2-84af-6d48bf22156c",
   "metadata": {},
   "source": [
    "<br><br>"
   ]
  },
  {
   "cell_type": "markdown",
   "id": "2ebe989d-56e4-4f13-8959-cba069196dd7",
   "metadata": {
    "jp-MarkdownHeadingCollapsed": true
   },
   "source": [
    "## NumPy Set Operations"
   ]
  },
  {
   "cell_type": "markdown",
   "id": "92c34da6-f764-41c7-9f38-33bf799157cf",
   "metadata": {},
   "source": [
    "### Set Union Operation in NumPy\n",
    "In NumPy, we use the `np.union1d()` function to perform the set union operation in an array.Example:"
   ]
  },
  {
   "cell_type": "code",
   "execution_count": 43,
   "id": "27d3fdbb-dec9-4b86-9df4-3abec3bd51f4",
   "metadata": {},
   "outputs": [
    {
     "name": "stdout",
     "output_type": "stream",
     "text": [
      "[0 1 2 3 4]\n"
     ]
    }
   ],
   "source": [
    "a = np.array([1,2,3])\n",
    "b = np.array([0,3,4])\n",
    "\n",
    "#unions of two arrays\n",
    "result = np.union1d(a , b)\n",
    "print(result)"
   ]
  },
  {
   "cell_type": "markdown",
   "id": "19e91581-c31b-4407-bb12-fc5457cee5ef",
   "metadata": {},
   "source": [
    "Note: `np.union1d(a , b)` is equivalent to `A U B` set operation."
   ]
  },
  {
   "cell_type": "markdown",
   "id": "81fe4fd6-29f5-47c0-8f6e-b171d7b5f835",
   "metadata": {},
   "source": [
    "<br>"
   ]
  },
  {
   "cell_type": "markdown",
   "id": "87a6093c-95a2-44fd-a7e7-6100ffd08368",
   "metadata": {},
   "source": [
    "### Set Intersection Operation in NumPy\n",
    "We use the `np.intersect1d()` function to perform the set intersection operation in an array. For example,"
   ]
  },
  {
   "cell_type": "code",
   "execution_count": 45,
   "id": "f056836d-0fcf-4240-aae4-c169051c5205",
   "metadata": {},
   "outputs": [
    {
     "name": "stdout",
     "output_type": "stream",
     "text": [
      "[3]\n"
     ]
    }
   ],
   "source": [
    "a = np.array([1,2,3])\n",
    "b = np.array([0,3,4])\n",
    "\n",
    "# Intersection of two arrays\n",
    "result = np.intersect1d(a, b)\n",
    "print(result)"
   ]
  },
  {
   "cell_type": "markdown",
   "id": "4be78885-af54-498a-8ee4-9240d7189a14",
   "metadata": {},
   "source": [
    "Note: `np.intersect1d(A,B)` is equivalent to `A ⋂ B` set operation."
   ]
  },
  {
   "cell_type": "markdown",
   "id": "a3f6fc02-98f0-47e1-b8f2-4c4ad6f546c2",
   "metadata": {},
   "source": [
    "<br>"
   ]
  },
  {
   "cell_type": "markdown",
   "id": "4d7ca744-f85e-4d5f-bdad-5d95eb2ceca8",
   "metadata": {},
   "source": [
    "### Set Difference Operation in NumPy\n",
    "We use the `np.setdiff1d()` function to perform the difference between two arrays. For example,"
   ]
  },
  {
   "cell_type": "code",
   "execution_count": 46,
   "id": "96b2dde9-19df-400b-9915-db21dc6943a8",
   "metadata": {},
   "outputs": [
    {
     "name": "stdout",
     "output_type": "stream",
     "text": [
      "[1 2]\n"
     ]
    }
   ],
   "source": [
    "a = np.array([1,2,3])\n",
    "b = np.array([0,3,4])\n",
    "\n",
    "# Difference of two arrays\n",
    "result = np.setdiff1d(a, b)\n",
    "print(result)"
   ]
  },
  {
   "cell_type": "markdown",
   "id": "d97f0959-79d8-402a-a035-616ecf0addb3",
   "metadata": {},
   "source": [
    "Note: `np.setdiff1d(A,B)` is equivalent to `A - B` set operation."
   ]
  },
  {
   "cell_type": "code",
   "execution_count": 50,
   "id": "95e8b516-6d03-425a-85bf-aec172fcea91",
   "metadata": {},
   "outputs": [
    {
     "name": "stdout",
     "output_type": "stream",
     "text": [
      "[1 2 3 4 5 6 7 8]\n",
      "[1 3 4]\n"
     ]
    }
   ],
   "source": [
    "A = np.array([[1,2,3],\n",
    "              [2,4, 5]])\n",
    "B = np.array([[2,5,6],\n",
    "              [5,7, 8]])\n",
    "print(np.union1d(A, B))\n",
    "print(np.setdiff1d(A,B))"
   ]
  },
  {
   "cell_type": "markdown",
   "id": "c05d7025-4a07-46fa-a80f-0b5df022aa3d",
   "metadata": {},
   "source": [
    "<BR>"
   ]
  },
  {
   "cell_type": "markdown",
   "id": "8dd3b57e-6c03-4ad0-a58b-7990b337edef",
   "metadata": {},
   "source": [
    "### Set Symmetric Difference Operation in NumPy\n",
    "- The symmetric difference between two sets A and B includes all elements of A and B without the common elements.\n",
    "- In NumPy, we use the `np.setxor1d()` function to perform symmetric differences between two arrays. For example,"
   ]
  },
  {
   "cell_type": "code",
   "execution_count": 51,
   "id": "b4645887-12e0-4826-89b1-78c2a867ab0c",
   "metadata": {},
   "outputs": [
    {
     "name": "stdout",
     "output_type": "stream",
     "text": [
      "[0 1 2 4]\n"
     ]
    }
   ],
   "source": [
    "a = np.array([1,2,3])\n",
    "b = np.array([0,3,4])\n",
    "\n",
    "# symmetric difference of two arrays\n",
    "result = np.setxor1d(a, b)\n",
    "print(result)"
   ]
  },
  {
   "cell_type": "markdown",
   "id": "74bcceb4-b03b-44e5-a458-8d2618b950e5",
   "metadata": {},
   "source": [
    "<br>"
   ]
  },
  {
   "cell_type": "markdown",
   "id": "6c9f8244-b231-4016-8cf7-a2a8bd425d22",
   "metadata": {},
   "source": [
    "### Unique Values From a NumPy Array:\n",
    "To select the unique elements from a NumPy array, we use the `np.unique()` function. "
   ]
  },
  {
   "cell_type": "code",
   "execution_count": 53,
   "id": "82c55c6c-165a-41c7-959f-a89b337d1e14",
   "metadata": {},
   "outputs": [
    {
     "name": "stdout",
     "output_type": "stream",
     "text": [
      "[ 2  3  4  5  7  8  9 10 11 12 13]\n"
     ]
    }
   ],
   "source": [
    "array1 = np.array([2, 3, 3, 4, 4, 5, 5, 7, 7, 8, 8, 9, 9, 10, 11, 12, 12, 13])\n",
    "# Unique values from array1\n",
    "result = np.unique(array1)\n",
    "print(result)"
   ]
  },
  {
   "cell_type": "markdown",
   "id": "0f6b2850-b486-4d07-862c-ffe05a21cc8d",
   "metadata": {},
   "source": [
    "<br><br>"
   ]
  },
  {
   "cell_type": "markdown",
   "id": "1ee06041-8dc0-4151-85ce-aac53b079f11",
   "metadata": {
    "jp-MarkdownHeadingCollapsed": true
   },
   "source": [
    "## NumPy Vectorization:\n",
    "NumPy vectorization involves performing mathematical operations on entire arrays, eliminating the need to loop through individual elements."
   ]
  },
  {
   "cell_type": "code",
   "execution_count": 55,
   "id": "4ee59233-b43c-49ee-8e8c-0baa697cff4d",
   "metadata": {},
   "outputs": [],
   "source": [
    "import numpy as np\n",
    "import time"
   ]
  },
  {
   "cell_type": "markdown",
   "id": "4e1f3971-9f4a-4305-be93-896a2a77258e",
   "metadata": {},
   "source": [
    "### Why NumPy Vectorization over Python's Loop?"
   ]
  },
  {
   "cell_type": "code",
   "execution_count": 59,
   "id": "e66e116e-800c-4899-bc20-a7d57d5f7ed3",
   "metadata": {},
   "outputs": [],
   "source": [
    "# Numpy element_wise operation\n",
    "a = np.random.rand(10000000)\n",
    "b = np.random.rand(10000000)\n",
    "start = time.time()\n",
    "c = a + b\n",
    "end = time.time()\n",
    "numpy_execution = end - start\n",
    "\n",
    "# Python's execution \n",
    "a = list(a)\n",
    "b = list(b)\n",
    "c = []\n",
    "start = time.time()\n",
    "for i in range(len(a)):\n",
    "    c.append(a[i] + b[i])\n",
    "\n",
    "end = time.time()\n",
    "python_execution = end - start"
   ]
  },
  {
   "cell_type": "code",
   "execution_count": 60,
   "id": "a775f537-4afe-4444-88a2-252e56284168",
   "metadata": {},
   "outputs": [
    {
     "name": "stdout",
     "output_type": "stream",
     "text": [
      "0.17186331748962402 is numpy execution which is faster than 2.8751819133758545.\n"
     ]
    }
   ],
   "source": [
    "print(f\"{numpy_execution} is numpy execution which is faster than {python_execution}.\")"
   ]
  },
  {
   "cell_type": "code",
   "execution_count": 61,
   "id": "4a9141f8-da90-4fd9-9305-c74f64250c5c",
   "metadata": {},
   "outputs": [
    {
     "name": "stdout",
     "output_type": "stream",
     "text": [
      "Numpy is 16.72946825054415 times faster.\n"
     ]
    }
   ],
   "source": [
    "print(f\"Numpy is {python_execution/numpy_execution} times faster.\")"
   ]
  },
  {
   "cell_type": "markdown",
   "id": "6621a3ea-a7d2-4d30-9d73-91b76c4102ee",
   "metadata": {},
   "source": [
    "<br>"
   ]
  },
  {
   "cell_type": "markdown",
   "id": "c9d14f30-82f5-49b2-81db-b3c1a1be7557",
   "metadata": {},
   "source": [
    "### NumPy Vectorize() Function\n",
    "In NumPy, every mathematical operation with arrays is automatically vectorized. So we don't always need to use the `vectorize()` function."
   ]
  },
  {
   "cell_type": "code",
   "execution_count": 63,
   "id": "2802075e-484e-4324-b5f3-720cfc99f267",
   "metadata": {},
   "outputs": [
    {
     "name": "stdout",
     "output_type": "stream",
     "text": [
      "[ 0  0  4  9 16]\n"
     ]
    }
   ],
   "source": [
    "\n",
    "\n",
    "# array whose square we need to find\n",
    "array1 = np.array([-1, 0, 2, 3, 4])\n",
    "\n",
    "# function to find the square\n",
    "def find_square(x):\n",
    "    if x < 0:\n",
    "        return 0\n",
    "    else:\n",
    "        return x ** 2\n",
    "        \n",
    "# vectorize() to vectorize the function find_square()\n",
    "vectorized_function = np.vectorize(find_square)\n",
    "\n",
    "# passing an array to a vectorized function\n",
    "result = vectorized_function(array1)\n",
    "\n",
    "print(result)"
   ]
  },
  {
   "cell_type": "markdown",
   "id": "0b54a7f2-e887-445b-8642-a368e4afba32",
   "metadata": {},
   "source": [
    "<br><br>"
   ]
  },
  {
   "cell_type": "markdown",
   "id": "a3e77646-d4ce-4dfd-afed-6cfd53108efa",
   "metadata": {},
   "source": [
    "## NumPy Data Visualization:"
   ]
  },
  {
   "cell_type": "markdown",
   "id": "6b8952d7-8c15-4415-9e5d-1fe0292dc280",
   "metadata": {},
   "source": [
    "### Line Plot for Data Visualization.\n",
    "In Numpy, line plot displays data as a series of points connected by a line. It has a `plot()` function to line plot the data, which takes two arguments; x and y coordinate."
   ]
  },
  {
   "cell_type": "code",
   "execution_count": 38,
   "id": "92fb788a-1d33-40d6-ad97-c36daa0321f3",
   "metadata": {},
   "outputs": [
    {
     "data": {
      "image/png": "[encoded data removed]",
      "text/plain": [
       "<Figure size 700x400 with 1 Axes>"
      ]
     },
     "metadata": {},
     "output_type": "display_data"
    }
   ],
   "source": [
    "import numpy as np\n",
    "import matplotlib.pyplot as plt\n",
    "import warnings\n",
    "warnings.filterwarnings('ignore')\n",
    "car = np.array([\"Caterham\", \"Tesla\", \"Audi\", \"BMW\", \"Ford\", \"Jeep\"])\n",
    "weight = np.array([0.48, 1.7, 2, 2, 2.3, 3])\n",
    "plt.rcParams['figure.figsize'] = (7, 4)\n",
    "plt.plot(car, weight)\n",
    "plt.xlabel(\"Name of Cars\")\n",
    "plt.ylabel(\"Weight of Cars\", text=\"Times New Roman\")\n",
    "plt.title(\"Line Plot of Data\")\n",
    "plt.show()\n",
    "\n"
   ]
  },
  {
   "cell_type": "markdown",
   "id": "41c46175-bd88-442f-ac07-0263750987fe",
   "metadata": {},
   "source": [
    "<br>"
   ]
  },
  {
   "cell_type": "markdown",
   "id": "3ed9df39-7318-4fd3-92d2-20a62c9aca34",
   "metadata": {},
   "source": [
    "### Scatter Plot for Data Visualization"
   ]
  },
  {
   "cell_type": "code",
   "execution_count": 39,
   "id": "dc374773-42da-436c-bbb7-010df203d2ca",
   "metadata": {},
   "outputs": [
    {
     "data": {
      "image/png": "[encoded data removed]",
      "text/plain": [
       "<Figure size 700x400 with 1 Axes>"
      ]
     },
     "metadata": {},
     "output_type": "display_data"
    }
   ],
   "source": [
    "car = np.array([\"Caterham\", \"Tesla\", \"Audi\", \"BMW\", \"Ford\", \"Jeep\"])\n",
    "weight = np.array([0.48, 1.7, 2, 2, 2.3, 3])\n",
    "plt.scatter(car, weight, c=\"Blue\", marker=\"D\")\n",
    "plt.title(\"Scatter Plot of data\")\n",
    "plt.xlabel(\"Names of car\", c=\"Black\")\n",
    "plt.ylabel(\"Weight of car\", )\n",
    "plt.show()"
   ]
  },
  {
   "cell_type": "markdown",
   "id": "d773ade5-ac92-40b3-b8d2-047e8cb6e44e",
   "metadata": {},
   "source": [
    "<br>"
   ]
  },
  {
   "cell_type": "markdown",
   "id": "41aa38bd-d668-4730-8649-a4b317db26ed",
   "metadata": {},
   "source": [
    "### Bar Graphs For Data Visualization\n",
    "Bar Graphs represent data using rectangular boxes. Numpy has a `bar()` function to plot data in a bar graph."
   ]
  },
  {
   "cell_type": "code",
   "execution_count": 40,
   "id": "846a786e-e731-4455-a97b-7f9400cfb5c1",
   "metadata": {},
   "outputs": [
    {
     "data": {
      "image/png": "[encoded data removed]",
      "text/plain": [
       "<Figure size 700x400 with 1 Axes>"
      ]
     },
     "metadata": {},
     "output_type": "display_data"
    }
   ],
   "source": [
    "car = np.array([\"Caterham\", \"Tesla\", \"Audi\", \"BMW\", \"Ford\", \"Jeep\"])\n",
    "weight = np.array([0.48, 1.7, 2, 2, 2.3, 3])\n",
    "plt.bar(car, weight)\n",
    "plt.title(\"Bar Graph of data\")\n",
    "plt.xlabel(\"Names of car\", c=\"Black\")\n",
    "plt.ylabel(\"Weight of Car\", )\n",
    "plt.show()"
   ]
  },
  {
   "cell_type": "markdown",
   "id": "41271a7d-6559-4b86-b850-8ade4b48528e",
   "metadata": {},
   "source": [
    "<br>"
   ]
  },
  {
   "cell_type": "markdown",
   "id": "21e16d1a-0867-4e0d-b2bf-0a54b108b639",
   "metadata": {},
   "source": [
    "### Histograms for Data Visualization"
   ]
  },
  {
   "cell_type": "code",
   "execution_count": 53,
   "id": "1cef78fd-f344-4e0f-ab32-6f335be08696",
   "metadata": {},
   "outputs": [
    {
     "data": {
      "image/png": "[encoded data removed]",
      "text/plain": [
       "<Figure size 700x400 with 1 Axes>"
      ]
     },
     "metadata": {},
     "output_type": "display_data"
    }
   ],
   "source": [
    "car = np.array([\"Caterham\", \"Tesla\", \"Audi\", \"BMW\", \"Ford\", \"Jeep\"])\n",
    "weight = np.array([0.48, 1.7, 2, 2, 2.3, 3])\n",
    "plt.hist(weight)\n",
    "plt.title(\"HistPlot\")\n",
    "\n",
    "plt.show()"
   ]
  },
  {
   "cell_type": "markdown",
   "id": "80d0f8d9-9b5c-4e03-88de-cdb925ee8ec5",
   "metadata": {},
   "source": [
    "<br>"
   ]
  },
  {
   "cell_type": "markdown",
   "id": "a281c222-a895-4d91-822b-5c0c55ceeecb",
   "metadata": {},
   "source": [
    "### Building Dashboard in Python"
   ]
  },
  {
   "cell_type": "code",
   "execution_count": 77,
   "id": "222f8385-34aa-428a-877b-10fd969bf9b3",
   "metadata": {},
   "outputs": [
    {
     "data": {
      "image/png": "[encoded data removed]",
      "text/plain": [
       "<Figure size 2500x2500 with 4 Axes>"
      ]
     },
     "metadata": {},
     "output_type": "display_data"
    }
   ],
   "source": [
    "# Building Dashboard of all above plots.\n",
    "car = np.array([\"Caterham\", \"Tesla\", \"Audi\", \"BMW\", \"Ford\", \"Jeep\"])\n",
    "weight = np.array([0.48, 1.7, 2, 2, 2.3, 3])\n",
    "\n",
    "f, axes = plt.subplots(2, 2, figsize=(25, 25))\n",
    "vis1 = axes[0,0].hist(weight, bins=6)\n",
    "vis2 = axes[0,1].plot(car, weight, ls=\"-\")\n",
    "vis3 = axes[1,0].bar(car, weight)\n",
    "vis4 = axes[1,1].scatter(car, weight)\n"
   ]
  },
  {
   "cell_type": "code",
   "execution_count": null,
   "id": "0d076e43-31fc-431a-9ed4-1720a70acae5",
   "metadata": {},
   "outputs": [],
   "source": []
  }
 ],
 "metadata": {
  "kernelspec": {
   "display_name": "Python 3 (ipykernel)",
   "language": "python",
   "name": "python3"
  },
  "language_info": {
   "codemirror_mode": {
    "name": "ipython",
    "version": 3
   },
   "file_extension": ".py",
   "mimetype": "text/x-python",
   "name": "python",
   "nbconvert_exporter": "python",
   "pygments_lexer": "ipython3",
   "version": "3.12.2"
  }
 },
 "nbformat": 4,
 "nbformat_minor": 5
}
