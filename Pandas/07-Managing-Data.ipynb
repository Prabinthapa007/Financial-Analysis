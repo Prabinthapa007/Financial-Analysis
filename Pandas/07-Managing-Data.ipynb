{
 "cells": [
  {
   "cell_type": "markdown",
   "id": "3e0ca5d8-1283-4fb7-91d3-2f27224ce064",
   "metadata": {},
   "source": [
    "## to_csv"
   ]
  },
  {
   "cell_type": "markdown",
   "id": "efe20294-54af-401e-a5ab-10700efb3674",
   "metadata": {},
   "source": [
    "just look the documentation \n",
    "\n",
    "It is all about saving your datasets after doing data exploration(EDA), handling missing data, handling inconsistent data, different pandas methods. "
   ]
  },
  {
   "cell_type": "code",
   "execution_count": null,
   "id": "a5542da2-6b4d-46c1-8944-3981346a417e",
   "metadata": {},
   "outputs": [],
   "source": []
  }
 ],
 "metadata": {
  "kernelspec": {
   "display_name": "Python 3 (ipykernel)",
   "language": "python",
   "name": "python3"
  },
  "language_info": {
   "codemirror_mode": {
    "name": "ipython",
    "version": 3
   },
   "file_extension": ".py",
   "mimetype": "text/x-python",
   "name": "python",
   "nbconvert_exporter": "python",
   "pygments_lexer": "ipython3",
   "version": "3.12.2"
  }
 },
 "nbformat": 4,
 "nbformat_minor": 5
}
