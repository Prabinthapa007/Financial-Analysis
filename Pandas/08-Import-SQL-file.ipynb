{
 "cells": [
  {
   "cell_type": "code",
   "execution_count": 1,
   "id": "ae0c54b0-cdcc-43f2-b39e-220aeecbeed5",
   "metadata": {},
   "outputs": [
    {
     "name": "stderr",
     "output_type": "stream",
     "text": [
      "C:\\Users\\hp\\AppData\\Local\\Temp\\ipykernel_14284\\2059591896.py:1: DeprecationWarning: \n",
      "Pyarrow will become a required dependency of pandas in the next major release of pandas (pandas 3.0),\n",
      "(to allow more performant data types, such as the Arrow string type, and better interoperability with other libraries)\n",
      "but was not found to be installed on your system.\n",
      "If this would cause problems for you,\n",
      "please provide us feedback at https://github.com/pandas-dev/pandas/issues/54466\n",
      "        \n",
      "  import pandas as pd\n"
     ]
    }
   ],
   "source": [
    "import pandas as pd\n",
    "import sqlite3"
   ]
  },
  {
   "cell_type": "markdown",
   "id": "c088c31e-1a3b-4bed-886a-1f9fbd33f55d",
   "metadata": {},
   "source": [
    "### Importing From Database"
   ]
  },
  {
   "cell_type": "code",
   "execution_count": 2,
   "id": "29d691fc-9b74-40ea-9820-dd903b1714cb",
   "metadata": {},
   "outputs": [],
   "source": [
    "conn = sqlite3.connect('sql-murder-mystery.db')"
   ]
  },
  {
   "cell_type": "code",
   "execution_count": 3,
   "id": "9f4f5976-3852-4560-acc1-ce15a20721f5",
   "metadata": {},
   "outputs": [],
   "source": [
    "from_db = pd.read_sql('SELECT * FROM Person', conn)"
   ]
  },
  {
   "cell_type": "code",
   "execution_count": 4,
   "id": "7c4535f4-f7dd-4d44-ba17-5a2ea9da1404",
   "metadata": {},
   "outputs": [
    {
     "data": {
      "text/html": [
       "<div>\n",
       "<style scoped>\n",
       "    .dataframe tbody tr th:only-of-type {\n",
       "        vertical-align: middle;\n",
       "    }\n",
       "\n",
       "    .dataframe tbody tr th {\n",
       "        vertical-align: top;\n",
       "    }\n",
       "\n",
       "    .dataframe thead th {\n",
       "        text-align: right;\n",
       "    }\n",
       "</style>\n",
       "<table border=\"1\" class=\"dataframe\">\n",
       "  <thead>\n",
       "    <tr style=\"text-align: right;\">\n",
       "      <th></th>\n",
       "      <th>id</th>\n",
       "      <th>name</th>\n",
       "      <th>license_id</th>\n",
       "      <th>address_number</th>\n",
       "      <th>address_street_name</th>\n",
       "      <th>ssn</th>\n",
       "    </tr>\n",
       "  </thead>\n",
       "  <tbody>\n",
       "    <tr>\n",
       "      <th>0</th>\n",
       "      <td>10000</td>\n",
       "      <td>Christoper Peteuil</td>\n",
       "      <td>993845</td>\n",
       "      <td>624</td>\n",
       "      <td>Bankhall Ave</td>\n",
       "      <td>747714076</td>\n",
       "    </tr>\n",
       "    <tr>\n",
       "      <th>1</th>\n",
       "      <td>10007</td>\n",
       "      <td>Kourtney Calderwood</td>\n",
       "      <td>861794</td>\n",
       "      <td>2791</td>\n",
       "      <td>Gustavus Blvd</td>\n",
       "      <td>477972044</td>\n",
       "    </tr>\n",
       "    <tr>\n",
       "      <th>2</th>\n",
       "      <td>10010</td>\n",
       "      <td>Muoi Cary</td>\n",
       "      <td>385336</td>\n",
       "      <td>741</td>\n",
       "      <td>Northwestern Dr</td>\n",
       "      <td>828638512</td>\n",
       "    </tr>\n",
       "    <tr>\n",
       "      <th>3</th>\n",
       "      <td>10016</td>\n",
       "      <td>Era Moselle</td>\n",
       "      <td>431897</td>\n",
       "      <td>1987</td>\n",
       "      <td>Wood Glade St</td>\n",
       "      <td>614621061</td>\n",
       "    </tr>\n",
       "    <tr>\n",
       "      <th>4</th>\n",
       "      <td>10025</td>\n",
       "      <td>Trena Hornby</td>\n",
       "      <td>550890</td>\n",
       "      <td>276</td>\n",
       "      <td>Daws Hill Way</td>\n",
       "      <td>223877684</td>\n",
       "    </tr>\n",
       "  </tbody>\n",
       "</table>\n",
       "</div>"
      ],
      "text/plain": [
       "      id                 name  license_id  address_number address_street_name  \\\n",
       "0  10000   Christoper Peteuil      993845             624        Bankhall Ave   \n",
       "1  10007  Kourtney Calderwood      861794            2791       Gustavus Blvd   \n",
       "2  10010            Muoi Cary      385336             741     Northwestern Dr   \n",
       "3  10016          Era Moselle      431897            1987       Wood Glade St   \n",
       "4  10025         Trena Hornby      550890             276       Daws Hill Way   \n",
       "\n",
       "         ssn  \n",
       "0  747714076  \n",
       "1  477972044  \n",
       "2  828638512  \n",
       "3  614621061  \n",
       "4  223877684  "
      ]
     },
     "execution_count": 4,
     "metadata": {},
     "output_type": "execute_result"
    }
   ],
   "source": [
    "from_db.head()"
   ]
  },
  {
   "cell_type": "code",
   "execution_count": 5,
   "id": "cbebf00a-d295-441e-982f-d7c24acca9da",
   "metadata": {},
   "outputs": [],
   "source": [
    "# see SQLalchemy"
   ]
  },
  {
   "cell_type": "markdown",
   "id": "bae39c88-23e7-4873-b3b1-1cad3dff44d1",
   "metadata": {},
   "source": [
    "### Import From API"
   ]
  },
  {
   "cell_type": "code",
   "execution_count": 6,
   "id": "66069480-c56c-4549-b9ed-0f9b759ebd01",
   "metadata": {},
   "outputs": [],
   "source": [
    "import requests"
   ]
  },
  {
   "cell_type": "code",
   "execution_count": 7,
   "id": "74026d0d-9282-43c9-ae05-2a1db2708060",
   "metadata": {},
   "outputs": [],
   "source": [
    "api_data = requests.get(\"https://fakerapi.it/api/v1/persons?_quantity=10\")"
   ]
  },
  {
   "cell_type": "code",
   "execution_count": 12,
   "id": "fcbe8cea-4bbc-4168-87fe-9fe2b4cd71e7",
   "metadata": {},
   "outputs": [],
   "source": [
    "response_data = api_data.json()"
   ]
  },
  {
   "cell_type": "code",
   "execution_count": 13,
   "id": "8d7db4a9-5d42-4b9c-9790-777fe9e9a31d",
   "metadata": {},
   "outputs": [],
   "source": [
    "response_data = api_data.json()['data']"
   ]
  },
  {
   "cell_type": "code",
   "execution_count": 15,
   "id": "fa93f2f7-3020-4e82-a0d9-690ce29dae54",
   "metadata": {},
   "outputs": [
    {
     "data": {
      "text/html": [
       "<div>\n",
       "<style scoped>\n",
       "    .dataframe tbody tr th:only-of-type {\n",
       "        vertical-align: middle;\n",
       "    }\n",
       "\n",
       "    .dataframe tbody tr th {\n",
       "        vertical-align: top;\n",
       "    }\n",
       "\n",
       "    .dataframe thead th {\n",
       "        text-align: right;\n",
       "    }\n",
       "</style>\n",
       "<table border=\"1\" class=\"dataframe\">\n",
       "  <thead>\n",
       "    <tr style=\"text-align: right;\">\n",
       "      <th></th>\n",
       "      <th>id</th>\n",
       "      <th>firstname</th>\n",
       "      <th>lastname</th>\n",
       "      <th>email</th>\n",
       "      <th>phone</th>\n",
       "      <th>birthday</th>\n",
       "      <th>gender</th>\n",
       "      <th>address</th>\n",
       "      <th>website</th>\n",
       "      <th>image</th>\n",
       "    </tr>\n",
       "  </thead>\n",
       "  <tbody>\n",
       "    <tr>\n",
       "      <th>0</th>\n",
       "      <td>1</td>\n",
       "      <td>Mason</td>\n",
       "      <td>Oberbrunner</td>\n",
       "      <td>syble.heaney@gmail.com</td>\n",
       "      <td>+5087675682871</td>\n",
       "      <td>1969-01-21</td>\n",
       "      <td>male</td>\n",
       "      <td>{'id': 0, 'street': '55940 Leuschke Oval', 'st...</td>\n",
       "      <td>http://baumbach.com</td>\n",
       "      <td>http://placeimg.com/640/480/people</td>\n",
       "    </tr>\n",
       "    <tr>\n",
       "      <th>1</th>\n",
       "      <td>2</td>\n",
       "      <td>Mazie</td>\n",
       "      <td>Legros</td>\n",
       "      <td>usenger@yahoo.com</td>\n",
       "      <td>+7585319583848</td>\n",
       "      <td>1945-11-13</td>\n",
       "      <td>female</td>\n",
       "      <td>{'id': 0, 'street': '5885 Floy Trail Apt. 701'...</td>\n",
       "      <td>http://hintz.info</td>\n",
       "      <td>http://placeimg.com/640/480/people</td>\n",
       "    </tr>\n",
       "    <tr>\n",
       "      <th>2</th>\n",
       "      <td>3</td>\n",
       "      <td>Forest</td>\n",
       "      <td>Corkery</td>\n",
       "      <td>wmraz@nader.biz</td>\n",
       "      <td>+3730712991399</td>\n",
       "      <td>2012-05-07</td>\n",
       "      <td>male</td>\n",
       "      <td>{'id': 0, 'street': '72167 Murphy Mills', 'str...</td>\n",
       "      <td>http://pfeffer.com</td>\n",
       "      <td>http://placeimg.com/640/480/people</td>\n",
       "    </tr>\n",
       "    <tr>\n",
       "      <th>3</th>\n",
       "      <td>4</td>\n",
       "      <td>Maryam</td>\n",
       "      <td>Dickinson</td>\n",
       "      <td>bailee97@yahoo.com</td>\n",
       "      <td>+3704692570995</td>\n",
       "      <td>1978-10-25</td>\n",
       "      <td>female</td>\n",
       "      <td>{'id': 0, 'street': '1597 Drake Motorway Suite...</td>\n",
       "      <td>http://bode.org</td>\n",
       "      <td>http://placeimg.com/640/480/people</td>\n",
       "    </tr>\n",
       "    <tr>\n",
       "      <th>4</th>\n",
       "      <td>5</td>\n",
       "      <td>Blair</td>\n",
       "      <td>West</td>\n",
       "      <td>michale.kautzer@gmail.com</td>\n",
       "      <td>+8295055229416</td>\n",
       "      <td>1954-08-12</td>\n",
       "      <td>male</td>\n",
       "      <td>{'id': 0, 'street': '5628 Lulu Key', 'streetNa...</td>\n",
       "      <td>http://feil.org</td>\n",
       "      <td>http://placeimg.com/640/480/people</td>\n",
       "    </tr>\n",
       "  </tbody>\n",
       "</table>\n",
       "</div>"
      ],
      "text/plain": [
       "   id firstname     lastname                      email           phone  \\\n",
       "0   1     Mason  Oberbrunner     syble.heaney@gmail.com  +5087675682871   \n",
       "1   2     Mazie       Legros          usenger@yahoo.com  +7585319583848   \n",
       "2   3    Forest      Corkery            wmraz@nader.biz  +3730712991399   \n",
       "3   4    Maryam    Dickinson         bailee97@yahoo.com  +3704692570995   \n",
       "4   5     Blair         West  michale.kautzer@gmail.com  +8295055229416   \n",
       "\n",
       "     birthday  gender                                            address  \\\n",
       "0  1969-01-21    male  {'id': 0, 'street': '55940 Leuschke Oval', 'st...   \n",
       "1  1945-11-13  female  {'id': 0, 'street': '5885 Floy Trail Apt. 701'...   \n",
       "2  2012-05-07    male  {'id': 0, 'street': '72167 Murphy Mills', 'str...   \n",
       "3  1978-10-25  female  {'id': 0, 'street': '1597 Drake Motorway Suite...   \n",
       "4  1954-08-12    male  {'id': 0, 'street': '5628 Lulu Key', 'streetNa...   \n",
       "\n",
       "               website                               image  \n",
       "0  http://baumbach.com  http://placeimg.com/640/480/people  \n",
       "1    http://hintz.info  http://placeimg.com/640/480/people  \n",
       "2   http://pfeffer.com  http://placeimg.com/640/480/people  \n",
       "3      http://bode.org  http://placeimg.com/640/480/people  \n",
       "4      http://feil.org  http://placeimg.com/640/480/people  "
      ]
     },
     "execution_count": 15,
     "metadata": {},
     "output_type": "execute_result"
    }
   ],
   "source": [
    "df = pd.DataFrame(response_data)\n",
    "df.head()"
   ]
  },
  {
   "cell_type": "code",
   "execution_count": null,
   "id": "3990d63e-b222-4cfa-af81-531730c499bc",
   "metadata": {},
   "outputs": [],
   "source": []
  }
 ],
 "metadata": {
  "kernelspec": {
   "display_name": "Python 3 (ipykernel)",
   "language": "python",
   "name": "python3"
  },
  "language_info": {
   "codemirror_mode": {
    "name": "ipython",
    "version": 3
   },
   "file_extension": ".py",
   "mimetype": "text/x-python",
   "name": "python",
   "nbconvert_exporter": "python",
   "pygments_lexer": "ipython3",
   "version": "3.12.2"
  }
 },
 "nbformat": 4,
 "nbformat_minor": 5
}
