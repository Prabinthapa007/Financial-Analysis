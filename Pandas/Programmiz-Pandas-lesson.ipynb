{
 "cells": [
  {
   "cell_type": "code",
   "execution_count": 1,
   "id": "482780b0-aa93-4f2d-87ef-b59cf3ca205a",
   "metadata": {},
   "outputs": [
    {
     "name": "stderr",
     "output_type": "stream",
     "text": [
      "C:\\Users\\hp\\AppData\\Local\\Temp\\ipykernel_12672\\4080736814.py:1: DeprecationWarning: \n",
      "Pyarrow will become a required dependency of pandas in the next major release of pandas (pandas 3.0),\n",
      "(to allow more performant data types, such as the Arrow string type, and better interoperability with other libraries)\n",
      "but was not found to be installed on your system.\n",
      "If this would cause problems for you,\n",
      "please provide us feedback at https://github.com/pandas-dev/pandas/issues/54466\n",
      "        \n",
      "  import pandas as pd\n"
     ]
    }
   ],
   "source": [
    "import pandas as pd"
   ]
  },
  {
   "cell_type": "markdown",
   "id": "f0a410b8-071a-4e01-a166-e425c00a351e",
   "metadata": {
    "jp-MarkdownHeadingCollapsed": true
   },
   "source": [
    "# Introduction"
   ]
  },
  {
   "cell_type": "markdown",
   "id": "6a230aad-ea24-4f5f-b7ec-a65deaa36023",
   "metadata": {},
   "source": [
    "## 1. Pandas Series\n",
    "- A Pandas Series is a one-dimensional labeled array-like object that can hold data of any type.\n",
    "- A Pandas Series can be thought of as a column in a spreadsheet or a single column of a DataFrame. It consists of two main components: the labels and the data."
   ]
  },
  {
   "cell_type": "markdown",
   "id": "c9e8ea31-22a3-4933-862b-67bcb7b96a5a",
   "metadata": {},
   "source": [
    "### Creating a Pandas Series"
   ]
  },
  {
   "cell_type": "code",
   "execution_count": 2,
   "id": "6b5aac92-db18-41ee-9ea8-42da87ce2a05",
   "metadata": {},
   "outputs": [
    {
     "name": "stdout",
     "output_type": "stream",
     "text": [
      "0    1\n",
      "1    2\n",
      "2    3\n",
      "3    4\n",
      "4    5\n",
      "dtype: int64\n"
     ]
    }
   ],
   "source": [
    "data = [1, 2, 3, 4, 5]\n",
    "my_series = pd.Series(data)\n",
    "print(my_series)"
   ]
  },
  {
   "cell_type": "markdown",
   "id": "39d663b8-e4d1-4e42-9aa3-e13d7d494e61",
   "metadata": {},
   "source": [
    "In this example, we created a Python list called `data` containing five integer values. We then passed this list to the `Series()` function, which converted it into a Pandas Series called `my_series`.\n",
    "\n",
    "Here, `dtype: int64` denotes that the series stores the values of int64 types"
   ]
  },
  {
   "cell_type": "markdown",
   "id": "789c5bba-a978-42f3-a2d5-5e96184ecf12",
   "metadata": {},
   "source": [
    "## 2. Pandas DataFrame"
   ]
  },
  {
   "cell_type": "markdown",
   "id": "fb8ab53a-1575-4660-a945-5771265ec29d",
   "metadata": {},
   "source": [
    "#### I. Pandas DataFrame Using Python Dictionary"
   ]
  },
  {
   "cell_type": "code",
   "execution_count": 12,
   "id": "41716f78-8281-412a-8fc7-806d76f5487b",
   "metadata": {},
   "outputs": [
    {
     "name": "stdout",
     "output_type": "stream",
     "text": [
      "     Name  Age      City\n",
      "0  Prabin   25  New York\n",
      "1    John   30    London\n",
      "2  Sushma   35     Paris\n"
     ]
    }
   ],
   "source": [
    "data = {\n",
    "    \"Name\": [\"Prabin\", \"John\", \"Sushma\"],\n",
    "    \"Age\":[25, 30, 35],\n",
    "    \"City\": [\"New York\", \"London\", \"Paris\"]}\n",
    "df = pd.DataFrame(data)\n",
    "print(df)"
   ]
  },
  {
   "cell_type": "markdown",
   "id": "a1769669-40bf-4442-abaf-5c8527b247e9",
   "metadata": {},
   "source": [
    "In this example, we created a dictionary called `data` that contains the column names (`Name`, `Age`, `City`) as keys, and lists of values as their respective values.\n",
    "\n",
    "We then used the `pd.DataFrame()` function to convert the dictionary into a DataFrame called `df`."
   ]
  },
  {
   "cell_type": "markdown",
   "id": "63321dc6-693c-453e-a77a-c0be6facf7b9",
   "metadata": {},
   "source": [
    "<br>"
   ]
  },
  {
   "cell_type": "markdown",
   "id": "fd0b4ca6-d7ea-44cc-956c-55e5dabaa354",
   "metadata": {},
   "source": [
    "#### II. Pandas DataFrame Using Python List"
   ]
  },
  {
   "cell_type": "code",
   "execution_count": 13,
   "id": "9ae668e8-e6f4-421e-a7f1-906c1860c680",
   "metadata": {},
   "outputs": [
    {
     "name": "stdout",
     "output_type": "stream",
     "text": [
      "     Name  Age    City\n",
      "0  Prabin   25      NY\n",
      "1    John   22  London\n",
      "2     Bob   33   Paris\n"
     ]
    }
   ],
   "source": [
    "\n",
    "data = [[\"Prabin\", 25, \"NY\"],\n",
    "        [\"John\", 22, \"London\"],\n",
    "        [\"Bob\", 33, \"Paris\"]]\n",
    "\n",
    "df = pd.DataFrame(data, columns=[\"Name\", \"Age\", \"City\"])\n",
    "print(df)"
   ]
  },
  {
   "cell_type": "markdown",
   "id": "29401cc8-a5b3-4187-a9a2-7a6ae774bac6",
   "metadata": {},
   "source": [
    "<br>"
   ]
  },
  {
   "cell_type": "markdown",
   "id": "418c7ea5-9d99-4a44-9cc2-30be4ff67567",
   "metadata": {},
   "source": [
    "#### III. Pandas DataFrame From a File\n",
    "Another common way to create a DataFrame is by loading data from a CSV (Comma-Separated Values) file. For example,"
   ]
  },
  {
   "cell_type": "code",
   "execution_count": 14,
   "id": "536dcf79-9cf6-4422-bc73-5708975d6eda",
   "metadata": {},
   "outputs": [
    {
     "name": "stdout",
     "output_type": "stream",
     "text": [
      "   PassengerId  Survived  Pclass  \\\n",
      "0            1         0       3   \n",
      "1            2         1       1   \n",
      "2            3         1       3   \n",
      "3            4         1       1   \n",
      "4            5         0       3   \n",
      "\n",
      "                                                Name     Sex   Age  SibSp  \\\n",
      "0                            Braund, Mr. Owen Harris    male  22.0      1   \n",
      "1  Cumings, Mrs. John Bradley (Florence Briggs Th...  female  38.0      1   \n",
      "2                             Heikkinen, Miss. Laina  female  26.0      0   \n",
      "3       Futrelle, Mrs. Jacques Heath (Lily May Peel)  female  35.0      1   \n",
      "4                           Allen, Mr. William Henry    male  35.0      0   \n",
      "\n",
      "   Parch            Ticket     Fare Cabin Embarked  \n",
      "0      0         A/5 21171   7.2500   NaN        S  \n",
      "1      0          PC 17599  71.2833   C85        C  \n",
      "2      0  STON/O2. 3101282   7.9250   NaN        S  \n",
      "3      0            113803  53.1000  C123        S  \n",
      "4      0            373450   8.0500   NaN        S  \n"
     ]
    }
   ],
   "source": [
    "df = pd.read_csv(\"C:\\\\Users\\\\hp\\\\Downloads\\\\archive\\\\train.csv\")\n",
    "print(df.head()) "
   ]
  },
  {
   "cell_type": "markdown",
   "id": "2704b846-8da2-4852-871f-0b1f76aa60a9",
   "metadata": {},
   "source": [
    "In this example, we used the `read_csv()` function which reads the CSV file `train.csv`, and automatically creates a DataFrame object `df`, containing data from the CSV file.\n",
    "\n",
    "**Note**: We can also create a DataFrame using other file types like JSON, Excel spreadsheet, SQL database, etc. The methods to read different file types are listed below:\n",
    "- **Json** = `read_json()`\n",
    "- **Excel spreadsheet** = `read_excel()`\n",
    "- **SQL** = `read_sql()`"
   ]
  },
  {
   "cell_type": "markdown",
   "id": "d1c2b84a-5326-43e4-b998-3e4b25d303b4",
   "metadata": {},
   "source": [
    "<br><br>"
   ]
  },
  {
   "cell_type": "markdown",
   "id": "860bffc4-124d-4382-b4ec-f7feca673370",
   "metadata": {},
   "source": [
    "## 3. Pandas Index\n",
    "In Pandas, an index refers to the labeled array that identifies rows or columns in a DataFrame or a Series. For example,"
   ]
  },
  {
   "cell_type": "code",
   "execution_count": 15,
   "id": "c7d1476b-893f-4893-8f88-cec57a8259e7",
   "metadata": {},
   "outputs": [
    {
     "name": "stdout",
     "output_type": "stream",
     "text": [
      "     Name  Age      City\n",
      "0  Prabin   25  New York\n",
      "1    John   30    London\n",
      "2  Sushma   35     Paris\n"
     ]
    }
   ],
   "source": [
    "data = {\n",
    "    \"Name\": [\"Prabin\", \"John\", \"Sushma\"],\n",
    "    \"Age\":[25, 30, 35],\n",
    "    \"City\": [\"New York\", \"London\", \"Paris\"]}\n",
    "df = pd.DataFrame(data)\n",
    "print(df)"
   ]
  },
  {
   "cell_type": "markdown",
   "id": "388d2ede-9668-4edf-8635-258fc017736e",
   "metadata": {},
   "source": [
    "In the above `DataFrame`, the numbers **0**, **1**, and **2** represent the index, providing unique labels to each row.\n",
    "\n",
    "We can use indexes to uniquely identify data and access data with efficiency and precision.n."
   ]
  },
  {
   "cell_type": "markdown",
   "id": "42c21749-04cf-47c6-842b-6844cf10b2a6",
   "metadata": {},
   "source": [
    "### a. Create Indexes in Pandas\n",
    "Pandas offers several ways to create indexes. Some common methods are as follows:\n",
    "- Default Index\n",
    "- Setting Index\n",
    "- Creating a Range Index"
   ]
  },
  {
   "cell_type": "markdown",
   "id": "2b36004d-4181-4f88-82fd-0a19f0d98b73",
   "metadata": {},
   "source": [
    "#### I. Default Index\n",
    "When we create a `DataFrame` or `Series` without specifying an `index` explicitly, `Pandas` assigns a `default` integer index starting from 0. For example,"
   ]
  },
  {
   "cell_type": "code",
   "execution_count": 16,
   "id": "36acfd9a-19d0-43ff-93d2-6aa4d392f97f",
   "metadata": {},
   "outputs": [
    {
     "name": "stdout",
     "output_type": "stream",
     "text": [
      "     Name  Age      City\n",
      "0  Prabin   25  New York\n",
      "1    John   30    London\n",
      "2  Sushma   35     Paris\n"
     ]
    }
   ],
   "source": [
    "data = {\n",
    "    \"Name\": [\"Prabin\", \"John\", \"Sushma\"],\n",
    "    \"Age\":[25, 30, 35],\n",
    "    \"City\": [\"New York\", \"London\", \"Paris\"]}\n",
    "df = pd.DataFrame(data)\n",
    "print(df)"
   ]
  },
  {
   "cell_type": "markdown",
   "id": "7011c379-ed83-4407-828c-f64b850351f1",
   "metadata": {},
   "source": [
    "In this example, the default index `[0, 1, 2]` is automatically assigned to the rows."
   ]
  },
  {
   "cell_type": "markdown",
   "id": "8ff70c34-1f7d-4e6e-9584-0854b550ecf4",
   "metadata": {},
   "source": [
    "<br>"
   ]
  },
  {
   "cell_type": "markdown",
   "id": "6f83cb48-d772-4acc-811d-b010aa617396",
   "metadata": {},
   "source": [
    "#### II. Setting Index\n",
    "We can set an `existing column` as the index using the `set_index()` method. For example,"
   ]
  },
  {
   "cell_type": "code",
   "execution_count": 21,
   "id": "8107c195-1214-4065-894d-e2197ffec974",
   "metadata": {},
   "outputs": [
    {
     "name": "stdout",
     "output_type": "stream",
     "text": [
      "        Age      City\n",
      "Name                 \n",
      "Prabin   25  New York\n",
      "John     30    London\n",
      "Sushma   35     Paris\n"
     ]
    }
   ],
   "source": [
    "data = {\n",
    "    \"Name\": [\"Prabin\", \"John\", \"Sushma\"],\n",
    "    \"Age\":[25, 30, 35],\n",
    "    \"City\": [\"New York\", \"London\", \"Paris\"]}\n",
    "df = pd.DataFrame(data)\n",
    "#print(df.set_index(\"Name\")) # This will print as it is \n",
    "df.set_index(\"Name\", inplace=True)\n",
    "print(df)"
   ]
  },
  {
   "cell_type": "markdown",
   "id": "939f9625-d8cc-4f0d-befc-2952d17a724c",
   "metadata": {},
   "source": [
    "In this example, the `Name` column is set as the index, replacing the default integer index.\n",
    "\n",
    "Here, the `inplace=True` parameter performs the operation directly on the object itself, without creating a new object. When we specify `inplace=True`, the original object is modified, and the changes are directly applied."
   ]
  },
  {
   "cell_type": "markdown",
   "id": "c466da7c-d058-4bdc-b368-a90bd7821008",
   "metadata": {},
   "source": [
    "<br>"
   ]
  },
  {
   "cell_type": "markdown",
   "id": "816510f8-7b7c-4d64-88c3-b17b39e9cf24",
   "metadata": {},
   "source": [
    "#### III. Creating a Range Index\n",
    "We can create a range index with specific start and end values using the `RangeIndex()` function. For example,"
   ]
  },
  {
   "cell_type": "code",
   "execution_count": 22,
   "id": "b1afaf90-0b52-4502-b042-b4bfdb96617b",
   "metadata": {},
   "outputs": [
    {
     "name": "stdout",
     "output_type": "stream",
     "text": [
      "         Name  Age      City\n",
      "Index                       \n",
      "1      Prabin   25  New York\n",
      "2        John   30    London\n",
      "3      Sushma   35     Paris\n"
     ]
    }
   ],
   "source": [
    "data = {\n",
    "    \"Name\": [\"Prabin\", \"John\", \"Sushma\"],\n",
    "    \"Age\":[25, 30, 35],\n",
    "    \"City\": [\"New York\", \"London\", \"Paris\"]}\n",
    "df = pd.DataFrame(data)\n",
    "\n",
    "# create a range index.\n",
    "df = pd.DataFrame(data, index=pd.RangeIndex(1,4, name=\"Index\"))\n",
    "print(df)"
   ]
  },
  {
   "cell_type": "code",
   "execution_count": 23,
   "id": "187394e3-49b9-41a5-ad37-08b0337a4df1",
   "metadata": {},
   "outputs": [
    {
     "name": "stdout",
     "output_type": "stream",
     "text": [
      "         Name  Age      City\n",
      "Index                       \n",
      "5      Prabin   25  New York\n",
      "6        John   30    London\n",
      "7      Sushma   35     Paris\n"
     ]
    }
   ],
   "source": [
    "# Create a Range Index 5, 6, 7 instead of 1, 2, 3:\n",
    "df = pd.DataFrame(data, index=pd.RangeIndex(5, 8, name=\"Index\"))\n",
    "print(df)"
   ]
  },
  {
   "cell_type": "markdown",
   "id": "20a983e2-fc3b-4ab4-9c11-830f8784845b",
   "metadata": {},
   "source": [
    "Here, a range index from 5 to 8(excluded) is created with the name `Index`."
   ]
  },
  {
   "cell_type": "markdown",
   "id": "2ccec231-72cd-40a6-be19-ecb47ac92249",
   "metadata": {},
   "source": [
    "<br>"
   ]
  },
  {
   "cell_type": "markdown",
   "id": "15fb3797-f2cf-4c13-b807-829e93ac2df4",
   "metadata": {},
   "source": [
    "### b. Modifying Indexes in Pandas\n",
    "`Pandas` allows us to make `changes` to `indexes` easily. Some common modification operations are:\n",
    "- Renaming Index\n",
    "- Resetting Index"
   ]
  },
  {
   "cell_type": "markdown",
   "id": "2f95f170-bf08-402c-9bb1-220caf22ba0a",
   "metadata": {},
   "source": [
    "#### I. Renaming Index\n",
    "We can rename an index using the `rename()` method. For example,"
   ]
  },
  {
   "cell_type": "code",
   "execution_count": 25,
   "id": "1c7ac361-20d1-433d-acee-2ccf9014a392",
   "metadata": {},
   "outputs": [
    {
     "name": "stdout",
     "output_type": "stream",
     "text": [
      "Original DataFrame:\n",
      "     Name  Age    City\n",
      "0    John   25      NY\n",
      "1   Alice   26  London\n",
      "2  Sushma   27   Paris\n",
      "\n",
      "Modified DataFrame\n",
      "     Name  Age    City\n",
      "A    John   25      NY\n",
      "B   Alice   26  London\n",
      "C  Sushma   27   Paris\n"
     ]
    }
   ],
   "source": [
    "# Create a DataFrame\n",
    "data={\n",
    "    'Name': [\"John\", \"Alice\", \"Sushma\"],\n",
    "    'Age': [25, 26, 27],\n",
    "    'City': [\"NY\", \"London\", \"Paris\"]\n",
    "}\n",
    "df = pd.DataFrame(data)\n",
    "\n",
    "# Display original DataFrame\n",
    "print(\"Original DataFrame:\")\n",
    "print(df)\n",
    "\n",
    "# Renaming Index\n",
    "df.rename(index={0:'A', 1:'B', 2:'C'}, inplace=True)\n",
    "\n",
    "# Display dataframe after index is renamed\n",
    "print(\"\\nModified DataFrame\")\n",
    "print(df)"
   ]
  },
  {
   "cell_type": "markdown",
   "id": "60a3e176-02d8-4cfa-ab09-9133bce4b484",
   "metadata": {},
   "source": [
    "In this example, we renamed the indexes **0**, **1**, and **2** to `'A'`, `'B'`, and `'C'` respectively."
   ]
  },
  {
   "cell_type": "markdown",
   "id": "a14fe5ad-715e-4633-80d5-86a6193f487d",
   "metadata": {},
   "source": [
    "<br>"
   ]
  },
  {
   "cell_type": "markdown",
   "id": "94413c42-395e-44d6-be3e-4ac815e3bccc",
   "metadata": {},
   "source": [
    "#### II. Resetting Index\n",
    "We can reset the index to the default integer index using the `reset_index()` method. For example,"
   ]
  },
  {
   "cell_type": "code",
   "execution_count": 26,
   "id": "79fd8ccf-2b56-4e63-86f4-adfabcdcc699",
   "metadata": {},
   "outputs": [
    {
     "name": "stdout",
     "output_type": "stream",
     "text": [
      "Original DataFrame:\n",
      "     Name  Age    City\n",
      "0    John   25      NY\n",
      "1   Alice   26  London\n",
      "2  Sushma   27   Paris\n",
      "\n",
      "Modified DataFrame\n",
      "     Name  Age    City\n",
      "A    John   25      NY\n",
      "B   Alice   26  London\n",
      "C  Sushma   27   Paris\n",
      "\n",
      "Return to Original DataFrame\n",
      "  index    Name  Age    City\n",
      "0     A    John   25      NY\n",
      "1     B   Alice   26  London\n",
      "2     C  Sushma   27   Paris\n"
     ]
    }
   ],
   "source": [
    "data={\n",
    "    'Name': [\"John\", \"Alice\", \"Sushma\"],\n",
    "    'Age': [25, 26, 27],\n",
    "    'City': [\"NY\", \"London\", \"Paris\"]\n",
    "}\n",
    "df = pd.DataFrame(data)\n",
    "\n",
    "# Display original DataFrame\n",
    "print(\"Original DataFrame:\")\n",
    "print(df)\n",
    "\n",
    "# Renaming Index\n",
    "df.rename(index={0:'A', 1:'B', 2:'C'}, inplace=True)\n",
    "\n",
    "# Display dataframe after index is renamed\n",
    "print(\"\\nModified DataFrame\")\n",
    "print(df)\n",
    "\n",
    "# Reset the index to original\n",
    "df.reset_index(inplace=True)\n",
    "\n",
    "# Display DataFrame after index is reset\n",
    "print(\"\\nReturn to Original DataFrame\")\n",
    "print(df)"
   ]
  },
  {
   "cell_type": "markdown",
   "id": "201401cf-d995-4c6a-ac49-eeb28fdef786",
   "metadata": {},
   "source": [
    "<br><br>"
   ]
  },
  {
   "cell_type": "code",
   "execution_count": null,
   "id": "9233582e-3ef4-4593-a0ba-df3bd8b9e099",
   "metadata": {},
   "outputs": [],
   "source": []
  },
  {
   "cell_type": "code",
   "execution_count": null,
   "id": "87ae02d6-a7ee-49ec-a8d0-a6753577f7d3",
   "metadata": {},
   "outputs": [],
   "source": []
  },
  {
   "cell_type": "code",
   "execution_count": null,
   "id": "78bfd176-dc80-4af1-b65b-7037a2c846a3",
   "metadata": {},
   "outputs": [],
   "source": []
  },
  {
   "cell_type": "code",
   "execution_count": null,
   "id": "931c6816-1a92-4c69-b7cb-6ea9e51587bc",
   "metadata": {},
   "outputs": [],
   "source": []
  },
  {
   "cell_type": "code",
   "execution_count": null,
   "id": "6991fb36-ab97-484b-9f0e-5d19dfca45c0",
   "metadata": {},
   "outputs": [],
   "source": []
  },
  {
   "cell_type": "code",
   "execution_count": null,
   "id": "3deb818c-4bbd-46f0-96fc-8d4c3dd34d9f",
   "metadata": {},
   "outputs": [],
   "source": []
  },
  {
   "cell_type": "code",
   "execution_count": null,
   "id": "202f0510-89c0-47d9-bb8f-1988d20d23b2",
   "metadata": {},
   "outputs": [],
   "source": []
  },
  {
   "cell_type": "code",
   "execution_count": null,
   "id": "bc927a97-0d80-475b-83de-0a95211518dd",
   "metadata": {},
   "outputs": [],
   "source": []
  },
  {
   "cell_type": "code",
   "execution_count": null,
   "id": "3df6ed90-8663-4595-b37e-dc5fe793634e",
   "metadata": {},
   "outputs": [],
   "source": []
  },
  {
   "cell_type": "code",
   "execution_count": null,
   "id": "edb6c579-1c6b-4d9d-b41d-6a562b60af1f",
   "metadata": {},
   "outputs": [],
   "source": []
  },
  {
   "cell_type": "markdown",
   "id": "d60ecd64-18f5-4f3c-8c47-5add4f6fd8b5",
   "metadata": {},
   "source": [
    "<br><br><br>"
   ]
  },
  {
   "cell_type": "markdown",
   "id": "2aaedf79-59ab-416f-b5c4-fa899187e773",
   "metadata": {},
   "source": [
    "# DataFrame Operations and Manipulations"
   ]
  },
  {
   "cell_type": "markdown",
   "id": "e57f4809-45f2-4d8d-8e20-fee76989f69c",
   "metadata": {},
   "source": [
    "## 1. Pandas DataFrame Analysis\n",
    "Pandas DataFrame objects come with a variety of built-in-functions like `head()`, `tail()`, and `info()` that allow us to view and analyze DataFrames\n"
   ]
  },
  {
   "cell_type": "code",
   "execution_count": 27,
   "id": "cf4d7832-ad4d-4fbe-9c64-e564c3ce1684",
   "metadata": {},
   "outputs": [
    {
     "name": "stdout",
     "output_type": "stream",
     "text": [
      "   PassengerId  Survived  Pclass  \\\n",
      "0            1         0       3   \n",
      "1            2         1       1   \n",
      "2            3         1       3   \n",
      "3            4         1       1   \n",
      "4            5         0       3   \n",
      "\n",
      "                                                Name     Sex   Age  SibSp  \\\n",
      "0                            Braund, Mr. Owen Harris    male  22.0      1   \n",
      "1  Cumings, Mrs. John Bradley (Florence Briggs Th...  female  38.0      1   \n",
      "2                             Heikkinen, Miss. Laina  female  26.0      0   \n",
      "3       Futrelle, Mrs. Jacques Heath (Lily May Peel)  female  35.0      1   \n",
      "4                           Allen, Mr. William Henry    male  35.0      0   \n",
      "\n",
      "   Parch            Ticket     Fare Cabin Embarked  \n",
      "0      0         A/5 21171   7.2500   NaN        S  \n",
      "1      0          PC 17599  71.2833   C85        C  \n",
      "2      0  STON/O2. 3101282   7.9250   NaN        S  \n",
      "3      0            113803  53.1000  C123        S  \n",
      "4      0            373450   8.0500   NaN        S  \n"
     ]
    }
   ],
   "source": [
    "data = pd.read_csv(\"C:\\\\Users\\\\hp\\\\Downloads\\\\archive\\\\train.csv\")\n",
    "print(data.head())"
   ]
  },
  {
   "cell_type": "markdown",
   "id": "dd19d6c6-e877-45e3-a8c4-bd85258496a0",
   "metadata": {},
   "source": [
    "### a. Pandas head()"
   ]
  },
  {
   "cell_type": "markdown",
   "id": "4baa65ab-ef12-4826-9087-cef5c0c200c4",
   "metadata": {},
   "source": [
    "The `head()` method provides a rapid summary of a DataFrame. It returns the column headers and a specified number of rows from the beginning. For example,"
   ]
  },
  {
   "cell_type": "code",
   "execution_count": 28,
   "id": "4a87aecb-c6f9-4a79-a3c4-eaf3904f52af",
   "metadata": {},
   "outputs": [
    {
     "data": {
      "text/html": [
       "<div>\n",
       "<style scoped>\n",
       "    .dataframe tbody tr th:only-of-type {\n",
       "        vertical-align: middle;\n",
       "    }\n",
       "\n",
       "    .dataframe tbody tr th {\n",
       "        vertical-align: top;\n",
       "    }\n",
       "\n",
       "    .dataframe thead th {\n",
       "        text-align: right;\n",
       "    }\n",
       "</style>\n",
       "<table border=\"1\" class=\"dataframe\">\n",
       "  <thead>\n",
       "    <tr style=\"text-align: right;\">\n",
       "      <th></th>\n",
       "      <th>PassengerId</th>\n",
       "      <th>Survived</th>\n",
       "      <th>Pclass</th>\n",
       "      <th>Name</th>\n",
       "      <th>Sex</th>\n",
       "      <th>Age</th>\n",
       "      <th>SibSp</th>\n",
       "      <th>Parch</th>\n",
       "      <th>Ticket</th>\n",
       "      <th>Fare</th>\n",
       "      <th>Cabin</th>\n",
       "      <th>Embarked</th>\n",
       "    </tr>\n",
       "  </thead>\n",
       "  <tbody>\n",
       "    <tr>\n",
       "      <th>0</th>\n",
       "      <td>1</td>\n",
       "      <td>0</td>\n",
       "      <td>3</td>\n",
       "      <td>Braund, Mr. Owen Harris</td>\n",
       "      <td>male</td>\n",
       "      <td>22.0</td>\n",
       "      <td>1</td>\n",
       "      <td>0</td>\n",
       "      <td>A/5 21171</td>\n",
       "      <td>7.2500</td>\n",
       "      <td>NaN</td>\n",
       "      <td>S</td>\n",
       "    </tr>\n",
       "    <tr>\n",
       "      <th>1</th>\n",
       "      <td>2</td>\n",
       "      <td>1</td>\n",
       "      <td>1</td>\n",
       "      <td>Cumings, Mrs. John Bradley (Florence Briggs Th...</td>\n",
       "      <td>female</td>\n",
       "      <td>38.0</td>\n",
       "      <td>1</td>\n",
       "      <td>0</td>\n",
       "      <td>PC 17599</td>\n",
       "      <td>71.2833</td>\n",
       "      <td>C85</td>\n",
       "      <td>C</td>\n",
       "    </tr>\n",
       "    <tr>\n",
       "      <th>2</th>\n",
       "      <td>3</td>\n",
       "      <td>1</td>\n",
       "      <td>3</td>\n",
       "      <td>Heikkinen, Miss. Laina</td>\n",
       "      <td>female</td>\n",
       "      <td>26.0</td>\n",
       "      <td>0</td>\n",
       "      <td>0</td>\n",
       "      <td>STON/O2. 3101282</td>\n",
       "      <td>7.9250</td>\n",
       "      <td>NaN</td>\n",
       "      <td>S</td>\n",
       "    </tr>\n",
       "    <tr>\n",
       "      <th>3</th>\n",
       "      <td>4</td>\n",
       "      <td>1</td>\n",
       "      <td>1</td>\n",
       "      <td>Futrelle, Mrs. Jacques Heath (Lily May Peel)</td>\n",
       "      <td>female</td>\n",
       "      <td>35.0</td>\n",
       "      <td>1</td>\n",
       "      <td>0</td>\n",
       "      <td>113803</td>\n",
       "      <td>53.1000</td>\n",
       "      <td>C123</td>\n",
       "      <td>S</td>\n",
       "    </tr>\n",
       "    <tr>\n",
       "      <th>4</th>\n",
       "      <td>5</td>\n",
       "      <td>0</td>\n",
       "      <td>3</td>\n",
       "      <td>Allen, Mr. William Henry</td>\n",
       "      <td>male</td>\n",
       "      <td>35.0</td>\n",
       "      <td>0</td>\n",
       "      <td>0</td>\n",
       "      <td>373450</td>\n",
       "      <td>8.0500</td>\n",
       "      <td>NaN</td>\n",
       "      <td>S</td>\n",
       "    </tr>\n",
       "  </tbody>\n",
       "</table>\n",
       "</div>"
      ],
      "text/plain": [
       "   PassengerId  Survived  Pclass  \\\n",
       "0            1         0       3   \n",
       "1            2         1       1   \n",
       "2            3         1       3   \n",
       "3            4         1       1   \n",
       "4            5         0       3   \n",
       "\n",
       "                                                Name     Sex   Age  SibSp  \\\n",
       "0                            Braund, Mr. Owen Harris    male  22.0      1   \n",
       "1  Cumings, Mrs. John Bradley (Florence Briggs Th...  female  38.0      1   \n",
       "2                             Heikkinen, Miss. Laina  female  26.0      0   \n",
       "3       Futrelle, Mrs. Jacques Heath (Lily May Peel)  female  35.0      1   \n",
       "4                           Allen, Mr. William Henry    male  35.0      0   \n",
       "\n",
       "   Parch            Ticket     Fare Cabin Embarked  \n",
       "0      0         A/5 21171   7.2500   NaN        S  \n",
       "1      0          PC 17599  71.2833   C85        C  \n",
       "2      0  STON/O2. 3101282   7.9250   NaN        S  \n",
       "3      0            113803  53.1000  C123        S  \n",
       "4      0            373450   8.0500   NaN        S  "
      ]
     },
     "execution_count": 28,
     "metadata": {},
     "output_type": "execute_result"
    }
   ],
   "source": [
    "data.head()"
   ]
  },
  {
   "cell_type": "markdown",
   "id": "b4ec2d40-6893-4961-ac90-4a8ce4965025",
   "metadata": {},
   "source": [
    "<br>"
   ]
  },
  {
   "cell_type": "markdown",
   "id": "038d41de-927f-4a25-9f93-b70c579d3789",
   "metadata": {},
   "source": [
    "### b. Pandas tail()\n",
    "The `tail()` method is similar to head() but it returns data starting from the end of the DataFrame. For example,"
   ]
  },
  {
   "cell_type": "code",
   "execution_count": 29,
   "id": "0c5ba902-6d96-4e6a-b675-b13e387fc73e",
   "metadata": {},
   "outputs": [
    {
     "data": {
      "text/html": [
       "<div>\n",
       "<style scoped>\n",
       "    .dataframe tbody tr th:only-of-type {\n",
       "        vertical-align: middle;\n",
       "    }\n",
       "\n",
       "    .dataframe tbody tr th {\n",
       "        vertical-align: top;\n",
       "    }\n",
       "\n",
       "    .dataframe thead th {\n",
       "        text-align: right;\n",
       "    }\n",
       "</style>\n",
       "<table border=\"1\" class=\"dataframe\">\n",
       "  <thead>\n",
       "    <tr style=\"text-align: right;\">\n",
       "      <th></th>\n",
       "      <th>PassengerId</th>\n",
       "      <th>Survived</th>\n",
       "      <th>Pclass</th>\n",
       "      <th>Name</th>\n",
       "      <th>Sex</th>\n",
       "      <th>Age</th>\n",
       "      <th>SibSp</th>\n",
       "      <th>Parch</th>\n",
       "      <th>Ticket</th>\n",
       "      <th>Fare</th>\n",
       "      <th>Cabin</th>\n",
       "      <th>Embarked</th>\n",
       "    </tr>\n",
       "  </thead>\n",
       "  <tbody>\n",
       "    <tr>\n",
       "      <th>886</th>\n",
       "      <td>887</td>\n",
       "      <td>0</td>\n",
       "      <td>2</td>\n",
       "      <td>Montvila, Rev. Juozas</td>\n",
       "      <td>male</td>\n",
       "      <td>27.0</td>\n",
       "      <td>0</td>\n",
       "      <td>0</td>\n",
       "      <td>211536</td>\n",
       "      <td>13.00</td>\n",
       "      <td>NaN</td>\n",
       "      <td>S</td>\n",
       "    </tr>\n",
       "    <tr>\n",
       "      <th>887</th>\n",
       "      <td>888</td>\n",
       "      <td>1</td>\n",
       "      <td>1</td>\n",
       "      <td>Graham, Miss. Margaret Edith</td>\n",
       "      <td>female</td>\n",
       "      <td>19.0</td>\n",
       "      <td>0</td>\n",
       "      <td>0</td>\n",
       "      <td>112053</td>\n",
       "      <td>30.00</td>\n",
       "      <td>B42</td>\n",
       "      <td>S</td>\n",
       "    </tr>\n",
       "    <tr>\n",
       "      <th>888</th>\n",
       "      <td>889</td>\n",
       "      <td>0</td>\n",
       "      <td>3</td>\n",
       "      <td>Johnston, Miss. Catherine Helen \"Carrie\"</td>\n",
       "      <td>female</td>\n",
       "      <td>NaN</td>\n",
       "      <td>1</td>\n",
       "      <td>2</td>\n",
       "      <td>W./C. 6607</td>\n",
       "      <td>23.45</td>\n",
       "      <td>NaN</td>\n",
       "      <td>S</td>\n",
       "    </tr>\n",
       "    <tr>\n",
       "      <th>889</th>\n",
       "      <td>890</td>\n",
       "      <td>1</td>\n",
       "      <td>1</td>\n",
       "      <td>Behr, Mr. Karl Howell</td>\n",
       "      <td>male</td>\n",
       "      <td>26.0</td>\n",
       "      <td>0</td>\n",
       "      <td>0</td>\n",
       "      <td>111369</td>\n",
       "      <td>30.00</td>\n",
       "      <td>C148</td>\n",
       "      <td>C</td>\n",
       "    </tr>\n",
       "    <tr>\n",
       "      <th>890</th>\n",
       "      <td>891</td>\n",
       "      <td>0</td>\n",
       "      <td>3</td>\n",
       "      <td>Dooley, Mr. Patrick</td>\n",
       "      <td>male</td>\n",
       "      <td>32.0</td>\n",
       "      <td>0</td>\n",
       "      <td>0</td>\n",
       "      <td>370376</td>\n",
       "      <td>7.75</td>\n",
       "      <td>NaN</td>\n",
       "      <td>Q</td>\n",
       "    </tr>\n",
       "  </tbody>\n",
       "</table>\n",
       "</div>"
      ],
      "text/plain": [
       "     PassengerId  Survived  Pclass                                      Name  \\\n",
       "886          887         0       2                     Montvila, Rev. Juozas   \n",
       "887          888         1       1              Graham, Miss. Margaret Edith   \n",
       "888          889         0       3  Johnston, Miss. Catherine Helen \"Carrie\"   \n",
       "889          890         1       1                     Behr, Mr. Karl Howell   \n",
       "890          891         0       3                       Dooley, Mr. Patrick   \n",
       "\n",
       "        Sex   Age  SibSp  Parch      Ticket   Fare Cabin Embarked  \n",
       "886    male  27.0      0      0      211536  13.00   NaN        S  \n",
       "887  female  19.0      0      0      112053  30.00   B42        S  \n",
       "888  female   NaN      1      2  W./C. 6607  23.45   NaN        S  \n",
       "889    male  26.0      0      0      111369  30.00  C148        C  \n",
       "890    male  32.0      0      0      370376   7.75   NaN        Q  "
      ]
     },
     "execution_count": 29,
     "metadata": {},
     "output_type": "execute_result"
    }
   ],
   "source": [
    "data.tail()"
   ]
  },
  {
   "cell_type": "markdown",
   "id": "552dbb73-f660-4087-a3d3-310929960881",
   "metadata": {},
   "source": [
    "<br>"
   ]
  },
  {
   "cell_type": "markdown",
   "id": "cf99a4e7-1d41-48a9-af54-1d5320494d85",
   "metadata": {},
   "source": [
    "### c. Get DataFrame Information -> info()\n",
    "The `info()` method gives us the overall information about the DataFrame such as its class, data type, size etc."
   ]
  },
  {
   "cell_type": "code",
   "execution_count": 30,
   "id": "295b1e9e-4559-42ee-8a4b-dcbbf7753175",
   "metadata": {},
   "outputs": [
    {
     "name": "stdout",
     "output_type": "stream",
     "text": [
      "<class 'pandas.core.frame.DataFrame'>\n",
      "RangeIndex: 891 entries, 0 to 890\n",
      "Data columns (total 12 columns):\n",
      " #   Column       Non-Null Count  Dtype  \n",
      "---  ------       --------------  -----  \n",
      " 0   PassengerId  891 non-null    int64  \n",
      " 1   Survived     891 non-null    int64  \n",
      " 2   Pclass       891 non-null    int64  \n",
      " 3   Name         891 non-null    object \n",
      " 4   Sex          891 non-null    object \n",
      " 5   Age          714 non-null    float64\n",
      " 6   SibSp        891 non-null    int64  \n",
      " 7   Parch        891 non-null    int64  \n",
      " 8   Ticket       891 non-null    object \n",
      " 9   Fare         891 non-null    float64\n",
      " 10  Cabin        204 non-null    object \n",
      " 11  Embarked     889 non-null    object \n",
      "dtypes: float64(2), int64(5), object(5)\n",
      "memory usage: 83.7+ KB\n"
     ]
    }
   ],
   "source": [
    "data.info()"
   ]
  },
  {
   "cell_type": "markdown",
   "id": "cfe60f66-9c2a-4e86-bcd6-60bdcf932501",
   "metadata": {},
   "source": [
    "<br><br>"
   ]
  },
  {
   "cell_type": "markdown",
   "id": "963ea3de-8705-4d89-b1d5-35f1ae260dcd",
   "metadata": {},
   "source": [
    "## 2. Pandas DataFrmae Manipulation\n",
    "DataFrame manipulation in Pandas involves editing and modifying existing DataFrames. Some common DataFrame manipulation operations are:\n",
    "- Adding rows/columns\n",
    "- Removing rows/columns\n",
    "- Renaming rows/columns"
   ]
  },
  {
   "cell_type": "code",
   "execution_count": null,
   "id": "644fd0a8-fe62-4135-8596-b701b64a27ea",
   "metadata": {},
   "outputs": [],
   "source": []
  }
 ],
 "metadata": {
  "kernelspec": {
   "display_name": "Python 3 (ipykernel)",
   "language": "python",
   "name": "python3"
  },
  "language_info": {
   "codemirror_mode": {
    "name": "ipython",
    "version": 3
   },
   "file_extension": ".py",
   "mimetype": "text/x-python",
   "name": "python",
   "nbconvert_exporter": "python",
   "pygments_lexer": "ipython3",
   "version": "3.12.2"
  }
 },
 "nbformat": 4,
 "nbformat_minor": 5
}
