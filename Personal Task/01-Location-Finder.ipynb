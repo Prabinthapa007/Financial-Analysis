{
 "cells": [
  {
   "cell_type": "code",
   "execution_count": 2,
   "id": "be760e6a-7d14-4b86-9e07-aace6c53f9ed",
   "metadata": {},
   "outputs": [
    {
     "name": "stdout",
     "output_type": "stream",
     "text": [
      "Collecting phonenumbers\n",
      "  Downloading phonenumbers-8.13.36-py2.py3-none-any.whl.metadata (11 kB)\n",
      "Downloading phonenumbers-8.13.36-py2.py3-none-any.whl (2.6 MB)\n",
      "   ---------------------------------------- 0.0/2.6 MB ? eta -:--:--\n",
      "   ---------------------------------------- 0.0/2.6 MB ? eta -:--:--\n",
      "   ---------------------------------------- 0.0/2.6 MB 330.3 kB/s eta 0:00:08\n",
      "   ---------------------------------------- 0.0/2.6 MB 330.3 kB/s eta 0:00:08\n",
      "   ---------------------------------------- 0.0/2.6 MB 163.8 kB/s eta 0:00:16\n",
      "    --------------------------------------- 0.1/2.6 MB 262.6 kB/s eta 0:00:10\n",
      "   - -------------------------------------- 0.1/2.6 MB 392.2 kB/s eta 0:00:07\n",
      "   -- ------------------------------------- 0.1/2.6 MB 462.0 kB/s eta 0:00:06\n",
      "   -- ------------------------------------- 0.2/2.6 MB 546.6 kB/s eta 0:00:05\n",
      "   ---- ----------------------------------- 0.3/2.6 MB 682.7 kB/s eta 0:00:04\n",
      "   ---- ----------------------------------- 0.3/2.6 MB 706.2 kB/s eta 0:00:04\n",
      "   ----- ---------------------------------- 0.4/2.6 MB 786.0 kB/s eta 0:00:03\n",
      "   ------- -------------------------------- 0.5/2.6 MB 932.7 kB/s eta 0:00:03\n",
      "   ---------- ----------------------------- 0.7/2.6 MB 1.1 MB/s eta 0:00:02\n",
      "   ------------ --------------------------- 0.8/2.6 MB 1.3 MB/s eta 0:00:02\n",
      "   ------------------ --------------------- 1.2/2.6 MB 1.7 MB/s eta 0:00:01\n",
      "   ------------------------ --------------- 1.6/2.6 MB 2.1 MB/s eta 0:00:01\n",
      "   ------------------------------ --------- 2.0/2.6 MB 2.5 MB/s eta 0:00:01\n",
      "   -------------------------------------- - 2.5/2.6 MB 2.9 MB/s eta 0:00:01\n",
      "   ---------------------------------------  2.6/2.6 MB 2.9 MB/s eta 0:00:01\n",
      "   ---------------------------------------  2.6/2.6 MB 2.9 MB/s eta 0:00:01\n",
      "   ---------------------------------------  2.6/2.6 MB 2.9 MB/s eta 0:00:01\n",
      "   ---------------------------------------- 2.6/2.6 MB 2.5 MB/s eta 0:00:00\n",
      "Installing collected packages: phonenumbers\n",
      "Successfully installed phonenumbers-8.13.36\n"
     ]
    }
   ],
   "source": [
    "!pip install phonenumbers"
   ]
  },
  {
   "cell_type": "code",
   "execution_count": 3,
   "id": "eab73afc-89b0-4bf8-9722-eefc9f6fe64a",
   "metadata": {},
   "outputs": [],
   "source": [
    "import phonenumbers\n",
    "from phonenumbers import geocoder"
   ]
  },
  {
   "cell_type": "code",
   "execution_count": 6,
   "id": "6f9f73b9-e7f9-4503-801a-e6ba29853921",
   "metadata": {},
   "outputs": [
    {
     "name": "stdout",
     "output_type": "stream",
     "text": [
      "\n",
      "Phone Numbers Location\n",
      "\n",
      "Nepal\n",
      "Nepal\n",
      "Ontario\n"
     ]
    }
   ],
   "source": [
    "phone_number1 = phonenumbers.parse(\"+9779861033323\")\n",
    "phone_number2 = phonenumbers.parse(\"+9779817117756\")\n",
    "phone_number3 = phonenumbers.parse(\"+17057954336\")\n",
    "\n",
    "print(\"\\nPhone Numbers Location\\n\")\n",
    "print(geocoder.description_for_number(phone_number1, \"en\"))\n",
    "print(geocoder.description_for_number(phone_number2, \"en\"))\n",
    "print(geocoder.description_for_number(phone_number3, \"en\"))"
   ]
  },
  {
   "cell_type": "code",
   "execution_count": 7,
   "id": "831504c7-a7d3-4d38-8d5c-3eaef76b59b7",
   "metadata": {},
   "outputs": [
    {
     "ename": "ModuleNotFoundError",
     "evalue": "No module named 'twilio'",
     "output_type": "error",
     "traceback": [
      "\u001b[1;31m---------------------------------------------------------------------------\u001b[0m",
      "\u001b[1;31mModuleNotFoundError\u001b[0m                       Traceback (most recent call last)",
      "Cell \u001b[1;32mIn[7], line 1\u001b[0m\n\u001b[1;32m----> 1\u001b[0m \u001b[38;5;28;01mfrom\u001b[39;00m \u001b[38;5;21;01mtwilio\u001b[39;00m\u001b[38;5;21;01m.\u001b[39;00m\u001b[38;5;21;01mrest\u001b[39;00m \u001b[38;5;28;01mimport\u001b[39;00m Client\n\u001b[0;32m      3\u001b[0m \u001b[38;5;66;03m# Twilio credentials\u001b[39;00m\n\u001b[0;32m      4\u001b[0m account_sid \u001b[38;5;241m=\u001b[39m \u001b[38;5;124m'\u001b[39m\u001b[38;5;124myour_account_sid\u001b[39m\u001b[38;5;124m'\u001b[39m\n",
      "\u001b[1;31mModuleNotFoundError\u001b[0m: No module named 'twilio'"
     ]
    }
   ],
   "source": [
    "from twilio.rest import Client\n",
    "\n",
    "# Twilio credentials\n",
    "account_sid = 'your_account_sid'\n",
    "auth_token = 'your_auth_token'\n",
    "\n",
    "client = Client(account_sid, auth_token)\n",
    "\n",
    "phone_numbers = [\"+9779861033323\", \"+9779817117756\", \"+17057954336\"]\n",
    "\n",
    "for phone_number in phone_numbers:\n",
    "    number = client.lookups.phone_numbers(phone_number).fetch(type=['carrier', 'caller-name'])\n",
    "    print(f\"\\nDetails for {phone_number}:\")\n",
    "    print(f\"Country: {number.country_code}\")\n",
    "    print(f\"Carrier: {number.carrier['name']}\")\n",
    "    print(f\"Caller Name: {number.caller_name}\")\n",
    "    print(f\"Line type: {number.carrier['type']}\")\n",
    "\n",
    "# Note: Replace 'your_account_sid' and 'your_auth_token' with your actual Twilio credentials."
   ]
  },
  {
   "cell_type": "code",
   "execution_count": 9,
   "id": "a4da15cb-85e1-42ce-a4fd-a497f0236cba",
   "metadata": {},
   "outputs": [
    {
     "name": "stdout",
     "output_type": "stream",
     "text": [
      "Collecting geopy\n",
      "  Downloading geopy-2.4.1-py3-none-any.whl.metadata (6.8 kB)\n",
      "Collecting geographiclib<3,>=1.52 (from geopy)\n",
      "  Downloading geographiclib-2.0-py3-none-any.whl.metadata (1.4 kB)\n",
      "Downloading geopy-2.4.1-py3-none-any.whl (125 kB)\n",
      "   ---------------------------------------- 0.0/125.4 kB ? eta -:--:--\n",
      "   ---------------------------------------- 0.0/125.4 kB ? eta -:--:--\n",
      "   --- ------------------------------------ 10.2/125.4 kB ? eta -:--:--\n",
      "   --- ------------------------------------ 10.2/125.4 kB ? eta -:--:--\n",
      "   --------- ----------------------------- 30.7/125.4 kB 330.3 kB/s eta 0:00:01\n",
      "   ------------ -------------------------- 41.0/125.4 kB 245.8 kB/s eta 0:00:01\n",
      "   ---------------------- ---------------- 71.7/125.4 kB 393.8 kB/s eta 0:00:01\n",
      "   -------------------------------------  122.9/125.4 kB 554.9 kB/s eta 0:00:01\n",
      "   -------------------------------------  122.9/125.4 kB 554.9 kB/s eta 0:00:01\n",
      "   -------------------------------------  122.9/125.4 kB 554.9 kB/s eta 0:00:01\n",
      "   -------------------------------------- 125.4/125.4 kB 351.2 kB/s eta 0:00:00\n",
      "Downloading geographiclib-2.0-py3-none-any.whl (40 kB)\n",
      "   ---------------------------------------- 0.0/40.3 kB ? eta -:--:--\n",
      "   ------------------------------ --------- 30.7/40.3 kB ? eta -:--:--\n",
      "   ---------------------------------------- 40.3/40.3 kB 640.1 kB/s eta 0:00:00\n",
      "Installing collected packages: geographiclib, geopy\n",
      "Successfully installed geographiclib-2.0 geopy-2.4.1\n"
     ]
    }
   ],
   "source": [
    "!pip install geopy"
   ]
  },
  {
   "cell_type": "code",
   "execution_count": 10,
   "id": "b06667a9-1b01-4313-8cd2-974138991891",
   "metadata": {},
   "outputs": [
    {
     "name": "stdout",
     "output_type": "stream",
     "text": [
      "\n",
      "Phone Numbers Location\n",
      "\n",
      "नेपाल\n",
      "नेपाल\n",
      "Ontario, Canada\n"
     ]
    }
   ],
   "source": [
    "import phonenumbers\n",
    "from phonenumbers import geocoder\n",
    "from geopy.geocoders import Nominatim\n",
    "\n",
    "# Parse phone numbers\n",
    "phone_number1 = phonenumbers.parse(\"+9779861033323\")\n",
    "phone_number2 = phonenumbers.parse(\"+9779817117756\")\n",
    "phone_number3 = phonenumbers.parse(\"+17057954336\")\n",
    "\n",
    "# Initialize geolocator\n",
    "geolocator = Nominatim(user_agent=\"phone_number_locator\")\n",
    "\n",
    "# Function to get detailed location\n",
    "def get_detailed_location(phone_number):\n",
    "    country = geocoder.country_name_for_number(phone_number, \"en\")\n",
    "    description = geocoder.description_for_number(phone_number, \"en\")\n",
    "    if country and description:\n",
    "        location = geolocator.geocode(f\"{description}, {country}\")\n",
    "        if location:\n",
    "            return location.address\n",
    "    return \"Location not found\"\n",
    "\n",
    "# Print phone numbers' locations\n",
    "print(\"\\nPhone Numbers Location\\n\")\n",
    "print(get_detailed_location(phone_number1))\n",
    "print(get_detailed_location(phone_number2))\n",
    "print(get_detailed_location(phone_number3))"
   ]
  },
  {
   "cell_type": "code",
   "execution_count": null,
   "id": "6cc96590-e13e-47bc-9116-2d6e4428775b",
   "metadata": {},
   "outputs": [],
   "source": []
  }
 ],
 "metadata": {
  "kernelspec": {
   "display_name": "Python 3 (ipykernel)",
   "language": "python",
   "name": "python3"
  },
  "language_info": {
   "codemirror_mode": {
    "name": "ipython",
    "version": 3
   },
   "file_extension": ".py",
   "mimetype": "text/x-python",
   "name": "python",
   "nbconvert_exporter": "python",
   "pygments_lexer": "ipython3",
   "version": "3.12.2"
  }
 },
 "nbformat": 4,
 "nbformat_minor": 5
}
