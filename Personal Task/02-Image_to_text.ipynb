{
 "cells": [
  {
   "cell_type": "code",
   "execution_count": 4,
   "id": "38a590a3-2bf6-45c2-a75f-9f94c5edfd44",
   "metadata": {},
   "outputs": [],
   "source": [
    "import pytesseract as tess\n",
    "tess.pytesseract.tesseract_cmd = r'C:\\\\Users\\\\Prabin\\\\Tesseract-OCR\\\\tesseract'\n",
    "from PIL import Image"
   ]
  },
  {
   "cell_type": "code",
   "execution_count": 5,
   "id": "fb590bea-9e05-497c-bda2-8012943cb396",
   "metadata": {},
   "outputs": [
    {
     "name": "stdout",
     "output_type": "stream",
     "text": [
      "1.ChatGPT: The OG large language model (LLM)\n",
      "\n",
      "2. Midjourney: Text-to-image tool built in discord\n",
      "\n",
      "3.Runway: Text-to-video in real-time\n",
      "\n",
      "4. Perpiexity: LLM for research\n",
      "\n",
      "5. -levenLabs: Text-to-speech and voice-cloning\n",
      "\n",
      "6.BabyAGI: Opensource Al-powered task manager\n",
      "\n",
      "7.Jasper: Generate branded copy from s from\n",
      "\n",
      "8.CopyAl: Compose text faster\n",
      "\n",
      "9.Claude: Al-assistant for tasks\n",
      "10. Krisp: Removes background noise from sound files\n",
      "11. Notion Al: Summarize items with a single click\n",
      "12.Llama 2: LLM that leverages public datasets\n",
      "13.Voicemod: Transform your voice in real-time\n",
      "14.Grammarly: Speed up and enhance your writing\n",
      "15.Whisper: OpenAl's automatic speech recognition\n",
      "16.AgentGPT: Assemble, configure, and deploy Al agents\n",
      "17.Zapier: Automate your work without code\n",
      "18.Writesonic: Create SEO-friendly content\n",
      "19. Bard: Your creative and helpful collaborator\n",
      "\n"
     ]
    }
   ],
   "source": [
    "# https://github.com/tesseract-ocr/tesseract\n",
    "\n",
    "image = Image.open('image1.jpg')\n",
    "text = tess.image_to_string(image)\n",
    "\n",
    "print(text)"
   ]
  },
  {
   "cell_type": "code",
   "execution_count": null,
   "id": "bc6f674e-2a39-4357-9602-7d1c18721485",
   "metadata": {},
   "outputs": [],
   "source": []
  }
 ],
 "metadata": {
  "kernelspec": {
   "display_name": "Python 3 (ipykernel)",
   "language": "python",
   "name": "python3"
  },
  "language_info": {
   "codemirror_mode": {
    "name": "ipython",
    "version": 3
   },
   "file_extension": ".py",
   "mimetype": "text/x-python",
   "name": "python",
   "nbconvert_exporter": "python",
   "pygments_lexer": "ipython3",
   "version": "3.12.2"
  }
 },
 "nbformat": 4,
 "nbformat_minor": 5
}
