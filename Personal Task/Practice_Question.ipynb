{
 "cells": [
  {
   "cell_type": "markdown",
   "id": "37ccc62a-6ac3-4736-bc5e-0eb4f575218c",
   "metadata": {},
   "source": [
    "## *args and **kwargs"
   ]
  },
  {
   "cell_type": "markdown",
   "id": "5323f461-f4ff-440e-a6ae-de60e7f71557",
   "metadata": {},
   "source": [
    "#### Q1: \n",
    "`[*args]` Write a Python function that takes an arbitrary number of positional arguments and returns the sum of all the numbers. Test your function with various input cases."
   ]
  },
  {
   "cell_type": "code",
   "execution_count": 9,
   "id": "c9c1cca2-536a-4d31-b14d-98ac0f21214a",
   "metadata": {},
   "outputs": [],
   "source": [
    "def summation(*args):\n",
    "    return sum(args)"
   ]
  },
  {
   "cell_type": "code",
   "execution_count": 12,
   "id": "c590fcc8-980e-4a1e-9c9d-14fc5657b0b0",
   "metadata": {},
   "outputs": [
    {
     "name": "stdout",
     "output_type": "stream",
     "text": [
      "21\n",
      "121\n"
     ]
    }
   ],
   "source": [
    "print(summation(2, 3, 4, 5, 7))\n",
    "print(summation(22, 22, 32, 45))"
   ]
  },
  {
   "cell_type": "markdown",
   "id": "f846059e-4d62-459e-b35c-51e7a8c65880",
   "metadata": {},
   "source": [
    "#### Q2:\n",
    "`[*args]` Write a Python function `concat_strings` that takes any number of strings as arguments and returns a single concatenated string."
   ]
  },
  {
   "cell_type": "code",
   "execution_count": 24,
   "id": "f02b8ac5-00aa-47ec-8af2-1d62704d5c28",
   "metadata": {},
   "outputs": [
    {
     "data": {
      "text/plain": [
       "'Hello World. My name is Bob.'"
      ]
     },
     "execution_count": 24,
     "metadata": {},
     "output_type": "execute_result"
    }
   ],
   "source": [
    "def concat_strings(*args):\n",
    "    return (\" \".join(args))\n",
    "concat_strings(\"Hello\",\"World.\", \"My\", \"name\", \"is\", \"Bob.\")"
   ]
  },
  {
   "cell_type": "markdown",
   "id": "d39e9f76-aa54-4772-948f-ff3160e4fbfc",
   "metadata": {},
   "source": [
    "#### Q3:\n",
    "`[**kwargs]` Write a Python function `calculate_total_cost` that calculates the total cost of items purchased from a store. The function should accept multiple keyword arguments, where the key is the item name, and the value is the item's price. The function should return the total cost of all items."
   ]
  },
  {
   "cell_type": "code",
   "execution_count": 53,
   "id": "6d9decd0-531c-4822-9415-f19356b0e4b4",
   "metadata": {},
   "outputs": [
    {
     "data": {
      "text/plain": [
       "3700"
      ]
     },
     "execution_count": 53,
     "metadata": {},
     "output_type": "execute_result"
    }
   ],
   "source": [
    "def calculate_total_cost(**kwargs):\n",
    "    return sum(price for price in kwargs.values())\n",
    "\n",
    "calculate_total_cost(Shoe= 1000, Pant= 1900, Shirt= 800)"
   ]
  },
  {
   "cell_type": "markdown",
   "id": "249d852e-e4bf-4e39-b5dd-bdf150957714",
   "metadata": {},
   "source": [
    "#### Q4:\n",
    "`[**kwargs]` Create a function `create_student_report` that takes the student's name as the first argument, the student's age as the second argument, and an arbitrary number of keyword arguments for the subjects and their respective scores. The function should return a dictionary with the student's information and a list of subjects along with their scores."
   ]
  },
  {
   "cell_type": "code",
   "execution_count": 70,
   "id": "5341fff5-a04f-4b96-bcf3-2e15cde7da33",
   "metadata": {},
   "outputs": [],
   "source": [
    "def create_student_report(student_name, student_age, **kwargs):\n",
    "    report = {\n",
    "        \"name\": student_name,\n",
    "        \"age\": student_age,\n",
    "        \"subjects\": kwargs\n",
    "    }\n",
    "    return report\n",
    "\n"
   ]
  },
  {
   "cell_type": "code",
   "execution_count": 71,
   "id": "05da8eae-11ff-4d2c-9122-1e428b8a092c",
   "metadata": {},
   "outputs": [
    {
     "name": "stdout",
     "output_type": "stream",
     "text": [
      "{'name': 'Prabin', 'age': 22, 'subjects': {'Math': 80, 'Science': 90, 'History': 88}}\n"
     ]
    }
   ],
   "source": [
    "student1 = create_student_report(\"Prabin\", 22, Math=80, Science=90, History=88)\n",
    "print(student1)"
   ]
  },
  {
   "cell_type": "markdown",
   "id": "0e2c553c-3ab6-4d69-b643-6b2731887844",
   "metadata": {},
   "source": [
    "<br><br>"
   ]
  },
  {
   "cell_type": "markdown",
   "id": "d0a6d6e1-5b1b-4d11-91ec-f8b07480eba5",
   "metadata": {},
   "source": [
    "### Map, Filter, and Reduce"
   ]
  },
  {
   "cell_type": "markdown",
   "id": "296f1502-2635-4b03-921f-d27b2c1593df",
   "metadata": {},
   "source": [
    "#### Q1:\n",
    "`[map]` Write a Python function `square_numbers` that takes a list of integers as input and uses the map function to return a new list containing the square of each element."
   ]
  },
  {
   "cell_type": "code",
   "execution_count": 8,
   "id": "d7f10737-760f-46d1-90ae-aba7ce09bf9f",
   "metadata": {},
   "outputs": [
    {
     "name": "stdout",
     "output_type": "stream",
     "text": [
      "[4, 16, 36]\n"
     ]
    }
   ],
   "source": [
    "def square_numbers(lst):\n",
    "    new_list = list(map(lambda x: x**2, lst))\n",
    "    return new_list\n",
    "\n",
    "result = square_numbers([2, 4, 6])\n",
    "print(result)"
   ]
  },
  {
   "cell_type": "markdown",
   "id": "17134687-9abd-4e92-a01b-002651f52e04",
   "metadata": {},
   "source": [
    "#### Q2:\n",
    "`[map]` Create a function `convert_to_uppercase` that takes a list of strings as input and uses the `map function` to return a new list with all the strings converted to uppercase."
   ]
  },
  {
   "cell_type": "code",
   "execution_count": 12,
   "id": "a11ba67d-757b-42a7-b21d-04cad4b82144",
   "metadata": {},
   "outputs": [
    {
     "data": {
      "text/plain": [
       "['HELLO', 'HI', 'BURN']"
      ]
     },
     "execution_count": 12,
     "metadata": {},
     "output_type": "execute_result"
    }
   ],
   "source": [
    "def convert_to_uppercase(lst):\n",
    "    new_list = list(map(lambda x: x.upper(), lst))\n",
    "    return new_list\n",
    "convert_to_uppercase([\"hello\", \"hi\", \"burn\"])"
   ]
  },
  {
   "cell_type": "markdown",
   "id": "45b74f5d-938c-4c7e-900e-9800bf3bcae4",
   "metadata": {},
   "source": [
    "#### Q3: \n",
    "Add two List using `map` and `lambda`"
   ]
  },
  {
   "cell_type": "code",
   "execution_count": 14,
   "id": "6f476ecf-22af-4428-9c37-373da09f8c1c",
   "metadata": {},
   "outputs": [
    {
     "name": "stdout",
     "output_type": "stream",
     "text": [
      "[3, 5, 7]\n"
     ]
    }
   ],
   "source": [
    "list1 = [1, 2, 3]\n",
    "list2 = [2, 3, 4]\n",
    "result = list(map(lambda x, y: x + y, list1, list2))\n",
    "print(result)"
   ]
  },
  {
   "cell_type": "markdown",
   "id": "65bee238-3df0-453a-944f-4cea767856b5",
   "metadata": {},
   "source": [
    "#### Q4: \n",
    "`[filter]` Implement a function called `filter_prime_numbers` that takes a list of integers as input and uses the filter function to return a new list containing only the prime numbers."
   ]
  },
  {
   "cell_type": "code",
   "execution_count": 28,
   "id": "bb7a2dda-3a0d-4ec1-a3d7-9fa4c5606cd9",
   "metadata": {},
   "outputs": [
    {
     "data": {
      "text/plain": [
       "[2, 5, 11]"
      ]
     },
     "execution_count": 28,
     "metadata": {},
     "output_type": "execute_result"
    }
   ],
   "source": [
    "def is_prime(n):\n",
    "    if n<= 1:\n",
    "        return False\n",
    "    elif n==2:\n",
    "        return True\n",
    "    elif n%2==0:\n",
    "        return False\n",
    "    max_divisor = int(n ** 0.5) + 1\n",
    "    for d in range(2, max_divisor):\n",
    "        if n%d == 0:\n",
    "            return False\n",
    "    return True\n",
    "\n",
    "def filter_prime_numbers(lst):\n",
    "    result = list(filter(is_prime, lst))\n",
    "    return result\n",
    "filter_prime_numbers([1, 2, 4, 5, 6, 8, 9, 10, 11])"
   ]
  },
  {
   "cell_type": "markdown",
   "id": "6c1b382e-4a5d-4724-b18a-8880d8771c62",
   "metadata": {},
   "source": [
    "#### Q5:\n",
    "`[filter]` Write a Python function `filter_long_strings` that takes a list of strings as input and uses the filter function to return a new list containing strings with more than 5 characters."
   ]
  },
  {
   "cell_type": "code",
   "execution_count": 43,
   "id": "e917a8cc-43ea-4c07-b8bd-82465bd3cd63",
   "metadata": {},
   "outputs": [
    {
     "name": "stdout",
     "output_type": "stream",
     "text": [
      "['Foolish', 'Stylish']\n"
     ]
    }
   ],
   "source": [
    "def filter_long_strings(lst):\n",
    "    new_lst = list(filter(lambda x: len(x)>5, lst))\n",
    "    return new_lst\n",
    "\n",
    "result = filter_long_strings([\"Foolish\", \"Stylish\", \"ok\", \"no\"])\n",
    "print(result)"
   ]
  },
  {
   "cell_type": "markdown",
   "id": "dd41a95b-7e87-400e-bd64-21b165b9d458",
   "metadata": {},
   "source": [
    "#### Q6: \n",
    "`[filter]` Write a Python function `filter_odd_even` that takes a list of numbers as input and uses the filter function to return a new list containing numbers with even numbers only."
   ]
  },
  {
   "cell_type": "code",
   "execution_count": 44,
   "id": "0ba9a358-b0c3-46e3-8977-5a96622fc8b7",
   "metadata": {},
   "outputs": [
    {
     "name": "stdout",
     "output_type": "stream",
     "text": [
      "[2, 4, 6, 8]\n"
     ]
    }
   ],
   "source": [
    "def filter_odd_even(lst):\n",
    "    new_lst = list(filter(lambda x: x%2==0, lst))\n",
    "    return new_lst\n",
    "\n",
    "result = filter_odd_even([1, 2, 3, 4, 5, 6, 7, 8])\n",
    "print(result)"
   ]
  },
  {
   "cell_type": "markdown",
   "id": "854b3c47-69d5-48e8-b979-b33d066774ee",
   "metadata": {},
   "source": [
    "#### Q7:\n",
    "`[filter]` Write a Python function `filter_multiple_3` that takes a list of numbers as input and uses the filter function to return a new list containing numbers with even numbers only."
   ]
  },
  {
   "cell_type": "code",
   "execution_count": 45,
   "id": "44e95cee-df88-4747-be59-d2e69913706d",
   "metadata": {},
   "outputs": [
    {
     "data": {
      "text/plain": [
       "[3, 6, 9, 12, 15]"
      ]
     },
     "execution_count": 45,
     "metadata": {},
     "output_type": "execute_result"
    }
   ],
   "source": [
    "def filter_multiple_3(lst):\n",
    "    new_lst = list(filter(lambda x: x%3==0, lst))\n",
    "    return new_lst\n",
    "\n",
    "filter_multiple_3([1,2,3, 4,5,6,7,8,9,10,11,12,13,14,15])"
   ]
  },
  {
   "cell_type": "markdown",
   "id": "7e42e14b-ecfb-405f-96e4-54a2c55600fa",
   "metadata": {},
   "source": [
    "#### Q8:\n",
    "`[reduce]` Write a Python function `calculate_factorial` that takes an integer as input and uses the reduce function to return the factorial of that number."
   ]
  },
  {
   "cell_type": "code",
   "execution_count": 60,
   "id": "d894118c-7b47-4ce9-9d0f-4b8061aaf68f",
   "metadata": {},
   "outputs": [
    {
     "data": {
      "text/plain": [
       "1"
      ]
     },
     "execution_count": 60,
     "metadata": {},
     "output_type": "execute_result"
    }
   ],
   "source": [
    "import functools\n",
    "def calculate_factorial(n):\n",
    "    return functools.reduce(lambda x, y: x*y, range(1, n+1), 1)\n",
    "\n",
    "calculate_factorial(0)"
   ]
  },
  {
   "cell_type": "markdown",
   "id": "db7c9334-cc91-4b1b-91da-64d6f42d0e5e",
   "metadata": {},
   "source": [
    "#### Q9:\n",
    "`[reduce]` Implement a function called `concatenate_strings` that takes a list of strings as input and uses the reduce function to return a single string containing the concatenation of all the elements."
   ]
  },
  {
   "cell_type": "code",
   "execution_count": 66,
   "id": "2edd47ab-9cd8-41b0-b969-bc585b1c2a1e",
   "metadata": {},
   "outputs": [
    {
     "data": {
      "text/plain": [
       "'HelloWorld!MyName'"
      ]
     },
     "execution_count": 66,
     "metadata": {},
     "output_type": "execute_result"
    }
   ],
   "source": [
    "import functools\n",
    "def concatenate_strings(lst):\n",
    "    return functools.reduce(lambda x, y: x + y, lst)\n",
    "\n",
    "concatenate_strings([\"Hello\", \"World!\", \"My\", \"Name\"])"
   ]
  },
  {
   "cell_type": "markdown",
   "id": "9bbb7950-7c36-4d49-a73b-54f342112107",
   "metadata": {},
   "source": [
    "<br><br>"
   ]
  },
  {
   "cell_type": "markdown",
   "id": "b91039c5-3d37-4878-a657-eea4dd7be59b",
   "metadata": {},
   "source": [
    "## Ternary Operators\n",
    "Ternary operators, also known as conditional expressions, are operators that evaluate a condition as true or false and then return a value based on that condition. In Python, the syntax for a ternary operator is:\n",
    "\n",
    "```python\n",
    "value_if_true if condition else value_if_false\r\n"
   ]
  },
  {
   "cell_type": "markdown",
   "id": "58c32e6f-6b8e-4209-8baa-698d2602fd42",
   "metadata": {},
   "source": [
    "#### Q1:\n",
    "Write a Python function called `check_odd_even` that takes an integer as input and uses a ternary operator to return \"Even\" if the number is even, and \"Odd\" if the number is odd"
   ]
  },
  {
   "cell_type": "code",
   "execution_count": 74,
   "id": "f9175568-431b-4459-b461-6ec4bb746382",
   "metadata": {},
   "outputs": [
    {
     "data": {
      "text/plain": [
       "['Odd', 'Even', 'Odd']"
      ]
     },
     "execution_count": 74,
     "metadata": {},
     "output_type": "execute_result"
    }
   ],
   "source": [
    "def check_odd_even(lst):\n",
    "    for i in lst:\n",
    "        return [\"Even\" if i%2==0 else \"Odd\" for i in lst]\n",
    "\n",
    "check_odd_even([1,2,3])"
   ]
  },
  {
   "cell_type": "markdown",
   "id": "cd55413c-f861-48fd-a26c-2f3af658df7c",
   "metadata": {},
   "source": [
    "#### Q2:\n",
    "Create a Python function `check_leap_year` that takes a year as input and uses a ternary operator to determine if it's a leap year. Return \"Leap Year\" if it is, otherwise \"Not a Leap Year.\" (A leap year is divisible by 4, except for years divisible by 100 but not divisible by 400)."
   ]
  },
  {
   "cell_type": "code",
   "execution_count": 80,
   "id": "730cfe32-d0ba-4a23-9792-e9eee41d2f30",
   "metadata": {},
   "outputs": [
    {
     "name": "stdout",
     "output_type": "stream",
     "text": [
      "Leap Year\n",
      "Leap Year\n",
      "Not a Leap Year\n",
      "Not a Leap Year\n",
      "Leap Year\n"
     ]
    }
   ],
   "source": [
    "def check_leap_year(years):\n",
    "    return [\"Leap Year\" if i%4==0 else \"Not a Leap Year\" for i in years]\n",
    "\n",
    "result = check_leap_year([2004, 2000, 2001, 2005, 2008])\n",
    "for re in result:\n",
    "    print(re)"
   ]
  },
  {
   "cell_type": "markdown",
   "id": "4923bdd8-99c9-4b81-8ea9-7dbf016c332b",
   "metadata": {},
   "source": [
    "#### Q3:\n",
    "Write a function `find_bigger_number` that takes three integers as input and uses a ternary operator to return the larger number. If all numbers are equal, return \"Equal.\""
   ]
  },
  {
   "cell_type": "code",
   "execution_count": 91,
   "id": "36c94733-df46-4b2f-a41a-ad3b9afb3dde",
   "metadata": {},
   "outputs": [
    {
     "name": "stdout",
     "output_type": "stream",
     "text": [
      "1900\n"
     ]
    }
   ],
   "source": [
    "def find_bigger_number(lst):\n",
    "    max_num = max(lst)\n",
    "    return \"Equal\" if all(num == max_num for num in lst) else max_num\n",
    "\n",
    "result = find_bigger_number([1800, 1900, 200])\n",
    "print(result)"
   ]
  },
  {
   "cell_type": "markdown",
   "id": "58e8081e-bc8a-44d1-bea9-70074e9b712e",
   "metadata": {},
   "source": [
    "<br><br>"
   ]
  },
  {
   "cell_type": "markdown",
   "id": "0c862a88-77aa-457c-9924-8f58827a5b42",
   "metadata": {},
   "source": [
    "## Comprehension \n",
    "`(list comprehension, dict comprehension, set comprehension)`"
   ]
  },
  {
   "cell_type": "markdown",
   "id": "a95d4bf0-cf90-47f4-9b27-0dbd90ae76db",
   "metadata": {},
   "source": [
    "#### Q1:\n",
    "`[list comprehension]` Given a list of strings, create a new list that contains only the strings with more than 5 characters using list comprehension."
   ]
  },
  {
   "cell_type": "code",
   "execution_count": 99,
   "id": "f0746294-c5e3-49bf-8f3c-e8a21fcc414c",
   "metadata": {},
   "outputs": [
    {
     "name": "stdout",
     "output_type": "stream",
     "text": [
      "['Banana', 'Sprite']\n"
     ]
    }
   ],
   "source": [
    "string_list = [\"Apple\", \"Banana\", \"Coke\", \"Sprite\", \"Nice\"]\n",
    "new_list = [s for s in string_list if len(s)>5]\n",
    "print(new_list)"
   ]
  },
  {
   "cell_type": "markdown",
   "id": "a8a4de0e-cc1b-44f9-9bf9-55a7de1c105a",
   "metadata": {},
   "source": [
    "#### Q2:\n",
    "`[list comprehension]` Given two lists of integers, create a list that contains the product of each element of the first list with the corresponding element in the second list using list comprehension."
   ]
  },
  {
   "cell_type": "code",
   "execution_count": 103,
   "id": "c1771330-ffce-4673-bfd8-817ecc84a0d3",
   "metadata": {},
   "outputs": [
    {
     "name": "stdout",
     "output_type": "stream",
     "text": [
      "[2, 6, 12]\n"
     ]
    }
   ],
   "source": [
    "list1 = [1, 2, 3]\n",
    "list2= [2, 3, 4]\n",
    "new_list = [x * y for x,y  in zip(list1, list2)]\n",
    "print(new_list)"
   ]
  },
  {
   "cell_type": "markdown",
   "id": "d89d4286-5747-4e7a-9ddb-6d65f80b2b3d",
   "metadata": {},
   "source": [
    "#### Q3:\n",
    "`[list comprehension]` Given three lists list1, list2, and list3, each containing integers, write a Python program using list comprehension to generate a new list of unique triplets (x, y, z) where x is from list1, y is from list2, and z is from list3, such that x + y + z = 0."
   ]
  },
  {
   "cell_type": "code",
   "execution_count": 117,
   "id": "331c7704-88bd-46bc-af94-7e516d9d9f58",
   "metadata": {},
   "outputs": [
    {
     "name": "stdout",
     "output_type": "stream",
     "text": [
      "{12, 13, 14, 15, 16, 17, 18, 19}\n"
     ]
    }
   ],
   "source": [
    "list1 = [1, 2, 3, 1, 2, 4]\n",
    "list2 = [4, 5, 6, 4, 5]\n",
    "list3 = [7, 8, 9, 9, 8]\n",
    "new_list = set([x+ y+ z for x in set(list1) for y in set(list2) for z in set(list3)])\n",
    "print(new_list)"
   ]
  },
  {
   "cell_type": "code",
   "execution_count": null,
   "id": "59d2f35d-1ac5-4cd2-a28d-21e1c167a334",
   "metadata": {},
   "outputs": [],
   "source": []
  },
  {
   "cell_type": "code",
   "execution_count": null,
   "id": "52030dac-d020-4f79-812d-c1533014898b",
   "metadata": {},
   "outputs": [],
   "source": []
  }
 ],
 "metadata": {
  "kernelspec": {
   "display_name": "Python 3 (ipykernel)",
   "language": "python",
   "name": "python3"
  },
  "language_info": {
   "codemirror_mode": {
    "name": "ipython",
    "version": 3
   },
   "file_extension": ".py",
   "mimetype": "text/x-python",
   "name": "python",
   "nbconvert_exporter": "python",
   "pygments_lexer": "ipython3",
   "version": "3.12.2"
  }
 },
 "nbformat": 4,
 "nbformat_minor": 5
}
