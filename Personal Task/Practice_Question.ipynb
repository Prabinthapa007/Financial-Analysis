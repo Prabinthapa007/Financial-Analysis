{
 "cells": [
  {
   "cell_type": "markdown",
   "id": "37ccc62a-6ac3-4736-bc5e-0eb4f575218c",
   "metadata": {},
   "source": [
    "## *args and **kwargs"
   ]
  },
  {
   "cell_type": "markdown",
   "id": "5323f461-f4ff-440e-a6ae-de60e7f71557",
   "metadata": {},
   "source": [
    "#### Q1: \n",
    "`[*args]` Write a Python function that takes an arbitrary number of positional arguments and returns the sum of all the numbers. Test your function with various input cases."
   ]
  },
  {
   "cell_type": "code",
   "execution_count": 9,
   "id": "c9c1cca2-536a-4d31-b14d-98ac0f21214a",
   "metadata": {},
   "outputs": [],
   "source": [
    "def summation(*args):\n",
    "    return sum(args)"
   ]
  },
  {
   "cell_type": "code",
   "execution_count": 12,
   "id": "c590fcc8-980e-4a1e-9c9d-14fc5657b0b0",
   "metadata": {},
   "outputs": [
    {
     "name": "stdout",
     "output_type": "stream",
     "text": [
      "21\n",
      "121\n"
     ]
    }
   ],
   "source": [
    "print(summation(2, 3, 4, 5, 7))\n",
    "print(summation(22, 22, 32, 45))"
   ]
  },
  {
   "cell_type": "markdown",
   "id": "f846059e-4d62-459e-b35c-51e7a8c65880",
   "metadata": {},
   "source": [
    "#### Q2:\n",
    "`[*args]` Write a Python function `concat_strings` that takes any number of strings as arguments and returns a single concatenated string."
   ]
  },
  {
   "cell_type": "code",
   "execution_count": 24,
   "id": "f02b8ac5-00aa-47ec-8af2-1d62704d5c28",
   "metadata": {},
   "outputs": [
    {
     "data": {
      "text/plain": [
       "'Hello World. My name is Bob.'"
      ]
     },
     "execution_count": 24,
     "metadata": {},
     "output_type": "execute_result"
    }
   ],
   "source": [
    "def concat_strings(*args):\n",
    "    return (\" \".join(args))\n",
    "concat_strings(\"Hello\",\"World.\", \"My\", \"name\", \"is\", \"Bob.\")"
   ]
  },
  {
   "cell_type": "markdown",
   "id": "d39e9f76-aa54-4772-948f-ff3160e4fbfc",
   "metadata": {},
   "source": [
    "#### Q3:\n",
    "`[**kwargs]` Write a Python function `calculate_total_cost` that calculates the total cost of items purchased from a store. The function should accept multiple keyword arguments, where the key is the item name, and the value is the item's price. The function should return the total cost of all items."
   ]
  },
  {
   "cell_type": "code",
   "execution_count": 53,
   "id": "6d9decd0-531c-4822-9415-f19356b0e4b4",
   "metadata": {},
   "outputs": [
    {
     "data": {
      "text/plain": [
       "3700"
      ]
     },
     "execution_count": 53,
     "metadata": {},
     "output_type": "execute_result"
    }
   ],
   "source": [
    "def calculate_total_cost(**kwargs):\n",
    "    return sum(price for price in kwargs.values())\n",
    "\n",
    "calculate_total_cost(Shoe= 1000, Pant= 1900, Shirt= 800)"
   ]
  },
  {
   "cell_type": "markdown",
   "id": "249d852e-e4bf-4e39-b5dd-bdf150957714",
   "metadata": {},
   "source": [
    "#### Q4:\n",
    "`[**kwargs]` Create a function `create_student_report` that takes the student's name as the first argument, the student's age as the second argument, and an arbitrary number of keyword arguments for the subjects and their respective scores. The function should return a dictionary with the student's information and a list of subjects along with their scores."
   ]
  },
  {
   "cell_type": "code",
   "execution_count": 70,
   "id": "5341fff5-a04f-4b96-bcf3-2e15cde7da33",
   "metadata": {},
   "outputs": [],
   "source": [
    "def create_student_report(student_name, student_age, **kwargs):\n",
    "    report = {\n",
    "        \"name\": student_name,\n",
    "        \"age\": student_age,\n",
    "        \"subjects\": kwargs\n",
    "    }\n",
    "    return report\n",
    "\n"
   ]
  },
  {
   "cell_type": "code",
   "execution_count": 71,
   "id": "05da8eae-11ff-4d2c-9122-1e428b8a092c",
   "metadata": {},
   "outputs": [
    {
     "name": "stdout",
     "output_type": "stream",
     "text": [
      "{'name': 'Prabin', 'age': 22, 'subjects': {'Math': 80, 'Science': 90, 'History': 88}}\n"
     ]
    }
   ],
   "source": [
    "student1 = create_student_report(\"Prabin\", 22, Math=80, Science=90, History=88)\n",
    "print(student1)"
   ]
  },
  {
   "cell_type": "markdown",
   "id": "0e2c553c-3ab6-4d69-b643-6b2731887844",
   "metadata": {},
   "source": [
    "<br><br>"
   ]
  },
  {
   "cell_type": "markdown",
   "id": "d0a6d6e1-5b1b-4d11-91ec-f8b07480eba5",
   "metadata": {},
   "source": [
    "### Map, Filter, and Reduce"
   ]
  },
  {
   "cell_type": "markdown",
   "id": "296f1502-2635-4b03-921f-d27b2c1593df",
   "metadata": {},
   "source": [
    "#### Q1:\n",
    "`[map]` Write a Python function `square_numbers` that takes a list of integers as input and uses the map function to return a new list containing the square of each element."
   ]
  },
  {
   "cell_type": "code",
   "execution_count": null,
   "id": "d7f10737-760f-46d1-90ae-aba7ce09bf9f",
   "metadata": {},
   "outputs": [],
   "source": []
  }
 ],
 "metadata": {
  "kernelspec": {
   "display_name": "Python 3 (ipykernel)",
   "language": "python",
   "name": "python3"
  },
  "language_info": {
   "codemirror_mode": {
    "name": "ipython",
    "version": 3
   },
   "file_extension": ".py",
   "mimetype": "text/x-python",
   "name": "python",
   "nbconvert_exporter": "python",
   "pygments_lexer": "ipython3",
   "version": "3.12.2"
  }
 },
 "nbformat": 4,
 "nbformat_minor": 5
}
