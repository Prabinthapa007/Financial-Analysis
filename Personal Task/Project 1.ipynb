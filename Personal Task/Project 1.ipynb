{
 "cells": [
  {
   "cell_type": "markdown",
   "id": "8d0810cc-4cdd-426a-a17c-27477d63ba93",
   "metadata": {},
   "source": [
    "# Milestone Project -1 :\n",
    "\n",
    "Make a function `add_movie`, `show_movie`, `print_movie`, `find_movie` and ask user what they want to do find movies or print or quit the search. "
   ]
  },
  {
   "cell_type": "code",
   "execution_count": null,
   "id": "28317e9b-b2b2-4bbb-914f-bbfeeb2122ad",
   "metadata": {},
   "outputs": [],
   "source": [
    "class Movie:\n",
    "    def __init__(self, name, year, director):\n",
    "        self.name = name\n",
    "        self.year = year\n",
    "        self.director = director\n"
   ]
  },
  {
   "cell_type": "code",
   "execution_count": null,
   "id": "db38628e-0c00-4bad-943e-27cf9458e8ce",
   "metadata": {},
   "outputs": [],
   "source": []
  },
  {
   "cell_type": "code",
   "execution_count": null,
   "id": "1d46ff67-1237-4d46-8832-9f78fa1cc814",
   "metadata": {},
   "outputs": [],
   "source": []
  }
 ],
 "metadata": {
  "kernelspec": {
   "display_name": "Python 3 (ipykernel)",
   "language": "python",
   "name": "python3"
  },
  "language_info": {
   "codemirror_mode": {
    "name": "ipython",
    "version": 3
   },
   "file_extension": ".py",
   "mimetype": "text/x-python",
   "name": "python",
   "nbconvert_exporter": "python",
   "pygments_lexer": "ipython3",
   "version": "3.12.2"
  }
 },
 "nbformat": 4,
 "nbformat_minor": 5
}
