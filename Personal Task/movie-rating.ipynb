{
 "cells": [
  {
   "cell_type": "code",
   "execution_count": 2,
   "id": "4be46464-0c12-4193-bc10-9e9f2b8c476f",
   "metadata": {},
   "outputs": [],
   "source": [
    "import warnings\n",
    "warnings.filterwarnings('ignore')\n",
    "import numpy as np\n",
    "import pandas as pd\n",
    "import matplotlib.pyplot as plt\n",
    "import seaborn as sns"
   ]
  },
  {
   "cell_type": "code",
   "execution_count": 3,
   "id": "1164c590-772d-4891-83ba-419028e78389",
   "metadata": {},
   "outputs": [],
   "source": [
    "movies_df = pd.read_csv(\"C:\\\\Users\\\\Prabin\\\\Movies-list.csv\", encoding='latin-1')"
   ]
  },
  {
   "cell_type": "code",
   "execution_count": 25,
   "id": "ac98119a-cf42-43c3-9cc8-53dcbde2d180",
   "metadata": {},
   "outputs": [
    {
     "data": {
      "text/html": [
       "<div>\n",
       "<style scoped>\n",
       "    .dataframe tbody tr th:only-of-type {\n",
       "        vertical-align: middle;\n",
       "    }\n",
       "\n",
       "    .dataframe tbody tr th {\n",
       "        vertical-align: top;\n",
       "    }\n",
       "\n",
       "    .dataframe thead th {\n",
       "        text-align: right;\n",
       "    }\n",
       "</style>\n",
       "<table border=\"1\" class=\"dataframe\">\n",
       "  <thead>\n",
       "    <tr style=\"text-align: right;\">\n",
       "      <th></th>\n",
       "      <th>Day_of_Week</th>\n",
       "      <th>Director</th>\n",
       "      <th>Genre</th>\n",
       "      <th>Title</th>\n",
       "      <th>Release_date</th>\n",
       "      <th>Studio</th>\n",
       "      <th>Adjusted_Gross_mill</th>\n",
       "      <th>Budget_in_million</th>\n",
       "      <th>Gross_collection_mill</th>\n",
       "      <th>IMDb_Rating</th>\n",
       "      <th>MovieLens_Rating</th>\n",
       "      <th>Overseas_mill</th>\n",
       "      <th>Overseas_percent</th>\n",
       "      <th>Profit_in_mill</th>\n",
       "      <th>Profit_percent</th>\n",
       "      <th>Runtime_in_minutes</th>\n",
       "      <th>US_mill</th>\n",
       "      <th>Gross_percent_US</th>\n",
       "    </tr>\n",
       "  </thead>\n",
       "  <tbody>\n",
       "    <tr>\n",
       "      <th>279</th>\n",
       "      <td>Friday</td>\n",
       "      <td>Matthew Vaughn</td>\n",
       "      <td>action</td>\n",
       "      <td>Kingsman: The Secret Service</td>\n",
       "      <td>13/02/2015</td>\n",
       "      <td>Fox</td>\n",
       "      <td>403.8</td>\n",
       "      <td>81.0</td>\n",
       "      <td>403.8</td>\n",
       "      <td>7.9</td>\n",
       "      <td>3.66</td>\n",
       "      <td>275.5</td>\n",
       "      <td>68.2</td>\n",
       "      <td>322.8</td>\n",
       "      <td>398.5</td>\n",
       "      <td>129</td>\n",
       "      <td>128.2</td>\n",
       "      <td>31.8</td>\n",
       "    </tr>\n",
       "    <tr>\n",
       "      <th>555</th>\n",
       "      <td>Friday</td>\n",
       "      <td>Alfonso Cuarn</td>\n",
       "      <td>adventure</td>\n",
       "      <td>Harry Potter and the Prisoner of Azkaban</td>\n",
       "      <td>4/06/2004</td>\n",
       "      <td>WB</td>\n",
       "      <td>1,003</td>\n",
       "      <td>130.0</td>\n",
       "      <td>796.7</td>\n",
       "      <td>7.8</td>\n",
       "      <td>3.75</td>\n",
       "      <td>547.1</td>\n",
       "      <td>68.7</td>\n",
       "      <td>666.7</td>\n",
       "      <td>512.9</td>\n",
       "      <td>141</td>\n",
       "      <td>249.5</td>\n",
       "      <td>31.3</td>\n",
       "    </tr>\n",
       "    <tr>\n",
       "      <th>364</th>\n",
       "      <td>Friday</td>\n",
       "      <td>Tim Burton</td>\n",
       "      <td>action</td>\n",
       "      <td>Planet of the Apes (2001)</td>\n",
       "      <td>27/07/2001</td>\n",
       "      <td>Fox</td>\n",
       "      <td>486.4</td>\n",
       "      <td>100.0</td>\n",
       "      <td>362.2</td>\n",
       "      <td>5.7</td>\n",
       "      <td>2.74</td>\n",
       "      <td>182.2</td>\n",
       "      <td>50.3</td>\n",
       "      <td>262.2</td>\n",
       "      <td>262.2</td>\n",
       "      <td>119</td>\n",
       "      <td>180.0</td>\n",
       "      <td>49.7</td>\n",
       "    </tr>\n",
       "    <tr>\n",
       "      <th>86</th>\n",
       "      <td>Friday</td>\n",
       "      <td>Cameron Crowe</td>\n",
       "      <td>mystery</td>\n",
       "      <td>Vanilla Sky</td>\n",
       "      <td>14/12/2001</td>\n",
       "      <td>Paramount Pictures</td>\n",
       "      <td>273.1</td>\n",
       "      <td>70.0</td>\n",
       "      <td>203.4</td>\n",
       "      <td>6.9</td>\n",
       "      <td>3.36</td>\n",
       "      <td>102.8</td>\n",
       "      <td>50.5</td>\n",
       "      <td>133.4</td>\n",
       "      <td>190.6</td>\n",
       "      <td>136</td>\n",
       "      <td>100.6</td>\n",
       "      <td>49.5</td>\n",
       "    </tr>\n",
       "    <tr>\n",
       "      <th>10</th>\n",
       "      <td>Friday</td>\n",
       "      <td>Eric Brevig</td>\n",
       "      <td>animation</td>\n",
       "      <td>Yogi Bear</td>\n",
       "      <td>17/12/2010</td>\n",
       "      <td>WB</td>\n",
       "      <td>219.9</td>\n",
       "      <td>80.0</td>\n",
       "      <td>201.6</td>\n",
       "      <td>4.5</td>\n",
       "      <td>2.17</td>\n",
       "      <td>101.3</td>\n",
       "      <td>50.3</td>\n",
       "      <td>121.6</td>\n",
       "      <td>152.0</td>\n",
       "      <td>80</td>\n",
       "      <td>100.2</td>\n",
       "      <td>49.7</td>\n",
       "    </tr>\n",
       "    <tr>\n",
       "      <th>171</th>\n",
       "      <td>Friday</td>\n",
       "      <td>Steve Hickner, Simon J. Smith</td>\n",
       "      <td>animation</td>\n",
       "      <td>Bee Movie</td>\n",
       "      <td>2/11/2007</td>\n",
       "      <td>Pacific Data/DreamWorks</td>\n",
       "      <td>329.9</td>\n",
       "      <td>150.0</td>\n",
       "      <td>287.6</td>\n",
       "      <td>6.2</td>\n",
       "      <td>3.01</td>\n",
       "      <td>161</td>\n",
       "      <td>56.0</td>\n",
       "      <td>137.6</td>\n",
       "      <td>91.7</td>\n",
       "      <td>91</td>\n",
       "      <td>126.6</td>\n",
       "      <td>44.0</td>\n",
       "    </tr>\n",
       "    <tr>\n",
       "      <th>107</th>\n",
       "      <td>Friday</td>\n",
       "      <td>David Zucker</td>\n",
       "      <td>comedy</td>\n",
       "      <td>Scary Movie 3</td>\n",
       "      <td>24/10/2003</td>\n",
       "      <td>Dimension Films</td>\n",
       "      <td>285.2</td>\n",
       "      <td>45.0</td>\n",
       "      <td>220.7</td>\n",
       "      <td>5.4</td>\n",
       "      <td>2.46</td>\n",
       "      <td>110.7</td>\n",
       "      <td>50.2</td>\n",
       "      <td>175.7</td>\n",
       "      <td>390.4</td>\n",
       "      <td>84</td>\n",
       "      <td>110.0</td>\n",
       "      <td>49.8</td>\n",
       "    </tr>\n",
       "    <tr>\n",
       "      <th>3</th>\n",
       "      <td>Friday</td>\n",
       "      <td>Phil Lord, Chris Miller</td>\n",
       "      <td>comedy</td>\n",
       "      <td>21 Jump Street</td>\n",
       "      <td>16/03/2012</td>\n",
       "      <td>Sony</td>\n",
       "      <td>208.8</td>\n",
       "      <td>42.0</td>\n",
       "      <td>201.6</td>\n",
       "      <td>7.2</td>\n",
       "      <td>3.62</td>\n",
       "      <td>63.1</td>\n",
       "      <td>31.3</td>\n",
       "      <td>159.6</td>\n",
       "      <td>380.0</td>\n",
       "      <td>109</td>\n",
       "      <td>138.4</td>\n",
       "      <td>68.7</td>\n",
       "    </tr>\n",
       "    <tr>\n",
       "      <th>543</th>\n",
       "      <td>Thursday</td>\n",
       "      <td>Steven Spielberg</td>\n",
       "      <td>action</td>\n",
       "      <td>The Lost World: Jurassic Park</td>\n",
       "      <td>22/05/1997</td>\n",
       "      <td>Universal</td>\n",
       "      <td>916.5</td>\n",
       "      <td>75.0</td>\n",
       "      <td>618.6</td>\n",
       "      <td>6.5</td>\n",
       "      <td>2.96</td>\n",
       "      <td>389.6</td>\n",
       "      <td>63.0</td>\n",
       "      <td>543.6</td>\n",
       "      <td>724.8</td>\n",
       "      <td>129</td>\n",
       "      <td>229.1</td>\n",
       "      <td>37.0</td>\n",
       "    </tr>\n",
       "    <tr>\n",
       "      <th>48</th>\n",
       "      <td>Thursday</td>\n",
       "      <td>Doug Liman</td>\n",
       "      <td>action</td>\n",
       "      <td>Jumper</td>\n",
       "      <td>14/02/2008</td>\n",
       "      <td>Fox</td>\n",
       "      <td>245.4</td>\n",
       "      <td>82.5</td>\n",
       "      <td>222.2</td>\n",
       "      <td>6.1</td>\n",
       "      <td>2.98</td>\n",
       "      <td>142.1</td>\n",
       "      <td>63.9</td>\n",
       "      <td>139.7</td>\n",
       "      <td>169.3</td>\n",
       "      <td>88</td>\n",
       "      <td>80.2</td>\n",
       "      <td>36.1</td>\n",
       "    </tr>\n",
       "  </tbody>\n",
       "</table>\n",
       "</div>"
      ],
      "text/plain": [
       "    Day_of_Week                       Director      Genre  \\\n",
       "279      Friday                 Matthew Vaughn     action   \n",
       "555      Friday                 Alfonso Cuarn  adventure   \n",
       "364      Friday                     Tim Burton     action   \n",
       "86       Friday                  Cameron Crowe    mystery   \n",
       "10       Friday                    Eric Brevig  animation   \n",
       "171      Friday  Steve Hickner, Simon J. Smith  animation   \n",
       "107      Friday                   David Zucker     comedy   \n",
       "3        Friday        Phil Lord, Chris Miller     comedy   \n",
       "543    Thursday               Steven Spielberg     action   \n",
       "48     Thursday                     Doug Liman     action   \n",
       "\n",
       "                                        Title Release_date  \\\n",
       "279              Kingsman: The Secret Service   13/02/2015   \n",
       "555  Harry Potter and the Prisoner of Azkaban    4/06/2004   \n",
       "364                 Planet of the Apes (2001)   27/07/2001   \n",
       "86                                Vanilla Sky   14/12/2001   \n",
       "10                                  Yogi Bear   17/12/2010   \n",
       "171                                 Bee Movie    2/11/2007   \n",
       "107                             Scary Movie 3   24/10/2003   \n",
       "3                              21 Jump Street   16/03/2012   \n",
       "543             The Lost World: Jurassic Park   22/05/1997   \n",
       "48                                     Jumper   14/02/2008   \n",
       "\n",
       "                      Studio Adjusted_Gross_mill  Budget_in_million  \\\n",
       "279                      Fox               403.8               81.0   \n",
       "555                       WB               1,003              130.0   \n",
       "364                      Fox               486.4              100.0   \n",
       "86        Paramount Pictures               273.1               70.0   \n",
       "10                        WB               219.9               80.0   \n",
       "171  Pacific Data/DreamWorks               329.9              150.0   \n",
       "107          Dimension Films               285.2               45.0   \n",
       "3                       Sony               208.8               42.0   \n",
       "543                Universal               916.5               75.0   \n",
       "48                       Fox               245.4               82.5   \n",
       "\n",
       "    Gross_collection_mill  IMDb_Rating  MovieLens_Rating Overseas_mill  \\\n",
       "279                 403.8          7.9              3.66         275.5   \n",
       "555                 796.7          7.8              3.75         547.1   \n",
       "364                 362.2          5.7              2.74         182.2   \n",
       "86                  203.4          6.9              3.36         102.8   \n",
       "10                  201.6          4.5              2.17         101.3   \n",
       "171                 287.6          6.2              3.01           161   \n",
       "107                 220.7          5.4              2.46         110.7   \n",
       "3                   201.6          7.2              3.62          63.1   \n",
       "543                 618.6          6.5              2.96         389.6   \n",
       "48                  222.2          6.1              2.98         142.1   \n",
       "\n",
       "     Overseas_percent Profit_in_mill  Profit_percent  Runtime_in_minutes  \\\n",
       "279              68.2          322.8           398.5                 129   \n",
       "555              68.7          666.7           512.9                 141   \n",
       "364              50.3          262.2           262.2                 119   \n",
       "86               50.5          133.4           190.6                 136   \n",
       "10               50.3          121.6           152.0                  80   \n",
       "171              56.0          137.6            91.7                  91   \n",
       "107              50.2          175.7           390.4                  84   \n",
       "3                31.3          159.6           380.0                 109   \n",
       "543              63.0          543.6           724.8                 129   \n",
       "48               63.9          139.7           169.3                  88   \n",
       "\n",
       "     US_mill  Gross_percent_US  \n",
       "279    128.2              31.8  \n",
       "555    249.5              31.3  \n",
       "364    180.0              49.7  \n",
       "86     100.6              49.5  \n",
       "10     100.2              49.7  \n",
       "171    126.6              44.0  \n",
       "107    110.0              49.8  \n",
       "3      138.4              68.7  \n",
       "543    229.1              37.0  \n",
       "48      80.2              36.1  "
      ]
     },
     "execution_count": 25,
     "metadata": {},
     "output_type": "execute_result"
    }
   ],
   "source": [
    "movies_df.sample(10, random_state=99)"
   ]
  },
  {
   "cell_type": "code",
   "execution_count": 5,
   "id": "6db39679-8849-4d2f-b2c9-d1e8939cb3b4",
   "metadata": {},
   "outputs": [
    {
     "data": {
      "text/plain": [
       "(608, 18)"
      ]
     },
     "execution_count": 5,
     "metadata": {},
     "output_type": "execute_result"
    }
   ],
   "source": [
    "movies_df.shape"
   ]
  },
  {
   "cell_type": "code",
   "execution_count": 6,
   "id": "c6e2bc19-a673-4596-9846-2bef96b6637c",
   "metadata": {},
   "outputs": [
    {
     "data": {
      "text/plain": [
       "Index(['Day of Week', 'Director', 'Genre', 'Movie Title', 'Release Date',\n",
       "       'Studio', 'Adjusted Gross ($mill)', 'Budget ($mill)', 'Gross ($mill)',\n",
       "       'IMDb Rating', 'MovieLens Rating', 'Overseas ($mill)', 'Overseas%',\n",
       "       'Profit ($mill)', 'Profit%', 'Runtime (min)', 'US ($mill)',\n",
       "       'Gross % US'],\n",
       "      dtype='object')"
      ]
     },
     "execution_count": 6,
     "metadata": {},
     "output_type": "execute_result"
    }
   ],
   "source": [
    "movies_df.columns"
   ]
  },
  {
   "cell_type": "code",
   "execution_count": 7,
   "id": "f195018f-63b9-4520-8c03-a44004ee3dd4",
   "metadata": {},
   "outputs": [],
   "source": [
    "movies_df.columns = ['Day_of_Week', 'Director', 'Genre', 'Title', 'Release_date', 'Studio',\n",
    "                     'Adjusted_Gross_mill','Budget_in_million', 'Gross_collection_mill',\n",
    "                     'IMDb_Rating', 'MovieLens_Rating', 'Overseas_mill', 'Overseas_percent',\n",
    "                     'Profit_in_mill', 'Profit_percent', 'Runtime_in_minutes',\n",
    "                     'US_mill', 'Gross_percent_US']\n"
   ]
  },
  {
   "cell_type": "code",
   "execution_count": 8,
   "id": "33f8173a-b7fe-485a-a4cd-9208247ab9d7",
   "metadata": {},
   "outputs": [
    {
     "data": {
      "text/plain": [
       "Index(['Day_of_Week', 'Director', 'Genre', 'Title', 'Release_date', 'Studio',\n",
       "       'Adjusted_Gross_mill', 'Budget_in_million', 'Gross_collection_mill',\n",
       "       'IMDb_Rating', 'MovieLens_Rating', 'Overseas_mill', 'Overseas_percent',\n",
       "       'Profit_in_mill', 'Profit_percent', 'Runtime_in_minutes', 'US_mill',\n",
       "       'Gross_percent_US'],\n",
       "      dtype='object')"
      ]
     },
     "execution_count": 8,
     "metadata": {},
     "output_type": "execute_result"
    }
   ],
   "source": [
    "movies_df.columns"
   ]
  },
  {
   "cell_type": "code",
   "execution_count": 107,
   "id": "b31c9fce-16b7-4caa-ac0d-d77847bed52c",
   "metadata": {},
   "outputs": [
    {
     "data": {
      "text/plain": [
       "10944"
      ]
     },
     "execution_count": 107,
     "metadata": {},
     "output_type": "execute_result"
    }
   ],
   "source": [
    "movies_df.size"
   ]
  },
  {
   "cell_type": "code",
   "execution_count": 11,
   "id": "273b18c1-dc70-4d0d-bc04-b5f81af112de",
   "metadata": {},
   "outputs": [
    {
     "data": {
      "text/plain": [
       "Day_of_Week              0\n",
       "Director                 0\n",
       "Genre                    0\n",
       "Title                    0\n",
       "Release_date             0\n",
       "Studio                   0\n",
       "Adjusted_Gross_mill      0\n",
       "Budget_in_million        0\n",
       "Gross_collection_mill    0\n",
       "IMDb_Rating              0\n",
       "MovieLens_Rating         0\n",
       "Overseas_mill            0\n",
       "Overseas_percent         0\n",
       "Profit_in_mill           0\n",
       "Profit_percent           0\n",
       "Runtime_in_minutes       0\n",
       "US_mill                  0\n",
       "Gross_percent_US         0\n",
       "dtype: int64"
      ]
     },
     "execution_count": 11,
     "metadata": {},
     "output_type": "execute_result"
    }
   ],
   "source": [
    "movies_df.isnull().sum()"
   ]
  },
  {
   "cell_type": "code",
   "execution_count": 15,
   "id": "256ed7fd-d546-45aa-9c79-bbd3d78d93da",
   "metadata": {},
   "outputs": [
    {
     "data": {
      "text/plain": [
       "False    608\n",
       "Name: count, dtype: int64"
      ]
     },
     "execution_count": 15,
     "metadata": {},
     "output_type": "execute_result"
    }
   ],
   "source": [
    "movies_df.duplicated().value_counts()"
   ]
  },
  {
   "cell_type": "markdown",
   "id": "bb68a57a-ab09-4897-b447-eb76dbb15e93",
   "metadata": {},
   "source": [
    "In the above dataframe there is no any null value and duplicated values. So, we don't have to deal with it we keep data as it is."
   ]
  },
  {
   "cell_type": "code",
   "execution_count": 123,
   "id": "a8c46aad-0c41-48a5-ad50-3508b8620b5a",
   "metadata": {},
   "outputs": [
    {
     "data": {
      "text/html": [
       "<div>\n",
       "<style scoped>\n",
       "    .dataframe tbody tr th:only-of-type {\n",
       "        vertical-align: middle;\n",
       "    }\n",
       "\n",
       "    .dataframe tbody tr th {\n",
       "        vertical-align: top;\n",
       "    }\n",
       "\n",
       "    .dataframe thead th {\n",
       "        text-align: right;\n",
       "    }\n",
       "</style>\n",
       "<table border=\"1\" class=\"dataframe\">\n",
       "  <thead>\n",
       "    <tr style=\"text-align: right;\">\n",
       "      <th></th>\n",
       "      <th>IMDb_Rating</th>\n",
       "      <th>MovieLens_Rating</th>\n",
       "    </tr>\n",
       "  </thead>\n",
       "  <tbody>\n",
       "    <tr>\n",
       "      <th>IMDb_Rating</th>\n",
       "      <td>1.000000</td>\n",
       "      <td>0.879836</td>\n",
       "    </tr>\n",
       "    <tr>\n",
       "      <th>MovieLens_Rating</th>\n",
       "      <td>0.879836</td>\n",
       "      <td>1.000000</td>\n",
       "    </tr>\n",
       "  </tbody>\n",
       "</table>\n",
       "</div>"
      ],
      "text/plain": [
       "                  IMDb_Rating  MovieLens_Rating\n",
       "IMDb_Rating          1.000000          0.879836\n",
       "MovieLens_Rating     0.879836          1.000000"
      ]
     },
     "execution_count": 123,
     "metadata": {},
     "output_type": "execute_result"
    }
   ],
   "source": [
    "movies_df[['IMDb_Rating', 'MovieLens_Rating']].corr()"
   ]
  },
  {
   "cell_type": "code",
   "execution_count": 124,
   "id": "29ace817-96d7-4cf9-9d39-774a8e4e26d7",
   "metadata": {},
   "outputs": [
    {
     "data": {
      "text/plain": [
       "array(['Buena Vista Studios', 'Lionsgate', 'Sony', 'Universal',\n",
       "       'Paramount Pictures', 'WB', 'Weinstein Company',\n",
       "       'UA Entertainment', 'WB/New Line', 'New Line Cinema', 'Fox',\n",
       "       'TriStar', 'Relativity Media', 'Screen Gems', 'StudioCanal',\n",
       "       'Fox Searchlight Pictures', 'MiraMax', 'Path_ Distribution',\n",
       "       'DreamWorks', 'Lionsgate Films', 'Revolution Studios',\n",
       "       'Dimension Films', 'USA', 'Lionsgate/Summit',\n",
       "       'Sony Picture Classics', 'Pacific Data/DreamWorks', 'Disney',\n",
       "       'Art House Studios', 'Colombia Pictures', 'Gramercy Pictures',\n",
       "       'Summit Entertainment', 'Vestron Pictures', 'MGM', 'Orion', 'IFC',\n",
       "       'New Market Films'], dtype=object)"
      ]
     },
     "execution_count": 124,
     "metadata": {},
     "output_type": "execute_result"
    }
   ],
   "source": [
    "movies_df['Studio'].unique()"
   ]
  },
  {
   "cell_type": "markdown",
   "id": "9355633b-26b9-46fe-8094-0c3885bbe130",
   "metadata": {},
   "source": [
    "#### Lets see visually, which studio produce most number of movies."
   ]
  },
  {
   "cell_type": "code",
   "execution_count": 125,
   "id": "8a9b323e-1de0-4fcd-9f92-9f5dcd467bd6",
   "metadata": {},
   "outputs": [
    {
     "data": {
      "image/png": "[encoded data removed]",
      "text/plain": [
       "<Figure size 600x1000 with 1 Axes>"
      ]
     },
     "metadata": {},
     "output_type": "display_data"
    }
   ],
   "source": [
    "plt.figure(figsize=(6, 10), dpi=100)\n",
    "sns.countplot(y=\"Studio\", data=movies_df, palette=\"Set2\", order=movies_df['Studio'].value_counts().index[0:20])\n",
    "plt.show()"
   ]
  },
  {
   "cell_type": "markdown",
   "id": "1558a876-827c-4072-93d8-6fb085ec5a29",
   "metadata": {},
   "source": [
    "<br>"
   ]
  },
  {
   "cell_type": "markdown",
   "id": "b90d423f-75f4-4458-bab4-45ee63c08eb4",
   "metadata": {},
   "source": [
    "#### Lets see what genre of movies are most in this dataset."
   ]
  },
  {
   "cell_type": "code",
   "execution_count": 129,
   "id": "e2572fdf-4328-4b80-a13d-c48868f2b066",
   "metadata": {},
   "outputs": [
    {
     "data": {
      "text/plain": [
       "array(['action', 'comedy', 'adventure', 'horror', 'animation',\n",
       "       'biography', 'drama', 'musical', 'sci-fi', 'crime', 'romance',\n",
       "       'fantasy', 'mystery', 'thriller', 'documentary'], dtype=object)"
      ]
     },
     "execution_count": 129,
     "metadata": {},
     "output_type": "execute_result"
    }
   ],
   "source": [
    "movies_df['Genre'].unique()"
   ]
  },
  {
   "cell_type": "code",
   "execution_count": 133,
   "id": "cbb5aee3-5b1f-4c39-bb83-04d0f8e755be",
   "metadata": {},
   "outputs": [
    {
     "data": {
      "image/png": "[encoded data removed]",
      "text/plain": [
       "<Figure size 1000x1000 with 1 Axes>"
      ]
     },
     "metadata": {},
     "output_type": "display_data"
    }
   ],
   "source": [
    "plt.figure(figsize=(10, 10), dpi=100)\n",
    "sns.countplot(y=\"Genre\", data=movies_df, palette=\"Set2\", order=movies_df['Genre'].value_counts().index[0:15])\n",
    "plt.title(\"Different Genre of Movies\")\n",
    "plt.show()\n"
   ]
  },
  {
   "cell_type": "markdown",
   "id": "7038ae9b-768a-44db-a750-8f44403347a1",
   "metadata": {},
   "source": [
    "<br>"
   ]
  },
  {
   "cell_type": "code",
   "execution_count": null,
   "id": "9092382a-147c-4c8a-90ea-1530deb5f05a",
   "metadata": {},
   "outputs": [],
   "source": []
  },
  {
   "cell_type": "code",
   "execution_count": null,
   "id": "2fa7e157-b770-4616-a5cc-1579710147ce",
   "metadata": {},
   "outputs": [],
   "source": []
  },
  {
   "cell_type": "code",
   "execution_count": null,
   "id": "0697f772-5533-4dfc-ae45-0e72338aefab",
   "metadata": {},
   "outputs": [],
   "source": []
  },
  {
   "cell_type": "code",
   "execution_count": 131,
   "id": "a884bf45-8b07-4c0e-8cef-72940f9f90bf",
   "metadata": {},
   "outputs": [
    {
     "name": "stdout",
     "output_type": "stream",
     "text": [
      "<class 'pandas.core.frame.DataFrame'>\n",
      "RangeIndex: 608 entries, 0 to 607\n",
      "Data columns (total 18 columns):\n",
      " #   Column                 Non-Null Count  Dtype  \n",
      "---  ------                 --------------  -----  \n",
      " 0   Day_of_Week            608 non-null    object \n",
      " 1   Director               608 non-null    object \n",
      " 2   Genre                  608 non-null    object \n",
      " 3   Title                  608 non-null    object \n",
      " 4   Release_date           608 non-null    object \n",
      " 5   Studio                 608 non-null    object \n",
      " 6   Adjusted_Gross_mill    608 non-null    object \n",
      " 7   Budget_in_million      608 non-null    float64\n",
      " 8   Gross_collection_mill  608 non-null    object \n",
      " 9   IMDb_Rating            608 non-null    float64\n",
      " 10  MovieLens_Rating       608 non-null    float64\n",
      " 11  Overseas_mill          608 non-null    object \n",
      " 12  Overseas_percent       608 non-null    float64\n",
      " 13  Profit_in_mill         608 non-null    object \n",
      " 14  Profit_percent         608 non-null    float64\n",
      " 15  Runtime_in_minutes     608 non-null    int64  \n",
      " 16  US_mill                608 non-null    float64\n",
      " 17  Gross_percent_US       608 non-null    float64\n",
      "dtypes: float64(7), int64(1), object(10)\n",
      "memory usage: 85.6+ KB\n"
     ]
    }
   ],
   "source": [
    "movies_df.info()"
   ]
  },
  {
   "cell_type": "code",
   "execution_count": 132,
   "id": "2a71e390-e435-45ce-9804-a52b265cdca6",
   "metadata": {},
   "outputs": [
    {
     "data": {
      "text/plain": [
       "dtype('O')"
      ]
     },
     "execution_count": 132,
     "metadata": {},
     "output_type": "execute_result"
    }
   ],
   "source": [
    "movies_df['Profit_in_mill'].dtype"
   ]
  },
  {
   "cell_type": "code",
   "execution_count": 81,
   "id": "06f6607d-13c8-401a-872b-a2978919ceb6",
   "metadata": {},
   "outputs": [
    {
     "data": {
      "text/plain": [
       "array(['action', 'comedy', 'adventure', 'horror', 'animation',\n",
       "       'biography', 'drama', 'musical', 'sci-fi', 'crime', 'romance',\n",
       "       'fantasy', 'mystery', 'thriller', 'documentary'], dtype=object)"
      ]
     },
     "execution_count": 81,
     "metadata": {},
     "output_type": "execute_result"
    }
   ],
   "source": []
  },
  {
   "cell_type": "code",
   "execution_count": 82,
   "id": "4c9aed05-4ad3-4b71-b261-06a864ae9c05",
   "metadata": {},
   "outputs": [
    {
     "data": {
      "text/plain": [
       "Day_of_Week                6\n",
       "Director                 337\n",
       "Genre                     15\n",
       "Title                    608\n",
       "Release_date             534\n",
       "Studio                    36\n",
       "Adjusted_Gross_mill      585\n",
       "Budget_in_million        152\n",
       "Gross_collection_mill    561\n",
       "IMDb_Rating               50\n",
       "MovieLens_Rating         182\n",
       "Overseas_mill            551\n",
       "Overseas_percent         328\n",
       "Profit_in_mill           566\n",
       "Profit_percent           589\n",
       "Runtime_in_minutes       102\n",
       "US_mill                  535\n",
       "Gross_percent_US         328\n",
       "dtype: int64"
      ]
     },
     "execution_count": 82,
     "metadata": {},
     "output_type": "execute_result"
    }
   ],
   "source": [
    "movies_df.nunique()"
   ]
  },
  {
   "cell_type": "code",
   "execution_count": null,
   "id": "ec6a5784-ad0e-4423-bf98-a4aef59e16c8",
   "metadata": {},
   "outputs": [],
   "source": []
  }
 ],
 "metadata": {
  "kernelspec": {
   "display_name": "Python 3 (ipykernel)",
   "language": "python",
   "name": "python3"
  },
  "language_info": {
   "codemirror_mode": {
    "name": "ipython",
    "version": 3
   },
   "file_extension": ".py",
   "mimetype": "text/x-python",
   "name": "python",
   "nbconvert_exporter": "python",
   "pygments_lexer": "ipython3",
   "version": "3.12.2"
  }
 },
 "nbformat": 4,
 "nbformat_minor": 5
}
