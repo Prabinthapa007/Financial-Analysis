{
 "cells": [
  {
   "cell_type": "code",
   "execution_count": 1,
   "id": "4be46464-0c12-4193-bc10-9e9f2b8c476f",
   "metadata": {},
   "outputs": [],
   "source": [
    "import warnings\n",
    "warnings.filterwarnings('ignore')\n",
    "import numpy as np\n",
    "import pandas as pd\n",
    "import matplotlib.pyplot as plt\n",
    "import seaborn as sns\n",
    "%matplotlib inline"
   ]
  },
  {
   "cell_type": "code",
   "execution_count": 68,
   "id": "1164c590-772d-4891-83ba-419028e78389",
   "metadata": {},
   "outputs": [],
   "source": [
    "movies_df = pd.read_csv(\"C:\\\\Users\\\\Prabin\\\\Movies-list.csv\", encoding='latin-1')"
   ]
  },
  {
   "cell_type": "code",
   "execution_count": 69,
   "id": "ac98119a-cf42-43c3-9cc8-53dcbde2d180",
   "metadata": {},
   "outputs": [
    {
     "data": {
      "text/html": [
       "<div>\n",
       "<style scoped>\n",
       "    .dataframe tbody tr th:only-of-type {\n",
       "        vertical-align: middle;\n",
       "    }\n",
       "\n",
       "    .dataframe tbody tr th {\n",
       "        vertical-align: top;\n",
       "    }\n",
       "\n",
       "    .dataframe thead th {\n",
       "        text-align: right;\n",
       "    }\n",
       "</style>\n",
       "<table border=\"1\" class=\"dataframe\">\n",
       "  <thead>\n",
       "    <tr style=\"text-align: right;\">\n",
       "      <th></th>\n",
       "      <th>Day of Week</th>\n",
       "      <th>Director</th>\n",
       "      <th>Genre</th>\n",
       "      <th>Movie Title</th>\n",
       "      <th>Release Date</th>\n",
       "      <th>Studio</th>\n",
       "      <th>Adjusted Gross ($mill)</th>\n",
       "      <th>Budget ($mill)</th>\n",
       "      <th>Gross ($mill)</th>\n",
       "      <th>IMDb Rating</th>\n",
       "      <th>MovieLens Rating</th>\n",
       "      <th>Overseas ($mill)</th>\n",
       "      <th>Overseas%</th>\n",
       "      <th>Profit ($mill)</th>\n",
       "      <th>Profit%</th>\n",
       "      <th>Runtime (min)</th>\n",
       "      <th>US ($mill)</th>\n",
       "      <th>Gross % US</th>\n",
       "    </tr>\n",
       "  </thead>\n",
       "  <tbody>\n",
       "    <tr>\n",
       "      <th>279</th>\n",
       "      <td>Friday</td>\n",
       "      <td>Matthew Vaughn</td>\n",
       "      <td>action</td>\n",
       "      <td>Kingsman: The Secret Service</td>\n",
       "      <td>13/02/2015</td>\n",
       "      <td>Fox</td>\n",
       "      <td>403.8</td>\n",
       "      <td>81.0</td>\n",
       "      <td>403.8</td>\n",
       "      <td>7.9</td>\n",
       "      <td>3.66</td>\n",
       "      <td>275.5</td>\n",
       "      <td>68.2</td>\n",
       "      <td>322.8</td>\n",
       "      <td>398.5</td>\n",
       "      <td>129</td>\n",
       "      <td>128.2</td>\n",
       "      <td>31.8</td>\n",
       "    </tr>\n",
       "    <tr>\n",
       "      <th>555</th>\n",
       "      <td>Friday</td>\n",
       "      <td>Alfonso Cuarn</td>\n",
       "      <td>adventure</td>\n",
       "      <td>Harry Potter and the Prisoner of Azkaban</td>\n",
       "      <td>4/06/2004</td>\n",
       "      <td>WB</td>\n",
       "      <td>1,003</td>\n",
       "      <td>130.0</td>\n",
       "      <td>796.7</td>\n",
       "      <td>7.8</td>\n",
       "      <td>3.75</td>\n",
       "      <td>547.1</td>\n",
       "      <td>68.7</td>\n",
       "      <td>666.7</td>\n",
       "      <td>512.9</td>\n",
       "      <td>141</td>\n",
       "      <td>249.5</td>\n",
       "      <td>31.3</td>\n",
       "    </tr>\n",
       "    <tr>\n",
       "      <th>364</th>\n",
       "      <td>Friday</td>\n",
       "      <td>Tim Burton</td>\n",
       "      <td>action</td>\n",
       "      <td>Planet of the Apes (2001)</td>\n",
       "      <td>27/07/2001</td>\n",
       "      <td>Fox</td>\n",
       "      <td>486.4</td>\n",
       "      <td>100.0</td>\n",
       "      <td>362.2</td>\n",
       "      <td>5.7</td>\n",
       "      <td>2.74</td>\n",
       "      <td>182.2</td>\n",
       "      <td>50.3</td>\n",
       "      <td>262.2</td>\n",
       "      <td>262.2</td>\n",
       "      <td>119</td>\n",
       "      <td>180.0</td>\n",
       "      <td>49.7</td>\n",
       "    </tr>\n",
       "    <tr>\n",
       "      <th>86</th>\n",
       "      <td>Friday</td>\n",
       "      <td>Cameron Crowe</td>\n",
       "      <td>mystery</td>\n",
       "      <td>Vanilla Sky</td>\n",
       "      <td>14/12/2001</td>\n",
       "      <td>Paramount Pictures</td>\n",
       "      <td>273.1</td>\n",
       "      <td>70.0</td>\n",
       "      <td>203.4</td>\n",
       "      <td>6.9</td>\n",
       "      <td>3.36</td>\n",
       "      <td>102.8</td>\n",
       "      <td>50.5</td>\n",
       "      <td>133.4</td>\n",
       "      <td>190.6</td>\n",
       "      <td>136</td>\n",
       "      <td>100.6</td>\n",
       "      <td>49.5</td>\n",
       "    </tr>\n",
       "    <tr>\n",
       "      <th>10</th>\n",
       "      <td>Friday</td>\n",
       "      <td>Eric Brevig</td>\n",
       "      <td>animation</td>\n",
       "      <td>Yogi Bear</td>\n",
       "      <td>17/12/2010</td>\n",
       "      <td>WB</td>\n",
       "      <td>219.9</td>\n",
       "      <td>80.0</td>\n",
       "      <td>201.6</td>\n",
       "      <td>4.5</td>\n",
       "      <td>2.17</td>\n",
       "      <td>101.3</td>\n",
       "      <td>50.3</td>\n",
       "      <td>121.6</td>\n",
       "      <td>152.0</td>\n",
       "      <td>80</td>\n",
       "      <td>100.2</td>\n",
       "      <td>49.7</td>\n",
       "    </tr>\n",
       "    <tr>\n",
       "      <th>171</th>\n",
       "      <td>Friday</td>\n",
       "      <td>Steve Hickner, Simon J. Smith</td>\n",
       "      <td>animation</td>\n",
       "      <td>Bee Movie</td>\n",
       "      <td>2/11/2007</td>\n",
       "      <td>Pacific Data/DreamWorks</td>\n",
       "      <td>329.9</td>\n",
       "      <td>150.0</td>\n",
       "      <td>287.6</td>\n",
       "      <td>6.2</td>\n",
       "      <td>3.01</td>\n",
       "      <td>161</td>\n",
       "      <td>56.0</td>\n",
       "      <td>137.6</td>\n",
       "      <td>91.7</td>\n",
       "      <td>91</td>\n",
       "      <td>126.6</td>\n",
       "      <td>44.0</td>\n",
       "    </tr>\n",
       "    <tr>\n",
       "      <th>107</th>\n",
       "      <td>Friday</td>\n",
       "      <td>David Zucker</td>\n",
       "      <td>comedy</td>\n",
       "      <td>Scary Movie 3</td>\n",
       "      <td>24/10/2003</td>\n",
       "      <td>Dimension Films</td>\n",
       "      <td>285.2</td>\n",
       "      <td>45.0</td>\n",
       "      <td>220.7</td>\n",
       "      <td>5.4</td>\n",
       "      <td>2.46</td>\n",
       "      <td>110.7</td>\n",
       "      <td>50.2</td>\n",
       "      <td>175.7</td>\n",
       "      <td>390.4</td>\n",
       "      <td>84</td>\n",
       "      <td>110.0</td>\n",
       "      <td>49.8</td>\n",
       "    </tr>\n",
       "    <tr>\n",
       "      <th>3</th>\n",
       "      <td>Friday</td>\n",
       "      <td>Phil Lord, Chris Miller</td>\n",
       "      <td>comedy</td>\n",
       "      <td>21 Jump Street</td>\n",
       "      <td>16/03/2012</td>\n",
       "      <td>Sony</td>\n",
       "      <td>208.8</td>\n",
       "      <td>42.0</td>\n",
       "      <td>201.6</td>\n",
       "      <td>7.2</td>\n",
       "      <td>3.62</td>\n",
       "      <td>63.1</td>\n",
       "      <td>31.3</td>\n",
       "      <td>159.6</td>\n",
       "      <td>380.0</td>\n",
       "      <td>109</td>\n",
       "      <td>138.4</td>\n",
       "      <td>68.7</td>\n",
       "    </tr>\n",
       "    <tr>\n",
       "      <th>543</th>\n",
       "      <td>Thursday</td>\n",
       "      <td>Steven Spielberg</td>\n",
       "      <td>action</td>\n",
       "      <td>The Lost World: Jurassic Park</td>\n",
       "      <td>22/05/1997</td>\n",
       "      <td>Universal</td>\n",
       "      <td>916.5</td>\n",
       "      <td>75.0</td>\n",
       "      <td>618.6</td>\n",
       "      <td>6.5</td>\n",
       "      <td>2.96</td>\n",
       "      <td>389.6</td>\n",
       "      <td>63.0</td>\n",
       "      <td>543.6</td>\n",
       "      <td>724.8</td>\n",
       "      <td>129</td>\n",
       "      <td>229.1</td>\n",
       "      <td>37.0</td>\n",
       "    </tr>\n",
       "    <tr>\n",
       "      <th>48</th>\n",
       "      <td>Thursday</td>\n",
       "      <td>Doug Liman</td>\n",
       "      <td>action</td>\n",
       "      <td>Jumper</td>\n",
       "      <td>14/02/2008</td>\n",
       "      <td>Fox</td>\n",
       "      <td>245.4</td>\n",
       "      <td>82.5</td>\n",
       "      <td>222.2</td>\n",
       "      <td>6.1</td>\n",
       "      <td>2.98</td>\n",
       "      <td>142.1</td>\n",
       "      <td>63.9</td>\n",
       "      <td>139.7</td>\n",
       "      <td>169.3</td>\n",
       "      <td>88</td>\n",
       "      <td>80.2</td>\n",
       "      <td>36.1</td>\n",
       "    </tr>\n",
       "  </tbody>\n",
       "</table>\n",
       "</div>"
      ],
      "text/plain": [
       "    Day of Week                       Director      Genre  \\\n",
       "279      Friday                 Matthew Vaughn     action   \n",
       "555      Friday                 Alfonso Cuarn  adventure   \n",
       "364      Friday                     Tim Burton     action   \n",
       "86       Friday                  Cameron Crowe    mystery   \n",
       "10       Friday                    Eric Brevig  animation   \n",
       "171      Friday  Steve Hickner, Simon J. Smith  animation   \n",
       "107      Friday                   David Zucker     comedy   \n",
       "3        Friday        Phil Lord, Chris Miller     comedy   \n",
       "543    Thursday               Steven Spielberg     action   \n",
       "48     Thursday                     Doug Liman     action   \n",
       "\n",
       "                                  Movie Title Release Date  \\\n",
       "279              Kingsman: The Secret Service   13/02/2015   \n",
       "555  Harry Potter and the Prisoner of Azkaban    4/06/2004   \n",
       "364                 Planet of the Apes (2001)   27/07/2001   \n",
       "86                                Vanilla Sky   14/12/2001   \n",
       "10                                  Yogi Bear   17/12/2010   \n",
       "171                                 Bee Movie    2/11/2007   \n",
       "107                             Scary Movie 3   24/10/2003   \n",
       "3                              21 Jump Street   16/03/2012   \n",
       "543             The Lost World: Jurassic Park   22/05/1997   \n",
       "48                                     Jumper   14/02/2008   \n",
       "\n",
       "                      Studio Adjusted Gross ($mill)  Budget ($mill)  \\\n",
       "279                      Fox                  403.8            81.0   \n",
       "555                       WB                  1,003           130.0   \n",
       "364                      Fox                  486.4           100.0   \n",
       "86        Paramount Pictures                  273.1            70.0   \n",
       "10                        WB                  219.9            80.0   \n",
       "171  Pacific Data/DreamWorks                  329.9           150.0   \n",
       "107          Dimension Films                  285.2            45.0   \n",
       "3                       Sony                  208.8            42.0   \n",
       "543                Universal                  916.5            75.0   \n",
       "48                       Fox                  245.4            82.5   \n",
       "\n",
       "    Gross ($mill)  IMDb Rating  MovieLens Rating Overseas ($mill)  Overseas%  \\\n",
       "279         403.8          7.9              3.66            275.5       68.2   \n",
       "555         796.7          7.8              3.75            547.1       68.7   \n",
       "364         362.2          5.7              2.74            182.2       50.3   \n",
       "86          203.4          6.9              3.36            102.8       50.5   \n",
       "10          201.6          4.5              2.17            101.3       50.3   \n",
       "171         287.6          6.2              3.01              161       56.0   \n",
       "107         220.7          5.4              2.46            110.7       50.2   \n",
       "3           201.6          7.2              3.62             63.1       31.3   \n",
       "543         618.6          6.5              2.96            389.6       63.0   \n",
       "48          222.2          6.1              2.98            142.1       63.9   \n",
       "\n",
       "    Profit ($mill)  Profit%  Runtime (min)  US ($mill)  Gross % US  \n",
       "279          322.8    398.5            129       128.2        31.8  \n",
       "555          666.7    512.9            141       249.5        31.3  \n",
       "364          262.2    262.2            119       180.0        49.7  \n",
       "86           133.4    190.6            136       100.6        49.5  \n",
       "10           121.6    152.0             80       100.2        49.7  \n",
       "171          137.6     91.7             91       126.6        44.0  \n",
       "107          175.7    390.4             84       110.0        49.8  \n",
       "3            159.6    380.0            109       138.4        68.7  \n",
       "543          543.6    724.8            129       229.1        37.0  \n",
       "48           139.7    169.3             88        80.2        36.1  "
      ]
     },
     "execution_count": 69,
     "metadata": {},
     "output_type": "execute_result"
    }
   ],
   "source": [
    "movies_df.sample(10, random_state=99)"
   ]
  },
  {
   "cell_type": "code",
   "execution_count": 70,
   "id": "6db39679-8849-4d2f-b2c9-d1e8939cb3b4",
   "metadata": {},
   "outputs": [
    {
     "data": {
      "text/plain": [
       "(608, 18)"
      ]
     },
     "execution_count": 70,
     "metadata": {},
     "output_type": "execute_result"
    }
   ],
   "source": [
    "movies_df.shape"
   ]
  },
  {
   "cell_type": "code",
   "execution_count": 71,
   "id": "c6e2bc19-a673-4596-9846-2bef96b6637c",
   "metadata": {},
   "outputs": [
    {
     "data": {
      "text/plain": [
       "Index(['Day of Week', 'Director', 'Genre', 'Movie Title', 'Release Date',\n",
       "       'Studio', 'Adjusted Gross ($mill)', 'Budget ($mill)', 'Gross ($mill)',\n",
       "       'IMDb Rating', 'MovieLens Rating', 'Overseas ($mill)', 'Overseas%',\n",
       "       'Profit ($mill)', 'Profit%', 'Runtime (min)', 'US ($mill)',\n",
       "       'Gross % US'],\n",
       "      dtype='object')"
      ]
     },
     "execution_count": 71,
     "metadata": {},
     "output_type": "execute_result"
    }
   ],
   "source": [
    "movies_df.columns"
   ]
  },
  {
   "cell_type": "markdown",
   "id": "af49e2e5-22cf-4020-b9d9-fb9541dcff47",
   "metadata": {},
   "source": [
    "** Renaming `columns` to better visualize datas later.**"
   ]
  },
  {
   "cell_type": "markdown",
   "id": "0e7651fa-1474-4ab4-80be-39b80faedf14",
   "metadata": {},
   "source": [
    "#### Inconsistent data/ Typing Error/ Misunderstanding of Gross Income definition Terms.\n",
    "In most cases, `Gross Income` is greater thean `Adjusted Gross Income`. But in our dataframe every `Adjusted Gross Income` is greater than `Gross Income`. `Gross Income` typically refers to the total revenue generated by a movie before deducting expenses, while `Adjusted Gross` or `Adjusted Gross Receipts` usually refers to the gross income after certain deductions, such as distribution fees or exhibitor splits, have been subtracted.\n",
    "\n",
    "Adjusted with exchanging name of each columns."
   ]
  },
  {
   "cell_type": "code",
   "execution_count": 72,
   "id": "f195018f-63b9-4520-8c03-a44004ee3dd4",
   "metadata": {},
   "outputs": [],
   "source": [
    "movies_df.columns = ['Day_of_Week', 'Director', 'Genre', 'Title', 'Release_date', 'Studio',\n",
    "                     'Gross_collection_mill','Budget_in_million', 'Adjusted_Gross_mill',\n",
    "                     'IMDb_Rating', 'MovieLens_Rating', 'Overseas_mill', 'Overseas_percent',\n",
    "                     'Profit_in_mill', 'Profit_percent', 'Runtime_in_minutes',\n",
    "                     'US_mill', 'Gross_percent_US']"
   ]
  },
  {
   "cell_type": "code",
   "execution_count": 73,
   "id": "33f8173a-b7fe-485a-a4cd-9208247ab9d7",
   "metadata": {},
   "outputs": [
    {
     "data": {
      "text/plain": [
       "Index(['Day_of_Week', 'Director', 'Genre', 'Title', 'Release_date', 'Studio',\n",
       "       'Gross_collection_mill', 'Budget_in_million', 'Adjusted_Gross_mill',\n",
       "       'IMDb_Rating', 'MovieLens_Rating', 'Overseas_mill', 'Overseas_percent',\n",
       "       'Profit_in_mill', 'Profit_percent', 'Runtime_in_minutes', 'US_mill',\n",
       "       'Gross_percent_US'],\n",
       "      dtype='object')"
      ]
     },
     "execution_count": 73,
     "metadata": {},
     "output_type": "execute_result"
    }
   ],
   "source": [
    "movies_df.columns"
   ]
  },
  {
   "cell_type": "code",
   "execution_count": 74,
   "id": "b31c9fce-16b7-4caa-ac0d-d77847bed52c",
   "metadata": {},
   "outputs": [
    {
     "data": {
      "text/plain": [
       "10944"
      ]
     },
     "execution_count": 74,
     "metadata": {},
     "output_type": "execute_result"
    }
   ],
   "source": [
    "movies_df.size"
   ]
  },
  {
   "cell_type": "markdown",
   "id": "517cf558-7d57-419c-a7ae-06bbeb2bd4a5",
   "metadata": {},
   "source": [
    "**Checking `Null` values in a dataframe.**"
   ]
  },
  {
   "cell_type": "code",
   "execution_count": 75,
   "id": "273b18c1-dc70-4d0d-bc04-b5f81af112de",
   "metadata": {},
   "outputs": [
    {
     "data": {
      "text/plain": [
       "Day_of_Week              0\n",
       "Director                 0\n",
       "Genre                    0\n",
       "Title                    0\n",
       "Release_date             0\n",
       "Studio                   0\n",
       "Gross_collection_mill    0\n",
       "Budget_in_million        0\n",
       "Adjusted_Gross_mill      0\n",
       "IMDb_Rating              0\n",
       "MovieLens_Rating         0\n",
       "Overseas_mill            0\n",
       "Overseas_percent         0\n",
       "Profit_in_mill           0\n",
       "Profit_percent           0\n",
       "Runtime_in_minutes       0\n",
       "US_mill                  0\n",
       "Gross_percent_US         0\n",
       "dtype: int64"
      ]
     },
     "execution_count": 75,
     "metadata": {},
     "output_type": "execute_result"
    }
   ],
   "source": [
    "movies_df.isnull().sum()"
   ]
  },
  {
   "cell_type": "markdown",
   "id": "3fb681bb-f0a7-4e17-814e-6703c375c3b6",
   "metadata": {},
   "source": [
    "**Checking `Duplicates` in a DataFrame**"
   ]
  },
  {
   "cell_type": "code",
   "execution_count": 76,
   "id": "256ed7fd-d546-45aa-9c79-bbd3d78d93da",
   "metadata": {},
   "outputs": [
    {
     "data": {
      "text/plain": [
       "False    608\n",
       "Name: count, dtype: int64"
      ]
     },
     "execution_count": 76,
     "metadata": {},
     "output_type": "execute_result"
    }
   ],
   "source": [
    "movies_df.duplicated().value_counts()"
   ]
  },
  {
   "cell_type": "markdown",
   "id": "bb68a57a-ab09-4897-b447-eb76dbb15e93",
   "metadata": {},
   "source": [
    "In the above dataframe there is no any null value and duplicated values. So, we don't have to deal with it we keep data as it is."
   ]
  },
  {
   "cell_type": "markdown",
   "id": "75e400f5-1573-415f-86d1-aa9a34563e41",
   "metadata": {},
   "source": [
    "#### Establishing correlation between two Different Ratings columns. And visualizing it using heatmap"
   ]
  },
  {
   "cell_type": "code",
   "execution_count": 77,
   "id": "a8c46aad-0c41-48a5-ad50-3508b8620b5a",
   "metadata": {},
   "outputs": [],
   "source": [
    "corr_ratings = movies_df[['IMDb_Rating', 'MovieLens_Rating']].corr()"
   ]
  },
  {
   "cell_type": "code",
   "execution_count": 78,
   "id": "80ce8f15-9128-4962-a97b-371661beebeb",
   "metadata": {},
   "outputs": [
    {
     "data": {
      "text/plain": [
       "<Axes: >"
      ]
     },
     "execution_count": 78,
     "metadata": {},
     "output_type": "execute_result"
    },
    {
     "data": {
      "image/png": "[encoded data removed]",
      "text/plain": [
       "<Figure size 640x480 with 2 Axes>"
      ]
     },
     "metadata": {},
     "output_type": "display_data"
    }
   ],
   "source": [
    "sns.heatmap(corr_ratings, annot=True)"
   ]
  },
  {
   "cell_type": "code",
   "execution_count": 79,
   "id": "29ace817-96d7-4cf9-9d39-774a8e4e26d7",
   "metadata": {},
   "outputs": [
    {
     "data": {
      "text/plain": [
       "array(['Buena Vista Studios', 'Lionsgate', 'Sony', 'Universal',\n",
       "       'Paramount Pictures', 'WB', 'Weinstein Company',\n",
       "       'UA Entertainment', 'WB/New Line', 'New Line Cinema', 'Fox',\n",
       "       'TriStar', 'Relativity Media', 'Screen Gems', 'StudioCanal',\n",
       "       'Fox Searchlight Pictures', 'MiraMax', 'Path_ Distribution',\n",
       "       'DreamWorks', 'Lionsgate Films', 'Revolution Studios',\n",
       "       'Dimension Films', 'USA', 'Lionsgate/Summit',\n",
       "       'Sony Picture Classics', 'Pacific Data/DreamWorks', 'Disney',\n",
       "       'Art House Studios', 'Colombia Pictures', 'Gramercy Pictures',\n",
       "       'Summit Entertainment', 'Vestron Pictures', 'MGM', 'Orion', 'IFC',\n",
       "       'New Market Films'], dtype=object)"
      ]
     },
     "execution_count": 79,
     "metadata": {},
     "output_type": "execute_result"
    }
   ],
   "source": [
    "movies_df['Studio'].unique()"
   ]
  },
  {
   "cell_type": "markdown",
   "id": "9355633b-26b9-46fe-8094-0c3885bbe130",
   "metadata": {},
   "source": [
    "#### Lets see visually, which studio produce most number of movies."
   ]
  },
  {
   "cell_type": "code",
   "execution_count": 80,
   "id": "8a9b323e-1de0-4fcd-9f92-9f5dcd467bd6",
   "metadata": {},
   "outputs": [
    {
     "data": {
      "image/png": "[encoded data removed]",
      "text/plain": [
       "<Figure size 600x1000 with 1 Axes>"
      ]
     },
     "metadata": {},
     "output_type": "display_data"
    }
   ],
   "source": [
    "plt.figure(figsize=(6, 10), dpi=100)\n",
    "sns.countplot(y=\"Studio\", data=movies_df, palette=\"Set2\", order=movies_df['Studio'].value_counts().index[0:20])\n",
    "plt.show()"
   ]
  },
  {
   "cell_type": "markdown",
   "id": "1558a876-827c-4072-93d8-6fb085ec5a29",
   "metadata": {},
   "source": [
    "<br>"
   ]
  },
  {
   "cell_type": "markdown",
   "id": "b90d423f-75f4-4458-bab4-45ee63c08eb4",
   "metadata": {},
   "source": [
    "#### Lets see what genre of movies are most in this dataset."
   ]
  },
  {
   "cell_type": "code",
   "execution_count": 81,
   "id": "e2572fdf-4328-4b80-a13d-c48868f2b066",
   "metadata": {},
   "outputs": [
    {
     "data": {
      "text/plain": [
       "array(['action', 'comedy', 'adventure', 'horror', 'animation',\n",
       "       'biography', 'drama', 'musical', 'sci-fi', 'crime', 'romance',\n",
       "       'fantasy', 'mystery', 'thriller', 'documentary'], dtype=object)"
      ]
     },
     "execution_count": 81,
     "metadata": {},
     "output_type": "execute_result"
    }
   ],
   "source": [
    "movies_df['Genre'].unique()"
   ]
  },
  {
   "cell_type": "code",
   "execution_count": 82,
   "id": "cbb5aee3-5b1f-4c39-bb83-04d0f8e755be",
   "metadata": {},
   "outputs": [
    {
     "data": {
      "image/png": "[encoded data removed]",
      "text/plain": [
       "<Figure size 1000x1000 with 1 Axes>"
      ]
     },
     "metadata": {},
     "output_type": "display_data"
    }
   ],
   "source": [
    "plt.figure(figsize=(10, 10), dpi=100)\n",
    "sns.countplot(y=\"Genre\", data=movies_df, palette=\"Set2\", order=movies_df['Genre'].value_counts().index[0:15])\n",
    "plt.title(\"Different Genre of Movies\")\n",
    "plt.show()\n"
   ]
  },
  {
   "cell_type": "markdown",
   "id": "7038ae9b-768a-44db-a750-8f44403347a1",
   "metadata": {},
   "source": [
    "<br>"
   ]
  },
  {
   "cell_type": "markdown",
   "id": "c97dc902-3952-42fc-b762-2baf3756d191",
   "metadata": {},
   "source": [
    "**In this Section we are going to see the `information` of our DataFrame.**"
   ]
  },
  {
   "cell_type": "code",
   "execution_count": 83,
   "id": "2ed0f07f-61b6-4a38-abed-27752cee01ef",
   "metadata": {},
   "outputs": [
    {
     "name": "stdout",
     "output_type": "stream",
     "text": [
      "<class 'pandas.core.frame.DataFrame'>\n",
      "RangeIndex: 608 entries, 0 to 607\n",
      "Data columns (total 18 columns):\n",
      " #   Column                 Non-Null Count  Dtype  \n",
      "---  ------                 --------------  -----  \n",
      " 0   Day_of_Week            608 non-null    object \n",
      " 1   Director               608 non-null    object \n",
      " 2   Genre                  608 non-null    object \n",
      " 3   Title                  608 non-null    object \n",
      " 4   Release_date           608 non-null    object \n",
      " 5   Studio                 608 non-null    object \n",
      " 6   Gross_collection_mill  608 non-null    object \n",
      " 7   Budget_in_million      608 non-null    float64\n",
      " 8   Adjusted_Gross_mill    608 non-null    object \n",
      " 9   IMDb_Rating            608 non-null    float64\n",
      " 10  MovieLens_Rating       608 non-null    float64\n",
      " 11  Overseas_mill          608 non-null    object \n",
      " 12  Overseas_percent       608 non-null    float64\n",
      " 13  Profit_in_mill         608 non-null    object \n",
      " 14  Profit_percent         608 non-null    float64\n",
      " 15  Runtime_in_minutes     608 non-null    int64  \n",
      " 16  US_mill                608 non-null    float64\n",
      " 17  Gross_percent_US       608 non-null    float64\n",
      "dtypes: float64(7), int64(1), object(10)\n",
      "memory usage: 85.6+ KB\n"
     ]
    }
   ],
   "source": [
    "movies_df.info()"
   ]
  },
  {
   "cell_type": "markdown",
   "id": "2f37cdb8-a366-4da2-8b6e-46d6b8c7954d",
   "metadata": {},
   "source": [
    "#### Second Inconsistent Data \n",
    "I found that the profit/gross/net collections of movies are written as strings and are of object data type. Because of this, we could not calculate the mean budget collection of movies over the period of time.\n",
    "\n",
    "Now, first I am going to change `(','}` into `no space ('')`. Then I am going to convert the string object type to `float`"
   ]
  },
  {
   "cell_type": "code",
   "execution_count": 84,
   "id": "0697f772-5533-4dfc-ae45-0e72338aefab",
   "metadata": {},
   "outputs": [],
   "source": [
    "# Making list of columns to adjust its datatypes.\n",
    "col_to_adjust = ['Adjusted_Gross_mill','Gross_collection_mill', 'Overseas_mill', 'Profit_in_mill']\n",
    "\n",
    "# Using for loop to adjust all the columns at a time.\n",
    "for col_name in col_to_adjust:\n",
    "    movies_df[col_name] = movies_df[col_name].str.replace(\",\", \"\")\n",
    "    movies_df[col_name] = movies_df[col_name].astype(np.float64)"
   ]
  },
  {
   "cell_type": "code",
   "execution_count": 85,
   "id": "a884bf45-8b07-4c0e-8cef-72940f9f90bf",
   "metadata": {},
   "outputs": [
    {
     "name": "stdout",
     "output_type": "stream",
     "text": [
      "<class 'pandas.core.frame.DataFrame'>\n",
      "RangeIndex: 608 entries, 0 to 607\n",
      "Data columns (total 18 columns):\n",
      " #   Column                 Non-Null Count  Dtype  \n",
      "---  ------                 --------------  -----  \n",
      " 0   Day_of_Week            608 non-null    object \n",
      " 1   Director               608 non-null    object \n",
      " 2   Genre                  608 non-null    object \n",
      " 3   Title                  608 non-null    object \n",
      " 4   Release_date           608 non-null    object \n",
      " 5   Studio                 608 non-null    object \n",
      " 6   Gross_collection_mill  608 non-null    float64\n",
      " 7   Budget_in_million      608 non-null    float64\n",
      " 8   Adjusted_Gross_mill    608 non-null    float64\n",
      " 9   IMDb_Rating            608 non-null    float64\n",
      " 10  MovieLens_Rating       608 non-null    float64\n",
      " 11  Overseas_mill          608 non-null    float64\n",
      " 12  Overseas_percent       608 non-null    float64\n",
      " 13  Profit_in_mill         608 non-null    float64\n",
      " 14  Profit_percent         608 non-null    float64\n",
      " 15  Runtime_in_minutes     608 non-null    int64  \n",
      " 16  US_mill                608 non-null    float64\n",
      " 17  Gross_percent_US       608 non-null    float64\n",
      "dtypes: float64(11), int64(1), object(6)\n",
      "memory usage: 85.6+ KB\n"
     ]
    }
   ],
   "source": [
    "movies_df.info()"
   ]
  },
  {
   "cell_type": "code",
   "execution_count": 86,
   "id": "4c9aed05-4ad3-4b71-b261-06a864ae9c05",
   "metadata": {},
   "outputs": [
    {
     "data": {
      "text/plain": [
       "Day_of_Week                6\n",
       "Director                 337\n",
       "Genre                     15\n",
       "Title                    608\n",
       "Release_date             534\n",
       "Studio                    36\n",
       "Gross_collection_mill    585\n",
       "Budget_in_million        152\n",
       "Adjusted_Gross_mill      561\n",
       "IMDb_Rating               50\n",
       "MovieLens_Rating         182\n",
       "Overseas_mill            551\n",
       "Overseas_percent         328\n",
       "Profit_in_mill           566\n",
       "Profit_percent           589\n",
       "Runtime_in_minutes       102\n",
       "US_mill                  535\n",
       "Gross_percent_US         328\n",
       "dtype: int64"
      ]
     },
     "execution_count": 86,
     "metadata": {},
     "output_type": "execute_result"
    }
   ],
   "source": [
    "movies_df.nunique()"
   ]
  },
  {
   "cell_type": "code",
   "execution_count": 87,
   "id": "ec6a5784-ad0e-4423-bf98-a4aef59e16c8",
   "metadata": {},
   "outputs": [
    {
     "data": {
      "text/html": [
       "<div>\n",
       "<style scoped>\n",
       "    .dataframe tbody tr th:only-of-type {\n",
       "        vertical-align: middle;\n",
       "    }\n",
       "\n",
       "    .dataframe tbody tr th {\n",
       "        vertical-align: top;\n",
       "    }\n",
       "\n",
       "    .dataframe thead th {\n",
       "        text-align: right;\n",
       "    }\n",
       "</style>\n",
       "<table border=\"1\" class=\"dataframe\">\n",
       "  <thead>\n",
       "    <tr style=\"text-align: right;\">\n",
       "      <th></th>\n",
       "      <th>Gross_collection_mill</th>\n",
       "      <th>Budget_in_million</th>\n",
       "      <th>Adjusted_Gross_mill</th>\n",
       "      <th>IMDb_Rating</th>\n",
       "      <th>MovieLens_Rating</th>\n",
       "      <th>Overseas_mill</th>\n",
       "      <th>Overseas_percent</th>\n",
       "      <th>Profit_in_mill</th>\n",
       "      <th>Profit_percent</th>\n",
       "      <th>Runtime_in_minutes</th>\n",
       "      <th>US_mill</th>\n",
       "      <th>Gross_percent_US</th>\n",
       "    </tr>\n",
       "  </thead>\n",
       "  <tbody>\n",
       "    <tr>\n",
       "      <th>count</th>\n",
       "      <td>608.000000</td>\n",
       "      <td>608.000000</td>\n",
       "      <td>608.000000</td>\n",
       "      <td>608.000000</td>\n",
       "      <td>608.000000</td>\n",
       "      <td>608.000000</td>\n",
       "      <td>608.000000</td>\n",
       "      <td>608.000000</td>\n",
       "      <td>608.000000</td>\n",
       "      <td>608.000000</td>\n",
       "      <td>608.000000</td>\n",
       "      <td>608.000000</td>\n",
       "    </tr>\n",
       "    <tr>\n",
       "      <th>mean</th>\n",
       "      <td>545.153125</td>\n",
       "      <td>92.467928</td>\n",
       "      <td>413.466118</td>\n",
       "      <td>6.923849</td>\n",
       "      <td>3.340378</td>\n",
       "      <td>246.332237</td>\n",
       "      <td>57.698849</td>\n",
       "      <td>320.945559</td>\n",
       "      <td>719.278783</td>\n",
       "      <td>117.781250</td>\n",
       "      <td>167.135197</td>\n",
       "      <td>42.301151</td>\n",
       "    </tr>\n",
       "    <tr>\n",
       "      <th>std</th>\n",
       "      <td>438.996563</td>\n",
       "      <td>59.421407</td>\n",
       "      <td>258.612104</td>\n",
       "      <td>0.925890</td>\n",
       "      <td>0.454071</td>\n",
       "      <td>184.581069</td>\n",
       "      <td>12.334237</td>\n",
       "      <td>233.887737</td>\n",
       "      <td>1942.807248</td>\n",
       "      <td>23.179122</td>\n",
       "      <td>92.465903</td>\n",
       "      <td>12.334237</td>\n",
       "    </tr>\n",
       "    <tr>\n",
       "      <th>min</th>\n",
       "      <td>202.100000</td>\n",
       "      <td>0.600000</td>\n",
       "      <td>200.300000</td>\n",
       "      <td>3.600000</td>\n",
       "      <td>1.490000</td>\n",
       "      <td>46.900000</td>\n",
       "      <td>17.200000</td>\n",
       "      <td>19.900000</td>\n",
       "      <td>7.700000</td>\n",
       "      <td>30.000000</td>\n",
       "      <td>0.000000</td>\n",
       "      <td>0.000000</td>\n",
       "    </tr>\n",
       "    <tr>\n",
       "      <th>25%</th>\n",
       "      <td>316.950000</td>\n",
       "      <td>45.000000</td>\n",
       "      <td>246.600000</td>\n",
       "      <td>6.375000</td>\n",
       "      <td>3.037500</td>\n",
       "      <td>135.525000</td>\n",
       "      <td>49.900000</td>\n",
       "      <td>180.700000</td>\n",
       "      <td>201.850000</td>\n",
       "      <td>100.000000</td>\n",
       "      <td>106.950000</td>\n",
       "      <td>33.700000</td>\n",
       "    </tr>\n",
       "    <tr>\n",
       "      <th>50%</th>\n",
       "      <td>425.950000</td>\n",
       "      <td>80.000000</td>\n",
       "      <td>327.750000</td>\n",
       "      <td>6.900000</td>\n",
       "      <td>3.365000</td>\n",
       "      <td>189.650000</td>\n",
       "      <td>58.200000</td>\n",
       "      <td>247.700000</td>\n",
       "      <td>338.550000</td>\n",
       "      <td>116.000000</td>\n",
       "      <td>141.700000</td>\n",
       "      <td>41.800000</td>\n",
       "    </tr>\n",
       "    <tr>\n",
       "      <th>75%</th>\n",
       "      <td>645.625000</td>\n",
       "      <td>130.000000</td>\n",
       "      <td>475.500000</td>\n",
       "      <td>7.600000</td>\n",
       "      <td>3.672500</td>\n",
       "      <td>283.650000</td>\n",
       "      <td>66.300000</td>\n",
       "      <td>389.750000</td>\n",
       "      <td>650.100000</td>\n",
       "      <td>130.250000</td>\n",
       "      <td>202.100000</td>\n",
       "      <td>50.100000</td>\n",
       "    </tr>\n",
       "    <tr>\n",
       "      <th>max</th>\n",
       "      <td>6846.700000</td>\n",
       "      <td>300.000000</td>\n",
       "      <td>2788.000000</td>\n",
       "      <td>9.200000</td>\n",
       "      <td>4.500000</td>\n",
       "      <td>2027.500000</td>\n",
       "      <td>100.000000</td>\n",
       "      <td>2551.000000</td>\n",
       "      <td>41333.300000</td>\n",
       "      <td>238.000000</td>\n",
       "      <td>760.500000</td>\n",
       "      <td>82.800000</td>\n",
       "    </tr>\n",
       "  </tbody>\n",
       "</table>\n",
       "</div>"
      ],
      "text/plain": [
       "       Gross_collection_mill  Budget_in_million  Adjusted_Gross_mill  \\\n",
       "count             608.000000         608.000000           608.000000   \n",
       "mean              545.153125          92.467928           413.466118   \n",
       "std               438.996563          59.421407           258.612104   \n",
       "min               202.100000           0.600000           200.300000   \n",
       "25%               316.950000          45.000000           246.600000   \n",
       "50%               425.950000          80.000000           327.750000   \n",
       "75%               645.625000         130.000000           475.500000   \n",
       "max              6846.700000         300.000000          2788.000000   \n",
       "\n",
       "       IMDb_Rating  MovieLens_Rating  Overseas_mill  Overseas_percent  \\\n",
       "count   608.000000        608.000000     608.000000        608.000000   \n",
       "mean      6.923849          3.340378     246.332237         57.698849   \n",
       "std       0.925890          0.454071     184.581069         12.334237   \n",
       "min       3.600000          1.490000      46.900000         17.200000   \n",
       "25%       6.375000          3.037500     135.525000         49.900000   \n",
       "50%       6.900000          3.365000     189.650000         58.200000   \n",
       "75%       7.600000          3.672500     283.650000         66.300000   \n",
       "max       9.200000          4.500000    2027.500000        100.000000   \n",
       "\n",
       "       Profit_in_mill  Profit_percent  Runtime_in_minutes     US_mill  \\\n",
       "count      608.000000      608.000000          608.000000  608.000000   \n",
       "mean       320.945559      719.278783          117.781250  167.135197   \n",
       "std        233.887737     1942.807248           23.179122   92.465903   \n",
       "min         19.900000        7.700000           30.000000    0.000000   \n",
       "25%        180.700000      201.850000          100.000000  106.950000   \n",
       "50%        247.700000      338.550000          116.000000  141.700000   \n",
       "75%        389.750000      650.100000          130.250000  202.100000   \n",
       "max       2551.000000    41333.300000          238.000000  760.500000   \n",
       "\n",
       "       Gross_percent_US  \n",
       "count        608.000000  \n",
       "mean          42.301151  \n",
       "std           12.334237  \n",
       "min            0.000000  \n",
       "25%           33.700000  \n",
       "50%           41.800000  \n",
       "75%           50.100000  \n",
       "max           82.800000  "
      ]
     },
     "execution_count": 87,
     "metadata": {},
     "output_type": "execute_result"
    }
   ],
   "source": [
    "movies_df.describe()"
   ]
  },
  {
   "cell_type": "markdown",
   "id": "57fba22f-360f-4650-90a1-ba2db3134237",
   "metadata": {},
   "source": [
    "<br>"
   ]
  },
  {
   "cell_type": "markdown",
   "id": "f2b4a82e-5f79-40b1-b414-8514f59627c6",
   "metadata": {},
   "source": [
    "#### Making separate columns for year only."
   ]
  },
  {
   "cell_type": "code",
   "execution_count": 88,
   "id": "55e7fbe2-17ec-4b36-bad8-806ba7ef5663",
   "metadata": {},
   "outputs": [
    {
     "data": {
      "text/plain": [
       "493    23/03/2012\n",
       "525    21/05/2010\n",
       "209    14/07/1999\n",
       "25     25/01/2013\n",
       "595    21/05/1980\n",
       "29     14/08/2009\n",
       "368     2/11/2012\n",
       "590    15/07/2011\n",
       "242    25/12/2008\n",
       "193    14/10/1994\n",
       "347    25/12/2002\n",
       "500    13/11/1991\n",
       "Name: Release_date, dtype: object"
      ]
     },
     "execution_count": 88,
     "metadata": {},
     "output_type": "execute_result"
    }
   ],
   "source": [
    "movies_df['Release_date'].sample(12)"
   ]
  },
  {
   "cell_type": "code",
   "execution_count": 89,
   "id": "873e538a-3875-49f6-8211-e56be24153ff",
   "metadata": {},
   "outputs": [],
   "source": [
    "movies_df['Release_date'] = pd.to_datetime(movies_df['Release_date'],\n",
    "                                           format='mixed', dayfirst=True)"
   ]
  },
  {
   "cell_type": "code",
   "execution_count": 90,
   "id": "0f6dcb17-b299-4ebe-8956-e75b151e626e",
   "metadata": {},
   "outputs": [
    {
     "name": "stdout",
     "output_type": "stream",
     "text": [
      "483    1992\n",
      "359    2000\n",
      "141    2006\n",
      "286    2009\n",
      "104    2002\n",
      "Name: Year, dtype: int32\n"
     ]
    }
   ],
   "source": [
    "movies_df['Year'] = movies_df['Release_date'].dt.year\n",
    "print(movies_df.Year.sample(5))"
   ]
  },
  {
   "cell_type": "markdown",
   "id": "21935eff-9cc5-4734-8aa8-9014172771af",
   "metadata": {},
   "source": [
    "**We are going to count how many movies were released from `2007` to `2015`. After this, we will create a `doughnut plot` to visualize all the data and `explode` the year with the most movies released in a year.**"
   ]
  },
  {
   "cell_type": "code",
   "execution_count": 91,
   "id": "87612852-37d9-431e-9b7c-96c734d66685",
   "metadata": {},
   "outputs": [
    {
     "name": "stdout",
     "output_type": "stream",
     "text": [
      "2007: 26\n",
      "2008: 32\n",
      "2009: 33\n",
      "2010: 38\n",
      "2011: 34\n",
      "2012: 37\n",
      "2013: 39\n",
      "2014: 42\n",
      "2015: 16\n"
     ]
    }
   ],
   "source": [
    "filter = [2007, 2008, 2009, 2010, 2011, 2012, 2013, 2014, 2015]\n",
    "\n",
    "counts = [len(movies_df[movies_df['Year'] == year_count]) for year_count in filter]\n",
    "for year, count in zip(filter, counts):\n",
    "    print(f\"{year}: {count}\")"
   ]
  },
  {
   "cell_type": "code",
   "execution_count": 92,
   "id": "960eab15-3fdd-474b-9706-a4d65bff26f4",
   "metadata": {},
   "outputs": [
    {
     "data": {
      "image/png": "[encoded data removed]",
      "text/plain": [
       "<Figure size 640x480 with 1 Axes>"
      ]
     },
     "metadata": {},
     "output_type": "display_data"
    }
   ],
   "source": [
    "explode = (0, 0, 0, 0, 0, 0, 0, 0.15, 0) # Providing length as of elements in the data\n",
    "\n",
    "# Create a doughnot Plot\n",
    "fig, ax = plt.subplots()\n",
    "ax.pie(counts, labels=filter, explode=explode, autopct='%1.1f%%', startangle=90,\n",
    "       shadow=True, colors=plt.cm.tab20.colors[:len(counts)])\n",
    "ax.axis('equal') # Equal aspect ratio ensures that pie is drawn as a circle \n",
    "\n",
    "# Draw a white circle at the center to create a doughnot plot\n",
    "centre = plt.Circle((0,0), 0.7, color='white', fc='white', linewidth=1.25)\n",
    "fig.gca().add_artist(centre)\n",
    "\n",
    "# Title\n",
    "plt.title(\"Doughnot Plot\", color='Black', fontsize=15)\n",
    "\n",
    "plt.show()"
   ]
  },
  {
   "cell_type": "markdown",
   "id": "5caf399e-d4f0-4d72-8295-17e7c0311e70",
   "metadata": {},
   "source": [
    "This `donut plot` helps us visualize the year with the highest number of movie releases between 2007 and 2015."
   ]
  },
  {
   "cell_type": "markdown",
   "id": "24d143bb-16c2-45b9-a01f-037c27dde91a",
   "metadata": {},
   "source": [
    "<br>"
   ]
  },
  {
   "cell_type": "markdown",
   "id": "b0e9afe5-f135-4d23-9f7f-43e693156390",
   "metadata": {},
   "source": [
    "#### Income Growth of Different Genre over the year:"
   ]
  },
  {
   "cell_type": "code",
   "execution_count": 93,
   "id": "4febce6c-c1a6-4b49-a44c-27ba1070d6fb",
   "metadata": {},
   "outputs": [
    {
     "data": {
      "text/plain": [
       "Index(['Day_of_Week', 'Director', 'Genre', 'Title', 'Release_date', 'Studio',\n",
       "       'Gross_collection_mill', 'Budget_in_million', 'Adjusted_Gross_mill',\n",
       "       'IMDb_Rating', 'MovieLens_Rating', 'Overseas_mill', 'Overseas_percent',\n",
       "       'Profit_in_mill', 'Profit_percent', 'Runtime_in_minutes', 'US_mill',\n",
       "       'Gross_percent_US', 'Year'],\n",
       "      dtype='object')"
      ]
     },
     "execution_count": 93,
     "metadata": {},
     "output_type": "execute_result"
    }
   ],
   "source": [
    "movies_df.columns"
   ]
  },
  {
   "cell_type": "code",
   "execution_count": 103,
   "id": "90b5a5a2-470c-4356-b98a-09e44267a294",
   "metadata": {},
   "outputs": [
    {
     "data": {
      "text/html": [
       "<div>\n",
       "<style scoped>\n",
       "    .dataframe tbody tr th:only-of-type {\n",
       "        vertical-align: middle;\n",
       "    }\n",
       "\n",
       "    .dataframe tbody tr th {\n",
       "        vertical-align: top;\n",
       "    }\n",
       "\n",
       "    .dataframe thead th {\n",
       "        text-align: right;\n",
       "    }\n",
       "</style>\n",
       "<table border=\"1\" class=\"dataframe\">\n",
       "  <thead>\n",
       "    <tr style=\"text-align: right;\">\n",
       "      <th></th>\n",
       "      <th>Gross_collection_mill</th>\n",
       "      <th>Adjusted_Gross_mill</th>\n",
       "      <th>Overseas_mill</th>\n",
       "      <th>Profit_in_mill</th>\n",
       "    </tr>\n",
       "    <tr>\n",
       "      <th>Year</th>\n",
       "      <th></th>\n",
       "      <th></th>\n",
       "      <th></th>\n",
       "      <th></th>\n",
       "    </tr>\n",
       "  </thead>\n",
       "  <tbody>\n",
       "    <tr>\n",
       "      <th>1939</th>\n",
       "      <td>6846.700000</td>\n",
       "      <td>400.200000</td>\n",
       "      <td>201.500000</td>\n",
       "      <td>396.300000</td>\n",
       "    </tr>\n",
       "    <tr>\n",
       "      <th>1961</th>\n",
       "      <td>1717.100000</td>\n",
       "      <td>215.900000</td>\n",
       "      <td>71.000000</td>\n",
       "      <td>140.900000</td>\n",
       "    </tr>\n",
       "    <tr>\n",
       "      <th>1967</th>\n",
       "      <td>2096.800000</td>\n",
       "      <td>294.500000</td>\n",
       "      <td>150.300000</td>\n",
       "      <td>224.000000</td>\n",
       "    </tr>\n",
       "    <tr>\n",
       "      <th>1972</th>\n",
       "      <td>1394.400000</td>\n",
       "      <td>245.100000</td>\n",
       "      <td>110.100000</td>\n",
       "      <td>238.100000</td>\n",
       "    </tr>\n",
       "    <tr>\n",
       "      <th>1973</th>\n",
       "      <td>2363.600000</td>\n",
       "      <td>441.300000</td>\n",
       "      <td>208.400000</td>\n",
       "      <td>429.300000</td>\n",
       "    </tr>\n",
       "    <tr>\n",
       "      <th>1975</th>\n",
       "      <td>2080.600000</td>\n",
       "      <td>470.700000</td>\n",
       "      <td>210.700000</td>\n",
       "      <td>458.700000</td>\n",
       "    </tr>\n",
       "    <tr>\n",
       "      <th>1977</th>\n",
       "      <td>1721.800000</td>\n",
       "      <td>438.766667</td>\n",
       "      <td>209.666667</td>\n",
       "      <td>427.266667</td>\n",
       "    </tr>\n",
       "    <tr>\n",
       "      <th>1978</th>\n",
       "      <td>1440.700000</td>\n",
       "      <td>395.000000</td>\n",
       "      <td>206.200000</td>\n",
       "      <td>389.000000</td>\n",
       "    </tr>\n",
       "    <tr>\n",
       "      <th>1979</th>\n",
       "      <td>688.800000</td>\n",
       "      <td>210.300000</td>\n",
       "      <td>140.000000</td>\n",
       "      <td>179.300000</td>\n",
       "    </tr>\n",
       "    <tr>\n",
       "      <th>1980</th>\n",
       "      <td>1553.800000</td>\n",
       "      <td>538.400000</td>\n",
       "      <td>247.900000</td>\n",
       "      <td>515.400000</td>\n",
       "    </tr>\n",
       "    <tr>\n",
       "      <th>1981</th>\n",
       "      <td>1020.000000</td>\n",
       "      <td>389.900000</td>\n",
       "      <td>141.800000</td>\n",
       "      <td>369.900000</td>\n",
       "    </tr>\n",
       "    <tr>\n",
       "      <th>1982</th>\n",
       "      <td>1953.900000</td>\n",
       "      <td>792.900000</td>\n",
       "      <td>357.800000</td>\n",
       "      <td>782.400000</td>\n",
       "    </tr>\n",
       "    <tr>\n",
       "      <th>1983</th>\n",
       "      <td>1134.300000</td>\n",
       "      <td>475.100000</td>\n",
       "      <td>165.800000</td>\n",
       "      <td>442.600000</td>\n",
       "    </tr>\n",
       "    <tr>\n",
       "      <th>1984</th>\n",
       "      <td>720.766667</td>\n",
       "      <td>314.900000</td>\n",
       "      <td>95.933333</td>\n",
       "      <td>290.566667</td>\n",
       "    </tr>\n",
       "    <tr>\n",
       "      <th>1985</th>\n",
       "      <td>723.433333</td>\n",
       "      <td>327.333333</td>\n",
       "      <td>164.366667</td>\n",
       "      <td>297.000000</td>\n",
       "    </tr>\n",
       "    <tr>\n",
       "      <th>1986</th>\n",
       "      <td>743.150000</td>\n",
       "      <td>342.500000</td>\n",
       "      <td>165.200000</td>\n",
       "      <td>332.500000</td>\n",
       "    </tr>\n",
       "    <tr>\n",
       "      <th>1987</th>\n",
       "      <td>582.033333</td>\n",
       "      <td>278.033333</td>\n",
       "      <td>153.266667</td>\n",
       "      <td>264.700000</td>\n",
       "    </tr>\n",
       "    <tr>\n",
       "      <th>1988</th>\n",
       "      <td>574.740000</td>\n",
       "      <td>285.920000</td>\n",
       "      <td>150.200000</td>\n",
       "      <td>253.320000</td>\n",
       "    </tr>\n",
       "    <tr>\n",
       "      <th>1989</th>\n",
       "      <td>559.933333</td>\n",
       "      <td>291.966667</td>\n",
       "      <td>146.988889</td>\n",
       "      <td>260.866667</td>\n",
       "    </tr>\n",
       "    <tr>\n",
       "      <th>1990</th>\n",
       "      <td>585.910000</td>\n",
       "      <td>322.030000</td>\n",
       "      <td>168.090000</td>\n",
       "      <td>279.430000</td>\n",
       "    </tr>\n",
       "    <tr>\n",
       "      <th>1991</th>\n",
       "      <td>615.250000</td>\n",
       "      <td>352.383333</td>\n",
       "      <td>200.700000</td>\n",
       "      <td>302.383333</td>\n",
       "    </tr>\n",
       "    <tr>\n",
       "      <th>1992</th>\n",
       "      <td>547.322222</td>\n",
       "      <td>322.911111</td>\n",
       "      <td>178.277778</td>\n",
       "      <td>285.022222</td>\n",
       "    </tr>\n",
       "    <tr>\n",
       "      <th>1993</th>\n",
       "      <td>619.355556</td>\n",
       "      <td>376.333333</td>\n",
       "      <td>214.688889</td>\n",
       "      <td>337.555556</td>\n",
       "    </tr>\n",
       "    <tr>\n",
       "      <th>1994</th>\n",
       "      <td>574.484615</td>\n",
       "      <td>358.015385</td>\n",
       "      <td>203.315385</td>\n",
       "      <td>315.338462</td>\n",
       "    </tr>\n",
       "    <tr>\n",
       "      <th>1995</th>\n",
       "      <td>472.600000</td>\n",
       "      <td>302.861538</td>\n",
       "      <td>184.838462</td>\n",
       "      <td>235.400000</td>\n",
       "    </tr>\n",
       "    <tr>\n",
       "      <th>1996</th>\n",
       "      <td>531.136364</td>\n",
       "      <td>350.436364</td>\n",
       "      <td>204.245455</td>\n",
       "      <td>277.436364</td>\n",
       "    </tr>\n",
       "    <tr>\n",
       "      <th>1997</th>\n",
       "      <td>640.687500</td>\n",
       "      <td>432.418750</td>\n",
       "      <td>269.487500</td>\n",
       "      <td>358.512500</td>\n",
       "    </tr>\n",
       "    <tr>\n",
       "      <th>1998</th>\n",
       "      <td>453.700000</td>\n",
       "      <td>310.976471</td>\n",
       "      <td>177.582353</td>\n",
       "      <td>233.152941</td>\n",
       "    </tr>\n",
       "    <tr>\n",
       "      <th>1999</th>\n",
       "      <td>522.768421</td>\n",
       "      <td>366.231579</td>\n",
       "      <td>200.931579</td>\n",
       "      <td>293.410526</td>\n",
       "    </tr>\n",
       "    <tr>\n",
       "      <th>2000</th>\n",
       "      <td>424.147619</td>\n",
       "      <td>307.138095</td>\n",
       "      <td>157.309524</td>\n",
       "      <td>220.914286</td>\n",
       "    </tr>\n",
       "    <tr>\n",
       "      <th>2001</th>\n",
       "      <td>527.981818</td>\n",
       "      <td>393.200000</td>\n",
       "      <td>217.309091</td>\n",
       "      <td>314.040909</td>\n",
       "    </tr>\n",
       "    <tr>\n",
       "      <th>2002</th>\n",
       "      <td>545.755000</td>\n",
       "      <td>412.865000</td>\n",
       "      <td>226.250000</td>\n",
       "      <td>336.230000</td>\n",
       "    </tr>\n",
       "    <tr>\n",
       "      <th>2003</th>\n",
       "      <td>516.768182</td>\n",
       "      <td>399.850000</td>\n",
       "      <td>231.386364</td>\n",
       "      <td>303.895455</td>\n",
       "    </tr>\n",
       "    <tr>\n",
       "      <th>2004</th>\n",
       "      <td>492.715385</td>\n",
       "      <td>391.388462</td>\n",
       "      <td>220.323077</td>\n",
       "      <td>301.207692</td>\n",
       "    </tr>\n",
       "    <tr>\n",
       "      <th>2005</th>\n",
       "      <td>522.636842</td>\n",
       "      <td>429.221053</td>\n",
       "      <td>253.289474</td>\n",
       "      <td>322.878947</td>\n",
       "    </tr>\n",
       "    <tr>\n",
       "      <th>2006</th>\n",
       "      <td>497.883333</td>\n",
       "      <td>422.077778</td>\n",
       "      <td>249.150000</td>\n",
       "      <td>321.438889</td>\n",
       "    </tr>\n",
       "    <tr>\n",
       "      <th>2007</th>\n",
       "      <td>513.142308</td>\n",
       "      <td>447.315385</td>\n",
       "      <td>262.396154</td>\n",
       "      <td>327.469231</td>\n",
       "    </tr>\n",
       "    <tr>\n",
       "      <th>2008</th>\n",
       "      <td>432.081250</td>\n",
       "      <td>391.193750</td>\n",
       "      <td>238.681250</td>\n",
       "      <td>289.434375</td>\n",
       "    </tr>\n",
       "    <tr>\n",
       "      <th>2009</th>\n",
       "      <td>544.745455</td>\n",
       "      <td>491.436364</td>\n",
       "      <td>299.700000</td>\n",
       "      <td>377.072727</td>\n",
       "    </tr>\n",
       "    <tr>\n",
       "      <th>2010</th>\n",
       "      <td>454.921053</td>\n",
       "      <td>417.136842</td>\n",
       "      <td>258.928947</td>\n",
       "      <td>303.834211</td>\n",
       "    </tr>\n",
       "    <tr>\n",
       "      <th>2011</th>\n",
       "      <td>484.458824</td>\n",
       "      <td>458.250000</td>\n",
       "      <td>299.576471</td>\n",
       "      <td>349.602941</td>\n",
       "    </tr>\n",
       "    <tr>\n",
       "      <th>2012</th>\n",
       "      <td>514.618919</td>\n",
       "      <td>496.848649</td>\n",
       "      <td>316.691892</td>\n",
       "      <td>370.527027</td>\n",
       "    </tr>\n",
       "    <tr>\n",
       "      <th>2013</th>\n",
       "      <td>477.389744</td>\n",
       "      <td>467.658974</td>\n",
       "      <td>296.348718</td>\n",
       "      <td>342.941026</td>\n",
       "    </tr>\n",
       "    <tr>\n",
       "      <th>2014</th>\n",
       "      <td>459.540476</td>\n",
       "      <td>457.473810</td>\n",
       "      <td>297.111905</td>\n",
       "      <td>344.866667</td>\n",
       "    </tr>\n",
       "    <tr>\n",
       "      <th>2015</th>\n",
       "      <td>546.531250</td>\n",
       "      <td>546.531250</td>\n",
       "      <td>347.950000</td>\n",
       "      <td>426.406250</td>\n",
       "    </tr>\n",
       "  </tbody>\n",
       "</table>\n",
       "</div>"
      ],
      "text/plain": [
       "      Gross_collection_mill  Adjusted_Gross_mill  Overseas_mill  \\\n",
       "Year                                                              \n",
       "1939            6846.700000           400.200000     201.500000   \n",
       "1961            1717.100000           215.900000      71.000000   \n",
       "1967            2096.800000           294.500000     150.300000   \n",
       "1972            1394.400000           245.100000     110.100000   \n",
       "1973            2363.600000           441.300000     208.400000   \n",
       "1975            2080.600000           470.700000     210.700000   \n",
       "1977            1721.800000           438.766667     209.666667   \n",
       "1978            1440.700000           395.000000     206.200000   \n",
       "1979             688.800000           210.300000     140.000000   \n",
       "1980            1553.800000           538.400000     247.900000   \n",
       "1981            1020.000000           389.900000     141.800000   \n",
       "1982            1953.900000           792.900000     357.800000   \n",
       "1983            1134.300000           475.100000     165.800000   \n",
       "1984             720.766667           314.900000      95.933333   \n",
       "1985             723.433333           327.333333     164.366667   \n",
       "1986             743.150000           342.500000     165.200000   \n",
       "1987             582.033333           278.033333     153.266667   \n",
       "1988             574.740000           285.920000     150.200000   \n",
       "1989             559.933333           291.966667     146.988889   \n",
       "1990             585.910000           322.030000     168.090000   \n",
       "1991             615.250000           352.383333     200.700000   \n",
       "1992             547.322222           322.911111     178.277778   \n",
       "1993             619.355556           376.333333     214.688889   \n",
       "1994             574.484615           358.015385     203.315385   \n",
       "1995             472.600000           302.861538     184.838462   \n",
       "1996             531.136364           350.436364     204.245455   \n",
       "1997             640.687500           432.418750     269.487500   \n",
       "1998             453.700000           310.976471     177.582353   \n",
       "1999             522.768421           366.231579     200.931579   \n",
       "2000             424.147619           307.138095     157.309524   \n",
       "2001             527.981818           393.200000     217.309091   \n",
       "2002             545.755000           412.865000     226.250000   \n",
       "2003             516.768182           399.850000     231.386364   \n",
       "2004             492.715385           391.388462     220.323077   \n",
       "2005             522.636842           429.221053     253.289474   \n",
       "2006             497.883333           422.077778     249.150000   \n",
       "2007             513.142308           447.315385     262.396154   \n",
       "2008             432.081250           391.193750     238.681250   \n",
       "2009             544.745455           491.436364     299.700000   \n",
       "2010             454.921053           417.136842     258.928947   \n",
       "2011             484.458824           458.250000     299.576471   \n",
       "2012             514.618919           496.848649     316.691892   \n",
       "2013             477.389744           467.658974     296.348718   \n",
       "2014             459.540476           457.473810     297.111905   \n",
       "2015             546.531250           546.531250     347.950000   \n",
       "\n",
       "      Profit_in_mill  \n",
       "Year                  \n",
       "1939      396.300000  \n",
       "1961      140.900000  \n",
       "1967      224.000000  \n",
       "1972      238.100000  \n",
       "1973      429.300000  \n",
       "1975      458.700000  \n",
       "1977      427.266667  \n",
       "1978      389.000000  \n",
       "1979      179.300000  \n",
       "1980      515.400000  \n",
       "1981      369.900000  \n",
       "1982      782.400000  \n",
       "1983      442.600000  \n",
       "1984      290.566667  \n",
       "1985      297.000000  \n",
       "1986      332.500000  \n",
       "1987      264.700000  \n",
       "1988      253.320000  \n",
       "1989      260.866667  \n",
       "1990      279.430000  \n",
       "1991      302.383333  \n",
       "1992      285.022222  \n",
       "1993      337.555556  \n",
       "1994      315.338462  \n",
       "1995      235.400000  \n",
       "1996      277.436364  \n",
       "1997      358.512500  \n",
       "1998      233.152941  \n",
       "1999      293.410526  \n",
       "2000      220.914286  \n",
       "2001      314.040909  \n",
       "2002      336.230000  \n",
       "2003      303.895455  \n",
       "2004      301.207692  \n",
       "2005      322.878947  \n",
       "2006      321.438889  \n",
       "2007      327.469231  \n",
       "2008      289.434375  \n",
       "2009      377.072727  \n",
       "2010      303.834211  \n",
       "2011      349.602941  \n",
       "2012      370.527027  \n",
       "2013      342.941026  \n",
       "2014      344.866667  \n",
       "2015      426.406250  "
      ]
     },
     "execution_count": 103,
     "metadata": {},
     "output_type": "execute_result"
    }
   ],
   "source": [
    "group_by_year = movies_df[['Gross_collection_mill', 'Adjusted_Gross_mill', 'Overseas_mill', 'Profit_in_mill', 'Year']].groupby(by='Year')\n",
    "group_by_year.mean()"
   ]
  },
  {
   "cell_type": "code",
   "execution_count": null,
   "id": "14961070-20aa-4e50-9ca5-e90083294a92",
   "metadata": {},
   "outputs": [],
   "source": []
  }
 ],
 "metadata": {
  "kernelspec": {
   "display_name": "Python 3 (ipykernel)",
   "language": "python",
   "name": "python3"
  },
  "language_info": {
   "codemirror_mode": {
    "name": "ipython",
    "version": 3
   },
   "file_extension": ".py",
   "mimetype": "text/x-python",
   "name": "python",
   "nbconvert_exporter": "python",
   "pygments_lexer": "ipython3",
   "version": "3.12.2"
  }
 },
 "nbformat": 4,
 "nbformat_minor": 5
}
