{
 "cells": [
  {
   "cell_type": "markdown",
   "id": "3b6f27bb-d02f-4c7d-b811-2cce7831bba6",
   "metadata": {},
   "source": [
    "### #Arithmetic Functions"
   ]
  },
  {
   "cell_type": "code",
   "execution_count": 9,
   "id": "975af280-c7f7-4f4e-88ec-bf552fb4ad67",
   "metadata": {},
   "outputs": [
    {
     "name": "stdout",
     "output_type": "stream",
     "text": [
      "100.0\n",
      "3.141592653589793\n",
      "10.0\n",
      "22\n",
      "33\n",
      "34\n",
      "33.0\n"
     ]
    }
   ],
   "source": [
    "import math \n",
    "\n",
    "x = 10\n",
    "y = 2\n",
    "\n",
    "z = math.pow(x, y)\n",
    "print(z)\n",
    "\n",
    "print(math.pi)\n",
    "print(math.sqrt(z))\n",
    "print(math.floor(22.3333))\n",
    "print(math.trunc(33.222))\n",
    "print(math.ceil(33.222))\n",
    "print(math.fabs(-33))"
   ]
  },
  {
   "cell_type": "markdown",
   "id": "de58ae25-ea95-47de-a816-b5ec904ac0df",
   "metadata": {},
   "source": [
    "### #Trignometric Function"
   ]
  },
  {
   "cell_type": "code",
   "execution_count": 16,
   "id": "f0765404-9033-478f-b2b6-fc204d0cd8c1",
   "metadata": {},
   "outputs": [
    {
     "name": "stdout",
     "output_type": "stream",
     "text": [
      "0.9999118601072672\n",
      "-0.013276747223059479\n",
      "0.5759586531581288\n",
      "1890.7607239317167\n",
      "3.605551275463989\n"
     ]
    }
   ],
   "source": [
    "import math\n",
    "\n",
    "print(math.sin(33))\n",
    "print(math.cos(33))\n",
    "print(math.radians(33))\n",
    "print(math.degrees(33))\n",
    "print(math.hypot(2, 3))"
   ]
  },
  {
   "cell_type": "code",
   "execution_count": null,
   "id": "a6c4ea66-0579-4430-a7d2-3cc4e7c8a921",
   "metadata": {},
   "outputs": [],
   "source": []
  }
 ],
 "metadata": {
  "kernelspec": {
   "display_name": "Python 3 (ipykernel)",
   "language": "python",
   "name": "python3"
  },
  "language_info": {
   "codemirror_mode": {
    "name": "ipython",
    "version": 3
   },
   "file_extension": ".py",
   "mimetype": "text/x-python",
   "name": "python",
   "nbconvert_exporter": "python",
   "pygments_lexer": "ipython3",
   "version": "3.12.2"
  }
 },
 "nbformat": 4,
 "nbformat_minor": 5
}
