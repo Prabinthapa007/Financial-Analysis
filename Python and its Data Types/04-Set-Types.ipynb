{
 "cells": [
  {
   "cell_type": "markdown",
   "id": "c04e6790-94d9-47f1-8615-5343f2037d15",
   "metadata": {},
   "source": [
    "# Set in Python"
   ]
  },
  {
   "cell_type": "markdown",
   "id": "1a02b6f5-1e11-4b70-8c1e-69f290547653",
   "metadata": {},
   "source": [
    "- A `Set` in Python programming is an unordered collection data type that is iterable, mutable and has no duplicate elements.\n",
    "- A `set` is an unordered collection of unique elements in Python. Sets are mutable, meaning their contents can be changed after they are created. `Sets` are created using curly braces `{}` or the `set()` constructor."
   ]
  },
  {
   "cell_type": "markdown",
   "id": "f8515f4d-7da3-418d-a65c-06762bfdd848",
   "metadata": {},
   "source": [
    "## Creating a Set"
   ]
  },
  {
   "cell_type": "code",
   "execution_count": 3,
   "id": "a1cf5196-03f1-4d9d-ae5a-b58b794ddeee",
   "metadata": {},
   "outputs": [
    {
     "name": "stdout",
     "output_type": "stream",
     "text": [
      "{'Hello', 'Friend'}\n"
     ]
    }
   ],
   "source": [
    "var1 = {\"Hello\", \"Friend\"}\n",
    "print(var1)"
   ]
  },
  {
   "cell_type": "code",
   "execution_count": 4,
   "id": "d4ed560d-e626-40e1-91a8-16fb49b7bc45",
   "metadata": {},
   "outputs": [
    {
     "name": "stdout",
     "output_type": "stream",
     "text": [
      "{1, 2, 3, 4}\n"
     ]
    }
   ],
   "source": [
    "my_set = {1, 2, 3, 4}\n",
    "print(my_set)"
   ]
  },
  {
   "cell_type": "markdown",
   "id": "95ff608e-a598-4bf4-a872-e5a32e44cd96",
   "metadata": {},
   "source": [
    "## Set Operations"
   ]
  },
  {
   "cell_type": "markdown",
   "id": "b9d40c5c-6a21-41e1-9759-869c6d19dab9",
   "metadata": {},
   "source": [
    "Sets in Python support a variety of operations, including union, intersection, difference, and symmetric difference. Here are some examples:"
   ]
  },
  {
   "cell_type": "code",
   "execution_count": 5,
   "id": "85fa9e25-e415-46fd-83c7-8f5d6f5dce65",
   "metadata": {},
   "outputs": [],
   "source": [
    "set1 = {1, 2, 3, 4, 5}\n",
    "set2 = {2, 4, 6, 7}"
   ]
  },
  {
   "cell_type": "code",
   "execution_count": 8,
   "id": "9317c102-30ef-451b-ae4d-61b832322c32",
   "metadata": {},
   "outputs": [
    {
     "name": "stdout",
     "output_type": "stream",
     "text": [
      "{1, 3, 5}\n"
     ]
    }
   ],
   "source": [
    "set3 = set1.difference(set2) # In set1 not in set2 or Only in set1\n",
    "print(set3)"
   ]
  },
  {
   "cell_type": "code",
   "execution_count": 9,
   "id": "2033c378-730d-41bc-92b1-f7bfc49d8bfd",
   "metadata": {},
   "outputs": [
    {
     "name": "stdout",
     "output_type": "stream",
     "text": [
      "{1, 2, 3, 4, 5, 6, 7}\n"
     ]
    }
   ],
   "source": [
    "set4 = set1.union(set2) # Union of two sets\n",
    "print(set4)"
   ]
  },
  {
   "cell_type": "code",
   "execution_count": 11,
   "id": "d856f221-91f4-4ba5-b67f-9aef3cdb0952",
   "metadata": {},
   "outputs": [
    {
     "name": "stdout",
     "output_type": "stream",
     "text": [
      "{2, 4}\n"
     ]
    }
   ],
   "source": [
    "set5 = set1.intersection(set2) # Elements in both\n",
    "print(set5)"
   ]
  },
  {
   "cell_type": "code",
   "execution_count": 13,
   "id": "6ab6dba2-d978-475e-8514-9b521e2840ac",
   "metadata": {},
   "outputs": [
    {
     "name": "stdout",
     "output_type": "stream",
     "text": [
      "{1, 3, 5, 6, 7}\n"
     ]
    }
   ],
   "source": [
    "set6 = set1.symmetric_difference(set2) # Not intersected\n",
    "print(set6)"
   ]
  },
  {
   "cell_type": "markdown",
   "id": "8e8e3998-b04b-4993-a80f-877981c35819",
   "metadata": {},
   "source": [
    "## Modifying Set"
   ]
  },
  {
   "cell_type": "code",
   "execution_count": 14,
   "id": "328cf733-d2de-42ac-8a94-73d578956069",
   "metadata": {},
   "outputs": [
    {
     "data": {
      "text/plain": [
       "['__and__',\n",
       " '__class__',\n",
       " '__class_getitem__',\n",
       " '__contains__',\n",
       " '__delattr__',\n",
       " '__dir__',\n",
       " '__doc__',\n",
       " '__eq__',\n",
       " '__format__',\n",
       " '__ge__',\n",
       " '__getattribute__',\n",
       " '__getstate__',\n",
       " '__gt__',\n",
       " '__hash__',\n",
       " '__iand__',\n",
       " '__init__',\n",
       " '__init_subclass__',\n",
       " '__ior__',\n",
       " '__isub__',\n",
       " '__iter__',\n",
       " '__ixor__',\n",
       " '__le__',\n",
       " '__len__',\n",
       " '__lt__',\n",
       " '__ne__',\n",
       " '__new__',\n",
       " '__or__',\n",
       " '__rand__',\n",
       " '__reduce__',\n",
       " '__reduce_ex__',\n",
       " '__repr__',\n",
       " '__ror__',\n",
       " '__rsub__',\n",
       " '__rxor__',\n",
       " '__setattr__',\n",
       " '__sizeof__',\n",
       " '__str__',\n",
       " '__sub__',\n",
       " '__subclasshook__',\n",
       " '__xor__',\n",
       " 'add',\n",
       " 'clear',\n",
       " 'copy',\n",
       " 'difference',\n",
       " 'difference_update',\n",
       " 'discard',\n",
       " 'intersection',\n",
       " 'intersection_update',\n",
       " 'isdisjoint',\n",
       " 'issubset',\n",
       " 'issuperset',\n",
       " 'pop',\n",
       " 'remove',\n",
       " 'symmetric_difference',\n",
       " 'symmetric_difference_update',\n",
       " 'union',\n",
       " 'update']"
      ]
     },
     "execution_count": 14,
     "metadata": {},
     "output_type": "execute_result"
    }
   ],
   "source": [
    "dir(set())"
   ]
  },
  {
   "cell_type": "code",
   "execution_count": 35,
   "id": "624c8c52-c82e-40e7-b9f7-f7586ee6382b",
   "metadata": {},
   "outputs": [
    {
     "name": "stdout",
     "output_type": "stream",
     "text": [
      "{1, 2, 3, 5, 7, 9}\n"
     ]
    }
   ],
   "source": [
    "my_set = {1, 3, 5, 7, 9}\n",
    "my_set.add(2)\n",
    "print(my_set)"
   ]
  },
  {
   "cell_type": "code",
   "execution_count": 36,
   "id": "6dfbd4a5-b42c-4d13-8508-58a8a4852064",
   "metadata": {},
   "outputs": [
    {
     "name": "stdout",
     "output_type": "stream",
     "text": [
      "{1, 3, 5, 7, 9}\n"
     ]
    }
   ],
   "source": [
    "my_set.remove(2)\n",
    "print(my_set)"
   ]
  },
  {
   "cell_type": "code",
   "execution_count": 37,
   "id": "4d80ff89-8c5d-48a4-91d4-590442b377f9",
   "metadata": {},
   "outputs": [
    {
     "name": "stdout",
     "output_type": "stream",
     "text": [
      "{1, 3, 5, 7, 9}\n"
     ]
    }
   ],
   "source": [
    "my_set.discard(10) # Removes the specified element from a set. If the element does not exist, it will not raise an error\n",
    "print(my_set)"
   ]
  },
  {
   "cell_type": "code",
   "execution_count": 38,
   "id": "7603b612-6d3a-4631-903d-0072ddf8d5fd",
   "metadata": {},
   "outputs": [
    {
     "name": "stdout",
     "output_type": "stream",
     "text": [
      "1\n"
     ]
    }
   ],
   "source": [
    "x = my_set.pop()  #Removes and returns an arbitrary element from a set\n",
    "print(x)"
   ]
  },
  {
   "cell_type": "code",
   "execution_count": 40,
   "id": "2bfa8a1d-3522-4589-ac5d-989b526bb022",
   "metadata": {},
   "outputs": [
    {
     "name": "stdout",
     "output_type": "stream",
     "text": [
      "set()\n"
     ]
    }
   ],
   "source": [
    "my_set.clear()\n",
    "print(my_set)"
   ]
  },
  {
   "cell_type": "code",
   "execution_count": null,
   "id": "13f255b3-d694-462f-873d-6525eb49b9de",
   "metadata": {},
   "outputs": [],
   "source": []
  }
 ],
 "metadata": {
  "kernelspec": {
   "display_name": "Python 3 (ipykernel)",
   "language": "python",
   "name": "python3"
  },
  "language_info": {
   "codemirror_mode": {
    "name": "ipython",
    "version": 3
   },
   "file_extension": ".py",
   "mimetype": "text/x-python",
   "name": "python",
   "nbconvert_exporter": "python",
   "pygments_lexer": "ipython3",
   "version": "3.12.2"
  }
 },
 "nbformat": 4,
 "nbformat_minor": 5
}
