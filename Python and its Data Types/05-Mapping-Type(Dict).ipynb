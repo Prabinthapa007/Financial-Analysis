{
 "cells": [
  {
   "cell_type": "markdown",
   "id": "b5c47d03-1802-46bd-bf6e-9ddbf0ae144e",
   "metadata": {},
   "source": [
    "# Mapping Type"
   ]
  },
  {
   "cell_type": "markdown",
   "id": "ecf2cd4e-377c-4d62-87d6-0a360c9d0d93",
   "metadata": {},
   "source": [
    "Mapping Types are popularly known as dictionaries in python represented by `dict` keyword. In Python, dict is a built-in type that represents a collection of key-value pairs. It is also known as a dictionary or associative array in other programming languages.\n",
    "\n",
    "A dictionary is an unordered collection of elements where each element is a pair consisting of a key and a value. The key is used to index and uniquely identify the value in the dictionary.\n",
    "\n",
    "Here are some key features of Python dictionaries:\n",
    "- Dictionaries are unordered, meaning that the order of elements is not guaranteed.\n",
    "- Keys must be unique and immutable, while values can be of any data type, including other dictionaries (nested dictionaries)\n",
    "- Dictionary elements are accessed using the keys, rather than the index as in a list or tuple.\n",
    "- Dictionaries are mutable, meaning you can add, delete, or modify elements after the dictionary has been created."
   ]
  },
  {
   "cell_type": "markdown",
   "id": "a3ed59c4-7091-4e7a-8237-0029d16cdf62",
   "metadata": {},
   "source": [
    "## Creating a Dictionary\n",
    "You can create a dictionary by enclosing key-value pairs in curly braces `{}` or by using the `dict()` constructor."
   ]
  },
  {
   "cell_type": "code",
   "execution_count": 2,
   "id": "964b4f40-cf50-42a2-bbc7-3758bedd2557",
   "metadata": {},
   "outputs": [
    {
     "name": "stdout",
     "output_type": "stream",
     "text": [
      "{'name': 'Prabin', 'age': 20, 'city': 'New York'}\n",
      "<class 'dict'>\n"
     ]
    }
   ],
   "source": [
    "person = {\"name\" : \"Prabin\", \"age\":20, \"city\":\"New York\"}\n",
    "print(person)\n",
    "print(type(person))"
   ]
  },
  {
   "cell_type": "code",
   "execution_count": 3,
   "id": "3e4a5d4d-7195-4e60-941b-31c722b6c4d3",
   "metadata": {},
   "outputs": [
    {
     "name": "stdout",
     "output_type": "stream",
     "text": [
      "{'name': 'Sushma', 'age': 25, 'city': 'New York'}\n"
     ]
    }
   ],
   "source": [
    "person = dict(name= \"Sushma\", age=25, city=\"New York\")\n",
    "print(person)"
   ]
  },
  {
   "cell_type": "markdown",
   "id": "c6c969e8-6bcb-467e-88bd-cd97bdd3c66d",
   "metadata": {},
   "source": [
    "## Accessing Elements"
   ]
  },
  {
   "cell_type": "markdown",
   "id": "f8e6786a-a580-4c1f-aa82-59701584b9b7",
   "metadata": {},
   "source": [
    "You can access the value of a dictionary element by specifying the key inside square brackets `[]`. If you try to access a key that doesn't exist, Python will raise a `KeyError exception`. You can avoid this by using the `get()` method, which returns None (or a default value you provide) instead of raising an exception."
   ]
  },
  {
   "cell_type": "code",
   "execution_count": 4,
   "id": "a68a8049-5cbb-4b4b-8dbb-7df9f0e06d31",
   "metadata": {},
   "outputs": [
    {
     "name": "stdout",
     "output_type": "stream",
     "text": [
      "Prabin\n"
     ]
    }
   ],
   "source": [
    "person = {\"name\" : \"Prabin\", \"age\":20, \"city\":\"New York\"}\n",
    "print(person['name'])"
   ]
  },
  {
   "cell_type": "code",
   "execution_count": 5,
   "id": "830d022b-aad5-4676-ad70-43f5ce5ceaea",
   "metadata": {},
   "outputs": [
    {
     "name": "stdout",
     "output_type": "stream",
     "text": [
      "20\n"
     ]
    }
   ],
   "source": [
    "print(person[\"age\"])"
   ]
  },
  {
   "cell_type": "code",
   "execution_count": 8,
   "id": "4a0d2bb6-62a6-4848-89b2-d3210b3432a6",
   "metadata": {},
   "outputs": [
    {
     "data": {
      "text/plain": [
       "['__class__',\n",
       " '__class_getitem__',\n",
       " '__contains__',\n",
       " '__delattr__',\n",
       " '__delitem__',\n",
       " '__dir__',\n",
       " '__doc__',\n",
       " '__eq__',\n",
       " '__format__',\n",
       " '__ge__',\n",
       " '__getattribute__',\n",
       " '__getitem__',\n",
       " '__getstate__',\n",
       " '__gt__',\n",
       " '__hash__',\n",
       " '__init__',\n",
       " '__init_subclass__',\n",
       " '__ior__',\n",
       " '__iter__',\n",
       " '__le__',\n",
       " '__len__',\n",
       " '__lt__',\n",
       " '__ne__',\n",
       " '__new__',\n",
       " '__or__',\n",
       " '__reduce__',\n",
       " '__reduce_ex__',\n",
       " '__repr__',\n",
       " '__reversed__',\n",
       " '__ror__',\n",
       " '__setattr__',\n",
       " '__setitem__',\n",
       " '__sizeof__',\n",
       " '__str__',\n",
       " '__subclasshook__',\n",
       " 'clear',\n",
       " 'copy',\n",
       " 'fromkeys',\n",
       " 'get',\n",
       " 'items',\n",
       " 'keys',\n",
       " 'pop',\n",
       " 'popitem',\n",
       " 'setdefault',\n",
       " 'update',\n",
       " 'values']"
      ]
     },
     "execution_count": 8,
     "metadata": {},
     "output_type": "execute_result"
    }
   ],
   "source": [
    "dir(dict())"
   ]
  },
  {
   "cell_type": "markdown",
   "id": "4a3567c6-9c32-4504-b417-0488a938bf58",
   "metadata": {},
   "source": [
    "## Modifying Elements"
   ]
  },
  {
   "cell_type": "code",
   "execution_count": 10,
   "id": "3de81d58-50d7-40fa-b394-06a41303a55e",
   "metadata": {},
   "outputs": [
    {
     "name": "stdout",
     "output_type": "stream",
     "text": [
      "{'name': 'John', 'age': 25, 'city': 'New York'}\n",
      "{'name': 'John', 'age': 25, 'city': 'New York', 'gender': 'male'}\n",
      "{'name': 'John', 'age': 25, 'gender': 'male'}\n"
     ]
    }
   ],
   "source": [
    "person = {\"name\": \"John\", \"age\": 30, \"city\": \"New York\"}\n",
    "person[\"age\"] = 25\n",
    "print(person)\n",
    "\n",
    "person[\"gender\"] = \"male\" #Adding element in dictionary\n",
    "print(person)\n",
    "\n",
    "del person[\"city\"] # Deleting Element from Dictionary\n",
    "print(person)"
   ]
  },
  {
   "cell_type": "markdown",
   "id": "171324d0-fe2e-4f4a-96dd-8bd7db869f47",
   "metadata": {},
   "source": [
    "## Dictionary Methods\n",
    "Some commonly used methods in Python dictionaries are `keys()`, `values()`, `items()`, `pop()`, `copy()`, `clear()`."
   ]
  },
  {
   "cell_type": "code",
   "execution_count": 11,
   "id": "9b1ce158-5435-4243-b999-585a7491f654",
   "metadata": {},
   "outputs": [
    {
     "name": "stdout",
     "output_type": "stream",
     "text": [
      "dict_keys(['name', 'age', 'city'])\n",
      "dict_values(['John', 30, 'New York'])\n",
      "dict_items([('name', 'John'), ('age', 30), ('city', 'New York')])\n",
      "30\n",
      "{'name': 'John', 'city': 'New York'}\n",
      "New York\n"
     ]
    }
   ],
   "source": [
    "person = {\"name\": \"John\", \"age\": 30, \"city\": \"New York\"}\n",
    "\n",
    "print(person.keys())  # Returns a view object that contains keys of the dictionary\n",
    "print(person.values())  # Returns a view object that contains values of the dictionary\n",
    "print(person.items())  # Returns a view object that contains key-value pairs of the dictionary as tuples\n",
    "\n",
    "age = person.pop('age')  # Removes the key-value pair with the given key and returns the value\n",
    "print(age)               # If the key is not found, a KeyError exception is raised.\n",
    "print(person)\n",
    "\n",
    "city = person.pop(\"city\", \"NYC\")  # Providing a default value avoids the KeyError\n",
    "print(city)"
   ]
  },
  {
   "cell_type": "markdown",
   "id": "73f3165d-0684-422f-abd6-cc38b8947b69",
   "metadata": {},
   "source": [
    "\n",
    "You can use the `pop()` method to remove and get the value of a key in a single operation. If you don't need the value, you can use the `del` statement to remove the key-value pair as done earlier.\n",
    "\n",
    "We can also sort the dictionary elements both by dictionary keys and values using `sorted()` method. Let's see how we can do it for real:"
   ]
  },
  {
   "cell_type": "code",
   "execution_count": 13,
   "id": "5bca90de-83f9-4801-9fdf-8ca45810cb4a",
   "metadata": {},
   "outputs": [
    {
     "name": "stdout",
     "output_type": "stream",
     "text": [
      "{'age': '22', 'city': 'New York', 'name': 'John'}\n",
      "{'age': '22', 'name': 'John', 'city': 'New York'}\n"
     ]
    }
   ],
   "source": [
    "person = {\"name\":\"John\", \"age\":\"22\", \"city\":\"New York\"}\n",
    "\n",
    "key_sorted = dict(sorted(person.items(), key=lambda item: item[0])) # Sort by Key\n",
    "print(key_sorted)\n",
    "\n",
    "value_sorted = dict(sorted(person.items(), key=lambda item: item[1])) # Sort by Value\n",
    "print(value_sorted)"
   ]
  },
  {
   "cell_type": "code",
   "execution_count": null,
   "id": "f3ceba10-e9bc-4b64-b67a-07920b0d4bce",
   "metadata": {},
   "outputs": [],
   "source": []
  }
 ],
 "metadata": {
  "kernelspec": {
   "display_name": "Python 3 (ipykernel)",
   "language": "python",
   "name": "python3"
  },
  "language_info": {
   "codemirror_mode": {
    "name": "ipython",
    "version": 3
   },
   "file_extension": ".py",
   "mimetype": "text/x-python",
   "name": "python",
   "nbconvert_exporter": "python",
   "pygments_lexer": "ipython3",
   "version": "3.12.2"
  }
 },
 "nbformat": 4,
 "nbformat_minor": 5
}
