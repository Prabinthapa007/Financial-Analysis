{
 "cells": [
  {
   "cell_type": "markdown",
   "id": "a037c756-41d8-417e-9140-236363f4c8b7",
   "metadata": {},
   "source": [
    "# Python Control Statements"
   ]
  },
  {
   "cell_type": "markdown",
   "id": "39e1369c-846c-4f92-a026-02dfb9e9b029",
   "metadata": {},
   "source": [
    "Python control statements\n",
    "\n",
    "- direct the flow of execution in a program,\n",
    "- allowing for conditional execution,\n",
    "- repeated execution, and\n",
    "- the selection among different paths."
   ]
  },
  {
   "cell_type": "markdown",
   "id": "fafd02cd-7f7d-431a-8ccb-2a43d51f06dc",
   "metadata": {},
   "source": [
    "##### Python control statements"
   ]
  },
  {
   "cell_type": "markdown",
   "id": "b33d6851-a3aa-4254-b192-2433a8dcd305",
   "metadata": {},
   "source": [
    "- Conditional Statements: if, elif, else\n",
    "- Loop Statements: for, while\n",
    "- Comprehensions: list, dictionary, set"
   ]
  },
  {
   "cell_type": "markdown",
   "id": "6de6048a-7132-4926-b5e8-46f63ebf6eb2",
   "metadata": {},
   "source": [
    "## 01. Conditional Statements"
   ]
  },
  {
   "cell_type": "markdown",
   "id": "98b132df-e88a-4f70-80a9-7ee5be19b7e8",
   "metadata": {},
   "source": [
    "### Python Conditional statements\n",
    "The `if` statement is used in Python to check whether a condition is `True` or `False`, and then perform an action based on that condition. The basic syntax of the `if` statement is as follows:\n",
    "\n",
    "```python\n",
    "if condition:\n",
    "    do something\n",
    "```\n",
    "The `condition` is an expression that returns a boolean value (True or False). If the condition is `True`, then the code block that follows the `if` statement is executed. If the condition is `False`, then the code block is skipped.\n",
    "\n",
    "Here is an example of how to use the `if` statement in Python:"
   ]
  },
  {
   "cell_type": "code",
   "execution_count": null,
   "id": "3d090917-2c02-4c71-8178-53393789d334",
   "metadata": {},
   "outputs": [],
   "source": []
  },
  {
   "cell_type": "code",
   "execution_count": null,
   "id": "ab78eea1-c2f5-429a-a904-899f088d379e",
   "metadata": {},
   "outputs": [],
   "source": []
  },
  {
   "cell_type": "code",
   "execution_count": null,
   "id": "cebfccb5-627c-47c8-a608-1382be3b6d10",
   "metadata": {},
   "outputs": [],
   "source": []
  },
  {
   "cell_type": "code",
   "execution_count": null,
   "id": "ca7b0645-bcc1-4369-9b80-ed3b116d0495",
   "metadata": {},
   "outputs": [],
   "source": []
  },
  {
   "cell_type": "code",
   "execution_count": null,
   "id": "4af9862b-39b1-4e76-a25b-4d1891808915",
   "metadata": {},
   "outputs": [],
   "source": []
  },
  {
   "cell_type": "code",
   "execution_count": null,
   "id": "91c4c3e2-b14d-4b0e-8581-d66206b0b4f8",
   "metadata": {},
   "outputs": [],
   "source": []
  },
  {
   "cell_type": "code",
   "execution_count": null,
   "id": "664a739a-05b2-429f-b890-1c3d21117ff5",
   "metadata": {},
   "outputs": [],
   "source": []
  },
  {
   "cell_type": "code",
   "execution_count": null,
   "id": "4324b1af-f35f-4925-92c8-adddf80d05af",
   "metadata": {},
   "outputs": [],
   "source": []
  },
  {
   "cell_type": "code",
   "execution_count": null,
   "id": "746681c9-0eb9-49e2-89ce-c273c429cd9e",
   "metadata": {},
   "outputs": [],
   "source": []
  },
  {
   "cell_type": "code",
   "execution_count": null,
   "id": "d8ba84d6-9192-419d-a3ec-eacd721805e5",
   "metadata": {},
   "outputs": [],
   "source": []
  },
  {
   "cell_type": "code",
   "execution_count": null,
   "id": "6ae09542-f315-447e-96b8-1d1db7a85b90",
   "metadata": {},
   "outputs": [],
   "source": []
  },
  {
   "cell_type": "code",
   "execution_count": null,
   "id": "cbdd8b7f-e97e-41d7-8ac8-3497b9a9eaed",
   "metadata": {},
   "outputs": [],
   "source": []
  },
  {
   "cell_type": "code",
   "execution_count": null,
   "id": "14565dd7-ab88-49b4-a759-db8d20deec28",
   "metadata": {},
   "outputs": [],
   "source": []
  },
  {
   "cell_type": "code",
   "execution_count": null,
   "id": "3867a83d-dffd-426d-8a89-8895a8b9f76f",
   "metadata": {},
   "outputs": [],
   "source": []
  },
  {
   "cell_type": "code",
   "execution_count": null,
   "id": "75a60286-5c9a-4ee8-8c34-668c1b8587a5",
   "metadata": {},
   "outputs": [],
   "source": []
  },
  {
   "cell_type": "code",
   "execution_count": null,
   "id": "6f45cb45-a8fb-407e-9c78-96b178a88687",
   "metadata": {},
   "outputs": [],
   "source": []
  },
  {
   "cell_type": "markdown",
   "id": "43f9685d-e20c-4ad0-a87b-fa6df3934c6d",
   "metadata": {},
   "source": [
    "## Python Loop Statements"
   ]
  },
  {
   "cell_type": "markdown",
   "id": "8e6451a5-6c35-4551-81f4-2619e7036b4c",
   "metadata": {},
   "source": [
    "In Python, loops are used to execute a block of code repeatedly. There are two types of loops in Python: for loops and while Loop"
   ]
  },
  {
   "cell_type": "markdown",
   "id": "671347df-2961-4916-8d31-bc0823dcd8be",
   "metadata": {},
   "source": [
    "## 1. Python For Loop\n",
    "\n",
    "The for loop is used in Python to iterate over a sequence of values, such as a list, tuple, string, or range. The basic syntax of a for loop is as follows:\r",
    "```python\n",
    "for variable in sequence:\n",
    "    do something\n",
    "\n",
    "```\n",
    " \n",
    " \n",
    "The new variable that is created with each iteration of the loop, and takes on the value of the next element in the sequence. The code block that follows the for statement is executed for each value in the sequence.\r\n",
    "\r\n",
    "Here's an example of how to use the for loop to iterate over a list:"
   ]
  },
  {
   "cell_type": "code",
   "execution_count": 1,
   "id": "a2e4f93e-6127-49be-9494-afb745eca3ba",
   "metadata": {},
   "outputs": [
    {
     "name": "stdout",
     "output_type": "stream",
     "text": [
      "apple\n",
      "banana\n",
      "cherry\n",
      "pineapple\n"
     ]
    }
   ],
   "source": [
    "fruits = ['apple', 'banana', 'cherry', 'pineapple']\n",
    "for fruit in fruits:\n",
    "    print(fruit)"
   ]
  },
  {
   "cell_type": "markdown",
   "id": "00140192-9a26-45d4-a6bb-07602d0cf739",
   "metadata": {},
   "source": [
    "In this example, the `for` loop iterates over each element in the `fruits` list, and assigns the value of each element to the `fruit` variable. The code block that follows the `for` statement (which is just a print statement in this case) is executed for each element in the list.\n",
    "\n",
    "The `range` function is commonly used in `for` loops to generate a sequence of integers. Here's an example:"
   ]
  },
  {
   "cell_type": "code",
   "execution_count": 2,
   "id": "97f16e86-3415-46f5-bbf8-39283caf0af2",
   "metadata": {},
   "outputs": [
    {
     "name": "stdout",
     "output_type": "stream",
     "text": [
      "0\n",
      "1\n",
      "2\n",
      "3\n",
      "4\n"
     ]
    }
   ],
   "source": [
    "#Example:\n",
    "for i in range(5):\n",
    "    print(i)"
   ]
  },
  {
   "cell_type": "markdown",
   "id": "b39da03e-4d59-46c7-acfc-876ab0f8560c",
   "metadata": {},
   "source": [
    "In this example, the for loop iterates over the sequence of integers generated by the range(5) function (which generates the sequence 0, 1, 2, 3, 4). The i variable takes on the value of each integer in the sequence, and the code block that follows the for statement is executed for each integer.\n",
    "\n",
    "Nested for loops can also be used to iterate over multiple sequences. Here's an example:"
   ]
  }
 ],
 "metadata": {
  "kernelspec": {
   "display_name": "Python 3 (ipykernel)",
   "language": "python",
   "name": "python3"
  },
  "language_info": {
   "codemirror_mode": {
    "name": "ipython",
    "version": 3
   },
   "file_extension": ".py",
   "mimetype": "text/x-python",
   "name": "python",
   "nbconvert_exporter": "python",
   "pygments_lexer": "ipython3",
   "version": "3.12.2"
  }
 },
 "nbformat": 4,
 "nbformat_minor": 5
}
